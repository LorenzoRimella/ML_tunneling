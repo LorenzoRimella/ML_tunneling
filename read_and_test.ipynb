{
 "cells": [
  {
   "cell_type": "code",
   "execution_count": 51,
   "metadata": {},
   "outputs": [],
   "source": [
    "from sklearn.model_selection import train_test_split"
   ]
  },
  {
   "cell_type": "code",
   "execution_count": 52,
   "metadata": {},
   "outputs": [],
   "source": [
    "import pandas as pd\n",
    "import numpy as np"
   ]
  },
  {
   "cell_type": "code",
   "execution_count": 53,
   "metadata": {},
   "outputs": [],
   "source": [
    "data = pd.read_excel(\"../data/Training_Dataset_2.xlsx\")\n",
    "\n",
    "data = data.values[:,1:]\n",
    "\n",
    "X = data[:,:-1].astype(float)\n",
    "mu = np.mean(X, axis = 0)\n",
    "std = np.std(X, axis = 0)\n",
    "X = (X - mu)/std\n",
    "\n",
    "y = data[:,-1]"
   ]
  },
  {
   "cell_type": "code",
   "execution_count": 54,
   "metadata": {},
   "outputs": [],
   "source": [
    "y = np.where(y==\"E\",      np.zeros(y.shape), y)\n",
    "y = np.where(y==\"L\",  1 + np.zeros(y.shape), y)\n",
    "y = np.where(y==\"L \", 1 + np.zeros(y.shape), y)\n",
    "y = np.where(y==\"R\",  2 + np.zeros(y.shape), y)\n",
    "y = np.where(y==\"S\",  3 + np.zeros(y.shape), y)\n",
    "y = np.where(y==\"W\",  4 + np.zeros(y.shape), y)\n",
    "\n",
    "y = y.astype(int)"
   ]
  },
  {
   "cell_type": "code",
   "execution_count": 55,
   "metadata": {},
   "outputs": [],
   "source": [
    "X_train, X_test, y_train, y_test = train_test_split(X, y, test_size=0.3, random_state=42)"
   ]
  },
  {
   "cell_type": "markdown",
   "metadata": {},
   "source": [
    "# LGBM Classifier"
   ]
  },
  {
   "cell_type": "code",
   "execution_count": 56,
   "metadata": {},
   "outputs": [],
   "source": [
    "from lightgbm import LGBMClassifier\n",
    "from sklearn.metrics import accuracy_score"
   ]
  },
  {
   "cell_type": "code",
   "execution_count": 57,
   "metadata": {},
   "outputs": [
    {
     "name": "stdout",
     "output_type": "stream",
     "text": [
      "[LightGBM] [Info] Auto-choosing col-wise multi-threading, the overhead of testing was 0.000232 seconds.\n",
      "You can set `force_col_wise=true` to remove the overhead.\n",
      "[LightGBM] [Info] Total Bins 2295\n",
      "[LightGBM] [Info] Number of data points in the train set: 4531, number of used features: 9\n",
      "[LightGBM] [Info] Start training from score -1.032227\n",
      "[LightGBM] [Info] Start training from score -1.278245\n",
      "[LightGBM] [Info] Start training from score -3.277034\n",
      "[LightGBM] [Info] Start training from score -1.595412\n",
      "[LightGBM] [Info] Start training from score -2.081872\n",
      "#####################\n",
      "booster  gbdt\n",
      "n_estimators  25\n",
      "learning rate  0.01\n",
      "max_depth  5\n",
      "lambda  0.0\n",
      "num_leaves  10\n",
      "0.7590113285272915\n",
      "[LightGBM] [Info] Auto-choosing col-wise multi-threading, the overhead of testing was 0.000236 seconds.\n",
      "You can set `force_col_wise=true` to remove the overhead.\n",
      "[LightGBM] [Info] Total Bins 2295\n",
      "[LightGBM] [Info] Number of data points in the train set: 4531, number of used features: 9\n",
      "[LightGBM] [Info] Start training from score -1.032227\n",
      "[LightGBM] [Info] Start training from score -1.278245\n",
      "[LightGBM] [Info] Start training from score -3.277034\n",
      "[LightGBM] [Info] Start training from score -1.595412\n",
      "[LightGBM] [Info] Start training from score -2.081872\n",
      "#####################\n",
      "booster  gbdt\n",
      "n_estimators  25\n",
      "learning rate  0.01\n",
      "max_depth  5\n",
      "lambda  1.0\n",
      "num_leaves  10\n",
      "0.7662203913491246\n",
      "[LightGBM] [Info] Auto-choosing col-wise multi-threading, the overhead of testing was 0.000214 seconds.\n",
      "You can set `force_col_wise=true` to remove the overhead.\n",
      "[LightGBM] [Info] Total Bins 2295\n",
      "[LightGBM] [Info] Number of data points in the train set: 4531, number of used features: 9\n",
      "[LightGBM] [Info] Start training from score -1.032227\n",
      "[LightGBM] [Info] Start training from score -1.278245\n",
      "[LightGBM] [Info] Start training from score -3.277034\n",
      "[LightGBM] [Info] Start training from score -1.595412\n",
      "[LightGBM] [Info] Start training from score -2.081872\n",
      "[LightGBM] [Warning] No further splits with positive gain, best gain: -inf\n",
      "[LightGBM] [Warning] No further splits with positive gain, best gain: -inf\n",
      "[LightGBM] [Warning] No further splits with positive gain, best gain: -inf\n",
      "[LightGBM] [Warning] No further splits with positive gain, best gain: -inf\n",
      "[LightGBM] [Warning] No further splits with positive gain, best gain: -inf\n",
      "[LightGBM] [Warning] No further splits with positive gain, best gain: -inf\n",
      "[LightGBM] [Warning] No further splits with positive gain, best gain: -inf\n",
      "[LightGBM] [Warning] No further splits with positive gain, best gain: -inf\n",
      "[LightGBM] [Warning] No further splits with positive gain, best gain: -inf\n",
      "[LightGBM] [Warning] No further splits with positive gain, best gain: -inf\n"
     ]
    },
    {
     "name": "stdout",
     "output_type": "stream",
     "text": [
      "#####################\n",
      "booster  gbdt\n",
      "n_estimators  25\n",
      "learning rate  0.01\n",
      "max_depth  5\n",
      "lambda  5.0\n",
      "num_leaves  10\n",
      "0.6992790937178167\n",
      "[LightGBM] [Info] Auto-choosing col-wise multi-threading, the overhead of testing was 0.000284 seconds.\n",
      "You can set `force_col_wise=true` to remove the overhead.\n",
      "[LightGBM] [Info] Total Bins 2295\n",
      "[LightGBM] [Info] Number of data points in the train set: 4531, number of used features: 9\n",
      "[LightGBM] [Info] Start training from score -1.032227\n",
      "[LightGBM] [Info] Start training from score -1.278245\n",
      "[LightGBM] [Info] Start training from score -3.277034\n",
      "[LightGBM] [Info] Start training from score -1.595412\n",
      "[LightGBM] [Info] Start training from score -2.081872\n",
      "#####################\n",
      "booster  gbdt\n",
      "n_estimators  25\n",
      "learning rate  0.01\n",
      "max_depth  10\n",
      "lambda  0.0\n",
      "num_leaves  10\n",
      "0.8022657054582905\n",
      "[LightGBM] [Info] Auto-choosing col-wise multi-threading, the overhead of testing was 0.000431 seconds.\n",
      "You can set `force_col_wise=true` to remove the overhead.\n",
      "[LightGBM] [Info] Total Bins 2295\n",
      "[LightGBM] [Info] Number of data points in the train set: 4531, number of used features: 9\n",
      "[LightGBM] [Info] Start training from score -1.032227\n",
      "[LightGBM] [Info] Start training from score -1.278245\n",
      "[LightGBM] [Info] Start training from score -3.277034\n",
      "[LightGBM] [Info] Start training from score -1.595412\n",
      "[LightGBM] [Info] Start training from score -2.081872\n",
      "#####################\n",
      "booster  gbdt\n",
      "n_estimators  25\n",
      "learning rate  0.01\n",
      "max_depth  10\n",
      "lambda  1.0\n",
      "num_leaves  10\n",
      "0.8012358393408857\n",
      "[LightGBM] [Info] Auto-choosing col-wise multi-threading, the overhead of testing was 0.000353 seconds.\n",
      "You can set `force_col_wise=true` to remove the overhead.\n",
      "[LightGBM] [Info] Total Bins 2295\n",
      "[LightGBM] [Info] Number of data points in the train set: 4531, number of used features: 9\n",
      "[LightGBM] [Info] Start training from score -1.032227\n",
      "[LightGBM] [Info] Start training from score -1.278245\n",
      "[LightGBM] [Info] Start training from score -3.277034\n",
      "[LightGBM] [Info] Start training from score -1.595412\n",
      "[LightGBM] [Info] Start training from score -2.081872\n",
      "#####################\n",
      "booster  gbdt\n",
      "n_estimators  25\n",
      "learning rate  0.01\n",
      "max_depth  10\n",
      "lambda  5.0\n",
      "num_leaves  10\n",
      "0.7183316168898043\n",
      "[LightGBM] [Info] Auto-choosing col-wise multi-threading, the overhead of testing was 0.000223 seconds.\n",
      "You can set `force_col_wise=true` to remove the overhead.\n",
      "[LightGBM] [Info] Total Bins 2295\n",
      "[LightGBM] [Info] Number of data points in the train set: 4531, number of used features: 9\n",
      "[LightGBM] [Info] Start training from score -1.032227\n",
      "[LightGBM] [Info] Start training from score -1.278245\n",
      "[LightGBM] [Info] Start training from score -3.277034\n",
      "[LightGBM] [Info] Start training from score -1.595412\n",
      "[LightGBM] [Info] Start training from score -2.081872\n",
      "#####################\n",
      "booster  gbdt\n",
      "n_estimators  25\n",
      "learning rate  0.01\n",
      "max_depth  20\n",
      "lambda  0.0\n",
      "num_leaves  10\n",
      "0.8022657054582905\n",
      "[LightGBM] [Info] Auto-choosing col-wise multi-threading, the overhead of testing was 0.000857 seconds.\n",
      "You can set `force_col_wise=true` to remove the overhead.\n",
      "[LightGBM] [Info] Total Bins 2295\n",
      "[LightGBM] [Info] Number of data points in the train set: 4531, number of used features: 9\n",
      "[LightGBM] [Info] Start training from score -1.032227\n",
      "[LightGBM] [Info] Start training from score -1.278245\n",
      "[LightGBM] [Info] Start training from score -3.277034\n",
      "[LightGBM] [Info] Start training from score -1.595412\n",
      "[LightGBM] [Info] Start training from score -2.081872\n",
      "#####################\n",
      "booster  gbdt\n",
      "n_estimators  25\n",
      "learning rate  0.01\n",
      "max_depth  20\n",
      "lambda  1.0\n",
      "num_leaves  10\n",
      "0.8012358393408857\n",
      "[LightGBM] [Info] Auto-choosing col-wise multi-threading, the overhead of testing was 0.000745 seconds.\n",
      "You can set `force_col_wise=true` to remove the overhead.\n",
      "[LightGBM] [Info] Total Bins 2295\n",
      "[LightGBM] [Info] Number of data points in the train set: 4531, number of used features: 9\n",
      "[LightGBM] [Info] Start training from score -1.032227\n",
      "[LightGBM] [Info] Start training from score -1.278245\n",
      "[LightGBM] [Info] Start training from score -3.277034\n",
      "[LightGBM] [Info] Start training from score -1.595412\n",
      "[LightGBM] [Info] Start training from score -2.081872\n"
     ]
    },
    {
     "ename": "KeyboardInterrupt",
     "evalue": "",
     "output_type": "error",
     "traceback": [
      "\u001b[1;31m---------------------------------------------------------------------------\u001b[0m",
      "\u001b[1;31mKeyboardInterrupt\u001b[0m                         Traceback (most recent call last)",
      "\u001b[1;32md:\\PythonDir\\Postdoc\\nico\\ML_tunneling\\read_and_test.ipynb Cell 8\u001b[0m line \u001b[0;36m2\n\u001b[0;32m     <a href='vscode-notebook-cell:/d%3A/PythonDir/Postdoc/nico/ML_tunneling/read_and_test.ipynb#X25sZmlsZQ%3D%3D?line=18'>19</a>\u001b[0m \u001b[39mfor\u001b[39;00m i6 \u001b[39min\u001b[39;00m \u001b[39mrange\u001b[39m(\u001b[39mlen\u001b[39m(boosting_type_list)):\n\u001b[0;32m     <a href='vscode-notebook-cell:/d%3A/PythonDir/Postdoc/nico/ML_tunneling/read_and_test.ipynb#X25sZmlsZQ%3D%3D?line=20'>21</a>\u001b[0m             clf \u001b[39m=\u001b[39m LGBMClassifier(num_leaves \u001b[39m=\u001b[39m num_leaves_list[i1], \n\u001b[0;32m     <a href='vscode-notebook-cell:/d%3A/PythonDir/Postdoc/nico/ML_tunneling/read_and_test.ipynb#X25sZmlsZQ%3D%3D?line=21'>22</a>\u001b[0m                                 n_estimators \u001b[39m=\u001b[39m n_estimators_list[i2], \n\u001b[0;32m     <a href='vscode-notebook-cell:/d%3A/PythonDir/Postdoc/nico/ML_tunneling/read_and_test.ipynb#X25sZmlsZQ%3D%3D?line=22'>23</a>\u001b[0m                                 learning_rate \u001b[39m=\u001b[39m learning_rate_list[i3], \n\u001b[1;32m   (...)\u001b[0m\n\u001b[0;32m     <a href='vscode-notebook-cell:/d%3A/PythonDir/Postdoc/nico/ML_tunneling/read_and_test.ipynb#X25sZmlsZQ%3D%3D?line=25'>26</a>\u001b[0m                                 boosting_type \u001b[39m=\u001b[39m boosting_type_list[i6],   \n\u001b[0;32m     <a href='vscode-notebook-cell:/d%3A/PythonDir/Postdoc/nico/ML_tunneling/read_and_test.ipynb#X25sZmlsZQ%3D%3D?line=26'>27</a>\u001b[0m                                 random_state\u001b[39m=\u001b[39m\u001b[39m42\u001b[39m)\n\u001b[1;32m---> <a href='vscode-notebook-cell:/d%3A/PythonDir/Postdoc/nico/ML_tunneling/read_and_test.ipynb#X25sZmlsZQ%3D%3D?line=28'>29</a>\u001b[0m             model \u001b[39m=\u001b[39m clf\u001b[39m.\u001b[39;49mfit(X_train, y_train)\n\u001b[0;32m     <a href='vscode-notebook-cell:/d%3A/PythonDir/Postdoc/nico/ML_tunneling/read_and_test.ipynb#X25sZmlsZQ%3D%3D?line=30'>31</a>\u001b[0m             \u001b[39m# Predict the labels for the test set\u001b[39;00m\n\u001b[0;32m     <a href='vscode-notebook-cell:/d%3A/PythonDir/Postdoc/nico/ML_tunneling/read_and_test.ipynb#X25sZmlsZQ%3D%3D?line=31'>32</a>\u001b[0m             y_pred \u001b[39m=\u001b[39m model\u001b[39m.\u001b[39mpredict(X_test)\n",
      "File \u001b[1;32mc:\\Users\\loren\\anaconda3\\envs\\TensorFlow\\lib\\site-packages\\lightgbm\\sklearn.py:1187\u001b[0m, in \u001b[0;36mLGBMClassifier.fit\u001b[1;34m(self, X, y, sample_weight, init_score, eval_set, eval_names, eval_sample_weight, eval_class_weight, eval_init_score, eval_metric, feature_name, categorical_feature, callbacks, init_model)\u001b[0m\n\u001b[0;32m   1184\u001b[0m         \u001b[39melse\u001b[39;00m:\n\u001b[0;32m   1185\u001b[0m             valid_sets\u001b[39m.\u001b[39mappend((valid_x, \u001b[39mself\u001b[39m\u001b[39m.\u001b[39m_le\u001b[39m.\u001b[39mtransform(valid_y)))\n\u001b[1;32m-> 1187\u001b[0m \u001b[39msuper\u001b[39;49m()\u001b[39m.\u001b[39;49mfit(\n\u001b[0;32m   1188\u001b[0m     X,\n\u001b[0;32m   1189\u001b[0m     _y,\n\u001b[0;32m   1190\u001b[0m     sample_weight\u001b[39m=\u001b[39;49msample_weight,\n\u001b[0;32m   1191\u001b[0m     init_score\u001b[39m=\u001b[39;49minit_score,\n\u001b[0;32m   1192\u001b[0m     eval_set\u001b[39m=\u001b[39;49mvalid_sets,\n\u001b[0;32m   1193\u001b[0m     eval_names\u001b[39m=\u001b[39;49meval_names,\n\u001b[0;32m   1194\u001b[0m     eval_sample_weight\u001b[39m=\u001b[39;49meval_sample_weight,\n\u001b[0;32m   1195\u001b[0m     eval_class_weight\u001b[39m=\u001b[39;49meval_class_weight,\n\u001b[0;32m   1196\u001b[0m     eval_init_score\u001b[39m=\u001b[39;49meval_init_score,\n\u001b[0;32m   1197\u001b[0m     eval_metric\u001b[39m=\u001b[39;49meval_metric,\n\u001b[0;32m   1198\u001b[0m     feature_name\u001b[39m=\u001b[39;49mfeature_name,\n\u001b[0;32m   1199\u001b[0m     categorical_feature\u001b[39m=\u001b[39;49mcategorical_feature,\n\u001b[0;32m   1200\u001b[0m     callbacks\u001b[39m=\u001b[39;49mcallbacks,\n\u001b[0;32m   1201\u001b[0m     init_model\u001b[39m=\u001b[39;49minit_model\n\u001b[0;32m   1202\u001b[0m )\n\u001b[0;32m   1203\u001b[0m \u001b[39mreturn\u001b[39;00m \u001b[39mself\u001b[39m\n",
      "File \u001b[1;32mc:\\Users\\loren\\anaconda3\\envs\\TensorFlow\\lib\\site-packages\\lightgbm\\sklearn.py:885\u001b[0m, in \u001b[0;36mLGBMModel.fit\u001b[1;34m(self, X, y, sample_weight, init_score, group, eval_set, eval_names, eval_sample_weight, eval_class_weight, eval_init_score, eval_group, eval_metric, feature_name, categorical_feature, callbacks, init_model)\u001b[0m\n\u001b[0;32m    882\u001b[0m evals_result: _EvalResultDict \u001b[39m=\u001b[39m {}\n\u001b[0;32m    883\u001b[0m callbacks\u001b[39m.\u001b[39mappend(record_evaluation(evals_result))\n\u001b[1;32m--> 885\u001b[0m \u001b[39mself\u001b[39m\u001b[39m.\u001b[39m_Booster \u001b[39m=\u001b[39m train(\n\u001b[0;32m    886\u001b[0m     params\u001b[39m=\u001b[39;49mparams,\n\u001b[0;32m    887\u001b[0m     train_set\u001b[39m=\u001b[39;49mtrain_set,\n\u001b[0;32m    888\u001b[0m     num_boost_round\u001b[39m=\u001b[39;49m\u001b[39mself\u001b[39;49m\u001b[39m.\u001b[39;49mn_estimators,\n\u001b[0;32m    889\u001b[0m     valid_sets\u001b[39m=\u001b[39;49mvalid_sets,\n\u001b[0;32m    890\u001b[0m     valid_names\u001b[39m=\u001b[39;49meval_names,\n\u001b[0;32m    891\u001b[0m     feval\u001b[39m=\u001b[39;49meval_metrics_callable,  \u001b[39m# type: ignore[arg-type]\u001b[39;49;00m\n\u001b[0;32m    892\u001b[0m     init_model\u001b[39m=\u001b[39;49minit_model,\n\u001b[0;32m    893\u001b[0m     feature_name\u001b[39m=\u001b[39;49mfeature_name,\n\u001b[0;32m    894\u001b[0m     callbacks\u001b[39m=\u001b[39;49mcallbacks\n\u001b[0;32m    895\u001b[0m )\n\u001b[0;32m    897\u001b[0m \u001b[39mself\u001b[39m\u001b[39m.\u001b[39m_evals_result \u001b[39m=\u001b[39m evals_result\n\u001b[0;32m    898\u001b[0m \u001b[39mself\u001b[39m\u001b[39m.\u001b[39m_best_iteration \u001b[39m=\u001b[39m \u001b[39mself\u001b[39m\u001b[39m.\u001b[39m_Booster\u001b[39m.\u001b[39mbest_iteration\n",
      "File \u001b[1;32mc:\\Users\\loren\\anaconda3\\envs\\TensorFlow\\lib\\site-packages\\lightgbm\\engine.py:276\u001b[0m, in \u001b[0;36mtrain\u001b[1;34m(params, train_set, num_boost_round, valid_sets, valid_names, feval, init_model, feature_name, categorical_feature, keep_training_booster, callbacks)\u001b[0m\n\u001b[0;32m    268\u001b[0m \u001b[39mfor\u001b[39;00m cb \u001b[39min\u001b[39;00m callbacks_before_iter:\n\u001b[0;32m    269\u001b[0m     cb(callback\u001b[39m.\u001b[39mCallbackEnv(model\u001b[39m=\u001b[39mbooster,\n\u001b[0;32m    270\u001b[0m                             params\u001b[39m=\u001b[39mparams,\n\u001b[0;32m    271\u001b[0m                             iteration\u001b[39m=\u001b[39mi,\n\u001b[0;32m    272\u001b[0m                             begin_iteration\u001b[39m=\u001b[39minit_iteration,\n\u001b[0;32m    273\u001b[0m                             end_iteration\u001b[39m=\u001b[39minit_iteration \u001b[39m+\u001b[39m num_boost_round,\n\u001b[0;32m    274\u001b[0m                             evaluation_result_list\u001b[39m=\u001b[39m\u001b[39mNone\u001b[39;00m))\n\u001b[1;32m--> 276\u001b[0m booster\u001b[39m.\u001b[39;49mupdate(fobj\u001b[39m=\u001b[39;49mfobj)\n\u001b[0;32m    278\u001b[0m evaluation_result_list: List[_LGBM_BoosterEvalMethodResultType] \u001b[39m=\u001b[39m []\n\u001b[0;32m    279\u001b[0m \u001b[39m# check evaluation result.\u001b[39;00m\n",
      "File \u001b[1;32mc:\\Users\\loren\\anaconda3\\envs\\TensorFlow\\lib\\site-packages\\lightgbm\\basic.py:3891\u001b[0m, in \u001b[0;36mBooster.update\u001b[1;34m(self, train_set, fobj)\u001b[0m\n\u001b[0;32m   3889\u001b[0m \u001b[39mif\u001b[39;00m \u001b[39mself\u001b[39m\u001b[39m.\u001b[39m__set_objective_to_none:\n\u001b[0;32m   3890\u001b[0m     \u001b[39mraise\u001b[39;00m LightGBMError(\u001b[39m'\u001b[39m\u001b[39mCannot update due to null objective function.\u001b[39m\u001b[39m'\u001b[39m)\n\u001b[1;32m-> 3891\u001b[0m _safe_call(_LIB\u001b[39m.\u001b[39;49mLGBM_BoosterUpdateOneIter(\n\u001b[0;32m   3892\u001b[0m     \u001b[39mself\u001b[39;49m\u001b[39m.\u001b[39;49m_handle,\n\u001b[0;32m   3893\u001b[0m     ctypes\u001b[39m.\u001b[39;49mbyref(is_finished)))\n\u001b[0;32m   3894\u001b[0m \u001b[39mself\u001b[39m\u001b[39m.\u001b[39m__is_predicted_cur_iter \u001b[39m=\u001b[39m [\u001b[39mFalse\u001b[39;00m \u001b[39mfor\u001b[39;00m _ \u001b[39min\u001b[39;00m \u001b[39mrange\u001b[39m(\u001b[39mself\u001b[39m\u001b[39m.\u001b[39m__num_dataset)]\n\u001b[0;32m   3895\u001b[0m \u001b[39mreturn\u001b[39;00m is_finished\u001b[39m.\u001b[39mvalue \u001b[39m==\u001b[39m \u001b[39m1\u001b[39m\n",
      "\u001b[1;31mKeyboardInterrupt\u001b[0m: "
     ]
    }
   ],
   "source": [
    "num_leaves_list  = [10, 30 , 50]\n",
    "\n",
    "n_estimators_list  = [25, 50, 100, 150]\n",
    "\n",
    "learning_rate_list  = [0.01, 0.1, 1]\n",
    "max_depth_list = [5, 10, 20, 30]\n",
    "\n",
    "lambda_list = [0.0, 1.0, 5.0]\n",
    "boosting_type_list  = [\"gbdt\"]\n",
    "\n",
    "accuracy_vector = -100 + np.zeros((len(num_leaves_list), len(n_estimators_list), len(learning_rate_list), len(max_depth_list), \n",
    "                                   len(lambda_list), len(boosting_type_list) ))\n",
    "\n",
    "for i1 in range(len(num_leaves_list)):\n",
    "    for i2 in range(len(n_estimators_list)):\n",
    "        for i3 in range(len(learning_rate_list)):\n",
    "            for i4 in range(len(max_depth_list)):\n",
    "                for i5 in range(len(lambda_list)):\n",
    "                    for i6 in range(len(boosting_type_list)):\n",
    "\n",
    "                                clf = LGBMClassifier(num_leaves = num_leaves_list[i1], \n",
    "                                                    n_estimators = n_estimators_list[i2], \n",
    "                                                    learning_rate = learning_rate_list[i3], \n",
    "                                                    max_depth = max_depth_list[i4], \n",
    "                                                    reg_lambda = lambda_list[i5], \n",
    "                                                    boosting_type = boosting_type_list[i6],   \n",
    "                                                    random_state=42)\n",
    "                                \n",
    "                                model = clf.fit(X_train, y_train)\n",
    "\n",
    "                                # Predict the labels for the test set\n",
    "                                y_pred = model.predict(X_test)\n",
    "\n",
    "                                # Calculate accuracy\n",
    "                                accuracy_vector[i1, i2, i3, i4, i5, i6] = accuracy_score(y_test, y_pred)\n",
    "\n",
    "                                print(\"#####################\")\n",
    "                                print(\"booster \", boosting_type_list[i6])\n",
    "                                print(\"n_estimators \", n_estimators_list[i2])\n",
    "                                print(\"learning rate \", learning_rate_list[i3])\n",
    "                                print(\"max_depth \", max_depth_list[i4])\n",
    "                                print(\"lambda \", lambda_list[i5])\n",
    "                                print(\"num_leaves \", num_leaves_list[i1])\n",
    "                                print(accuracy_vector[i1, i2, i3, i4, i5, i6])\n",
    "\n",
    "np.save(\"accuracy_LGBM.npy\", accuracy_vector)"
   ]
  },
  {
   "cell_type": "code",
   "execution_count": null,
   "metadata": {},
   "outputs": [],
   "source": [
    "accuracy_vector_LGBM = np.load(\"accuracy_LGBM.npy\")\n",
    "max_index = np.unravel_index(np.argmax(accuracy_vector_LGBM), accuracy_vector_LGBM.shape)"
   ]
  },
  {
   "cell_type": "code",
   "execution_count": null,
   "metadata": {},
   "outputs": [
    {
     "name": "stdout",
     "output_type": "stream",
     "text": [
      "[LightGBM] [Info] Auto-choosing col-wise multi-threading, the overhead of testing was 0.023376 seconds.\n",
      "You can set `force_col_wise=true` to remove the overhead.\n",
      "[LightGBM] [Info] Total Bins 2295\n",
      "[LightGBM] [Info] Number of data points in the train set: 4531, number of used features: 9\n",
      "[LightGBM] [Info] Start training from score -1.032227\n",
      "[LightGBM] [Info] Start training from score -1.278245\n",
      "[LightGBM] [Info] Start training from score -3.277034\n",
      "[LightGBM] [Info] Start training from score -1.595412\n",
      "[LightGBM] [Info] Start training from score -2.081872\n",
      "[LightGBM] [Warning] No further splits with positive gain, best gain: -inf\n"
     ]
    },
    {
     "name": "stdout",
     "output_type": "stream",
     "text": [
      "[LightGBM] [Warning] No further splits with positive gain, best gain: -inf\n",
      "[LightGBM] [Warning] No further splits with positive gain, best gain: -inf\n",
      "[LightGBM] [Warning] No further splits with positive gain, best gain: -inf\n",
      "[LightGBM] [Warning] No further splits with positive gain, best gain: -inf\n",
      "[LightGBM] [Warning] No further splits with positive gain, best gain: -inf\n",
      "[LightGBM] [Warning] No further splits with positive gain, best gain: -inf\n",
      "[LightGBM] [Warning] No further splits with positive gain, best gain: -inf\n",
      "[LightGBM] [Warning] No further splits with positive gain, best gain: -inf\n",
      "[LightGBM] [Warning] No further splits with positive gain, best gain: -inf\n",
      "[LightGBM] [Warning] No further splits with positive gain, best gain: -inf\n",
      "[LightGBM] [Warning] No further splits with positive gain, best gain: -inf\n",
      "[LightGBM] [Warning] No further splits with positive gain, best gain: -inf\n",
      "[LightGBM] [Warning] No further splits with positive gain, best gain: -inf\n",
      "[LightGBM] [Warning] No further splits with positive gain, best gain: -inf\n",
      "[LightGBM] [Warning] No further splits with positive gain, best gain: -inf\n",
      "[LightGBM] [Warning] No further splits with positive gain, best gain: -inf\n",
      "[LightGBM] [Warning] No further splits with positive gain, best gain: -inf\n",
      "[LightGBM] [Warning] No further splits with positive gain, best gain: -inf\n",
      "[LightGBM] [Warning] No further splits with positive gain, best gain: -inf\n",
      "[LightGBM] [Warning] No further splits with positive gain, best gain: -inf\n",
      "[LightGBM] [Warning] No further splits with positive gain, best gain: -inf\n",
      "[LightGBM] [Warning] No further splits with positive gain, best gain: -inf\n",
      "[LightGBM] [Warning] No further splits with positive gain, best gain: -inf\n",
      "[LightGBM] [Warning] No further splits with positive gain, best gain: -inf\n",
      "[LightGBM] [Warning] No further splits with positive gain, best gain: -inf\n",
      "[LightGBM] [Warning] No further splits with positive gain, best gain: -inf\n",
      "[LightGBM] [Warning] No further splits with positive gain, best gain: -inf\n",
      "[LightGBM] [Warning] No further splits with positive gain, best gain: -inf\n",
      "[LightGBM] [Warning] No further splits with positive gain, best gain: -inf\n",
      "[LightGBM] [Warning] No further splits with positive gain, best gain: -inf\n",
      "[LightGBM] [Warning] No further splits with positive gain, best gain: -inf\n",
      "[LightGBM] [Warning] No further splits with positive gain, best gain: -inf\n",
      "[LightGBM] [Warning] No further splits with positive gain, best gain: -inf\n",
      "[LightGBM] [Warning] No further splits with positive gain, best gain: -inf\n",
      "[LightGBM] [Warning] No further splits with positive gain, best gain: -inf\n",
      "[LightGBM] [Warning] No further splits with positive gain, best gain: -inf\n"
     ]
    },
    {
     "data": {
      "text/plain": [
       "0.9495365602471678"
      ]
     },
     "execution_count": 48,
     "metadata": {},
     "output_type": "execute_result"
    }
   ],
   "source": [
    "clf = LGBMClassifier(num_leaves = num_leaves_list[max_index[0]], \n",
    "                    n_estimators = n_estimators_list[max_index[1]], \n",
    "                    learning_rate = learning_rate_list[max_index[2]], \n",
    "                    max_depth = max_depth_list[max_index[3]], \n",
    "                    reg_lambda = lambda_list[max_index[4]], \n",
    "                    boosting_type = boosting_type_list[max_index[5]],   )\n",
    "\n",
    "model = clf.fit(X_train, y_train)\n",
    "\n",
    "# Predict the labels for the test set\n",
    "y_pred = model.predict(X_test)\n",
    "accuracy_score(y_test, y_pred)"
   ]
  },
  {
   "cell_type": "markdown",
   "metadata": {},
   "source": [
    "# XGB Classifier"
   ]
  },
  {
   "cell_type": "code",
   "execution_count": null,
   "metadata": {},
   "outputs": [],
   "source": [
    "from xgboost import XGBClassifier\n",
    "from sklearn.metrics import accuracy_score"
   ]
  },
  {
   "cell_type": "code",
   "execution_count": null,
   "metadata": {},
   "outputs": [
    {
     "name": "stderr",
     "output_type": "stream",
     "text": [
      "c:\\Users\\loren\\anaconda3\\envs\\TensorFlow\\lib\\site-packages\\xgboost\\core.py:160: UserWarning: [10:49:55] WARNING: C:\\buildkite-agent\\builds\\buildkite-windows-cpu-autoscaling-group-i-0b3782d1791676daf-1\\xgboost\\xgboost-ci-windows\\src\\learner.cc:742: \n",
      "Parameters: { \"criterion\" } are not used.\n",
      "\n",
      "  warnings.warn(smsg, UserWarning)\n"
     ]
    },
    {
     "name": "stdout",
     "output_type": "stream",
     "text": [
      "#####################\n",
      "booster  gbtree\n",
      "n_estimators  25\n",
      "eta  0.1\n",
      "max_depth  5\n",
      "lambda  0.0\n",
      "criterion  gini\n",
      "max_leaves  0\n",
      "0.9062821833161689\n",
      "#####################\n",
      "booster  gbtree\n",
      "n_estimators  25\n",
      "eta  0.1\n",
      "max_depth  5\n",
      "lambda  0.0\n",
      "criterion  gini\n",
      "max_leaves  1\n",
      "0.3388259526261586\n",
      "#####################\n",
      "booster  gbtree\n",
      "n_estimators  25\n",
      "eta  0.1\n",
      "max_depth  5\n",
      "lambda  0.0\n",
      "criterion  gini\n",
      "max_leaves  5\n",
      "0.8110195674562307\n"
     ]
    },
    {
     "name": "stderr",
     "output_type": "stream",
     "text": [
      "c:\\Users\\loren\\anaconda3\\envs\\TensorFlow\\lib\\site-packages\\xgboost\\core.py:160: UserWarning: [10:49:56] WARNING: C:\\buildkite-agent\\builds\\buildkite-windows-cpu-autoscaling-group-i-0b3782d1791676daf-1\\xgboost\\xgboost-ci-windows\\src\\learner.cc:742: \n",
      "Parameters: { \"criterion\" } are not used.\n",
      "\n",
      "  warnings.warn(smsg, UserWarning)\n",
      "c:\\Users\\loren\\anaconda3\\envs\\TensorFlow\\lib\\site-packages\\xgboost\\core.py:160: UserWarning: [10:49:56] WARNING: C:\\buildkite-agent\\builds\\buildkite-windows-cpu-autoscaling-group-i-0b3782d1791676daf-1\\xgboost\\xgboost-ci-windows\\src\\learner.cc:742: \n",
      "Parameters: { \"criterion\" } are not used.\n",
      "\n",
      "  warnings.warn(smsg, UserWarning)\n",
      "c:\\Users\\loren\\anaconda3\\envs\\TensorFlow\\lib\\site-packages\\xgboost\\core.py:160: UserWarning: [10:49:56] WARNING: C:\\buildkite-agent\\builds\\buildkite-windows-cpu-autoscaling-group-i-0b3782d1791676daf-1\\xgboost\\xgboost-ci-windows\\src\\learner.cc:742: \n",
      "Parameters: { \"criterion\" } are not used.\n",
      "\n",
      "  warnings.warn(smsg, UserWarning)\n"
     ]
    },
    {
     "name": "stdout",
     "output_type": "stream",
     "text": [
      "#####################\n",
      "booster  gbtree\n",
      "n_estimators  25\n",
      "eta  0.1\n",
      "max_depth  5\n",
      "lambda  0.0\n",
      "criterion  entropy\n",
      "max_leaves  0\n",
      "0.9062821833161689\n",
      "#####################\n",
      "booster  gbtree\n",
      "n_estimators  25\n",
      "eta  0.1\n",
      "max_depth  5\n",
      "lambda  0.0\n",
      "criterion  entropy\n",
      "max_leaves  1\n",
      "0.3388259526261586\n",
      "#####################\n",
      "booster  gbtree\n",
      "n_estimators  25\n",
      "eta  0.1\n",
      "max_depth  5\n",
      "lambda  0.0\n",
      "criterion  entropy\n",
      "max_leaves  5\n",
      "0.8110195674562307\n"
     ]
    },
    {
     "name": "stderr",
     "output_type": "stream",
     "text": [
      "c:\\Users\\loren\\anaconda3\\envs\\TensorFlow\\lib\\site-packages\\xgboost\\core.py:160: UserWarning: [10:49:57] WARNING: C:\\buildkite-agent\\builds\\buildkite-windows-cpu-autoscaling-group-i-0b3782d1791676daf-1\\xgboost\\xgboost-ci-windows\\src\\learner.cc:742: \n",
      "Parameters: { \"criterion\" } are not used.\n",
      "\n",
      "  warnings.warn(smsg, UserWarning)\n",
      "c:\\Users\\loren\\anaconda3\\envs\\TensorFlow\\lib\\site-packages\\xgboost\\core.py:160: UserWarning: [10:49:57] WARNING: C:\\buildkite-agent\\builds\\buildkite-windows-cpu-autoscaling-group-i-0b3782d1791676daf-1\\xgboost\\xgboost-ci-windows\\src\\learner.cc:742: \n",
      "Parameters: { \"criterion\" } are not used.\n",
      "\n",
      "  warnings.warn(smsg, UserWarning)\n",
      "c:\\Users\\loren\\anaconda3\\envs\\TensorFlow\\lib\\site-packages\\xgboost\\core.py:160: UserWarning: [10:49:57] WARNING: C:\\buildkite-agent\\builds\\buildkite-windows-cpu-autoscaling-group-i-0b3782d1791676daf-1\\xgboost\\xgboost-ci-windows\\src\\learner.cc:742: \n",
      "Parameters: { \"criterion\" } are not used.\n",
      "\n",
      "  warnings.warn(smsg, UserWarning)\n"
     ]
    },
    {
     "name": "stdout",
     "output_type": "stream",
     "text": [
      "#####################\n",
      "booster  gbtree\n",
      "n_estimators  25\n",
      "eta  0.1\n",
      "max_depth  5\n",
      "lambda  1.0\n",
      "criterion  gini\n",
      "max_leaves  0\n",
      "0.907826982492276\n",
      "#####################\n",
      "booster  gbtree\n",
      "n_estimators  25\n",
      "eta  0.1\n",
      "max_depth  5\n",
      "lambda  1.0\n",
      "criterion  gini\n",
      "max_leaves  1\n",
      "0.3388259526261586\n",
      "#####################\n",
      "booster  gbtree\n",
      "n_estimators  25\n",
      "eta  0.1\n",
      "max_depth  5\n",
      "lambda  1.0\n",
      "criterion  gini\n",
      "max_leaves  5\n",
      "0.8110195674562307\n"
     ]
    },
    {
     "name": "stderr",
     "output_type": "stream",
     "text": [
      "c:\\Users\\loren\\anaconda3\\envs\\TensorFlow\\lib\\site-packages\\xgboost\\core.py:160: UserWarning: [10:49:57] WARNING: C:\\buildkite-agent\\builds\\buildkite-windows-cpu-autoscaling-group-i-0b3782d1791676daf-1\\xgboost\\xgboost-ci-windows\\src\\learner.cc:742: \n",
      "Parameters: { \"criterion\" } are not used.\n",
      "\n",
      "  warnings.warn(smsg, UserWarning)\n",
      "c:\\Users\\loren\\anaconda3\\envs\\TensorFlow\\lib\\site-packages\\xgboost\\core.py:160: UserWarning: [10:49:57] WARNING: C:\\buildkite-agent\\builds\\buildkite-windows-cpu-autoscaling-group-i-0b3782d1791676daf-1\\xgboost\\xgboost-ci-windows\\src\\learner.cc:742: \n",
      "Parameters: { \"criterion\" } are not used.\n",
      "\n",
      "  warnings.warn(smsg, UserWarning)\n",
      "c:\\Users\\loren\\anaconda3\\envs\\TensorFlow\\lib\\site-packages\\xgboost\\core.py:160: UserWarning: [10:49:57] WARNING: C:\\buildkite-agent\\builds\\buildkite-windows-cpu-autoscaling-group-i-0b3782d1791676daf-1\\xgboost\\xgboost-ci-windows\\src\\learner.cc:742: \n",
      "Parameters: { \"criterion\" } are not used.\n",
      "\n",
      "  warnings.warn(smsg, UserWarning)\n"
     ]
    },
    {
     "name": "stdout",
     "output_type": "stream",
     "text": [
      "#####################\n",
      "booster  gbtree\n",
      "n_estimators  25\n",
      "eta  0.1\n",
      "max_depth  5\n",
      "lambda  1.0\n",
      "criterion  entropy\n",
      "max_leaves  0\n",
      "0.907826982492276\n",
      "#####################\n",
      "booster  gbtree\n",
      "n_estimators  25\n",
      "eta  0.1\n",
      "max_depth  5\n",
      "lambda  1.0\n",
      "criterion  entropy\n",
      "max_leaves  1\n",
      "0.3388259526261586\n",
      "#####################\n",
      "booster  gbtree\n",
      "n_estimators  25\n",
      "eta  0.1\n",
      "max_depth  5\n",
      "lambda  1.0\n",
      "criterion  entropy\n",
      "max_leaves  5\n",
      "0.8110195674562307\n"
     ]
    },
    {
     "name": "stderr",
     "output_type": "stream",
     "text": [
      "c:\\Users\\loren\\anaconda3\\envs\\TensorFlow\\lib\\site-packages\\xgboost\\core.py:160: UserWarning: [10:49:57] WARNING: C:\\buildkite-agent\\builds\\buildkite-windows-cpu-autoscaling-group-i-0b3782d1791676daf-1\\xgboost\\xgboost-ci-windows\\src\\learner.cc:742: \n",
      "Parameters: { \"criterion\" } are not used.\n",
      "\n",
      "  warnings.warn(smsg, UserWarning)\n",
      "c:\\Users\\loren\\anaconda3\\envs\\TensorFlow\\lib\\site-packages\\xgboost\\core.py:160: UserWarning: [10:49:57] WARNING: C:\\buildkite-agent\\builds\\buildkite-windows-cpu-autoscaling-group-i-0b3782d1791676daf-1\\xgboost\\xgboost-ci-windows\\src\\learner.cc:742: \n",
      "Parameters: { \"criterion\" } are not used.\n",
      "\n",
      "  warnings.warn(smsg, UserWarning)\n",
      "c:\\Users\\loren\\anaconda3\\envs\\TensorFlow\\lib\\site-packages\\xgboost\\core.py:160: UserWarning: [10:49:58] WARNING: C:\\buildkite-agent\\builds\\buildkite-windows-cpu-autoscaling-group-i-0b3782d1791676daf-1\\xgboost\\xgboost-ci-windows\\src\\learner.cc:742: \n",
      "Parameters: { \"criterion\" } are not used.\n",
      "\n",
      "  warnings.warn(smsg, UserWarning)\n"
     ]
    },
    {
     "name": "stdout",
     "output_type": "stream",
     "text": [
      "#####################\n",
      "booster  gbtree\n",
      "n_estimators  25\n",
      "eta  0.1\n",
      "max_depth  5\n",
      "lambda  5.0\n",
      "criterion  gini\n",
      "max_leaves  0\n",
      "0.907826982492276\n",
      "#####################\n",
      "booster  gbtree\n",
      "n_estimators  25\n",
      "eta  0.1\n",
      "max_depth  5\n",
      "lambda  5.0\n",
      "criterion  gini\n",
      "max_leaves  1\n",
      "0.3388259526261586\n"
     ]
    },
    {
     "name": "stderr",
     "output_type": "stream",
     "text": [
      "c:\\Users\\loren\\anaconda3\\envs\\TensorFlow\\lib\\site-packages\\xgboost\\core.py:160: UserWarning: [10:49:58] WARNING: C:\\buildkite-agent\\builds\\buildkite-windows-cpu-autoscaling-group-i-0b3782d1791676daf-1\\xgboost\\xgboost-ci-windows\\src\\learner.cc:742: \n",
      "Parameters: { \"criterion\" } are not used.\n",
      "\n",
      "  warnings.warn(smsg, UserWarning)\n",
      "c:\\Users\\loren\\anaconda3\\envs\\TensorFlow\\lib\\site-packages\\xgboost\\core.py:160: UserWarning: [10:49:58] WARNING: C:\\buildkite-agent\\builds\\buildkite-windows-cpu-autoscaling-group-i-0b3782d1791676daf-1\\xgboost\\xgboost-ci-windows\\src\\learner.cc:742: \n",
      "Parameters: { \"criterion\" } are not used.\n",
      "\n",
      "  warnings.warn(smsg, UserWarning)\n"
     ]
    },
    {
     "name": "stdout",
     "output_type": "stream",
     "text": [
      "#####################\n",
      "booster  gbtree\n",
      "n_estimators  25\n",
      "eta  0.1\n",
      "max_depth  5\n",
      "lambda  5.0\n",
      "criterion  gini\n",
      "max_leaves  5\n",
      "0.8135942327497425\n"
     ]
    },
    {
     "name": "stderr",
     "output_type": "stream",
     "text": [
      "c:\\Users\\loren\\anaconda3\\envs\\TensorFlow\\lib\\site-packages\\xgboost\\core.py:160: UserWarning: [10:49:59] WARNING: C:\\buildkite-agent\\builds\\buildkite-windows-cpu-autoscaling-group-i-0b3782d1791676daf-1\\xgboost\\xgboost-ci-windows\\src\\learner.cc:742: \n",
      "Parameters: { \"criterion\" } are not used.\n",
      "\n",
      "  warnings.warn(smsg, UserWarning)\n"
     ]
    },
    {
     "name": "stdout",
     "output_type": "stream",
     "text": [
      "#####################\n",
      "booster  gbtree\n",
      "n_estimators  25\n",
      "eta  0.1\n",
      "max_depth  5\n",
      "lambda  5.0\n",
      "criterion  entropy\n",
      "max_leaves  0\n",
      "0.907826982492276\n",
      "#####################\n",
      "booster  gbtree\n",
      "n_estimators  25\n",
      "eta  0.1\n",
      "max_depth  5\n",
      "lambda  5.0\n",
      "criterion  entropy\n",
      "max_leaves  1\n",
      "0.3388259526261586\n"
     ]
    },
    {
     "name": "stderr",
     "output_type": "stream",
     "text": [
      "c:\\Users\\loren\\anaconda3\\envs\\TensorFlow\\lib\\site-packages\\xgboost\\core.py:160: UserWarning: [10:49:59] WARNING: C:\\buildkite-agent\\builds\\buildkite-windows-cpu-autoscaling-group-i-0b3782d1791676daf-1\\xgboost\\xgboost-ci-windows\\src\\learner.cc:742: \n",
      "Parameters: { \"criterion\" } are not used.\n",
      "\n",
      "  warnings.warn(smsg, UserWarning)\n",
      "c:\\Users\\loren\\anaconda3\\envs\\TensorFlow\\lib\\site-packages\\xgboost\\core.py:160: UserWarning: [10:49:59] WARNING: C:\\buildkite-agent\\builds\\buildkite-windows-cpu-autoscaling-group-i-0b3782d1791676daf-1\\xgboost\\xgboost-ci-windows\\src\\learner.cc:742: \n",
      "Parameters: { \"criterion\" } are not used.\n",
      "\n",
      "  warnings.warn(smsg, UserWarning)\n"
     ]
    },
    {
     "name": "stdout",
     "output_type": "stream",
     "text": [
      "#####################\n",
      "booster  gbtree\n",
      "n_estimators  25\n",
      "eta  0.1\n",
      "max_depth  5\n",
      "lambda  5.0\n",
      "criterion  entropy\n",
      "max_leaves  5\n",
      "0.8135942327497425\n"
     ]
    },
    {
     "name": "stderr",
     "output_type": "stream",
     "text": [
      "c:\\Users\\loren\\anaconda3\\envs\\TensorFlow\\lib\\site-packages\\xgboost\\core.py:160: UserWarning: [10:49:59] WARNING: C:\\buildkite-agent\\builds\\buildkite-windows-cpu-autoscaling-group-i-0b3782d1791676daf-1\\xgboost\\xgboost-ci-windows\\src\\learner.cc:742: \n",
      "Parameters: { \"criterion\" } are not used.\n",
      "\n",
      "  warnings.warn(smsg, UserWarning)\n"
     ]
    },
    {
     "name": "stdout",
     "output_type": "stream",
     "text": [
      "#####################\n",
      "booster  gbtree\n",
      "n_estimators  25\n",
      "eta  0.1\n",
      "max_depth  10\n",
      "lambda  0.0\n",
      "criterion  gini\n",
      "max_leaves  0\n",
      "0.9361483007209063\n",
      "#####################\n",
      "booster  gbtree\n",
      "n_estimators  25\n",
      "eta  0.1\n",
      "max_depth  10\n",
      "lambda  0.0\n",
      "criterion  gini\n",
      "max_leaves  1\n",
      "0.3388259526261586\n"
     ]
    },
    {
     "name": "stderr",
     "output_type": "stream",
     "text": [
      "c:\\Users\\loren\\anaconda3\\envs\\TensorFlow\\lib\\site-packages\\xgboost\\core.py:160: UserWarning: [10:50:02] WARNING: C:\\buildkite-agent\\builds\\buildkite-windows-cpu-autoscaling-group-i-0b3782d1791676daf-1\\xgboost\\xgboost-ci-windows\\src\\learner.cc:742: \n",
      "Parameters: { \"criterion\" } are not used.\n",
      "\n",
      "  warnings.warn(smsg, UserWarning)\n",
      "c:\\Users\\loren\\anaconda3\\envs\\TensorFlow\\lib\\site-packages\\xgboost\\core.py:160: UserWarning: [10:50:02] WARNING: C:\\buildkite-agent\\builds\\buildkite-windows-cpu-autoscaling-group-i-0b3782d1791676daf-1\\xgboost\\xgboost-ci-windows\\src\\learner.cc:742: \n",
      "Parameters: { \"criterion\" } are not used.\n",
      "\n",
      "  warnings.warn(smsg, UserWarning)\n"
     ]
    },
    {
     "name": "stdout",
     "output_type": "stream",
     "text": [
      "#####################\n",
      "booster  gbtree\n",
      "n_estimators  25\n",
      "eta  0.1\n",
      "max_depth  10\n",
      "lambda  0.0\n",
      "criterion  gini\n",
      "max_leaves  5\n",
      "0.8110195674562307\n"
     ]
    },
    {
     "name": "stderr",
     "output_type": "stream",
     "text": [
      "c:\\Users\\loren\\anaconda3\\envs\\TensorFlow\\lib\\site-packages\\xgboost\\core.py:160: UserWarning: [10:50:03] WARNING: C:\\buildkite-agent\\builds\\buildkite-windows-cpu-autoscaling-group-i-0b3782d1791676daf-1\\xgboost\\xgboost-ci-windows\\src\\learner.cc:742: \n",
      "Parameters: { \"criterion\" } are not used.\n",
      "\n",
      "  warnings.warn(smsg, UserWarning)\n"
     ]
    },
    {
     "name": "stdout",
     "output_type": "stream",
     "text": [
      "#####################\n",
      "booster  gbtree\n",
      "n_estimators  25\n",
      "eta  0.1\n",
      "max_depth  10\n",
      "lambda  0.0\n",
      "criterion  entropy\n",
      "max_leaves  0\n",
      "0.9361483007209063\n",
      "#####################\n",
      "booster  gbtree\n",
      "n_estimators  25\n",
      "eta  0.1\n",
      "max_depth  10\n",
      "lambda  0.0\n",
      "criterion  entropy\n",
      "max_leaves  1\n",
      "0.3388259526261586\n"
     ]
    },
    {
     "name": "stderr",
     "output_type": "stream",
     "text": [
      "c:\\Users\\loren\\anaconda3\\envs\\TensorFlow\\lib\\site-packages\\xgboost\\core.py:160: UserWarning: [10:50:04] WARNING: C:\\buildkite-agent\\builds\\buildkite-windows-cpu-autoscaling-group-i-0b3782d1791676daf-1\\xgboost\\xgboost-ci-windows\\src\\learner.cc:742: \n",
      "Parameters: { \"criterion\" } are not used.\n",
      "\n",
      "  warnings.warn(smsg, UserWarning)\n",
      "c:\\Users\\loren\\anaconda3\\envs\\TensorFlow\\lib\\site-packages\\xgboost\\core.py:160: UserWarning: [10:50:04] WARNING: C:\\buildkite-agent\\builds\\buildkite-windows-cpu-autoscaling-group-i-0b3782d1791676daf-1\\xgboost\\xgboost-ci-windows\\src\\learner.cc:742: \n",
      "Parameters: { \"criterion\" } are not used.\n",
      "\n",
      "  warnings.warn(smsg, UserWarning)\n"
     ]
    },
    {
     "name": "stdout",
     "output_type": "stream",
     "text": [
      "#####################\n",
      "booster  gbtree\n",
      "n_estimators  25\n",
      "eta  0.1\n",
      "max_depth  10\n",
      "lambda  0.0\n",
      "criterion  entropy\n",
      "max_leaves  5\n",
      "0.8110195674562307\n"
     ]
    },
    {
     "name": "stderr",
     "output_type": "stream",
     "text": [
      "c:\\Users\\loren\\anaconda3\\envs\\TensorFlow\\lib\\site-packages\\xgboost\\core.py:160: UserWarning: [10:50:04] WARNING: C:\\buildkite-agent\\builds\\buildkite-windows-cpu-autoscaling-group-i-0b3782d1791676daf-1\\xgboost\\xgboost-ci-windows\\src\\learner.cc:742: \n",
      "Parameters: { \"criterion\" } are not used.\n",
      "\n",
      "  warnings.warn(smsg, UserWarning)\n"
     ]
    },
    {
     "name": "stdout",
     "output_type": "stream",
     "text": [
      "#####################\n",
      "booster  gbtree\n",
      "n_estimators  25\n",
      "eta  0.1\n",
      "max_depth  10\n",
      "lambda  1.0\n",
      "criterion  gini\n",
      "max_leaves  0\n",
      "0.9366632337796087\n",
      "#####################\n",
      "booster  gbtree\n",
      "n_estimators  25\n",
      "eta  0.1\n",
      "max_depth  10\n",
      "lambda  1.0\n",
      "criterion  gini\n",
      "max_leaves  1\n",
      "0.3388259526261586\n",
      "#####################\n",
      "booster  gbtree\n",
      "n_estimators  25\n",
      "eta  0.1\n",
      "max_depth  10\n",
      "lambda  1.0\n",
      "criterion  gini\n",
      "max_leaves  5\n",
      "0.8110195674562307\n"
     ]
    },
    {
     "name": "stderr",
     "output_type": "stream",
     "text": [
      "c:\\Users\\loren\\anaconda3\\envs\\TensorFlow\\lib\\site-packages\\xgboost\\core.py:160: UserWarning: [10:50:05] WARNING: C:\\buildkite-agent\\builds\\buildkite-windows-cpu-autoscaling-group-i-0b3782d1791676daf-1\\xgboost\\xgboost-ci-windows\\src\\learner.cc:742: \n",
      "Parameters: { \"criterion\" } are not used.\n",
      "\n",
      "  warnings.warn(smsg, UserWarning)\n",
      "c:\\Users\\loren\\anaconda3\\envs\\TensorFlow\\lib\\site-packages\\xgboost\\core.py:160: UserWarning: [10:50:05] WARNING: C:\\buildkite-agent\\builds\\buildkite-windows-cpu-autoscaling-group-i-0b3782d1791676daf-1\\xgboost\\xgboost-ci-windows\\src\\learner.cc:742: \n",
      "Parameters: { \"criterion\" } are not used.\n",
      "\n",
      "  warnings.warn(smsg, UserWarning)\n",
      "c:\\Users\\loren\\anaconda3\\envs\\TensorFlow\\lib\\site-packages\\xgboost\\core.py:160: UserWarning: [10:50:05] WARNING: C:\\buildkite-agent\\builds\\buildkite-windows-cpu-autoscaling-group-i-0b3782d1791676daf-1\\xgboost\\xgboost-ci-windows\\src\\learner.cc:742: \n",
      "Parameters: { \"criterion\" } are not used.\n",
      "\n",
      "  warnings.warn(smsg, UserWarning)\n"
     ]
    },
    {
     "name": "stdout",
     "output_type": "stream",
     "text": [
      "#####################\n",
      "booster  gbtree\n",
      "n_estimators  25\n",
      "eta  0.1\n",
      "max_depth  10\n",
      "lambda  1.0\n",
      "criterion  entropy\n",
      "max_leaves  0\n",
      "0.9366632337796087\n",
      "#####################\n",
      "booster  gbtree\n",
      "n_estimators  25\n",
      "eta  0.1\n",
      "max_depth  10\n",
      "lambda  1.0\n",
      "criterion  entropy\n",
      "max_leaves  1\n",
      "0.3388259526261586\n",
      "#####################\n",
      "booster  gbtree\n",
      "n_estimators  25\n",
      "eta  0.1\n",
      "max_depth  10\n",
      "lambda  1.0\n",
      "criterion  entropy\n",
      "max_leaves  5\n",
      "0.8110195674562307\n"
     ]
    },
    {
     "name": "stderr",
     "output_type": "stream",
     "text": [
      "c:\\Users\\loren\\anaconda3\\envs\\TensorFlow\\lib\\site-packages\\xgboost\\core.py:160: UserWarning: [10:50:06] WARNING: C:\\buildkite-agent\\builds\\buildkite-windows-cpu-autoscaling-group-i-0b3782d1791676daf-1\\xgboost\\xgboost-ci-windows\\src\\learner.cc:742: \n",
      "Parameters: { \"criterion\" } are not used.\n",
      "\n",
      "  warnings.warn(smsg, UserWarning)\n",
      "c:\\Users\\loren\\anaconda3\\envs\\TensorFlow\\lib\\site-packages\\xgboost\\core.py:160: UserWarning: [10:50:06] WARNING: C:\\buildkite-agent\\builds\\buildkite-windows-cpu-autoscaling-group-i-0b3782d1791676daf-1\\xgboost\\xgboost-ci-windows\\src\\learner.cc:742: \n",
      "Parameters: { \"criterion\" } are not used.\n",
      "\n",
      "  warnings.warn(smsg, UserWarning)\n",
      "c:\\Users\\loren\\anaconda3\\envs\\TensorFlow\\lib\\site-packages\\xgboost\\core.py:160: UserWarning: [10:50:06] WARNING: C:\\buildkite-agent\\builds\\buildkite-windows-cpu-autoscaling-group-i-0b3782d1791676daf-1\\xgboost\\xgboost-ci-windows\\src\\learner.cc:742: \n",
      "Parameters: { \"criterion\" } are not used.\n",
      "\n",
      "  warnings.warn(smsg, UserWarning)\n"
     ]
    },
    {
     "name": "stdout",
     "output_type": "stream",
     "text": [
      "#####################\n",
      "booster  gbtree\n",
      "n_estimators  25\n",
      "eta  0.1\n",
      "max_depth  10\n",
      "lambda  5.0\n",
      "criterion  gini\n",
      "max_leaves  0\n",
      "0.9346035015447992\n",
      "#####################\n",
      "booster  gbtree\n",
      "n_estimators  25\n",
      "eta  0.1\n",
      "max_depth  10\n",
      "lambda  5.0\n",
      "criterion  gini\n",
      "max_leaves  1\n",
      "0.3388259526261586\n",
      "#####################\n",
      "booster  gbtree\n",
      "n_estimators  25\n",
      "eta  0.1\n",
      "max_depth  10\n",
      "lambda  5.0\n",
      "criterion  gini\n",
      "max_leaves  5\n",
      "0.8135942327497425\n"
     ]
    },
    {
     "name": "stderr",
     "output_type": "stream",
     "text": [
      "c:\\Users\\loren\\anaconda3\\envs\\TensorFlow\\lib\\site-packages\\xgboost\\core.py:160: UserWarning: [10:50:06] WARNING: C:\\buildkite-agent\\builds\\buildkite-windows-cpu-autoscaling-group-i-0b3782d1791676daf-1\\xgboost\\xgboost-ci-windows\\src\\learner.cc:742: \n",
      "Parameters: { \"criterion\" } are not used.\n",
      "\n",
      "  warnings.warn(smsg, UserWarning)\n",
      "c:\\Users\\loren\\anaconda3\\envs\\TensorFlow\\lib\\site-packages\\xgboost\\core.py:160: UserWarning: [10:50:07] WARNING: C:\\buildkite-agent\\builds\\buildkite-windows-cpu-autoscaling-group-i-0b3782d1791676daf-1\\xgboost\\xgboost-ci-windows\\src\\learner.cc:742: \n",
      "Parameters: { \"criterion\" } are not used.\n",
      "\n",
      "  warnings.warn(smsg, UserWarning)\n",
      "c:\\Users\\loren\\anaconda3\\envs\\TensorFlow\\lib\\site-packages\\xgboost\\core.py:160: UserWarning: [10:50:07] WARNING: C:\\buildkite-agent\\builds\\buildkite-windows-cpu-autoscaling-group-i-0b3782d1791676daf-1\\xgboost\\xgboost-ci-windows\\src\\learner.cc:742: \n",
      "Parameters: { \"criterion\" } are not used.\n",
      "\n",
      "  warnings.warn(smsg, UserWarning)\n"
     ]
    },
    {
     "name": "stdout",
     "output_type": "stream",
     "text": [
      "#####################\n",
      "booster  gbtree\n",
      "n_estimators  25\n",
      "eta  0.1\n",
      "max_depth  10\n",
      "lambda  5.0\n",
      "criterion  entropy\n",
      "max_leaves  0\n",
      "0.9346035015447992\n",
      "#####################\n",
      "booster  gbtree\n",
      "n_estimators  25\n",
      "eta  0.1\n",
      "max_depth  10\n",
      "lambda  5.0\n",
      "criterion  entropy\n",
      "max_leaves  1\n",
      "0.3388259526261586\n",
      "#####################\n",
      "booster  gbtree\n",
      "n_estimators  25\n",
      "eta  0.1\n",
      "max_depth  10\n",
      "lambda  5.0\n",
      "criterion  entropy\n",
      "max_leaves  5\n",
      "0.8135942327497425\n"
     ]
    },
    {
     "name": "stderr",
     "output_type": "stream",
     "text": [
      "c:\\Users\\loren\\anaconda3\\envs\\TensorFlow\\lib\\site-packages\\xgboost\\core.py:160: UserWarning: [10:50:07] WARNING: C:\\buildkite-agent\\builds\\buildkite-windows-cpu-autoscaling-group-i-0b3782d1791676daf-1\\xgboost\\xgboost-ci-windows\\src\\learner.cc:742: \n",
      "Parameters: { \"criterion\" } are not used.\n",
      "\n",
      "  warnings.warn(smsg, UserWarning)\n",
      "c:\\Users\\loren\\anaconda3\\envs\\TensorFlow\\lib\\site-packages\\xgboost\\core.py:160: UserWarning: [10:50:07] WARNING: C:\\buildkite-agent\\builds\\buildkite-windows-cpu-autoscaling-group-i-0b3782d1791676daf-1\\xgboost\\xgboost-ci-windows\\src\\learner.cc:742: \n",
      "Parameters: { \"criterion\" } are not used.\n",
      "\n",
      "  warnings.warn(smsg, UserWarning)\n",
      "c:\\Users\\loren\\anaconda3\\envs\\TensorFlow\\lib\\site-packages\\xgboost\\core.py:160: UserWarning: [10:50:07] WARNING: C:\\buildkite-agent\\builds\\buildkite-windows-cpu-autoscaling-group-i-0b3782d1791676daf-1\\xgboost\\xgboost-ci-windows\\src\\learner.cc:742: \n",
      "Parameters: { \"criterion\" } are not used.\n",
      "\n",
      "  warnings.warn(smsg, UserWarning)\n"
     ]
    },
    {
     "name": "stdout",
     "output_type": "stream",
     "text": [
      "#####################\n",
      "booster  gbtree\n",
      "n_estimators  25\n",
      "eta  0.1\n",
      "max_depth  20\n",
      "lambda  0.0\n",
      "criterion  gini\n",
      "max_leaves  0\n",
      "0.9335736354273945\n",
      "#####################\n",
      "booster  gbtree\n",
      "n_estimators  25\n",
      "eta  0.1\n",
      "max_depth  20\n",
      "lambda  0.0\n",
      "criterion  gini\n",
      "max_leaves  1\n",
      "0.3388259526261586\n"
     ]
    },
    {
     "name": "stderr",
     "output_type": "stream",
     "text": [
      "c:\\Users\\loren\\anaconda3\\envs\\TensorFlow\\lib\\site-packages\\xgboost\\core.py:160: UserWarning: [10:50:10] WARNING: C:\\buildkite-agent\\builds\\buildkite-windows-cpu-autoscaling-group-i-0b3782d1791676daf-1\\xgboost\\xgboost-ci-windows\\src\\learner.cc:742: \n",
      "Parameters: { \"criterion\" } are not used.\n",
      "\n",
      "  warnings.warn(smsg, UserWarning)\n",
      "c:\\Users\\loren\\anaconda3\\envs\\TensorFlow\\lib\\site-packages\\xgboost\\core.py:160: UserWarning: [10:50:11] WARNING: C:\\buildkite-agent\\builds\\buildkite-windows-cpu-autoscaling-group-i-0b3782d1791676daf-1\\xgboost\\xgboost-ci-windows\\src\\learner.cc:742: \n",
      "Parameters: { \"criterion\" } are not used.\n",
      "\n",
      "  warnings.warn(smsg, UserWarning)\n"
     ]
    },
    {
     "name": "stdout",
     "output_type": "stream",
     "text": [
      "#####################\n",
      "booster  gbtree\n",
      "n_estimators  25\n",
      "eta  0.1\n",
      "max_depth  20\n",
      "lambda  0.0\n",
      "criterion  gini\n",
      "max_leaves  5\n",
      "0.8110195674562307\n"
     ]
    },
    {
     "name": "stderr",
     "output_type": "stream",
     "text": [
      "c:\\Users\\loren\\anaconda3\\envs\\TensorFlow\\lib\\site-packages\\xgboost\\core.py:160: UserWarning: [10:50:11] WARNING: C:\\buildkite-agent\\builds\\buildkite-windows-cpu-autoscaling-group-i-0b3782d1791676daf-1\\xgboost\\xgboost-ci-windows\\src\\learner.cc:742: \n",
      "Parameters: { \"criterion\" } are not used.\n",
      "\n",
      "  warnings.warn(smsg, UserWarning)\n"
     ]
    },
    {
     "name": "stdout",
     "output_type": "stream",
     "text": [
      "#####################\n",
      "booster  gbtree\n",
      "n_estimators  25\n",
      "eta  0.1\n",
      "max_depth  20\n",
      "lambda  0.0\n",
      "criterion  entropy\n",
      "max_leaves  0\n",
      "0.9335736354273945\n",
      "#####################\n",
      "booster  gbtree\n",
      "n_estimators  25\n",
      "eta  0.1\n",
      "max_depth  20\n",
      "lambda  0.0\n",
      "criterion  entropy\n",
      "max_leaves  1\n",
      "0.3388259526261586\n"
     ]
    },
    {
     "name": "stderr",
     "output_type": "stream",
     "text": [
      "c:\\Users\\loren\\anaconda3\\envs\\TensorFlow\\lib\\site-packages\\xgboost\\core.py:160: UserWarning: [10:50:14] WARNING: C:\\buildkite-agent\\builds\\buildkite-windows-cpu-autoscaling-group-i-0b3782d1791676daf-1\\xgboost\\xgboost-ci-windows\\src\\learner.cc:742: \n",
      "Parameters: { \"criterion\" } are not used.\n",
      "\n",
      "  warnings.warn(smsg, UserWarning)\n",
      "c:\\Users\\loren\\anaconda3\\envs\\TensorFlow\\lib\\site-packages\\xgboost\\core.py:160: UserWarning: [10:50:14] WARNING: C:\\buildkite-agent\\builds\\buildkite-windows-cpu-autoscaling-group-i-0b3782d1791676daf-1\\xgboost\\xgboost-ci-windows\\src\\learner.cc:742: \n",
      "Parameters: { \"criterion\" } are not used.\n",
      "\n",
      "  warnings.warn(smsg, UserWarning)\n"
     ]
    },
    {
     "name": "stdout",
     "output_type": "stream",
     "text": [
      "#####################\n",
      "booster  gbtree\n",
      "n_estimators  25\n",
      "eta  0.1\n",
      "max_depth  20\n",
      "lambda  0.0\n",
      "criterion  entropy\n",
      "max_leaves  5\n",
      "0.8110195674562307\n"
     ]
    },
    {
     "name": "stderr",
     "output_type": "stream",
     "text": [
      "c:\\Users\\loren\\anaconda3\\envs\\TensorFlow\\lib\\site-packages\\xgboost\\core.py:160: UserWarning: [10:50:14] WARNING: C:\\buildkite-agent\\builds\\buildkite-windows-cpu-autoscaling-group-i-0b3782d1791676daf-1\\xgboost\\xgboost-ci-windows\\src\\learner.cc:742: \n",
      "Parameters: { \"criterion\" } are not used.\n",
      "\n",
      "  warnings.warn(smsg, UserWarning)\n"
     ]
    },
    {
     "name": "stdout",
     "output_type": "stream",
     "text": [
      "#####################\n",
      "booster  gbtree\n",
      "n_estimators  25\n",
      "eta  0.1\n",
      "max_depth  20\n",
      "lambda  1.0\n",
      "criterion  gini\n",
      "max_leaves  0\n",
      "0.9382080329557158\n",
      "#####################\n",
      "booster  gbtree\n",
      "n_estimators  25\n",
      "eta  0.1\n",
      "max_depth  20\n",
      "lambda  1.0\n",
      "criterion  gini\n",
      "max_leaves  1\n",
      "0.3388259526261586\n"
     ]
    },
    {
     "name": "stderr",
     "output_type": "stream",
     "text": [
      "c:\\Users\\loren\\anaconda3\\envs\\TensorFlow\\lib\\site-packages\\xgboost\\core.py:160: UserWarning: [10:50:15] WARNING: C:\\buildkite-agent\\builds\\buildkite-windows-cpu-autoscaling-group-i-0b3782d1791676daf-1\\xgboost\\xgboost-ci-windows\\src\\learner.cc:742: \n",
      "Parameters: { \"criterion\" } are not used.\n",
      "\n",
      "  warnings.warn(smsg, UserWarning)\n",
      "c:\\Users\\loren\\anaconda3\\envs\\TensorFlow\\lib\\site-packages\\xgboost\\core.py:160: UserWarning: [10:50:15] WARNING: C:\\buildkite-agent\\builds\\buildkite-windows-cpu-autoscaling-group-i-0b3782d1791676daf-1\\xgboost\\xgboost-ci-windows\\src\\learner.cc:742: \n",
      "Parameters: { \"criterion\" } are not used.\n",
      "\n",
      "  warnings.warn(smsg, UserWarning)\n"
     ]
    },
    {
     "name": "stdout",
     "output_type": "stream",
     "text": [
      "#####################\n",
      "booster  gbtree\n",
      "n_estimators  25\n",
      "eta  0.1\n",
      "max_depth  20\n",
      "lambda  1.0\n",
      "criterion  gini\n",
      "max_leaves  5\n",
      "0.8110195674562307\n"
     ]
    },
    {
     "name": "stderr",
     "output_type": "stream",
     "text": [
      "c:\\Users\\loren\\anaconda3\\envs\\TensorFlow\\lib\\site-packages\\xgboost\\core.py:160: UserWarning: [10:50:15] WARNING: C:\\buildkite-agent\\builds\\buildkite-windows-cpu-autoscaling-group-i-0b3782d1791676daf-1\\xgboost\\xgboost-ci-windows\\src\\learner.cc:742: \n",
      "Parameters: { \"criterion\" } are not used.\n",
      "\n",
      "  warnings.warn(smsg, UserWarning)\n"
     ]
    },
    {
     "name": "stdout",
     "output_type": "stream",
     "text": [
      "#####################\n",
      "booster  gbtree\n",
      "n_estimators  25\n",
      "eta  0.1\n",
      "max_depth  20\n",
      "lambda  1.0\n",
      "criterion  entropy\n",
      "max_leaves  0\n",
      "0.9382080329557158\n",
      "#####################\n",
      "booster  gbtree\n",
      "n_estimators  25\n",
      "eta  0.1\n",
      "max_depth  20\n",
      "lambda  1.0\n",
      "criterion  entropy\n",
      "max_leaves  1\n",
      "0.3388259526261586\n",
      "#####################\n",
      "booster  gbtree\n",
      "n_estimators  25\n",
      "eta  0.1\n",
      "max_depth  20\n",
      "lambda  1.0\n",
      "criterion  entropy\n",
      "max_leaves  5\n",
      "0.8110195674562307\n"
     ]
    },
    {
     "name": "stderr",
     "output_type": "stream",
     "text": [
      "c:\\Users\\loren\\anaconda3\\envs\\TensorFlow\\lib\\site-packages\\xgboost\\core.py:160: UserWarning: [10:50:16] WARNING: C:\\buildkite-agent\\builds\\buildkite-windows-cpu-autoscaling-group-i-0b3782d1791676daf-1\\xgboost\\xgboost-ci-windows\\src\\learner.cc:742: \n",
      "Parameters: { \"criterion\" } are not used.\n",
      "\n",
      "  warnings.warn(smsg, UserWarning)\n",
      "c:\\Users\\loren\\anaconda3\\envs\\TensorFlow\\lib\\site-packages\\xgboost\\core.py:160: UserWarning: [10:50:16] WARNING: C:\\buildkite-agent\\builds\\buildkite-windows-cpu-autoscaling-group-i-0b3782d1791676daf-1\\xgboost\\xgboost-ci-windows\\src\\learner.cc:742: \n",
      "Parameters: { \"criterion\" } are not used.\n",
      "\n",
      "  warnings.warn(smsg, UserWarning)\n",
      "c:\\Users\\loren\\anaconda3\\envs\\TensorFlow\\lib\\site-packages\\xgboost\\core.py:160: UserWarning: [10:50:16] WARNING: C:\\buildkite-agent\\builds\\buildkite-windows-cpu-autoscaling-group-i-0b3782d1791676daf-1\\xgboost\\xgboost-ci-windows\\src\\learner.cc:742: \n",
      "Parameters: { \"criterion\" } are not used.\n",
      "\n",
      "  warnings.warn(smsg, UserWarning)\n"
     ]
    },
    {
     "name": "stdout",
     "output_type": "stream",
     "text": [
      "#####################\n",
      "booster  gbtree\n",
      "n_estimators  25\n",
      "eta  0.1\n",
      "max_depth  20\n",
      "lambda  5.0\n",
      "criterion  gini\n",
      "max_leaves  0\n",
      "0.9351184346035015\n",
      "#####################\n",
      "booster  gbtree\n",
      "n_estimators  25\n",
      "eta  0.1\n",
      "max_depth  20\n",
      "lambda  5.0\n",
      "criterion  gini\n",
      "max_leaves  1\n",
      "0.3388259526261586\n",
      "#####################\n",
      "booster  gbtree\n",
      "n_estimators  25\n",
      "eta  0.1\n",
      "max_depth  20\n",
      "lambda  5.0\n",
      "criterion  gini\n",
      "max_leaves  5\n",
      "0.8135942327497425\n"
     ]
    },
    {
     "name": "stderr",
     "output_type": "stream",
     "text": [
      "c:\\Users\\loren\\anaconda3\\envs\\TensorFlow\\lib\\site-packages\\xgboost\\core.py:160: UserWarning: [10:50:17] WARNING: C:\\buildkite-agent\\builds\\buildkite-windows-cpu-autoscaling-group-i-0b3782d1791676daf-1\\xgboost\\xgboost-ci-windows\\src\\learner.cc:742: \n",
      "Parameters: { \"criterion\" } are not used.\n",
      "\n",
      "  warnings.warn(smsg, UserWarning)\n",
      "c:\\Users\\loren\\anaconda3\\envs\\TensorFlow\\lib\\site-packages\\xgboost\\core.py:160: UserWarning: [10:50:17] WARNING: C:\\buildkite-agent\\builds\\buildkite-windows-cpu-autoscaling-group-i-0b3782d1791676daf-1\\xgboost\\xgboost-ci-windows\\src\\learner.cc:742: \n",
      "Parameters: { \"criterion\" } are not used.\n",
      "\n",
      "  warnings.warn(smsg, UserWarning)\n",
      "c:\\Users\\loren\\anaconda3\\envs\\TensorFlow\\lib\\site-packages\\xgboost\\core.py:160: UserWarning: [10:50:17] WARNING: C:\\buildkite-agent\\builds\\buildkite-windows-cpu-autoscaling-group-i-0b3782d1791676daf-1\\xgboost\\xgboost-ci-windows\\src\\learner.cc:742: \n",
      "Parameters: { \"criterion\" } are not used.\n",
      "\n",
      "  warnings.warn(smsg, UserWarning)\n"
     ]
    },
    {
     "name": "stdout",
     "output_type": "stream",
     "text": [
      "#####################\n",
      "booster  gbtree\n",
      "n_estimators  25\n",
      "eta  0.1\n",
      "max_depth  20\n",
      "lambda  5.0\n",
      "criterion  entropy\n",
      "max_leaves  0\n",
      "0.9351184346035015\n",
      "#####################\n",
      "booster  gbtree\n",
      "n_estimators  25\n",
      "eta  0.1\n",
      "max_depth  20\n",
      "lambda  5.0\n",
      "criterion  entropy\n",
      "max_leaves  1\n",
      "0.3388259526261586\n",
      "#####################\n",
      "booster  gbtree\n",
      "n_estimators  25\n",
      "eta  0.1\n",
      "max_depth  20\n",
      "lambda  5.0\n",
      "criterion  entropy\n",
      "max_leaves  5\n",
      "0.8135942327497425\n"
     ]
    },
    {
     "name": "stderr",
     "output_type": "stream",
     "text": [
      "c:\\Users\\loren\\anaconda3\\envs\\TensorFlow\\lib\\site-packages\\xgboost\\core.py:160: UserWarning: [10:50:18] WARNING: C:\\buildkite-agent\\builds\\buildkite-windows-cpu-autoscaling-group-i-0b3782d1791676daf-1\\xgboost\\xgboost-ci-windows\\src\\learner.cc:742: \n",
      "Parameters: { \"criterion\" } are not used.\n",
      "\n",
      "  warnings.warn(smsg, UserWarning)\n",
      "c:\\Users\\loren\\anaconda3\\envs\\TensorFlow\\lib\\site-packages\\xgboost\\core.py:160: UserWarning: [10:50:18] WARNING: C:\\buildkite-agent\\builds\\buildkite-windows-cpu-autoscaling-group-i-0b3782d1791676daf-1\\xgboost\\xgboost-ci-windows\\src\\learner.cc:742: \n",
      "Parameters: { \"criterion\" } are not used.\n",
      "\n",
      "  warnings.warn(smsg, UserWarning)\n",
      "c:\\Users\\loren\\anaconda3\\envs\\TensorFlow\\lib\\site-packages\\xgboost\\core.py:160: UserWarning: [10:50:18] WARNING: C:\\buildkite-agent\\builds\\buildkite-windows-cpu-autoscaling-group-i-0b3782d1791676daf-1\\xgboost\\xgboost-ci-windows\\src\\learner.cc:742: \n",
      "Parameters: { \"criterion\" } are not used.\n",
      "\n",
      "  warnings.warn(smsg, UserWarning)\n"
     ]
    },
    {
     "name": "stdout",
     "output_type": "stream",
     "text": [
      "#####################\n",
      "booster  gbtree\n",
      "n_estimators  25\n",
      "eta  0.1\n",
      "max_depth  30\n",
      "lambda  0.0\n",
      "criterion  gini\n",
      "max_leaves  0\n",
      "0.9340885684860968\n",
      "#####################\n",
      "booster  gbtree\n",
      "n_estimators  25\n",
      "eta  0.1\n",
      "max_depth  30\n",
      "lambda  0.0\n",
      "criterion  gini\n",
      "max_leaves  1\n",
      "0.3388259526261586\n"
     ]
    },
    {
     "name": "stderr",
     "output_type": "stream",
     "text": [
      "c:\\Users\\loren\\anaconda3\\envs\\TensorFlow\\lib\\site-packages\\xgboost\\core.py:160: UserWarning: [10:50:23] WARNING: C:\\buildkite-agent\\builds\\buildkite-windows-cpu-autoscaling-group-i-0b3782d1791676daf-1\\xgboost\\xgboost-ci-windows\\src\\learner.cc:742: \n",
      "Parameters: { \"criterion\" } are not used.\n",
      "\n",
      "  warnings.warn(smsg, UserWarning)\n",
      "c:\\Users\\loren\\anaconda3\\envs\\TensorFlow\\lib\\site-packages\\xgboost\\core.py:160: UserWarning: [10:50:23] WARNING: C:\\buildkite-agent\\builds\\buildkite-windows-cpu-autoscaling-group-i-0b3782d1791676daf-1\\xgboost\\xgboost-ci-windows\\src\\learner.cc:742: \n",
      "Parameters: { \"criterion\" } are not used.\n",
      "\n",
      "  warnings.warn(smsg, UserWarning)\n"
     ]
    },
    {
     "name": "stdout",
     "output_type": "stream",
     "text": [
      "#####################\n",
      "booster  gbtree\n",
      "n_estimators  25\n",
      "eta  0.1\n",
      "max_depth  30\n",
      "lambda  0.0\n",
      "criterion  gini\n",
      "max_leaves  5\n",
      "0.8110195674562307\n"
     ]
    },
    {
     "name": "stderr",
     "output_type": "stream",
     "text": [
      "c:\\Users\\loren\\anaconda3\\envs\\TensorFlow\\lib\\site-packages\\xgboost\\core.py:160: UserWarning: [10:50:23] WARNING: C:\\buildkite-agent\\builds\\buildkite-windows-cpu-autoscaling-group-i-0b3782d1791676daf-1\\xgboost\\xgboost-ci-windows\\src\\learner.cc:742: \n",
      "Parameters: { \"criterion\" } are not used.\n",
      "\n",
      "  warnings.warn(smsg, UserWarning)\n"
     ]
    },
    {
     "name": "stdout",
     "output_type": "stream",
     "text": [
      "#####################\n",
      "booster  gbtree\n",
      "n_estimators  25\n",
      "eta  0.1\n",
      "max_depth  30\n",
      "lambda  0.0\n",
      "criterion  entropy\n",
      "max_leaves  0\n",
      "0.9340885684860968\n",
      "#####################\n",
      "booster  gbtree\n",
      "n_estimators  25\n",
      "eta  0.1\n",
      "max_depth  30\n",
      "lambda  0.0\n",
      "criterion  entropy\n",
      "max_leaves  1\n",
      "0.3388259526261586\n"
     ]
    },
    {
     "name": "stderr",
     "output_type": "stream",
     "text": [
      "c:\\Users\\loren\\anaconda3\\envs\\TensorFlow\\lib\\site-packages\\xgboost\\core.py:160: UserWarning: [10:50:28] WARNING: C:\\buildkite-agent\\builds\\buildkite-windows-cpu-autoscaling-group-i-0b3782d1791676daf-1\\xgboost\\xgboost-ci-windows\\src\\learner.cc:742: \n",
      "Parameters: { \"criterion\" } are not used.\n",
      "\n",
      "  warnings.warn(smsg, UserWarning)\n",
      "c:\\Users\\loren\\anaconda3\\envs\\TensorFlow\\lib\\site-packages\\xgboost\\core.py:160: UserWarning: [10:50:28] WARNING: C:\\buildkite-agent\\builds\\buildkite-windows-cpu-autoscaling-group-i-0b3782d1791676daf-1\\xgboost\\xgboost-ci-windows\\src\\learner.cc:742: \n",
      "Parameters: { \"criterion\" } are not used.\n",
      "\n",
      "  warnings.warn(smsg, UserWarning)\n"
     ]
    },
    {
     "name": "stdout",
     "output_type": "stream",
     "text": [
      "#####################\n",
      "booster  gbtree\n",
      "n_estimators  25\n",
      "eta  0.1\n",
      "max_depth  30\n",
      "lambda  0.0\n",
      "criterion  entropy\n",
      "max_leaves  5\n",
      "0.8110195674562307\n"
     ]
    },
    {
     "name": "stderr",
     "output_type": "stream",
     "text": [
      "c:\\Users\\loren\\anaconda3\\envs\\TensorFlow\\lib\\site-packages\\xgboost\\core.py:160: UserWarning: [10:50:28] WARNING: C:\\buildkite-agent\\builds\\buildkite-windows-cpu-autoscaling-group-i-0b3782d1791676daf-1\\xgboost\\xgboost-ci-windows\\src\\learner.cc:742: \n",
      "Parameters: { \"criterion\" } are not used.\n",
      "\n",
      "  warnings.warn(smsg, UserWarning)\n"
     ]
    },
    {
     "name": "stdout",
     "output_type": "stream",
     "text": [
      "#####################\n",
      "booster  gbtree\n",
      "n_estimators  25\n",
      "eta  0.1\n",
      "max_depth  30\n",
      "lambda  1.0\n",
      "criterion  gini\n",
      "max_leaves  0\n",
      "0.9361483007209063\n",
      "#####################\n",
      "booster  gbtree\n",
      "n_estimators  25\n",
      "eta  0.1\n",
      "max_depth  30\n",
      "lambda  1.0\n",
      "criterion  gini\n",
      "max_leaves  1\n",
      "0.3388259526261586\n"
     ]
    },
    {
     "name": "stderr",
     "output_type": "stream",
     "text": [
      "c:\\Users\\loren\\anaconda3\\envs\\TensorFlow\\lib\\site-packages\\xgboost\\core.py:160: UserWarning: [10:50:30] WARNING: C:\\buildkite-agent\\builds\\buildkite-windows-cpu-autoscaling-group-i-0b3782d1791676daf-1\\xgboost\\xgboost-ci-windows\\src\\learner.cc:742: \n",
      "Parameters: { \"criterion\" } are not used.\n",
      "\n",
      "  warnings.warn(smsg, UserWarning)\n",
      "c:\\Users\\loren\\anaconda3\\envs\\TensorFlow\\lib\\site-packages\\xgboost\\core.py:160: UserWarning: [10:50:30] WARNING: C:\\buildkite-agent\\builds\\buildkite-windows-cpu-autoscaling-group-i-0b3782d1791676daf-1\\xgboost\\xgboost-ci-windows\\src\\learner.cc:742: \n",
      "Parameters: { \"criterion\" } are not used.\n",
      "\n",
      "  warnings.warn(smsg, UserWarning)\n"
     ]
    },
    {
     "name": "stdout",
     "output_type": "stream",
     "text": [
      "#####################\n",
      "booster  gbtree\n",
      "n_estimators  25\n",
      "eta  0.1\n",
      "max_depth  30\n",
      "lambda  1.0\n",
      "criterion  gini\n",
      "max_leaves  5\n",
      "0.8110195674562307\n"
     ]
    },
    {
     "name": "stderr",
     "output_type": "stream",
     "text": [
      "c:\\Users\\loren\\anaconda3\\envs\\TensorFlow\\lib\\site-packages\\xgboost\\core.py:160: UserWarning: [10:50:30] WARNING: C:\\buildkite-agent\\builds\\buildkite-windows-cpu-autoscaling-group-i-0b3782d1791676daf-1\\xgboost\\xgboost-ci-windows\\src\\learner.cc:742: \n",
      "Parameters: { \"criterion\" } are not used.\n",
      "\n",
      "  warnings.warn(smsg, UserWarning)\n"
     ]
    },
    {
     "name": "stdout",
     "output_type": "stream",
     "text": [
      "#####################\n",
      "booster  gbtree\n",
      "n_estimators  25\n",
      "eta  0.1\n",
      "max_depth  30\n",
      "lambda  1.0\n",
      "criterion  entropy\n",
      "max_leaves  0\n",
      "0.9361483007209063\n",
      "#####################\n",
      "booster  gbtree\n",
      "n_estimators  25\n",
      "eta  0.1\n",
      "max_depth  30\n",
      "lambda  1.0\n",
      "criterion  entropy\n",
      "max_leaves  1\n",
      "0.3388259526261586\n",
      "#####################\n",
      "booster  gbtree\n",
      "n_estimators  25\n",
      "eta  0.1\n",
      "max_depth  30\n",
      "lambda  1.0\n",
      "criterion  entropy\n",
      "max_leaves  5\n",
      "0.8110195674562307\n"
     ]
    },
    {
     "name": "stderr",
     "output_type": "stream",
     "text": [
      "c:\\Users\\loren\\anaconda3\\envs\\TensorFlow\\lib\\site-packages\\xgboost\\core.py:160: UserWarning: [10:50:31] WARNING: C:\\buildkite-agent\\builds\\buildkite-windows-cpu-autoscaling-group-i-0b3782d1791676daf-1\\xgboost\\xgboost-ci-windows\\src\\learner.cc:742: \n",
      "Parameters: { \"criterion\" } are not used.\n",
      "\n",
      "  warnings.warn(smsg, UserWarning)\n",
      "c:\\Users\\loren\\anaconda3\\envs\\TensorFlow\\lib\\site-packages\\xgboost\\core.py:160: UserWarning: [10:50:31] WARNING: C:\\buildkite-agent\\builds\\buildkite-windows-cpu-autoscaling-group-i-0b3782d1791676daf-1\\xgboost\\xgboost-ci-windows\\src\\learner.cc:742: \n",
      "Parameters: { \"criterion\" } are not used.\n",
      "\n",
      "  warnings.warn(smsg, UserWarning)\n",
      "c:\\Users\\loren\\anaconda3\\envs\\TensorFlow\\lib\\site-packages\\xgboost\\core.py:160: UserWarning: [10:50:31] WARNING: C:\\buildkite-agent\\builds\\buildkite-windows-cpu-autoscaling-group-i-0b3782d1791676daf-1\\xgboost\\xgboost-ci-windows\\src\\learner.cc:742: \n",
      "Parameters: { \"criterion\" } are not used.\n",
      "\n",
      "  warnings.warn(smsg, UserWarning)\n"
     ]
    },
    {
     "name": "stdout",
     "output_type": "stream",
     "text": [
      "#####################\n",
      "booster  gbtree\n",
      "n_estimators  25\n",
      "eta  0.1\n",
      "max_depth  30\n",
      "lambda  5.0\n",
      "criterion  gini\n",
      "max_leaves  0\n",
      "0.9351184346035015\n"
     ]
    },
    {
     "name": "stderr",
     "output_type": "stream",
     "text": [
      "c:\\Users\\loren\\anaconda3\\envs\\TensorFlow\\lib\\site-packages\\xgboost\\core.py:160: UserWarning: [10:50:32] WARNING: C:\\buildkite-agent\\builds\\buildkite-windows-cpu-autoscaling-group-i-0b3782d1791676daf-1\\xgboost\\xgboost-ci-windows\\src\\learner.cc:742: \n",
      "Parameters: { \"criterion\" } are not used.\n",
      "\n",
      "  warnings.warn(smsg, UserWarning)\n"
     ]
    },
    {
     "name": "stdout",
     "output_type": "stream",
     "text": [
      "#####################\n",
      "booster  gbtree\n",
      "n_estimators  25\n",
      "eta  0.1\n",
      "max_depth  30\n",
      "lambda  5.0\n",
      "criterion  gini\n",
      "max_leaves  1\n",
      "0.3388259526261586\n"
     ]
    },
    {
     "name": "stderr",
     "output_type": "stream",
     "text": [
      "c:\\Users\\loren\\anaconda3\\envs\\TensorFlow\\lib\\site-packages\\xgboost\\core.py:160: UserWarning: [10:50:33] WARNING: C:\\buildkite-agent\\builds\\buildkite-windows-cpu-autoscaling-group-i-0b3782d1791676daf-1\\xgboost\\xgboost-ci-windows\\src\\learner.cc:742: \n",
      "Parameters: { \"criterion\" } are not used.\n",
      "\n",
      "  warnings.warn(smsg, UserWarning)\n"
     ]
    },
    {
     "name": "stdout",
     "output_type": "stream",
     "text": [
      "#####################\n",
      "booster  gbtree\n",
      "n_estimators  25\n",
      "eta  0.1\n",
      "max_depth  30\n",
      "lambda  5.0\n",
      "criterion  gini\n",
      "max_leaves  5\n",
      "0.8135942327497425\n"
     ]
    },
    {
     "name": "stderr",
     "output_type": "stream",
     "text": [
      "c:\\Users\\loren\\anaconda3\\envs\\TensorFlow\\lib\\site-packages\\xgboost\\core.py:160: UserWarning: [10:50:33] WARNING: C:\\buildkite-agent\\builds\\buildkite-windows-cpu-autoscaling-group-i-0b3782d1791676daf-1\\xgboost\\xgboost-ci-windows\\src\\learner.cc:742: \n",
      "Parameters: { \"criterion\" } are not used.\n",
      "\n",
      "  warnings.warn(smsg, UserWarning)\n"
     ]
    },
    {
     "name": "stdout",
     "output_type": "stream",
     "text": [
      "#####################\n",
      "booster  gbtree\n",
      "n_estimators  25\n",
      "eta  0.1\n",
      "max_depth  30\n",
      "lambda  5.0\n",
      "criterion  entropy\n",
      "max_leaves  0\n",
      "0.9351184346035015\n",
      "#####################\n",
      "booster  gbtree\n",
      "n_estimators  25\n",
      "eta  0.1\n",
      "max_depth  30\n",
      "lambda  5.0\n",
      "criterion  entropy\n",
      "max_leaves  1\n",
      "0.3388259526261586\n"
     ]
    },
    {
     "name": "stderr",
     "output_type": "stream",
     "text": [
      "c:\\Users\\loren\\anaconda3\\envs\\TensorFlow\\lib\\site-packages\\xgboost\\core.py:160: UserWarning: [10:50:34] WARNING: C:\\buildkite-agent\\builds\\buildkite-windows-cpu-autoscaling-group-i-0b3782d1791676daf-1\\xgboost\\xgboost-ci-windows\\src\\learner.cc:742: \n",
      "Parameters: { \"criterion\" } are not used.\n",
      "\n",
      "  warnings.warn(smsg, UserWarning)\n",
      "c:\\Users\\loren\\anaconda3\\envs\\TensorFlow\\lib\\site-packages\\xgboost\\core.py:160: UserWarning: [10:50:34] WARNING: C:\\buildkite-agent\\builds\\buildkite-windows-cpu-autoscaling-group-i-0b3782d1791676daf-1\\xgboost\\xgboost-ci-windows\\src\\learner.cc:742: \n",
      "Parameters: { \"criterion\" } are not used.\n",
      "\n",
      "  warnings.warn(smsg, UserWarning)\n"
     ]
    },
    {
     "name": "stdout",
     "output_type": "stream",
     "text": [
      "#####################\n",
      "booster  gbtree\n",
      "n_estimators  25\n",
      "eta  0.1\n",
      "max_depth  30\n",
      "lambda  5.0\n",
      "criterion  entropy\n",
      "max_leaves  5\n",
      "0.8135942327497425\n"
     ]
    },
    {
     "name": "stderr",
     "output_type": "stream",
     "text": [
      "c:\\Users\\loren\\anaconda3\\envs\\TensorFlow\\lib\\site-packages\\xgboost\\core.py:160: UserWarning: [10:50:35] WARNING: C:\\buildkite-agent\\builds\\buildkite-windows-cpu-autoscaling-group-i-0b3782d1791676daf-1\\xgboost\\xgboost-ci-windows\\src\\learner.cc:742: \n",
      "Parameters: { \"criterion\" } are not used.\n",
      "\n",
      "  warnings.warn(smsg, UserWarning)\n"
     ]
    },
    {
     "name": "stdout",
     "output_type": "stream",
     "text": [
      "#####################\n",
      "booster  gbtree\n",
      "n_estimators  25\n",
      "eta  0.3\n",
      "max_depth  5\n",
      "lambda  0.0\n",
      "criterion  gini\n",
      "max_leaves  0\n",
      "0.9376930998970134\n",
      "#####################\n",
      "booster  gbtree\n",
      "n_estimators  25\n",
      "eta  0.3\n",
      "max_depth  5\n",
      "lambda  0.0\n",
      "criterion  gini\n",
      "max_leaves  1\n",
      "0.3388259526261586\n"
     ]
    },
    {
     "name": "stderr",
     "output_type": "stream",
     "text": [
      "c:\\Users\\loren\\anaconda3\\envs\\TensorFlow\\lib\\site-packages\\xgboost\\core.py:160: UserWarning: [10:50:35] WARNING: C:\\buildkite-agent\\builds\\buildkite-windows-cpu-autoscaling-group-i-0b3782d1791676daf-1\\xgboost\\xgboost-ci-windows\\src\\learner.cc:742: \n",
      "Parameters: { \"criterion\" } are not used.\n",
      "\n",
      "  warnings.warn(smsg, UserWarning)\n",
      "c:\\Users\\loren\\anaconda3\\envs\\TensorFlow\\lib\\site-packages\\xgboost\\core.py:160: UserWarning: [10:50:35] WARNING: C:\\buildkite-agent\\builds\\buildkite-windows-cpu-autoscaling-group-i-0b3782d1791676daf-1\\xgboost\\xgboost-ci-windows\\src\\learner.cc:742: \n",
      "Parameters: { \"criterion\" } are not used.\n",
      "\n",
      "  warnings.warn(smsg, UserWarning)\n"
     ]
    },
    {
     "name": "stdout",
     "output_type": "stream",
     "text": [
      "#####################\n",
      "booster  gbtree\n",
      "n_estimators  25\n",
      "eta  0.3\n",
      "max_depth  5\n",
      "lambda  0.0\n",
      "criterion  gini\n",
      "max_leaves  5\n",
      "0.8774459320288363\n"
     ]
    },
    {
     "name": "stderr",
     "output_type": "stream",
     "text": [
      "c:\\Users\\loren\\anaconda3\\envs\\TensorFlow\\lib\\site-packages\\xgboost\\core.py:160: UserWarning: [10:50:35] WARNING: C:\\buildkite-agent\\builds\\buildkite-windows-cpu-autoscaling-group-i-0b3782d1791676daf-1\\xgboost\\xgboost-ci-windows\\src\\learner.cc:742: \n",
      "Parameters: { \"criterion\" } are not used.\n",
      "\n",
      "  warnings.warn(smsg, UserWarning)\n"
     ]
    },
    {
     "name": "stdout",
     "output_type": "stream",
     "text": [
      "#####################\n",
      "booster  gbtree\n",
      "n_estimators  25\n",
      "eta  0.3\n",
      "max_depth  5\n",
      "lambda  0.0\n",
      "criterion  entropy\n",
      "max_leaves  0\n",
      "0.9376930998970134\n",
      "#####################\n",
      "booster  gbtree\n",
      "n_estimators  25\n",
      "eta  0.3\n",
      "max_depth  5\n",
      "lambda  0.0\n",
      "criterion  entropy\n",
      "max_leaves  1\n",
      "0.3388259526261586\n",
      "#####################\n",
      "booster  gbtree\n",
      "n_estimators  25\n",
      "eta  0.3\n",
      "max_depth  5\n",
      "lambda  0.0\n",
      "criterion  entropy\n",
      "max_leaves  5\n",
      "0.8774459320288363\n"
     ]
    },
    {
     "name": "stderr",
     "output_type": "stream",
     "text": [
      "c:\\Users\\loren\\anaconda3\\envs\\TensorFlow\\lib\\site-packages\\xgboost\\core.py:160: UserWarning: [10:50:36] WARNING: C:\\buildkite-agent\\builds\\buildkite-windows-cpu-autoscaling-group-i-0b3782d1791676daf-1\\xgboost\\xgboost-ci-windows\\src\\learner.cc:742: \n",
      "Parameters: { \"criterion\" } are not used.\n",
      "\n",
      "  warnings.warn(smsg, UserWarning)\n",
      "c:\\Users\\loren\\anaconda3\\envs\\TensorFlow\\lib\\site-packages\\xgboost\\core.py:160: UserWarning: [10:50:36] WARNING: C:\\buildkite-agent\\builds\\buildkite-windows-cpu-autoscaling-group-i-0b3782d1791676daf-1\\xgboost\\xgboost-ci-windows\\src\\learner.cc:742: \n",
      "Parameters: { \"criterion\" } are not used.\n",
      "\n",
      "  warnings.warn(smsg, UserWarning)\n",
      "c:\\Users\\loren\\anaconda3\\envs\\TensorFlow\\lib\\site-packages\\xgboost\\core.py:160: UserWarning: [10:50:36] WARNING: C:\\buildkite-agent\\builds\\buildkite-windows-cpu-autoscaling-group-i-0b3782d1791676daf-1\\xgboost\\xgboost-ci-windows\\src\\learner.cc:742: \n",
      "Parameters: { \"criterion\" } are not used.\n",
      "\n",
      "  warnings.warn(smsg, UserWarning)\n"
     ]
    },
    {
     "name": "stdout",
     "output_type": "stream",
     "text": [
      "#####################\n",
      "booster  gbtree\n",
      "n_estimators  25\n",
      "eta  0.3\n",
      "max_depth  5\n",
      "lambda  1.0\n",
      "criterion  gini\n",
      "max_leaves  0\n",
      "0.9320288362512873\n",
      "#####################\n",
      "booster  gbtree\n",
      "n_estimators  25\n",
      "eta  0.3\n",
      "max_depth  5\n",
      "lambda  1.0\n",
      "criterion  gini\n",
      "max_leaves  1\n",
      "0.3388259526261586\n",
      "#####################\n",
      "booster  gbtree\n",
      "n_estimators  25\n",
      "eta  0.3\n",
      "max_depth  5\n",
      "lambda  1.0\n",
      "criterion  gini\n",
      "max_leaves  5\n",
      "0.8820803295571575\n"
     ]
    },
    {
     "name": "stderr",
     "output_type": "stream",
     "text": [
      "c:\\Users\\loren\\anaconda3\\envs\\TensorFlow\\lib\\site-packages\\xgboost\\core.py:160: UserWarning: [10:50:36] WARNING: C:\\buildkite-agent\\builds\\buildkite-windows-cpu-autoscaling-group-i-0b3782d1791676daf-1\\xgboost\\xgboost-ci-windows\\src\\learner.cc:742: \n",
      "Parameters: { \"criterion\" } are not used.\n",
      "\n",
      "  warnings.warn(smsg, UserWarning)\n",
      "c:\\Users\\loren\\anaconda3\\envs\\TensorFlow\\lib\\site-packages\\xgboost\\core.py:160: UserWarning: [10:50:36] WARNING: C:\\buildkite-agent\\builds\\buildkite-windows-cpu-autoscaling-group-i-0b3782d1791676daf-1\\xgboost\\xgboost-ci-windows\\src\\learner.cc:742: \n",
      "Parameters: { \"criterion\" } are not used.\n",
      "\n",
      "  warnings.warn(smsg, UserWarning)\n",
      "c:\\Users\\loren\\anaconda3\\envs\\TensorFlow\\lib\\site-packages\\xgboost\\core.py:160: UserWarning: [10:50:36] WARNING: C:\\buildkite-agent\\builds\\buildkite-windows-cpu-autoscaling-group-i-0b3782d1791676daf-1\\xgboost\\xgboost-ci-windows\\src\\learner.cc:742: \n",
      "Parameters: { \"criterion\" } are not used.\n",
      "\n",
      "  warnings.warn(smsg, UserWarning)\n"
     ]
    },
    {
     "name": "stdout",
     "output_type": "stream",
     "text": [
      "#####################\n",
      "booster  gbtree\n",
      "n_estimators  25\n",
      "eta  0.3\n",
      "max_depth  5\n",
      "lambda  1.0\n",
      "criterion  entropy\n",
      "max_leaves  0\n",
      "0.9320288362512873\n",
      "#####################\n",
      "booster  gbtree\n",
      "n_estimators  25\n",
      "eta  0.3\n",
      "max_depth  5\n",
      "lambda  1.0\n",
      "criterion  entropy\n",
      "max_leaves  1\n",
      "0.3388259526261586\n",
      "#####################\n",
      "booster  gbtree\n",
      "n_estimators  25\n",
      "eta  0.3\n",
      "max_depth  5\n",
      "lambda  1.0\n",
      "criterion  entropy\n",
      "max_leaves  5\n",
      "0.8820803295571575\n"
     ]
    },
    {
     "name": "stderr",
     "output_type": "stream",
     "text": [
      "c:\\Users\\loren\\anaconda3\\envs\\TensorFlow\\lib\\site-packages\\xgboost\\core.py:160: UserWarning: [10:50:37] WARNING: C:\\buildkite-agent\\builds\\buildkite-windows-cpu-autoscaling-group-i-0b3782d1791676daf-1\\xgboost\\xgboost-ci-windows\\src\\learner.cc:742: \n",
      "Parameters: { \"criterion\" } are not used.\n",
      "\n",
      "  warnings.warn(smsg, UserWarning)\n",
      "c:\\Users\\loren\\anaconda3\\envs\\TensorFlow\\lib\\site-packages\\xgboost\\core.py:160: UserWarning: [10:50:37] WARNING: C:\\buildkite-agent\\builds\\buildkite-windows-cpu-autoscaling-group-i-0b3782d1791676daf-1\\xgboost\\xgboost-ci-windows\\src\\learner.cc:742: \n",
      "Parameters: { \"criterion\" } are not used.\n",
      "\n",
      "  warnings.warn(smsg, UserWarning)\n",
      "c:\\Users\\loren\\anaconda3\\envs\\TensorFlow\\lib\\site-packages\\xgboost\\core.py:160: UserWarning: [10:50:37] WARNING: C:\\buildkite-agent\\builds\\buildkite-windows-cpu-autoscaling-group-i-0b3782d1791676daf-1\\xgboost\\xgboost-ci-windows\\src\\learner.cc:742: \n",
      "Parameters: { \"criterion\" } are not used.\n",
      "\n",
      "  warnings.warn(smsg, UserWarning)\n"
     ]
    },
    {
     "name": "stdout",
     "output_type": "stream",
     "text": [
      "#####################\n",
      "booster  gbtree\n",
      "n_estimators  25\n",
      "eta  0.3\n",
      "max_depth  5\n",
      "lambda  5.0\n",
      "criterion  gini\n",
      "max_leaves  0\n",
      "0.9304840370751802\n",
      "#####################\n",
      "booster  gbtree\n",
      "n_estimators  25\n",
      "eta  0.3\n",
      "max_depth  5\n",
      "lambda  5.0\n",
      "criterion  gini\n",
      "max_leaves  1\n",
      "0.3388259526261586\n"
     ]
    },
    {
     "name": "stderr",
     "output_type": "stream",
     "text": [
      "c:\\Users\\loren\\anaconda3\\envs\\TensorFlow\\lib\\site-packages\\xgboost\\core.py:160: UserWarning: [10:50:37] WARNING: C:\\buildkite-agent\\builds\\buildkite-windows-cpu-autoscaling-group-i-0b3782d1791676daf-1\\xgboost\\xgboost-ci-windows\\src\\learner.cc:742: \n",
      "Parameters: { \"criterion\" } are not used.\n",
      "\n",
      "  warnings.warn(smsg, UserWarning)\n",
      "c:\\Users\\loren\\anaconda3\\envs\\TensorFlow\\lib\\site-packages\\xgboost\\core.py:160: UserWarning: [10:50:37] WARNING: C:\\buildkite-agent\\builds\\buildkite-windows-cpu-autoscaling-group-i-0b3782d1791676daf-1\\xgboost\\xgboost-ci-windows\\src\\learner.cc:742: \n",
      "Parameters: { \"criterion\" } are not used.\n",
      "\n",
      "  warnings.warn(smsg, UserWarning)\n"
     ]
    },
    {
     "name": "stdout",
     "output_type": "stream",
     "text": [
      "#####################\n",
      "booster  gbtree\n",
      "n_estimators  25\n",
      "eta  0.3\n",
      "max_depth  5\n",
      "lambda  5.0\n",
      "criterion  gini\n",
      "max_leaves  5\n",
      "0.8779608650875386\n"
     ]
    },
    {
     "name": "stderr",
     "output_type": "stream",
     "text": [
      "c:\\Users\\loren\\anaconda3\\envs\\TensorFlow\\lib\\site-packages\\xgboost\\core.py:160: UserWarning: [10:50:37] WARNING: C:\\buildkite-agent\\builds\\buildkite-windows-cpu-autoscaling-group-i-0b3782d1791676daf-1\\xgboost\\xgboost-ci-windows\\src\\learner.cc:742: \n",
      "Parameters: { \"criterion\" } are not used.\n",
      "\n",
      "  warnings.warn(smsg, UserWarning)\n"
     ]
    },
    {
     "name": "stdout",
     "output_type": "stream",
     "text": [
      "#####################\n",
      "booster  gbtree\n",
      "n_estimators  25\n",
      "eta  0.3\n",
      "max_depth  5\n",
      "lambda  5.0\n",
      "criterion  entropy\n",
      "max_leaves  0\n",
      "0.9304840370751802\n",
      "#####################\n",
      "booster  gbtree\n",
      "n_estimators  25\n",
      "eta  0.3\n",
      "max_depth  5\n",
      "lambda  5.0\n",
      "criterion  entropy\n",
      "max_leaves  1\n",
      "0.3388259526261586\n",
      "#####################\n",
      "booster  gbtree\n",
      "n_estimators  25\n",
      "eta  0.3\n",
      "max_depth  5\n",
      "lambda  5.0\n",
      "criterion  entropy\n",
      "max_leaves  5\n",
      "0.8779608650875386\n"
     ]
    },
    {
     "name": "stderr",
     "output_type": "stream",
     "text": [
      "c:\\Users\\loren\\anaconda3\\envs\\TensorFlow\\lib\\site-packages\\xgboost\\core.py:160: UserWarning: [10:50:37] WARNING: C:\\buildkite-agent\\builds\\buildkite-windows-cpu-autoscaling-group-i-0b3782d1791676daf-1\\xgboost\\xgboost-ci-windows\\src\\learner.cc:742: \n",
      "Parameters: { \"criterion\" } are not used.\n",
      "\n",
      "  warnings.warn(smsg, UserWarning)\n",
      "c:\\Users\\loren\\anaconda3\\envs\\TensorFlow\\lib\\site-packages\\xgboost\\core.py:160: UserWarning: [10:50:38] WARNING: C:\\buildkite-agent\\builds\\buildkite-windows-cpu-autoscaling-group-i-0b3782d1791676daf-1\\xgboost\\xgboost-ci-windows\\src\\learner.cc:742: \n",
      "Parameters: { \"criterion\" } are not used.\n",
      "\n",
      "  warnings.warn(smsg, UserWarning)\n",
      "c:\\Users\\loren\\anaconda3\\envs\\TensorFlow\\lib\\site-packages\\xgboost\\core.py:160: UserWarning: [10:50:38] WARNING: C:\\buildkite-agent\\builds\\buildkite-windows-cpu-autoscaling-group-i-0b3782d1791676daf-1\\xgboost\\xgboost-ci-windows\\src\\learner.cc:742: \n",
      "Parameters: { \"criterion\" } are not used.\n",
      "\n",
      "  warnings.warn(smsg, UserWarning)\n"
     ]
    },
    {
     "name": "stdout",
     "output_type": "stream",
     "text": [
      "#####################\n",
      "booster  gbtree\n",
      "n_estimators  25\n",
      "eta  0.3\n",
      "max_depth  10\n",
      "lambda  0.0\n",
      "criterion  gini\n",
      "max_leaves  0\n",
      "0.9423274974253347\n",
      "#####################\n",
      "booster  gbtree\n",
      "n_estimators  25\n",
      "eta  0.3\n",
      "max_depth  10\n",
      "lambda  0.0\n",
      "criterion  gini\n",
      "max_leaves  1\n",
      "0.3388259526261586\n"
     ]
    },
    {
     "name": "stderr",
     "output_type": "stream",
     "text": [
      "c:\\Users\\loren\\anaconda3\\envs\\TensorFlow\\lib\\site-packages\\xgboost\\core.py:160: UserWarning: [10:50:38] WARNING: C:\\buildkite-agent\\builds\\buildkite-windows-cpu-autoscaling-group-i-0b3782d1791676daf-1\\xgboost\\xgboost-ci-windows\\src\\learner.cc:742: \n",
      "Parameters: { \"criterion\" } are not used.\n",
      "\n",
      "  warnings.warn(smsg, UserWarning)\n",
      "c:\\Users\\loren\\anaconda3\\envs\\TensorFlow\\lib\\site-packages\\xgboost\\core.py:160: UserWarning: [10:50:38] WARNING: C:\\buildkite-agent\\builds\\buildkite-windows-cpu-autoscaling-group-i-0b3782d1791676daf-1\\xgboost\\xgboost-ci-windows\\src\\learner.cc:742: \n",
      "Parameters: { \"criterion\" } are not used.\n",
      "\n",
      "  warnings.warn(smsg, UserWarning)\n"
     ]
    },
    {
     "name": "stdout",
     "output_type": "stream",
     "text": [
      "#####################\n",
      "booster  gbtree\n",
      "n_estimators  25\n",
      "eta  0.3\n",
      "max_depth  10\n",
      "lambda  0.0\n",
      "criterion  gini\n",
      "max_leaves  5\n",
      "0.8774459320288363\n"
     ]
    },
    {
     "name": "stderr",
     "output_type": "stream",
     "text": [
      "c:\\Users\\loren\\anaconda3\\envs\\TensorFlow\\lib\\site-packages\\xgboost\\core.py:160: UserWarning: [10:50:39] WARNING: C:\\buildkite-agent\\builds\\buildkite-windows-cpu-autoscaling-group-i-0b3782d1791676daf-1\\xgboost\\xgboost-ci-windows\\src\\learner.cc:742: \n",
      "Parameters: { \"criterion\" } are not used.\n",
      "\n",
      "  warnings.warn(smsg, UserWarning)\n"
     ]
    },
    {
     "name": "stdout",
     "output_type": "stream",
     "text": [
      "#####################\n",
      "booster  gbtree\n",
      "n_estimators  25\n",
      "eta  0.3\n",
      "max_depth  10\n",
      "lambda  0.0\n",
      "criterion  entropy\n",
      "max_leaves  0\n",
      "0.9423274974253347\n",
      "#####################\n",
      "booster  gbtree\n",
      "n_estimators  25\n",
      "eta  0.3\n",
      "max_depth  10\n",
      "lambda  0.0\n",
      "criterion  entropy\n",
      "max_leaves  1\n",
      "0.3388259526261586\n"
     ]
    },
    {
     "name": "stderr",
     "output_type": "stream",
     "text": [
      "c:\\Users\\loren\\anaconda3\\envs\\TensorFlow\\lib\\site-packages\\xgboost\\core.py:160: UserWarning: [10:50:40] WARNING: C:\\buildkite-agent\\builds\\buildkite-windows-cpu-autoscaling-group-i-0b3782d1791676daf-1\\xgboost\\xgboost-ci-windows\\src\\learner.cc:742: \n",
      "Parameters: { \"criterion\" } are not used.\n",
      "\n",
      "  warnings.warn(smsg, UserWarning)\n",
      "c:\\Users\\loren\\anaconda3\\envs\\TensorFlow\\lib\\site-packages\\xgboost\\core.py:160: UserWarning: [10:50:40] WARNING: C:\\buildkite-agent\\builds\\buildkite-windows-cpu-autoscaling-group-i-0b3782d1791676daf-1\\xgboost\\xgboost-ci-windows\\src\\learner.cc:742: \n",
      "Parameters: { \"criterion\" } are not used.\n",
      "\n",
      "  warnings.warn(smsg, UserWarning)\n"
     ]
    },
    {
     "name": "stdout",
     "output_type": "stream",
     "text": [
      "#####################\n",
      "booster  gbtree\n",
      "n_estimators  25\n",
      "eta  0.3\n",
      "max_depth  10\n",
      "lambda  0.0\n",
      "criterion  entropy\n",
      "max_leaves  5\n",
      "0.8774459320288363\n"
     ]
    },
    {
     "name": "stderr",
     "output_type": "stream",
     "text": [
      "c:\\Users\\loren\\anaconda3\\envs\\TensorFlow\\lib\\site-packages\\xgboost\\core.py:160: UserWarning: [10:50:40] WARNING: C:\\buildkite-agent\\builds\\buildkite-windows-cpu-autoscaling-group-i-0b3782d1791676daf-1\\xgboost\\xgboost-ci-windows\\src\\learner.cc:742: \n",
      "Parameters: { \"criterion\" } are not used.\n",
      "\n",
      "  warnings.warn(smsg, UserWarning)\n"
     ]
    },
    {
     "name": "stdout",
     "output_type": "stream",
     "text": [
      "#####################\n",
      "booster  gbtree\n",
      "n_estimators  25\n",
      "eta  0.3\n",
      "max_depth  10\n",
      "lambda  1.0\n",
      "criterion  gini\n",
      "max_leaves  0\n",
      "0.9402677651905252\n",
      "#####################\n",
      "booster  gbtree\n",
      "n_estimators  25\n",
      "eta  0.3\n",
      "max_depth  10\n",
      "lambda  1.0\n",
      "criterion  gini\n",
      "max_leaves  1\n",
      "0.3388259526261586\n",
      "#####################\n",
      "booster  gbtree\n",
      "n_estimators  25\n",
      "eta  0.3\n",
      "max_depth  10\n",
      "lambda  1.0\n",
      "criterion  gini\n",
      "max_leaves  5\n",
      "0.8820803295571575\n"
     ]
    },
    {
     "name": "stderr",
     "output_type": "stream",
     "text": [
      "c:\\Users\\loren\\anaconda3\\envs\\TensorFlow\\lib\\site-packages\\xgboost\\core.py:160: UserWarning: [10:50:40] WARNING: C:\\buildkite-agent\\builds\\buildkite-windows-cpu-autoscaling-group-i-0b3782d1791676daf-1\\xgboost\\xgboost-ci-windows\\src\\learner.cc:742: \n",
      "Parameters: { \"criterion\" } are not used.\n",
      "\n",
      "  warnings.warn(smsg, UserWarning)\n",
      "c:\\Users\\loren\\anaconda3\\envs\\TensorFlow\\lib\\site-packages\\xgboost\\core.py:160: UserWarning: [10:50:40] WARNING: C:\\buildkite-agent\\builds\\buildkite-windows-cpu-autoscaling-group-i-0b3782d1791676daf-1\\xgboost\\xgboost-ci-windows\\src\\learner.cc:742: \n",
      "Parameters: { \"criterion\" } are not used.\n",
      "\n",
      "  warnings.warn(smsg, UserWarning)\n",
      "c:\\Users\\loren\\anaconda3\\envs\\TensorFlow\\lib\\site-packages\\xgboost\\core.py:160: UserWarning: [10:50:41] WARNING: C:\\buildkite-agent\\builds\\buildkite-windows-cpu-autoscaling-group-i-0b3782d1791676daf-1\\xgboost\\xgboost-ci-windows\\src\\learner.cc:742: \n",
      "Parameters: { \"criterion\" } are not used.\n",
      "\n",
      "  warnings.warn(smsg, UserWarning)\n"
     ]
    },
    {
     "name": "stdout",
     "output_type": "stream",
     "text": [
      "#####################\n",
      "booster  gbtree\n",
      "n_estimators  25\n",
      "eta  0.3\n",
      "max_depth  10\n",
      "lambda  1.0\n",
      "criterion  entropy\n",
      "max_leaves  0\n",
      "0.9402677651905252\n",
      "#####################\n",
      "booster  gbtree\n",
      "n_estimators  25\n",
      "eta  0.3\n",
      "max_depth  10\n",
      "lambda  1.0\n",
      "criterion  entropy\n",
      "max_leaves  1\n",
      "0.3388259526261586\n"
     ]
    },
    {
     "name": "stderr",
     "output_type": "stream",
     "text": [
      "c:\\Users\\loren\\anaconda3\\envs\\TensorFlow\\lib\\site-packages\\xgboost\\core.py:160: UserWarning: [10:50:41] WARNING: C:\\buildkite-agent\\builds\\buildkite-windows-cpu-autoscaling-group-i-0b3782d1791676daf-1\\xgboost\\xgboost-ci-windows\\src\\learner.cc:742: \n",
      "Parameters: { \"criterion\" } are not used.\n",
      "\n",
      "  warnings.warn(smsg, UserWarning)\n",
      "c:\\Users\\loren\\anaconda3\\envs\\TensorFlow\\lib\\site-packages\\xgboost\\core.py:160: UserWarning: [10:50:41] WARNING: C:\\buildkite-agent\\builds\\buildkite-windows-cpu-autoscaling-group-i-0b3782d1791676daf-1\\xgboost\\xgboost-ci-windows\\src\\learner.cc:742: \n",
      "Parameters: { \"criterion\" } are not used.\n",
      "\n",
      "  warnings.warn(smsg, UserWarning)\n"
     ]
    },
    {
     "name": "stdout",
     "output_type": "stream",
     "text": [
      "#####################\n",
      "booster  gbtree\n",
      "n_estimators  25\n",
      "eta  0.3\n",
      "max_depth  10\n",
      "lambda  1.0\n",
      "criterion  entropy\n",
      "max_leaves  5\n",
      "0.8820803295571575\n"
     ]
    },
    {
     "name": "stderr",
     "output_type": "stream",
     "text": [
      "c:\\Users\\loren\\anaconda3\\envs\\TensorFlow\\lib\\site-packages\\xgboost\\core.py:160: UserWarning: [10:50:42] WARNING: C:\\buildkite-agent\\builds\\buildkite-windows-cpu-autoscaling-group-i-0b3782d1791676daf-1\\xgboost\\xgboost-ci-windows\\src\\learner.cc:742: \n",
      "Parameters: { \"criterion\" } are not used.\n",
      "\n",
      "  warnings.warn(smsg, UserWarning)\n"
     ]
    },
    {
     "name": "stdout",
     "output_type": "stream",
     "text": [
      "#####################\n",
      "booster  gbtree\n",
      "n_estimators  25\n",
      "eta  0.3\n",
      "max_depth  10\n",
      "lambda  5.0\n",
      "criterion  gini\n",
      "max_leaves  0\n",
      "0.9397528321318228\n",
      "#####################\n",
      "booster  gbtree\n",
      "n_estimators  25\n",
      "eta  0.3\n",
      "max_depth  10\n",
      "lambda  5.0\n",
      "criterion  gini\n",
      "max_leaves  1\n",
      "0.3388259526261586\n",
      "#####################\n",
      "booster  gbtree\n",
      "n_estimators  25\n",
      "eta  0.3\n",
      "max_depth  10\n",
      "lambda  5.0\n",
      "criterion  gini\n",
      "max_leaves  5\n",
      "0.8779608650875386\n"
     ]
    },
    {
     "name": "stderr",
     "output_type": "stream",
     "text": [
      "c:\\Users\\loren\\anaconda3\\envs\\TensorFlow\\lib\\site-packages\\xgboost\\core.py:160: UserWarning: [10:50:43] WARNING: C:\\buildkite-agent\\builds\\buildkite-windows-cpu-autoscaling-group-i-0b3782d1791676daf-1\\xgboost\\xgboost-ci-windows\\src\\learner.cc:742: \n",
      "Parameters: { \"criterion\" } are not used.\n",
      "\n",
      "  warnings.warn(smsg, UserWarning)\n",
      "c:\\Users\\loren\\anaconda3\\envs\\TensorFlow\\lib\\site-packages\\xgboost\\core.py:160: UserWarning: [10:50:43] WARNING: C:\\buildkite-agent\\builds\\buildkite-windows-cpu-autoscaling-group-i-0b3782d1791676daf-1\\xgboost\\xgboost-ci-windows\\src\\learner.cc:742: \n",
      "Parameters: { \"criterion\" } are not used.\n",
      "\n",
      "  warnings.warn(smsg, UserWarning)\n",
      "c:\\Users\\loren\\anaconda3\\envs\\TensorFlow\\lib\\site-packages\\xgboost\\core.py:160: UserWarning: [10:50:43] WARNING: C:\\buildkite-agent\\builds\\buildkite-windows-cpu-autoscaling-group-i-0b3782d1791676daf-1\\xgboost\\xgboost-ci-windows\\src\\learner.cc:742: \n",
      "Parameters: { \"criterion\" } are not used.\n",
      "\n",
      "  warnings.warn(smsg, UserWarning)\n"
     ]
    },
    {
     "name": "stdout",
     "output_type": "stream",
     "text": [
      "#####################\n",
      "booster  gbtree\n",
      "n_estimators  25\n",
      "eta  0.3\n",
      "max_depth  10\n",
      "lambda  5.0\n",
      "criterion  entropy\n",
      "max_leaves  0\n",
      "0.9397528321318228\n",
      "#####################\n",
      "booster  gbtree\n",
      "n_estimators  25\n",
      "eta  0.3\n",
      "max_depth  10\n",
      "lambda  5.0\n",
      "criterion  entropy\n",
      "max_leaves  1\n",
      "0.3388259526261586\n",
      "#####################\n",
      "booster  gbtree\n",
      "n_estimators  25\n",
      "eta  0.3\n",
      "max_depth  10\n",
      "lambda  5.0\n",
      "criterion  entropy\n",
      "max_leaves  5\n",
      "0.8779608650875386\n"
     ]
    },
    {
     "name": "stderr",
     "output_type": "stream",
     "text": [
      "c:\\Users\\loren\\anaconda3\\envs\\TensorFlow\\lib\\site-packages\\xgboost\\core.py:160: UserWarning: [10:50:43] WARNING: C:\\buildkite-agent\\builds\\buildkite-windows-cpu-autoscaling-group-i-0b3782d1791676daf-1\\xgboost\\xgboost-ci-windows\\src\\learner.cc:742: \n",
      "Parameters: { \"criterion\" } are not used.\n",
      "\n",
      "  warnings.warn(smsg, UserWarning)\n",
      "c:\\Users\\loren\\anaconda3\\envs\\TensorFlow\\lib\\site-packages\\xgboost\\core.py:160: UserWarning: [10:50:43] WARNING: C:\\buildkite-agent\\builds\\buildkite-windows-cpu-autoscaling-group-i-0b3782d1791676daf-1\\xgboost\\xgboost-ci-windows\\src\\learner.cc:742: \n",
      "Parameters: { \"criterion\" } are not used.\n",
      "\n",
      "  warnings.warn(smsg, UserWarning)\n",
      "c:\\Users\\loren\\anaconda3\\envs\\TensorFlow\\lib\\site-packages\\xgboost\\core.py:160: UserWarning: [10:50:43] WARNING: C:\\buildkite-agent\\builds\\buildkite-windows-cpu-autoscaling-group-i-0b3782d1791676daf-1\\xgboost\\xgboost-ci-windows\\src\\learner.cc:742: \n",
      "Parameters: { \"criterion\" } are not used.\n",
      "\n",
      "  warnings.warn(smsg, UserWarning)\n"
     ]
    },
    {
     "name": "stdout",
     "output_type": "stream",
     "text": [
      "#####################\n",
      "booster  gbtree\n",
      "n_estimators  25\n",
      "eta  0.3\n",
      "max_depth  20\n",
      "lambda  0.0\n",
      "criterion  gini\n",
      "max_leaves  0\n",
      "0.9407826982492276\n",
      "#####################\n",
      "booster  gbtree\n",
      "n_estimators  25\n",
      "eta  0.3\n",
      "max_depth  20\n",
      "lambda  0.0\n",
      "criterion  gini\n",
      "max_leaves  1\n",
      "0.3388259526261586\n",
      "#####################\n",
      "booster  gbtree\n",
      "n_estimators  25\n",
      "eta  0.3\n",
      "max_depth  20\n",
      "lambda  0.0\n",
      "criterion  gini\n",
      "max_leaves  5\n",
      "0.8774459320288363\n"
     ]
    },
    {
     "name": "stderr",
     "output_type": "stream",
     "text": [
      "c:\\Users\\loren\\anaconda3\\envs\\TensorFlow\\lib\\site-packages\\xgboost\\core.py:160: UserWarning: [10:50:45] WARNING: C:\\buildkite-agent\\builds\\buildkite-windows-cpu-autoscaling-group-i-0b3782d1791676daf-1\\xgboost\\xgboost-ci-windows\\src\\learner.cc:742: \n",
      "Parameters: { \"criterion\" } are not used.\n",
      "\n",
      "  warnings.warn(smsg, UserWarning)\n",
      "c:\\Users\\loren\\anaconda3\\envs\\TensorFlow\\lib\\site-packages\\xgboost\\core.py:160: UserWarning: [10:50:45] WARNING: C:\\buildkite-agent\\builds\\buildkite-windows-cpu-autoscaling-group-i-0b3782d1791676daf-1\\xgboost\\xgboost-ci-windows\\src\\learner.cc:742: \n",
      "Parameters: { \"criterion\" } are not used.\n",
      "\n",
      "  warnings.warn(smsg, UserWarning)\n",
      "c:\\Users\\loren\\anaconda3\\envs\\TensorFlow\\lib\\site-packages\\xgboost\\core.py:160: UserWarning: [10:50:45] WARNING: C:\\buildkite-agent\\builds\\buildkite-windows-cpu-autoscaling-group-i-0b3782d1791676daf-1\\xgboost\\xgboost-ci-windows\\src\\learner.cc:742: \n",
      "Parameters: { \"criterion\" } are not used.\n",
      "\n",
      "  warnings.warn(smsg, UserWarning)\n"
     ]
    },
    {
     "name": "stdout",
     "output_type": "stream",
     "text": [
      "#####################\n",
      "booster  gbtree\n",
      "n_estimators  25\n",
      "eta  0.3\n",
      "max_depth  20\n",
      "lambda  0.0\n",
      "criterion  entropy\n",
      "max_leaves  0\n",
      "0.9407826982492276\n",
      "#####################\n",
      "booster  gbtree\n",
      "n_estimators  25\n",
      "eta  0.3\n",
      "max_depth  20\n",
      "lambda  0.0\n",
      "criterion  entropy\n",
      "max_leaves  1\n",
      "0.3388259526261586\n"
     ]
    },
    {
     "name": "stderr",
     "output_type": "stream",
     "text": [
      "c:\\Users\\loren\\anaconda3\\envs\\TensorFlow\\lib\\site-packages\\xgboost\\core.py:160: UserWarning: [10:50:47] WARNING: C:\\buildkite-agent\\builds\\buildkite-windows-cpu-autoscaling-group-i-0b3782d1791676daf-1\\xgboost\\xgboost-ci-windows\\src\\learner.cc:742: \n",
      "Parameters: { \"criterion\" } are not used.\n",
      "\n",
      "  warnings.warn(smsg, UserWarning)\n",
      "c:\\Users\\loren\\anaconda3\\envs\\TensorFlow\\lib\\site-packages\\xgboost\\core.py:160: UserWarning: [10:50:47] WARNING: C:\\buildkite-agent\\builds\\buildkite-windows-cpu-autoscaling-group-i-0b3782d1791676daf-1\\xgboost\\xgboost-ci-windows\\src\\learner.cc:742: \n",
      "Parameters: { \"criterion\" } are not used.\n",
      "\n",
      "  warnings.warn(smsg, UserWarning)\n"
     ]
    },
    {
     "name": "stdout",
     "output_type": "stream",
     "text": [
      "#####################\n",
      "booster  gbtree\n",
      "n_estimators  25\n",
      "eta  0.3\n",
      "max_depth  20\n",
      "lambda  0.0\n",
      "criterion  entropy\n",
      "max_leaves  5\n",
      "0.8774459320288363\n"
     ]
    },
    {
     "name": "stderr",
     "output_type": "stream",
     "text": [
      "c:\\Users\\loren\\anaconda3\\envs\\TensorFlow\\lib\\site-packages\\xgboost\\core.py:160: UserWarning: [10:50:47] WARNING: C:\\buildkite-agent\\builds\\buildkite-windows-cpu-autoscaling-group-i-0b3782d1791676daf-1\\xgboost\\xgboost-ci-windows\\src\\learner.cc:742: \n",
      "Parameters: { \"criterion\" } are not used.\n",
      "\n",
      "  warnings.warn(smsg, UserWarning)\n"
     ]
    },
    {
     "name": "stdout",
     "output_type": "stream",
     "text": [
      "#####################\n",
      "booster  gbtree\n",
      "n_estimators  25\n",
      "eta  0.3\n",
      "max_depth  20\n",
      "lambda  1.0\n",
      "criterion  gini\n",
      "max_leaves  0\n",
      "0.937178166838311\n",
      "#####################\n",
      "booster  gbtree\n",
      "n_estimators  25\n",
      "eta  0.3\n",
      "max_depth  20\n",
      "lambda  1.0\n",
      "criterion  gini\n",
      "max_leaves  1\n",
      "0.3388259526261586\n",
      "#####################\n",
      "booster  gbtree\n",
      "n_estimators  25\n",
      "eta  0.3\n",
      "max_depth  20\n",
      "lambda  1.0\n",
      "criterion  gini\n",
      "max_leaves  5\n",
      "0.8820803295571575\n"
     ]
    },
    {
     "name": "stderr",
     "output_type": "stream",
     "text": [
      "c:\\Users\\loren\\anaconda3\\envs\\TensorFlow\\lib\\site-packages\\xgboost\\core.py:160: UserWarning: [10:50:48] WARNING: C:\\buildkite-agent\\builds\\buildkite-windows-cpu-autoscaling-group-i-0b3782d1791676daf-1\\xgboost\\xgboost-ci-windows\\src\\learner.cc:742: \n",
      "Parameters: { \"criterion\" } are not used.\n",
      "\n",
      "  warnings.warn(smsg, UserWarning)\n",
      "c:\\Users\\loren\\anaconda3\\envs\\TensorFlow\\lib\\site-packages\\xgboost\\core.py:160: UserWarning: [10:50:48] WARNING: C:\\buildkite-agent\\builds\\buildkite-windows-cpu-autoscaling-group-i-0b3782d1791676daf-1\\xgboost\\xgboost-ci-windows\\src\\learner.cc:742: \n",
      "Parameters: { \"criterion\" } are not used.\n",
      "\n",
      "  warnings.warn(smsg, UserWarning)\n",
      "c:\\Users\\loren\\anaconda3\\envs\\TensorFlow\\lib\\site-packages\\xgboost\\core.py:160: UserWarning: [10:50:48] WARNING: C:\\buildkite-agent\\builds\\buildkite-windows-cpu-autoscaling-group-i-0b3782d1791676daf-1\\xgboost\\xgboost-ci-windows\\src\\learner.cc:742: \n",
      "Parameters: { \"criterion\" } are not used.\n",
      "\n",
      "  warnings.warn(smsg, UserWarning)\n"
     ]
    },
    {
     "name": "stdout",
     "output_type": "stream",
     "text": [
      "#####################\n",
      "booster  gbtree\n",
      "n_estimators  25\n",
      "eta  0.3\n",
      "max_depth  20\n",
      "lambda  1.0\n",
      "criterion  entropy\n",
      "max_leaves  0\n",
      "0.937178166838311\n",
      "#####################\n",
      "booster  gbtree\n",
      "n_estimators  25\n",
      "eta  0.3\n",
      "max_depth  20\n",
      "lambda  1.0\n",
      "criterion  entropy\n",
      "max_leaves  1\n",
      "0.3388259526261586\n"
     ]
    },
    {
     "name": "stderr",
     "output_type": "stream",
     "text": [
      "c:\\Users\\loren\\anaconda3\\envs\\TensorFlow\\lib\\site-packages\\xgboost\\core.py:160: UserWarning: [10:50:48] WARNING: C:\\buildkite-agent\\builds\\buildkite-windows-cpu-autoscaling-group-i-0b3782d1791676daf-1\\xgboost\\xgboost-ci-windows\\src\\learner.cc:742: \n",
      "Parameters: { \"criterion\" } are not used.\n",
      "\n",
      "  warnings.warn(smsg, UserWarning)\n",
      "c:\\Users\\loren\\anaconda3\\envs\\TensorFlow\\lib\\site-packages\\xgboost\\core.py:160: UserWarning: [10:50:49] WARNING: C:\\buildkite-agent\\builds\\buildkite-windows-cpu-autoscaling-group-i-0b3782d1791676daf-1\\xgboost\\xgboost-ci-windows\\src\\learner.cc:742: \n",
      "Parameters: { \"criterion\" } are not used.\n",
      "\n",
      "  warnings.warn(smsg, UserWarning)\n"
     ]
    },
    {
     "name": "stdout",
     "output_type": "stream",
     "text": [
      "#####################\n",
      "booster  gbtree\n",
      "n_estimators  25\n",
      "eta  0.3\n",
      "max_depth  20\n",
      "lambda  1.0\n",
      "criterion  entropy\n",
      "max_leaves  5\n",
      "0.8820803295571575\n"
     ]
    },
    {
     "name": "stderr",
     "output_type": "stream",
     "text": [
      "c:\\Users\\loren\\anaconda3\\envs\\TensorFlow\\lib\\site-packages\\xgboost\\core.py:160: UserWarning: [10:50:49] WARNING: C:\\buildkite-agent\\builds\\buildkite-windows-cpu-autoscaling-group-i-0b3782d1791676daf-1\\xgboost\\xgboost-ci-windows\\src\\learner.cc:742: \n",
      "Parameters: { \"criterion\" } are not used.\n",
      "\n",
      "  warnings.warn(smsg, UserWarning)\n"
     ]
    },
    {
     "name": "stdout",
     "output_type": "stream",
     "text": [
      "#####################\n",
      "booster  gbtree\n",
      "n_estimators  25\n",
      "eta  0.3\n",
      "max_depth  20\n",
      "lambda  5.0\n",
      "criterion  gini\n",
      "max_leaves  0\n",
      "0.9392378990731205\n",
      "#####################\n",
      "booster  gbtree\n",
      "n_estimators  25\n",
      "eta  0.3\n",
      "max_depth  20\n",
      "lambda  5.0\n",
      "criterion  gini\n",
      "max_leaves  1\n",
      "0.3388259526261586\n",
      "#####################\n",
      "booster  gbtree\n",
      "n_estimators  25\n",
      "eta  0.3\n",
      "max_depth  20\n",
      "lambda  5.0\n",
      "criterion  gini\n",
      "max_leaves  5\n",
      "0.8779608650875386\n"
     ]
    },
    {
     "name": "stderr",
     "output_type": "stream",
     "text": [
      "c:\\Users\\loren\\anaconda3\\envs\\TensorFlow\\lib\\site-packages\\xgboost\\core.py:160: UserWarning: [10:50:50] WARNING: C:\\buildkite-agent\\builds\\buildkite-windows-cpu-autoscaling-group-i-0b3782d1791676daf-1\\xgboost\\xgboost-ci-windows\\src\\learner.cc:742: \n",
      "Parameters: { \"criterion\" } are not used.\n",
      "\n",
      "  warnings.warn(smsg, UserWarning)\n",
      "c:\\Users\\loren\\anaconda3\\envs\\TensorFlow\\lib\\site-packages\\xgboost\\core.py:160: UserWarning: [10:50:50] WARNING: C:\\buildkite-agent\\builds\\buildkite-windows-cpu-autoscaling-group-i-0b3782d1791676daf-1\\xgboost\\xgboost-ci-windows\\src\\learner.cc:742: \n",
      "Parameters: { \"criterion\" } are not used.\n",
      "\n",
      "  warnings.warn(smsg, UserWarning)\n",
      "c:\\Users\\loren\\anaconda3\\envs\\TensorFlow\\lib\\site-packages\\xgboost\\core.py:160: UserWarning: [10:50:50] WARNING: C:\\buildkite-agent\\builds\\buildkite-windows-cpu-autoscaling-group-i-0b3782d1791676daf-1\\xgboost\\xgboost-ci-windows\\src\\learner.cc:742: \n",
      "Parameters: { \"criterion\" } are not used.\n",
      "\n",
      "  warnings.warn(smsg, UserWarning)\n"
     ]
    },
    {
     "name": "stdout",
     "output_type": "stream",
     "text": [
      "#####################\n",
      "booster  gbtree\n",
      "n_estimators  25\n",
      "eta  0.3\n",
      "max_depth  20\n",
      "lambda  5.0\n",
      "criterion  entropy\n",
      "max_leaves  0\n",
      "0.9392378990731205\n",
      "#####################\n",
      "booster  gbtree\n",
      "n_estimators  25\n",
      "eta  0.3\n",
      "max_depth  20\n",
      "lambda  5.0\n",
      "criterion  entropy\n",
      "max_leaves  1\n",
      "0.3388259526261586\n",
      "#####################\n",
      "booster  gbtree\n",
      "n_estimators  25\n",
      "eta  0.3\n",
      "max_depth  20\n",
      "lambda  5.0\n",
      "criterion  entropy\n",
      "max_leaves  5\n",
      "0.8779608650875386\n"
     ]
    },
    {
     "name": "stderr",
     "output_type": "stream",
     "text": [
      "c:\\Users\\loren\\anaconda3\\envs\\TensorFlow\\lib\\site-packages\\xgboost\\core.py:160: UserWarning: [10:50:50] WARNING: C:\\buildkite-agent\\builds\\buildkite-windows-cpu-autoscaling-group-i-0b3782d1791676daf-1\\xgboost\\xgboost-ci-windows\\src\\learner.cc:742: \n",
      "Parameters: { \"criterion\" } are not used.\n",
      "\n",
      "  warnings.warn(smsg, UserWarning)\n",
      "c:\\Users\\loren\\anaconda3\\envs\\TensorFlow\\lib\\site-packages\\xgboost\\core.py:160: UserWarning: [10:50:50] WARNING: C:\\buildkite-agent\\builds\\buildkite-windows-cpu-autoscaling-group-i-0b3782d1791676daf-1\\xgboost\\xgboost-ci-windows\\src\\learner.cc:742: \n",
      "Parameters: { \"criterion\" } are not used.\n",
      "\n",
      "  warnings.warn(smsg, UserWarning)\n",
      "c:\\Users\\loren\\anaconda3\\envs\\TensorFlow\\lib\\site-packages\\xgboost\\core.py:160: UserWarning: [10:50:51] WARNING: C:\\buildkite-agent\\builds\\buildkite-windows-cpu-autoscaling-group-i-0b3782d1791676daf-1\\xgboost\\xgboost-ci-windows\\src\\learner.cc:742: \n",
      "Parameters: { \"criterion\" } are not used.\n",
      "\n",
      "  warnings.warn(smsg, UserWarning)\n"
     ]
    },
    {
     "name": "stdout",
     "output_type": "stream",
     "text": [
      "#####################\n",
      "booster  gbtree\n",
      "n_estimators  25\n",
      "eta  0.3\n",
      "max_depth  30\n",
      "lambda  0.0\n",
      "criterion  gini\n",
      "max_leaves  0\n",
      "0.942842430484037\n",
      "#####################\n",
      "booster  gbtree\n",
      "n_estimators  25\n",
      "eta  0.3\n",
      "max_depth  30\n",
      "lambda  0.0\n",
      "criterion  gini\n",
      "max_leaves  1\n",
      "0.3388259526261586\n",
      "#####################\n",
      "booster  gbtree\n",
      "n_estimators  25\n",
      "eta  0.3\n",
      "max_depth  30\n",
      "lambda  0.0\n",
      "criterion  gini\n",
      "max_leaves  5\n",
      "0.8774459320288363\n"
     ]
    },
    {
     "name": "stderr",
     "output_type": "stream",
     "text": [
      "c:\\Users\\loren\\anaconda3\\envs\\TensorFlow\\lib\\site-packages\\xgboost\\core.py:160: UserWarning: [10:50:53] WARNING: C:\\buildkite-agent\\builds\\buildkite-windows-cpu-autoscaling-group-i-0b3782d1791676daf-1\\xgboost\\xgboost-ci-windows\\src\\learner.cc:742: \n",
      "Parameters: { \"criterion\" } are not used.\n",
      "\n",
      "  warnings.warn(smsg, UserWarning)\n",
      "c:\\Users\\loren\\anaconda3\\envs\\TensorFlow\\lib\\site-packages\\xgboost\\core.py:160: UserWarning: [10:50:53] WARNING: C:\\buildkite-agent\\builds\\buildkite-windows-cpu-autoscaling-group-i-0b3782d1791676daf-1\\xgboost\\xgboost-ci-windows\\src\\learner.cc:742: \n",
      "Parameters: { \"criterion\" } are not used.\n",
      "\n",
      "  warnings.warn(smsg, UserWarning)\n",
      "c:\\Users\\loren\\anaconda3\\envs\\TensorFlow\\lib\\site-packages\\xgboost\\core.py:160: UserWarning: [10:50:53] WARNING: C:\\buildkite-agent\\builds\\buildkite-windows-cpu-autoscaling-group-i-0b3782d1791676daf-1\\xgboost\\xgboost-ci-windows\\src\\learner.cc:742: \n",
      "Parameters: { \"criterion\" } are not used.\n",
      "\n",
      "  warnings.warn(smsg, UserWarning)\n"
     ]
    },
    {
     "name": "stdout",
     "output_type": "stream",
     "text": [
      "#####################\n",
      "booster  gbtree\n",
      "n_estimators  25\n",
      "eta  0.3\n",
      "max_depth  30\n",
      "lambda  0.0\n",
      "criterion  entropy\n",
      "max_leaves  0\n",
      "0.942842430484037\n",
      "#####################\n",
      "booster  gbtree\n",
      "n_estimators  25\n",
      "eta  0.3\n",
      "max_depth  30\n",
      "lambda  0.0\n",
      "criterion  entropy\n",
      "max_leaves  1\n",
      "0.3388259526261586\n",
      "#####################\n",
      "booster  gbtree\n",
      "n_estimators  25\n",
      "eta  0.3\n",
      "max_depth  30\n",
      "lambda  0.0\n",
      "criterion  entropy\n",
      "max_leaves  5\n",
      "0.8774459320288363\n"
     ]
    },
    {
     "name": "stderr",
     "output_type": "stream",
     "text": [
      "c:\\Users\\loren\\anaconda3\\envs\\TensorFlow\\lib\\site-packages\\xgboost\\core.py:160: UserWarning: [10:50:55] WARNING: C:\\buildkite-agent\\builds\\buildkite-windows-cpu-autoscaling-group-i-0b3782d1791676daf-1\\xgboost\\xgboost-ci-windows\\src\\learner.cc:742: \n",
      "Parameters: { \"criterion\" } are not used.\n",
      "\n",
      "  warnings.warn(smsg, UserWarning)\n",
      "c:\\Users\\loren\\anaconda3\\envs\\TensorFlow\\lib\\site-packages\\xgboost\\core.py:160: UserWarning: [10:50:55] WARNING: C:\\buildkite-agent\\builds\\buildkite-windows-cpu-autoscaling-group-i-0b3782d1791676daf-1\\xgboost\\xgboost-ci-windows\\src\\learner.cc:742: \n",
      "Parameters: { \"criterion\" } are not used.\n",
      "\n",
      "  warnings.warn(smsg, UserWarning)\n",
      "c:\\Users\\loren\\anaconda3\\envs\\TensorFlow\\lib\\site-packages\\xgboost\\core.py:160: UserWarning: [10:50:55] WARNING: C:\\buildkite-agent\\builds\\buildkite-windows-cpu-autoscaling-group-i-0b3782d1791676daf-1\\xgboost\\xgboost-ci-windows\\src\\learner.cc:742: \n",
      "Parameters: { \"criterion\" } are not used.\n",
      "\n",
      "  warnings.warn(smsg, UserWarning)\n"
     ]
    },
    {
     "name": "stdout",
     "output_type": "stream",
     "text": [
      "#####################\n",
      "booster  gbtree\n",
      "n_estimators  25\n",
      "eta  0.3\n",
      "max_depth  30\n",
      "lambda  1.0\n",
      "criterion  gini\n",
      "max_leaves  0\n",
      "0.9397528321318228\n",
      "#####################\n",
      "booster  gbtree\n",
      "n_estimators  25\n",
      "eta  0.3\n",
      "max_depth  30\n",
      "lambda  1.0\n",
      "criterion  gini\n",
      "max_leaves  1\n",
      "0.3388259526261586\n",
      "#####################\n",
      "booster  gbtree\n",
      "n_estimators  25\n",
      "eta  0.3\n",
      "max_depth  30\n",
      "lambda  1.0\n",
      "criterion  gini\n",
      "max_leaves  5\n",
      "0.8820803295571575\n"
     ]
    },
    {
     "name": "stderr",
     "output_type": "stream",
     "text": [
      "c:\\Users\\loren\\anaconda3\\envs\\TensorFlow\\lib\\site-packages\\xgboost\\core.py:160: UserWarning: [10:50:56] WARNING: C:\\buildkite-agent\\builds\\buildkite-windows-cpu-autoscaling-group-i-0b3782d1791676daf-1\\xgboost\\xgboost-ci-windows\\src\\learner.cc:742: \n",
      "Parameters: { \"criterion\" } are not used.\n",
      "\n",
      "  warnings.warn(smsg, UserWarning)\n",
      "c:\\Users\\loren\\anaconda3\\envs\\TensorFlow\\lib\\site-packages\\xgboost\\core.py:160: UserWarning: [10:50:56] WARNING: C:\\buildkite-agent\\builds\\buildkite-windows-cpu-autoscaling-group-i-0b3782d1791676daf-1\\xgboost\\xgboost-ci-windows\\src\\learner.cc:742: \n",
      "Parameters: { \"criterion\" } are not used.\n",
      "\n",
      "  warnings.warn(smsg, UserWarning)\n",
      "c:\\Users\\loren\\anaconda3\\envs\\TensorFlow\\lib\\site-packages\\xgboost\\core.py:160: UserWarning: [10:50:56] WARNING: C:\\buildkite-agent\\builds\\buildkite-windows-cpu-autoscaling-group-i-0b3782d1791676daf-1\\xgboost\\xgboost-ci-windows\\src\\learner.cc:742: \n",
      "Parameters: { \"criterion\" } are not used.\n",
      "\n",
      "  warnings.warn(smsg, UserWarning)\n"
     ]
    },
    {
     "name": "stdout",
     "output_type": "stream",
     "text": [
      "#####################\n",
      "booster  gbtree\n",
      "n_estimators  25\n",
      "eta  0.3\n",
      "max_depth  30\n",
      "lambda  1.0\n",
      "criterion  entropy\n",
      "max_leaves  0\n",
      "0.9397528321318228\n",
      "#####################\n",
      "booster  gbtree\n",
      "n_estimators  25\n",
      "eta  0.3\n",
      "max_depth  30\n",
      "lambda  1.0\n",
      "criterion  entropy\n",
      "max_leaves  1\n",
      "0.3388259526261586\n"
     ]
    },
    {
     "name": "stderr",
     "output_type": "stream",
     "text": [
      "c:\\Users\\loren\\anaconda3\\envs\\TensorFlow\\lib\\site-packages\\xgboost\\core.py:160: UserWarning: [10:50:57] WARNING: C:\\buildkite-agent\\builds\\buildkite-windows-cpu-autoscaling-group-i-0b3782d1791676daf-1\\xgboost\\xgboost-ci-windows\\src\\learner.cc:742: \n",
      "Parameters: { \"criterion\" } are not used.\n",
      "\n",
      "  warnings.warn(smsg, UserWarning)\n",
      "c:\\Users\\loren\\anaconda3\\envs\\TensorFlow\\lib\\site-packages\\xgboost\\core.py:160: UserWarning: [10:50:57] WARNING: C:\\buildkite-agent\\builds\\buildkite-windows-cpu-autoscaling-group-i-0b3782d1791676daf-1\\xgboost\\xgboost-ci-windows\\src\\learner.cc:742: \n",
      "Parameters: { \"criterion\" } are not used.\n",
      "\n",
      "  warnings.warn(smsg, UserWarning)\n"
     ]
    },
    {
     "name": "stdout",
     "output_type": "stream",
     "text": [
      "#####################\n",
      "booster  gbtree\n",
      "n_estimators  25\n",
      "eta  0.3\n",
      "max_depth  30\n",
      "lambda  1.0\n",
      "criterion  entropy\n",
      "max_leaves  5\n",
      "0.8820803295571575\n"
     ]
    },
    {
     "name": "stderr",
     "output_type": "stream",
     "text": [
      "c:\\Users\\loren\\anaconda3\\envs\\TensorFlow\\lib\\site-packages\\xgboost\\core.py:160: UserWarning: [10:50:58] WARNING: C:\\buildkite-agent\\builds\\buildkite-windows-cpu-autoscaling-group-i-0b3782d1791676daf-1\\xgboost\\xgboost-ci-windows\\src\\learner.cc:742: \n",
      "Parameters: { \"criterion\" } are not used.\n",
      "\n",
      "  warnings.warn(smsg, UserWarning)\n"
     ]
    },
    {
     "name": "stdout",
     "output_type": "stream",
     "text": [
      "#####################\n",
      "booster  gbtree\n",
      "n_estimators  25\n",
      "eta  0.3\n",
      "max_depth  30\n",
      "lambda  5.0\n",
      "criterion  gini\n",
      "max_leaves  0\n",
      "0.9387229660144182\n",
      "#####################\n",
      "booster  gbtree\n",
      "n_estimators  25\n",
      "eta  0.3\n",
      "max_depth  30\n",
      "lambda  5.0\n",
      "criterion  gini\n",
      "max_leaves  1\n",
      "0.3388259526261586\n"
     ]
    },
    {
     "name": "stderr",
     "output_type": "stream",
     "text": [
      "c:\\Users\\loren\\anaconda3\\envs\\TensorFlow\\lib\\site-packages\\xgboost\\core.py:160: UserWarning: [10:51:00] WARNING: C:\\buildkite-agent\\builds\\buildkite-windows-cpu-autoscaling-group-i-0b3782d1791676daf-1\\xgboost\\xgboost-ci-windows\\src\\learner.cc:742: \n",
      "Parameters: { \"criterion\" } are not used.\n",
      "\n",
      "  warnings.warn(smsg, UserWarning)\n",
      "c:\\Users\\loren\\anaconda3\\envs\\TensorFlow\\lib\\site-packages\\xgboost\\core.py:160: UserWarning: [10:51:00] WARNING: C:\\buildkite-agent\\builds\\buildkite-windows-cpu-autoscaling-group-i-0b3782d1791676daf-1\\xgboost\\xgboost-ci-windows\\src\\learner.cc:742: \n",
      "Parameters: { \"criterion\" } are not used.\n",
      "\n",
      "  warnings.warn(smsg, UserWarning)\n"
     ]
    },
    {
     "name": "stdout",
     "output_type": "stream",
     "text": [
      "#####################\n",
      "booster  gbtree\n",
      "n_estimators  25\n",
      "eta  0.3\n",
      "max_depth  30\n",
      "lambda  5.0\n",
      "criterion  gini\n",
      "max_leaves  5\n",
      "0.8779608650875386\n"
     ]
    },
    {
     "name": "stderr",
     "output_type": "stream",
     "text": [
      "c:\\Users\\loren\\anaconda3\\envs\\TensorFlow\\lib\\site-packages\\xgboost\\core.py:160: UserWarning: [10:51:01] WARNING: C:\\buildkite-agent\\builds\\buildkite-windows-cpu-autoscaling-group-i-0b3782d1791676daf-1\\xgboost\\xgboost-ci-windows\\src\\learner.cc:742: \n",
      "Parameters: { \"criterion\" } are not used.\n",
      "\n",
      "  warnings.warn(smsg, UserWarning)\n"
     ]
    },
    {
     "name": "stdout",
     "output_type": "stream",
     "text": [
      "#####################\n",
      "booster  gbtree\n",
      "n_estimators  25\n",
      "eta  0.3\n",
      "max_depth  30\n",
      "lambda  5.0\n",
      "criterion  entropy\n",
      "max_leaves  0\n",
      "0.9387229660144182\n",
      "#####################\n",
      "booster  gbtree\n",
      "n_estimators  25\n",
      "eta  0.3\n",
      "max_depth  30\n",
      "lambda  5.0\n",
      "criterion  entropy\n",
      "max_leaves  1\n",
      "0.3388259526261586\n",
      "#####################\n",
      "booster  gbtree\n",
      "n_estimators  25\n",
      "eta  0.3\n",
      "max_depth  30\n",
      "lambda  5.0\n",
      "criterion  entropy\n",
      "max_leaves  5\n",
      "0.8779608650875386\n"
     ]
    },
    {
     "name": "stderr",
     "output_type": "stream",
     "text": [
      "c:\\Users\\loren\\anaconda3\\envs\\TensorFlow\\lib\\site-packages\\xgboost\\core.py:160: UserWarning: [10:51:02] WARNING: C:\\buildkite-agent\\builds\\buildkite-windows-cpu-autoscaling-group-i-0b3782d1791676daf-1\\xgboost\\xgboost-ci-windows\\src\\learner.cc:742: \n",
      "Parameters: { \"criterion\" } are not used.\n",
      "\n",
      "  warnings.warn(smsg, UserWarning)\n",
      "c:\\Users\\loren\\anaconda3\\envs\\TensorFlow\\lib\\site-packages\\xgboost\\core.py:160: UserWarning: [10:51:02] WARNING: C:\\buildkite-agent\\builds\\buildkite-windows-cpu-autoscaling-group-i-0b3782d1791676daf-1\\xgboost\\xgboost-ci-windows\\src\\learner.cc:742: \n",
      "Parameters: { \"criterion\" } are not used.\n",
      "\n",
      "  warnings.warn(smsg, UserWarning)\n",
      "c:\\Users\\loren\\anaconda3\\envs\\TensorFlow\\lib\\site-packages\\xgboost\\core.py:160: UserWarning: [10:51:02] WARNING: C:\\buildkite-agent\\builds\\buildkite-windows-cpu-autoscaling-group-i-0b3782d1791676daf-1\\xgboost\\xgboost-ci-windows\\src\\learner.cc:742: \n",
      "Parameters: { \"criterion\" } are not used.\n",
      "\n",
      "  warnings.warn(smsg, UserWarning)\n"
     ]
    },
    {
     "name": "stdout",
     "output_type": "stream",
     "text": [
      "#####################\n",
      "booster  gbtree\n",
      "n_estimators  25\n",
      "eta  0.7\n",
      "max_depth  5\n",
      "lambda  0.0\n",
      "criterion  gini\n",
      "max_leaves  0\n",
      "0.94129763130793\n",
      "#####################\n",
      "booster  gbtree\n",
      "n_estimators  25\n",
      "eta  0.7\n",
      "max_depth  5\n",
      "lambda  0.0\n",
      "criterion  gini\n",
      "max_leaves  1\n",
      "0.3388259526261586\n",
      "#####################\n",
      "booster  gbtree\n",
      "n_estimators  25\n",
      "eta  0.7\n",
      "max_depth  5\n",
      "lambda  0.0\n",
      "criterion  gini\n",
      "max_leaves  5\n",
      "0.923274974253347\n"
     ]
    },
    {
     "name": "stderr",
     "output_type": "stream",
     "text": [
      "c:\\Users\\loren\\anaconda3\\envs\\TensorFlow\\lib\\site-packages\\xgboost\\core.py:160: UserWarning: [10:51:02] WARNING: C:\\buildkite-agent\\builds\\buildkite-windows-cpu-autoscaling-group-i-0b3782d1791676daf-1\\xgboost\\xgboost-ci-windows\\src\\learner.cc:742: \n",
      "Parameters: { \"criterion\" } are not used.\n",
      "\n",
      "  warnings.warn(smsg, UserWarning)\n",
      "c:\\Users\\loren\\anaconda3\\envs\\TensorFlow\\lib\\site-packages\\xgboost\\core.py:160: UserWarning: [10:51:02] WARNING: C:\\buildkite-agent\\builds\\buildkite-windows-cpu-autoscaling-group-i-0b3782d1791676daf-1\\xgboost\\xgboost-ci-windows\\src\\learner.cc:742: \n",
      "Parameters: { \"criterion\" } are not used.\n",
      "\n",
      "  warnings.warn(smsg, UserWarning)\n",
      "c:\\Users\\loren\\anaconda3\\envs\\TensorFlow\\lib\\site-packages\\xgboost\\core.py:160: UserWarning: [10:51:02] WARNING: C:\\buildkite-agent\\builds\\buildkite-windows-cpu-autoscaling-group-i-0b3782d1791676daf-1\\xgboost\\xgboost-ci-windows\\src\\learner.cc:742: \n",
      "Parameters: { \"criterion\" } are not used.\n",
      "\n",
      "  warnings.warn(smsg, UserWarning)\n"
     ]
    },
    {
     "name": "stdout",
     "output_type": "stream",
     "text": [
      "#####################\n",
      "booster  gbtree\n",
      "n_estimators  25\n",
      "eta  0.7\n",
      "max_depth  5\n",
      "lambda  0.0\n",
      "criterion  entropy\n",
      "max_leaves  0\n",
      "0.94129763130793\n",
      "#####################\n",
      "booster  gbtree\n",
      "n_estimators  25\n",
      "eta  0.7\n",
      "max_depth  5\n",
      "lambda  0.0\n",
      "criterion  entropy\n",
      "max_leaves  1\n",
      "0.3388259526261586\n",
      "#####################\n",
      "booster  gbtree\n",
      "n_estimators  25\n",
      "eta  0.7\n",
      "max_depth  5\n",
      "lambda  0.0\n",
      "criterion  entropy\n",
      "max_leaves  5\n",
      "0.923274974253347\n"
     ]
    },
    {
     "name": "stderr",
     "output_type": "stream",
     "text": [
      "c:\\Users\\loren\\anaconda3\\envs\\TensorFlow\\lib\\site-packages\\xgboost\\core.py:160: UserWarning: [10:51:03] WARNING: C:\\buildkite-agent\\builds\\buildkite-windows-cpu-autoscaling-group-i-0b3782d1791676daf-1\\xgboost\\xgboost-ci-windows\\src\\learner.cc:742: \n",
      "Parameters: { \"criterion\" } are not used.\n",
      "\n",
      "  warnings.warn(smsg, UserWarning)\n",
      "c:\\Users\\loren\\anaconda3\\envs\\TensorFlow\\lib\\site-packages\\xgboost\\core.py:160: UserWarning: [10:51:03] WARNING: C:\\buildkite-agent\\builds\\buildkite-windows-cpu-autoscaling-group-i-0b3782d1791676daf-1\\xgboost\\xgboost-ci-windows\\src\\learner.cc:742: \n",
      "Parameters: { \"criterion\" } are not used.\n",
      "\n",
      "  warnings.warn(smsg, UserWarning)\n",
      "c:\\Users\\loren\\anaconda3\\envs\\TensorFlow\\lib\\site-packages\\xgboost\\core.py:160: UserWarning: [10:51:03] WARNING: C:\\buildkite-agent\\builds\\buildkite-windows-cpu-autoscaling-group-i-0b3782d1791676daf-1\\xgboost\\xgboost-ci-windows\\src\\learner.cc:742: \n",
      "Parameters: { \"criterion\" } are not used.\n",
      "\n",
      "  warnings.warn(smsg, UserWarning)\n",
      "c:\\Users\\loren\\anaconda3\\envs\\TensorFlow\\lib\\site-packages\\xgboost\\core.py:160: UserWarning: [10:51:03] WARNING: C:\\buildkite-agent\\builds\\buildkite-windows-cpu-autoscaling-group-i-0b3782d1791676daf-1\\xgboost\\xgboost-ci-windows\\src\\learner.cc:742: \n",
      "Parameters: { \"criterion\" } are not used.\n",
      "\n",
      "  warnings.warn(smsg, UserWarning)\n"
     ]
    },
    {
     "name": "stdout",
     "output_type": "stream",
     "text": [
      "#####################\n",
      "booster  gbtree\n",
      "n_estimators  25\n",
      "eta  0.7\n",
      "max_depth  5\n",
      "lambda  1.0\n",
      "criterion  gini\n",
      "max_leaves  0\n",
      "0.9438722966014418\n",
      "#####################\n",
      "booster  gbtree\n",
      "n_estimators  25\n",
      "eta  0.7\n",
      "max_depth  5\n",
      "lambda  1.0\n",
      "criterion  gini\n",
      "max_leaves  1\n",
      "0.3388259526261586\n",
      "#####################\n",
      "booster  gbtree\n",
      "n_estimators  25\n",
      "eta  0.7\n",
      "max_depth  5\n",
      "lambda  1.0\n",
      "criterion  gini\n",
      "max_leaves  5\n",
      "0.916065911431514\n"
     ]
    },
    {
     "name": "stderr",
     "output_type": "stream",
     "text": [
      "c:\\Users\\loren\\anaconda3\\envs\\TensorFlow\\lib\\site-packages\\xgboost\\core.py:160: UserWarning: [10:51:03] WARNING: C:\\buildkite-agent\\builds\\buildkite-windows-cpu-autoscaling-group-i-0b3782d1791676daf-1\\xgboost\\xgboost-ci-windows\\src\\learner.cc:742: \n",
      "Parameters: { \"criterion\" } are not used.\n",
      "\n",
      "  warnings.warn(smsg, UserWarning)\n",
      "c:\\Users\\loren\\anaconda3\\envs\\TensorFlow\\lib\\site-packages\\xgboost\\core.py:160: UserWarning: [10:51:03] WARNING: C:\\buildkite-agent\\builds\\buildkite-windows-cpu-autoscaling-group-i-0b3782d1791676daf-1\\xgboost\\xgboost-ci-windows\\src\\learner.cc:742: \n",
      "Parameters: { \"criterion\" } are not used.\n",
      "\n",
      "  warnings.warn(smsg, UserWarning)\n"
     ]
    },
    {
     "name": "stdout",
     "output_type": "stream",
     "text": [
      "#####################\n",
      "booster  gbtree\n",
      "n_estimators  25\n",
      "eta  0.7\n",
      "max_depth  5\n",
      "lambda  1.0\n",
      "criterion  entropy\n",
      "max_leaves  0\n",
      "0.9438722966014418\n",
      "#####################\n",
      "booster  gbtree\n",
      "n_estimators  25\n",
      "eta  0.7\n",
      "max_depth  5\n",
      "lambda  1.0\n",
      "criterion  entropy\n",
      "max_leaves  1\n",
      "0.3388259526261586\n",
      "#####################\n",
      "booster  gbtree\n",
      "n_estimators  25\n",
      "eta  0.7\n",
      "max_depth  5\n",
      "lambda  1.0\n",
      "criterion  entropy\n",
      "max_leaves  5\n",
      "0.916065911431514\n"
     ]
    },
    {
     "name": "stderr",
     "output_type": "stream",
     "text": [
      "c:\\Users\\loren\\anaconda3\\envs\\TensorFlow\\lib\\site-packages\\xgboost\\core.py:160: UserWarning: [10:51:04] WARNING: C:\\buildkite-agent\\builds\\buildkite-windows-cpu-autoscaling-group-i-0b3782d1791676daf-1\\xgboost\\xgboost-ci-windows\\src\\learner.cc:742: \n",
      "Parameters: { \"criterion\" } are not used.\n",
      "\n",
      "  warnings.warn(smsg, UserWarning)\n",
      "c:\\Users\\loren\\anaconda3\\envs\\TensorFlow\\lib\\site-packages\\xgboost\\core.py:160: UserWarning: [10:51:04] WARNING: C:\\buildkite-agent\\builds\\buildkite-windows-cpu-autoscaling-group-i-0b3782d1791676daf-1\\xgboost\\xgboost-ci-windows\\src\\learner.cc:742: \n",
      "Parameters: { \"criterion\" } are not used.\n",
      "\n",
      "  warnings.warn(smsg, UserWarning)\n",
      "c:\\Users\\loren\\anaconda3\\envs\\TensorFlow\\lib\\site-packages\\xgboost\\core.py:160: UserWarning: [10:51:04] WARNING: C:\\buildkite-agent\\builds\\buildkite-windows-cpu-autoscaling-group-i-0b3782d1791676daf-1\\xgboost\\xgboost-ci-windows\\src\\learner.cc:742: \n",
      "Parameters: { \"criterion\" } are not used.\n",
      "\n",
      "  warnings.warn(smsg, UserWarning)\n"
     ]
    },
    {
     "name": "stdout",
     "output_type": "stream",
     "text": [
      "#####################\n",
      "booster  gbtree\n",
      "n_estimators  25\n",
      "eta  0.7\n",
      "max_depth  5\n",
      "lambda  5.0\n",
      "criterion  gini\n",
      "max_leaves  0\n",
      "0.9423274974253347\n",
      "#####################\n",
      "booster  gbtree\n",
      "n_estimators  25\n",
      "eta  0.7\n",
      "max_depth  5\n",
      "lambda  5.0\n",
      "criterion  gini\n",
      "max_leaves  1\n",
      "0.3388259526261586\n",
      "#####################\n",
      "booster  gbtree\n",
      "n_estimators  25\n",
      "eta  0.7\n",
      "max_depth  5\n",
      "lambda  5.0\n",
      "criterion  gini\n",
      "max_leaves  5\n",
      "0.9181256436663234\n"
     ]
    },
    {
     "name": "stderr",
     "output_type": "stream",
     "text": [
      "c:\\Users\\loren\\anaconda3\\envs\\TensorFlow\\lib\\site-packages\\xgboost\\core.py:160: UserWarning: [10:51:04] WARNING: C:\\buildkite-agent\\builds\\buildkite-windows-cpu-autoscaling-group-i-0b3782d1791676daf-1\\xgboost\\xgboost-ci-windows\\src\\learner.cc:742: \n",
      "Parameters: { \"criterion\" } are not used.\n",
      "\n",
      "  warnings.warn(smsg, UserWarning)\n",
      "c:\\Users\\loren\\anaconda3\\envs\\TensorFlow\\lib\\site-packages\\xgboost\\core.py:160: UserWarning: [10:51:04] WARNING: C:\\buildkite-agent\\builds\\buildkite-windows-cpu-autoscaling-group-i-0b3782d1791676daf-1\\xgboost\\xgboost-ci-windows\\src\\learner.cc:742: \n",
      "Parameters: { \"criterion\" } are not used.\n",
      "\n",
      "  warnings.warn(smsg, UserWarning)\n",
      "c:\\Users\\loren\\anaconda3\\envs\\TensorFlow\\lib\\site-packages\\xgboost\\core.py:160: UserWarning: [10:51:04] WARNING: C:\\buildkite-agent\\builds\\buildkite-windows-cpu-autoscaling-group-i-0b3782d1791676daf-1\\xgboost\\xgboost-ci-windows\\src\\learner.cc:742: \n",
      "Parameters: { \"criterion\" } are not used.\n",
      "\n",
      "  warnings.warn(smsg, UserWarning)\n"
     ]
    },
    {
     "name": "stdout",
     "output_type": "stream",
     "text": [
      "#####################\n",
      "booster  gbtree\n",
      "n_estimators  25\n",
      "eta  0.7\n",
      "max_depth  5\n",
      "lambda  5.0\n",
      "criterion  entropy\n",
      "max_leaves  0\n",
      "0.9423274974253347\n",
      "#####################\n",
      "booster  gbtree\n",
      "n_estimators  25\n",
      "eta  0.7\n",
      "max_depth  5\n",
      "lambda  5.0\n",
      "criterion  entropy\n",
      "max_leaves  1\n",
      "0.3388259526261586\n",
      "#####################\n",
      "booster  gbtree\n",
      "n_estimators  25\n",
      "eta  0.7\n",
      "max_depth  5\n",
      "lambda  5.0\n",
      "criterion  entropy\n",
      "max_leaves  5\n",
      "0.9181256436663234\n"
     ]
    },
    {
     "name": "stderr",
     "output_type": "stream",
     "text": [
      "c:\\Users\\loren\\anaconda3\\envs\\TensorFlow\\lib\\site-packages\\xgboost\\core.py:160: UserWarning: [10:51:04] WARNING: C:\\buildkite-agent\\builds\\buildkite-windows-cpu-autoscaling-group-i-0b3782d1791676daf-1\\xgboost\\xgboost-ci-windows\\src\\learner.cc:742: \n",
      "Parameters: { \"criterion\" } are not used.\n",
      "\n",
      "  warnings.warn(smsg, UserWarning)\n",
      "c:\\Users\\loren\\anaconda3\\envs\\TensorFlow\\lib\\site-packages\\xgboost\\core.py:160: UserWarning: [10:51:04] WARNING: C:\\buildkite-agent\\builds\\buildkite-windows-cpu-autoscaling-group-i-0b3782d1791676daf-1\\xgboost\\xgboost-ci-windows\\src\\learner.cc:742: \n",
      "Parameters: { \"criterion\" } are not used.\n",
      "\n",
      "  warnings.warn(smsg, UserWarning)\n",
      "c:\\Users\\loren\\anaconda3\\envs\\TensorFlow\\lib\\site-packages\\xgboost\\core.py:160: UserWarning: [10:51:04] WARNING: C:\\buildkite-agent\\builds\\buildkite-windows-cpu-autoscaling-group-i-0b3782d1791676daf-1\\xgboost\\xgboost-ci-windows\\src\\learner.cc:742: \n",
      "Parameters: { \"criterion\" } are not used.\n",
      "\n",
      "  warnings.warn(smsg, UserWarning)\n"
     ]
    },
    {
     "name": "stdout",
     "output_type": "stream",
     "text": [
      "#####################\n",
      "booster  gbtree\n",
      "n_estimators  25\n",
      "eta  0.7\n",
      "max_depth  10\n",
      "lambda  0.0\n",
      "criterion  gini\n",
      "max_leaves  0\n",
      "0.9423274974253347\n",
      "#####################\n",
      "booster  gbtree\n",
      "n_estimators  25\n",
      "eta  0.7\n",
      "max_depth  10\n",
      "lambda  0.0\n",
      "criterion  gini\n",
      "max_leaves  1\n",
      "0.3388259526261586\n",
      "#####################\n",
      "booster  gbtree\n",
      "n_estimators  25\n",
      "eta  0.7\n",
      "max_depth  10\n",
      "lambda  0.0\n",
      "criterion  gini\n",
      "max_leaves  5\n",
      "0.923274974253347\n"
     ]
    },
    {
     "name": "stderr",
     "output_type": "stream",
     "text": [
      "c:\\Users\\loren\\anaconda3\\envs\\TensorFlow\\lib\\site-packages\\xgboost\\core.py:160: UserWarning: [10:51:05] WARNING: C:\\buildkite-agent\\builds\\buildkite-windows-cpu-autoscaling-group-i-0b3782d1791676daf-1\\xgboost\\xgboost-ci-windows\\src\\learner.cc:742: \n",
      "Parameters: { \"criterion\" } are not used.\n",
      "\n",
      "  warnings.warn(smsg, UserWarning)\n",
      "c:\\Users\\loren\\anaconda3\\envs\\TensorFlow\\lib\\site-packages\\xgboost\\core.py:160: UserWarning: [10:51:05] WARNING: C:\\buildkite-agent\\builds\\buildkite-windows-cpu-autoscaling-group-i-0b3782d1791676daf-1\\xgboost\\xgboost-ci-windows\\src\\learner.cc:742: \n",
      "Parameters: { \"criterion\" } are not used.\n",
      "\n",
      "  warnings.warn(smsg, UserWarning)\n",
      "c:\\Users\\loren\\anaconda3\\envs\\TensorFlow\\lib\\site-packages\\xgboost\\core.py:160: UserWarning: [10:51:05] WARNING: C:\\buildkite-agent\\builds\\buildkite-windows-cpu-autoscaling-group-i-0b3782d1791676daf-1\\xgboost\\xgboost-ci-windows\\src\\learner.cc:742: \n",
      "Parameters: { \"criterion\" } are not used.\n",
      "\n",
      "  warnings.warn(smsg, UserWarning)\n"
     ]
    },
    {
     "name": "stdout",
     "output_type": "stream",
     "text": [
      "#####################\n",
      "booster  gbtree\n",
      "n_estimators  25\n",
      "eta  0.7\n",
      "max_depth  10\n",
      "lambda  0.0\n",
      "criterion  entropy\n",
      "max_leaves  0\n",
      "0.9423274974253347\n",
      "#####################\n",
      "booster  gbtree\n",
      "n_estimators  25\n",
      "eta  0.7\n",
      "max_depth  10\n",
      "lambda  0.0\n",
      "criterion  entropy\n",
      "max_leaves  1\n",
      "0.3388259526261586\n",
      "#####################\n",
      "booster  gbtree\n",
      "n_estimators  25\n",
      "eta  0.7\n",
      "max_depth  10\n",
      "lambda  0.0\n",
      "criterion  entropy\n",
      "max_leaves  5\n",
      "0.923274974253347\n"
     ]
    },
    {
     "name": "stderr",
     "output_type": "stream",
     "text": [
      "c:\\Users\\loren\\anaconda3\\envs\\TensorFlow\\lib\\site-packages\\xgboost\\core.py:160: UserWarning: [10:51:05] WARNING: C:\\buildkite-agent\\builds\\buildkite-windows-cpu-autoscaling-group-i-0b3782d1791676daf-1\\xgboost\\xgboost-ci-windows\\src\\learner.cc:742: \n",
      "Parameters: { \"criterion\" } are not used.\n",
      "\n",
      "  warnings.warn(smsg, UserWarning)\n",
      "c:\\Users\\loren\\anaconda3\\envs\\TensorFlow\\lib\\site-packages\\xgboost\\core.py:160: UserWarning: [10:51:05] WARNING: C:\\buildkite-agent\\builds\\buildkite-windows-cpu-autoscaling-group-i-0b3782d1791676daf-1\\xgboost\\xgboost-ci-windows\\src\\learner.cc:742: \n",
      "Parameters: { \"criterion\" } are not used.\n",
      "\n",
      "  warnings.warn(smsg, UserWarning)\n",
      "c:\\Users\\loren\\anaconda3\\envs\\TensorFlow\\lib\\site-packages\\xgboost\\core.py:160: UserWarning: [10:51:05] WARNING: C:\\buildkite-agent\\builds\\buildkite-windows-cpu-autoscaling-group-i-0b3782d1791676daf-1\\xgboost\\xgboost-ci-windows\\src\\learner.cc:742: \n",
      "Parameters: { \"criterion\" } are not used.\n",
      "\n",
      "  warnings.warn(smsg, UserWarning)\n"
     ]
    },
    {
     "name": "stdout",
     "output_type": "stream",
     "text": [
      "#####################\n",
      "booster  gbtree\n",
      "n_estimators  25\n",
      "eta  0.7\n",
      "max_depth  10\n",
      "lambda  1.0\n",
      "criterion  gini\n",
      "max_leaves  0\n",
      "0.9449021627188465\n",
      "#####################\n",
      "booster  gbtree\n",
      "n_estimators  25\n",
      "eta  0.7\n",
      "max_depth  10\n",
      "lambda  1.0\n",
      "criterion  gini\n",
      "max_leaves  1\n",
      "0.3388259526261586\n",
      "#####################\n",
      "booster  gbtree\n",
      "n_estimators  25\n",
      "eta  0.7\n",
      "max_depth  10\n",
      "lambda  1.0\n",
      "criterion  gini\n",
      "max_leaves  5\n",
      "0.916065911431514\n"
     ]
    },
    {
     "name": "stderr",
     "output_type": "stream",
     "text": [
      "c:\\Users\\loren\\anaconda3\\envs\\TensorFlow\\lib\\site-packages\\xgboost\\core.py:160: UserWarning: [10:51:06] WARNING: C:\\buildkite-agent\\builds\\buildkite-windows-cpu-autoscaling-group-i-0b3782d1791676daf-1\\xgboost\\xgboost-ci-windows\\src\\learner.cc:742: \n",
      "Parameters: { \"criterion\" } are not used.\n",
      "\n",
      "  warnings.warn(smsg, UserWarning)\n",
      "c:\\Users\\loren\\anaconda3\\envs\\TensorFlow\\lib\\site-packages\\xgboost\\core.py:160: UserWarning: [10:51:06] WARNING: C:\\buildkite-agent\\builds\\buildkite-windows-cpu-autoscaling-group-i-0b3782d1791676daf-1\\xgboost\\xgboost-ci-windows\\src\\learner.cc:742: \n",
      "Parameters: { \"criterion\" } are not used.\n",
      "\n",
      "  warnings.warn(smsg, UserWarning)\n",
      "c:\\Users\\loren\\anaconda3\\envs\\TensorFlow\\lib\\site-packages\\xgboost\\core.py:160: UserWarning: [10:51:06] WARNING: C:\\buildkite-agent\\builds\\buildkite-windows-cpu-autoscaling-group-i-0b3782d1791676daf-1\\xgboost\\xgboost-ci-windows\\src\\learner.cc:742: \n",
      "Parameters: { \"criterion\" } are not used.\n",
      "\n",
      "  warnings.warn(smsg, UserWarning)\n"
     ]
    },
    {
     "name": "stdout",
     "output_type": "stream",
     "text": [
      "#####################\n",
      "booster  gbtree\n",
      "n_estimators  25\n",
      "eta  0.7\n",
      "max_depth  10\n",
      "lambda  1.0\n",
      "criterion  entropy\n",
      "max_leaves  0\n",
      "0.9449021627188465\n",
      "#####################\n",
      "booster  gbtree\n",
      "n_estimators  25\n",
      "eta  0.7\n",
      "max_depth  10\n",
      "lambda  1.0\n",
      "criterion  entropy\n",
      "max_leaves  1\n",
      "0.3388259526261586\n",
      "#####################\n",
      "booster  gbtree\n",
      "n_estimators  25\n",
      "eta  0.7\n",
      "max_depth  10\n",
      "lambda  1.0\n",
      "criterion  entropy\n",
      "max_leaves  5\n",
      "0.916065911431514\n"
     ]
    },
    {
     "name": "stderr",
     "output_type": "stream",
     "text": [
      "c:\\Users\\loren\\anaconda3\\envs\\TensorFlow\\lib\\site-packages\\xgboost\\core.py:160: UserWarning: [10:51:06] WARNING: C:\\buildkite-agent\\builds\\buildkite-windows-cpu-autoscaling-group-i-0b3782d1791676daf-1\\xgboost\\xgboost-ci-windows\\src\\learner.cc:742: \n",
      "Parameters: { \"criterion\" } are not used.\n",
      "\n",
      "  warnings.warn(smsg, UserWarning)\n",
      "c:\\Users\\loren\\anaconda3\\envs\\TensorFlow\\lib\\site-packages\\xgboost\\core.py:160: UserWarning: [10:51:06] WARNING: C:\\buildkite-agent\\builds\\buildkite-windows-cpu-autoscaling-group-i-0b3782d1791676daf-1\\xgboost\\xgboost-ci-windows\\src\\learner.cc:742: \n",
      "Parameters: { \"criterion\" } are not used.\n",
      "\n",
      "  warnings.warn(smsg, UserWarning)\n",
      "c:\\Users\\loren\\anaconda3\\envs\\TensorFlow\\lib\\site-packages\\xgboost\\core.py:160: UserWarning: [10:51:06] WARNING: C:\\buildkite-agent\\builds\\buildkite-windows-cpu-autoscaling-group-i-0b3782d1791676daf-1\\xgboost\\xgboost-ci-windows\\src\\learner.cc:742: \n",
      "Parameters: { \"criterion\" } are not used.\n",
      "\n",
      "  warnings.warn(smsg, UserWarning)\n"
     ]
    },
    {
     "name": "stdout",
     "output_type": "stream",
     "text": [
      "#####################\n",
      "booster  gbtree\n",
      "n_estimators  25\n",
      "eta  0.7\n",
      "max_depth  10\n",
      "lambda  5.0\n",
      "criterion  gini\n",
      "max_leaves  0\n",
      "0.945417095777549\n",
      "#####################\n",
      "booster  gbtree\n",
      "n_estimators  25\n",
      "eta  0.7\n",
      "max_depth  10\n",
      "lambda  5.0\n",
      "criterion  gini\n",
      "max_leaves  1\n",
      "0.3388259526261586\n"
     ]
    },
    {
     "name": "stderr",
     "output_type": "stream",
     "text": [
      "c:\\Users\\loren\\anaconda3\\envs\\TensorFlow\\lib\\site-packages\\xgboost\\core.py:160: UserWarning: [10:51:07] WARNING: C:\\buildkite-agent\\builds\\buildkite-windows-cpu-autoscaling-group-i-0b3782d1791676daf-1\\xgboost\\xgboost-ci-windows\\src\\learner.cc:742: \n",
      "Parameters: { \"criterion\" } are not used.\n",
      "\n",
      "  warnings.warn(smsg, UserWarning)\n",
      "c:\\Users\\loren\\anaconda3\\envs\\TensorFlow\\lib\\site-packages\\xgboost\\core.py:160: UserWarning: [10:51:07] WARNING: C:\\buildkite-agent\\builds\\buildkite-windows-cpu-autoscaling-group-i-0b3782d1791676daf-1\\xgboost\\xgboost-ci-windows\\src\\learner.cc:742: \n",
      "Parameters: { \"criterion\" } are not used.\n",
      "\n",
      "  warnings.warn(smsg, UserWarning)\n"
     ]
    },
    {
     "name": "stdout",
     "output_type": "stream",
     "text": [
      "#####################\n",
      "booster  gbtree\n",
      "n_estimators  25\n",
      "eta  0.7\n",
      "max_depth  10\n",
      "lambda  5.0\n",
      "criterion  gini\n",
      "max_leaves  5\n",
      "0.9181256436663234\n"
     ]
    },
    {
     "name": "stderr",
     "output_type": "stream",
     "text": [
      "c:\\Users\\loren\\anaconda3\\envs\\TensorFlow\\lib\\site-packages\\xgboost\\core.py:160: UserWarning: [10:51:07] WARNING: C:\\buildkite-agent\\builds\\buildkite-windows-cpu-autoscaling-group-i-0b3782d1791676daf-1\\xgboost\\xgboost-ci-windows\\src\\learner.cc:742: \n",
      "Parameters: { \"criterion\" } are not used.\n",
      "\n",
      "  warnings.warn(smsg, UserWarning)\n"
     ]
    },
    {
     "name": "stdout",
     "output_type": "stream",
     "text": [
      "#####################\n",
      "booster  gbtree\n",
      "n_estimators  25\n",
      "eta  0.7\n",
      "max_depth  10\n",
      "lambda  5.0\n",
      "criterion  entropy\n",
      "max_leaves  0\n",
      "0.945417095777549\n",
      "#####################\n",
      "booster  gbtree\n",
      "n_estimators  25\n",
      "eta  0.7\n",
      "max_depth  10\n",
      "lambda  5.0\n",
      "criterion  entropy\n",
      "max_leaves  1\n",
      "0.3388259526261586\n"
     ]
    },
    {
     "name": "stderr",
     "output_type": "stream",
     "text": [
      "c:\\Users\\loren\\anaconda3\\envs\\TensorFlow\\lib\\site-packages\\xgboost\\core.py:160: UserWarning: [10:51:08] WARNING: C:\\buildkite-agent\\builds\\buildkite-windows-cpu-autoscaling-group-i-0b3782d1791676daf-1\\xgboost\\xgboost-ci-windows\\src\\learner.cc:742: \n",
      "Parameters: { \"criterion\" } are not used.\n",
      "\n",
      "  warnings.warn(smsg, UserWarning)\n",
      "c:\\Users\\loren\\anaconda3\\envs\\TensorFlow\\lib\\site-packages\\xgboost\\core.py:160: UserWarning: [10:51:08] WARNING: C:\\buildkite-agent\\builds\\buildkite-windows-cpu-autoscaling-group-i-0b3782d1791676daf-1\\xgboost\\xgboost-ci-windows\\src\\learner.cc:742: \n",
      "Parameters: { \"criterion\" } are not used.\n",
      "\n",
      "  warnings.warn(smsg, UserWarning)\n"
     ]
    },
    {
     "name": "stdout",
     "output_type": "stream",
     "text": [
      "#####################\n",
      "booster  gbtree\n",
      "n_estimators  25\n",
      "eta  0.7\n",
      "max_depth  10\n",
      "lambda  5.0\n",
      "criterion  entropy\n",
      "max_leaves  5\n",
      "0.9181256436663234\n"
     ]
    },
    {
     "name": "stderr",
     "output_type": "stream",
     "text": [
      "c:\\Users\\loren\\anaconda3\\envs\\TensorFlow\\lib\\site-packages\\xgboost\\core.py:160: UserWarning: [10:51:09] WARNING: C:\\buildkite-agent\\builds\\buildkite-windows-cpu-autoscaling-group-i-0b3782d1791676daf-1\\xgboost\\xgboost-ci-windows\\src\\learner.cc:742: \n",
      "Parameters: { \"criterion\" } are not used.\n",
      "\n",
      "  warnings.warn(smsg, UserWarning)\n"
     ]
    },
    {
     "name": "stdout",
     "output_type": "stream",
     "text": [
      "#####################\n",
      "booster  gbtree\n",
      "n_estimators  25\n",
      "eta  0.7\n",
      "max_depth  20\n",
      "lambda  0.0\n",
      "criterion  gini\n",
      "max_leaves  0\n",
      "0.9392378990731205\n",
      "#####################\n",
      "booster  gbtree\n",
      "n_estimators  25\n",
      "eta  0.7\n",
      "max_depth  20\n",
      "lambda  0.0\n",
      "criterion  gini\n",
      "max_leaves  1\n",
      "0.3388259526261586\n"
     ]
    },
    {
     "name": "stderr",
     "output_type": "stream",
     "text": [
      "c:\\Users\\loren\\anaconda3\\envs\\TensorFlow\\lib\\site-packages\\xgboost\\core.py:160: UserWarning: [10:51:09] WARNING: C:\\buildkite-agent\\builds\\buildkite-windows-cpu-autoscaling-group-i-0b3782d1791676daf-1\\xgboost\\xgboost-ci-windows\\src\\learner.cc:742: \n",
      "Parameters: { \"criterion\" } are not used.\n",
      "\n",
      "  warnings.warn(smsg, UserWarning)\n",
      "c:\\Users\\loren\\anaconda3\\envs\\TensorFlow\\lib\\site-packages\\xgboost\\core.py:160: UserWarning: [10:51:09] WARNING: C:\\buildkite-agent\\builds\\buildkite-windows-cpu-autoscaling-group-i-0b3782d1791676daf-1\\xgboost\\xgboost-ci-windows\\src\\learner.cc:742: \n",
      "Parameters: { \"criterion\" } are not used.\n",
      "\n",
      "  warnings.warn(smsg, UserWarning)\n"
     ]
    },
    {
     "name": "stdout",
     "output_type": "stream",
     "text": [
      "#####################\n",
      "booster  gbtree\n",
      "n_estimators  25\n",
      "eta  0.7\n",
      "max_depth  20\n",
      "lambda  0.0\n",
      "criterion  gini\n",
      "max_leaves  5\n",
      "0.923274974253347\n"
     ]
    },
    {
     "name": "stderr",
     "output_type": "stream",
     "text": [
      "c:\\Users\\loren\\anaconda3\\envs\\TensorFlow\\lib\\site-packages\\xgboost\\core.py:160: UserWarning: [10:51:10] WARNING: C:\\buildkite-agent\\builds\\buildkite-windows-cpu-autoscaling-group-i-0b3782d1791676daf-1\\xgboost\\xgboost-ci-windows\\src\\learner.cc:742: \n",
      "Parameters: { \"criterion\" } are not used.\n",
      "\n",
      "  warnings.warn(smsg, UserWarning)\n"
     ]
    },
    {
     "name": "stdout",
     "output_type": "stream",
     "text": [
      "#####################\n",
      "booster  gbtree\n",
      "n_estimators  25\n",
      "eta  0.7\n",
      "max_depth  20\n",
      "lambda  0.0\n",
      "criterion  entropy\n",
      "max_leaves  0\n",
      "0.9392378990731205\n",
      "#####################\n",
      "booster  gbtree\n",
      "n_estimators  25\n",
      "eta  0.7\n",
      "max_depth  20\n",
      "lambda  0.0\n",
      "criterion  entropy\n",
      "max_leaves  1\n",
      "0.3388259526261586\n"
     ]
    },
    {
     "name": "stderr",
     "output_type": "stream",
     "text": [
      "c:\\Users\\loren\\anaconda3\\envs\\TensorFlow\\lib\\site-packages\\xgboost\\core.py:160: UserWarning: [10:51:11] WARNING: C:\\buildkite-agent\\builds\\buildkite-windows-cpu-autoscaling-group-i-0b3782d1791676daf-1\\xgboost\\xgboost-ci-windows\\src\\learner.cc:742: \n",
      "Parameters: { \"criterion\" } are not used.\n",
      "\n",
      "  warnings.warn(smsg, UserWarning)\n",
      "c:\\Users\\loren\\anaconda3\\envs\\TensorFlow\\lib\\site-packages\\xgboost\\core.py:160: UserWarning: [10:51:11] WARNING: C:\\buildkite-agent\\builds\\buildkite-windows-cpu-autoscaling-group-i-0b3782d1791676daf-1\\xgboost\\xgboost-ci-windows\\src\\learner.cc:742: \n",
      "Parameters: { \"criterion\" } are not used.\n",
      "\n",
      "  warnings.warn(smsg, UserWarning)\n"
     ]
    },
    {
     "name": "stdout",
     "output_type": "stream",
     "text": [
      "#####################\n",
      "booster  gbtree\n",
      "n_estimators  25\n",
      "eta  0.7\n",
      "max_depth  20\n",
      "lambda  0.0\n",
      "criterion  entropy\n",
      "max_leaves  5\n",
      "0.923274974253347\n"
     ]
    },
    {
     "name": "stderr",
     "output_type": "stream",
     "text": [
      "c:\\Users\\loren\\anaconda3\\envs\\TensorFlow\\lib\\site-packages\\xgboost\\core.py:160: UserWarning: [10:51:11] WARNING: C:\\buildkite-agent\\builds\\buildkite-windows-cpu-autoscaling-group-i-0b3782d1791676daf-1\\xgboost\\xgboost-ci-windows\\src\\learner.cc:742: \n",
      "Parameters: { \"criterion\" } are not used.\n",
      "\n",
      "  warnings.warn(smsg, UserWarning)\n"
     ]
    },
    {
     "name": "stdout",
     "output_type": "stream",
     "text": [
      "#####################\n",
      "booster  gbtree\n",
      "n_estimators  25\n",
      "eta  0.7\n",
      "max_depth  20\n",
      "lambda  1.0\n",
      "criterion  gini\n",
      "max_leaves  0\n",
      "0.94129763130793\n",
      "#####################\n",
      "booster  gbtree\n",
      "n_estimators  25\n",
      "eta  0.7\n",
      "max_depth  20\n",
      "lambda  1.0\n",
      "criterion  gini\n",
      "max_leaves  1\n",
      "0.3388259526261586\n"
     ]
    },
    {
     "name": "stderr",
     "output_type": "stream",
     "text": [
      "c:\\Users\\loren\\anaconda3\\envs\\TensorFlow\\lib\\site-packages\\xgboost\\core.py:160: UserWarning: [10:51:12] WARNING: C:\\buildkite-agent\\builds\\buildkite-windows-cpu-autoscaling-group-i-0b3782d1791676daf-1\\xgboost\\xgboost-ci-windows\\src\\learner.cc:742: \n",
      "Parameters: { \"criterion\" } are not used.\n",
      "\n",
      "  warnings.warn(smsg, UserWarning)\n",
      "c:\\Users\\loren\\anaconda3\\envs\\TensorFlow\\lib\\site-packages\\xgboost\\core.py:160: UserWarning: [10:51:12] WARNING: C:\\buildkite-agent\\builds\\buildkite-windows-cpu-autoscaling-group-i-0b3782d1791676daf-1\\xgboost\\xgboost-ci-windows\\src\\learner.cc:742: \n",
      "Parameters: { \"criterion\" } are not used.\n",
      "\n",
      "  warnings.warn(smsg, UserWarning)\n"
     ]
    },
    {
     "name": "stdout",
     "output_type": "stream",
     "text": [
      "#####################\n",
      "booster  gbtree\n",
      "n_estimators  25\n",
      "eta  0.7\n",
      "max_depth  20\n",
      "lambda  1.0\n",
      "criterion  gini\n",
      "max_leaves  5\n",
      "0.916065911431514\n"
     ]
    },
    {
     "name": "stderr",
     "output_type": "stream",
     "text": [
      "c:\\Users\\loren\\anaconda3\\envs\\TensorFlow\\lib\\site-packages\\xgboost\\core.py:160: UserWarning: [10:51:12] WARNING: C:\\buildkite-agent\\builds\\buildkite-windows-cpu-autoscaling-group-i-0b3782d1791676daf-1\\xgboost\\xgboost-ci-windows\\src\\learner.cc:742: \n",
      "Parameters: { \"criterion\" } are not used.\n",
      "\n",
      "  warnings.warn(smsg, UserWarning)\n"
     ]
    },
    {
     "name": "stdout",
     "output_type": "stream",
     "text": [
      "#####################\n",
      "booster  gbtree\n",
      "n_estimators  25\n",
      "eta  0.7\n",
      "max_depth  20\n",
      "lambda  1.0\n",
      "criterion  entropy\n",
      "max_leaves  0\n",
      "0.94129763130793\n",
      "#####################\n",
      "booster  gbtree\n",
      "n_estimators  25\n",
      "eta  0.7\n",
      "max_depth  20\n",
      "lambda  1.0\n",
      "criterion  entropy\n",
      "max_leaves  1\n",
      "0.3388259526261586\n"
     ]
    },
    {
     "name": "stderr",
     "output_type": "stream",
     "text": [
      "c:\\Users\\loren\\anaconda3\\envs\\TensorFlow\\lib\\site-packages\\xgboost\\core.py:160: UserWarning: [10:51:13] WARNING: C:\\buildkite-agent\\builds\\buildkite-windows-cpu-autoscaling-group-i-0b3782d1791676daf-1\\xgboost\\xgboost-ci-windows\\src\\learner.cc:742: \n",
      "Parameters: { \"criterion\" } are not used.\n",
      "\n",
      "  warnings.warn(smsg, UserWarning)\n",
      "c:\\Users\\loren\\anaconda3\\envs\\TensorFlow\\lib\\site-packages\\xgboost\\core.py:160: UserWarning: [10:51:13] WARNING: C:\\buildkite-agent\\builds\\buildkite-windows-cpu-autoscaling-group-i-0b3782d1791676daf-1\\xgboost\\xgboost-ci-windows\\src\\learner.cc:742: \n",
      "Parameters: { \"criterion\" } are not used.\n",
      "\n",
      "  warnings.warn(smsg, UserWarning)\n"
     ]
    },
    {
     "name": "stdout",
     "output_type": "stream",
     "text": [
      "#####################\n",
      "booster  gbtree\n",
      "n_estimators  25\n",
      "eta  0.7\n",
      "max_depth  20\n",
      "lambda  1.0\n",
      "criterion  entropy\n",
      "max_leaves  5\n",
      "0.916065911431514\n"
     ]
    },
    {
     "name": "stderr",
     "output_type": "stream",
     "text": [
      "c:\\Users\\loren\\anaconda3\\envs\\TensorFlow\\lib\\site-packages\\xgboost\\core.py:160: UserWarning: [10:51:13] WARNING: C:\\buildkite-agent\\builds\\buildkite-windows-cpu-autoscaling-group-i-0b3782d1791676daf-1\\xgboost\\xgboost-ci-windows\\src\\learner.cc:742: \n",
      "Parameters: { \"criterion\" } are not used.\n",
      "\n",
      "  warnings.warn(smsg, UserWarning)\n"
     ]
    },
    {
     "name": "stdout",
     "output_type": "stream",
     "text": [
      "#####################\n",
      "booster  gbtree\n",
      "n_estimators  25\n",
      "eta  0.7\n",
      "max_depth  20\n",
      "lambda  5.0\n",
      "criterion  gini\n",
      "max_leaves  0\n",
      "0.94129763130793\n",
      "#####################\n",
      "booster  gbtree\n",
      "n_estimators  25\n",
      "eta  0.7\n",
      "max_depth  20\n",
      "lambda  5.0\n",
      "criterion  gini\n",
      "max_leaves  1\n",
      "0.3388259526261586\n"
     ]
    },
    {
     "name": "stderr",
     "output_type": "stream",
     "text": [
      "c:\\Users\\loren\\anaconda3\\envs\\TensorFlow\\lib\\site-packages\\xgboost\\core.py:160: UserWarning: [10:51:14] WARNING: C:\\buildkite-agent\\builds\\buildkite-windows-cpu-autoscaling-group-i-0b3782d1791676daf-1\\xgboost\\xgboost-ci-windows\\src\\learner.cc:742: \n",
      "Parameters: { \"criterion\" } are not used.\n",
      "\n",
      "  warnings.warn(smsg, UserWarning)\n",
      "c:\\Users\\loren\\anaconda3\\envs\\TensorFlow\\lib\\site-packages\\xgboost\\core.py:160: UserWarning: [10:51:14] WARNING: C:\\buildkite-agent\\builds\\buildkite-windows-cpu-autoscaling-group-i-0b3782d1791676daf-1\\xgboost\\xgboost-ci-windows\\src\\learner.cc:742: \n",
      "Parameters: { \"criterion\" } are not used.\n",
      "\n",
      "  warnings.warn(smsg, UserWarning)\n"
     ]
    },
    {
     "name": "stdout",
     "output_type": "stream",
     "text": [
      "#####################\n",
      "booster  gbtree\n",
      "n_estimators  25\n",
      "eta  0.7\n",
      "max_depth  20\n",
      "lambda  5.0\n",
      "criterion  gini\n",
      "max_leaves  5\n",
      "0.9181256436663234\n"
     ]
    },
    {
     "name": "stderr",
     "output_type": "stream",
     "text": [
      "c:\\Users\\loren\\anaconda3\\envs\\TensorFlow\\lib\\site-packages\\xgboost\\core.py:160: UserWarning: [10:51:14] WARNING: C:\\buildkite-agent\\builds\\buildkite-windows-cpu-autoscaling-group-i-0b3782d1791676daf-1\\xgboost\\xgboost-ci-windows\\src\\learner.cc:742: \n",
      "Parameters: { \"criterion\" } are not used.\n",
      "\n",
      "  warnings.warn(smsg, UserWarning)\n"
     ]
    },
    {
     "name": "stdout",
     "output_type": "stream",
     "text": [
      "#####################\n",
      "booster  gbtree\n",
      "n_estimators  25\n",
      "eta  0.7\n",
      "max_depth  20\n",
      "lambda  5.0\n",
      "criterion  entropy\n",
      "max_leaves  0\n",
      "0.94129763130793\n",
      "#####################\n",
      "booster  gbtree\n",
      "n_estimators  25\n",
      "eta  0.7\n",
      "max_depth  20\n",
      "lambda  5.0\n",
      "criterion  entropy\n",
      "max_leaves  1\n",
      "0.3388259526261586\n"
     ]
    },
    {
     "name": "stderr",
     "output_type": "stream",
     "text": [
      "c:\\Users\\loren\\anaconda3\\envs\\TensorFlow\\lib\\site-packages\\xgboost\\core.py:160: UserWarning: [10:51:15] WARNING: C:\\buildkite-agent\\builds\\buildkite-windows-cpu-autoscaling-group-i-0b3782d1791676daf-1\\xgboost\\xgboost-ci-windows\\src\\learner.cc:742: \n",
      "Parameters: { \"criterion\" } are not used.\n",
      "\n",
      "  warnings.warn(smsg, UserWarning)\n",
      "c:\\Users\\loren\\anaconda3\\envs\\TensorFlow\\lib\\site-packages\\xgboost\\core.py:160: UserWarning: [10:51:15] WARNING: C:\\buildkite-agent\\builds\\buildkite-windows-cpu-autoscaling-group-i-0b3782d1791676daf-1\\xgboost\\xgboost-ci-windows\\src\\learner.cc:742: \n",
      "Parameters: { \"criterion\" } are not used.\n",
      "\n",
      "  warnings.warn(smsg, UserWarning)\n"
     ]
    },
    {
     "name": "stdout",
     "output_type": "stream",
     "text": [
      "#####################\n",
      "booster  gbtree\n",
      "n_estimators  25\n",
      "eta  0.7\n",
      "max_depth  20\n",
      "lambda  5.0\n",
      "criterion  entropy\n",
      "max_leaves  5\n",
      "0.9181256436663234\n"
     ]
    },
    {
     "name": "stderr",
     "output_type": "stream",
     "text": [
      "c:\\Users\\loren\\anaconda3\\envs\\TensorFlow\\lib\\site-packages\\xgboost\\core.py:160: UserWarning: [10:51:15] WARNING: C:\\buildkite-agent\\builds\\buildkite-windows-cpu-autoscaling-group-i-0b3782d1791676daf-1\\xgboost\\xgboost-ci-windows\\src\\learner.cc:742: \n",
      "Parameters: { \"criterion\" } are not used.\n",
      "\n",
      "  warnings.warn(smsg, UserWarning)\n"
     ]
    },
    {
     "name": "stdout",
     "output_type": "stream",
     "text": [
      "#####################\n",
      "booster  gbtree\n",
      "n_estimators  25\n",
      "eta  0.7\n",
      "max_depth  30\n",
      "lambda  0.0\n",
      "criterion  gini\n",
      "max_leaves  0\n",
      "0.9340885684860968\n",
      "#####################\n",
      "booster  gbtree\n",
      "n_estimators  25\n",
      "eta  0.7\n",
      "max_depth  30\n",
      "lambda  0.0\n",
      "criterion  gini\n",
      "max_leaves  1\n",
      "0.3388259526261586\n"
     ]
    },
    {
     "name": "stderr",
     "output_type": "stream",
     "text": [
      "c:\\Users\\loren\\anaconda3\\envs\\TensorFlow\\lib\\site-packages\\xgboost\\core.py:160: UserWarning: [10:51:17] WARNING: C:\\buildkite-agent\\builds\\buildkite-windows-cpu-autoscaling-group-i-0b3782d1791676daf-1\\xgboost\\xgboost-ci-windows\\src\\learner.cc:742: \n",
      "Parameters: { \"criterion\" } are not used.\n",
      "\n",
      "  warnings.warn(smsg, UserWarning)\n",
      "c:\\Users\\loren\\anaconda3\\envs\\TensorFlow\\lib\\site-packages\\xgboost\\core.py:160: UserWarning: [10:51:18] WARNING: C:\\buildkite-agent\\builds\\buildkite-windows-cpu-autoscaling-group-i-0b3782d1791676daf-1\\xgboost\\xgboost-ci-windows\\src\\learner.cc:742: \n",
      "Parameters: { \"criterion\" } are not used.\n",
      "\n",
      "  warnings.warn(smsg, UserWarning)\n"
     ]
    },
    {
     "name": "stdout",
     "output_type": "stream",
     "text": [
      "#####################\n",
      "booster  gbtree\n",
      "n_estimators  25\n",
      "eta  0.7\n",
      "max_depth  30\n",
      "lambda  0.0\n",
      "criterion  gini\n",
      "max_leaves  5\n",
      "0.923274974253347\n"
     ]
    },
    {
     "name": "stderr",
     "output_type": "stream",
     "text": [
      "c:\\Users\\loren\\anaconda3\\envs\\TensorFlow\\lib\\site-packages\\xgboost\\core.py:160: UserWarning: [10:51:18] WARNING: C:\\buildkite-agent\\builds\\buildkite-windows-cpu-autoscaling-group-i-0b3782d1791676daf-1\\xgboost\\xgboost-ci-windows\\src\\learner.cc:742: \n",
      "Parameters: { \"criterion\" } are not used.\n",
      "\n",
      "  warnings.warn(smsg, UserWarning)\n"
     ]
    },
    {
     "name": "stdout",
     "output_type": "stream",
     "text": [
      "#####################\n",
      "booster  gbtree\n",
      "n_estimators  25\n",
      "eta  0.7\n",
      "max_depth  30\n",
      "lambda  0.0\n",
      "criterion  entropy\n",
      "max_leaves  0\n",
      "0.9340885684860968\n",
      "#####################\n",
      "booster  gbtree\n",
      "n_estimators  25\n",
      "eta  0.7\n",
      "max_depth  30\n",
      "lambda  0.0\n",
      "criterion  entropy\n",
      "max_leaves  1\n",
      "0.3388259526261586\n"
     ]
    },
    {
     "name": "stderr",
     "output_type": "stream",
     "text": [
      "c:\\Users\\loren\\anaconda3\\envs\\TensorFlow\\lib\\site-packages\\xgboost\\core.py:160: UserWarning: [10:51:19] WARNING: C:\\buildkite-agent\\builds\\buildkite-windows-cpu-autoscaling-group-i-0b3782d1791676daf-1\\xgboost\\xgboost-ci-windows\\src\\learner.cc:742: \n",
      "Parameters: { \"criterion\" } are not used.\n",
      "\n",
      "  warnings.warn(smsg, UserWarning)\n",
      "c:\\Users\\loren\\anaconda3\\envs\\TensorFlow\\lib\\site-packages\\xgboost\\core.py:160: UserWarning: [10:51:19] WARNING: C:\\buildkite-agent\\builds\\buildkite-windows-cpu-autoscaling-group-i-0b3782d1791676daf-1\\xgboost\\xgboost-ci-windows\\src\\learner.cc:742: \n",
      "Parameters: { \"criterion\" } are not used.\n",
      "\n",
      "  warnings.warn(smsg, UserWarning)\n"
     ]
    },
    {
     "name": "stdout",
     "output_type": "stream",
     "text": [
      "#####################\n",
      "booster  gbtree\n",
      "n_estimators  25\n",
      "eta  0.7\n",
      "max_depth  30\n",
      "lambda  0.0\n",
      "criterion  entropy\n",
      "max_leaves  5\n",
      "0.923274974253347\n"
     ]
    },
    {
     "name": "stderr",
     "output_type": "stream",
     "text": [
      "c:\\Users\\loren\\anaconda3\\envs\\TensorFlow\\lib\\site-packages\\xgboost\\core.py:160: UserWarning: [10:51:19] WARNING: C:\\buildkite-agent\\builds\\buildkite-windows-cpu-autoscaling-group-i-0b3782d1791676daf-1\\xgboost\\xgboost-ci-windows\\src\\learner.cc:742: \n",
      "Parameters: { \"criterion\" } are not used.\n",
      "\n",
      "  warnings.warn(smsg, UserWarning)\n"
     ]
    },
    {
     "name": "stdout",
     "output_type": "stream",
     "text": [
      "#####################\n",
      "booster  gbtree\n",
      "n_estimators  25\n",
      "eta  0.7\n",
      "max_depth  30\n",
      "lambda  1.0\n",
      "criterion  gini\n",
      "max_leaves  0\n",
      "0.94129763130793\n",
      "#####################\n",
      "booster  gbtree\n",
      "n_estimators  25\n",
      "eta  0.7\n",
      "max_depth  30\n",
      "lambda  1.0\n",
      "criterion  gini\n",
      "max_leaves  1\n",
      "0.3388259526261586\n",
      "#####################\n",
      "booster  gbtree\n",
      "n_estimators  25\n",
      "eta  0.7\n",
      "max_depth  30\n",
      "lambda  1.0\n",
      "criterion  gini\n",
      "max_leaves  5\n",
      "0.916065911431514\n"
     ]
    },
    {
     "name": "stderr",
     "output_type": "stream",
     "text": [
      "c:\\Users\\loren\\anaconda3\\envs\\TensorFlow\\lib\\site-packages\\xgboost\\core.py:160: UserWarning: [10:51:20] WARNING: C:\\buildkite-agent\\builds\\buildkite-windows-cpu-autoscaling-group-i-0b3782d1791676daf-1\\xgboost\\xgboost-ci-windows\\src\\learner.cc:742: \n",
      "Parameters: { \"criterion\" } are not used.\n",
      "\n",
      "  warnings.warn(smsg, UserWarning)\n",
      "c:\\Users\\loren\\anaconda3\\envs\\TensorFlow\\lib\\site-packages\\xgboost\\core.py:160: UserWarning: [10:51:20] WARNING: C:\\buildkite-agent\\builds\\buildkite-windows-cpu-autoscaling-group-i-0b3782d1791676daf-1\\xgboost\\xgboost-ci-windows\\src\\learner.cc:742: \n",
      "Parameters: { \"criterion\" } are not used.\n",
      "\n",
      "  warnings.warn(smsg, UserWarning)\n",
      "c:\\Users\\loren\\anaconda3\\envs\\TensorFlow\\lib\\site-packages\\xgboost\\core.py:160: UserWarning: [10:51:20] WARNING: C:\\buildkite-agent\\builds\\buildkite-windows-cpu-autoscaling-group-i-0b3782d1791676daf-1\\xgboost\\xgboost-ci-windows\\src\\learner.cc:742: \n",
      "Parameters: { \"criterion\" } are not used.\n",
      "\n",
      "  warnings.warn(smsg, UserWarning)\n"
     ]
    },
    {
     "name": "stdout",
     "output_type": "stream",
     "text": [
      "#####################\n",
      "booster  gbtree\n",
      "n_estimators  25\n",
      "eta  0.7\n",
      "max_depth  30\n",
      "lambda  1.0\n",
      "criterion  entropy\n",
      "max_leaves  0\n",
      "0.94129763130793\n",
      "#####################\n",
      "booster  gbtree\n",
      "n_estimators  25\n",
      "eta  0.7\n",
      "max_depth  30\n",
      "lambda  1.0\n",
      "criterion  entropy\n",
      "max_leaves  1\n",
      "0.3388259526261586\n",
      "#####################\n",
      "booster  gbtree\n",
      "n_estimators  25\n",
      "eta  0.7\n",
      "max_depth  30\n",
      "lambda  1.0\n",
      "criterion  entropy\n",
      "max_leaves  5\n",
      "0.916065911431514\n"
     ]
    },
    {
     "name": "stderr",
     "output_type": "stream",
     "text": [
      "c:\\Users\\loren\\anaconda3\\envs\\TensorFlow\\lib\\site-packages\\xgboost\\core.py:160: UserWarning: [10:51:21] WARNING: C:\\buildkite-agent\\builds\\buildkite-windows-cpu-autoscaling-group-i-0b3782d1791676daf-1\\xgboost\\xgboost-ci-windows\\src\\learner.cc:742: \n",
      "Parameters: { \"criterion\" } are not used.\n",
      "\n",
      "  warnings.warn(smsg, UserWarning)\n",
      "c:\\Users\\loren\\anaconda3\\envs\\TensorFlow\\lib\\site-packages\\xgboost\\core.py:160: UserWarning: [10:51:21] WARNING: C:\\buildkite-agent\\builds\\buildkite-windows-cpu-autoscaling-group-i-0b3782d1791676daf-1\\xgboost\\xgboost-ci-windows\\src\\learner.cc:742: \n",
      "Parameters: { \"criterion\" } are not used.\n",
      "\n",
      "  warnings.warn(smsg, UserWarning)\n",
      "c:\\Users\\loren\\anaconda3\\envs\\TensorFlow\\lib\\site-packages\\xgboost\\core.py:160: UserWarning: [10:51:21] WARNING: C:\\buildkite-agent\\builds\\buildkite-windows-cpu-autoscaling-group-i-0b3782d1791676daf-1\\xgboost\\xgboost-ci-windows\\src\\learner.cc:742: \n",
      "Parameters: { \"criterion\" } are not used.\n",
      "\n",
      "  warnings.warn(smsg, UserWarning)\n"
     ]
    },
    {
     "name": "stdout",
     "output_type": "stream",
     "text": [
      "#####################\n",
      "booster  gbtree\n",
      "n_estimators  25\n",
      "eta  0.7\n",
      "max_depth  30\n",
      "lambda  5.0\n",
      "criterion  gini\n",
      "max_leaves  0\n",
      "0.94129763130793\n",
      "#####################\n",
      "booster  gbtree\n",
      "n_estimators  25\n",
      "eta  0.7\n",
      "max_depth  30\n",
      "lambda  5.0\n",
      "criterion  gini\n",
      "max_leaves  1\n",
      "0.3388259526261586\n",
      "#####################\n",
      "booster  gbtree\n",
      "n_estimators  25\n",
      "eta  0.7\n",
      "max_depth  30\n",
      "lambda  5.0\n",
      "criterion  gini\n",
      "max_leaves  5\n",
      "0.9181256436663234\n"
     ]
    },
    {
     "name": "stderr",
     "output_type": "stream",
     "text": [
      "c:\\Users\\loren\\anaconda3\\envs\\TensorFlow\\lib\\site-packages\\xgboost\\core.py:160: UserWarning: [10:51:21] WARNING: C:\\buildkite-agent\\builds\\buildkite-windows-cpu-autoscaling-group-i-0b3782d1791676daf-1\\xgboost\\xgboost-ci-windows\\src\\learner.cc:742: \n",
      "Parameters: { \"criterion\" } are not used.\n",
      "\n",
      "  warnings.warn(smsg, UserWarning)\n",
      "c:\\Users\\loren\\anaconda3\\envs\\TensorFlow\\lib\\site-packages\\xgboost\\core.py:160: UserWarning: [10:51:21] WARNING: C:\\buildkite-agent\\builds\\buildkite-windows-cpu-autoscaling-group-i-0b3782d1791676daf-1\\xgboost\\xgboost-ci-windows\\src\\learner.cc:742: \n",
      "Parameters: { \"criterion\" } are not used.\n",
      "\n",
      "  warnings.warn(smsg, UserWarning)\n",
      "c:\\Users\\loren\\anaconda3\\envs\\TensorFlow\\lib\\site-packages\\xgboost\\core.py:160: UserWarning: [10:51:21] WARNING: C:\\buildkite-agent\\builds\\buildkite-windows-cpu-autoscaling-group-i-0b3782d1791676daf-1\\xgboost\\xgboost-ci-windows\\src\\learner.cc:742: \n",
      "Parameters: { \"criterion\" } are not used.\n",
      "\n",
      "  warnings.warn(smsg, UserWarning)\n"
     ]
    },
    {
     "name": "stdout",
     "output_type": "stream",
     "text": [
      "#####################\n",
      "booster  gbtree\n",
      "n_estimators  25\n",
      "eta  0.7\n",
      "max_depth  30\n",
      "lambda  5.0\n",
      "criterion  entropy\n",
      "max_leaves  0\n",
      "0.94129763130793\n",
      "#####################\n",
      "booster  gbtree\n",
      "n_estimators  25\n",
      "eta  0.7\n",
      "max_depth  30\n",
      "lambda  5.0\n",
      "criterion  entropy\n",
      "max_leaves  1\n",
      "0.3388259526261586\n",
      "#####################\n",
      "booster  gbtree\n",
      "n_estimators  25\n",
      "eta  0.7\n",
      "max_depth  30\n",
      "lambda  5.0\n",
      "criterion  entropy\n",
      "max_leaves  5\n",
      "0.9181256436663234\n"
     ]
    },
    {
     "name": "stderr",
     "output_type": "stream",
     "text": [
      "c:\\Users\\loren\\anaconda3\\envs\\TensorFlow\\lib\\site-packages\\xgboost\\core.py:160: UserWarning: [10:51:22] WARNING: C:\\buildkite-agent\\builds\\buildkite-windows-cpu-autoscaling-group-i-0b3782d1791676daf-1\\xgboost\\xgboost-ci-windows\\src\\learner.cc:742: \n",
      "Parameters: { \"criterion\" } are not used.\n",
      "\n",
      "  warnings.warn(smsg, UserWarning)\n",
      "c:\\Users\\loren\\anaconda3\\envs\\TensorFlow\\lib\\site-packages\\xgboost\\core.py:160: UserWarning: [10:51:22] WARNING: C:\\buildkite-agent\\builds\\buildkite-windows-cpu-autoscaling-group-i-0b3782d1791676daf-1\\xgboost\\xgboost-ci-windows\\src\\learner.cc:742: \n",
      "Parameters: { \"criterion\" } are not used.\n",
      "\n",
      "  warnings.warn(smsg, UserWarning)\n",
      "c:\\Users\\loren\\anaconda3\\envs\\TensorFlow\\lib\\site-packages\\xgboost\\core.py:160: UserWarning: [10:51:22] WARNING: C:\\buildkite-agent\\builds\\buildkite-windows-cpu-autoscaling-group-i-0b3782d1791676daf-1\\xgboost\\xgboost-ci-windows\\src\\learner.cc:742: \n",
      "Parameters: { \"criterion\" } are not used.\n",
      "\n",
      "  warnings.warn(smsg, UserWarning)\n"
     ]
    },
    {
     "name": "stdout",
     "output_type": "stream",
     "text": [
      "#####################\n",
      "booster  gbtree\n",
      "n_estimators  25\n",
      "eta  0.9\n",
      "max_depth  5\n",
      "lambda  0.0\n",
      "criterion  gini\n",
      "max_leaves  0\n",
      "0.9407826982492276\n",
      "#####################\n",
      "booster  gbtree\n",
      "n_estimators  25\n",
      "eta  0.9\n",
      "max_depth  5\n",
      "lambda  0.0\n",
      "criterion  gini\n",
      "max_leaves  1\n",
      "0.3388259526261586\n",
      "#####################\n",
      "booster  gbtree\n",
      "n_estimators  25\n",
      "eta  0.9\n",
      "max_depth  5\n",
      "lambda  0.0\n",
      "criterion  gini\n",
      "max_leaves  5\n",
      "0.9243048403707518\n"
     ]
    },
    {
     "name": "stderr",
     "output_type": "stream",
     "text": [
      "c:\\Users\\loren\\anaconda3\\envs\\TensorFlow\\lib\\site-packages\\xgboost\\core.py:160: UserWarning: [10:51:22] WARNING: C:\\buildkite-agent\\builds\\buildkite-windows-cpu-autoscaling-group-i-0b3782d1791676daf-1\\xgboost\\xgboost-ci-windows\\src\\learner.cc:742: \n",
      "Parameters: { \"criterion\" } are not used.\n",
      "\n",
      "  warnings.warn(smsg, UserWarning)\n",
      "c:\\Users\\loren\\anaconda3\\envs\\TensorFlow\\lib\\site-packages\\xgboost\\core.py:160: UserWarning: [10:51:22] WARNING: C:\\buildkite-agent\\builds\\buildkite-windows-cpu-autoscaling-group-i-0b3782d1791676daf-1\\xgboost\\xgboost-ci-windows\\src\\learner.cc:742: \n",
      "Parameters: { \"criterion\" } are not used.\n",
      "\n",
      "  warnings.warn(smsg, UserWarning)\n",
      "c:\\Users\\loren\\anaconda3\\envs\\TensorFlow\\lib\\site-packages\\xgboost\\core.py:160: UserWarning: [10:51:22] WARNING: C:\\buildkite-agent\\builds\\buildkite-windows-cpu-autoscaling-group-i-0b3782d1791676daf-1\\xgboost\\xgboost-ci-windows\\src\\learner.cc:742: \n",
      "Parameters: { \"criterion\" } are not used.\n",
      "\n",
      "  warnings.warn(smsg, UserWarning)\n",
      "c:\\Users\\loren\\anaconda3\\envs\\TensorFlow\\lib\\site-packages\\xgboost\\core.py:160: UserWarning: [10:51:23] WARNING: C:\\buildkite-agent\\builds\\buildkite-windows-cpu-autoscaling-group-i-0b3782d1791676daf-1\\xgboost\\xgboost-ci-windows\\src\\learner.cc:742: \n",
      "Parameters: { \"criterion\" } are not used.\n",
      "\n",
      "  warnings.warn(smsg, UserWarning)\n"
     ]
    },
    {
     "name": "stdout",
     "output_type": "stream",
     "text": [
      "#####################\n",
      "booster  gbtree\n",
      "n_estimators  25\n",
      "eta  0.9\n",
      "max_depth  5\n",
      "lambda  0.0\n",
      "criterion  entropy\n",
      "max_leaves  0\n",
      "0.9407826982492276\n",
      "#####################\n",
      "booster  gbtree\n",
      "n_estimators  25\n",
      "eta  0.9\n",
      "max_depth  5\n",
      "lambda  0.0\n",
      "criterion  entropy\n",
      "max_leaves  1\n",
      "0.3388259526261586\n",
      "#####################\n",
      "booster  gbtree\n",
      "n_estimators  25\n",
      "eta  0.9\n",
      "max_depth  5\n",
      "lambda  0.0\n",
      "criterion  entropy\n",
      "max_leaves  5\n",
      "0.9243048403707518\n"
     ]
    },
    {
     "name": "stderr",
     "output_type": "stream",
     "text": [
      "c:\\Users\\loren\\anaconda3\\envs\\TensorFlow\\lib\\site-packages\\xgboost\\core.py:160: UserWarning: [10:51:23] WARNING: C:\\buildkite-agent\\builds\\buildkite-windows-cpu-autoscaling-group-i-0b3782d1791676daf-1\\xgboost\\xgboost-ci-windows\\src\\learner.cc:742: \n",
      "Parameters: { \"criterion\" } are not used.\n",
      "\n",
      "  warnings.warn(smsg, UserWarning)\n",
      "c:\\Users\\loren\\anaconda3\\envs\\TensorFlow\\lib\\site-packages\\xgboost\\core.py:160: UserWarning: [10:51:23] WARNING: C:\\buildkite-agent\\builds\\buildkite-windows-cpu-autoscaling-group-i-0b3782d1791676daf-1\\xgboost\\xgboost-ci-windows\\src\\learner.cc:742: \n",
      "Parameters: { \"criterion\" } are not used.\n",
      "\n",
      "  warnings.warn(smsg, UserWarning)\n"
     ]
    },
    {
     "name": "stdout",
     "output_type": "stream",
     "text": [
      "#####################\n",
      "booster  gbtree\n",
      "n_estimators  25\n",
      "eta  0.9\n",
      "max_depth  5\n",
      "lambda  1.0\n",
      "criterion  gini\n",
      "max_leaves  0\n",
      "0.9376930998970134\n",
      "#####################\n",
      "booster  gbtree\n",
      "n_estimators  25\n",
      "eta  0.9\n",
      "max_depth  5\n",
      "lambda  1.0\n",
      "criterion  gini\n",
      "max_leaves  1\n",
      "0.3388259526261586\n",
      "#####################\n",
      "booster  gbtree\n",
      "n_estimators  25\n",
      "eta  0.9\n",
      "max_depth  5\n",
      "lambda  1.0\n",
      "criterion  gini\n",
      "max_leaves  5\n",
      "0.9263645726055613\n"
     ]
    },
    {
     "name": "stderr",
     "output_type": "stream",
     "text": [
      "c:\\Users\\loren\\anaconda3\\envs\\TensorFlow\\lib\\site-packages\\xgboost\\core.py:160: UserWarning: [10:51:23] WARNING: C:\\buildkite-agent\\builds\\buildkite-windows-cpu-autoscaling-group-i-0b3782d1791676daf-1\\xgboost\\xgboost-ci-windows\\src\\learner.cc:742: \n",
      "Parameters: { \"criterion\" } are not used.\n",
      "\n",
      "  warnings.warn(smsg, UserWarning)\n",
      "c:\\Users\\loren\\anaconda3\\envs\\TensorFlow\\lib\\site-packages\\xgboost\\core.py:160: UserWarning: [10:51:23] WARNING: C:\\buildkite-agent\\builds\\buildkite-windows-cpu-autoscaling-group-i-0b3782d1791676daf-1\\xgboost\\xgboost-ci-windows\\src\\learner.cc:742: \n",
      "Parameters: { \"criterion\" } are not used.\n",
      "\n",
      "  warnings.warn(smsg, UserWarning)\n",
      "c:\\Users\\loren\\anaconda3\\envs\\TensorFlow\\lib\\site-packages\\xgboost\\core.py:160: UserWarning: [10:51:23] WARNING: C:\\buildkite-agent\\builds\\buildkite-windows-cpu-autoscaling-group-i-0b3782d1791676daf-1\\xgboost\\xgboost-ci-windows\\src\\learner.cc:742: \n",
      "Parameters: { \"criterion\" } are not used.\n",
      "\n",
      "  warnings.warn(smsg, UserWarning)\n"
     ]
    },
    {
     "name": "stdout",
     "output_type": "stream",
     "text": [
      "#####################\n",
      "booster  gbtree\n",
      "n_estimators  25\n",
      "eta  0.9\n",
      "max_depth  5\n",
      "lambda  1.0\n",
      "criterion  entropy\n",
      "max_leaves  0\n",
      "0.9376930998970134\n",
      "#####################\n",
      "booster  gbtree\n",
      "n_estimators  25\n",
      "eta  0.9\n",
      "max_depth  5\n",
      "lambda  1.0\n",
      "criterion  entropy\n",
      "max_leaves  1\n",
      "0.3388259526261586\n",
      "#####################\n",
      "booster  gbtree\n",
      "n_estimators  25\n",
      "eta  0.9\n",
      "max_depth  5\n",
      "lambda  1.0\n",
      "criterion  entropy\n",
      "max_leaves  5\n",
      "0.9263645726055613\n"
     ]
    },
    {
     "name": "stderr",
     "output_type": "stream",
     "text": [
      "c:\\Users\\loren\\anaconda3\\envs\\TensorFlow\\lib\\site-packages\\xgboost\\core.py:160: UserWarning: [10:51:24] WARNING: C:\\buildkite-agent\\builds\\buildkite-windows-cpu-autoscaling-group-i-0b3782d1791676daf-1\\xgboost\\xgboost-ci-windows\\src\\learner.cc:742: \n",
      "Parameters: { \"criterion\" } are not used.\n",
      "\n",
      "  warnings.warn(smsg, UserWarning)\n",
      "c:\\Users\\loren\\anaconda3\\envs\\TensorFlow\\lib\\site-packages\\xgboost\\core.py:160: UserWarning: [10:51:24] WARNING: C:\\buildkite-agent\\builds\\buildkite-windows-cpu-autoscaling-group-i-0b3782d1791676daf-1\\xgboost\\xgboost-ci-windows\\src\\learner.cc:742: \n",
      "Parameters: { \"criterion\" } are not used.\n",
      "\n",
      "  warnings.warn(smsg, UserWarning)\n",
      "c:\\Users\\loren\\anaconda3\\envs\\TensorFlow\\lib\\site-packages\\xgboost\\core.py:160: UserWarning: [10:51:24] WARNING: C:\\buildkite-agent\\builds\\buildkite-windows-cpu-autoscaling-group-i-0b3782d1791676daf-1\\xgboost\\xgboost-ci-windows\\src\\learner.cc:742: \n",
      "Parameters: { \"criterion\" } are not used.\n",
      "\n",
      "  warnings.warn(smsg, UserWarning)\n"
     ]
    },
    {
     "name": "stdout",
     "output_type": "stream",
     "text": [
      "#####################\n",
      "booster  gbtree\n",
      "n_estimators  25\n",
      "eta  0.9\n",
      "max_depth  5\n",
      "lambda  5.0\n",
      "criterion  gini\n",
      "max_leaves  0\n",
      "0.94129763130793\n",
      "#####################\n",
      "booster  gbtree\n",
      "n_estimators  25\n",
      "eta  0.9\n",
      "max_depth  5\n",
      "lambda  5.0\n",
      "criterion  gini\n",
      "max_leaves  1\n",
      "0.3388259526261586\n",
      "#####################\n",
      "booster  gbtree\n",
      "n_estimators  25\n",
      "eta  0.9\n",
      "max_depth  5\n",
      "lambda  5.0\n",
      "criterion  gini\n",
      "max_leaves  5\n",
      "0.9304840370751802\n"
     ]
    },
    {
     "name": "stderr",
     "output_type": "stream",
     "text": [
      "c:\\Users\\loren\\anaconda3\\envs\\TensorFlow\\lib\\site-packages\\xgboost\\core.py:160: UserWarning: [10:51:24] WARNING: C:\\buildkite-agent\\builds\\buildkite-windows-cpu-autoscaling-group-i-0b3782d1791676daf-1\\xgboost\\xgboost-ci-windows\\src\\learner.cc:742: \n",
      "Parameters: { \"criterion\" } are not used.\n",
      "\n",
      "  warnings.warn(smsg, UserWarning)\n",
      "c:\\Users\\loren\\anaconda3\\envs\\TensorFlow\\lib\\site-packages\\xgboost\\core.py:160: UserWarning: [10:51:24] WARNING: C:\\buildkite-agent\\builds\\buildkite-windows-cpu-autoscaling-group-i-0b3782d1791676daf-1\\xgboost\\xgboost-ci-windows\\src\\learner.cc:742: \n",
      "Parameters: { \"criterion\" } are not used.\n",
      "\n",
      "  warnings.warn(smsg, UserWarning)\n",
      "c:\\Users\\loren\\anaconda3\\envs\\TensorFlow\\lib\\site-packages\\xgboost\\core.py:160: UserWarning: [10:51:24] WARNING: C:\\buildkite-agent\\builds\\buildkite-windows-cpu-autoscaling-group-i-0b3782d1791676daf-1\\xgboost\\xgboost-ci-windows\\src\\learner.cc:742: \n",
      "Parameters: { \"criterion\" } are not used.\n",
      "\n",
      "  warnings.warn(smsg, UserWarning)\n"
     ]
    },
    {
     "name": "stdout",
     "output_type": "stream",
     "text": [
      "#####################\n",
      "booster  gbtree\n",
      "n_estimators  25\n",
      "eta  0.9\n",
      "max_depth  5\n",
      "lambda  5.0\n",
      "criterion  entropy\n",
      "max_leaves  0\n",
      "0.94129763130793\n",
      "#####################\n",
      "booster  gbtree\n",
      "n_estimators  25\n",
      "eta  0.9\n",
      "max_depth  5\n",
      "lambda  5.0\n",
      "criterion  entropy\n",
      "max_leaves  1\n",
      "0.3388259526261586\n",
      "#####################\n",
      "booster  gbtree\n",
      "n_estimators  25\n",
      "eta  0.9\n",
      "max_depth  5\n",
      "lambda  5.0\n",
      "criterion  entropy\n",
      "max_leaves  5\n",
      "0.9304840370751802\n"
     ]
    },
    {
     "name": "stderr",
     "output_type": "stream",
     "text": [
      "c:\\Users\\loren\\anaconda3\\envs\\TensorFlow\\lib\\site-packages\\xgboost\\core.py:160: UserWarning: [10:51:24] WARNING: C:\\buildkite-agent\\builds\\buildkite-windows-cpu-autoscaling-group-i-0b3782d1791676daf-1\\xgboost\\xgboost-ci-windows\\src\\learner.cc:742: \n",
      "Parameters: { \"criterion\" } are not used.\n",
      "\n",
      "  warnings.warn(smsg, UserWarning)\n",
      "c:\\Users\\loren\\anaconda3\\envs\\TensorFlow\\lib\\site-packages\\xgboost\\core.py:160: UserWarning: [10:51:24] WARNING: C:\\buildkite-agent\\builds\\buildkite-windows-cpu-autoscaling-group-i-0b3782d1791676daf-1\\xgboost\\xgboost-ci-windows\\src\\learner.cc:742: \n",
      "Parameters: { \"criterion\" } are not used.\n",
      "\n",
      "  warnings.warn(smsg, UserWarning)\n",
      "c:\\Users\\loren\\anaconda3\\envs\\TensorFlow\\lib\\site-packages\\xgboost\\core.py:160: UserWarning: [10:51:24] WARNING: C:\\buildkite-agent\\builds\\buildkite-windows-cpu-autoscaling-group-i-0b3782d1791676daf-1\\xgboost\\xgboost-ci-windows\\src\\learner.cc:742: \n",
      "Parameters: { \"criterion\" } are not used.\n",
      "\n",
      "  warnings.warn(smsg, UserWarning)\n"
     ]
    },
    {
     "name": "stdout",
     "output_type": "stream",
     "text": [
      "#####################\n",
      "booster  gbtree\n",
      "n_estimators  25\n",
      "eta  0.9\n",
      "max_depth  10\n",
      "lambda  0.0\n",
      "criterion  gini\n",
      "max_leaves  0\n",
      "0.9407826982492276\n",
      "#####################\n",
      "booster  gbtree\n",
      "n_estimators  25\n",
      "eta  0.9\n",
      "max_depth  10\n",
      "lambda  0.0\n",
      "criterion  gini\n",
      "max_leaves  1\n",
      "0.3388259526261586\n",
      "#####################\n",
      "booster  gbtree\n",
      "n_estimators  25\n",
      "eta  0.9\n",
      "max_depth  10\n",
      "lambda  0.0\n",
      "criterion  gini\n",
      "max_leaves  5\n",
      "0.9243048403707518\n"
     ]
    },
    {
     "name": "stderr",
     "output_type": "stream",
     "text": [
      "c:\\Users\\loren\\anaconda3\\envs\\TensorFlow\\lib\\site-packages\\xgboost\\core.py:160: UserWarning: [10:51:25] WARNING: C:\\buildkite-agent\\builds\\buildkite-windows-cpu-autoscaling-group-i-0b3782d1791676daf-1\\xgboost\\xgboost-ci-windows\\src\\learner.cc:742: \n",
      "Parameters: { \"criterion\" } are not used.\n",
      "\n",
      "  warnings.warn(smsg, UserWarning)\n",
      "c:\\Users\\loren\\anaconda3\\envs\\TensorFlow\\lib\\site-packages\\xgboost\\core.py:160: UserWarning: [10:51:25] WARNING: C:\\buildkite-agent\\builds\\buildkite-windows-cpu-autoscaling-group-i-0b3782d1791676daf-1\\xgboost\\xgboost-ci-windows\\src\\learner.cc:742: \n",
      "Parameters: { \"criterion\" } are not used.\n",
      "\n",
      "  warnings.warn(smsg, UserWarning)\n",
      "c:\\Users\\loren\\anaconda3\\envs\\TensorFlow\\lib\\site-packages\\xgboost\\core.py:160: UserWarning: [10:51:25] WARNING: C:\\buildkite-agent\\builds\\buildkite-windows-cpu-autoscaling-group-i-0b3782d1791676daf-1\\xgboost\\xgboost-ci-windows\\src\\learner.cc:742: \n",
      "Parameters: { \"criterion\" } are not used.\n",
      "\n",
      "  warnings.warn(smsg, UserWarning)\n"
     ]
    },
    {
     "name": "stdout",
     "output_type": "stream",
     "text": [
      "#####################\n",
      "booster  gbtree\n",
      "n_estimators  25\n",
      "eta  0.9\n",
      "max_depth  10\n",
      "lambda  0.0\n",
      "criterion  entropy\n",
      "max_leaves  0\n",
      "0.9407826982492276\n",
      "#####################\n",
      "booster  gbtree\n",
      "n_estimators  25\n",
      "eta  0.9\n",
      "max_depth  10\n",
      "lambda  0.0\n",
      "criterion  entropy\n",
      "max_leaves  1\n",
      "0.3388259526261586\n",
      "#####################\n",
      "booster  gbtree\n",
      "n_estimators  25\n",
      "eta  0.9\n",
      "max_depth  10\n",
      "lambda  0.0\n",
      "criterion  entropy\n",
      "max_leaves  5\n",
      "0.9243048403707518\n"
     ]
    },
    {
     "name": "stderr",
     "output_type": "stream",
     "text": [
      "c:\\Users\\loren\\anaconda3\\envs\\TensorFlow\\lib\\site-packages\\xgboost\\core.py:160: UserWarning: [10:51:25] WARNING: C:\\buildkite-agent\\builds\\buildkite-windows-cpu-autoscaling-group-i-0b3782d1791676daf-1\\xgboost\\xgboost-ci-windows\\src\\learner.cc:742: \n",
      "Parameters: { \"criterion\" } are not used.\n",
      "\n",
      "  warnings.warn(smsg, UserWarning)\n",
      "c:\\Users\\loren\\anaconda3\\envs\\TensorFlow\\lib\\site-packages\\xgboost\\core.py:160: UserWarning: [10:51:25] WARNING: C:\\buildkite-agent\\builds\\buildkite-windows-cpu-autoscaling-group-i-0b3782d1791676daf-1\\xgboost\\xgboost-ci-windows\\src\\learner.cc:742: \n",
      "Parameters: { \"criterion\" } are not used.\n",
      "\n",
      "  warnings.warn(smsg, UserWarning)\n",
      "c:\\Users\\loren\\anaconda3\\envs\\TensorFlow\\lib\\site-packages\\xgboost\\core.py:160: UserWarning: [10:51:25] WARNING: C:\\buildkite-agent\\builds\\buildkite-windows-cpu-autoscaling-group-i-0b3782d1791676daf-1\\xgboost\\xgboost-ci-windows\\src\\learner.cc:742: \n",
      "Parameters: { \"criterion\" } are not used.\n",
      "\n",
      "  warnings.warn(smsg, UserWarning)\n"
     ]
    },
    {
     "name": "stdout",
     "output_type": "stream",
     "text": [
      "#####################\n",
      "booster  gbtree\n",
      "n_estimators  25\n",
      "eta  0.9\n",
      "max_depth  10\n",
      "lambda  1.0\n",
      "criterion  gini\n",
      "max_leaves  0\n",
      "0.9423274974253347\n",
      "#####################\n",
      "booster  gbtree\n",
      "n_estimators  25\n",
      "eta  0.9\n",
      "max_depth  10\n",
      "lambda  1.0\n",
      "criterion  gini\n",
      "max_leaves  1\n",
      "0.3388259526261586\n",
      "#####################\n",
      "booster  gbtree\n",
      "n_estimators  25\n",
      "eta  0.9\n",
      "max_depth  10\n",
      "lambda  1.0\n",
      "criterion  gini\n",
      "max_leaves  5\n",
      "0.9263645726055613\n"
     ]
    },
    {
     "name": "stderr",
     "output_type": "stream",
     "text": [
      "c:\\Users\\loren\\anaconda3\\envs\\TensorFlow\\lib\\site-packages\\xgboost\\core.py:160: UserWarning: [10:51:26] WARNING: C:\\buildkite-agent\\builds\\buildkite-windows-cpu-autoscaling-group-i-0b3782d1791676daf-1\\xgboost\\xgboost-ci-windows\\src\\learner.cc:742: \n",
      "Parameters: { \"criterion\" } are not used.\n",
      "\n",
      "  warnings.warn(smsg, UserWarning)\n",
      "c:\\Users\\loren\\anaconda3\\envs\\TensorFlow\\lib\\site-packages\\xgboost\\core.py:160: UserWarning: [10:51:26] WARNING: C:\\buildkite-agent\\builds\\buildkite-windows-cpu-autoscaling-group-i-0b3782d1791676daf-1\\xgboost\\xgboost-ci-windows\\src\\learner.cc:742: \n",
      "Parameters: { \"criterion\" } are not used.\n",
      "\n",
      "  warnings.warn(smsg, UserWarning)\n",
      "c:\\Users\\loren\\anaconda3\\envs\\TensorFlow\\lib\\site-packages\\xgboost\\core.py:160: UserWarning: [10:51:26] WARNING: C:\\buildkite-agent\\builds\\buildkite-windows-cpu-autoscaling-group-i-0b3782d1791676daf-1\\xgboost\\xgboost-ci-windows\\src\\learner.cc:742: \n",
      "Parameters: { \"criterion\" } are not used.\n",
      "\n",
      "  warnings.warn(smsg, UserWarning)\n"
     ]
    },
    {
     "name": "stdout",
     "output_type": "stream",
     "text": [
      "#####################\n",
      "booster  gbtree\n",
      "n_estimators  25\n",
      "eta  0.9\n",
      "max_depth  10\n",
      "lambda  1.0\n",
      "criterion  entropy\n",
      "max_leaves  0\n",
      "0.9423274974253347\n",
      "#####################\n",
      "booster  gbtree\n",
      "n_estimators  25\n",
      "eta  0.9\n",
      "max_depth  10\n",
      "lambda  1.0\n",
      "criterion  entropy\n",
      "max_leaves  1\n",
      "0.3388259526261586\n",
      "#####################\n",
      "booster  gbtree\n",
      "n_estimators  25\n",
      "eta  0.9\n",
      "max_depth  10\n",
      "lambda  1.0\n",
      "criterion  entropy\n",
      "max_leaves  5\n",
      "0.9263645726055613\n"
     ]
    },
    {
     "name": "stderr",
     "output_type": "stream",
     "text": [
      "c:\\Users\\loren\\anaconda3\\envs\\TensorFlow\\lib\\site-packages\\xgboost\\core.py:160: UserWarning: [10:51:26] WARNING: C:\\buildkite-agent\\builds\\buildkite-windows-cpu-autoscaling-group-i-0b3782d1791676daf-1\\xgboost\\xgboost-ci-windows\\src\\learner.cc:742: \n",
      "Parameters: { \"criterion\" } are not used.\n",
      "\n",
      "  warnings.warn(smsg, UserWarning)\n",
      "c:\\Users\\loren\\anaconda3\\envs\\TensorFlow\\lib\\site-packages\\xgboost\\core.py:160: UserWarning: [10:51:26] WARNING: C:\\buildkite-agent\\builds\\buildkite-windows-cpu-autoscaling-group-i-0b3782d1791676daf-1\\xgboost\\xgboost-ci-windows\\src\\learner.cc:742: \n",
      "Parameters: { \"criterion\" } are not used.\n",
      "\n",
      "  warnings.warn(smsg, UserWarning)\n",
      "c:\\Users\\loren\\anaconda3\\envs\\TensorFlow\\lib\\site-packages\\xgboost\\core.py:160: UserWarning: [10:51:26] WARNING: C:\\buildkite-agent\\builds\\buildkite-windows-cpu-autoscaling-group-i-0b3782d1791676daf-1\\xgboost\\xgboost-ci-windows\\src\\learner.cc:742: \n",
      "Parameters: { \"criterion\" } are not used.\n",
      "\n",
      "  warnings.warn(smsg, UserWarning)\n"
     ]
    },
    {
     "name": "stdout",
     "output_type": "stream",
     "text": [
      "#####################\n",
      "booster  gbtree\n",
      "n_estimators  25\n",
      "eta  0.9\n",
      "max_depth  10\n",
      "lambda  5.0\n",
      "criterion  gini\n",
      "max_leaves  0\n",
      "0.9438722966014418\n",
      "#####################\n",
      "booster  gbtree\n",
      "n_estimators  25\n",
      "eta  0.9\n",
      "max_depth  10\n",
      "lambda  5.0\n",
      "criterion  gini\n",
      "max_leaves  1\n",
      "0.3388259526261586\n",
      "#####################\n",
      "booster  gbtree\n",
      "n_estimators  25\n",
      "eta  0.9\n",
      "max_depth  10\n",
      "lambda  5.0\n",
      "criterion  gini\n",
      "max_leaves  5\n",
      "0.9304840370751802\n"
     ]
    },
    {
     "name": "stderr",
     "output_type": "stream",
     "text": [
      "c:\\Users\\loren\\anaconda3\\envs\\TensorFlow\\lib\\site-packages\\xgboost\\core.py:160: UserWarning: [10:51:27] WARNING: C:\\buildkite-agent\\builds\\buildkite-windows-cpu-autoscaling-group-i-0b3782d1791676daf-1\\xgboost\\xgboost-ci-windows\\src\\learner.cc:742: \n",
      "Parameters: { \"criterion\" } are not used.\n",
      "\n",
      "  warnings.warn(smsg, UserWarning)\n",
      "c:\\Users\\loren\\anaconda3\\envs\\TensorFlow\\lib\\site-packages\\xgboost\\core.py:160: UserWarning: [10:51:27] WARNING: C:\\buildkite-agent\\builds\\buildkite-windows-cpu-autoscaling-group-i-0b3782d1791676daf-1\\xgboost\\xgboost-ci-windows\\src\\learner.cc:742: \n",
      "Parameters: { \"criterion\" } are not used.\n",
      "\n",
      "  warnings.warn(smsg, UserWarning)\n",
      "c:\\Users\\loren\\anaconda3\\envs\\TensorFlow\\lib\\site-packages\\xgboost\\core.py:160: UserWarning: [10:51:27] WARNING: C:\\buildkite-agent\\builds\\buildkite-windows-cpu-autoscaling-group-i-0b3782d1791676daf-1\\xgboost\\xgboost-ci-windows\\src\\learner.cc:742: \n",
      "Parameters: { \"criterion\" } are not used.\n",
      "\n",
      "  warnings.warn(smsg, UserWarning)\n"
     ]
    },
    {
     "name": "stdout",
     "output_type": "stream",
     "text": [
      "#####################\n",
      "booster  gbtree\n",
      "n_estimators  25\n",
      "eta  0.9\n",
      "max_depth  10\n",
      "lambda  5.0\n",
      "criterion  entropy\n",
      "max_leaves  0\n",
      "0.9438722966014418\n",
      "#####################\n",
      "booster  gbtree\n",
      "n_estimators  25\n",
      "eta  0.9\n",
      "max_depth  10\n",
      "lambda  5.0\n",
      "criterion  entropy\n",
      "max_leaves  1\n",
      "0.3388259526261586\n"
     ]
    },
    {
     "name": "stderr",
     "output_type": "stream",
     "text": [
      "c:\\Users\\loren\\anaconda3\\envs\\TensorFlow\\lib\\site-packages\\xgboost\\core.py:160: UserWarning: [10:51:27] WARNING: C:\\buildkite-agent\\builds\\buildkite-windows-cpu-autoscaling-group-i-0b3782d1791676daf-1\\xgboost\\xgboost-ci-windows\\src\\learner.cc:742: \n",
      "Parameters: { \"criterion\" } are not used.\n",
      "\n",
      "  warnings.warn(smsg, UserWarning)\n",
      "c:\\Users\\loren\\anaconda3\\envs\\TensorFlow\\lib\\site-packages\\xgboost\\core.py:160: UserWarning: [10:51:27] WARNING: C:\\buildkite-agent\\builds\\buildkite-windows-cpu-autoscaling-group-i-0b3782d1791676daf-1\\xgboost\\xgboost-ci-windows\\src\\learner.cc:742: \n",
      "Parameters: { \"criterion\" } are not used.\n",
      "\n",
      "  warnings.warn(smsg, UserWarning)\n"
     ]
    },
    {
     "name": "stdout",
     "output_type": "stream",
     "text": [
      "#####################\n",
      "booster  gbtree\n",
      "n_estimators  25\n",
      "eta  0.9\n",
      "max_depth  10\n",
      "lambda  5.0\n",
      "criterion  entropy\n",
      "max_leaves  5\n",
      "0.9304840370751802\n"
     ]
    },
    {
     "name": "stderr",
     "output_type": "stream",
     "text": [
      "c:\\Users\\loren\\anaconda3\\envs\\TensorFlow\\lib\\site-packages\\xgboost\\core.py:160: UserWarning: [10:51:28] WARNING: C:\\buildkite-agent\\builds\\buildkite-windows-cpu-autoscaling-group-i-0b3782d1791676daf-1\\xgboost\\xgboost-ci-windows\\src\\learner.cc:742: \n",
      "Parameters: { \"criterion\" } are not used.\n",
      "\n",
      "  warnings.warn(smsg, UserWarning)\n"
     ]
    },
    {
     "name": "stdout",
     "output_type": "stream",
     "text": [
      "#####################\n",
      "booster  gbtree\n",
      "n_estimators  25\n",
      "eta  0.9\n",
      "max_depth  20\n",
      "lambda  0.0\n",
      "criterion  gini\n",
      "max_leaves  0\n",
      "0.9397528321318228\n",
      "#####################\n",
      "booster  gbtree\n",
      "n_estimators  25\n",
      "eta  0.9\n",
      "max_depth  20\n",
      "lambda  0.0\n",
      "criterion  gini\n",
      "max_leaves  1\n",
      "0.3388259526261586\n",
      "#####################\n",
      "booster  gbtree\n",
      "n_estimators  25\n",
      "eta  0.9\n",
      "max_depth  20\n",
      "lambda  0.0\n",
      "criterion  gini\n",
      "max_leaves  5\n",
      "0.9243048403707518\n"
     ]
    },
    {
     "name": "stderr",
     "output_type": "stream",
     "text": [
      "c:\\Users\\loren\\anaconda3\\envs\\TensorFlow\\lib\\site-packages\\xgboost\\core.py:160: UserWarning: [10:51:28] WARNING: C:\\buildkite-agent\\builds\\buildkite-windows-cpu-autoscaling-group-i-0b3782d1791676daf-1\\xgboost\\xgboost-ci-windows\\src\\learner.cc:742: \n",
      "Parameters: { \"criterion\" } are not used.\n",
      "\n",
      "  warnings.warn(smsg, UserWarning)\n",
      "c:\\Users\\loren\\anaconda3\\envs\\TensorFlow\\lib\\site-packages\\xgboost\\core.py:160: UserWarning: [10:51:28] WARNING: C:\\buildkite-agent\\builds\\buildkite-windows-cpu-autoscaling-group-i-0b3782d1791676daf-1\\xgboost\\xgboost-ci-windows\\src\\learner.cc:742: \n",
      "Parameters: { \"criterion\" } are not used.\n",
      "\n",
      "  warnings.warn(smsg, UserWarning)\n",
      "c:\\Users\\loren\\anaconda3\\envs\\TensorFlow\\lib\\site-packages\\xgboost\\core.py:160: UserWarning: [10:51:29] WARNING: C:\\buildkite-agent\\builds\\buildkite-windows-cpu-autoscaling-group-i-0b3782d1791676daf-1\\xgboost\\xgboost-ci-windows\\src\\learner.cc:742: \n",
      "Parameters: { \"criterion\" } are not used.\n",
      "\n",
      "  warnings.warn(smsg, UserWarning)\n"
     ]
    },
    {
     "name": "stdout",
     "output_type": "stream",
     "text": [
      "#####################\n",
      "booster  gbtree\n",
      "n_estimators  25\n",
      "eta  0.9\n",
      "max_depth  20\n",
      "lambda  0.0\n",
      "criterion  entropy\n",
      "max_leaves  0\n",
      "0.9397528321318228\n",
      "#####################\n",
      "booster  gbtree\n",
      "n_estimators  25\n",
      "eta  0.9\n",
      "max_depth  20\n",
      "lambda  0.0\n",
      "criterion  entropy\n",
      "max_leaves  1\n",
      "0.3388259526261586\n",
      "#####################\n",
      "booster  gbtree\n",
      "n_estimators  25\n",
      "eta  0.9\n",
      "max_depth  20\n",
      "lambda  0.0\n",
      "criterion  entropy\n",
      "max_leaves  5\n",
      "0.9243048403707518\n"
     ]
    },
    {
     "name": "stderr",
     "output_type": "stream",
     "text": [
      "c:\\Users\\loren\\anaconda3\\envs\\TensorFlow\\lib\\site-packages\\xgboost\\core.py:160: UserWarning: [10:51:29] WARNING: C:\\buildkite-agent\\builds\\buildkite-windows-cpu-autoscaling-group-i-0b3782d1791676daf-1\\xgboost\\xgboost-ci-windows\\src\\learner.cc:742: \n",
      "Parameters: { \"criterion\" } are not used.\n",
      "\n",
      "  warnings.warn(smsg, UserWarning)\n",
      "c:\\Users\\loren\\anaconda3\\envs\\TensorFlow\\lib\\site-packages\\xgboost\\core.py:160: UserWarning: [10:51:29] WARNING: C:\\buildkite-agent\\builds\\buildkite-windows-cpu-autoscaling-group-i-0b3782d1791676daf-1\\xgboost\\xgboost-ci-windows\\src\\learner.cc:742: \n",
      "Parameters: { \"criterion\" } are not used.\n",
      "\n",
      "  warnings.warn(smsg, UserWarning)\n",
      "c:\\Users\\loren\\anaconda3\\envs\\TensorFlow\\lib\\site-packages\\xgboost\\core.py:160: UserWarning: [10:51:29] WARNING: C:\\buildkite-agent\\builds\\buildkite-windows-cpu-autoscaling-group-i-0b3782d1791676daf-1\\xgboost\\xgboost-ci-windows\\src\\learner.cc:742: \n",
      "Parameters: { \"criterion\" } are not used.\n",
      "\n",
      "  warnings.warn(smsg, UserWarning)\n"
     ]
    },
    {
     "name": "stdout",
     "output_type": "stream",
     "text": [
      "#####################\n",
      "booster  gbtree\n",
      "n_estimators  25\n",
      "eta  0.9\n",
      "max_depth  20\n",
      "lambda  1.0\n",
      "criterion  gini\n",
      "max_leaves  0\n",
      "0.9397528321318228\n",
      "#####################\n",
      "booster  gbtree\n",
      "n_estimators  25\n",
      "eta  0.9\n",
      "max_depth  20\n",
      "lambda  1.0\n",
      "criterion  gini\n",
      "max_leaves  1\n",
      "0.3388259526261586\n",
      "#####################\n",
      "booster  gbtree\n",
      "n_estimators  25\n",
      "eta  0.9\n",
      "max_depth  20\n",
      "lambda  1.0\n",
      "criterion  gini\n",
      "max_leaves  5\n",
      "0.9263645726055613\n"
     ]
    },
    {
     "name": "stderr",
     "output_type": "stream",
     "text": [
      "c:\\Users\\loren\\anaconda3\\envs\\TensorFlow\\lib\\site-packages\\xgboost\\core.py:160: UserWarning: [10:51:30] WARNING: C:\\buildkite-agent\\builds\\buildkite-windows-cpu-autoscaling-group-i-0b3782d1791676daf-1\\xgboost\\xgboost-ci-windows\\src\\learner.cc:742: \n",
      "Parameters: { \"criterion\" } are not used.\n",
      "\n",
      "  warnings.warn(smsg, UserWarning)\n",
      "c:\\Users\\loren\\anaconda3\\envs\\TensorFlow\\lib\\site-packages\\xgboost\\core.py:160: UserWarning: [10:51:30] WARNING: C:\\buildkite-agent\\builds\\buildkite-windows-cpu-autoscaling-group-i-0b3782d1791676daf-1\\xgboost\\xgboost-ci-windows\\src\\learner.cc:742: \n",
      "Parameters: { \"criterion\" } are not used.\n",
      "\n",
      "  warnings.warn(smsg, UserWarning)\n",
      "c:\\Users\\loren\\anaconda3\\envs\\TensorFlow\\lib\\site-packages\\xgboost\\core.py:160: UserWarning: [10:51:30] WARNING: C:\\buildkite-agent\\builds\\buildkite-windows-cpu-autoscaling-group-i-0b3782d1791676daf-1\\xgboost\\xgboost-ci-windows\\src\\learner.cc:742: \n",
      "Parameters: { \"criterion\" } are not used.\n",
      "\n",
      "  warnings.warn(smsg, UserWarning)\n"
     ]
    },
    {
     "name": "stdout",
     "output_type": "stream",
     "text": [
      "#####################\n",
      "booster  gbtree\n",
      "n_estimators  25\n",
      "eta  0.9\n",
      "max_depth  20\n",
      "lambda  1.0\n",
      "criterion  entropy\n",
      "max_leaves  0\n",
      "0.9397528321318228\n",
      "#####################\n",
      "booster  gbtree\n",
      "n_estimators  25\n",
      "eta  0.9\n",
      "max_depth  20\n",
      "lambda  1.0\n",
      "criterion  entropy\n",
      "max_leaves  1\n",
      "0.3388259526261586\n",
      "#####################\n",
      "booster  gbtree\n",
      "n_estimators  25\n",
      "eta  0.9\n",
      "max_depth  20\n",
      "lambda  1.0\n",
      "criterion  entropy\n",
      "max_leaves  5\n",
      "0.9263645726055613\n"
     ]
    },
    {
     "name": "stderr",
     "output_type": "stream",
     "text": [
      "c:\\Users\\loren\\anaconda3\\envs\\TensorFlow\\lib\\site-packages\\xgboost\\core.py:160: UserWarning: [10:51:30] WARNING: C:\\buildkite-agent\\builds\\buildkite-windows-cpu-autoscaling-group-i-0b3782d1791676daf-1\\xgboost\\xgboost-ci-windows\\src\\learner.cc:742: \n",
      "Parameters: { \"criterion\" } are not used.\n",
      "\n",
      "  warnings.warn(smsg, UserWarning)\n",
      "c:\\Users\\loren\\anaconda3\\envs\\TensorFlow\\lib\\site-packages\\xgboost\\core.py:160: UserWarning: [10:51:30] WARNING: C:\\buildkite-agent\\builds\\buildkite-windows-cpu-autoscaling-group-i-0b3782d1791676daf-1\\xgboost\\xgboost-ci-windows\\src\\learner.cc:742: \n",
      "Parameters: { \"criterion\" } are not used.\n",
      "\n",
      "  warnings.warn(smsg, UserWarning)\n",
      "c:\\Users\\loren\\anaconda3\\envs\\TensorFlow\\lib\\site-packages\\xgboost\\core.py:160: UserWarning: [10:51:30] WARNING: C:\\buildkite-agent\\builds\\buildkite-windows-cpu-autoscaling-group-i-0b3782d1791676daf-1\\xgboost\\xgboost-ci-windows\\src\\learner.cc:742: \n",
      "Parameters: { \"criterion\" } are not used.\n",
      "\n",
      "  warnings.warn(smsg, UserWarning)\n"
     ]
    },
    {
     "name": "stdout",
     "output_type": "stream",
     "text": [
      "#####################\n",
      "booster  gbtree\n",
      "n_estimators  25\n",
      "eta  0.9\n",
      "max_depth  20\n",
      "lambda  5.0\n",
      "criterion  gini\n",
      "max_leaves  0\n",
      "0.9433573635427395\n",
      "#####################\n",
      "booster  gbtree\n",
      "n_estimators  25\n",
      "eta  0.9\n",
      "max_depth  20\n",
      "lambda  5.0\n",
      "criterion  gini\n",
      "max_leaves  1\n",
      "0.3388259526261586\n",
      "#####################\n",
      "booster  gbtree\n",
      "n_estimators  25\n",
      "eta  0.9\n",
      "max_depth  20\n",
      "lambda  5.0\n",
      "criterion  gini\n",
      "max_leaves  5\n",
      "0.9304840370751802\n"
     ]
    },
    {
     "name": "stderr",
     "output_type": "stream",
     "text": [
      "c:\\Users\\loren\\anaconda3\\envs\\TensorFlow\\lib\\site-packages\\xgboost\\core.py:160: UserWarning: [10:51:31] WARNING: C:\\buildkite-agent\\builds\\buildkite-windows-cpu-autoscaling-group-i-0b3782d1791676daf-1\\xgboost\\xgboost-ci-windows\\src\\learner.cc:742: \n",
      "Parameters: { \"criterion\" } are not used.\n",
      "\n",
      "  warnings.warn(smsg, UserWarning)\n",
      "c:\\Users\\loren\\anaconda3\\envs\\TensorFlow\\lib\\site-packages\\xgboost\\core.py:160: UserWarning: [10:51:31] WARNING: C:\\buildkite-agent\\builds\\buildkite-windows-cpu-autoscaling-group-i-0b3782d1791676daf-1\\xgboost\\xgboost-ci-windows\\src\\learner.cc:742: \n",
      "Parameters: { \"criterion\" } are not used.\n",
      "\n",
      "  warnings.warn(smsg, UserWarning)\n",
      "c:\\Users\\loren\\anaconda3\\envs\\TensorFlow\\lib\\site-packages\\xgboost\\core.py:160: UserWarning: [10:51:31] WARNING: C:\\buildkite-agent\\builds\\buildkite-windows-cpu-autoscaling-group-i-0b3782d1791676daf-1\\xgboost\\xgboost-ci-windows\\src\\learner.cc:742: \n",
      "Parameters: { \"criterion\" } are not used.\n",
      "\n",
      "  warnings.warn(smsg, UserWarning)\n"
     ]
    },
    {
     "name": "stdout",
     "output_type": "stream",
     "text": [
      "#####################\n",
      "booster  gbtree\n",
      "n_estimators  25\n",
      "eta  0.9\n",
      "max_depth  20\n",
      "lambda  5.0\n",
      "criterion  entropy\n",
      "max_leaves  0\n",
      "0.9433573635427395\n",
      "#####################\n",
      "booster  gbtree\n",
      "n_estimators  25\n",
      "eta  0.9\n",
      "max_depth  20\n",
      "lambda  5.0\n",
      "criterion  entropy\n",
      "max_leaves  1\n",
      "0.3388259526261586\n",
      "#####################\n",
      "booster  gbtree\n",
      "n_estimators  25\n",
      "eta  0.9\n",
      "max_depth  20\n",
      "lambda  5.0\n",
      "criterion  entropy\n",
      "max_leaves  5\n",
      "0.9304840370751802\n"
     ]
    },
    {
     "name": "stderr",
     "output_type": "stream",
     "text": [
      "c:\\Users\\loren\\anaconda3\\envs\\TensorFlow\\lib\\site-packages\\xgboost\\core.py:160: UserWarning: [10:51:31] WARNING: C:\\buildkite-agent\\builds\\buildkite-windows-cpu-autoscaling-group-i-0b3782d1791676daf-1\\xgboost\\xgboost-ci-windows\\src\\learner.cc:742: \n",
      "Parameters: { \"criterion\" } are not used.\n",
      "\n",
      "  warnings.warn(smsg, UserWarning)\n",
      "c:\\Users\\loren\\anaconda3\\envs\\TensorFlow\\lib\\site-packages\\xgboost\\core.py:160: UserWarning: [10:51:31] WARNING: C:\\buildkite-agent\\builds\\buildkite-windows-cpu-autoscaling-group-i-0b3782d1791676daf-1\\xgboost\\xgboost-ci-windows\\src\\learner.cc:742: \n",
      "Parameters: { \"criterion\" } are not used.\n",
      "\n",
      "  warnings.warn(smsg, UserWarning)\n",
      "c:\\Users\\loren\\anaconda3\\envs\\TensorFlow\\lib\\site-packages\\xgboost\\core.py:160: UserWarning: [10:51:31] WARNING: C:\\buildkite-agent\\builds\\buildkite-windows-cpu-autoscaling-group-i-0b3782d1791676daf-1\\xgboost\\xgboost-ci-windows\\src\\learner.cc:742: \n",
      "Parameters: { \"criterion\" } are not used.\n",
      "\n",
      "  warnings.warn(smsg, UserWarning)\n"
     ]
    },
    {
     "name": "stdout",
     "output_type": "stream",
     "text": [
      "#####################\n",
      "booster  gbtree\n",
      "n_estimators  25\n",
      "eta  0.9\n",
      "max_depth  30\n",
      "lambda  0.0\n",
      "criterion  gini\n",
      "max_leaves  0\n",
      "0.937178166838311\n",
      "#####################\n",
      "booster  gbtree\n",
      "n_estimators  25\n",
      "eta  0.9\n",
      "max_depth  30\n",
      "lambda  0.0\n",
      "criterion  gini\n",
      "max_leaves  1\n",
      "0.3388259526261586\n",
      "#####################\n",
      "booster  gbtree\n",
      "n_estimators  25\n",
      "eta  0.9\n",
      "max_depth  30\n",
      "lambda  0.0\n",
      "criterion  gini\n",
      "max_leaves  5\n",
      "0.9243048403707518\n"
     ]
    },
    {
     "name": "stderr",
     "output_type": "stream",
     "text": [
      "c:\\Users\\loren\\anaconda3\\envs\\TensorFlow\\lib\\site-packages\\xgboost\\core.py:160: UserWarning: [10:51:32] WARNING: C:\\buildkite-agent\\builds\\buildkite-windows-cpu-autoscaling-group-i-0b3782d1791676daf-1\\xgboost\\xgboost-ci-windows\\src\\learner.cc:742: \n",
      "Parameters: { \"criterion\" } are not used.\n",
      "\n",
      "  warnings.warn(smsg, UserWarning)\n",
      "c:\\Users\\loren\\anaconda3\\envs\\TensorFlow\\lib\\site-packages\\xgboost\\core.py:160: UserWarning: [10:51:32] WARNING: C:\\buildkite-agent\\builds\\buildkite-windows-cpu-autoscaling-group-i-0b3782d1791676daf-1\\xgboost\\xgboost-ci-windows\\src\\learner.cc:742: \n",
      "Parameters: { \"criterion\" } are not used.\n",
      "\n",
      "  warnings.warn(smsg, UserWarning)\n",
      "c:\\Users\\loren\\anaconda3\\envs\\TensorFlow\\lib\\site-packages\\xgboost\\core.py:160: UserWarning: [10:51:32] WARNING: C:\\buildkite-agent\\builds\\buildkite-windows-cpu-autoscaling-group-i-0b3782d1791676daf-1\\xgboost\\xgboost-ci-windows\\src\\learner.cc:742: \n",
      "Parameters: { \"criterion\" } are not used.\n",
      "\n",
      "  warnings.warn(smsg, UserWarning)\n"
     ]
    },
    {
     "name": "stdout",
     "output_type": "stream",
     "text": [
      "#####################\n",
      "booster  gbtree\n",
      "n_estimators  25\n",
      "eta  0.9\n",
      "max_depth  30\n",
      "lambda  0.0\n",
      "criterion  entropy\n",
      "max_leaves  0\n",
      "0.937178166838311\n",
      "#####################\n",
      "booster  gbtree\n",
      "n_estimators  25\n",
      "eta  0.9\n",
      "max_depth  30\n",
      "lambda  0.0\n",
      "criterion  entropy\n",
      "max_leaves  1\n",
      "0.3388259526261586\n"
     ]
    },
    {
     "name": "stderr",
     "output_type": "stream",
     "text": [
      "c:\\Users\\loren\\anaconda3\\envs\\TensorFlow\\lib\\site-packages\\xgboost\\core.py:160: UserWarning: [10:51:34] WARNING: C:\\buildkite-agent\\builds\\buildkite-windows-cpu-autoscaling-group-i-0b3782d1791676daf-1\\xgboost\\xgboost-ci-windows\\src\\learner.cc:742: \n",
      "Parameters: { \"criterion\" } are not used.\n",
      "\n",
      "  warnings.warn(smsg, UserWarning)\n",
      "c:\\Users\\loren\\anaconda3\\envs\\TensorFlow\\lib\\site-packages\\xgboost\\core.py:160: UserWarning: [10:51:34] WARNING: C:\\buildkite-agent\\builds\\buildkite-windows-cpu-autoscaling-group-i-0b3782d1791676daf-1\\xgboost\\xgboost-ci-windows\\src\\learner.cc:742: \n",
      "Parameters: { \"criterion\" } are not used.\n",
      "\n",
      "  warnings.warn(smsg, UserWarning)\n"
     ]
    },
    {
     "name": "stdout",
     "output_type": "stream",
     "text": [
      "#####################\n",
      "booster  gbtree\n",
      "n_estimators  25\n",
      "eta  0.9\n",
      "max_depth  30\n",
      "lambda  0.0\n",
      "criterion  entropy\n",
      "max_leaves  5\n",
      "0.9243048403707518\n"
     ]
    },
    {
     "name": "stderr",
     "output_type": "stream",
     "text": [
      "c:\\Users\\loren\\anaconda3\\envs\\TensorFlow\\lib\\site-packages\\xgboost\\core.py:160: UserWarning: [10:51:34] WARNING: C:\\buildkite-agent\\builds\\buildkite-windows-cpu-autoscaling-group-i-0b3782d1791676daf-1\\xgboost\\xgboost-ci-windows\\src\\learner.cc:742: \n",
      "Parameters: { \"criterion\" } are not used.\n",
      "\n",
      "  warnings.warn(smsg, UserWarning)\n"
     ]
    },
    {
     "name": "stdout",
     "output_type": "stream",
     "text": [
      "#####################\n",
      "booster  gbtree\n",
      "n_estimators  25\n",
      "eta  0.9\n",
      "max_depth  30\n",
      "lambda  1.0\n",
      "criterion  gini\n",
      "max_leaves  0\n",
      "0.9397528321318228\n",
      "#####################\n",
      "booster  gbtree\n",
      "n_estimators  25\n",
      "eta  0.9\n",
      "max_depth  30\n",
      "lambda  1.0\n",
      "criterion  gini\n",
      "max_leaves  1\n",
      "0.3388259526261586\n",
      "#####################\n",
      "booster  gbtree\n",
      "n_estimators  25\n",
      "eta  0.9\n",
      "max_depth  30\n",
      "lambda  1.0\n",
      "criterion  gini\n",
      "max_leaves  5\n",
      "0.9263645726055613\n"
     ]
    },
    {
     "name": "stderr",
     "output_type": "stream",
     "text": [
      "c:\\Users\\loren\\anaconda3\\envs\\TensorFlow\\lib\\site-packages\\xgboost\\core.py:160: UserWarning: [10:51:35] WARNING: C:\\buildkite-agent\\builds\\buildkite-windows-cpu-autoscaling-group-i-0b3782d1791676daf-1\\xgboost\\xgboost-ci-windows\\src\\learner.cc:742: \n",
      "Parameters: { \"criterion\" } are not used.\n",
      "\n",
      "  warnings.warn(smsg, UserWarning)\n",
      "c:\\Users\\loren\\anaconda3\\envs\\TensorFlow\\lib\\site-packages\\xgboost\\core.py:160: UserWarning: [10:51:35] WARNING: C:\\buildkite-agent\\builds\\buildkite-windows-cpu-autoscaling-group-i-0b3782d1791676daf-1\\xgboost\\xgboost-ci-windows\\src\\learner.cc:742: \n",
      "Parameters: { \"criterion\" } are not used.\n",
      "\n",
      "  warnings.warn(smsg, UserWarning)\n",
      "c:\\Users\\loren\\anaconda3\\envs\\TensorFlow\\lib\\site-packages\\xgboost\\core.py:160: UserWarning: [10:51:35] WARNING: C:\\buildkite-agent\\builds\\buildkite-windows-cpu-autoscaling-group-i-0b3782d1791676daf-1\\xgboost\\xgboost-ci-windows\\src\\learner.cc:742: \n",
      "Parameters: { \"criterion\" } are not used.\n",
      "\n",
      "  warnings.warn(smsg, UserWarning)\n"
     ]
    },
    {
     "name": "stdout",
     "output_type": "stream",
     "text": [
      "#####################\n",
      "booster  gbtree\n",
      "n_estimators  25\n",
      "eta  0.9\n",
      "max_depth  30\n",
      "lambda  1.0\n",
      "criterion  entropy\n",
      "max_leaves  0\n",
      "0.9397528321318228\n",
      "#####################\n",
      "booster  gbtree\n",
      "n_estimators  25\n",
      "eta  0.9\n",
      "max_depth  30\n",
      "lambda  1.0\n",
      "criterion  entropy\n",
      "max_leaves  1\n",
      "0.3388259526261586\n",
      "#####################\n",
      "booster  gbtree\n",
      "n_estimators  25\n",
      "eta  0.9\n",
      "max_depth  30\n",
      "lambda  1.0\n",
      "criterion  entropy\n",
      "max_leaves  5\n",
      "0.9263645726055613\n"
     ]
    },
    {
     "name": "stderr",
     "output_type": "stream",
     "text": [
      "c:\\Users\\loren\\anaconda3\\envs\\TensorFlow\\lib\\site-packages\\xgboost\\core.py:160: UserWarning: [10:51:35] WARNING: C:\\buildkite-agent\\builds\\buildkite-windows-cpu-autoscaling-group-i-0b3782d1791676daf-1\\xgboost\\xgboost-ci-windows\\src\\learner.cc:742: \n",
      "Parameters: { \"criterion\" } are not used.\n",
      "\n",
      "  warnings.warn(smsg, UserWarning)\n",
      "c:\\Users\\loren\\anaconda3\\envs\\TensorFlow\\lib\\site-packages\\xgboost\\core.py:160: UserWarning: [10:51:35] WARNING: C:\\buildkite-agent\\builds\\buildkite-windows-cpu-autoscaling-group-i-0b3782d1791676daf-1\\xgboost\\xgboost-ci-windows\\src\\learner.cc:742: \n",
      "Parameters: { \"criterion\" } are not used.\n",
      "\n",
      "  warnings.warn(smsg, UserWarning)\n",
      "c:\\Users\\loren\\anaconda3\\envs\\TensorFlow\\lib\\site-packages\\xgboost\\core.py:160: UserWarning: [10:51:35] WARNING: C:\\buildkite-agent\\builds\\buildkite-windows-cpu-autoscaling-group-i-0b3782d1791676daf-1\\xgboost\\xgboost-ci-windows\\src\\learner.cc:742: \n",
      "Parameters: { \"criterion\" } are not used.\n",
      "\n",
      "  warnings.warn(smsg, UserWarning)\n"
     ]
    },
    {
     "name": "stdout",
     "output_type": "stream",
     "text": [
      "#####################\n",
      "booster  gbtree\n",
      "n_estimators  25\n",
      "eta  0.9\n",
      "max_depth  30\n",
      "lambda  5.0\n",
      "criterion  gini\n",
      "max_leaves  0\n",
      "0.9433573635427395\n",
      "#####################\n",
      "booster  gbtree\n",
      "n_estimators  25\n",
      "eta  0.9\n",
      "max_depth  30\n",
      "lambda  5.0\n",
      "criterion  gini\n",
      "max_leaves  1\n",
      "0.3388259526261586\n",
      "#####################\n",
      "booster  gbtree\n",
      "n_estimators  25\n",
      "eta  0.9\n",
      "max_depth  30\n",
      "lambda  5.0\n",
      "criterion  gini\n",
      "max_leaves  5\n",
      "0.9304840370751802\n"
     ]
    },
    {
     "name": "stderr",
     "output_type": "stream",
     "text": [
      "c:\\Users\\loren\\anaconda3\\envs\\TensorFlow\\lib\\site-packages\\xgboost\\core.py:160: UserWarning: [10:51:36] WARNING: C:\\buildkite-agent\\builds\\buildkite-windows-cpu-autoscaling-group-i-0b3782d1791676daf-1\\xgboost\\xgboost-ci-windows\\src\\learner.cc:742: \n",
      "Parameters: { \"criterion\" } are not used.\n",
      "\n",
      "  warnings.warn(smsg, UserWarning)\n",
      "c:\\Users\\loren\\anaconda3\\envs\\TensorFlow\\lib\\site-packages\\xgboost\\core.py:160: UserWarning: [10:51:36] WARNING: C:\\buildkite-agent\\builds\\buildkite-windows-cpu-autoscaling-group-i-0b3782d1791676daf-1\\xgboost\\xgboost-ci-windows\\src\\learner.cc:742: \n",
      "Parameters: { \"criterion\" } are not used.\n",
      "\n",
      "  warnings.warn(smsg, UserWarning)\n",
      "c:\\Users\\loren\\anaconda3\\envs\\TensorFlow\\lib\\site-packages\\xgboost\\core.py:160: UserWarning: [10:51:36] WARNING: C:\\buildkite-agent\\builds\\buildkite-windows-cpu-autoscaling-group-i-0b3782d1791676daf-1\\xgboost\\xgboost-ci-windows\\src\\learner.cc:742: \n",
      "Parameters: { \"criterion\" } are not used.\n",
      "\n",
      "  warnings.warn(smsg, UserWarning)\n"
     ]
    },
    {
     "name": "stdout",
     "output_type": "stream",
     "text": [
      "#####################\n",
      "booster  gbtree\n",
      "n_estimators  25\n",
      "eta  0.9\n",
      "max_depth  30\n",
      "lambda  5.0\n",
      "criterion  entropy\n",
      "max_leaves  0\n",
      "0.9433573635427395\n",
      "#####################\n",
      "booster  gbtree\n",
      "n_estimators  25\n",
      "eta  0.9\n",
      "max_depth  30\n",
      "lambda  5.0\n",
      "criterion  entropy\n",
      "max_leaves  1\n",
      "0.3388259526261586\n"
     ]
    },
    {
     "name": "stderr",
     "output_type": "stream",
     "text": [
      "c:\\Users\\loren\\anaconda3\\envs\\TensorFlow\\lib\\site-packages\\xgboost\\core.py:160: UserWarning: [10:51:36] WARNING: C:\\buildkite-agent\\builds\\buildkite-windows-cpu-autoscaling-group-i-0b3782d1791676daf-1\\xgboost\\xgboost-ci-windows\\src\\learner.cc:742: \n",
      "Parameters: { \"criterion\" } are not used.\n",
      "\n",
      "  warnings.warn(smsg, UserWarning)\n",
      "c:\\Users\\loren\\anaconda3\\envs\\TensorFlow\\lib\\site-packages\\xgboost\\core.py:160: UserWarning: [10:51:36] WARNING: C:\\buildkite-agent\\builds\\buildkite-windows-cpu-autoscaling-group-i-0b3782d1791676daf-1\\xgboost\\xgboost-ci-windows\\src\\learner.cc:742: \n",
      "Parameters: { \"criterion\" } are not used.\n",
      "\n",
      "  warnings.warn(smsg, UserWarning)\n"
     ]
    },
    {
     "name": "stdout",
     "output_type": "stream",
     "text": [
      "#####################\n",
      "booster  gbtree\n",
      "n_estimators  25\n",
      "eta  0.9\n",
      "max_depth  30\n",
      "lambda  5.0\n",
      "criterion  entropy\n",
      "max_leaves  5\n",
      "0.9304840370751802\n"
     ]
    },
    {
     "name": "stderr",
     "output_type": "stream",
     "text": [
      "c:\\Users\\loren\\anaconda3\\envs\\TensorFlow\\lib\\site-packages\\xgboost\\core.py:160: UserWarning: [10:51:37] WARNING: C:\\buildkite-agent\\builds\\buildkite-windows-cpu-autoscaling-group-i-0b3782d1791676daf-1\\xgboost\\xgboost-ci-windows\\src\\learner.cc:742: \n",
      "Parameters: { \"criterion\" } are not used.\n",
      "\n",
      "  warnings.warn(smsg, UserWarning)\n"
     ]
    },
    {
     "name": "stdout",
     "output_type": "stream",
     "text": [
      "#####################\n",
      "booster  gbtree\n",
      "n_estimators  50\n",
      "eta  0.1\n",
      "max_depth  5\n",
      "lambda  0.0\n",
      "criterion  gini\n",
      "max_leaves  0\n",
      "0.9263645726055613\n",
      "#####################\n",
      "booster  gbtree\n",
      "n_estimators  50\n",
      "eta  0.1\n",
      "max_depth  5\n",
      "lambda  0.0\n",
      "criterion  gini\n",
      "max_leaves  1\n",
      "0.3388259526261586\n"
     ]
    },
    {
     "name": "stderr",
     "output_type": "stream",
     "text": [
      "c:\\Users\\loren\\anaconda3\\envs\\TensorFlow\\lib\\site-packages\\xgboost\\core.py:160: UserWarning: [10:51:37] WARNING: C:\\buildkite-agent\\builds\\buildkite-windows-cpu-autoscaling-group-i-0b3782d1791676daf-1\\xgboost\\xgboost-ci-windows\\src\\learner.cc:742: \n",
      "Parameters: { \"criterion\" } are not used.\n",
      "\n",
      "  warnings.warn(smsg, UserWarning)\n",
      "c:\\Users\\loren\\anaconda3\\envs\\TensorFlow\\lib\\site-packages\\xgboost\\core.py:160: UserWarning: [10:51:37] WARNING: C:\\buildkite-agent\\builds\\buildkite-windows-cpu-autoscaling-group-i-0b3782d1791676daf-1\\xgboost\\xgboost-ci-windows\\src\\learner.cc:742: \n",
      "Parameters: { \"criterion\" } are not used.\n",
      "\n",
      "  warnings.warn(smsg, UserWarning)\n"
     ]
    },
    {
     "name": "stdout",
     "output_type": "stream",
     "text": [
      "#####################\n",
      "booster  gbtree\n",
      "n_estimators  50\n",
      "eta  0.1\n",
      "max_depth  5\n",
      "lambda  0.0\n",
      "criterion  gini\n",
      "max_leaves  5\n",
      "0.8480947476828012\n"
     ]
    },
    {
     "name": "stderr",
     "output_type": "stream",
     "text": [
      "c:\\Users\\loren\\anaconda3\\envs\\TensorFlow\\lib\\site-packages\\xgboost\\core.py:160: UserWarning: [10:51:37] WARNING: C:\\buildkite-agent\\builds\\buildkite-windows-cpu-autoscaling-group-i-0b3782d1791676daf-1\\xgboost\\xgboost-ci-windows\\src\\learner.cc:742: \n",
      "Parameters: { \"criterion\" } are not used.\n",
      "\n",
      "  warnings.warn(smsg, UserWarning)\n"
     ]
    },
    {
     "name": "stdout",
     "output_type": "stream",
     "text": [
      "#####################\n",
      "booster  gbtree\n",
      "n_estimators  50\n",
      "eta  0.1\n",
      "max_depth  5\n",
      "lambda  0.0\n",
      "criterion  entropy\n",
      "max_leaves  0\n",
      "0.9263645726055613\n",
      "#####################\n",
      "booster  gbtree\n",
      "n_estimators  50\n",
      "eta  0.1\n",
      "max_depth  5\n",
      "lambda  0.0\n",
      "criterion  entropy\n",
      "max_leaves  1\n",
      "0.3388259526261586\n"
     ]
    },
    {
     "name": "stderr",
     "output_type": "stream",
     "text": [
      "c:\\Users\\loren\\anaconda3\\envs\\TensorFlow\\lib\\site-packages\\xgboost\\core.py:160: UserWarning: [10:51:38] WARNING: C:\\buildkite-agent\\builds\\buildkite-windows-cpu-autoscaling-group-i-0b3782d1791676daf-1\\xgboost\\xgboost-ci-windows\\src\\learner.cc:742: \n",
      "Parameters: { \"criterion\" } are not used.\n",
      "\n",
      "  warnings.warn(smsg, UserWarning)\n",
      "c:\\Users\\loren\\anaconda3\\envs\\TensorFlow\\lib\\site-packages\\xgboost\\core.py:160: UserWarning: [10:51:38] WARNING: C:\\buildkite-agent\\builds\\buildkite-windows-cpu-autoscaling-group-i-0b3782d1791676daf-1\\xgboost\\xgboost-ci-windows\\src\\learner.cc:742: \n",
      "Parameters: { \"criterion\" } are not used.\n",
      "\n",
      "  warnings.warn(smsg, UserWarning)\n"
     ]
    },
    {
     "name": "stdout",
     "output_type": "stream",
     "text": [
      "#####################\n",
      "booster  gbtree\n",
      "n_estimators  50\n",
      "eta  0.1\n",
      "max_depth  5\n",
      "lambda  0.0\n",
      "criterion  entropy\n",
      "max_leaves  5\n",
      "0.8480947476828012\n"
     ]
    },
    {
     "name": "stderr",
     "output_type": "stream",
     "text": [
      "c:\\Users\\loren\\anaconda3\\envs\\TensorFlow\\lib\\site-packages\\xgboost\\core.py:160: UserWarning: [10:51:38] WARNING: C:\\buildkite-agent\\builds\\buildkite-windows-cpu-autoscaling-group-i-0b3782d1791676daf-1\\xgboost\\xgboost-ci-windows\\src\\learner.cc:742: \n",
      "Parameters: { \"criterion\" } are not used.\n",
      "\n",
      "  warnings.warn(smsg, UserWarning)\n"
     ]
    },
    {
     "name": "stdout",
     "output_type": "stream",
     "text": [
      "#####################\n",
      "booster  gbtree\n",
      "n_estimators  50\n",
      "eta  0.1\n",
      "max_depth  5\n",
      "lambda  1.0\n",
      "criterion  gini\n",
      "max_leaves  0\n",
      "0.9253347064881565\n",
      "#####################\n",
      "booster  gbtree\n",
      "n_estimators  50\n",
      "eta  0.1\n",
      "max_depth  5\n",
      "lambda  1.0\n",
      "criterion  gini\n",
      "max_leaves  1\n",
      "0.3388259526261586\n"
     ]
    },
    {
     "name": "stderr",
     "output_type": "stream",
     "text": [
      "c:\\Users\\loren\\anaconda3\\envs\\TensorFlow\\lib\\site-packages\\xgboost\\core.py:160: UserWarning: [10:51:39] WARNING: C:\\buildkite-agent\\builds\\buildkite-windows-cpu-autoscaling-group-i-0b3782d1791676daf-1\\xgboost\\xgboost-ci-windows\\src\\learner.cc:742: \n",
      "Parameters: { \"criterion\" } are not used.\n",
      "\n",
      "  warnings.warn(smsg, UserWarning)\n",
      "c:\\Users\\loren\\anaconda3\\envs\\TensorFlow\\lib\\site-packages\\xgboost\\core.py:160: UserWarning: [10:51:39] WARNING: C:\\buildkite-agent\\builds\\buildkite-windows-cpu-autoscaling-group-i-0b3782d1791676daf-1\\xgboost\\xgboost-ci-windows\\src\\learner.cc:742: \n",
      "Parameters: { \"criterion\" } are not used.\n",
      "\n",
      "  warnings.warn(smsg, UserWarning)\n"
     ]
    },
    {
     "name": "stdout",
     "output_type": "stream",
     "text": [
      "#####################\n",
      "booster  gbtree\n",
      "n_estimators  50\n",
      "eta  0.1\n",
      "max_depth  5\n",
      "lambda  1.0\n",
      "criterion  gini\n",
      "max_leaves  5\n",
      "0.8527291452111225\n"
     ]
    },
    {
     "name": "stderr",
     "output_type": "stream",
     "text": [
      "c:\\Users\\loren\\anaconda3\\envs\\TensorFlow\\lib\\site-packages\\xgboost\\core.py:160: UserWarning: [10:51:39] WARNING: C:\\buildkite-agent\\builds\\buildkite-windows-cpu-autoscaling-group-i-0b3782d1791676daf-1\\xgboost\\xgboost-ci-windows\\src\\learner.cc:742: \n",
      "Parameters: { \"criterion\" } are not used.\n",
      "\n",
      "  warnings.warn(smsg, UserWarning)\n"
     ]
    },
    {
     "name": "stdout",
     "output_type": "stream",
     "text": [
      "#####################\n",
      "booster  gbtree\n",
      "n_estimators  50\n",
      "eta  0.1\n",
      "max_depth  5\n",
      "lambda  1.0\n",
      "criterion  entropy\n",
      "max_leaves  0\n",
      "0.9253347064881565\n",
      "#####################\n",
      "booster  gbtree\n",
      "n_estimators  50\n",
      "eta  0.1\n",
      "max_depth  5\n",
      "lambda  1.0\n",
      "criterion  entropy\n",
      "max_leaves  1\n",
      "0.3388259526261586\n"
     ]
    },
    {
     "name": "stderr",
     "output_type": "stream",
     "text": [
      "c:\\Users\\loren\\anaconda3\\envs\\TensorFlow\\lib\\site-packages\\xgboost\\core.py:160: UserWarning: [10:51:40] WARNING: C:\\buildkite-agent\\builds\\buildkite-windows-cpu-autoscaling-group-i-0b3782d1791676daf-1\\xgboost\\xgboost-ci-windows\\src\\learner.cc:742: \n",
      "Parameters: { \"criterion\" } are not used.\n",
      "\n",
      "  warnings.warn(smsg, UserWarning)\n",
      "c:\\Users\\loren\\anaconda3\\envs\\TensorFlow\\lib\\site-packages\\xgboost\\core.py:160: UserWarning: [10:51:40] WARNING: C:\\buildkite-agent\\builds\\buildkite-windows-cpu-autoscaling-group-i-0b3782d1791676daf-1\\xgboost\\xgboost-ci-windows\\src\\learner.cc:742: \n",
      "Parameters: { \"criterion\" } are not used.\n",
      "\n",
      "  warnings.warn(smsg, UserWarning)\n"
     ]
    },
    {
     "name": "stdout",
     "output_type": "stream",
     "text": [
      "#####################\n",
      "booster  gbtree\n",
      "n_estimators  50\n",
      "eta  0.1\n",
      "max_depth  5\n",
      "lambda  1.0\n",
      "criterion  entropy\n",
      "max_leaves  5\n",
      "0.8527291452111225\n"
     ]
    },
    {
     "name": "stderr",
     "output_type": "stream",
     "text": [
      "c:\\Users\\loren\\anaconda3\\envs\\TensorFlow\\lib\\site-packages\\xgboost\\core.py:160: UserWarning: [10:51:40] WARNING: C:\\buildkite-agent\\builds\\buildkite-windows-cpu-autoscaling-group-i-0b3782d1791676daf-1\\xgboost\\xgboost-ci-windows\\src\\learner.cc:742: \n",
      "Parameters: { \"criterion\" } are not used.\n",
      "\n",
      "  warnings.warn(smsg, UserWarning)\n"
     ]
    },
    {
     "name": "stdout",
     "output_type": "stream",
     "text": [
      "#####################\n",
      "booster  gbtree\n",
      "n_estimators  50\n",
      "eta  0.1\n",
      "max_depth  5\n",
      "lambda  5.0\n",
      "criterion  gini\n",
      "max_leaves  0\n",
      "0.9248197734294542\n",
      "#####################\n",
      "booster  gbtree\n",
      "n_estimators  50\n",
      "eta  0.1\n",
      "max_depth  5\n",
      "lambda  5.0\n",
      "criterion  gini\n",
      "max_leaves  1\n",
      "0.3388259526261586\n"
     ]
    },
    {
     "name": "stderr",
     "output_type": "stream",
     "text": [
      "c:\\Users\\loren\\anaconda3\\envs\\TensorFlow\\lib\\site-packages\\xgboost\\core.py:160: UserWarning: [10:51:41] WARNING: C:\\buildkite-agent\\builds\\buildkite-windows-cpu-autoscaling-group-i-0b3782d1791676daf-1\\xgboost\\xgboost-ci-windows\\src\\learner.cc:742: \n",
      "Parameters: { \"criterion\" } are not used.\n",
      "\n",
      "  warnings.warn(smsg, UserWarning)\n",
      "c:\\Users\\loren\\anaconda3\\envs\\TensorFlow\\lib\\site-packages\\xgboost\\core.py:160: UserWarning: [10:51:41] WARNING: C:\\buildkite-agent\\builds\\buildkite-windows-cpu-autoscaling-group-i-0b3782d1791676daf-1\\xgboost\\xgboost-ci-windows\\src\\learner.cc:742: \n",
      "Parameters: { \"criterion\" } are not used.\n",
      "\n",
      "  warnings.warn(smsg, UserWarning)\n"
     ]
    },
    {
     "name": "stdout",
     "output_type": "stream",
     "text": [
      "#####################\n",
      "booster  gbtree\n",
      "n_estimators  50\n",
      "eta  0.1\n",
      "max_depth  5\n",
      "lambda  5.0\n",
      "criterion  gini\n",
      "max_leaves  5\n",
      "0.849124613800206\n"
     ]
    },
    {
     "name": "stderr",
     "output_type": "stream",
     "text": [
      "c:\\Users\\loren\\anaconda3\\envs\\TensorFlow\\lib\\site-packages\\xgboost\\core.py:160: UserWarning: [10:51:41] WARNING: C:\\buildkite-agent\\builds\\buildkite-windows-cpu-autoscaling-group-i-0b3782d1791676daf-1\\xgboost\\xgboost-ci-windows\\src\\learner.cc:742: \n",
      "Parameters: { \"criterion\" } are not used.\n",
      "\n",
      "  warnings.warn(smsg, UserWarning)\n"
     ]
    },
    {
     "name": "stdout",
     "output_type": "stream",
     "text": [
      "#####################\n",
      "booster  gbtree\n",
      "n_estimators  50\n",
      "eta  0.1\n",
      "max_depth  5\n",
      "lambda  5.0\n",
      "criterion  entropy\n",
      "max_leaves  0\n",
      "0.9248197734294542\n",
      "#####################\n",
      "booster  gbtree\n",
      "n_estimators  50\n",
      "eta  0.1\n",
      "max_depth  5\n",
      "lambda  5.0\n",
      "criterion  entropy\n",
      "max_leaves  1\n",
      "0.3388259526261586\n"
     ]
    },
    {
     "name": "stderr",
     "output_type": "stream",
     "text": [
      "c:\\Users\\loren\\anaconda3\\envs\\TensorFlow\\lib\\site-packages\\xgboost\\core.py:160: UserWarning: [10:51:41] WARNING: C:\\buildkite-agent\\builds\\buildkite-windows-cpu-autoscaling-group-i-0b3782d1791676daf-1\\xgboost\\xgboost-ci-windows\\src\\learner.cc:742: \n",
      "Parameters: { \"criterion\" } are not used.\n",
      "\n",
      "  warnings.warn(smsg, UserWarning)\n",
      "c:\\Users\\loren\\anaconda3\\envs\\TensorFlow\\lib\\site-packages\\xgboost\\core.py:160: UserWarning: [10:51:41] WARNING: C:\\buildkite-agent\\builds\\buildkite-windows-cpu-autoscaling-group-i-0b3782d1791676daf-1\\xgboost\\xgboost-ci-windows\\src\\learner.cc:742: \n",
      "Parameters: { \"criterion\" } are not used.\n",
      "\n",
      "  warnings.warn(smsg, UserWarning)\n"
     ]
    },
    {
     "name": "stdout",
     "output_type": "stream",
     "text": [
      "#####################\n",
      "booster  gbtree\n",
      "n_estimators  50\n",
      "eta  0.1\n",
      "max_depth  5\n",
      "lambda  5.0\n",
      "criterion  entropy\n",
      "max_leaves  5\n",
      "0.849124613800206\n"
     ]
    },
    {
     "name": "stderr",
     "output_type": "stream",
     "text": [
      "c:\\Users\\loren\\anaconda3\\envs\\TensorFlow\\lib\\site-packages\\xgboost\\core.py:160: UserWarning: [10:51:42] WARNING: C:\\buildkite-agent\\builds\\buildkite-windows-cpu-autoscaling-group-i-0b3782d1791676daf-1\\xgboost\\xgboost-ci-windows\\src\\learner.cc:742: \n",
      "Parameters: { \"criterion\" } are not used.\n",
      "\n",
      "  warnings.warn(smsg, UserWarning)\n"
     ]
    },
    {
     "name": "stdout",
     "output_type": "stream",
     "text": [
      "#####################\n",
      "booster  gbtree\n",
      "n_estimators  50\n",
      "eta  0.1\n",
      "max_depth  10\n",
      "lambda  0.0\n",
      "criterion  gini\n",
      "max_leaves  0\n",
      "0.9423274974253347\n",
      "#####################\n",
      "booster  gbtree\n",
      "n_estimators  50\n",
      "eta  0.1\n",
      "max_depth  10\n",
      "lambda  0.0\n",
      "criterion  gini\n",
      "max_leaves  1\n",
      "0.3388259526261586\n"
     ]
    },
    {
     "name": "stderr",
     "output_type": "stream",
     "text": [
      "c:\\Users\\loren\\anaconda3\\envs\\TensorFlow\\lib\\site-packages\\xgboost\\core.py:160: UserWarning: [10:51:43] WARNING: C:\\buildkite-agent\\builds\\buildkite-windows-cpu-autoscaling-group-i-0b3782d1791676daf-1\\xgboost\\xgboost-ci-windows\\src\\learner.cc:742: \n",
      "Parameters: { \"criterion\" } are not used.\n",
      "\n",
      "  warnings.warn(smsg, UserWarning)\n",
      "c:\\Users\\loren\\anaconda3\\envs\\TensorFlow\\lib\\site-packages\\xgboost\\core.py:160: UserWarning: [10:51:43] WARNING: C:\\buildkite-agent\\builds\\buildkite-windows-cpu-autoscaling-group-i-0b3782d1791676daf-1\\xgboost\\xgboost-ci-windows\\src\\learner.cc:742: \n",
      "Parameters: { \"criterion\" } are not used.\n",
      "\n",
      "  warnings.warn(smsg, UserWarning)\n"
     ]
    },
    {
     "name": "stdout",
     "output_type": "stream",
     "text": [
      "#####################\n",
      "booster  gbtree\n",
      "n_estimators  50\n",
      "eta  0.1\n",
      "max_depth  10\n",
      "lambda  0.0\n",
      "criterion  gini\n",
      "max_leaves  5\n",
      "0.8480947476828012\n"
     ]
    },
    {
     "name": "stderr",
     "output_type": "stream",
     "text": [
      "c:\\Users\\loren\\anaconda3\\envs\\TensorFlow\\lib\\site-packages\\xgboost\\core.py:160: UserWarning: [10:51:43] WARNING: C:\\buildkite-agent\\builds\\buildkite-windows-cpu-autoscaling-group-i-0b3782d1791676daf-1\\xgboost\\xgboost-ci-windows\\src\\learner.cc:742: \n",
      "Parameters: { \"criterion\" } are not used.\n",
      "\n",
      "  warnings.warn(smsg, UserWarning)\n"
     ]
    },
    {
     "name": "stdout",
     "output_type": "stream",
     "text": [
      "#####################\n",
      "booster  gbtree\n",
      "n_estimators  50\n",
      "eta  0.1\n",
      "max_depth  10\n",
      "lambda  0.0\n",
      "criterion  entropy\n",
      "max_leaves  0\n",
      "0.9423274974253347\n",
      "#####################\n",
      "booster  gbtree\n",
      "n_estimators  50\n",
      "eta  0.1\n",
      "max_depth  10\n",
      "lambda  0.0\n",
      "criterion  entropy\n",
      "max_leaves  1\n",
      "0.3388259526261586\n"
     ]
    },
    {
     "name": "stderr",
     "output_type": "stream",
     "text": [
      "c:\\Users\\loren\\anaconda3\\envs\\TensorFlow\\lib\\site-packages\\xgboost\\core.py:160: UserWarning: [10:51:45] WARNING: C:\\buildkite-agent\\builds\\buildkite-windows-cpu-autoscaling-group-i-0b3782d1791676daf-1\\xgboost\\xgboost-ci-windows\\src\\learner.cc:742: \n",
      "Parameters: { \"criterion\" } are not used.\n",
      "\n",
      "  warnings.warn(smsg, UserWarning)\n",
      "c:\\Users\\loren\\anaconda3\\envs\\TensorFlow\\lib\\site-packages\\xgboost\\core.py:160: UserWarning: [10:51:45] WARNING: C:\\buildkite-agent\\builds\\buildkite-windows-cpu-autoscaling-group-i-0b3782d1791676daf-1\\xgboost\\xgboost-ci-windows\\src\\learner.cc:742: \n",
      "Parameters: { \"criterion\" } are not used.\n",
      "\n",
      "  warnings.warn(smsg, UserWarning)\n"
     ]
    },
    {
     "name": "stdout",
     "output_type": "stream",
     "text": [
      "#####################\n",
      "booster  gbtree\n",
      "n_estimators  50\n",
      "eta  0.1\n",
      "max_depth  10\n",
      "lambda  0.0\n",
      "criterion  entropy\n",
      "max_leaves  5\n",
      "0.8480947476828012\n"
     ]
    },
    {
     "name": "stderr",
     "output_type": "stream",
     "text": [
      "c:\\Users\\loren\\anaconda3\\envs\\TensorFlow\\lib\\site-packages\\xgboost\\core.py:160: UserWarning: [10:51:45] WARNING: C:\\buildkite-agent\\builds\\buildkite-windows-cpu-autoscaling-group-i-0b3782d1791676daf-1\\xgboost\\xgboost-ci-windows\\src\\learner.cc:742: \n",
      "Parameters: { \"criterion\" } are not used.\n",
      "\n",
      "  warnings.warn(smsg, UserWarning)\n"
     ]
    },
    {
     "name": "stdout",
     "output_type": "stream",
     "text": [
      "#####################\n",
      "booster  gbtree\n",
      "n_estimators  50\n",
      "eta  0.1\n",
      "max_depth  10\n",
      "lambda  1.0\n",
      "criterion  gini\n",
      "max_leaves  0\n",
      "0.9397528321318228\n",
      "#####################\n",
      "booster  gbtree\n",
      "n_estimators  50\n",
      "eta  0.1\n",
      "max_depth  10\n",
      "lambda  1.0\n",
      "criterion  gini\n",
      "max_leaves  1\n",
      "0.3388259526261586\n"
     ]
    },
    {
     "name": "stderr",
     "output_type": "stream",
     "text": [
      "c:\\Users\\loren\\anaconda3\\envs\\TensorFlow\\lib\\site-packages\\xgboost\\core.py:160: UserWarning: [10:51:46] WARNING: C:\\buildkite-agent\\builds\\buildkite-windows-cpu-autoscaling-group-i-0b3782d1791676daf-1\\xgboost\\xgboost-ci-windows\\src\\learner.cc:742: \n",
      "Parameters: { \"criterion\" } are not used.\n",
      "\n",
      "  warnings.warn(smsg, UserWarning)\n",
      "c:\\Users\\loren\\anaconda3\\envs\\TensorFlow\\lib\\site-packages\\xgboost\\core.py:160: UserWarning: [10:51:46] WARNING: C:\\buildkite-agent\\builds\\buildkite-windows-cpu-autoscaling-group-i-0b3782d1791676daf-1\\xgboost\\xgboost-ci-windows\\src\\learner.cc:742: \n",
      "Parameters: { \"criterion\" } are not used.\n",
      "\n",
      "  warnings.warn(smsg, UserWarning)\n"
     ]
    },
    {
     "name": "stdout",
     "output_type": "stream",
     "text": [
      "#####################\n",
      "booster  gbtree\n",
      "n_estimators  50\n",
      "eta  0.1\n",
      "max_depth  10\n",
      "lambda  1.0\n",
      "criterion  gini\n",
      "max_leaves  5\n",
      "0.8527291452111225\n"
     ]
    },
    {
     "name": "stderr",
     "output_type": "stream",
     "text": [
      "c:\\Users\\loren\\anaconda3\\envs\\TensorFlow\\lib\\site-packages\\xgboost\\core.py:160: UserWarning: [10:51:46] WARNING: C:\\buildkite-agent\\builds\\buildkite-windows-cpu-autoscaling-group-i-0b3782d1791676daf-1\\xgboost\\xgboost-ci-windows\\src\\learner.cc:742: \n",
      "Parameters: { \"criterion\" } are not used.\n",
      "\n",
      "  warnings.warn(smsg, UserWarning)\n"
     ]
    },
    {
     "name": "stdout",
     "output_type": "stream",
     "text": [
      "#####################\n",
      "booster  gbtree\n",
      "n_estimators  50\n",
      "eta  0.1\n",
      "max_depth  10\n",
      "lambda  1.0\n",
      "criterion  entropy\n",
      "max_leaves  0\n",
      "0.9397528321318228\n",
      "#####################\n",
      "booster  gbtree\n",
      "n_estimators  50\n",
      "eta  0.1\n",
      "max_depth  10\n",
      "lambda  1.0\n",
      "criterion  entropy\n",
      "max_leaves  1\n",
      "0.3388259526261586\n"
     ]
    },
    {
     "name": "stderr",
     "output_type": "stream",
     "text": [
      "c:\\Users\\loren\\anaconda3\\envs\\TensorFlow\\lib\\site-packages\\xgboost\\core.py:160: UserWarning: [10:51:47] WARNING: C:\\buildkite-agent\\builds\\buildkite-windows-cpu-autoscaling-group-i-0b3782d1791676daf-1\\xgboost\\xgboost-ci-windows\\src\\learner.cc:742: \n",
      "Parameters: { \"criterion\" } are not used.\n",
      "\n",
      "  warnings.warn(smsg, UserWarning)\n",
      "c:\\Users\\loren\\anaconda3\\envs\\TensorFlow\\lib\\site-packages\\xgboost\\core.py:160: UserWarning: [10:51:47] WARNING: C:\\buildkite-agent\\builds\\buildkite-windows-cpu-autoscaling-group-i-0b3782d1791676daf-1\\xgboost\\xgboost-ci-windows\\src\\learner.cc:742: \n",
      "Parameters: { \"criterion\" } are not used.\n",
      "\n",
      "  warnings.warn(smsg, UserWarning)\n"
     ]
    },
    {
     "name": "stdout",
     "output_type": "stream",
     "text": [
      "#####################\n",
      "booster  gbtree\n",
      "n_estimators  50\n",
      "eta  0.1\n",
      "max_depth  10\n",
      "lambda  1.0\n",
      "criterion  entropy\n",
      "max_leaves  5\n",
      "0.8527291452111225\n"
     ]
    },
    {
     "name": "stderr",
     "output_type": "stream",
     "text": [
      "c:\\Users\\loren\\anaconda3\\envs\\TensorFlow\\lib\\site-packages\\xgboost\\core.py:160: UserWarning: [10:51:48] WARNING: C:\\buildkite-agent\\builds\\buildkite-windows-cpu-autoscaling-group-i-0b3782d1791676daf-1\\xgboost\\xgboost-ci-windows\\src\\learner.cc:742: \n",
      "Parameters: { \"criterion\" } are not used.\n",
      "\n",
      "  warnings.warn(smsg, UserWarning)\n"
     ]
    },
    {
     "name": "stdout",
     "output_type": "stream",
     "text": [
      "#####################\n",
      "booster  gbtree\n",
      "n_estimators  50\n",
      "eta  0.1\n",
      "max_depth  10\n",
      "lambda  5.0\n",
      "criterion  gini\n",
      "max_leaves  0\n",
      "0.94129763130793\n",
      "#####################\n",
      "booster  gbtree\n",
      "n_estimators  50\n",
      "eta  0.1\n",
      "max_depth  10\n",
      "lambda  5.0\n",
      "criterion  gini\n",
      "max_leaves  1\n",
      "0.3388259526261586\n"
     ]
    },
    {
     "name": "stderr",
     "output_type": "stream",
     "text": [
      "c:\\Users\\loren\\anaconda3\\envs\\TensorFlow\\lib\\site-packages\\xgboost\\core.py:160: UserWarning: [10:51:49] WARNING: C:\\buildkite-agent\\builds\\buildkite-windows-cpu-autoscaling-group-i-0b3782d1791676daf-1\\xgboost\\xgboost-ci-windows\\src\\learner.cc:742: \n",
      "Parameters: { \"criterion\" } are not used.\n",
      "\n",
      "  warnings.warn(smsg, UserWarning)\n",
      "c:\\Users\\loren\\anaconda3\\envs\\TensorFlow\\lib\\site-packages\\xgboost\\core.py:160: UserWarning: [10:51:49] WARNING: C:\\buildkite-agent\\builds\\buildkite-windows-cpu-autoscaling-group-i-0b3782d1791676daf-1\\xgboost\\xgboost-ci-windows\\src\\learner.cc:742: \n",
      "Parameters: { \"criterion\" } are not used.\n",
      "\n",
      "  warnings.warn(smsg, UserWarning)\n"
     ]
    },
    {
     "name": "stdout",
     "output_type": "stream",
     "text": [
      "#####################\n",
      "booster  gbtree\n",
      "n_estimators  50\n",
      "eta  0.1\n",
      "max_depth  10\n",
      "lambda  5.0\n",
      "criterion  gini\n",
      "max_leaves  5\n",
      "0.849124613800206\n"
     ]
    },
    {
     "name": "stderr",
     "output_type": "stream",
     "text": [
      "c:\\Users\\loren\\anaconda3\\envs\\TensorFlow\\lib\\site-packages\\xgboost\\core.py:160: UserWarning: [10:51:49] WARNING: C:\\buildkite-agent\\builds\\buildkite-windows-cpu-autoscaling-group-i-0b3782d1791676daf-1\\xgboost\\xgboost-ci-windows\\src\\learner.cc:742: \n",
      "Parameters: { \"criterion\" } are not used.\n",
      "\n",
      "  warnings.warn(smsg, UserWarning)\n"
     ]
    },
    {
     "name": "stdout",
     "output_type": "stream",
     "text": [
      "#####################\n",
      "booster  gbtree\n",
      "n_estimators  50\n",
      "eta  0.1\n",
      "max_depth  10\n",
      "lambda  5.0\n",
      "criterion  entropy\n",
      "max_leaves  0\n",
      "0.94129763130793\n",
      "#####################\n",
      "booster  gbtree\n",
      "n_estimators  50\n",
      "eta  0.1\n",
      "max_depth  10\n",
      "lambda  5.0\n",
      "criterion  entropy\n",
      "max_leaves  1\n",
      "0.3388259526261586\n"
     ]
    },
    {
     "name": "stderr",
     "output_type": "stream",
     "text": [
      "c:\\Users\\loren\\anaconda3\\envs\\TensorFlow\\lib\\site-packages\\xgboost\\core.py:160: UserWarning: [10:51:50] WARNING: C:\\buildkite-agent\\builds\\buildkite-windows-cpu-autoscaling-group-i-0b3782d1791676daf-1\\xgboost\\xgboost-ci-windows\\src\\learner.cc:742: \n",
      "Parameters: { \"criterion\" } are not used.\n",
      "\n",
      "  warnings.warn(smsg, UserWarning)\n",
      "c:\\Users\\loren\\anaconda3\\envs\\TensorFlow\\lib\\site-packages\\xgboost\\core.py:160: UserWarning: [10:51:50] WARNING: C:\\buildkite-agent\\builds\\buildkite-windows-cpu-autoscaling-group-i-0b3782d1791676daf-1\\xgboost\\xgboost-ci-windows\\src\\learner.cc:742: \n",
      "Parameters: { \"criterion\" } are not used.\n",
      "\n",
      "  warnings.warn(smsg, UserWarning)\n"
     ]
    },
    {
     "name": "stdout",
     "output_type": "stream",
     "text": [
      "#####################\n",
      "booster  gbtree\n",
      "n_estimators  50\n",
      "eta  0.1\n",
      "max_depth  10\n",
      "lambda  5.0\n",
      "criterion  entropy\n",
      "max_leaves  5\n",
      "0.849124613800206\n"
     ]
    },
    {
     "name": "stderr",
     "output_type": "stream",
     "text": [
      "c:\\Users\\loren\\anaconda3\\envs\\TensorFlow\\lib\\site-packages\\xgboost\\core.py:160: UserWarning: [10:51:50] WARNING: C:\\buildkite-agent\\builds\\buildkite-windows-cpu-autoscaling-group-i-0b3782d1791676daf-1\\xgboost\\xgboost-ci-windows\\src\\learner.cc:742: \n",
      "Parameters: { \"criterion\" } are not used.\n",
      "\n",
      "  warnings.warn(smsg, UserWarning)\n"
     ]
    },
    {
     "name": "stdout",
     "output_type": "stream",
     "text": [
      "#####################\n",
      "booster  gbtree\n",
      "n_estimators  50\n",
      "eta  0.1\n",
      "max_depth  20\n",
      "lambda  0.0\n",
      "criterion  gini\n",
      "max_leaves  0\n",
      "0.9392378990731205\n",
      "#####################\n",
      "booster  gbtree\n",
      "n_estimators  50\n",
      "eta  0.1\n",
      "max_depth  20\n",
      "lambda  0.0\n",
      "criterion  gini\n",
      "max_leaves  1\n",
      "0.3388259526261586\n"
     ]
    },
    {
     "name": "stderr",
     "output_type": "stream",
     "text": [
      "c:\\Users\\loren\\anaconda3\\envs\\TensorFlow\\lib\\site-packages\\xgboost\\core.py:160: UserWarning: [10:51:54] WARNING: C:\\buildkite-agent\\builds\\buildkite-windows-cpu-autoscaling-group-i-0b3782d1791676daf-1\\xgboost\\xgboost-ci-windows\\src\\learner.cc:742: \n",
      "Parameters: { \"criterion\" } are not used.\n",
      "\n",
      "  warnings.warn(smsg, UserWarning)\n",
      "c:\\Users\\loren\\anaconda3\\envs\\TensorFlow\\lib\\site-packages\\xgboost\\core.py:160: UserWarning: [10:51:54] WARNING: C:\\buildkite-agent\\builds\\buildkite-windows-cpu-autoscaling-group-i-0b3782d1791676daf-1\\xgboost\\xgboost-ci-windows\\src\\learner.cc:742: \n",
      "Parameters: { \"criterion\" } are not used.\n",
      "\n",
      "  warnings.warn(smsg, UserWarning)\n"
     ]
    },
    {
     "name": "stdout",
     "output_type": "stream",
     "text": [
      "#####################\n",
      "booster  gbtree\n",
      "n_estimators  50\n",
      "eta  0.1\n",
      "max_depth  20\n",
      "lambda  0.0\n",
      "criterion  gini\n",
      "max_leaves  5\n",
      "0.8480947476828012\n"
     ]
    },
    {
     "name": "stderr",
     "output_type": "stream",
     "text": [
      "c:\\Users\\loren\\anaconda3\\envs\\TensorFlow\\lib\\site-packages\\xgboost\\core.py:160: UserWarning: [10:51:54] WARNING: C:\\buildkite-agent\\builds\\buildkite-windows-cpu-autoscaling-group-i-0b3782d1791676daf-1\\xgboost\\xgboost-ci-windows\\src\\learner.cc:742: \n",
      "Parameters: { \"criterion\" } are not used.\n",
      "\n",
      "  warnings.warn(smsg, UserWarning)\n"
     ]
    },
    {
     "name": "stdout",
     "output_type": "stream",
     "text": [
      "#####################\n",
      "booster  gbtree\n",
      "n_estimators  50\n",
      "eta  0.1\n",
      "max_depth  20\n",
      "lambda  0.0\n",
      "criterion  entropy\n",
      "max_leaves  0\n",
      "0.9392378990731205\n",
      "#####################\n",
      "booster  gbtree\n",
      "n_estimators  50\n",
      "eta  0.1\n",
      "max_depth  20\n",
      "lambda  0.0\n",
      "criterion  entropy\n",
      "max_leaves  1\n",
      "0.3388259526261586\n"
     ]
    },
    {
     "name": "stderr",
     "output_type": "stream",
     "text": [
      "c:\\Users\\loren\\anaconda3\\envs\\TensorFlow\\lib\\site-packages\\xgboost\\core.py:160: UserWarning: [10:51:58] WARNING: C:\\buildkite-agent\\builds\\buildkite-windows-cpu-autoscaling-group-i-0b3782d1791676daf-1\\xgboost\\xgboost-ci-windows\\src\\learner.cc:742: \n",
      "Parameters: { \"criterion\" } are not used.\n",
      "\n",
      "  warnings.warn(smsg, UserWarning)\n",
      "c:\\Users\\loren\\anaconda3\\envs\\TensorFlow\\lib\\site-packages\\xgboost\\core.py:160: UserWarning: [10:51:58] WARNING: C:\\buildkite-agent\\builds\\buildkite-windows-cpu-autoscaling-group-i-0b3782d1791676daf-1\\xgboost\\xgboost-ci-windows\\src\\learner.cc:742: \n",
      "Parameters: { \"criterion\" } are not used.\n",
      "\n",
      "  warnings.warn(smsg, UserWarning)\n"
     ]
    },
    {
     "name": "stdout",
     "output_type": "stream",
     "text": [
      "#####################\n",
      "booster  gbtree\n",
      "n_estimators  50\n",
      "eta  0.1\n",
      "max_depth  20\n",
      "lambda  0.0\n",
      "criterion  entropy\n",
      "max_leaves  5\n",
      "0.8480947476828012\n"
     ]
    },
    {
     "name": "stderr",
     "output_type": "stream",
     "text": [
      "c:\\Users\\loren\\anaconda3\\envs\\TensorFlow\\lib\\site-packages\\xgboost\\core.py:160: UserWarning: [10:51:58] WARNING: C:\\buildkite-agent\\builds\\buildkite-windows-cpu-autoscaling-group-i-0b3782d1791676daf-1\\xgboost\\xgboost-ci-windows\\src\\learner.cc:742: \n",
      "Parameters: { \"criterion\" } are not used.\n",
      "\n",
      "  warnings.warn(smsg, UserWarning)\n"
     ]
    },
    {
     "name": "stdout",
     "output_type": "stream",
     "text": [
      "#####################\n",
      "booster  gbtree\n",
      "n_estimators  50\n",
      "eta  0.1\n",
      "max_depth  20\n",
      "lambda  1.0\n",
      "criterion  gini\n",
      "max_leaves  0\n",
      "0.9382080329557158\n",
      "#####################\n",
      "booster  gbtree\n",
      "n_estimators  50\n",
      "eta  0.1\n",
      "max_depth  20\n",
      "lambda  1.0\n",
      "criterion  gini\n",
      "max_leaves  1\n",
      "0.3388259526261586\n"
     ]
    },
    {
     "name": "stderr",
     "output_type": "stream",
     "text": [
      "c:\\Users\\loren\\anaconda3\\envs\\TensorFlow\\lib\\site-packages\\xgboost\\core.py:160: UserWarning: [10:52:00] WARNING: C:\\buildkite-agent\\builds\\buildkite-windows-cpu-autoscaling-group-i-0b3782d1791676daf-1\\xgboost\\xgboost-ci-windows\\src\\learner.cc:742: \n",
      "Parameters: { \"criterion\" } are not used.\n",
      "\n",
      "  warnings.warn(smsg, UserWarning)\n",
      "c:\\Users\\loren\\anaconda3\\envs\\TensorFlow\\lib\\site-packages\\xgboost\\core.py:160: UserWarning: [10:52:00] WARNING: C:\\buildkite-agent\\builds\\buildkite-windows-cpu-autoscaling-group-i-0b3782d1791676daf-1\\xgboost\\xgboost-ci-windows\\src\\learner.cc:742: \n",
      "Parameters: { \"criterion\" } are not used.\n",
      "\n",
      "  warnings.warn(smsg, UserWarning)\n"
     ]
    },
    {
     "name": "stdout",
     "output_type": "stream",
     "text": [
      "#####################\n",
      "booster  gbtree\n",
      "n_estimators  50\n",
      "eta  0.1\n",
      "max_depth  20\n",
      "lambda  1.0\n",
      "criterion  gini\n",
      "max_leaves  5\n",
      "0.8527291452111225\n"
     ]
    },
    {
     "name": "stderr",
     "output_type": "stream",
     "text": [
      "c:\\Users\\loren\\anaconda3\\envs\\TensorFlow\\lib\\site-packages\\xgboost\\core.py:160: UserWarning: [10:52:00] WARNING: C:\\buildkite-agent\\builds\\buildkite-windows-cpu-autoscaling-group-i-0b3782d1791676daf-1\\xgboost\\xgboost-ci-windows\\src\\learner.cc:742: \n",
      "Parameters: { \"criterion\" } are not used.\n",
      "\n",
      "  warnings.warn(smsg, UserWarning)\n"
     ]
    },
    {
     "name": "stdout",
     "output_type": "stream",
     "text": [
      "#####################\n",
      "booster  gbtree\n",
      "n_estimators  50\n",
      "eta  0.1\n",
      "max_depth  20\n",
      "lambda  1.0\n",
      "criterion  entropy\n",
      "max_leaves  0\n",
      "0.9382080329557158\n",
      "#####################\n",
      "booster  gbtree\n",
      "n_estimators  50\n",
      "eta  0.1\n",
      "max_depth  20\n",
      "lambda  1.0\n",
      "criterion  entropy\n",
      "max_leaves  1\n",
      "0.3388259526261586\n"
     ]
    },
    {
     "name": "stderr",
     "output_type": "stream",
     "text": [
      "c:\\Users\\loren\\anaconda3\\envs\\TensorFlow\\lib\\site-packages\\xgboost\\core.py:160: UserWarning: [10:52:02] WARNING: C:\\buildkite-agent\\builds\\buildkite-windows-cpu-autoscaling-group-i-0b3782d1791676daf-1\\xgboost\\xgboost-ci-windows\\src\\learner.cc:742: \n",
      "Parameters: { \"criterion\" } are not used.\n",
      "\n",
      "  warnings.warn(smsg, UserWarning)\n",
      "c:\\Users\\loren\\anaconda3\\envs\\TensorFlow\\lib\\site-packages\\xgboost\\core.py:160: UserWarning: [10:52:02] WARNING: C:\\buildkite-agent\\builds\\buildkite-windows-cpu-autoscaling-group-i-0b3782d1791676daf-1\\xgboost\\xgboost-ci-windows\\src\\learner.cc:742: \n",
      "Parameters: { \"criterion\" } are not used.\n",
      "\n",
      "  warnings.warn(smsg, UserWarning)\n"
     ]
    },
    {
     "name": "stdout",
     "output_type": "stream",
     "text": [
      "#####################\n",
      "booster  gbtree\n",
      "n_estimators  50\n",
      "eta  0.1\n",
      "max_depth  20\n",
      "lambda  1.0\n",
      "criterion  entropy\n",
      "max_leaves  5\n",
      "0.8527291452111225\n"
     ]
    },
    {
     "name": "stderr",
     "output_type": "stream",
     "text": [
      "c:\\Users\\loren\\anaconda3\\envs\\TensorFlow\\lib\\site-packages\\xgboost\\core.py:160: UserWarning: [10:52:02] WARNING: C:\\buildkite-agent\\builds\\buildkite-windows-cpu-autoscaling-group-i-0b3782d1791676daf-1\\xgboost\\xgboost-ci-windows\\src\\learner.cc:742: \n",
      "Parameters: { \"criterion\" } are not used.\n",
      "\n",
      "  warnings.warn(smsg, UserWarning)\n"
     ]
    },
    {
     "name": "stdout",
     "output_type": "stream",
     "text": [
      "#####################\n",
      "booster  gbtree\n",
      "n_estimators  50\n",
      "eta  0.1\n",
      "max_depth  20\n",
      "lambda  5.0\n",
      "criterion  gini\n",
      "max_leaves  0\n",
      "0.9376930998970134\n",
      "#####################\n",
      "booster  gbtree\n",
      "n_estimators  50\n",
      "eta  0.1\n",
      "max_depth  20\n",
      "lambda  5.0\n",
      "criterion  gini\n",
      "max_leaves  1\n",
      "0.3388259526261586\n"
     ]
    },
    {
     "name": "stderr",
     "output_type": "stream",
     "text": [
      "c:\\Users\\loren\\anaconda3\\envs\\TensorFlow\\lib\\site-packages\\xgboost\\core.py:160: UserWarning: [10:52:03] WARNING: C:\\buildkite-agent\\builds\\buildkite-windows-cpu-autoscaling-group-i-0b3782d1791676daf-1\\xgboost\\xgboost-ci-windows\\src\\learner.cc:742: \n",
      "Parameters: { \"criterion\" } are not used.\n",
      "\n",
      "  warnings.warn(smsg, UserWarning)\n",
      "c:\\Users\\loren\\anaconda3\\envs\\TensorFlow\\lib\\site-packages\\xgboost\\core.py:160: UserWarning: [10:52:04] WARNING: C:\\buildkite-agent\\builds\\buildkite-windows-cpu-autoscaling-group-i-0b3782d1791676daf-1\\xgboost\\xgboost-ci-windows\\src\\learner.cc:742: \n",
      "Parameters: { \"criterion\" } are not used.\n",
      "\n",
      "  warnings.warn(smsg, UserWarning)\n"
     ]
    },
    {
     "name": "stdout",
     "output_type": "stream",
     "text": [
      "#####################\n",
      "booster  gbtree\n",
      "n_estimators  50\n",
      "eta  0.1\n",
      "max_depth  20\n",
      "lambda  5.0\n",
      "criterion  gini\n",
      "max_leaves  5\n",
      "0.849124613800206\n"
     ]
    },
    {
     "name": "stderr",
     "output_type": "stream",
     "text": [
      "c:\\Users\\loren\\anaconda3\\envs\\TensorFlow\\lib\\site-packages\\xgboost\\core.py:160: UserWarning: [10:52:04] WARNING: C:\\buildkite-agent\\builds\\buildkite-windows-cpu-autoscaling-group-i-0b3782d1791676daf-1\\xgboost\\xgboost-ci-windows\\src\\learner.cc:742: \n",
      "Parameters: { \"criterion\" } are not used.\n",
      "\n",
      "  warnings.warn(smsg, UserWarning)\n"
     ]
    },
    {
     "name": "stdout",
     "output_type": "stream",
     "text": [
      "#####################\n",
      "booster  gbtree\n",
      "n_estimators  50\n",
      "eta  0.1\n",
      "max_depth  20\n",
      "lambda  5.0\n",
      "criterion  entropy\n",
      "max_leaves  0\n",
      "0.9376930998970134\n",
      "#####################\n",
      "booster  gbtree\n",
      "n_estimators  50\n",
      "eta  0.1\n",
      "max_depth  20\n",
      "lambda  5.0\n",
      "criterion  entropy\n",
      "max_leaves  1\n",
      "0.3388259526261586\n"
     ]
    },
    {
     "name": "stderr",
     "output_type": "stream",
     "text": [
      "c:\\Users\\loren\\anaconda3\\envs\\TensorFlow\\lib\\site-packages\\xgboost\\core.py:160: UserWarning: [10:52:06] WARNING: C:\\buildkite-agent\\builds\\buildkite-windows-cpu-autoscaling-group-i-0b3782d1791676daf-1\\xgboost\\xgboost-ci-windows\\src\\learner.cc:742: \n",
      "Parameters: { \"criterion\" } are not used.\n",
      "\n",
      "  warnings.warn(smsg, UserWarning)\n",
      "c:\\Users\\loren\\anaconda3\\envs\\TensorFlow\\lib\\site-packages\\xgboost\\core.py:160: UserWarning: [10:52:06] WARNING: C:\\buildkite-agent\\builds\\buildkite-windows-cpu-autoscaling-group-i-0b3782d1791676daf-1\\xgboost\\xgboost-ci-windows\\src\\learner.cc:742: \n",
      "Parameters: { \"criterion\" } are not used.\n",
      "\n",
      "  warnings.warn(smsg, UserWarning)\n"
     ]
    },
    {
     "name": "stdout",
     "output_type": "stream",
     "text": [
      "#####################\n",
      "booster  gbtree\n",
      "n_estimators  50\n",
      "eta  0.1\n",
      "max_depth  20\n",
      "lambda  5.0\n",
      "criterion  entropy\n",
      "max_leaves  5\n",
      "0.849124613800206\n"
     ]
    },
    {
     "name": "stderr",
     "output_type": "stream",
     "text": [
      "c:\\Users\\loren\\anaconda3\\envs\\TensorFlow\\lib\\site-packages\\xgboost\\core.py:160: UserWarning: [10:52:06] WARNING: C:\\buildkite-agent\\builds\\buildkite-windows-cpu-autoscaling-group-i-0b3782d1791676daf-1\\xgboost\\xgboost-ci-windows\\src\\learner.cc:742: \n",
      "Parameters: { \"criterion\" } are not used.\n",
      "\n",
      "  warnings.warn(smsg, UserWarning)\n"
     ]
    },
    {
     "name": "stdout",
     "output_type": "stream",
     "text": [
      "#####################\n",
      "booster  gbtree\n",
      "n_estimators  50\n",
      "eta  0.1\n",
      "max_depth  30\n",
      "lambda  0.0\n",
      "criterion  gini\n",
      "max_leaves  0\n",
      "0.9382080329557158\n",
      "#####################\n",
      "booster  gbtree\n",
      "n_estimators  50\n",
      "eta  0.1\n",
      "max_depth  30\n",
      "lambda  0.0\n",
      "criterion  gini\n",
      "max_leaves  1\n",
      "0.3388259526261586\n"
     ]
    },
    {
     "name": "stderr",
     "output_type": "stream",
     "text": [
      "c:\\Users\\loren\\anaconda3\\envs\\TensorFlow\\lib\\site-packages\\xgboost\\core.py:160: UserWarning: [10:52:10] WARNING: C:\\buildkite-agent\\builds\\buildkite-windows-cpu-autoscaling-group-i-0b3782d1791676daf-1\\xgboost\\xgboost-ci-windows\\src\\learner.cc:742: \n",
      "Parameters: { \"criterion\" } are not used.\n",
      "\n",
      "  warnings.warn(smsg, UserWarning)\n",
      "c:\\Users\\loren\\anaconda3\\envs\\TensorFlow\\lib\\site-packages\\xgboost\\core.py:160: UserWarning: [10:52:11] WARNING: C:\\buildkite-agent\\builds\\buildkite-windows-cpu-autoscaling-group-i-0b3782d1791676daf-1\\xgboost\\xgboost-ci-windows\\src\\learner.cc:742: \n",
      "Parameters: { \"criterion\" } are not used.\n",
      "\n",
      "  warnings.warn(smsg, UserWarning)\n"
     ]
    },
    {
     "name": "stdout",
     "output_type": "stream",
     "text": [
      "#####################\n",
      "booster  gbtree\n",
      "n_estimators  50\n",
      "eta  0.1\n",
      "max_depth  30\n",
      "lambda  0.0\n",
      "criterion  gini\n",
      "max_leaves  5\n",
      "0.8480947476828012\n"
     ]
    },
    {
     "name": "stderr",
     "output_type": "stream",
     "text": [
      "c:\\Users\\loren\\anaconda3\\envs\\TensorFlow\\lib\\site-packages\\xgboost\\core.py:160: UserWarning: [10:52:11] WARNING: C:\\buildkite-agent\\builds\\buildkite-windows-cpu-autoscaling-group-i-0b3782d1791676daf-1\\xgboost\\xgboost-ci-windows\\src\\learner.cc:742: \n",
      "Parameters: { \"criterion\" } are not used.\n",
      "\n",
      "  warnings.warn(smsg, UserWarning)\n"
     ]
    },
    {
     "name": "stdout",
     "output_type": "stream",
     "text": [
      "#####################\n",
      "booster  gbtree\n",
      "n_estimators  50\n",
      "eta  0.1\n",
      "max_depth  30\n",
      "lambda  0.0\n",
      "criterion  entropy\n",
      "max_leaves  0\n",
      "0.9382080329557158\n",
      "#####################\n",
      "booster  gbtree\n",
      "n_estimators  50\n",
      "eta  0.1\n",
      "max_depth  30\n",
      "lambda  0.0\n",
      "criterion  entropy\n",
      "max_leaves  1\n",
      "0.3388259526261586\n"
     ]
    },
    {
     "name": "stderr",
     "output_type": "stream",
     "text": [
      "c:\\Users\\loren\\anaconda3\\envs\\TensorFlow\\lib\\site-packages\\xgboost\\core.py:160: UserWarning: [10:52:15] WARNING: C:\\buildkite-agent\\builds\\buildkite-windows-cpu-autoscaling-group-i-0b3782d1791676daf-1\\xgboost\\xgboost-ci-windows\\src\\learner.cc:742: \n",
      "Parameters: { \"criterion\" } are not used.\n",
      "\n",
      "  warnings.warn(smsg, UserWarning)\n",
      "c:\\Users\\loren\\anaconda3\\envs\\TensorFlow\\lib\\site-packages\\xgboost\\core.py:160: UserWarning: [10:52:15] WARNING: C:\\buildkite-agent\\builds\\buildkite-windows-cpu-autoscaling-group-i-0b3782d1791676daf-1\\xgboost\\xgboost-ci-windows\\src\\learner.cc:742: \n",
      "Parameters: { \"criterion\" } are not used.\n",
      "\n",
      "  warnings.warn(smsg, UserWarning)\n"
     ]
    },
    {
     "name": "stdout",
     "output_type": "stream",
     "text": [
      "#####################\n",
      "booster  gbtree\n",
      "n_estimators  50\n",
      "eta  0.1\n",
      "max_depth  30\n",
      "lambda  0.0\n",
      "criterion  entropy\n",
      "max_leaves  5\n",
      "0.8480947476828012\n"
     ]
    },
    {
     "name": "stderr",
     "output_type": "stream",
     "text": [
      "c:\\Users\\loren\\anaconda3\\envs\\TensorFlow\\lib\\site-packages\\xgboost\\core.py:160: UserWarning: [10:52:16] WARNING: C:\\buildkite-agent\\builds\\buildkite-windows-cpu-autoscaling-group-i-0b3782d1791676daf-1\\xgboost\\xgboost-ci-windows\\src\\learner.cc:742: \n",
      "Parameters: { \"criterion\" } are not used.\n",
      "\n",
      "  warnings.warn(smsg, UserWarning)\n"
     ]
    },
    {
     "name": "stdout",
     "output_type": "stream",
     "text": [
      "#####################\n",
      "booster  gbtree\n",
      "n_estimators  50\n",
      "eta  0.1\n",
      "max_depth  30\n",
      "lambda  1.0\n",
      "criterion  gini\n",
      "max_leaves  0\n",
      "0.9382080329557158\n",
      "#####################\n",
      "booster  gbtree\n",
      "n_estimators  50\n",
      "eta  0.1\n",
      "max_depth  30\n",
      "lambda  1.0\n",
      "criterion  gini\n",
      "max_leaves  1\n",
      "0.3388259526261586\n"
     ]
    },
    {
     "name": "stderr",
     "output_type": "stream",
     "text": [
      "c:\\Users\\loren\\anaconda3\\envs\\TensorFlow\\lib\\site-packages\\xgboost\\core.py:160: UserWarning: [10:52:17] WARNING: C:\\buildkite-agent\\builds\\buildkite-windows-cpu-autoscaling-group-i-0b3782d1791676daf-1\\xgboost\\xgboost-ci-windows\\src\\learner.cc:742: \n",
      "Parameters: { \"criterion\" } are not used.\n",
      "\n",
      "  warnings.warn(smsg, UserWarning)\n",
      "c:\\Users\\loren\\anaconda3\\envs\\TensorFlow\\lib\\site-packages\\xgboost\\core.py:160: UserWarning: [10:52:17] WARNING: C:\\buildkite-agent\\builds\\buildkite-windows-cpu-autoscaling-group-i-0b3782d1791676daf-1\\xgboost\\xgboost-ci-windows\\src\\learner.cc:742: \n",
      "Parameters: { \"criterion\" } are not used.\n",
      "\n",
      "  warnings.warn(smsg, UserWarning)\n"
     ]
    },
    {
     "name": "stdout",
     "output_type": "stream",
     "text": [
      "#####################\n",
      "booster  gbtree\n",
      "n_estimators  50\n",
      "eta  0.1\n",
      "max_depth  30\n",
      "lambda  1.0\n",
      "criterion  gini\n",
      "max_leaves  5\n",
      "0.8527291452111225\n"
     ]
    },
    {
     "name": "stderr",
     "output_type": "stream",
     "text": [
      "c:\\Users\\loren\\anaconda3\\envs\\TensorFlow\\lib\\site-packages\\xgboost\\core.py:160: UserWarning: [10:52:18] WARNING: C:\\buildkite-agent\\builds\\buildkite-windows-cpu-autoscaling-group-i-0b3782d1791676daf-1\\xgboost\\xgboost-ci-windows\\src\\learner.cc:742: \n",
      "Parameters: { \"criterion\" } are not used.\n",
      "\n",
      "  warnings.warn(smsg, UserWarning)\n"
     ]
    },
    {
     "name": "stdout",
     "output_type": "stream",
     "text": [
      "#####################\n",
      "booster  gbtree\n",
      "n_estimators  50\n",
      "eta  0.1\n",
      "max_depth  30\n",
      "lambda  1.0\n",
      "criterion  entropy\n",
      "max_leaves  0\n",
      "0.9382080329557158\n",
      "#####################\n",
      "booster  gbtree\n",
      "n_estimators  50\n",
      "eta  0.1\n",
      "max_depth  30\n",
      "lambda  1.0\n",
      "criterion  entropy\n",
      "max_leaves  1\n",
      "0.3388259526261586\n"
     ]
    },
    {
     "name": "stderr",
     "output_type": "stream",
     "text": [
      "c:\\Users\\loren\\anaconda3\\envs\\TensorFlow\\lib\\site-packages\\xgboost\\core.py:160: UserWarning: [10:52:19] WARNING: C:\\buildkite-agent\\builds\\buildkite-windows-cpu-autoscaling-group-i-0b3782d1791676daf-1\\xgboost\\xgboost-ci-windows\\src\\learner.cc:742: \n",
      "Parameters: { \"criterion\" } are not used.\n",
      "\n",
      "  warnings.warn(smsg, UserWarning)\n",
      "c:\\Users\\loren\\anaconda3\\envs\\TensorFlow\\lib\\site-packages\\xgboost\\core.py:160: UserWarning: [10:52:19] WARNING: C:\\buildkite-agent\\builds\\buildkite-windows-cpu-autoscaling-group-i-0b3782d1791676daf-1\\xgboost\\xgboost-ci-windows\\src\\learner.cc:742: \n",
      "Parameters: { \"criterion\" } are not used.\n",
      "\n",
      "  warnings.warn(smsg, UserWarning)\n"
     ]
    },
    {
     "name": "stdout",
     "output_type": "stream",
     "text": [
      "#####################\n",
      "booster  gbtree\n",
      "n_estimators  50\n",
      "eta  0.1\n",
      "max_depth  30\n",
      "lambda  1.0\n",
      "criterion  entropy\n",
      "max_leaves  5\n",
      "0.8527291452111225\n"
     ]
    },
    {
     "name": "stderr",
     "output_type": "stream",
     "text": [
      "c:\\Users\\loren\\anaconda3\\envs\\TensorFlow\\lib\\site-packages\\xgboost\\core.py:160: UserWarning: [10:52:19] WARNING: C:\\buildkite-agent\\builds\\buildkite-windows-cpu-autoscaling-group-i-0b3782d1791676daf-1\\xgboost\\xgboost-ci-windows\\src\\learner.cc:742: \n",
      "Parameters: { \"criterion\" } are not used.\n",
      "\n",
      "  warnings.warn(smsg, UserWarning)\n"
     ]
    },
    {
     "name": "stdout",
     "output_type": "stream",
     "text": [
      "#####################\n",
      "booster  gbtree\n",
      "n_estimators  50\n",
      "eta  0.1\n",
      "max_depth  30\n",
      "lambda  5.0\n",
      "criterion  gini\n",
      "max_leaves  0\n",
      "0.9376930998970134\n"
     ]
    },
    {
     "name": "stderr",
     "output_type": "stream",
     "text": [
      "c:\\Users\\loren\\anaconda3\\envs\\TensorFlow\\lib\\site-packages\\xgboost\\core.py:160: UserWarning: [10:52:21] WARNING: C:\\buildkite-agent\\builds\\buildkite-windows-cpu-autoscaling-group-i-0b3782d1791676daf-1\\xgboost\\xgboost-ci-windows\\src\\learner.cc:742: \n",
      "Parameters: { \"criterion\" } are not used.\n",
      "\n",
      "  warnings.warn(smsg, UserWarning)\n"
     ]
    },
    {
     "name": "stdout",
     "output_type": "stream",
     "text": [
      "#####################\n",
      "booster  gbtree\n",
      "n_estimators  50\n",
      "eta  0.1\n",
      "max_depth  30\n",
      "lambda  5.0\n",
      "criterion  gini\n",
      "max_leaves  1\n",
      "0.3388259526261586\n"
     ]
    },
    {
     "name": "stderr",
     "output_type": "stream",
     "text": [
      "c:\\Users\\loren\\anaconda3\\envs\\TensorFlow\\lib\\site-packages\\xgboost\\core.py:160: UserWarning: [10:52:21] WARNING: C:\\buildkite-agent\\builds\\buildkite-windows-cpu-autoscaling-group-i-0b3782d1791676daf-1\\xgboost\\xgboost-ci-windows\\src\\learner.cc:742: \n",
      "Parameters: { \"criterion\" } are not used.\n",
      "\n",
      "  warnings.warn(smsg, UserWarning)\n"
     ]
    },
    {
     "name": "stdout",
     "output_type": "stream",
     "text": [
      "#####################\n",
      "booster  gbtree\n",
      "n_estimators  50\n",
      "eta  0.1\n",
      "max_depth  30\n",
      "lambda  5.0\n",
      "criterion  gini\n",
      "max_leaves  5\n",
      "0.849124613800206\n"
     ]
    },
    {
     "name": "stderr",
     "output_type": "stream",
     "text": [
      "c:\\Users\\loren\\anaconda3\\envs\\TensorFlow\\lib\\site-packages\\xgboost\\core.py:160: UserWarning: [10:52:21] WARNING: C:\\buildkite-agent\\builds\\buildkite-windows-cpu-autoscaling-group-i-0b3782d1791676daf-1\\xgboost\\xgboost-ci-windows\\src\\learner.cc:742: \n",
      "Parameters: { \"criterion\" } are not used.\n",
      "\n",
      "  warnings.warn(smsg, UserWarning)\n"
     ]
    },
    {
     "name": "stdout",
     "output_type": "stream",
     "text": [
      "#####################\n",
      "booster  gbtree\n",
      "n_estimators  50\n",
      "eta  0.1\n",
      "max_depth  30\n",
      "lambda  5.0\n",
      "criterion  entropy\n",
      "max_leaves  0\n",
      "0.9376930998970134\n",
      "#####################\n",
      "booster  gbtree\n",
      "n_estimators  50\n",
      "eta  0.1\n",
      "max_depth  30\n",
      "lambda  5.0\n",
      "criterion  entropy\n",
      "max_leaves  1\n",
      "0.3388259526261586\n"
     ]
    },
    {
     "name": "stderr",
     "output_type": "stream",
     "text": [
      "c:\\Users\\loren\\anaconda3\\envs\\TensorFlow\\lib\\site-packages\\xgboost\\core.py:160: UserWarning: [10:52:23] WARNING: C:\\buildkite-agent\\builds\\buildkite-windows-cpu-autoscaling-group-i-0b3782d1791676daf-1\\xgboost\\xgboost-ci-windows\\src\\learner.cc:742: \n",
      "Parameters: { \"criterion\" } are not used.\n",
      "\n",
      "  warnings.warn(smsg, UserWarning)\n",
      "c:\\Users\\loren\\anaconda3\\envs\\TensorFlow\\lib\\site-packages\\xgboost\\core.py:160: UserWarning: [10:52:23] WARNING: C:\\buildkite-agent\\builds\\buildkite-windows-cpu-autoscaling-group-i-0b3782d1791676daf-1\\xgboost\\xgboost-ci-windows\\src\\learner.cc:742: \n",
      "Parameters: { \"criterion\" } are not used.\n",
      "\n",
      "  warnings.warn(smsg, UserWarning)\n"
     ]
    },
    {
     "name": "stdout",
     "output_type": "stream",
     "text": [
      "#####################\n",
      "booster  gbtree\n",
      "n_estimators  50\n",
      "eta  0.1\n",
      "max_depth  30\n",
      "lambda  5.0\n",
      "criterion  entropy\n",
      "max_leaves  5\n",
      "0.849124613800206\n"
     ]
    },
    {
     "name": "stderr",
     "output_type": "stream",
     "text": [
      "c:\\Users\\loren\\anaconda3\\envs\\TensorFlow\\lib\\site-packages\\xgboost\\core.py:160: UserWarning: [10:52:23] WARNING: C:\\buildkite-agent\\builds\\buildkite-windows-cpu-autoscaling-group-i-0b3782d1791676daf-1\\xgboost\\xgboost-ci-windows\\src\\learner.cc:742: \n",
      "Parameters: { \"criterion\" } are not used.\n",
      "\n",
      "  warnings.warn(smsg, UserWarning)\n"
     ]
    },
    {
     "name": "stdout",
     "output_type": "stream",
     "text": [
      "#####################\n",
      "booster  gbtree\n",
      "n_estimators  50\n",
      "eta  0.3\n",
      "max_depth  5\n",
      "lambda  0.0\n",
      "criterion  gini\n",
      "max_leaves  0\n",
      "0.9397528321318228\n",
      "#####################\n",
      "booster  gbtree\n",
      "n_estimators  50\n",
      "eta  0.3\n",
      "max_depth  5\n",
      "lambda  0.0\n",
      "criterion  gini\n",
      "max_leaves  1\n",
      "0.3388259526261586\n"
     ]
    },
    {
     "name": "stderr",
     "output_type": "stream",
     "text": [
      "c:\\Users\\loren\\anaconda3\\envs\\TensorFlow\\lib\\site-packages\\xgboost\\core.py:160: UserWarning: [10:52:24] WARNING: C:\\buildkite-agent\\builds\\buildkite-windows-cpu-autoscaling-group-i-0b3782d1791676daf-1\\xgboost\\xgboost-ci-windows\\src\\learner.cc:742: \n",
      "Parameters: { \"criterion\" } are not used.\n",
      "\n",
      "  warnings.warn(smsg, UserWarning)\n",
      "c:\\Users\\loren\\anaconda3\\envs\\TensorFlow\\lib\\site-packages\\xgboost\\core.py:160: UserWarning: [10:52:24] WARNING: C:\\buildkite-agent\\builds\\buildkite-windows-cpu-autoscaling-group-i-0b3782d1791676daf-1\\xgboost\\xgboost-ci-windows\\src\\learner.cc:742: \n",
      "Parameters: { \"criterion\" } are not used.\n",
      "\n",
      "  warnings.warn(smsg, UserWarning)\n"
     ]
    },
    {
     "name": "stdout",
     "output_type": "stream",
     "text": [
      "#####################\n",
      "booster  gbtree\n",
      "n_estimators  50\n",
      "eta  0.3\n",
      "max_depth  5\n",
      "lambda  0.0\n",
      "criterion  gini\n",
      "max_leaves  5\n",
      "0.9124613800205973\n"
     ]
    },
    {
     "name": "stderr",
     "output_type": "stream",
     "text": [
      "c:\\Users\\loren\\anaconda3\\envs\\TensorFlow\\lib\\site-packages\\xgboost\\core.py:160: UserWarning: [10:52:24] WARNING: C:\\buildkite-agent\\builds\\buildkite-windows-cpu-autoscaling-group-i-0b3782d1791676daf-1\\xgboost\\xgboost-ci-windows\\src\\learner.cc:742: \n",
      "Parameters: { \"criterion\" } are not used.\n",
      "\n",
      "  warnings.warn(smsg, UserWarning)\n"
     ]
    },
    {
     "name": "stdout",
     "output_type": "stream",
     "text": [
      "#####################\n",
      "booster  gbtree\n",
      "n_estimators  50\n",
      "eta  0.3\n",
      "max_depth  5\n",
      "lambda  0.0\n",
      "criterion  entropy\n",
      "max_leaves  0\n",
      "0.9397528321318228\n",
      "#####################\n",
      "booster  gbtree\n",
      "n_estimators  50\n",
      "eta  0.3\n",
      "max_depth  5\n",
      "lambda  0.0\n",
      "criterion  entropy\n",
      "max_leaves  1\n",
      "0.3388259526261586\n"
     ]
    },
    {
     "name": "stderr",
     "output_type": "stream",
     "text": [
      "c:\\Users\\loren\\anaconda3\\envs\\TensorFlow\\lib\\site-packages\\xgboost\\core.py:160: UserWarning: [10:52:24] WARNING: C:\\buildkite-agent\\builds\\buildkite-windows-cpu-autoscaling-group-i-0b3782d1791676daf-1\\xgboost\\xgboost-ci-windows\\src\\learner.cc:742: \n",
      "Parameters: { \"criterion\" } are not used.\n",
      "\n",
      "  warnings.warn(smsg, UserWarning)\n",
      "c:\\Users\\loren\\anaconda3\\envs\\TensorFlow\\lib\\site-packages\\xgboost\\core.py:160: UserWarning: [10:52:24] WARNING: C:\\buildkite-agent\\builds\\buildkite-windows-cpu-autoscaling-group-i-0b3782d1791676daf-1\\xgboost\\xgboost-ci-windows\\src\\learner.cc:742: \n",
      "Parameters: { \"criterion\" } are not used.\n",
      "\n",
      "  warnings.warn(smsg, UserWarning)\n"
     ]
    },
    {
     "name": "stdout",
     "output_type": "stream",
     "text": [
      "#####################\n",
      "booster  gbtree\n",
      "n_estimators  50\n",
      "eta  0.3\n",
      "max_depth  5\n",
      "lambda  0.0\n",
      "criterion  entropy\n",
      "max_leaves  5\n",
      "0.9124613800205973\n"
     ]
    },
    {
     "name": "stderr",
     "output_type": "stream",
     "text": [
      "c:\\Users\\loren\\anaconda3\\envs\\TensorFlow\\lib\\site-packages\\xgboost\\core.py:160: UserWarning: [10:52:25] WARNING: C:\\buildkite-agent\\builds\\buildkite-windows-cpu-autoscaling-group-i-0b3782d1791676daf-1\\xgboost\\xgboost-ci-windows\\src\\learner.cc:742: \n",
      "Parameters: { \"criterion\" } are not used.\n",
      "\n",
      "  warnings.warn(smsg, UserWarning)\n"
     ]
    },
    {
     "name": "stdout",
     "output_type": "stream",
     "text": [
      "#####################\n",
      "booster  gbtree\n",
      "n_estimators  50\n",
      "eta  0.3\n",
      "max_depth  5\n",
      "lambda  1.0\n",
      "criterion  gini\n",
      "max_leaves  0\n",
      "0.937178166838311\n",
      "#####################\n",
      "booster  gbtree\n",
      "n_estimators  50\n",
      "eta  0.3\n",
      "max_depth  5\n",
      "lambda  1.0\n",
      "criterion  gini\n",
      "max_leaves  1\n",
      "0.3388259526261586\n"
     ]
    },
    {
     "name": "stderr",
     "output_type": "stream",
     "text": [
      "c:\\Users\\loren\\anaconda3\\envs\\TensorFlow\\lib\\site-packages\\xgboost\\core.py:160: UserWarning: [10:52:25] WARNING: C:\\buildkite-agent\\builds\\buildkite-windows-cpu-autoscaling-group-i-0b3782d1791676daf-1\\xgboost\\xgboost-ci-windows\\src\\learner.cc:742: \n",
      "Parameters: { \"criterion\" } are not used.\n",
      "\n",
      "  warnings.warn(smsg, UserWarning)\n",
      "c:\\Users\\loren\\anaconda3\\envs\\TensorFlow\\lib\\site-packages\\xgboost\\core.py:160: UserWarning: [10:52:25] WARNING: C:\\buildkite-agent\\builds\\buildkite-windows-cpu-autoscaling-group-i-0b3782d1791676daf-1\\xgboost\\xgboost-ci-windows\\src\\learner.cc:742: \n",
      "Parameters: { \"criterion\" } are not used.\n",
      "\n",
      "  warnings.warn(smsg, UserWarning)\n"
     ]
    },
    {
     "name": "stdout",
     "output_type": "stream",
     "text": [
      "#####################\n",
      "booster  gbtree\n",
      "n_estimators  50\n",
      "eta  0.3\n",
      "max_depth  5\n",
      "lambda  1.0\n",
      "criterion  gini\n",
      "max_leaves  5\n",
      "0.9196704428424305\n"
     ]
    },
    {
     "name": "stderr",
     "output_type": "stream",
     "text": [
      "c:\\Users\\loren\\anaconda3\\envs\\TensorFlow\\lib\\site-packages\\xgboost\\core.py:160: UserWarning: [10:52:25] WARNING: C:\\buildkite-agent\\builds\\buildkite-windows-cpu-autoscaling-group-i-0b3782d1791676daf-1\\xgboost\\xgboost-ci-windows\\src\\learner.cc:742: \n",
      "Parameters: { \"criterion\" } are not used.\n",
      "\n",
      "  warnings.warn(smsg, UserWarning)\n"
     ]
    },
    {
     "name": "stdout",
     "output_type": "stream",
     "text": [
      "#####################\n",
      "booster  gbtree\n",
      "n_estimators  50\n",
      "eta  0.3\n",
      "max_depth  5\n",
      "lambda  1.0\n",
      "criterion  entropy\n",
      "max_leaves  0\n",
      "0.937178166838311\n",
      "#####################\n",
      "booster  gbtree\n",
      "n_estimators  50\n",
      "eta  0.3\n",
      "max_depth  5\n",
      "lambda  1.0\n",
      "criterion  entropy\n",
      "max_leaves  1\n",
      "0.3388259526261586\n"
     ]
    },
    {
     "name": "stderr",
     "output_type": "stream",
     "text": [
      "c:\\Users\\loren\\anaconda3\\envs\\TensorFlow\\lib\\site-packages\\xgboost\\core.py:160: UserWarning: [10:52:26] WARNING: C:\\buildkite-agent\\builds\\buildkite-windows-cpu-autoscaling-group-i-0b3782d1791676daf-1\\xgboost\\xgboost-ci-windows\\src\\learner.cc:742: \n",
      "Parameters: { \"criterion\" } are not used.\n",
      "\n",
      "  warnings.warn(smsg, UserWarning)\n",
      "c:\\Users\\loren\\anaconda3\\envs\\TensorFlow\\lib\\site-packages\\xgboost\\core.py:160: UserWarning: [10:52:26] WARNING: C:\\buildkite-agent\\builds\\buildkite-windows-cpu-autoscaling-group-i-0b3782d1791676daf-1\\xgboost\\xgboost-ci-windows\\src\\learner.cc:742: \n",
      "Parameters: { \"criterion\" } are not used.\n",
      "\n",
      "  warnings.warn(smsg, UserWarning)\n"
     ]
    },
    {
     "name": "stdout",
     "output_type": "stream",
     "text": [
      "#####################\n",
      "booster  gbtree\n",
      "n_estimators  50\n",
      "eta  0.3\n",
      "max_depth  5\n",
      "lambda  1.0\n",
      "criterion  entropy\n",
      "max_leaves  5\n",
      "0.9196704428424305\n"
     ]
    },
    {
     "name": "stderr",
     "output_type": "stream",
     "text": [
      "c:\\Users\\loren\\anaconda3\\envs\\TensorFlow\\lib\\site-packages\\xgboost\\core.py:160: UserWarning: [10:52:26] WARNING: C:\\buildkite-agent\\builds\\buildkite-windows-cpu-autoscaling-group-i-0b3782d1791676daf-1\\xgboost\\xgboost-ci-windows\\src\\learner.cc:742: \n",
      "Parameters: { \"criterion\" } are not used.\n",
      "\n",
      "  warnings.warn(smsg, UserWarning)\n"
     ]
    },
    {
     "name": "stdout",
     "output_type": "stream",
     "text": [
      "#####################\n",
      "booster  gbtree\n",
      "n_estimators  50\n",
      "eta  0.3\n",
      "max_depth  5\n",
      "lambda  5.0\n",
      "criterion  gini\n",
      "max_leaves  0\n",
      "0.9382080329557158\n",
      "#####################\n",
      "booster  gbtree\n",
      "n_estimators  50\n",
      "eta  0.3\n",
      "max_depth  5\n",
      "lambda  5.0\n",
      "criterion  gini\n",
      "max_leaves  1\n",
      "0.3388259526261586\n"
     ]
    },
    {
     "name": "stderr",
     "output_type": "stream",
     "text": [
      "c:\\Users\\loren\\anaconda3\\envs\\TensorFlow\\lib\\site-packages\\xgboost\\core.py:160: UserWarning: [10:52:26] WARNING: C:\\buildkite-agent\\builds\\buildkite-windows-cpu-autoscaling-group-i-0b3782d1791676daf-1\\xgboost\\xgboost-ci-windows\\src\\learner.cc:742: \n",
      "Parameters: { \"criterion\" } are not used.\n",
      "\n",
      "  warnings.warn(smsg, UserWarning)\n",
      "c:\\Users\\loren\\anaconda3\\envs\\TensorFlow\\lib\\site-packages\\xgboost\\core.py:160: UserWarning: [10:52:27] WARNING: C:\\buildkite-agent\\builds\\buildkite-windows-cpu-autoscaling-group-i-0b3782d1791676daf-1\\xgboost\\xgboost-ci-windows\\src\\learner.cc:742: \n",
      "Parameters: { \"criterion\" } are not used.\n",
      "\n",
      "  warnings.warn(smsg, UserWarning)\n"
     ]
    },
    {
     "name": "stdout",
     "output_type": "stream",
     "text": [
      "#####################\n",
      "booster  gbtree\n",
      "n_estimators  50\n",
      "eta  0.3\n",
      "max_depth  5\n",
      "lambda  5.0\n",
      "criterion  gini\n",
      "max_leaves  5\n",
      "0.9083419155509783\n"
     ]
    },
    {
     "name": "stderr",
     "output_type": "stream",
     "text": [
      "c:\\Users\\loren\\anaconda3\\envs\\TensorFlow\\lib\\site-packages\\xgboost\\core.py:160: UserWarning: [10:52:27] WARNING: C:\\buildkite-agent\\builds\\buildkite-windows-cpu-autoscaling-group-i-0b3782d1791676daf-1\\xgboost\\xgboost-ci-windows\\src\\learner.cc:742: \n",
      "Parameters: { \"criterion\" } are not used.\n",
      "\n",
      "  warnings.warn(smsg, UserWarning)\n"
     ]
    },
    {
     "name": "stdout",
     "output_type": "stream",
     "text": [
      "#####################\n",
      "booster  gbtree\n",
      "n_estimators  50\n",
      "eta  0.3\n",
      "max_depth  5\n",
      "lambda  5.0\n",
      "criterion  entropy\n",
      "max_leaves  0\n",
      "0.9382080329557158\n",
      "#####################\n",
      "booster  gbtree\n",
      "n_estimators  50\n",
      "eta  0.3\n",
      "max_depth  5\n",
      "lambda  5.0\n",
      "criterion  entropy\n",
      "max_leaves  1\n",
      "0.3388259526261586\n"
     ]
    },
    {
     "name": "stderr",
     "output_type": "stream",
     "text": [
      "c:\\Users\\loren\\anaconda3\\envs\\TensorFlow\\lib\\site-packages\\xgboost\\core.py:160: UserWarning: [10:52:27] WARNING: C:\\buildkite-agent\\builds\\buildkite-windows-cpu-autoscaling-group-i-0b3782d1791676daf-1\\xgboost\\xgboost-ci-windows\\src\\learner.cc:742: \n",
      "Parameters: { \"criterion\" } are not used.\n",
      "\n",
      "  warnings.warn(smsg, UserWarning)\n",
      "c:\\Users\\loren\\anaconda3\\envs\\TensorFlow\\lib\\site-packages\\xgboost\\core.py:160: UserWarning: [10:52:27] WARNING: C:\\buildkite-agent\\builds\\buildkite-windows-cpu-autoscaling-group-i-0b3782d1791676daf-1\\xgboost\\xgboost-ci-windows\\src\\learner.cc:742: \n",
      "Parameters: { \"criterion\" } are not used.\n",
      "\n",
      "  warnings.warn(smsg, UserWarning)\n"
     ]
    },
    {
     "name": "stdout",
     "output_type": "stream",
     "text": [
      "#####################\n",
      "booster  gbtree\n",
      "n_estimators  50\n",
      "eta  0.3\n",
      "max_depth  5\n",
      "lambda  5.0\n",
      "criterion  entropy\n",
      "max_leaves  5\n",
      "0.9083419155509783\n"
     ]
    },
    {
     "name": "stderr",
     "output_type": "stream",
     "text": [
      "c:\\Users\\loren\\anaconda3\\envs\\TensorFlow\\lib\\site-packages\\xgboost\\core.py:160: UserWarning: [10:52:27] WARNING: C:\\buildkite-agent\\builds\\buildkite-windows-cpu-autoscaling-group-i-0b3782d1791676daf-1\\xgboost\\xgboost-ci-windows\\src\\learner.cc:742: \n",
      "Parameters: { \"criterion\" } are not used.\n",
      "\n",
      "  warnings.warn(smsg, UserWarning)\n"
     ]
    },
    {
     "name": "stdout",
     "output_type": "stream",
     "text": [
      "#####################\n",
      "booster  gbtree\n",
      "n_estimators  50\n",
      "eta  0.3\n",
      "max_depth  10\n",
      "lambda  0.0\n",
      "criterion  gini\n",
      "max_leaves  0\n",
      "0.9433573635427395\n",
      "#####################\n",
      "booster  gbtree\n",
      "n_estimators  50\n",
      "eta  0.3\n",
      "max_depth  10\n",
      "lambda  0.0\n",
      "criterion  gini\n",
      "max_leaves  1\n",
      "0.3388259526261586\n"
     ]
    },
    {
     "name": "stderr",
     "output_type": "stream",
     "text": [
      "c:\\Users\\loren\\anaconda3\\envs\\TensorFlow\\lib\\site-packages\\xgboost\\core.py:160: UserWarning: [10:52:28] WARNING: C:\\buildkite-agent\\builds\\buildkite-windows-cpu-autoscaling-group-i-0b3782d1791676daf-1\\xgboost\\xgboost-ci-windows\\src\\learner.cc:742: \n",
      "Parameters: { \"criterion\" } are not used.\n",
      "\n",
      "  warnings.warn(smsg, UserWarning)\n",
      "c:\\Users\\loren\\anaconda3\\envs\\TensorFlow\\lib\\site-packages\\xgboost\\core.py:160: UserWarning: [10:52:29] WARNING: C:\\buildkite-agent\\builds\\buildkite-windows-cpu-autoscaling-group-i-0b3782d1791676daf-1\\xgboost\\xgboost-ci-windows\\src\\learner.cc:742: \n",
      "Parameters: { \"criterion\" } are not used.\n",
      "\n",
      "  warnings.warn(smsg, UserWarning)\n"
     ]
    },
    {
     "name": "stdout",
     "output_type": "stream",
     "text": [
      "#####################\n",
      "booster  gbtree\n",
      "n_estimators  50\n",
      "eta  0.3\n",
      "max_depth  10\n",
      "lambda  0.0\n",
      "criterion  gini\n",
      "max_leaves  5\n",
      "0.9124613800205973\n"
     ]
    },
    {
     "name": "stderr",
     "output_type": "stream",
     "text": [
      "c:\\Users\\loren\\anaconda3\\envs\\TensorFlow\\lib\\site-packages\\xgboost\\core.py:160: UserWarning: [10:52:29] WARNING: C:\\buildkite-agent\\builds\\buildkite-windows-cpu-autoscaling-group-i-0b3782d1791676daf-1\\xgboost\\xgboost-ci-windows\\src\\learner.cc:742: \n",
      "Parameters: { \"criterion\" } are not used.\n",
      "\n",
      "  warnings.warn(smsg, UserWarning)\n"
     ]
    },
    {
     "name": "stdout",
     "output_type": "stream",
     "text": [
      "#####################\n",
      "booster  gbtree\n",
      "n_estimators  50\n",
      "eta  0.3\n",
      "max_depth  10\n",
      "lambda  0.0\n",
      "criterion  entropy\n",
      "max_leaves  0\n",
      "0.9433573635427395\n",
      "#####################\n",
      "booster  gbtree\n",
      "n_estimators  50\n",
      "eta  0.3\n",
      "max_depth  10\n",
      "lambda  0.0\n",
      "criterion  entropy\n",
      "max_leaves  1\n",
      "0.3388259526261586\n"
     ]
    },
    {
     "name": "stderr",
     "output_type": "stream",
     "text": [
      "c:\\Users\\loren\\anaconda3\\envs\\TensorFlow\\lib\\site-packages\\xgboost\\core.py:160: UserWarning: [10:52:30] WARNING: C:\\buildkite-agent\\builds\\buildkite-windows-cpu-autoscaling-group-i-0b3782d1791676daf-1\\xgboost\\xgboost-ci-windows\\src\\learner.cc:742: \n",
      "Parameters: { \"criterion\" } are not used.\n",
      "\n",
      "  warnings.warn(smsg, UserWarning)\n",
      "c:\\Users\\loren\\anaconda3\\envs\\TensorFlow\\lib\\site-packages\\xgboost\\core.py:160: UserWarning: [10:52:30] WARNING: C:\\buildkite-agent\\builds\\buildkite-windows-cpu-autoscaling-group-i-0b3782d1791676daf-1\\xgboost\\xgboost-ci-windows\\src\\learner.cc:742: \n",
      "Parameters: { \"criterion\" } are not used.\n",
      "\n",
      "  warnings.warn(smsg, UserWarning)\n"
     ]
    },
    {
     "name": "stdout",
     "output_type": "stream",
     "text": [
      "#####################\n",
      "booster  gbtree\n",
      "n_estimators  50\n",
      "eta  0.3\n",
      "max_depth  10\n",
      "lambda  0.0\n",
      "criterion  entropy\n",
      "max_leaves  5\n",
      "0.9124613800205973\n"
     ]
    },
    {
     "name": "stderr",
     "output_type": "stream",
     "text": [
      "c:\\Users\\loren\\anaconda3\\envs\\TensorFlow\\lib\\site-packages\\xgboost\\core.py:160: UserWarning: [10:52:30] WARNING: C:\\buildkite-agent\\builds\\buildkite-windows-cpu-autoscaling-group-i-0b3782d1791676daf-1\\xgboost\\xgboost-ci-windows\\src\\learner.cc:742: \n",
      "Parameters: { \"criterion\" } are not used.\n",
      "\n",
      "  warnings.warn(smsg, UserWarning)\n"
     ]
    },
    {
     "name": "stdout",
     "output_type": "stream",
     "text": [
      "#####################\n",
      "booster  gbtree\n",
      "n_estimators  50\n",
      "eta  0.3\n",
      "max_depth  10\n",
      "lambda  1.0\n",
      "criterion  gini\n",
      "max_leaves  0\n",
      "0.9464469618949537\n",
      "#####################\n",
      "booster  gbtree\n",
      "n_estimators  50\n",
      "eta  0.3\n",
      "max_depth  10\n",
      "lambda  1.0\n",
      "criterion  gini\n",
      "max_leaves  1\n",
      "0.3388259526261586\n"
     ]
    },
    {
     "name": "stderr",
     "output_type": "stream",
     "text": [
      "c:\\Users\\loren\\anaconda3\\envs\\TensorFlow\\lib\\site-packages\\xgboost\\core.py:160: UserWarning: [10:52:31] WARNING: C:\\buildkite-agent\\builds\\buildkite-windows-cpu-autoscaling-group-i-0b3782d1791676daf-1\\xgboost\\xgboost-ci-windows\\src\\learner.cc:742: \n",
      "Parameters: { \"criterion\" } are not used.\n",
      "\n",
      "  warnings.warn(smsg, UserWarning)\n",
      "c:\\Users\\loren\\anaconda3\\envs\\TensorFlow\\lib\\site-packages\\xgboost\\core.py:160: UserWarning: [10:52:31] WARNING: C:\\buildkite-agent\\builds\\buildkite-windows-cpu-autoscaling-group-i-0b3782d1791676daf-1\\xgboost\\xgboost-ci-windows\\src\\learner.cc:742: \n",
      "Parameters: { \"criterion\" } are not used.\n",
      "\n",
      "  warnings.warn(smsg, UserWarning)\n"
     ]
    },
    {
     "name": "stdout",
     "output_type": "stream",
     "text": [
      "#####################\n",
      "booster  gbtree\n",
      "n_estimators  50\n",
      "eta  0.3\n",
      "max_depth  10\n",
      "lambda  1.0\n",
      "criterion  gini\n",
      "max_leaves  5\n",
      "0.9196704428424305\n"
     ]
    },
    {
     "name": "stderr",
     "output_type": "stream",
     "text": [
      "c:\\Users\\loren\\anaconda3\\envs\\TensorFlow\\lib\\site-packages\\xgboost\\core.py:160: UserWarning: [10:52:31] WARNING: C:\\buildkite-agent\\builds\\buildkite-windows-cpu-autoscaling-group-i-0b3782d1791676daf-1\\xgboost\\xgboost-ci-windows\\src\\learner.cc:742: \n",
      "Parameters: { \"criterion\" } are not used.\n",
      "\n",
      "  warnings.warn(smsg, UserWarning)\n"
     ]
    },
    {
     "name": "stdout",
     "output_type": "stream",
     "text": [
      "#####################\n",
      "booster  gbtree\n",
      "n_estimators  50\n",
      "eta  0.3\n",
      "max_depth  10\n",
      "lambda  1.0\n",
      "criterion  entropy\n",
      "max_leaves  0\n",
      "0.9464469618949537\n",
      "#####################\n",
      "booster  gbtree\n",
      "n_estimators  50\n",
      "eta  0.3\n",
      "max_depth  10\n",
      "lambda  1.0\n",
      "criterion  entropy\n",
      "max_leaves  1\n",
      "0.3388259526261586\n"
     ]
    },
    {
     "name": "stderr",
     "output_type": "stream",
     "text": [
      "c:\\Users\\loren\\anaconda3\\envs\\TensorFlow\\lib\\site-packages\\xgboost\\core.py:160: UserWarning: [10:52:32] WARNING: C:\\buildkite-agent\\builds\\buildkite-windows-cpu-autoscaling-group-i-0b3782d1791676daf-1\\xgboost\\xgboost-ci-windows\\src\\learner.cc:742: \n",
      "Parameters: { \"criterion\" } are not used.\n",
      "\n",
      "  warnings.warn(smsg, UserWarning)\n",
      "c:\\Users\\loren\\anaconda3\\envs\\TensorFlow\\lib\\site-packages\\xgboost\\core.py:160: UserWarning: [10:52:32] WARNING: C:\\buildkite-agent\\builds\\buildkite-windows-cpu-autoscaling-group-i-0b3782d1791676daf-1\\xgboost\\xgboost-ci-windows\\src\\learner.cc:742: \n",
      "Parameters: { \"criterion\" } are not used.\n",
      "\n",
      "  warnings.warn(smsg, UserWarning)\n"
     ]
    },
    {
     "name": "stdout",
     "output_type": "stream",
     "text": [
      "#####################\n",
      "booster  gbtree\n",
      "n_estimators  50\n",
      "eta  0.3\n",
      "max_depth  10\n",
      "lambda  1.0\n",
      "criterion  entropy\n",
      "max_leaves  5\n",
      "0.9196704428424305\n"
     ]
    },
    {
     "name": "stderr",
     "output_type": "stream",
     "text": [
      "c:\\Users\\loren\\anaconda3\\envs\\TensorFlow\\lib\\site-packages\\xgboost\\core.py:160: UserWarning: [10:52:32] WARNING: C:\\buildkite-agent\\builds\\buildkite-windows-cpu-autoscaling-group-i-0b3782d1791676daf-1\\xgboost\\xgboost-ci-windows\\src\\learner.cc:742: \n",
      "Parameters: { \"criterion\" } are not used.\n",
      "\n",
      "  warnings.warn(smsg, UserWarning)\n"
     ]
    },
    {
     "name": "stdout",
     "output_type": "stream",
     "text": [
      "#####################\n",
      "booster  gbtree\n",
      "n_estimators  50\n",
      "eta  0.3\n",
      "max_depth  10\n",
      "lambda  5.0\n",
      "criterion  gini\n",
      "max_leaves  0\n",
      "0.9433573635427395\n",
      "#####################\n",
      "booster  gbtree\n",
      "n_estimators  50\n",
      "eta  0.3\n",
      "max_depth  10\n",
      "lambda  5.0\n",
      "criterion  gini\n",
      "max_leaves  1\n",
      "0.3388259526261586\n"
     ]
    },
    {
     "name": "stderr",
     "output_type": "stream",
     "text": [
      "c:\\Users\\loren\\anaconda3\\envs\\TensorFlow\\lib\\site-packages\\xgboost\\core.py:160: UserWarning: [10:52:33] WARNING: C:\\buildkite-agent\\builds\\buildkite-windows-cpu-autoscaling-group-i-0b3782d1791676daf-1\\xgboost\\xgboost-ci-windows\\src\\learner.cc:742: \n",
      "Parameters: { \"criterion\" } are not used.\n",
      "\n",
      "  warnings.warn(smsg, UserWarning)\n",
      "c:\\Users\\loren\\anaconda3\\envs\\TensorFlow\\lib\\site-packages\\xgboost\\core.py:160: UserWarning: [10:52:33] WARNING: C:\\buildkite-agent\\builds\\buildkite-windows-cpu-autoscaling-group-i-0b3782d1791676daf-1\\xgboost\\xgboost-ci-windows\\src\\learner.cc:742: \n",
      "Parameters: { \"criterion\" } are not used.\n",
      "\n",
      "  warnings.warn(smsg, UserWarning)\n"
     ]
    },
    {
     "name": "stdout",
     "output_type": "stream",
     "text": [
      "#####################\n",
      "booster  gbtree\n",
      "n_estimators  50\n",
      "eta  0.3\n",
      "max_depth  10\n",
      "lambda  5.0\n",
      "criterion  gini\n",
      "max_leaves  5\n",
      "0.9083419155509783\n"
     ]
    },
    {
     "name": "stderr",
     "output_type": "stream",
     "text": [
      "c:\\Users\\loren\\anaconda3\\envs\\TensorFlow\\lib\\site-packages\\xgboost\\core.py:160: UserWarning: [10:52:33] WARNING: C:\\buildkite-agent\\builds\\buildkite-windows-cpu-autoscaling-group-i-0b3782d1791676daf-1\\xgboost\\xgboost-ci-windows\\src\\learner.cc:742: \n",
      "Parameters: { \"criterion\" } are not used.\n",
      "\n",
      "  warnings.warn(smsg, UserWarning)\n"
     ]
    },
    {
     "name": "stdout",
     "output_type": "stream",
     "text": [
      "#####################\n",
      "booster  gbtree\n",
      "n_estimators  50\n",
      "eta  0.3\n",
      "max_depth  10\n",
      "lambda  5.0\n",
      "criterion  entropy\n",
      "max_leaves  0\n",
      "0.9433573635427395\n",
      "#####################\n",
      "booster  gbtree\n",
      "n_estimators  50\n",
      "eta  0.3\n",
      "max_depth  10\n",
      "lambda  5.0\n",
      "criterion  entropy\n",
      "max_leaves  1\n",
      "0.3388259526261586\n"
     ]
    },
    {
     "name": "stderr",
     "output_type": "stream",
     "text": [
      "c:\\Users\\loren\\anaconda3\\envs\\TensorFlow\\lib\\site-packages\\xgboost\\core.py:160: UserWarning: [10:52:34] WARNING: C:\\buildkite-agent\\builds\\buildkite-windows-cpu-autoscaling-group-i-0b3782d1791676daf-1\\xgboost\\xgboost-ci-windows\\src\\learner.cc:742: \n",
      "Parameters: { \"criterion\" } are not used.\n",
      "\n",
      "  warnings.warn(smsg, UserWarning)\n",
      "c:\\Users\\loren\\anaconda3\\envs\\TensorFlow\\lib\\site-packages\\xgboost\\core.py:160: UserWarning: [10:52:34] WARNING: C:\\buildkite-agent\\builds\\buildkite-windows-cpu-autoscaling-group-i-0b3782d1791676daf-1\\xgboost\\xgboost-ci-windows\\src\\learner.cc:742: \n",
      "Parameters: { \"criterion\" } are not used.\n",
      "\n",
      "  warnings.warn(smsg, UserWarning)\n"
     ]
    },
    {
     "name": "stdout",
     "output_type": "stream",
     "text": [
      "#####################\n",
      "booster  gbtree\n",
      "n_estimators  50\n",
      "eta  0.3\n",
      "max_depth  10\n",
      "lambda  5.0\n",
      "criterion  entropy\n",
      "max_leaves  5\n",
      "0.9083419155509783\n"
     ]
    },
    {
     "name": "stderr",
     "output_type": "stream",
     "text": [
      "c:\\Users\\loren\\anaconda3\\envs\\TensorFlow\\lib\\site-packages\\xgboost\\core.py:160: UserWarning: [10:52:34] WARNING: C:\\buildkite-agent\\builds\\buildkite-windows-cpu-autoscaling-group-i-0b3782d1791676daf-1\\xgboost\\xgboost-ci-windows\\src\\learner.cc:742: \n",
      "Parameters: { \"criterion\" } are not used.\n",
      "\n",
      "  warnings.warn(smsg, UserWarning)\n"
     ]
    },
    {
     "name": "stdout",
     "output_type": "stream",
     "text": [
      "#####################\n",
      "booster  gbtree\n",
      "n_estimators  50\n",
      "eta  0.3\n",
      "max_depth  20\n",
      "lambda  0.0\n",
      "criterion  gini\n",
      "max_leaves  0\n",
      "0.9433573635427395\n",
      "#####################\n",
      "booster  gbtree\n",
      "n_estimators  50\n",
      "eta  0.3\n",
      "max_depth  20\n",
      "lambda  0.0\n",
      "criterion  gini\n",
      "max_leaves  1\n",
      "0.3388259526261586\n"
     ]
    },
    {
     "name": "stderr",
     "output_type": "stream",
     "text": [
      "c:\\Users\\loren\\anaconda3\\envs\\TensorFlow\\lib\\site-packages\\xgboost\\core.py:160: UserWarning: [10:52:36] WARNING: C:\\buildkite-agent\\builds\\buildkite-windows-cpu-autoscaling-group-i-0b3782d1791676daf-1\\xgboost\\xgboost-ci-windows\\src\\learner.cc:742: \n",
      "Parameters: { \"criterion\" } are not used.\n",
      "\n",
      "  warnings.warn(smsg, UserWarning)\n",
      "c:\\Users\\loren\\anaconda3\\envs\\TensorFlow\\lib\\site-packages\\xgboost\\core.py:160: UserWarning: [10:52:36] WARNING: C:\\buildkite-agent\\builds\\buildkite-windows-cpu-autoscaling-group-i-0b3782d1791676daf-1\\xgboost\\xgboost-ci-windows\\src\\learner.cc:742: \n",
      "Parameters: { \"criterion\" } are not used.\n",
      "\n",
      "  warnings.warn(smsg, UserWarning)\n"
     ]
    },
    {
     "name": "stdout",
     "output_type": "stream",
     "text": [
      "#####################\n",
      "booster  gbtree\n",
      "n_estimators  50\n",
      "eta  0.3\n",
      "max_depth  20\n",
      "lambda  0.0\n",
      "criterion  gini\n",
      "max_leaves  5\n",
      "0.9124613800205973\n"
     ]
    },
    {
     "name": "stderr",
     "output_type": "stream",
     "text": [
      "c:\\Users\\loren\\anaconda3\\envs\\TensorFlow\\lib\\site-packages\\xgboost\\core.py:160: UserWarning: [10:52:37] WARNING: C:\\buildkite-agent\\builds\\buildkite-windows-cpu-autoscaling-group-i-0b3782d1791676daf-1\\xgboost\\xgboost-ci-windows\\src\\learner.cc:742: \n",
      "Parameters: { \"criterion\" } are not used.\n",
      "\n",
      "  warnings.warn(smsg, UserWarning)\n"
     ]
    },
    {
     "name": "stdout",
     "output_type": "stream",
     "text": [
      "#####################\n",
      "booster  gbtree\n",
      "n_estimators  50\n",
      "eta  0.3\n",
      "max_depth  20\n",
      "lambda  0.0\n",
      "criterion  entropy\n",
      "max_leaves  0\n",
      "0.9433573635427395\n",
      "#####################\n",
      "booster  gbtree\n",
      "n_estimators  50\n",
      "eta  0.3\n",
      "max_depth  20\n",
      "lambda  0.0\n",
      "criterion  entropy\n",
      "max_leaves  1\n",
      "0.3388259526261586\n"
     ]
    },
    {
     "name": "stderr",
     "output_type": "stream",
     "text": [
      "c:\\Users\\loren\\anaconda3\\envs\\TensorFlow\\lib\\site-packages\\xgboost\\core.py:160: UserWarning: [10:52:39] WARNING: C:\\buildkite-agent\\builds\\buildkite-windows-cpu-autoscaling-group-i-0b3782d1791676daf-1\\xgboost\\xgboost-ci-windows\\src\\learner.cc:742: \n",
      "Parameters: { \"criterion\" } are not used.\n",
      "\n",
      "  warnings.warn(smsg, UserWarning)\n",
      "c:\\Users\\loren\\anaconda3\\envs\\TensorFlow\\lib\\site-packages\\xgboost\\core.py:160: UserWarning: [10:52:39] WARNING: C:\\buildkite-agent\\builds\\buildkite-windows-cpu-autoscaling-group-i-0b3782d1791676daf-1\\xgboost\\xgboost-ci-windows\\src\\learner.cc:742: \n",
      "Parameters: { \"criterion\" } are not used.\n",
      "\n",
      "  warnings.warn(smsg, UserWarning)\n"
     ]
    },
    {
     "name": "stdout",
     "output_type": "stream",
     "text": [
      "#####################\n",
      "booster  gbtree\n",
      "n_estimators  50\n",
      "eta  0.3\n",
      "max_depth  20\n",
      "lambda  0.0\n",
      "criterion  entropy\n",
      "max_leaves  5\n",
      "0.9124613800205973\n"
     ]
    },
    {
     "name": "stderr",
     "output_type": "stream",
     "text": [
      "c:\\Users\\loren\\anaconda3\\envs\\TensorFlow\\lib\\site-packages\\xgboost\\core.py:160: UserWarning: [10:52:39] WARNING: C:\\buildkite-agent\\builds\\buildkite-windows-cpu-autoscaling-group-i-0b3782d1791676daf-1\\xgboost\\xgboost-ci-windows\\src\\learner.cc:742: \n",
      "Parameters: { \"criterion\" } are not used.\n",
      "\n",
      "  warnings.warn(smsg, UserWarning)\n"
     ]
    },
    {
     "name": "stdout",
     "output_type": "stream",
     "text": [
      "#####################\n",
      "booster  gbtree\n",
      "n_estimators  50\n",
      "eta  0.3\n",
      "max_depth  20\n",
      "lambda  1.0\n",
      "criterion  gini\n",
      "max_leaves  0\n",
      "0.9443872296601442\n",
      "#####################\n",
      "booster  gbtree\n",
      "n_estimators  50\n",
      "eta  0.3\n",
      "max_depth  20\n",
      "lambda  1.0\n",
      "criterion  gini\n",
      "max_leaves  1\n",
      "0.3388259526261586\n"
     ]
    },
    {
     "name": "stderr",
     "output_type": "stream",
     "text": [
      "c:\\Users\\loren\\anaconda3\\envs\\TensorFlow\\lib\\site-packages\\xgboost\\core.py:160: UserWarning: [10:52:40] WARNING: C:\\buildkite-agent\\builds\\buildkite-windows-cpu-autoscaling-group-i-0b3782d1791676daf-1\\xgboost\\xgboost-ci-windows\\src\\learner.cc:742: \n",
      "Parameters: { \"criterion\" } are not used.\n",
      "\n",
      "  warnings.warn(smsg, UserWarning)\n",
      "c:\\Users\\loren\\anaconda3\\envs\\TensorFlow\\lib\\site-packages\\xgboost\\core.py:160: UserWarning: [10:52:40] WARNING: C:\\buildkite-agent\\builds\\buildkite-windows-cpu-autoscaling-group-i-0b3782d1791676daf-1\\xgboost\\xgboost-ci-windows\\src\\learner.cc:742: \n",
      "Parameters: { \"criterion\" } are not used.\n",
      "\n",
      "  warnings.warn(smsg, UserWarning)\n"
     ]
    },
    {
     "name": "stdout",
     "output_type": "stream",
     "text": [
      "#####################\n",
      "booster  gbtree\n",
      "n_estimators  50\n",
      "eta  0.3\n",
      "max_depth  20\n",
      "lambda  1.0\n",
      "criterion  gini\n",
      "max_leaves  5\n",
      "0.9196704428424305\n"
     ]
    },
    {
     "name": "stderr",
     "output_type": "stream",
     "text": [
      "c:\\Users\\loren\\anaconda3\\envs\\TensorFlow\\lib\\site-packages\\xgboost\\core.py:160: UserWarning: [10:52:40] WARNING: C:\\buildkite-agent\\builds\\buildkite-windows-cpu-autoscaling-group-i-0b3782d1791676daf-1\\xgboost\\xgboost-ci-windows\\src\\learner.cc:742: \n",
      "Parameters: { \"criterion\" } are not used.\n",
      "\n",
      "  warnings.warn(smsg, UserWarning)\n"
     ]
    },
    {
     "name": "stdout",
     "output_type": "stream",
     "text": [
      "#####################\n",
      "booster  gbtree\n",
      "n_estimators  50\n",
      "eta  0.3\n",
      "max_depth  20\n",
      "lambda  1.0\n",
      "criterion  entropy\n",
      "max_leaves  0\n",
      "0.9443872296601442\n",
      "#####################\n",
      "booster  gbtree\n",
      "n_estimators  50\n",
      "eta  0.3\n",
      "max_depth  20\n",
      "lambda  1.0\n",
      "criterion  entropy\n",
      "max_leaves  1\n",
      "0.3388259526261586\n"
     ]
    },
    {
     "name": "stderr",
     "output_type": "stream",
     "text": [
      "c:\\Users\\loren\\anaconda3\\envs\\TensorFlow\\lib\\site-packages\\xgboost\\core.py:160: UserWarning: [10:52:41] WARNING: C:\\buildkite-agent\\builds\\buildkite-windows-cpu-autoscaling-group-i-0b3782d1791676daf-1\\xgboost\\xgboost-ci-windows\\src\\learner.cc:742: \n",
      "Parameters: { \"criterion\" } are not used.\n",
      "\n",
      "  warnings.warn(smsg, UserWarning)\n",
      "c:\\Users\\loren\\anaconda3\\envs\\TensorFlow\\lib\\site-packages\\xgboost\\core.py:160: UserWarning: [10:52:41] WARNING: C:\\buildkite-agent\\builds\\buildkite-windows-cpu-autoscaling-group-i-0b3782d1791676daf-1\\xgboost\\xgboost-ci-windows\\src\\learner.cc:742: \n",
      "Parameters: { \"criterion\" } are not used.\n",
      "\n",
      "  warnings.warn(smsg, UserWarning)\n"
     ]
    },
    {
     "name": "stdout",
     "output_type": "stream",
     "text": [
      "#####################\n",
      "booster  gbtree\n",
      "n_estimators  50\n",
      "eta  0.3\n",
      "max_depth  20\n",
      "lambda  1.0\n",
      "criterion  entropy\n",
      "max_leaves  5\n",
      "0.9196704428424305\n"
     ]
    },
    {
     "name": "stderr",
     "output_type": "stream",
     "text": [
      "c:\\Users\\loren\\anaconda3\\envs\\TensorFlow\\lib\\site-packages\\xgboost\\core.py:160: UserWarning: [10:52:42] WARNING: C:\\buildkite-agent\\builds\\buildkite-windows-cpu-autoscaling-group-i-0b3782d1791676daf-1\\xgboost\\xgboost-ci-windows\\src\\learner.cc:742: \n",
      "Parameters: { \"criterion\" } are not used.\n",
      "\n",
      "  warnings.warn(smsg, UserWarning)\n"
     ]
    },
    {
     "name": "stdout",
     "output_type": "stream",
     "text": [
      "#####################\n",
      "booster  gbtree\n",
      "n_estimators  50\n",
      "eta  0.3\n",
      "max_depth  20\n",
      "lambda  5.0\n",
      "criterion  gini\n",
      "max_leaves  0\n",
      "0.9402677651905252\n",
      "#####################\n",
      "booster  gbtree\n",
      "n_estimators  50\n",
      "eta  0.3\n",
      "max_depth  20\n",
      "lambda  5.0\n",
      "criterion  gini\n",
      "max_leaves  1\n",
      "0.3388259526261586\n"
     ]
    },
    {
     "name": "stderr",
     "output_type": "stream",
     "text": [
      "c:\\Users\\loren\\anaconda3\\envs\\TensorFlow\\lib\\site-packages\\xgboost\\core.py:160: UserWarning: [10:52:43] WARNING: C:\\buildkite-agent\\builds\\buildkite-windows-cpu-autoscaling-group-i-0b3782d1791676daf-1\\xgboost\\xgboost-ci-windows\\src\\learner.cc:742: \n",
      "Parameters: { \"criterion\" } are not used.\n",
      "\n",
      "  warnings.warn(smsg, UserWarning)\n",
      "c:\\Users\\loren\\anaconda3\\envs\\TensorFlow\\lib\\site-packages\\xgboost\\core.py:160: UserWarning: [10:52:43] WARNING: C:\\buildkite-agent\\builds\\buildkite-windows-cpu-autoscaling-group-i-0b3782d1791676daf-1\\xgboost\\xgboost-ci-windows\\src\\learner.cc:742: \n",
      "Parameters: { \"criterion\" } are not used.\n",
      "\n",
      "  warnings.warn(smsg, UserWarning)\n"
     ]
    },
    {
     "name": "stdout",
     "output_type": "stream",
     "text": [
      "#####################\n",
      "booster  gbtree\n",
      "n_estimators  50\n",
      "eta  0.3\n",
      "max_depth  20\n",
      "lambda  5.0\n",
      "criterion  gini\n",
      "max_leaves  5\n",
      "0.9083419155509783\n"
     ]
    },
    {
     "name": "stderr",
     "output_type": "stream",
     "text": [
      "c:\\Users\\loren\\anaconda3\\envs\\TensorFlow\\lib\\site-packages\\xgboost\\core.py:160: UserWarning: [10:52:43] WARNING: C:\\buildkite-agent\\builds\\buildkite-windows-cpu-autoscaling-group-i-0b3782d1791676daf-1\\xgboost\\xgboost-ci-windows\\src\\learner.cc:742: \n",
      "Parameters: { \"criterion\" } are not used.\n",
      "\n",
      "  warnings.warn(smsg, UserWarning)\n"
     ]
    },
    {
     "name": "stdout",
     "output_type": "stream",
     "text": [
      "#####################\n",
      "booster  gbtree\n",
      "n_estimators  50\n",
      "eta  0.3\n",
      "max_depth  20\n",
      "lambda  5.0\n",
      "criterion  entropy\n",
      "max_leaves  0\n",
      "0.9402677651905252\n",
      "#####################\n",
      "booster  gbtree\n",
      "n_estimators  50\n",
      "eta  0.3\n",
      "max_depth  20\n",
      "lambda  5.0\n",
      "criterion  entropy\n",
      "max_leaves  1\n",
      "0.3388259526261586\n"
     ]
    },
    {
     "name": "stderr",
     "output_type": "stream",
     "text": [
      "c:\\Users\\loren\\anaconda3\\envs\\TensorFlow\\lib\\site-packages\\xgboost\\core.py:160: UserWarning: [10:52:44] WARNING: C:\\buildkite-agent\\builds\\buildkite-windows-cpu-autoscaling-group-i-0b3782d1791676daf-1\\xgboost\\xgboost-ci-windows\\src\\learner.cc:742: \n",
      "Parameters: { \"criterion\" } are not used.\n",
      "\n",
      "  warnings.warn(smsg, UserWarning)\n",
      "c:\\Users\\loren\\anaconda3\\envs\\TensorFlow\\lib\\site-packages\\xgboost\\core.py:160: UserWarning: [10:52:44] WARNING: C:\\buildkite-agent\\builds\\buildkite-windows-cpu-autoscaling-group-i-0b3782d1791676daf-1\\xgboost\\xgboost-ci-windows\\src\\learner.cc:742: \n",
      "Parameters: { \"criterion\" } are not used.\n",
      "\n",
      "  warnings.warn(smsg, UserWarning)\n"
     ]
    },
    {
     "name": "stdout",
     "output_type": "stream",
     "text": [
      "#####################\n",
      "booster  gbtree\n",
      "n_estimators  50\n",
      "eta  0.3\n",
      "max_depth  20\n",
      "lambda  5.0\n",
      "criterion  entropy\n",
      "max_leaves  5\n",
      "0.9083419155509783\n"
     ]
    },
    {
     "name": "stderr",
     "output_type": "stream",
     "text": [
      "c:\\Users\\loren\\anaconda3\\envs\\TensorFlow\\lib\\site-packages\\xgboost\\core.py:160: UserWarning: [10:52:44] WARNING: C:\\buildkite-agent\\builds\\buildkite-windows-cpu-autoscaling-group-i-0b3782d1791676daf-1\\xgboost\\xgboost-ci-windows\\src\\learner.cc:742: \n",
      "Parameters: { \"criterion\" } are not used.\n",
      "\n",
      "  warnings.warn(smsg, UserWarning)\n"
     ]
    },
    {
     "name": "stdout",
     "output_type": "stream",
     "text": [
      "#####################\n",
      "booster  gbtree\n",
      "n_estimators  50\n",
      "eta  0.3\n",
      "max_depth  30\n",
      "lambda  0.0\n",
      "criterion  gini\n",
      "max_leaves  0\n",
      "0.942842430484037\n",
      "#####################\n",
      "booster  gbtree\n",
      "n_estimators  50\n",
      "eta  0.3\n",
      "max_depth  30\n",
      "lambda  0.0\n",
      "criterion  gini\n",
      "max_leaves  1\n",
      "0.3388259526261586\n"
     ]
    },
    {
     "name": "stderr",
     "output_type": "stream",
     "text": [
      "c:\\Users\\loren\\anaconda3\\envs\\TensorFlow\\lib\\site-packages\\xgboost\\core.py:160: UserWarning: [10:52:47] WARNING: C:\\buildkite-agent\\builds\\buildkite-windows-cpu-autoscaling-group-i-0b3782d1791676daf-1\\xgboost\\xgboost-ci-windows\\src\\learner.cc:742: \n",
      "Parameters: { \"criterion\" } are not used.\n",
      "\n",
      "  warnings.warn(smsg, UserWarning)\n",
      "c:\\Users\\loren\\anaconda3\\envs\\TensorFlow\\lib\\site-packages\\xgboost\\core.py:160: UserWarning: [10:52:47] WARNING: C:\\buildkite-agent\\builds\\buildkite-windows-cpu-autoscaling-group-i-0b3782d1791676daf-1\\xgboost\\xgboost-ci-windows\\src\\learner.cc:742: \n",
      "Parameters: { \"criterion\" } are not used.\n",
      "\n",
      "  warnings.warn(smsg, UserWarning)\n"
     ]
    },
    {
     "name": "stdout",
     "output_type": "stream",
     "text": [
      "#####################\n",
      "booster  gbtree\n",
      "n_estimators  50\n",
      "eta  0.3\n",
      "max_depth  30\n",
      "lambda  0.0\n",
      "criterion  gini\n",
      "max_leaves  5\n",
      "0.9124613800205973\n"
     ]
    },
    {
     "name": "stderr",
     "output_type": "stream",
     "text": [
      "c:\\Users\\loren\\anaconda3\\envs\\TensorFlow\\lib\\site-packages\\xgboost\\core.py:160: UserWarning: [10:52:47] WARNING: C:\\buildkite-agent\\builds\\buildkite-windows-cpu-autoscaling-group-i-0b3782d1791676daf-1\\xgboost\\xgboost-ci-windows\\src\\learner.cc:742: \n",
      "Parameters: { \"criterion\" } are not used.\n",
      "\n",
      "  warnings.warn(smsg, UserWarning)\n"
     ]
    },
    {
     "name": "stdout",
     "output_type": "stream",
     "text": [
      "#####################\n",
      "booster  gbtree\n",
      "n_estimators  50\n",
      "eta  0.3\n",
      "max_depth  30\n",
      "lambda  0.0\n",
      "criterion  entropy\n",
      "max_leaves  0\n",
      "0.942842430484037\n",
      "#####################\n",
      "booster  gbtree\n",
      "n_estimators  50\n",
      "eta  0.3\n",
      "max_depth  30\n",
      "lambda  0.0\n",
      "criterion  entropy\n",
      "max_leaves  1\n",
      "0.3388259526261586\n"
     ]
    },
    {
     "name": "stderr",
     "output_type": "stream",
     "text": [
      "c:\\Users\\loren\\anaconda3\\envs\\TensorFlow\\lib\\site-packages\\xgboost\\core.py:160: UserWarning: [10:52:50] WARNING: C:\\buildkite-agent\\builds\\buildkite-windows-cpu-autoscaling-group-i-0b3782d1791676daf-1\\xgboost\\xgboost-ci-windows\\src\\learner.cc:742: \n",
      "Parameters: { \"criterion\" } are not used.\n",
      "\n",
      "  warnings.warn(smsg, UserWarning)\n",
      "c:\\Users\\loren\\anaconda3\\envs\\TensorFlow\\lib\\site-packages\\xgboost\\core.py:160: UserWarning: [10:52:50] WARNING: C:\\buildkite-agent\\builds\\buildkite-windows-cpu-autoscaling-group-i-0b3782d1791676daf-1\\xgboost\\xgboost-ci-windows\\src\\learner.cc:742: \n",
      "Parameters: { \"criterion\" } are not used.\n",
      "\n",
      "  warnings.warn(smsg, UserWarning)\n"
     ]
    },
    {
     "name": "stdout",
     "output_type": "stream",
     "text": [
      "#####################\n",
      "booster  gbtree\n",
      "n_estimators  50\n",
      "eta  0.3\n",
      "max_depth  30\n",
      "lambda  0.0\n",
      "criterion  entropy\n",
      "max_leaves  5\n",
      "0.9124613800205973\n"
     ]
    },
    {
     "name": "stderr",
     "output_type": "stream",
     "text": [
      "c:\\Users\\loren\\anaconda3\\envs\\TensorFlow\\lib\\site-packages\\xgboost\\core.py:160: UserWarning: [10:52:50] WARNING: C:\\buildkite-agent\\builds\\buildkite-windows-cpu-autoscaling-group-i-0b3782d1791676daf-1\\xgboost\\xgboost-ci-windows\\src\\learner.cc:742: \n",
      "Parameters: { \"criterion\" } are not used.\n",
      "\n",
      "  warnings.warn(smsg, UserWarning)\n"
     ]
    },
    {
     "name": "stdout",
     "output_type": "stream",
     "text": [
      "#####################\n",
      "booster  gbtree\n",
      "n_estimators  50\n",
      "eta  0.3\n",
      "max_depth  30\n",
      "lambda  1.0\n",
      "criterion  gini\n",
      "max_leaves  0\n",
      "0.9438722966014418\n",
      "#####################\n",
      "booster  gbtree\n",
      "n_estimators  50\n",
      "eta  0.3\n",
      "max_depth  30\n",
      "lambda  1.0\n",
      "criterion  gini\n",
      "max_leaves  1\n",
      "0.3388259526261586\n"
     ]
    },
    {
     "name": "stderr",
     "output_type": "stream",
     "text": [
      "c:\\Users\\loren\\anaconda3\\envs\\TensorFlow\\lib\\site-packages\\xgboost\\core.py:160: UserWarning: [10:52:51] WARNING: C:\\buildkite-agent\\builds\\buildkite-windows-cpu-autoscaling-group-i-0b3782d1791676daf-1\\xgboost\\xgboost-ci-windows\\src\\learner.cc:742: \n",
      "Parameters: { \"criterion\" } are not used.\n",
      "\n",
      "  warnings.warn(smsg, UserWarning)\n",
      "c:\\Users\\loren\\anaconda3\\envs\\TensorFlow\\lib\\site-packages\\xgboost\\core.py:160: UserWarning: [10:52:51] WARNING: C:\\buildkite-agent\\builds\\buildkite-windows-cpu-autoscaling-group-i-0b3782d1791676daf-1\\xgboost\\xgboost-ci-windows\\src\\learner.cc:742: \n",
      "Parameters: { \"criterion\" } are not used.\n",
      "\n",
      "  warnings.warn(smsg, UserWarning)\n"
     ]
    },
    {
     "name": "stdout",
     "output_type": "stream",
     "text": [
      "#####################\n",
      "booster  gbtree\n",
      "n_estimators  50\n",
      "eta  0.3\n",
      "max_depth  30\n",
      "lambda  1.0\n",
      "criterion  gini\n",
      "max_leaves  5\n",
      "0.9196704428424305\n"
     ]
    },
    {
     "name": "stderr",
     "output_type": "stream",
     "text": [
      "c:\\Users\\loren\\anaconda3\\envs\\TensorFlow\\lib\\site-packages\\xgboost\\core.py:160: UserWarning: [10:52:51] WARNING: C:\\buildkite-agent\\builds\\buildkite-windows-cpu-autoscaling-group-i-0b3782d1791676daf-1\\xgboost\\xgboost-ci-windows\\src\\learner.cc:742: \n",
      "Parameters: { \"criterion\" } are not used.\n",
      "\n",
      "  warnings.warn(smsg, UserWarning)\n"
     ]
    },
    {
     "name": "stdout",
     "output_type": "stream",
     "text": [
      "#####################\n",
      "booster  gbtree\n",
      "n_estimators  50\n",
      "eta  0.3\n",
      "max_depth  30\n",
      "lambda  1.0\n",
      "criterion  entropy\n",
      "max_leaves  0\n",
      "0.9438722966014418\n",
      "#####################\n",
      "booster  gbtree\n",
      "n_estimators  50\n",
      "eta  0.3\n",
      "max_depth  30\n",
      "lambda  1.0\n",
      "criterion  entropy\n",
      "max_leaves  1\n",
      "0.3388259526261586\n"
     ]
    },
    {
     "name": "stderr",
     "output_type": "stream",
     "text": [
      "c:\\Users\\loren\\anaconda3\\envs\\TensorFlow\\lib\\site-packages\\xgboost\\core.py:160: UserWarning: [10:52:52] WARNING: C:\\buildkite-agent\\builds\\buildkite-windows-cpu-autoscaling-group-i-0b3782d1791676daf-1\\xgboost\\xgboost-ci-windows\\src\\learner.cc:742: \n",
      "Parameters: { \"criterion\" } are not used.\n",
      "\n",
      "  warnings.warn(smsg, UserWarning)\n",
      "c:\\Users\\loren\\anaconda3\\envs\\TensorFlow\\lib\\site-packages\\xgboost\\core.py:160: UserWarning: [10:52:52] WARNING: C:\\buildkite-agent\\builds\\buildkite-windows-cpu-autoscaling-group-i-0b3782d1791676daf-1\\xgboost\\xgboost-ci-windows\\src\\learner.cc:742: \n",
      "Parameters: { \"criterion\" } are not used.\n",
      "\n",
      "  warnings.warn(smsg, UserWarning)\n"
     ]
    },
    {
     "name": "stdout",
     "output_type": "stream",
     "text": [
      "#####################\n",
      "booster  gbtree\n",
      "n_estimators  50\n",
      "eta  0.3\n",
      "max_depth  30\n",
      "lambda  1.0\n",
      "criterion  entropy\n",
      "max_leaves  5\n",
      "0.9196704428424305\n"
     ]
    },
    {
     "name": "stderr",
     "output_type": "stream",
     "text": [
      "c:\\Users\\loren\\anaconda3\\envs\\TensorFlow\\lib\\site-packages\\xgboost\\core.py:160: UserWarning: [10:52:53] WARNING: C:\\buildkite-agent\\builds\\buildkite-windows-cpu-autoscaling-group-i-0b3782d1791676daf-1\\xgboost\\xgboost-ci-windows\\src\\learner.cc:742: \n",
      "Parameters: { \"criterion\" } are not used.\n",
      "\n",
      "  warnings.warn(smsg, UserWarning)\n"
     ]
    },
    {
     "name": "stdout",
     "output_type": "stream",
     "text": [
      "#####################\n",
      "booster  gbtree\n",
      "n_estimators  50\n",
      "eta  0.3\n",
      "max_depth  30\n",
      "lambda  5.0\n",
      "criterion  gini\n",
      "max_leaves  0\n",
      "0.9418125643666323\n",
      "#####################\n",
      "booster  gbtree\n",
      "n_estimators  50\n",
      "eta  0.3\n",
      "max_depth  30\n",
      "lambda  5.0\n",
      "criterion  gini\n",
      "max_leaves  1\n",
      "0.3388259526261586\n"
     ]
    },
    {
     "name": "stderr",
     "output_type": "stream",
     "text": [
      "c:\\Users\\loren\\anaconda3\\envs\\TensorFlow\\lib\\site-packages\\xgboost\\core.py:160: UserWarning: [10:52:54] WARNING: C:\\buildkite-agent\\builds\\buildkite-windows-cpu-autoscaling-group-i-0b3782d1791676daf-1\\xgboost\\xgboost-ci-windows\\src\\learner.cc:742: \n",
      "Parameters: { \"criterion\" } are not used.\n",
      "\n",
      "  warnings.warn(smsg, UserWarning)\n",
      "c:\\Users\\loren\\anaconda3\\envs\\TensorFlow\\lib\\site-packages\\xgboost\\core.py:160: UserWarning: [10:52:54] WARNING: C:\\buildkite-agent\\builds\\buildkite-windows-cpu-autoscaling-group-i-0b3782d1791676daf-1\\xgboost\\xgboost-ci-windows\\src\\learner.cc:742: \n",
      "Parameters: { \"criterion\" } are not used.\n",
      "\n",
      "  warnings.warn(smsg, UserWarning)\n"
     ]
    },
    {
     "name": "stdout",
     "output_type": "stream",
     "text": [
      "#####################\n",
      "booster  gbtree\n",
      "n_estimators  50\n",
      "eta  0.3\n",
      "max_depth  30\n",
      "lambda  5.0\n",
      "criterion  gini\n",
      "max_leaves  5\n",
      "0.9083419155509783\n"
     ]
    },
    {
     "name": "stderr",
     "output_type": "stream",
     "text": [
      "c:\\Users\\loren\\anaconda3\\envs\\TensorFlow\\lib\\site-packages\\xgboost\\core.py:160: UserWarning: [10:52:54] WARNING: C:\\buildkite-agent\\builds\\buildkite-windows-cpu-autoscaling-group-i-0b3782d1791676daf-1\\xgboost\\xgboost-ci-windows\\src\\learner.cc:742: \n",
      "Parameters: { \"criterion\" } are not used.\n",
      "\n",
      "  warnings.warn(smsg, UserWarning)\n"
     ]
    },
    {
     "name": "stdout",
     "output_type": "stream",
     "text": [
      "#####################\n",
      "booster  gbtree\n",
      "n_estimators  50\n",
      "eta  0.3\n",
      "max_depth  30\n",
      "lambda  5.0\n",
      "criterion  entropy\n",
      "max_leaves  0\n",
      "0.9418125643666323\n",
      "#####################\n",
      "booster  gbtree\n",
      "n_estimators  50\n",
      "eta  0.3\n",
      "max_depth  30\n",
      "lambda  5.0\n",
      "criterion  entropy\n",
      "max_leaves  1\n",
      "0.3388259526261586\n"
     ]
    },
    {
     "name": "stderr",
     "output_type": "stream",
     "text": [
      "c:\\Users\\loren\\anaconda3\\envs\\TensorFlow\\lib\\site-packages\\xgboost\\core.py:160: UserWarning: [10:52:55] WARNING: C:\\buildkite-agent\\builds\\buildkite-windows-cpu-autoscaling-group-i-0b3782d1791676daf-1\\xgboost\\xgboost-ci-windows\\src\\learner.cc:742: \n",
      "Parameters: { \"criterion\" } are not used.\n",
      "\n",
      "  warnings.warn(smsg, UserWarning)\n",
      "c:\\Users\\loren\\anaconda3\\envs\\TensorFlow\\lib\\site-packages\\xgboost\\core.py:160: UserWarning: [10:52:55] WARNING: C:\\buildkite-agent\\builds\\buildkite-windows-cpu-autoscaling-group-i-0b3782d1791676daf-1\\xgboost\\xgboost-ci-windows\\src\\learner.cc:742: \n",
      "Parameters: { \"criterion\" } are not used.\n",
      "\n",
      "  warnings.warn(smsg, UserWarning)\n"
     ]
    },
    {
     "name": "stdout",
     "output_type": "stream",
     "text": [
      "#####################\n",
      "booster  gbtree\n",
      "n_estimators  50\n",
      "eta  0.3\n",
      "max_depth  30\n",
      "lambda  5.0\n",
      "criterion  entropy\n",
      "max_leaves  5\n",
      "0.9083419155509783\n"
     ]
    },
    {
     "name": "stderr",
     "output_type": "stream",
     "text": [
      "c:\\Users\\loren\\anaconda3\\envs\\TensorFlow\\lib\\site-packages\\xgboost\\core.py:160: UserWarning: [10:52:55] WARNING: C:\\buildkite-agent\\builds\\buildkite-windows-cpu-autoscaling-group-i-0b3782d1791676daf-1\\xgboost\\xgboost-ci-windows\\src\\learner.cc:742: \n",
      "Parameters: { \"criterion\" } are not used.\n",
      "\n",
      "  warnings.warn(smsg, UserWarning)\n"
     ]
    },
    {
     "name": "stdout",
     "output_type": "stream",
     "text": [
      "#####################\n",
      "booster  gbtree\n",
      "n_estimators  50\n",
      "eta  0.7\n",
      "max_depth  5\n",
      "lambda  0.0\n",
      "criterion  gini\n",
      "max_leaves  0\n",
      "0.945417095777549\n",
      "#####################\n",
      "booster  gbtree\n",
      "n_estimators  50\n",
      "eta  0.7\n",
      "max_depth  5\n",
      "lambda  0.0\n",
      "criterion  gini\n",
      "max_leaves  1\n",
      "0.3388259526261586\n"
     ]
    },
    {
     "name": "stderr",
     "output_type": "stream",
     "text": [
      "c:\\Users\\loren\\anaconda3\\envs\\TensorFlow\\lib\\site-packages\\xgboost\\core.py:160: UserWarning: [10:52:55] WARNING: C:\\buildkite-agent\\builds\\buildkite-windows-cpu-autoscaling-group-i-0b3782d1791676daf-1\\xgboost\\xgboost-ci-windows\\src\\learner.cc:742: \n",
      "Parameters: { \"criterion\" } are not used.\n",
      "\n",
      "  warnings.warn(smsg, UserWarning)\n",
      "c:\\Users\\loren\\anaconda3\\envs\\TensorFlow\\lib\\site-packages\\xgboost\\core.py:160: UserWarning: [10:52:56] WARNING: C:\\buildkite-agent\\builds\\buildkite-windows-cpu-autoscaling-group-i-0b3782d1791676daf-1\\xgboost\\xgboost-ci-windows\\src\\learner.cc:742: \n",
      "Parameters: { \"criterion\" } are not used.\n",
      "\n",
      "  warnings.warn(smsg, UserWarning)\n"
     ]
    },
    {
     "name": "stdout",
     "output_type": "stream",
     "text": [
      "#####################\n",
      "booster  gbtree\n",
      "n_estimators  50\n",
      "eta  0.7\n",
      "max_depth  5\n",
      "lambda  0.0\n",
      "criterion  gini\n",
      "max_leaves  5\n",
      "0.9351184346035015\n"
     ]
    },
    {
     "name": "stderr",
     "output_type": "stream",
     "text": [
      "c:\\Users\\loren\\anaconda3\\envs\\TensorFlow\\lib\\site-packages\\xgboost\\core.py:160: UserWarning: [10:52:56] WARNING: C:\\buildkite-agent\\builds\\buildkite-windows-cpu-autoscaling-group-i-0b3782d1791676daf-1\\xgboost\\xgboost-ci-windows\\src\\learner.cc:742: \n",
      "Parameters: { \"criterion\" } are not used.\n",
      "\n",
      "  warnings.warn(smsg, UserWarning)\n"
     ]
    },
    {
     "name": "stdout",
     "output_type": "stream",
     "text": [
      "#####################\n",
      "booster  gbtree\n",
      "n_estimators  50\n",
      "eta  0.7\n",
      "max_depth  5\n",
      "lambda  0.0\n",
      "criterion  entropy\n",
      "max_leaves  0\n",
      "0.945417095777549\n",
      "#####################\n",
      "booster  gbtree\n",
      "n_estimators  50\n",
      "eta  0.7\n",
      "max_depth  5\n",
      "lambda  0.0\n",
      "criterion  entropy\n",
      "max_leaves  1\n",
      "0.3388259526261586\n"
     ]
    },
    {
     "name": "stderr",
     "output_type": "stream",
     "text": [
      "c:\\Users\\loren\\anaconda3\\envs\\TensorFlow\\lib\\site-packages\\xgboost\\core.py:160: UserWarning: [10:52:56] WARNING: C:\\buildkite-agent\\builds\\buildkite-windows-cpu-autoscaling-group-i-0b3782d1791676daf-1\\xgboost\\xgboost-ci-windows\\src\\learner.cc:742: \n",
      "Parameters: { \"criterion\" } are not used.\n",
      "\n",
      "  warnings.warn(smsg, UserWarning)\n",
      "c:\\Users\\loren\\anaconda3\\envs\\TensorFlow\\lib\\site-packages\\xgboost\\core.py:160: UserWarning: [10:52:56] WARNING: C:\\buildkite-agent\\builds\\buildkite-windows-cpu-autoscaling-group-i-0b3782d1791676daf-1\\xgboost\\xgboost-ci-windows\\src\\learner.cc:742: \n",
      "Parameters: { \"criterion\" } are not used.\n",
      "\n",
      "  warnings.warn(smsg, UserWarning)\n"
     ]
    },
    {
     "name": "stdout",
     "output_type": "stream",
     "text": [
      "#####################\n",
      "booster  gbtree\n",
      "n_estimators  50\n",
      "eta  0.7\n",
      "max_depth  5\n",
      "lambda  0.0\n",
      "criterion  entropy\n",
      "max_leaves  5\n",
      "0.9351184346035015\n"
     ]
    },
    {
     "name": "stderr",
     "output_type": "stream",
     "text": [
      "c:\\Users\\loren\\anaconda3\\envs\\TensorFlow\\lib\\site-packages\\xgboost\\core.py:160: UserWarning: [10:52:56] WARNING: C:\\buildkite-agent\\builds\\buildkite-windows-cpu-autoscaling-group-i-0b3782d1791676daf-1\\xgboost\\xgboost-ci-windows\\src\\learner.cc:742: \n",
      "Parameters: { \"criterion\" } are not used.\n",
      "\n",
      "  warnings.warn(smsg, UserWarning)\n"
     ]
    },
    {
     "name": "stdout",
     "output_type": "stream",
     "text": [
      "#####################\n",
      "booster  gbtree\n",
      "n_estimators  50\n",
      "eta  0.7\n",
      "max_depth  5\n",
      "lambda  1.0\n",
      "criterion  gini\n",
      "max_leaves  0\n",
      "0.9485066941297632\n",
      "#####################\n",
      "booster  gbtree\n",
      "n_estimators  50\n",
      "eta  0.7\n",
      "max_depth  5\n",
      "lambda  1.0\n",
      "criterion  gini\n",
      "max_leaves  1\n",
      "0.3388259526261586\n"
     ]
    },
    {
     "name": "stderr",
     "output_type": "stream",
     "text": [
      "c:\\Users\\loren\\anaconda3\\envs\\TensorFlow\\lib\\site-packages\\xgboost\\core.py:160: UserWarning: [10:52:57] WARNING: C:\\buildkite-agent\\builds\\buildkite-windows-cpu-autoscaling-group-i-0b3782d1791676daf-1\\xgboost\\xgboost-ci-windows\\src\\learner.cc:742: \n",
      "Parameters: { \"criterion\" } are not used.\n",
      "\n",
      "  warnings.warn(smsg, UserWarning)\n",
      "c:\\Users\\loren\\anaconda3\\envs\\TensorFlow\\lib\\site-packages\\xgboost\\core.py:160: UserWarning: [10:52:57] WARNING: C:\\buildkite-agent\\builds\\buildkite-windows-cpu-autoscaling-group-i-0b3782d1791676daf-1\\xgboost\\xgboost-ci-windows\\src\\learner.cc:742: \n",
      "Parameters: { \"criterion\" } are not used.\n",
      "\n",
      "  warnings.warn(smsg, UserWarning)\n"
     ]
    },
    {
     "name": "stdout",
     "output_type": "stream",
     "text": [
      "#####################\n",
      "booster  gbtree\n",
      "n_estimators  50\n",
      "eta  0.7\n",
      "max_depth  5\n",
      "lambda  1.0\n",
      "criterion  gini\n",
      "max_leaves  5\n",
      "0.9351184346035015\n"
     ]
    },
    {
     "name": "stderr",
     "output_type": "stream",
     "text": [
      "c:\\Users\\loren\\anaconda3\\envs\\TensorFlow\\lib\\site-packages\\xgboost\\core.py:160: UserWarning: [10:52:57] WARNING: C:\\buildkite-agent\\builds\\buildkite-windows-cpu-autoscaling-group-i-0b3782d1791676daf-1\\xgboost\\xgboost-ci-windows\\src\\learner.cc:742: \n",
      "Parameters: { \"criterion\" } are not used.\n",
      "\n",
      "  warnings.warn(smsg, UserWarning)\n"
     ]
    },
    {
     "name": "stdout",
     "output_type": "stream",
     "text": [
      "#####################\n",
      "booster  gbtree\n",
      "n_estimators  50\n",
      "eta  0.7\n",
      "max_depth  5\n",
      "lambda  1.0\n",
      "criterion  entropy\n",
      "max_leaves  0\n",
      "0.9485066941297632\n",
      "#####################\n",
      "booster  gbtree\n",
      "n_estimators  50\n",
      "eta  0.7\n",
      "max_depth  5\n",
      "lambda  1.0\n",
      "criterion  entropy\n",
      "max_leaves  1\n",
      "0.3388259526261586\n"
     ]
    },
    {
     "name": "stderr",
     "output_type": "stream",
     "text": [
      "c:\\Users\\loren\\anaconda3\\envs\\TensorFlow\\lib\\site-packages\\xgboost\\core.py:160: UserWarning: [10:52:57] WARNING: C:\\buildkite-agent\\builds\\buildkite-windows-cpu-autoscaling-group-i-0b3782d1791676daf-1\\xgboost\\xgboost-ci-windows\\src\\learner.cc:742: \n",
      "Parameters: { \"criterion\" } are not used.\n",
      "\n",
      "  warnings.warn(smsg, UserWarning)\n",
      "c:\\Users\\loren\\anaconda3\\envs\\TensorFlow\\lib\\site-packages\\xgboost\\core.py:160: UserWarning: [10:52:57] WARNING: C:\\buildkite-agent\\builds\\buildkite-windows-cpu-autoscaling-group-i-0b3782d1791676daf-1\\xgboost\\xgboost-ci-windows\\src\\learner.cc:742: \n",
      "Parameters: { \"criterion\" } are not used.\n",
      "\n",
      "  warnings.warn(smsg, UserWarning)\n"
     ]
    },
    {
     "name": "stdout",
     "output_type": "stream",
     "text": [
      "#####################\n",
      "booster  gbtree\n",
      "n_estimators  50\n",
      "eta  0.7\n",
      "max_depth  5\n",
      "lambda  1.0\n",
      "criterion  entropy\n",
      "max_leaves  5\n",
      "0.9351184346035015\n"
     ]
    },
    {
     "name": "stderr",
     "output_type": "stream",
     "text": [
      "c:\\Users\\loren\\anaconda3\\envs\\TensorFlow\\lib\\site-packages\\xgboost\\core.py:160: UserWarning: [10:52:58] WARNING: C:\\buildkite-agent\\builds\\buildkite-windows-cpu-autoscaling-group-i-0b3782d1791676daf-1\\xgboost\\xgboost-ci-windows\\src\\learner.cc:742: \n",
      "Parameters: { \"criterion\" } are not used.\n",
      "\n",
      "  warnings.warn(smsg, UserWarning)\n"
     ]
    },
    {
     "name": "stdout",
     "output_type": "stream",
     "text": [
      "#####################\n",
      "booster  gbtree\n",
      "n_estimators  50\n",
      "eta  0.7\n",
      "max_depth  5\n",
      "lambda  5.0\n",
      "criterion  gini\n",
      "max_leaves  0\n",
      "0.9464469618949537\n",
      "#####################\n",
      "booster  gbtree\n",
      "n_estimators  50\n",
      "eta  0.7\n",
      "max_depth  5\n",
      "lambda  5.0\n",
      "criterion  gini\n",
      "max_leaves  1\n",
      "0.3388259526261586\n"
     ]
    },
    {
     "name": "stderr",
     "output_type": "stream",
     "text": [
      "c:\\Users\\loren\\anaconda3\\envs\\TensorFlow\\lib\\site-packages\\xgboost\\core.py:160: UserWarning: [10:52:58] WARNING: C:\\buildkite-agent\\builds\\buildkite-windows-cpu-autoscaling-group-i-0b3782d1791676daf-1\\xgboost\\xgboost-ci-windows\\src\\learner.cc:742: \n",
      "Parameters: { \"criterion\" } are not used.\n",
      "\n",
      "  warnings.warn(smsg, UserWarning)\n",
      "c:\\Users\\loren\\anaconda3\\envs\\TensorFlow\\lib\\site-packages\\xgboost\\core.py:160: UserWarning: [10:52:58] WARNING: C:\\buildkite-agent\\builds\\buildkite-windows-cpu-autoscaling-group-i-0b3782d1791676daf-1\\xgboost\\xgboost-ci-windows\\src\\learner.cc:742: \n",
      "Parameters: { \"criterion\" } are not used.\n",
      "\n",
      "  warnings.warn(smsg, UserWarning)\n"
     ]
    },
    {
     "name": "stdout",
     "output_type": "stream",
     "text": [
      "#####################\n",
      "booster  gbtree\n",
      "n_estimators  50\n",
      "eta  0.7\n",
      "max_depth  5\n",
      "lambda  5.0\n",
      "criterion  gini\n",
      "max_leaves  5\n",
      "0.9304840370751802\n"
     ]
    },
    {
     "name": "stderr",
     "output_type": "stream",
     "text": [
      "c:\\Users\\loren\\anaconda3\\envs\\TensorFlow\\lib\\site-packages\\xgboost\\core.py:160: UserWarning: [10:52:58] WARNING: C:\\buildkite-agent\\builds\\buildkite-windows-cpu-autoscaling-group-i-0b3782d1791676daf-1\\xgboost\\xgboost-ci-windows\\src\\learner.cc:742: \n",
      "Parameters: { \"criterion\" } are not used.\n",
      "\n",
      "  warnings.warn(smsg, UserWarning)\n"
     ]
    },
    {
     "name": "stdout",
     "output_type": "stream",
     "text": [
      "#####################\n",
      "booster  gbtree\n",
      "n_estimators  50\n",
      "eta  0.7\n",
      "max_depth  5\n",
      "lambda  5.0\n",
      "criterion  entropy\n",
      "max_leaves  0\n",
      "0.9464469618949537\n",
      "#####################\n",
      "booster  gbtree\n",
      "n_estimators  50\n",
      "eta  0.7\n",
      "max_depth  5\n",
      "lambda  5.0\n",
      "criterion  entropy\n",
      "max_leaves  1\n",
      "0.3388259526261586\n"
     ]
    },
    {
     "name": "stderr",
     "output_type": "stream",
     "text": [
      "c:\\Users\\loren\\anaconda3\\envs\\TensorFlow\\lib\\site-packages\\xgboost\\core.py:160: UserWarning: [10:52:59] WARNING: C:\\buildkite-agent\\builds\\buildkite-windows-cpu-autoscaling-group-i-0b3782d1791676daf-1\\xgboost\\xgboost-ci-windows\\src\\learner.cc:742: \n",
      "Parameters: { \"criterion\" } are not used.\n",
      "\n",
      "  warnings.warn(smsg, UserWarning)\n",
      "c:\\Users\\loren\\anaconda3\\envs\\TensorFlow\\lib\\site-packages\\xgboost\\core.py:160: UserWarning: [10:52:59] WARNING: C:\\buildkite-agent\\builds\\buildkite-windows-cpu-autoscaling-group-i-0b3782d1791676daf-1\\xgboost\\xgboost-ci-windows\\src\\learner.cc:742: \n",
      "Parameters: { \"criterion\" } are not used.\n",
      "\n",
      "  warnings.warn(smsg, UserWarning)\n"
     ]
    },
    {
     "name": "stdout",
     "output_type": "stream",
     "text": [
      "#####################\n",
      "booster  gbtree\n",
      "n_estimators  50\n",
      "eta  0.7\n",
      "max_depth  5\n",
      "lambda  5.0\n",
      "criterion  entropy\n",
      "max_leaves  5\n",
      "0.9304840370751802\n"
     ]
    },
    {
     "name": "stderr",
     "output_type": "stream",
     "text": [
      "c:\\Users\\loren\\anaconda3\\envs\\TensorFlow\\lib\\site-packages\\xgboost\\core.py:160: UserWarning: [10:52:59] WARNING: C:\\buildkite-agent\\builds\\buildkite-windows-cpu-autoscaling-group-i-0b3782d1791676daf-1\\xgboost\\xgboost-ci-windows\\src\\learner.cc:742: \n",
      "Parameters: { \"criterion\" } are not used.\n",
      "\n",
      "  warnings.warn(smsg, UserWarning)\n"
     ]
    },
    {
     "name": "stdout",
     "output_type": "stream",
     "text": [
      "#####################\n",
      "booster  gbtree\n",
      "n_estimators  50\n",
      "eta  0.7\n",
      "max_depth  10\n",
      "lambda  0.0\n",
      "criterion  gini\n",
      "max_leaves  0\n",
      "0.9423274974253347\n",
      "#####################\n",
      "booster  gbtree\n",
      "n_estimators  50\n",
      "eta  0.7\n",
      "max_depth  10\n",
      "lambda  0.0\n",
      "criterion  gini\n",
      "max_leaves  1\n",
      "0.3388259526261586\n"
     ]
    },
    {
     "name": "stderr",
     "output_type": "stream",
     "text": [
      "c:\\Users\\loren\\anaconda3\\envs\\TensorFlow\\lib\\site-packages\\xgboost\\core.py:160: UserWarning: [10:52:59] WARNING: C:\\buildkite-agent\\builds\\buildkite-windows-cpu-autoscaling-group-i-0b3782d1791676daf-1\\xgboost\\xgboost-ci-windows\\src\\learner.cc:742: \n",
      "Parameters: { \"criterion\" } are not used.\n",
      "\n",
      "  warnings.warn(smsg, UserWarning)\n",
      "c:\\Users\\loren\\anaconda3\\envs\\TensorFlow\\lib\\site-packages\\xgboost\\core.py:160: UserWarning: [10:52:59] WARNING: C:\\buildkite-agent\\builds\\buildkite-windows-cpu-autoscaling-group-i-0b3782d1791676daf-1\\xgboost\\xgboost-ci-windows\\src\\learner.cc:742: \n",
      "Parameters: { \"criterion\" } are not used.\n",
      "\n",
      "  warnings.warn(smsg, UserWarning)\n"
     ]
    },
    {
     "name": "stdout",
     "output_type": "stream",
     "text": [
      "#####################\n",
      "booster  gbtree\n",
      "n_estimators  50\n",
      "eta  0.7\n",
      "max_depth  10\n",
      "lambda  0.0\n",
      "criterion  gini\n",
      "max_leaves  5\n",
      "0.9351184346035015\n"
     ]
    },
    {
     "name": "stderr",
     "output_type": "stream",
     "text": [
      "c:\\Users\\loren\\anaconda3\\envs\\TensorFlow\\lib\\site-packages\\xgboost\\core.py:160: UserWarning: [10:53:00] WARNING: C:\\buildkite-agent\\builds\\buildkite-windows-cpu-autoscaling-group-i-0b3782d1791676daf-1\\xgboost\\xgboost-ci-windows\\src\\learner.cc:742: \n",
      "Parameters: { \"criterion\" } are not used.\n",
      "\n",
      "  warnings.warn(smsg, UserWarning)\n"
     ]
    },
    {
     "name": "stdout",
     "output_type": "stream",
     "text": [
      "#####################\n",
      "booster  gbtree\n",
      "n_estimators  50\n",
      "eta  0.7\n",
      "max_depth  10\n",
      "lambda  0.0\n",
      "criterion  entropy\n",
      "max_leaves  0\n",
      "0.9423274974253347\n",
      "#####################\n",
      "booster  gbtree\n",
      "n_estimators  50\n",
      "eta  0.7\n",
      "max_depth  10\n",
      "lambda  0.0\n",
      "criterion  entropy\n",
      "max_leaves  1\n",
      "0.3388259526261586\n"
     ]
    },
    {
     "name": "stderr",
     "output_type": "stream",
     "text": [
      "c:\\Users\\loren\\anaconda3\\envs\\TensorFlow\\lib\\site-packages\\xgboost\\core.py:160: UserWarning: [10:53:00] WARNING: C:\\buildkite-agent\\builds\\buildkite-windows-cpu-autoscaling-group-i-0b3782d1791676daf-1\\xgboost\\xgboost-ci-windows\\src\\learner.cc:742: \n",
      "Parameters: { \"criterion\" } are not used.\n",
      "\n",
      "  warnings.warn(smsg, UserWarning)\n",
      "c:\\Users\\loren\\anaconda3\\envs\\TensorFlow\\lib\\site-packages\\xgboost\\core.py:160: UserWarning: [10:53:00] WARNING: C:\\buildkite-agent\\builds\\buildkite-windows-cpu-autoscaling-group-i-0b3782d1791676daf-1\\xgboost\\xgboost-ci-windows\\src\\learner.cc:742: \n",
      "Parameters: { \"criterion\" } are not used.\n",
      "\n",
      "  warnings.warn(smsg, UserWarning)\n"
     ]
    },
    {
     "name": "stdout",
     "output_type": "stream",
     "text": [
      "#####################\n",
      "booster  gbtree\n",
      "n_estimators  50\n",
      "eta  0.7\n",
      "max_depth  10\n",
      "lambda  0.0\n",
      "criterion  entropy\n",
      "max_leaves  5\n",
      "0.9351184346035015\n"
     ]
    },
    {
     "name": "stderr",
     "output_type": "stream",
     "text": [
      "c:\\Users\\loren\\anaconda3\\envs\\TensorFlow\\lib\\site-packages\\xgboost\\core.py:160: UserWarning: [10:53:01] WARNING: C:\\buildkite-agent\\builds\\buildkite-windows-cpu-autoscaling-group-i-0b3782d1791676daf-1\\xgboost\\xgboost-ci-windows\\src\\learner.cc:742: \n",
      "Parameters: { \"criterion\" } are not used.\n",
      "\n",
      "  warnings.warn(smsg, UserWarning)\n"
     ]
    },
    {
     "name": "stdout",
     "output_type": "stream",
     "text": [
      "#####################\n",
      "booster  gbtree\n",
      "n_estimators  50\n",
      "eta  0.7\n",
      "max_depth  10\n",
      "lambda  1.0\n",
      "criterion  gini\n",
      "max_leaves  0\n",
      "0.9443872296601442\n",
      "#####################\n",
      "booster  gbtree\n",
      "n_estimators  50\n",
      "eta  0.7\n",
      "max_depth  10\n",
      "lambda  1.0\n",
      "criterion  gini\n",
      "max_leaves  1\n",
      "0.3388259526261586\n"
     ]
    },
    {
     "name": "stderr",
     "output_type": "stream",
     "text": [
      "c:\\Users\\loren\\anaconda3\\envs\\TensorFlow\\lib\\site-packages\\xgboost\\core.py:160: UserWarning: [10:53:01] WARNING: C:\\buildkite-agent\\builds\\buildkite-windows-cpu-autoscaling-group-i-0b3782d1791676daf-1\\xgboost\\xgboost-ci-windows\\src\\learner.cc:742: \n",
      "Parameters: { \"criterion\" } are not used.\n",
      "\n",
      "  warnings.warn(smsg, UserWarning)\n",
      "c:\\Users\\loren\\anaconda3\\envs\\TensorFlow\\lib\\site-packages\\xgboost\\core.py:160: UserWarning: [10:53:01] WARNING: C:\\buildkite-agent\\builds\\buildkite-windows-cpu-autoscaling-group-i-0b3782d1791676daf-1\\xgboost\\xgboost-ci-windows\\src\\learner.cc:742: \n",
      "Parameters: { \"criterion\" } are not used.\n",
      "\n",
      "  warnings.warn(smsg, UserWarning)\n"
     ]
    },
    {
     "name": "stdout",
     "output_type": "stream",
     "text": [
      "#####################\n",
      "booster  gbtree\n",
      "n_estimators  50\n",
      "eta  0.7\n",
      "max_depth  10\n",
      "lambda  1.0\n",
      "criterion  gini\n",
      "max_leaves  5\n",
      "0.9351184346035015\n"
     ]
    },
    {
     "name": "stderr",
     "output_type": "stream",
     "text": [
      "c:\\Users\\loren\\anaconda3\\envs\\TensorFlow\\lib\\site-packages\\xgboost\\core.py:160: UserWarning: [10:53:01] WARNING: C:\\buildkite-agent\\builds\\buildkite-windows-cpu-autoscaling-group-i-0b3782d1791676daf-1\\xgboost\\xgboost-ci-windows\\src\\learner.cc:742: \n",
      "Parameters: { \"criterion\" } are not used.\n",
      "\n",
      "  warnings.warn(smsg, UserWarning)\n"
     ]
    },
    {
     "name": "stdout",
     "output_type": "stream",
     "text": [
      "#####################\n",
      "booster  gbtree\n",
      "n_estimators  50\n",
      "eta  0.7\n",
      "max_depth  10\n",
      "lambda  1.0\n",
      "criterion  entropy\n",
      "max_leaves  0\n",
      "0.9443872296601442\n",
      "#####################\n",
      "booster  gbtree\n",
      "n_estimators  50\n",
      "eta  0.7\n",
      "max_depth  10\n",
      "lambda  1.0\n",
      "criterion  entropy\n",
      "max_leaves  1\n",
      "0.3388259526261586\n"
     ]
    },
    {
     "name": "stderr",
     "output_type": "stream",
     "text": [
      "c:\\Users\\loren\\anaconda3\\envs\\TensorFlow\\lib\\site-packages\\xgboost\\core.py:160: UserWarning: [10:53:02] WARNING: C:\\buildkite-agent\\builds\\buildkite-windows-cpu-autoscaling-group-i-0b3782d1791676daf-1\\xgboost\\xgboost-ci-windows\\src\\learner.cc:742: \n",
      "Parameters: { \"criterion\" } are not used.\n",
      "\n",
      "  warnings.warn(smsg, UserWarning)\n",
      "c:\\Users\\loren\\anaconda3\\envs\\TensorFlow\\lib\\site-packages\\xgboost\\core.py:160: UserWarning: [10:53:02] WARNING: C:\\buildkite-agent\\builds\\buildkite-windows-cpu-autoscaling-group-i-0b3782d1791676daf-1\\xgboost\\xgboost-ci-windows\\src\\learner.cc:742: \n",
      "Parameters: { \"criterion\" } are not used.\n",
      "\n",
      "  warnings.warn(smsg, UserWarning)\n"
     ]
    },
    {
     "name": "stdout",
     "output_type": "stream",
     "text": [
      "#####################\n",
      "booster  gbtree\n",
      "n_estimators  50\n",
      "eta  0.7\n",
      "max_depth  10\n",
      "lambda  1.0\n",
      "criterion  entropy\n",
      "max_leaves  5\n",
      "0.9351184346035015\n"
     ]
    },
    {
     "name": "stderr",
     "output_type": "stream",
     "text": [
      "c:\\Users\\loren\\anaconda3\\envs\\TensorFlow\\lib\\site-packages\\xgboost\\core.py:160: UserWarning: [10:53:02] WARNING: C:\\buildkite-agent\\builds\\buildkite-windows-cpu-autoscaling-group-i-0b3782d1791676daf-1\\xgboost\\xgboost-ci-windows\\src\\learner.cc:742: \n",
      "Parameters: { \"criterion\" } are not used.\n",
      "\n",
      "  warnings.warn(smsg, UserWarning)\n"
     ]
    },
    {
     "name": "stdout",
     "output_type": "stream",
     "text": [
      "#####################\n",
      "booster  gbtree\n",
      "n_estimators  50\n",
      "eta  0.7\n",
      "max_depth  10\n",
      "lambda  5.0\n",
      "criterion  gini\n",
      "max_leaves  0\n",
      "0.946961894953656\n",
      "#####################\n",
      "booster  gbtree\n",
      "n_estimators  50\n",
      "eta  0.7\n",
      "max_depth  10\n",
      "lambda  5.0\n",
      "criterion  gini\n",
      "max_leaves  1\n",
      "0.3388259526261586\n"
     ]
    },
    {
     "name": "stderr",
     "output_type": "stream",
     "text": [
      "c:\\Users\\loren\\anaconda3\\envs\\TensorFlow\\lib\\site-packages\\xgboost\\core.py:160: UserWarning: [10:53:03] WARNING: C:\\buildkite-agent\\builds\\buildkite-windows-cpu-autoscaling-group-i-0b3782d1791676daf-1\\xgboost\\xgboost-ci-windows\\src\\learner.cc:742: \n",
      "Parameters: { \"criterion\" } are not used.\n",
      "\n",
      "  warnings.warn(smsg, UserWarning)\n",
      "c:\\Users\\loren\\anaconda3\\envs\\TensorFlow\\lib\\site-packages\\xgboost\\core.py:160: UserWarning: [10:53:03] WARNING: C:\\buildkite-agent\\builds\\buildkite-windows-cpu-autoscaling-group-i-0b3782d1791676daf-1\\xgboost\\xgboost-ci-windows\\src\\learner.cc:742: \n",
      "Parameters: { \"criterion\" } are not used.\n",
      "\n",
      "  warnings.warn(smsg, UserWarning)\n"
     ]
    },
    {
     "name": "stdout",
     "output_type": "stream",
     "text": [
      "#####################\n",
      "booster  gbtree\n",
      "n_estimators  50\n",
      "eta  0.7\n",
      "max_depth  10\n",
      "lambda  5.0\n",
      "criterion  gini\n",
      "max_leaves  5\n",
      "0.9304840370751802\n"
     ]
    },
    {
     "name": "stderr",
     "output_type": "stream",
     "text": [
      "c:\\Users\\loren\\anaconda3\\envs\\TensorFlow\\lib\\site-packages\\xgboost\\core.py:160: UserWarning: [10:53:03] WARNING: C:\\buildkite-agent\\builds\\buildkite-windows-cpu-autoscaling-group-i-0b3782d1791676daf-1\\xgboost\\xgboost-ci-windows\\src\\learner.cc:742: \n",
      "Parameters: { \"criterion\" } are not used.\n",
      "\n",
      "  warnings.warn(smsg, UserWarning)\n"
     ]
    },
    {
     "name": "stdout",
     "output_type": "stream",
     "text": [
      "#####################\n",
      "booster  gbtree\n",
      "n_estimators  50\n",
      "eta  0.7\n",
      "max_depth  10\n",
      "lambda  5.0\n",
      "criterion  entropy\n",
      "max_leaves  0\n",
      "0.946961894953656\n",
      "#####################\n",
      "booster  gbtree\n",
      "n_estimators  50\n",
      "eta  0.7\n",
      "max_depth  10\n",
      "lambda  5.0\n",
      "criterion  entropy\n",
      "max_leaves  1\n",
      "0.3388259526261586\n"
     ]
    },
    {
     "name": "stderr",
     "output_type": "stream",
     "text": [
      "c:\\Users\\loren\\anaconda3\\envs\\TensorFlow\\lib\\site-packages\\xgboost\\core.py:160: UserWarning: [10:53:04] WARNING: C:\\buildkite-agent\\builds\\buildkite-windows-cpu-autoscaling-group-i-0b3782d1791676daf-1\\xgboost\\xgboost-ci-windows\\src\\learner.cc:742: \n",
      "Parameters: { \"criterion\" } are not used.\n",
      "\n",
      "  warnings.warn(smsg, UserWarning)\n",
      "c:\\Users\\loren\\anaconda3\\envs\\TensorFlow\\lib\\site-packages\\xgboost\\core.py:160: UserWarning: [10:53:04] WARNING: C:\\buildkite-agent\\builds\\buildkite-windows-cpu-autoscaling-group-i-0b3782d1791676daf-1\\xgboost\\xgboost-ci-windows\\src\\learner.cc:742: \n",
      "Parameters: { \"criterion\" } are not used.\n",
      "\n",
      "  warnings.warn(smsg, UserWarning)\n"
     ]
    },
    {
     "name": "stdout",
     "output_type": "stream",
     "text": [
      "#####################\n",
      "booster  gbtree\n",
      "n_estimators  50\n",
      "eta  0.7\n",
      "max_depth  10\n",
      "lambda  5.0\n",
      "criterion  entropy\n",
      "max_leaves  5\n",
      "0.9304840370751802\n"
     ]
    },
    {
     "name": "stderr",
     "output_type": "stream",
     "text": [
      "c:\\Users\\loren\\anaconda3\\envs\\TensorFlow\\lib\\site-packages\\xgboost\\core.py:160: UserWarning: [10:53:04] WARNING: C:\\buildkite-agent\\builds\\buildkite-windows-cpu-autoscaling-group-i-0b3782d1791676daf-1\\xgboost\\xgboost-ci-windows\\src\\learner.cc:742: \n",
      "Parameters: { \"criterion\" } are not used.\n",
      "\n",
      "  warnings.warn(smsg, UserWarning)\n"
     ]
    },
    {
     "name": "stdout",
     "output_type": "stream",
     "text": [
      "#####################\n",
      "booster  gbtree\n",
      "n_estimators  50\n",
      "eta  0.7\n",
      "max_depth  20\n",
      "lambda  0.0\n",
      "criterion  gini\n",
      "max_leaves  0\n",
      "0.935633367662204\n",
      "#####################\n",
      "booster  gbtree\n",
      "n_estimators  50\n",
      "eta  0.7\n",
      "max_depth  20\n",
      "lambda  0.0\n",
      "criterion  gini\n",
      "max_leaves  1\n",
      "0.3388259526261586\n"
     ]
    },
    {
     "name": "stderr",
     "output_type": "stream",
     "text": [
      "c:\\Users\\loren\\anaconda3\\envs\\TensorFlow\\lib\\site-packages\\xgboost\\core.py:160: UserWarning: [10:53:05] WARNING: C:\\buildkite-agent\\builds\\buildkite-windows-cpu-autoscaling-group-i-0b3782d1791676daf-1\\xgboost\\xgboost-ci-windows\\src\\learner.cc:742: \n",
      "Parameters: { \"criterion\" } are not used.\n",
      "\n",
      "  warnings.warn(smsg, UserWarning)\n",
      "c:\\Users\\loren\\anaconda3\\envs\\TensorFlow\\lib\\site-packages\\xgboost\\core.py:160: UserWarning: [10:53:05] WARNING: C:\\buildkite-agent\\builds\\buildkite-windows-cpu-autoscaling-group-i-0b3782d1791676daf-1\\xgboost\\xgboost-ci-windows\\src\\learner.cc:742: \n",
      "Parameters: { \"criterion\" } are not used.\n",
      "\n",
      "  warnings.warn(smsg, UserWarning)\n"
     ]
    },
    {
     "name": "stdout",
     "output_type": "stream",
     "text": [
      "#####################\n",
      "booster  gbtree\n",
      "n_estimators  50\n",
      "eta  0.7\n",
      "max_depth  20\n",
      "lambda  0.0\n",
      "criterion  gini\n",
      "max_leaves  5\n",
      "0.9351184346035015\n"
     ]
    },
    {
     "name": "stderr",
     "output_type": "stream",
     "text": [
      "c:\\Users\\loren\\anaconda3\\envs\\TensorFlow\\lib\\site-packages\\xgboost\\core.py:160: UserWarning: [10:53:06] WARNING: C:\\buildkite-agent\\builds\\buildkite-windows-cpu-autoscaling-group-i-0b3782d1791676daf-1\\xgboost\\xgboost-ci-windows\\src\\learner.cc:742: \n",
      "Parameters: { \"criterion\" } are not used.\n",
      "\n",
      "  warnings.warn(smsg, UserWarning)\n"
     ]
    },
    {
     "name": "stdout",
     "output_type": "stream",
     "text": [
      "#####################\n",
      "booster  gbtree\n",
      "n_estimators  50\n",
      "eta  0.7\n",
      "max_depth  20\n",
      "lambda  0.0\n",
      "criterion  entropy\n",
      "max_leaves  0\n",
      "0.935633367662204\n",
      "#####################\n",
      "booster  gbtree\n",
      "n_estimators  50\n",
      "eta  0.7\n",
      "max_depth  20\n",
      "lambda  0.0\n",
      "criterion  entropy\n",
      "max_leaves  1\n",
      "0.3388259526261586\n"
     ]
    },
    {
     "name": "stderr",
     "output_type": "stream",
     "text": [
      "c:\\Users\\loren\\anaconda3\\envs\\TensorFlow\\lib\\site-packages\\xgboost\\core.py:160: UserWarning: [10:53:07] WARNING: C:\\buildkite-agent\\builds\\buildkite-windows-cpu-autoscaling-group-i-0b3782d1791676daf-1\\xgboost\\xgboost-ci-windows\\src\\learner.cc:742: \n",
      "Parameters: { \"criterion\" } are not used.\n",
      "\n",
      "  warnings.warn(smsg, UserWarning)\n",
      "c:\\Users\\loren\\anaconda3\\envs\\TensorFlow\\lib\\site-packages\\xgboost\\core.py:160: UserWarning: [10:53:07] WARNING: C:\\buildkite-agent\\builds\\buildkite-windows-cpu-autoscaling-group-i-0b3782d1791676daf-1\\xgboost\\xgboost-ci-windows\\src\\learner.cc:742: \n",
      "Parameters: { \"criterion\" } are not used.\n",
      "\n",
      "  warnings.warn(smsg, UserWarning)\n"
     ]
    },
    {
     "name": "stdout",
     "output_type": "stream",
     "text": [
      "#####################\n",
      "booster  gbtree\n",
      "n_estimators  50\n",
      "eta  0.7\n",
      "max_depth  20\n",
      "lambda  0.0\n",
      "criterion  entropy\n",
      "max_leaves  5\n",
      "0.9351184346035015\n"
     ]
    },
    {
     "name": "stderr",
     "output_type": "stream",
     "text": [
      "c:\\Users\\loren\\anaconda3\\envs\\TensorFlow\\lib\\site-packages\\xgboost\\core.py:160: UserWarning: [10:53:07] WARNING: C:\\buildkite-agent\\builds\\buildkite-windows-cpu-autoscaling-group-i-0b3782d1791676daf-1\\xgboost\\xgboost-ci-windows\\src\\learner.cc:742: \n",
      "Parameters: { \"criterion\" } are not used.\n",
      "\n",
      "  warnings.warn(smsg, UserWarning)\n"
     ]
    },
    {
     "name": "stdout",
     "output_type": "stream",
     "text": [
      "#####################\n",
      "booster  gbtree\n",
      "n_estimators  50\n",
      "eta  0.7\n",
      "max_depth  20\n",
      "lambda  1.0\n",
      "criterion  gini\n",
      "max_leaves  0\n",
      "0.942842430484037\n",
      "#####################\n",
      "booster  gbtree\n",
      "n_estimators  50\n",
      "eta  0.7\n",
      "max_depth  20\n",
      "lambda  1.0\n",
      "criterion  gini\n",
      "max_leaves  1\n",
      "0.3388259526261586\n"
     ]
    },
    {
     "name": "stderr",
     "output_type": "stream",
     "text": [
      "c:\\Users\\loren\\anaconda3\\envs\\TensorFlow\\lib\\site-packages\\xgboost\\core.py:160: UserWarning: [10:53:08] WARNING: C:\\buildkite-agent\\builds\\buildkite-windows-cpu-autoscaling-group-i-0b3782d1791676daf-1\\xgboost\\xgboost-ci-windows\\src\\learner.cc:742: \n",
      "Parameters: { \"criterion\" } are not used.\n",
      "\n",
      "  warnings.warn(smsg, UserWarning)\n",
      "c:\\Users\\loren\\anaconda3\\envs\\TensorFlow\\lib\\site-packages\\xgboost\\core.py:160: UserWarning: [10:53:08] WARNING: C:\\buildkite-agent\\builds\\buildkite-windows-cpu-autoscaling-group-i-0b3782d1791676daf-1\\xgboost\\xgboost-ci-windows\\src\\learner.cc:742: \n",
      "Parameters: { \"criterion\" } are not used.\n",
      "\n",
      "  warnings.warn(smsg, UserWarning)\n"
     ]
    },
    {
     "name": "stdout",
     "output_type": "stream",
     "text": [
      "#####################\n",
      "booster  gbtree\n",
      "n_estimators  50\n",
      "eta  0.7\n",
      "max_depth  20\n",
      "lambda  1.0\n",
      "criterion  gini\n",
      "max_leaves  5\n",
      "0.9351184346035015\n"
     ]
    },
    {
     "name": "stderr",
     "output_type": "stream",
     "text": [
      "c:\\Users\\loren\\anaconda3\\envs\\TensorFlow\\lib\\site-packages\\xgboost\\core.py:160: UserWarning: [10:53:08] WARNING: C:\\buildkite-agent\\builds\\buildkite-windows-cpu-autoscaling-group-i-0b3782d1791676daf-1\\xgboost\\xgboost-ci-windows\\src\\learner.cc:742: \n",
      "Parameters: { \"criterion\" } are not used.\n",
      "\n",
      "  warnings.warn(smsg, UserWarning)\n"
     ]
    },
    {
     "name": "stdout",
     "output_type": "stream",
     "text": [
      "#####################\n",
      "booster  gbtree\n",
      "n_estimators  50\n",
      "eta  0.7\n",
      "max_depth  20\n",
      "lambda  1.0\n",
      "criterion  entropy\n",
      "max_leaves  0\n",
      "0.942842430484037\n",
      "#####################\n",
      "booster  gbtree\n",
      "n_estimators  50\n",
      "eta  0.7\n",
      "max_depth  20\n",
      "lambda  1.0\n",
      "criterion  entropy\n",
      "max_leaves  1\n",
      "0.3388259526261586\n"
     ]
    },
    {
     "name": "stderr",
     "output_type": "stream",
     "text": [
      "c:\\Users\\loren\\anaconda3\\envs\\TensorFlow\\lib\\site-packages\\xgboost\\core.py:160: UserWarning: [10:53:08] WARNING: C:\\buildkite-agent\\builds\\buildkite-windows-cpu-autoscaling-group-i-0b3782d1791676daf-1\\xgboost\\xgboost-ci-windows\\src\\learner.cc:742: \n",
      "Parameters: { \"criterion\" } are not used.\n",
      "\n",
      "  warnings.warn(smsg, UserWarning)\n",
      "c:\\Users\\loren\\anaconda3\\envs\\TensorFlow\\lib\\site-packages\\xgboost\\core.py:160: UserWarning: [10:53:09] WARNING: C:\\buildkite-agent\\builds\\buildkite-windows-cpu-autoscaling-group-i-0b3782d1791676daf-1\\xgboost\\xgboost-ci-windows\\src\\learner.cc:742: \n",
      "Parameters: { \"criterion\" } are not used.\n",
      "\n",
      "  warnings.warn(smsg, UserWarning)\n"
     ]
    },
    {
     "name": "stdout",
     "output_type": "stream",
     "text": [
      "#####################\n",
      "booster  gbtree\n",
      "n_estimators  50\n",
      "eta  0.7\n",
      "max_depth  20\n",
      "lambda  1.0\n",
      "criterion  entropy\n",
      "max_leaves  5\n",
      "0.9351184346035015\n"
     ]
    },
    {
     "name": "stderr",
     "output_type": "stream",
     "text": [
      "c:\\Users\\loren\\anaconda3\\envs\\TensorFlow\\lib\\site-packages\\xgboost\\core.py:160: UserWarning: [10:53:09] WARNING: C:\\buildkite-agent\\builds\\buildkite-windows-cpu-autoscaling-group-i-0b3782d1791676daf-1\\xgboost\\xgboost-ci-windows\\src\\learner.cc:742: \n",
      "Parameters: { \"criterion\" } are not used.\n",
      "\n",
      "  warnings.warn(smsg, UserWarning)\n"
     ]
    },
    {
     "name": "stdout",
     "output_type": "stream",
     "text": [
      "#####################\n",
      "booster  gbtree\n",
      "n_estimators  50\n",
      "eta  0.7\n",
      "max_depth  20\n",
      "lambda  5.0\n",
      "criterion  gini\n",
      "max_leaves  0\n",
      "0.9438722966014418\n",
      "#####################\n",
      "booster  gbtree\n",
      "n_estimators  50\n",
      "eta  0.7\n",
      "max_depth  20\n",
      "lambda  5.0\n",
      "criterion  gini\n",
      "max_leaves  1\n",
      "0.3388259526261586\n"
     ]
    },
    {
     "name": "stderr",
     "output_type": "stream",
     "text": [
      "c:\\Users\\loren\\anaconda3\\envs\\TensorFlow\\lib\\site-packages\\xgboost\\core.py:160: UserWarning: [10:53:10] WARNING: C:\\buildkite-agent\\builds\\buildkite-windows-cpu-autoscaling-group-i-0b3782d1791676daf-1\\xgboost\\xgboost-ci-windows\\src\\learner.cc:742: \n",
      "Parameters: { \"criterion\" } are not used.\n",
      "\n",
      "  warnings.warn(smsg, UserWarning)\n",
      "c:\\Users\\loren\\anaconda3\\envs\\TensorFlow\\lib\\site-packages\\xgboost\\core.py:160: UserWarning: [10:53:10] WARNING: C:\\buildkite-agent\\builds\\buildkite-windows-cpu-autoscaling-group-i-0b3782d1791676daf-1\\xgboost\\xgboost-ci-windows\\src\\learner.cc:742: \n",
      "Parameters: { \"criterion\" } are not used.\n",
      "\n",
      "  warnings.warn(smsg, UserWarning)\n"
     ]
    },
    {
     "name": "stdout",
     "output_type": "stream",
     "text": [
      "#####################\n",
      "booster  gbtree\n",
      "n_estimators  50\n",
      "eta  0.7\n",
      "max_depth  20\n",
      "lambda  5.0\n",
      "criterion  gini\n",
      "max_leaves  5\n",
      "0.9304840370751802\n"
     ]
    },
    {
     "name": "stderr",
     "output_type": "stream",
     "text": [
      "c:\\Users\\loren\\anaconda3\\envs\\TensorFlow\\lib\\site-packages\\xgboost\\core.py:160: UserWarning: [10:53:10] WARNING: C:\\buildkite-agent\\builds\\buildkite-windows-cpu-autoscaling-group-i-0b3782d1791676daf-1\\xgboost\\xgboost-ci-windows\\src\\learner.cc:742: \n",
      "Parameters: { \"criterion\" } are not used.\n",
      "\n",
      "  warnings.warn(smsg, UserWarning)\n"
     ]
    },
    {
     "name": "stdout",
     "output_type": "stream",
     "text": [
      "#####################\n",
      "booster  gbtree\n",
      "n_estimators  50\n",
      "eta  0.7\n",
      "max_depth  20\n",
      "lambda  5.0\n",
      "criterion  entropy\n",
      "max_leaves  0\n",
      "0.9438722966014418\n",
      "#####################\n",
      "booster  gbtree\n",
      "n_estimators  50\n",
      "eta  0.7\n",
      "max_depth  20\n",
      "lambda  5.0\n",
      "criterion  entropy\n",
      "max_leaves  1\n",
      "0.3388259526261586\n"
     ]
    },
    {
     "name": "stderr",
     "output_type": "stream",
     "text": [
      "c:\\Users\\loren\\anaconda3\\envs\\TensorFlow\\lib\\site-packages\\xgboost\\core.py:160: UserWarning: [10:53:11] WARNING: C:\\buildkite-agent\\builds\\buildkite-windows-cpu-autoscaling-group-i-0b3782d1791676daf-1\\xgboost\\xgboost-ci-windows\\src\\learner.cc:742: \n",
      "Parameters: { \"criterion\" } are not used.\n",
      "\n",
      "  warnings.warn(smsg, UserWarning)\n",
      "c:\\Users\\loren\\anaconda3\\envs\\TensorFlow\\lib\\site-packages\\xgboost\\core.py:160: UserWarning: [10:53:11] WARNING: C:\\buildkite-agent\\builds\\buildkite-windows-cpu-autoscaling-group-i-0b3782d1791676daf-1\\xgboost\\xgboost-ci-windows\\src\\learner.cc:742: \n",
      "Parameters: { \"criterion\" } are not used.\n",
      "\n",
      "  warnings.warn(smsg, UserWarning)\n"
     ]
    },
    {
     "name": "stdout",
     "output_type": "stream",
     "text": [
      "#####################\n",
      "booster  gbtree\n",
      "n_estimators  50\n",
      "eta  0.7\n",
      "max_depth  20\n",
      "lambda  5.0\n",
      "criterion  entropy\n",
      "max_leaves  5\n",
      "0.9304840370751802\n"
     ]
    },
    {
     "name": "stderr",
     "output_type": "stream",
     "text": [
      "c:\\Users\\loren\\anaconda3\\envs\\TensorFlow\\lib\\site-packages\\xgboost\\core.py:160: UserWarning: [10:53:11] WARNING: C:\\buildkite-agent\\builds\\buildkite-windows-cpu-autoscaling-group-i-0b3782d1791676daf-1\\xgboost\\xgboost-ci-windows\\src\\learner.cc:742: \n",
      "Parameters: { \"criterion\" } are not used.\n",
      "\n",
      "  warnings.warn(smsg, UserWarning)\n"
     ]
    },
    {
     "name": "stdout",
     "output_type": "stream",
     "text": [
      "#####################\n",
      "booster  gbtree\n",
      "n_estimators  50\n",
      "eta  0.7\n",
      "max_depth  30\n",
      "lambda  0.0\n",
      "criterion  gini\n",
      "max_leaves  0\n",
      "0.937178166838311\n",
      "#####################\n",
      "booster  gbtree\n",
      "n_estimators  50\n",
      "eta  0.7\n",
      "max_depth  30\n",
      "lambda  0.0\n",
      "criterion  gini\n",
      "max_leaves  1\n",
      "0.3388259526261586\n"
     ]
    },
    {
     "name": "stderr",
     "output_type": "stream",
     "text": [
      "c:\\Users\\loren\\anaconda3\\envs\\TensorFlow\\lib\\site-packages\\xgboost\\core.py:160: UserWarning: [10:53:12] WARNING: C:\\buildkite-agent\\builds\\buildkite-windows-cpu-autoscaling-group-i-0b3782d1791676daf-1\\xgboost\\xgboost-ci-windows\\src\\learner.cc:742: \n",
      "Parameters: { \"criterion\" } are not used.\n",
      "\n",
      "  warnings.warn(smsg, UserWarning)\n",
      "c:\\Users\\loren\\anaconda3\\envs\\TensorFlow\\lib\\site-packages\\xgboost\\core.py:160: UserWarning: [10:53:12] WARNING: C:\\buildkite-agent\\builds\\buildkite-windows-cpu-autoscaling-group-i-0b3782d1791676daf-1\\xgboost\\xgboost-ci-windows\\src\\learner.cc:742: \n",
      "Parameters: { \"criterion\" } are not used.\n",
      "\n",
      "  warnings.warn(smsg, UserWarning)\n"
     ]
    },
    {
     "name": "stdout",
     "output_type": "stream",
     "text": [
      "#####################\n",
      "booster  gbtree\n",
      "n_estimators  50\n",
      "eta  0.7\n",
      "max_depth  30\n",
      "lambda  0.0\n",
      "criterion  gini\n",
      "max_leaves  5\n",
      "0.9351184346035015\n"
     ]
    },
    {
     "name": "stderr",
     "output_type": "stream",
     "text": [
      "c:\\Users\\loren\\anaconda3\\envs\\TensorFlow\\lib\\site-packages\\xgboost\\core.py:160: UserWarning: [10:53:13] WARNING: C:\\buildkite-agent\\builds\\buildkite-windows-cpu-autoscaling-group-i-0b3782d1791676daf-1\\xgboost\\xgboost-ci-windows\\src\\learner.cc:742: \n",
      "Parameters: { \"criterion\" } are not used.\n",
      "\n",
      "  warnings.warn(smsg, UserWarning)\n"
     ]
    },
    {
     "name": "stdout",
     "output_type": "stream",
     "text": [
      "#####################\n",
      "booster  gbtree\n",
      "n_estimators  50\n",
      "eta  0.7\n",
      "max_depth  30\n",
      "lambda  0.0\n",
      "criterion  entropy\n",
      "max_leaves  0\n",
      "0.937178166838311\n",
      "#####################\n",
      "booster  gbtree\n",
      "n_estimators  50\n",
      "eta  0.7\n",
      "max_depth  30\n",
      "lambda  0.0\n",
      "criterion  entropy\n",
      "max_leaves  1\n",
      "0.3388259526261586\n"
     ]
    },
    {
     "name": "stderr",
     "output_type": "stream",
     "text": [
      "c:\\Users\\loren\\anaconda3\\envs\\TensorFlow\\lib\\site-packages\\xgboost\\core.py:160: UserWarning: [10:53:14] WARNING: C:\\buildkite-agent\\builds\\buildkite-windows-cpu-autoscaling-group-i-0b3782d1791676daf-1\\xgboost\\xgboost-ci-windows\\src\\learner.cc:742: \n",
      "Parameters: { \"criterion\" } are not used.\n",
      "\n",
      "  warnings.warn(smsg, UserWarning)\n",
      "c:\\Users\\loren\\anaconda3\\envs\\TensorFlow\\lib\\site-packages\\xgboost\\core.py:160: UserWarning: [10:53:14] WARNING: C:\\buildkite-agent\\builds\\buildkite-windows-cpu-autoscaling-group-i-0b3782d1791676daf-1\\xgboost\\xgboost-ci-windows\\src\\learner.cc:742: \n",
      "Parameters: { \"criterion\" } are not used.\n",
      "\n",
      "  warnings.warn(smsg, UserWarning)\n"
     ]
    },
    {
     "name": "stdout",
     "output_type": "stream",
     "text": [
      "#####################\n",
      "booster  gbtree\n",
      "n_estimators  50\n",
      "eta  0.7\n",
      "max_depth  30\n",
      "lambda  0.0\n",
      "criterion  entropy\n",
      "max_leaves  5\n",
      "0.9351184346035015\n"
     ]
    },
    {
     "name": "stderr",
     "output_type": "stream",
     "text": [
      "c:\\Users\\loren\\anaconda3\\envs\\TensorFlow\\lib\\site-packages\\xgboost\\core.py:160: UserWarning: [10:53:14] WARNING: C:\\buildkite-agent\\builds\\buildkite-windows-cpu-autoscaling-group-i-0b3782d1791676daf-1\\xgboost\\xgboost-ci-windows\\src\\learner.cc:742: \n",
      "Parameters: { \"criterion\" } are not used.\n",
      "\n",
      "  warnings.warn(smsg, UserWarning)\n"
     ]
    },
    {
     "name": "stdout",
     "output_type": "stream",
     "text": [
      "#####################\n",
      "booster  gbtree\n",
      "n_estimators  50\n",
      "eta  0.7\n",
      "max_depth  30\n",
      "lambda  1.0\n",
      "criterion  gini\n",
      "max_leaves  0\n",
      "0.942842430484037\n",
      "#####################\n",
      "booster  gbtree\n",
      "n_estimators  50\n",
      "eta  0.7\n",
      "max_depth  30\n",
      "lambda  1.0\n",
      "criterion  gini\n",
      "max_leaves  1\n",
      "0.3388259526261586\n"
     ]
    },
    {
     "name": "stderr",
     "output_type": "stream",
     "text": [
      "c:\\Users\\loren\\anaconda3\\envs\\TensorFlow\\lib\\site-packages\\xgboost\\core.py:160: UserWarning: [10:53:15] WARNING: C:\\buildkite-agent\\builds\\buildkite-windows-cpu-autoscaling-group-i-0b3782d1791676daf-1\\xgboost\\xgboost-ci-windows\\src\\learner.cc:742: \n",
      "Parameters: { \"criterion\" } are not used.\n",
      "\n",
      "  warnings.warn(smsg, UserWarning)\n",
      "c:\\Users\\loren\\anaconda3\\envs\\TensorFlow\\lib\\site-packages\\xgboost\\core.py:160: UserWarning: [10:53:15] WARNING: C:\\buildkite-agent\\builds\\buildkite-windows-cpu-autoscaling-group-i-0b3782d1791676daf-1\\xgboost\\xgboost-ci-windows\\src\\learner.cc:742: \n",
      "Parameters: { \"criterion\" } are not used.\n",
      "\n",
      "  warnings.warn(smsg, UserWarning)\n"
     ]
    },
    {
     "name": "stdout",
     "output_type": "stream",
     "text": [
      "#####################\n",
      "booster  gbtree\n",
      "n_estimators  50\n",
      "eta  0.7\n",
      "max_depth  30\n",
      "lambda  1.0\n",
      "criterion  gini\n",
      "max_leaves  5\n",
      "0.9351184346035015\n"
     ]
    },
    {
     "name": "stderr",
     "output_type": "stream",
     "text": [
      "c:\\Users\\loren\\anaconda3\\envs\\TensorFlow\\lib\\site-packages\\xgboost\\core.py:160: UserWarning: [10:53:15] WARNING: C:\\buildkite-agent\\builds\\buildkite-windows-cpu-autoscaling-group-i-0b3782d1791676daf-1\\xgboost\\xgboost-ci-windows\\src\\learner.cc:742: \n",
      "Parameters: { \"criterion\" } are not used.\n",
      "\n",
      "  warnings.warn(smsg, UserWarning)\n"
     ]
    },
    {
     "name": "stdout",
     "output_type": "stream",
     "text": [
      "#####################\n",
      "booster  gbtree\n",
      "n_estimators  50\n",
      "eta  0.7\n",
      "max_depth  30\n",
      "lambda  1.0\n",
      "criterion  entropy\n",
      "max_leaves  0\n",
      "0.942842430484037\n",
      "#####################\n",
      "booster  gbtree\n",
      "n_estimators  50\n",
      "eta  0.7\n",
      "max_depth  30\n",
      "lambda  1.0\n",
      "criterion  entropy\n",
      "max_leaves  1\n",
      "0.3388259526261586\n"
     ]
    },
    {
     "name": "stderr",
     "output_type": "stream",
     "text": [
      "c:\\Users\\loren\\anaconda3\\envs\\TensorFlow\\lib\\site-packages\\xgboost\\core.py:160: UserWarning: [10:53:16] WARNING: C:\\buildkite-agent\\builds\\buildkite-windows-cpu-autoscaling-group-i-0b3782d1791676daf-1\\xgboost\\xgboost-ci-windows\\src\\learner.cc:742: \n",
      "Parameters: { \"criterion\" } are not used.\n",
      "\n",
      "  warnings.warn(smsg, UserWarning)\n",
      "c:\\Users\\loren\\anaconda3\\envs\\TensorFlow\\lib\\site-packages\\xgboost\\core.py:160: UserWarning: [10:53:16] WARNING: C:\\buildkite-agent\\builds\\buildkite-windows-cpu-autoscaling-group-i-0b3782d1791676daf-1\\xgboost\\xgboost-ci-windows\\src\\learner.cc:742: \n",
      "Parameters: { \"criterion\" } are not used.\n",
      "\n",
      "  warnings.warn(smsg, UserWarning)\n"
     ]
    },
    {
     "name": "stdout",
     "output_type": "stream",
     "text": [
      "#####################\n",
      "booster  gbtree\n",
      "n_estimators  50\n",
      "eta  0.7\n",
      "max_depth  30\n",
      "lambda  1.0\n",
      "criterion  entropy\n",
      "max_leaves  5\n",
      "0.9351184346035015\n"
     ]
    },
    {
     "name": "stderr",
     "output_type": "stream",
     "text": [
      "c:\\Users\\loren\\anaconda3\\envs\\TensorFlow\\lib\\site-packages\\xgboost\\core.py:160: UserWarning: [10:53:16] WARNING: C:\\buildkite-agent\\builds\\buildkite-windows-cpu-autoscaling-group-i-0b3782d1791676daf-1\\xgboost\\xgboost-ci-windows\\src\\learner.cc:742: \n",
      "Parameters: { \"criterion\" } are not used.\n",
      "\n",
      "  warnings.warn(smsg, UserWarning)\n"
     ]
    },
    {
     "name": "stdout",
     "output_type": "stream",
     "text": [
      "#####################\n",
      "booster  gbtree\n",
      "n_estimators  50\n",
      "eta  0.7\n",
      "max_depth  30\n",
      "lambda  5.0\n",
      "criterion  gini\n",
      "max_leaves  0\n",
      "0.9438722966014418\n",
      "#####################\n",
      "booster  gbtree\n",
      "n_estimators  50\n",
      "eta  0.7\n",
      "max_depth  30\n",
      "lambda  5.0\n",
      "criterion  gini\n",
      "max_leaves  1\n",
      "0.3388259526261586\n"
     ]
    },
    {
     "name": "stderr",
     "output_type": "stream",
     "text": [
      "c:\\Users\\loren\\anaconda3\\envs\\TensorFlow\\lib\\site-packages\\xgboost\\core.py:160: UserWarning: [10:53:17] WARNING: C:\\buildkite-agent\\builds\\buildkite-windows-cpu-autoscaling-group-i-0b3782d1791676daf-1\\xgboost\\xgboost-ci-windows\\src\\learner.cc:742: \n",
      "Parameters: { \"criterion\" } are not used.\n",
      "\n",
      "  warnings.warn(smsg, UserWarning)\n",
      "c:\\Users\\loren\\anaconda3\\envs\\TensorFlow\\lib\\site-packages\\xgboost\\core.py:160: UserWarning: [10:53:17] WARNING: C:\\buildkite-agent\\builds\\buildkite-windows-cpu-autoscaling-group-i-0b3782d1791676daf-1\\xgboost\\xgboost-ci-windows\\src\\learner.cc:742: \n",
      "Parameters: { \"criterion\" } are not used.\n",
      "\n",
      "  warnings.warn(smsg, UserWarning)\n"
     ]
    },
    {
     "name": "stdout",
     "output_type": "stream",
     "text": [
      "#####################\n",
      "booster  gbtree\n",
      "n_estimators  50\n",
      "eta  0.7\n",
      "max_depth  30\n",
      "lambda  5.0\n",
      "criterion  gini\n",
      "max_leaves  5\n",
      "0.9304840370751802\n"
     ]
    },
    {
     "name": "stderr",
     "output_type": "stream",
     "text": [
      "c:\\Users\\loren\\anaconda3\\envs\\TensorFlow\\lib\\site-packages\\xgboost\\core.py:160: UserWarning: [10:53:17] WARNING: C:\\buildkite-agent\\builds\\buildkite-windows-cpu-autoscaling-group-i-0b3782d1791676daf-1\\xgboost\\xgboost-ci-windows\\src\\learner.cc:742: \n",
      "Parameters: { \"criterion\" } are not used.\n",
      "\n",
      "  warnings.warn(smsg, UserWarning)\n"
     ]
    },
    {
     "name": "stdout",
     "output_type": "stream",
     "text": [
      "#####################\n",
      "booster  gbtree\n",
      "n_estimators  50\n",
      "eta  0.7\n",
      "max_depth  30\n",
      "lambda  5.0\n",
      "criterion  entropy\n",
      "max_leaves  0\n",
      "0.9438722966014418\n",
      "#####################\n",
      "booster  gbtree\n",
      "n_estimators  50\n",
      "eta  0.7\n",
      "max_depth  30\n",
      "lambda  5.0\n",
      "criterion  entropy\n",
      "max_leaves  1\n",
      "0.3388259526261586\n"
     ]
    },
    {
     "name": "stderr",
     "output_type": "stream",
     "text": [
      "c:\\Users\\loren\\anaconda3\\envs\\TensorFlow\\lib\\site-packages\\xgboost\\core.py:160: UserWarning: [10:53:18] WARNING: C:\\buildkite-agent\\builds\\buildkite-windows-cpu-autoscaling-group-i-0b3782d1791676daf-1\\xgboost\\xgboost-ci-windows\\src\\learner.cc:742: \n",
      "Parameters: { \"criterion\" } are not used.\n",
      "\n",
      "  warnings.warn(smsg, UserWarning)\n",
      "c:\\Users\\loren\\anaconda3\\envs\\TensorFlow\\lib\\site-packages\\xgboost\\core.py:160: UserWarning: [10:53:18] WARNING: C:\\buildkite-agent\\builds\\buildkite-windows-cpu-autoscaling-group-i-0b3782d1791676daf-1\\xgboost\\xgboost-ci-windows\\src\\learner.cc:742: \n",
      "Parameters: { \"criterion\" } are not used.\n",
      "\n",
      "  warnings.warn(smsg, UserWarning)\n"
     ]
    },
    {
     "name": "stdout",
     "output_type": "stream",
     "text": [
      "#####################\n",
      "booster  gbtree\n",
      "n_estimators  50\n",
      "eta  0.7\n",
      "max_depth  30\n",
      "lambda  5.0\n",
      "criterion  entropy\n",
      "max_leaves  5\n",
      "0.9304840370751802\n"
     ]
    },
    {
     "name": "stderr",
     "output_type": "stream",
     "text": [
      "c:\\Users\\loren\\anaconda3\\envs\\TensorFlow\\lib\\site-packages\\xgboost\\core.py:160: UserWarning: [10:53:18] WARNING: C:\\buildkite-agent\\builds\\buildkite-windows-cpu-autoscaling-group-i-0b3782d1791676daf-1\\xgboost\\xgboost-ci-windows\\src\\learner.cc:742: \n",
      "Parameters: { \"criterion\" } are not used.\n",
      "\n",
      "  warnings.warn(smsg, UserWarning)\n"
     ]
    },
    {
     "name": "stdout",
     "output_type": "stream",
     "text": [
      "#####################\n",
      "booster  gbtree\n",
      "n_estimators  50\n",
      "eta  0.9\n",
      "max_depth  5\n",
      "lambda  0.0\n",
      "criterion  gini\n",
      "max_leaves  0\n",
      "0.9438722966014418\n",
      "#####################\n",
      "booster  gbtree\n",
      "n_estimators  50\n",
      "eta  0.9\n",
      "max_depth  5\n",
      "lambda  0.0\n",
      "criterion  gini\n",
      "max_leaves  1\n",
      "0.3388259526261586\n"
     ]
    },
    {
     "name": "stderr",
     "output_type": "stream",
     "text": [
      "c:\\Users\\loren\\anaconda3\\envs\\TensorFlow\\lib\\site-packages\\xgboost\\core.py:160: UserWarning: [10:53:18] WARNING: C:\\buildkite-agent\\builds\\buildkite-windows-cpu-autoscaling-group-i-0b3782d1791676daf-1\\xgboost\\xgboost-ci-windows\\src\\learner.cc:742: \n",
      "Parameters: { \"criterion\" } are not used.\n",
      "\n",
      "  warnings.warn(smsg, UserWarning)\n",
      "c:\\Users\\loren\\anaconda3\\envs\\TensorFlow\\lib\\site-packages\\xgboost\\core.py:160: UserWarning: [10:53:18] WARNING: C:\\buildkite-agent\\builds\\buildkite-windows-cpu-autoscaling-group-i-0b3782d1791676daf-1\\xgboost\\xgboost-ci-windows\\src\\learner.cc:742: \n",
      "Parameters: { \"criterion\" } are not used.\n",
      "\n",
      "  warnings.warn(smsg, UserWarning)\n"
     ]
    },
    {
     "name": "stdout",
     "output_type": "stream",
     "text": [
      "#####################\n",
      "booster  gbtree\n",
      "n_estimators  50\n",
      "eta  0.9\n",
      "max_depth  5\n",
      "lambda  0.0\n",
      "criterion  gini\n",
      "max_leaves  5\n",
      "0.9335736354273945\n"
     ]
    },
    {
     "name": "stderr",
     "output_type": "stream",
     "text": [
      "c:\\Users\\loren\\anaconda3\\envs\\TensorFlow\\lib\\site-packages\\xgboost\\core.py:160: UserWarning: [10:53:19] WARNING: C:\\buildkite-agent\\builds\\buildkite-windows-cpu-autoscaling-group-i-0b3782d1791676daf-1\\xgboost\\xgboost-ci-windows\\src\\learner.cc:742: \n",
      "Parameters: { \"criterion\" } are not used.\n",
      "\n",
      "  warnings.warn(smsg, UserWarning)\n"
     ]
    },
    {
     "name": "stdout",
     "output_type": "stream",
     "text": [
      "#####################\n",
      "booster  gbtree\n",
      "n_estimators  50\n",
      "eta  0.9\n",
      "max_depth  5\n",
      "lambda  0.0\n",
      "criterion  entropy\n",
      "max_leaves  0\n",
      "0.9438722966014418\n",
      "#####################\n",
      "booster  gbtree\n",
      "n_estimators  50\n",
      "eta  0.9\n",
      "max_depth  5\n",
      "lambda  0.0\n",
      "criterion  entropy\n",
      "max_leaves  1\n",
      "0.3388259526261586\n"
     ]
    },
    {
     "name": "stderr",
     "output_type": "stream",
     "text": [
      "c:\\Users\\loren\\anaconda3\\envs\\TensorFlow\\lib\\site-packages\\xgboost\\core.py:160: UserWarning: [10:53:19] WARNING: C:\\buildkite-agent\\builds\\buildkite-windows-cpu-autoscaling-group-i-0b3782d1791676daf-1\\xgboost\\xgboost-ci-windows\\src\\learner.cc:742: \n",
      "Parameters: { \"criterion\" } are not used.\n",
      "\n",
      "  warnings.warn(smsg, UserWarning)\n",
      "c:\\Users\\loren\\anaconda3\\envs\\TensorFlow\\lib\\site-packages\\xgboost\\core.py:160: UserWarning: [10:53:19] WARNING: C:\\buildkite-agent\\builds\\buildkite-windows-cpu-autoscaling-group-i-0b3782d1791676daf-1\\xgboost\\xgboost-ci-windows\\src\\learner.cc:742: \n",
      "Parameters: { \"criterion\" } are not used.\n",
      "\n",
      "  warnings.warn(smsg, UserWarning)\n"
     ]
    },
    {
     "name": "stdout",
     "output_type": "stream",
     "text": [
      "#####################\n",
      "booster  gbtree\n",
      "n_estimators  50\n",
      "eta  0.9\n",
      "max_depth  5\n",
      "lambda  0.0\n",
      "criterion  entropy\n",
      "max_leaves  5\n",
      "0.9335736354273945\n"
     ]
    },
    {
     "name": "stderr",
     "output_type": "stream",
     "text": [
      "c:\\Users\\loren\\anaconda3\\envs\\TensorFlow\\lib\\site-packages\\xgboost\\core.py:160: UserWarning: [10:53:19] WARNING: C:\\buildkite-agent\\builds\\buildkite-windows-cpu-autoscaling-group-i-0b3782d1791676daf-1\\xgboost\\xgboost-ci-windows\\src\\learner.cc:742: \n",
      "Parameters: { \"criterion\" } are not used.\n",
      "\n",
      "  warnings.warn(smsg, UserWarning)\n"
     ]
    },
    {
     "name": "stdout",
     "output_type": "stream",
     "text": [
      "#####################\n",
      "booster  gbtree\n",
      "n_estimators  50\n",
      "eta  0.9\n",
      "max_depth  5\n",
      "lambda  1.0\n",
      "criterion  gini\n",
      "max_leaves  0\n",
      "0.9392378990731205\n",
      "#####################\n",
      "booster  gbtree\n",
      "n_estimators  50\n",
      "eta  0.9\n",
      "max_depth  5\n",
      "lambda  1.0\n",
      "criterion  gini\n",
      "max_leaves  1\n",
      "0.3388259526261586\n"
     ]
    },
    {
     "name": "stderr",
     "output_type": "stream",
     "text": [
      "c:\\Users\\loren\\anaconda3\\envs\\TensorFlow\\lib\\site-packages\\xgboost\\core.py:160: UserWarning: [10:53:19] WARNING: C:\\buildkite-agent\\builds\\buildkite-windows-cpu-autoscaling-group-i-0b3782d1791676daf-1\\xgboost\\xgboost-ci-windows\\src\\learner.cc:742: \n",
      "Parameters: { \"criterion\" } are not used.\n",
      "\n",
      "  warnings.warn(smsg, UserWarning)\n",
      "c:\\Users\\loren\\anaconda3\\envs\\TensorFlow\\lib\\site-packages\\xgboost\\core.py:160: UserWarning: [10:53:20] WARNING: C:\\buildkite-agent\\builds\\buildkite-windows-cpu-autoscaling-group-i-0b3782d1791676daf-1\\xgboost\\xgboost-ci-windows\\src\\learner.cc:742: \n",
      "Parameters: { \"criterion\" } are not used.\n",
      "\n",
      "  warnings.warn(smsg, UserWarning)\n"
     ]
    },
    {
     "name": "stdout",
     "output_type": "stream",
     "text": [
      "#####################\n",
      "booster  gbtree\n",
      "n_estimators  50\n",
      "eta  0.9\n",
      "max_depth  5\n",
      "lambda  1.0\n",
      "criterion  gini\n",
      "max_leaves  5\n",
      "0.9351184346035015\n"
     ]
    },
    {
     "name": "stderr",
     "output_type": "stream",
     "text": [
      "c:\\Users\\loren\\anaconda3\\envs\\TensorFlow\\lib\\site-packages\\xgboost\\core.py:160: UserWarning: [10:53:20] WARNING: C:\\buildkite-agent\\builds\\buildkite-windows-cpu-autoscaling-group-i-0b3782d1791676daf-1\\xgboost\\xgboost-ci-windows\\src\\learner.cc:742: \n",
      "Parameters: { \"criterion\" } are not used.\n",
      "\n",
      "  warnings.warn(smsg, UserWarning)\n"
     ]
    },
    {
     "name": "stdout",
     "output_type": "stream",
     "text": [
      "#####################\n",
      "booster  gbtree\n",
      "n_estimators  50\n",
      "eta  0.9\n",
      "max_depth  5\n",
      "lambda  1.0\n",
      "criterion  entropy\n",
      "max_leaves  0\n",
      "0.9392378990731205\n",
      "#####################\n",
      "booster  gbtree\n",
      "n_estimators  50\n",
      "eta  0.9\n",
      "max_depth  5\n",
      "lambda  1.0\n",
      "criterion  entropy\n",
      "max_leaves  1\n",
      "0.3388259526261586\n"
     ]
    },
    {
     "name": "stderr",
     "output_type": "stream",
     "text": [
      "c:\\Users\\loren\\anaconda3\\envs\\TensorFlow\\lib\\site-packages\\xgboost\\core.py:160: UserWarning: [10:53:20] WARNING: C:\\buildkite-agent\\builds\\buildkite-windows-cpu-autoscaling-group-i-0b3782d1791676daf-1\\xgboost\\xgboost-ci-windows\\src\\learner.cc:742: \n",
      "Parameters: { \"criterion\" } are not used.\n",
      "\n",
      "  warnings.warn(smsg, UserWarning)\n",
      "c:\\Users\\loren\\anaconda3\\envs\\TensorFlow\\lib\\site-packages\\xgboost\\core.py:160: UserWarning: [10:53:20] WARNING: C:\\buildkite-agent\\builds\\buildkite-windows-cpu-autoscaling-group-i-0b3782d1791676daf-1\\xgboost\\xgboost-ci-windows\\src\\learner.cc:742: \n",
      "Parameters: { \"criterion\" } are not used.\n",
      "\n",
      "  warnings.warn(smsg, UserWarning)\n"
     ]
    },
    {
     "name": "stdout",
     "output_type": "stream",
     "text": [
      "#####################\n",
      "booster  gbtree\n",
      "n_estimators  50\n",
      "eta  0.9\n",
      "max_depth  5\n",
      "lambda  1.0\n",
      "criterion  entropy\n",
      "max_leaves  5\n",
      "0.9351184346035015\n"
     ]
    },
    {
     "name": "stderr",
     "output_type": "stream",
     "text": [
      "c:\\Users\\loren\\anaconda3\\envs\\TensorFlow\\lib\\site-packages\\xgboost\\core.py:160: UserWarning: [10:53:20] WARNING: C:\\buildkite-agent\\builds\\buildkite-windows-cpu-autoscaling-group-i-0b3782d1791676daf-1\\xgboost\\xgboost-ci-windows\\src\\learner.cc:742: \n",
      "Parameters: { \"criterion\" } are not used.\n",
      "\n",
      "  warnings.warn(smsg, UserWarning)\n"
     ]
    },
    {
     "name": "stdout",
     "output_type": "stream",
     "text": [
      "#####################\n",
      "booster  gbtree\n",
      "n_estimators  50\n",
      "eta  0.9\n",
      "max_depth  5\n",
      "lambda  5.0\n",
      "criterion  gini\n",
      "max_leaves  0\n",
      "0.945417095777549\n",
      "#####################\n",
      "booster  gbtree\n",
      "n_estimators  50\n",
      "eta  0.9\n",
      "max_depth  5\n",
      "lambda  5.0\n",
      "criterion  gini\n",
      "max_leaves  1\n",
      "0.3388259526261586\n"
     ]
    },
    {
     "name": "stderr",
     "output_type": "stream",
     "text": [
      "c:\\Users\\loren\\anaconda3\\envs\\TensorFlow\\lib\\site-packages\\xgboost\\core.py:160: UserWarning: [10:53:21] WARNING: C:\\buildkite-agent\\builds\\buildkite-windows-cpu-autoscaling-group-i-0b3782d1791676daf-1\\xgboost\\xgboost-ci-windows\\src\\learner.cc:742: \n",
      "Parameters: { \"criterion\" } are not used.\n",
      "\n",
      "  warnings.warn(smsg, UserWarning)\n",
      "c:\\Users\\loren\\anaconda3\\envs\\TensorFlow\\lib\\site-packages\\xgboost\\core.py:160: UserWarning: [10:53:21] WARNING: C:\\buildkite-agent\\builds\\buildkite-windows-cpu-autoscaling-group-i-0b3782d1791676daf-1\\xgboost\\xgboost-ci-windows\\src\\learner.cc:742: \n",
      "Parameters: { \"criterion\" } are not used.\n",
      "\n",
      "  warnings.warn(smsg, UserWarning)\n"
     ]
    },
    {
     "name": "stdout",
     "output_type": "stream",
     "text": [
      "#####################\n",
      "booster  gbtree\n",
      "n_estimators  50\n",
      "eta  0.9\n",
      "max_depth  5\n",
      "lambda  5.0\n",
      "criterion  gini\n",
      "max_leaves  5\n",
      "0.9351184346035015\n"
     ]
    },
    {
     "name": "stderr",
     "output_type": "stream",
     "text": [
      "c:\\Users\\loren\\anaconda3\\envs\\TensorFlow\\lib\\site-packages\\xgboost\\core.py:160: UserWarning: [10:53:21] WARNING: C:\\buildkite-agent\\builds\\buildkite-windows-cpu-autoscaling-group-i-0b3782d1791676daf-1\\xgboost\\xgboost-ci-windows\\src\\learner.cc:742: \n",
      "Parameters: { \"criterion\" } are not used.\n",
      "\n",
      "  warnings.warn(smsg, UserWarning)\n"
     ]
    },
    {
     "name": "stdout",
     "output_type": "stream",
     "text": [
      "#####################\n",
      "booster  gbtree\n",
      "n_estimators  50\n",
      "eta  0.9\n",
      "max_depth  5\n",
      "lambda  5.0\n",
      "criterion  entropy\n",
      "max_leaves  0\n",
      "0.945417095777549\n",
      "#####################\n",
      "booster  gbtree\n",
      "n_estimators  50\n",
      "eta  0.9\n",
      "max_depth  5\n",
      "lambda  5.0\n",
      "criterion  entropy\n",
      "max_leaves  1\n",
      "0.3388259526261586\n"
     ]
    },
    {
     "name": "stderr",
     "output_type": "stream",
     "text": [
      "c:\\Users\\loren\\anaconda3\\envs\\TensorFlow\\lib\\site-packages\\xgboost\\core.py:160: UserWarning: [10:53:21] WARNING: C:\\buildkite-agent\\builds\\buildkite-windows-cpu-autoscaling-group-i-0b3782d1791676daf-1\\xgboost\\xgboost-ci-windows\\src\\learner.cc:742: \n",
      "Parameters: { \"criterion\" } are not used.\n",
      "\n",
      "  warnings.warn(smsg, UserWarning)\n",
      "c:\\Users\\loren\\anaconda3\\envs\\TensorFlow\\lib\\site-packages\\xgboost\\core.py:160: UserWarning: [10:53:22] WARNING: C:\\buildkite-agent\\builds\\buildkite-windows-cpu-autoscaling-group-i-0b3782d1791676daf-1\\xgboost\\xgboost-ci-windows\\src\\learner.cc:742: \n",
      "Parameters: { \"criterion\" } are not used.\n",
      "\n",
      "  warnings.warn(smsg, UserWarning)\n"
     ]
    },
    {
     "name": "stdout",
     "output_type": "stream",
     "text": [
      "#####################\n",
      "booster  gbtree\n",
      "n_estimators  50\n",
      "eta  0.9\n",
      "max_depth  5\n",
      "lambda  5.0\n",
      "criterion  entropy\n",
      "max_leaves  5\n",
      "0.9351184346035015\n"
     ]
    },
    {
     "name": "stderr",
     "output_type": "stream",
     "text": [
      "c:\\Users\\loren\\anaconda3\\envs\\TensorFlow\\lib\\site-packages\\xgboost\\core.py:160: UserWarning: [10:53:22] WARNING: C:\\buildkite-agent\\builds\\buildkite-windows-cpu-autoscaling-group-i-0b3782d1791676daf-1\\xgboost\\xgboost-ci-windows\\src\\learner.cc:742: \n",
      "Parameters: { \"criterion\" } are not used.\n",
      "\n",
      "  warnings.warn(smsg, UserWarning)\n"
     ]
    },
    {
     "name": "stdout",
     "output_type": "stream",
     "text": [
      "#####################\n",
      "booster  gbtree\n",
      "n_estimators  50\n",
      "eta  0.9\n",
      "max_depth  10\n",
      "lambda  0.0\n",
      "criterion  gini\n",
      "max_leaves  0\n",
      "0.9392378990731205\n",
      "#####################\n",
      "booster  gbtree\n",
      "n_estimators  50\n",
      "eta  0.9\n",
      "max_depth  10\n",
      "lambda  0.0\n",
      "criterion  gini\n",
      "max_leaves  1\n",
      "0.3388259526261586\n"
     ]
    },
    {
     "name": "stderr",
     "output_type": "stream",
     "text": [
      "c:\\Users\\loren\\anaconda3\\envs\\TensorFlow\\lib\\site-packages\\xgboost\\core.py:160: UserWarning: [10:53:22] WARNING: C:\\buildkite-agent\\builds\\buildkite-windows-cpu-autoscaling-group-i-0b3782d1791676daf-1\\xgboost\\xgboost-ci-windows\\src\\learner.cc:742: \n",
      "Parameters: { \"criterion\" } are not used.\n",
      "\n",
      "  warnings.warn(smsg, UserWarning)\n",
      "c:\\Users\\loren\\anaconda3\\envs\\TensorFlow\\lib\\site-packages\\xgboost\\core.py:160: UserWarning: [10:53:22] WARNING: C:\\buildkite-agent\\builds\\buildkite-windows-cpu-autoscaling-group-i-0b3782d1791676daf-1\\xgboost\\xgboost-ci-windows\\src\\learner.cc:742: \n",
      "Parameters: { \"criterion\" } are not used.\n",
      "\n",
      "  warnings.warn(smsg, UserWarning)\n"
     ]
    },
    {
     "name": "stdout",
     "output_type": "stream",
     "text": [
      "#####################\n",
      "booster  gbtree\n",
      "n_estimators  50\n",
      "eta  0.9\n",
      "max_depth  10\n",
      "lambda  0.0\n",
      "criterion  gini\n",
      "max_leaves  5\n",
      "0.9335736354273945\n"
     ]
    },
    {
     "name": "stderr",
     "output_type": "stream",
     "text": [
      "c:\\Users\\loren\\anaconda3\\envs\\TensorFlow\\lib\\site-packages\\xgboost\\core.py:160: UserWarning: [10:53:22] WARNING: C:\\buildkite-agent\\builds\\buildkite-windows-cpu-autoscaling-group-i-0b3782d1791676daf-1\\xgboost\\xgboost-ci-windows\\src\\learner.cc:742: \n",
      "Parameters: { \"criterion\" } are not used.\n",
      "\n",
      "  warnings.warn(smsg, UserWarning)\n"
     ]
    },
    {
     "name": "stdout",
     "output_type": "stream",
     "text": [
      "#####################\n",
      "booster  gbtree\n",
      "n_estimators  50\n",
      "eta  0.9\n",
      "max_depth  10\n",
      "lambda  0.0\n",
      "criterion  entropy\n",
      "max_leaves  0\n",
      "0.9392378990731205\n",
      "#####################\n",
      "booster  gbtree\n",
      "n_estimators  50\n",
      "eta  0.9\n",
      "max_depth  10\n",
      "lambda  0.0\n",
      "criterion  entropy\n",
      "max_leaves  1\n",
      "0.3388259526261586\n"
     ]
    },
    {
     "name": "stderr",
     "output_type": "stream",
     "text": [
      "c:\\Users\\loren\\anaconda3\\envs\\TensorFlow\\lib\\site-packages\\xgboost\\core.py:160: UserWarning: [10:53:23] WARNING: C:\\buildkite-agent\\builds\\buildkite-windows-cpu-autoscaling-group-i-0b3782d1791676daf-1\\xgboost\\xgboost-ci-windows\\src\\learner.cc:742: \n",
      "Parameters: { \"criterion\" } are not used.\n",
      "\n",
      "  warnings.warn(smsg, UserWarning)\n",
      "c:\\Users\\loren\\anaconda3\\envs\\TensorFlow\\lib\\site-packages\\xgboost\\core.py:160: UserWarning: [10:53:23] WARNING: C:\\buildkite-agent\\builds\\buildkite-windows-cpu-autoscaling-group-i-0b3782d1791676daf-1\\xgboost\\xgboost-ci-windows\\src\\learner.cc:742: \n",
      "Parameters: { \"criterion\" } are not used.\n",
      "\n",
      "  warnings.warn(smsg, UserWarning)\n"
     ]
    },
    {
     "name": "stdout",
     "output_type": "stream",
     "text": [
      "#####################\n",
      "booster  gbtree\n",
      "n_estimators  50\n",
      "eta  0.9\n",
      "max_depth  10\n",
      "lambda  0.0\n",
      "criterion  entropy\n",
      "max_leaves  5\n",
      "0.9335736354273945\n"
     ]
    },
    {
     "name": "stderr",
     "output_type": "stream",
     "text": [
      "c:\\Users\\loren\\anaconda3\\envs\\TensorFlow\\lib\\site-packages\\xgboost\\core.py:160: UserWarning: [10:53:23] WARNING: C:\\buildkite-agent\\builds\\buildkite-windows-cpu-autoscaling-group-i-0b3782d1791676daf-1\\xgboost\\xgboost-ci-windows\\src\\learner.cc:742: \n",
      "Parameters: { \"criterion\" } are not used.\n",
      "\n",
      "  warnings.warn(smsg, UserWarning)\n"
     ]
    },
    {
     "name": "stdout",
     "output_type": "stream",
     "text": [
      "#####################\n",
      "booster  gbtree\n",
      "n_estimators  50\n",
      "eta  0.9\n",
      "max_depth  10\n",
      "lambda  1.0\n",
      "criterion  gini\n",
      "max_leaves  0\n",
      "0.9418125643666323\n",
      "#####################\n",
      "booster  gbtree\n",
      "n_estimators  50\n",
      "eta  0.9\n",
      "max_depth  10\n",
      "lambda  1.0\n",
      "criterion  gini\n",
      "max_leaves  1\n",
      "0.3388259526261586\n"
     ]
    },
    {
     "name": "stderr",
     "output_type": "stream",
     "text": [
      "c:\\Users\\loren\\anaconda3\\envs\\TensorFlow\\lib\\site-packages\\xgboost\\core.py:160: UserWarning: [10:53:24] WARNING: C:\\buildkite-agent\\builds\\buildkite-windows-cpu-autoscaling-group-i-0b3782d1791676daf-1\\xgboost\\xgboost-ci-windows\\src\\learner.cc:742: \n",
      "Parameters: { \"criterion\" } are not used.\n",
      "\n",
      "  warnings.warn(smsg, UserWarning)\n",
      "c:\\Users\\loren\\anaconda3\\envs\\TensorFlow\\lib\\site-packages\\xgboost\\core.py:160: UserWarning: [10:53:24] WARNING: C:\\buildkite-agent\\builds\\buildkite-windows-cpu-autoscaling-group-i-0b3782d1791676daf-1\\xgboost\\xgboost-ci-windows\\src\\learner.cc:742: \n",
      "Parameters: { \"criterion\" } are not used.\n",
      "\n",
      "  warnings.warn(smsg, UserWarning)\n"
     ]
    },
    {
     "name": "stdout",
     "output_type": "stream",
     "text": [
      "#####################\n",
      "booster  gbtree\n",
      "n_estimators  50\n",
      "eta  0.9\n",
      "max_depth  10\n",
      "lambda  1.0\n",
      "criterion  gini\n",
      "max_leaves  5\n",
      "0.9351184346035015\n"
     ]
    },
    {
     "name": "stderr",
     "output_type": "stream",
     "text": [
      "c:\\Users\\loren\\anaconda3\\envs\\TensorFlow\\lib\\site-packages\\xgboost\\core.py:160: UserWarning: [10:53:24] WARNING: C:\\buildkite-agent\\builds\\buildkite-windows-cpu-autoscaling-group-i-0b3782d1791676daf-1\\xgboost\\xgboost-ci-windows\\src\\learner.cc:742: \n",
      "Parameters: { \"criterion\" } are not used.\n",
      "\n",
      "  warnings.warn(smsg, UserWarning)\n"
     ]
    },
    {
     "name": "stdout",
     "output_type": "stream",
     "text": [
      "#####################\n",
      "booster  gbtree\n",
      "n_estimators  50\n",
      "eta  0.9\n",
      "max_depth  10\n",
      "lambda  1.0\n",
      "criterion  entropy\n",
      "max_leaves  0\n",
      "0.9418125643666323\n",
      "#####################\n",
      "booster  gbtree\n",
      "n_estimators  50\n",
      "eta  0.9\n",
      "max_depth  10\n",
      "lambda  1.0\n",
      "criterion  entropy\n",
      "max_leaves  1\n",
      "0.3388259526261586\n"
     ]
    },
    {
     "name": "stderr",
     "output_type": "stream",
     "text": [
      "c:\\Users\\loren\\anaconda3\\envs\\TensorFlow\\lib\\site-packages\\xgboost\\core.py:160: UserWarning: [10:53:24] WARNING: C:\\buildkite-agent\\builds\\buildkite-windows-cpu-autoscaling-group-i-0b3782d1791676daf-1\\xgboost\\xgboost-ci-windows\\src\\learner.cc:742: \n",
      "Parameters: { \"criterion\" } are not used.\n",
      "\n",
      "  warnings.warn(smsg, UserWarning)\n",
      "c:\\Users\\loren\\anaconda3\\envs\\TensorFlow\\lib\\site-packages\\xgboost\\core.py:160: UserWarning: [10:53:24] WARNING: C:\\buildkite-agent\\builds\\buildkite-windows-cpu-autoscaling-group-i-0b3782d1791676daf-1\\xgboost\\xgboost-ci-windows\\src\\learner.cc:742: \n",
      "Parameters: { \"criterion\" } are not used.\n",
      "\n",
      "  warnings.warn(smsg, UserWarning)\n"
     ]
    },
    {
     "name": "stdout",
     "output_type": "stream",
     "text": [
      "#####################\n",
      "booster  gbtree\n",
      "n_estimators  50\n",
      "eta  0.9\n",
      "max_depth  10\n",
      "lambda  1.0\n",
      "criterion  entropy\n",
      "max_leaves  5\n",
      "0.9351184346035015\n"
     ]
    },
    {
     "name": "stderr",
     "output_type": "stream",
     "text": [
      "c:\\Users\\loren\\anaconda3\\envs\\TensorFlow\\lib\\site-packages\\xgboost\\core.py:160: UserWarning: [10:53:25] WARNING: C:\\buildkite-agent\\builds\\buildkite-windows-cpu-autoscaling-group-i-0b3782d1791676daf-1\\xgboost\\xgboost-ci-windows\\src\\learner.cc:742: \n",
      "Parameters: { \"criterion\" } are not used.\n",
      "\n",
      "  warnings.warn(smsg, UserWarning)\n"
     ]
    },
    {
     "name": "stdout",
     "output_type": "stream",
     "text": [
      "#####################\n",
      "booster  gbtree\n",
      "n_estimators  50\n",
      "eta  0.9\n",
      "max_depth  10\n",
      "lambda  5.0\n",
      "criterion  gini\n",
      "max_leaves  0\n",
      "0.9464469618949537\n",
      "#####################\n",
      "booster  gbtree\n",
      "n_estimators  50\n",
      "eta  0.9\n",
      "max_depth  10\n",
      "lambda  5.0\n",
      "criterion  gini\n",
      "max_leaves  1\n",
      "0.3388259526261586\n"
     ]
    },
    {
     "name": "stderr",
     "output_type": "stream",
     "text": [
      "c:\\Users\\loren\\anaconda3\\envs\\TensorFlow\\lib\\site-packages\\xgboost\\core.py:160: UserWarning: [10:53:25] WARNING: C:\\buildkite-agent\\builds\\buildkite-windows-cpu-autoscaling-group-i-0b3782d1791676daf-1\\xgboost\\xgboost-ci-windows\\src\\learner.cc:742: \n",
      "Parameters: { \"criterion\" } are not used.\n",
      "\n",
      "  warnings.warn(smsg, UserWarning)\n",
      "c:\\Users\\loren\\anaconda3\\envs\\TensorFlow\\lib\\site-packages\\xgboost\\core.py:160: UserWarning: [10:53:25] WARNING: C:\\buildkite-agent\\builds\\buildkite-windows-cpu-autoscaling-group-i-0b3782d1791676daf-1\\xgboost\\xgboost-ci-windows\\src\\learner.cc:742: \n",
      "Parameters: { \"criterion\" } are not used.\n",
      "\n",
      "  warnings.warn(smsg, UserWarning)\n"
     ]
    },
    {
     "name": "stdout",
     "output_type": "stream",
     "text": [
      "#####################\n",
      "booster  gbtree\n",
      "n_estimators  50\n",
      "eta  0.9\n",
      "max_depth  10\n",
      "lambda  5.0\n",
      "criterion  gini\n",
      "max_leaves  5\n",
      "0.9351184346035015\n"
     ]
    },
    {
     "name": "stderr",
     "output_type": "stream",
     "text": [
      "c:\\Users\\loren\\anaconda3\\envs\\TensorFlow\\lib\\site-packages\\xgboost\\core.py:160: UserWarning: [10:53:26] WARNING: C:\\buildkite-agent\\builds\\buildkite-windows-cpu-autoscaling-group-i-0b3782d1791676daf-1\\xgboost\\xgboost-ci-windows\\src\\learner.cc:742: \n",
      "Parameters: { \"criterion\" } are not used.\n",
      "\n",
      "  warnings.warn(smsg, UserWarning)\n"
     ]
    },
    {
     "name": "stdout",
     "output_type": "stream",
     "text": [
      "#####################\n",
      "booster  gbtree\n",
      "n_estimators  50\n",
      "eta  0.9\n",
      "max_depth  10\n",
      "lambda  5.0\n",
      "criterion  entropy\n",
      "max_leaves  0\n",
      "0.9464469618949537\n",
      "#####################\n",
      "booster  gbtree\n",
      "n_estimators  50\n",
      "eta  0.9\n",
      "max_depth  10\n",
      "lambda  5.0\n",
      "criterion  entropy\n",
      "max_leaves  1\n",
      "0.3388259526261586\n"
     ]
    },
    {
     "name": "stderr",
     "output_type": "stream",
     "text": [
      "c:\\Users\\loren\\anaconda3\\envs\\TensorFlow\\lib\\site-packages\\xgboost\\core.py:160: UserWarning: [10:53:26] WARNING: C:\\buildkite-agent\\builds\\buildkite-windows-cpu-autoscaling-group-i-0b3782d1791676daf-1\\xgboost\\xgboost-ci-windows\\src\\learner.cc:742: \n",
      "Parameters: { \"criterion\" } are not used.\n",
      "\n",
      "  warnings.warn(smsg, UserWarning)\n",
      "c:\\Users\\loren\\anaconda3\\envs\\TensorFlow\\lib\\site-packages\\xgboost\\core.py:160: UserWarning: [10:53:26] WARNING: C:\\buildkite-agent\\builds\\buildkite-windows-cpu-autoscaling-group-i-0b3782d1791676daf-1\\xgboost\\xgboost-ci-windows\\src\\learner.cc:742: \n",
      "Parameters: { \"criterion\" } are not used.\n",
      "\n",
      "  warnings.warn(smsg, UserWarning)\n"
     ]
    },
    {
     "name": "stdout",
     "output_type": "stream",
     "text": [
      "#####################\n",
      "booster  gbtree\n",
      "n_estimators  50\n",
      "eta  0.9\n",
      "max_depth  10\n",
      "lambda  5.0\n",
      "criterion  entropy\n",
      "max_leaves  5\n",
      "0.9351184346035015\n"
     ]
    },
    {
     "name": "stderr",
     "output_type": "stream",
     "text": [
      "c:\\Users\\loren\\anaconda3\\envs\\TensorFlow\\lib\\site-packages\\xgboost\\core.py:160: UserWarning: [10:53:26] WARNING: C:\\buildkite-agent\\builds\\buildkite-windows-cpu-autoscaling-group-i-0b3782d1791676daf-1\\xgboost\\xgboost-ci-windows\\src\\learner.cc:742: \n",
      "Parameters: { \"criterion\" } are not used.\n",
      "\n",
      "  warnings.warn(smsg, UserWarning)\n"
     ]
    },
    {
     "name": "stdout",
     "output_type": "stream",
     "text": [
      "#####################\n",
      "booster  gbtree\n",
      "n_estimators  50\n",
      "eta  0.9\n",
      "max_depth  20\n",
      "lambda  0.0\n",
      "criterion  gini\n",
      "max_leaves  0\n",
      "0.9392378990731205\n",
      "#####################\n",
      "booster  gbtree\n",
      "n_estimators  50\n",
      "eta  0.9\n",
      "max_depth  20\n",
      "lambda  0.0\n",
      "criterion  gini\n",
      "max_leaves  1\n",
      "0.3388259526261586\n"
     ]
    },
    {
     "name": "stderr",
     "output_type": "stream",
     "text": [
      "c:\\Users\\loren\\anaconda3\\envs\\TensorFlow\\lib\\site-packages\\xgboost\\core.py:160: UserWarning: [10:53:27] WARNING: C:\\buildkite-agent\\builds\\buildkite-windows-cpu-autoscaling-group-i-0b3782d1791676daf-1\\xgboost\\xgboost-ci-windows\\src\\learner.cc:742: \n",
      "Parameters: { \"criterion\" } are not used.\n",
      "\n",
      "  warnings.warn(smsg, UserWarning)\n",
      "c:\\Users\\loren\\anaconda3\\envs\\TensorFlow\\lib\\site-packages\\xgboost\\core.py:160: UserWarning: [10:53:27] WARNING: C:\\buildkite-agent\\builds\\buildkite-windows-cpu-autoscaling-group-i-0b3782d1791676daf-1\\xgboost\\xgboost-ci-windows\\src\\learner.cc:742: \n",
      "Parameters: { \"criterion\" } are not used.\n",
      "\n",
      "  warnings.warn(smsg, UserWarning)\n"
     ]
    },
    {
     "name": "stdout",
     "output_type": "stream",
     "text": [
      "#####################\n",
      "booster  gbtree\n",
      "n_estimators  50\n",
      "eta  0.9\n",
      "max_depth  20\n",
      "lambda  0.0\n",
      "criterion  gini\n",
      "max_leaves  5\n",
      "0.9335736354273945\n"
     ]
    },
    {
     "name": "stderr",
     "output_type": "stream",
     "text": [
      "c:\\Users\\loren\\anaconda3\\envs\\TensorFlow\\lib\\site-packages\\xgboost\\core.py:160: UserWarning: [10:53:27] WARNING: C:\\buildkite-agent\\builds\\buildkite-windows-cpu-autoscaling-group-i-0b3782d1791676daf-1\\xgboost\\xgboost-ci-windows\\src\\learner.cc:742: \n",
      "Parameters: { \"criterion\" } are not used.\n",
      "\n",
      "  warnings.warn(smsg, UserWarning)\n"
     ]
    },
    {
     "name": "stdout",
     "output_type": "stream",
     "text": [
      "#####################\n",
      "booster  gbtree\n",
      "n_estimators  50\n",
      "eta  0.9\n",
      "max_depth  20\n",
      "lambda  0.0\n",
      "criterion  entropy\n",
      "max_leaves  0\n",
      "0.9392378990731205\n",
      "#####################\n",
      "booster  gbtree\n",
      "n_estimators  50\n",
      "eta  0.9\n",
      "max_depth  20\n",
      "lambda  0.0\n",
      "criterion  entropy\n",
      "max_leaves  1\n",
      "0.3388259526261586\n"
     ]
    },
    {
     "name": "stderr",
     "output_type": "stream",
     "text": [
      "c:\\Users\\loren\\anaconda3\\envs\\TensorFlow\\lib\\site-packages\\xgboost\\core.py:160: UserWarning: [10:53:28] WARNING: C:\\buildkite-agent\\builds\\buildkite-windows-cpu-autoscaling-group-i-0b3782d1791676daf-1\\xgboost\\xgboost-ci-windows\\src\\learner.cc:742: \n",
      "Parameters: { \"criterion\" } are not used.\n",
      "\n",
      "  warnings.warn(smsg, UserWarning)\n",
      "c:\\Users\\loren\\anaconda3\\envs\\TensorFlow\\lib\\site-packages\\xgboost\\core.py:160: UserWarning: [10:53:28] WARNING: C:\\buildkite-agent\\builds\\buildkite-windows-cpu-autoscaling-group-i-0b3782d1791676daf-1\\xgboost\\xgboost-ci-windows\\src\\learner.cc:742: \n",
      "Parameters: { \"criterion\" } are not used.\n",
      "\n",
      "  warnings.warn(smsg, UserWarning)\n"
     ]
    },
    {
     "name": "stdout",
     "output_type": "stream",
     "text": [
      "#####################\n",
      "booster  gbtree\n",
      "n_estimators  50\n",
      "eta  0.9\n",
      "max_depth  20\n",
      "lambda  0.0\n",
      "criterion  entropy\n",
      "max_leaves  5\n",
      "0.9335736354273945\n"
     ]
    },
    {
     "name": "stderr",
     "output_type": "stream",
     "text": [
      "c:\\Users\\loren\\anaconda3\\envs\\TensorFlow\\lib\\site-packages\\xgboost\\core.py:160: UserWarning: [10:53:29] WARNING: C:\\buildkite-agent\\builds\\buildkite-windows-cpu-autoscaling-group-i-0b3782d1791676daf-1\\xgboost\\xgboost-ci-windows\\src\\learner.cc:742: \n",
      "Parameters: { \"criterion\" } are not used.\n",
      "\n",
      "  warnings.warn(smsg, UserWarning)\n"
     ]
    },
    {
     "name": "stdout",
     "output_type": "stream",
     "text": [
      "#####################\n",
      "booster  gbtree\n",
      "n_estimators  50\n",
      "eta  0.9\n",
      "max_depth  20\n",
      "lambda  1.0\n",
      "criterion  gini\n",
      "max_leaves  0\n",
      "0.9407826982492276\n",
      "#####################\n",
      "booster  gbtree\n",
      "n_estimators  50\n",
      "eta  0.9\n",
      "max_depth  20\n",
      "lambda  1.0\n",
      "criterion  gini\n",
      "max_leaves  1\n",
      "0.3388259526261586\n"
     ]
    },
    {
     "name": "stderr",
     "output_type": "stream",
     "text": [
      "c:\\Users\\loren\\anaconda3\\envs\\TensorFlow\\lib\\site-packages\\xgboost\\core.py:160: UserWarning: [10:53:29] WARNING: C:\\buildkite-agent\\builds\\buildkite-windows-cpu-autoscaling-group-i-0b3782d1791676daf-1\\xgboost\\xgboost-ci-windows\\src\\learner.cc:742: \n",
      "Parameters: { \"criterion\" } are not used.\n",
      "\n",
      "  warnings.warn(smsg, UserWarning)\n",
      "c:\\Users\\loren\\anaconda3\\envs\\TensorFlow\\lib\\site-packages\\xgboost\\core.py:160: UserWarning: [10:53:29] WARNING: C:\\buildkite-agent\\builds\\buildkite-windows-cpu-autoscaling-group-i-0b3782d1791676daf-1\\xgboost\\xgboost-ci-windows\\src\\learner.cc:742: \n",
      "Parameters: { \"criterion\" } are not used.\n",
      "\n",
      "  warnings.warn(smsg, UserWarning)\n"
     ]
    },
    {
     "name": "stdout",
     "output_type": "stream",
     "text": [
      "#####################\n",
      "booster  gbtree\n",
      "n_estimators  50\n",
      "eta  0.9\n",
      "max_depth  20\n",
      "lambda  1.0\n",
      "criterion  gini\n",
      "max_leaves  5\n",
      "0.9351184346035015\n"
     ]
    },
    {
     "name": "stderr",
     "output_type": "stream",
     "text": [
      "c:\\Users\\loren\\anaconda3\\envs\\TensorFlow\\lib\\site-packages\\xgboost\\core.py:160: UserWarning: [10:53:29] WARNING: C:\\buildkite-agent\\builds\\buildkite-windows-cpu-autoscaling-group-i-0b3782d1791676daf-1\\xgboost\\xgboost-ci-windows\\src\\learner.cc:742: \n",
      "Parameters: { \"criterion\" } are not used.\n",
      "\n",
      "  warnings.warn(smsg, UserWarning)\n"
     ]
    },
    {
     "name": "stdout",
     "output_type": "stream",
     "text": [
      "#####################\n",
      "booster  gbtree\n",
      "n_estimators  50\n",
      "eta  0.9\n",
      "max_depth  20\n",
      "lambda  1.0\n",
      "criterion  entropy\n",
      "max_leaves  0\n",
      "0.9407826982492276\n",
      "#####################\n",
      "booster  gbtree\n",
      "n_estimators  50\n",
      "eta  0.9\n",
      "max_depth  20\n",
      "lambda  1.0\n",
      "criterion  entropy\n",
      "max_leaves  1\n",
      "0.3388259526261586\n"
     ]
    },
    {
     "name": "stderr",
     "output_type": "stream",
     "text": [
      "c:\\Users\\loren\\anaconda3\\envs\\TensorFlow\\lib\\site-packages\\xgboost\\core.py:160: UserWarning: [10:53:30] WARNING: C:\\buildkite-agent\\builds\\buildkite-windows-cpu-autoscaling-group-i-0b3782d1791676daf-1\\xgboost\\xgboost-ci-windows\\src\\learner.cc:742: \n",
      "Parameters: { \"criterion\" } are not used.\n",
      "\n",
      "  warnings.warn(smsg, UserWarning)\n",
      "c:\\Users\\loren\\anaconda3\\envs\\TensorFlow\\lib\\site-packages\\xgboost\\core.py:160: UserWarning: [10:53:30] WARNING: C:\\buildkite-agent\\builds\\buildkite-windows-cpu-autoscaling-group-i-0b3782d1791676daf-1\\xgboost\\xgboost-ci-windows\\src\\learner.cc:742: \n",
      "Parameters: { \"criterion\" } are not used.\n",
      "\n",
      "  warnings.warn(smsg, UserWarning)\n"
     ]
    },
    {
     "name": "stdout",
     "output_type": "stream",
     "text": [
      "#####################\n",
      "booster  gbtree\n",
      "n_estimators  50\n",
      "eta  0.9\n",
      "max_depth  20\n",
      "lambda  1.0\n",
      "criterion  entropy\n",
      "max_leaves  5\n",
      "0.9351184346035015\n"
     ]
    },
    {
     "name": "stderr",
     "output_type": "stream",
     "text": [
      "c:\\Users\\loren\\anaconda3\\envs\\TensorFlow\\lib\\site-packages\\xgboost\\core.py:160: UserWarning: [10:53:30] WARNING: C:\\buildkite-agent\\builds\\buildkite-windows-cpu-autoscaling-group-i-0b3782d1791676daf-1\\xgboost\\xgboost-ci-windows\\src\\learner.cc:742: \n",
      "Parameters: { \"criterion\" } are not used.\n",
      "\n",
      "  warnings.warn(smsg, UserWarning)\n"
     ]
    },
    {
     "name": "stdout",
     "output_type": "stream",
     "text": [
      "#####################\n",
      "booster  gbtree\n",
      "n_estimators  50\n",
      "eta  0.9\n",
      "max_depth  20\n",
      "lambda  5.0\n",
      "criterion  gini\n",
      "max_leaves  0\n",
      "0.9443872296601442\n",
      "#####################\n",
      "booster  gbtree\n",
      "n_estimators  50\n",
      "eta  0.9\n",
      "max_depth  20\n",
      "lambda  5.0\n",
      "criterion  gini\n",
      "max_leaves  1\n",
      "0.3388259526261586\n"
     ]
    },
    {
     "name": "stderr",
     "output_type": "stream",
     "text": [
      "c:\\Users\\loren\\anaconda3\\envs\\TensorFlow\\lib\\site-packages\\xgboost\\core.py:160: UserWarning: [10:53:31] WARNING: C:\\buildkite-agent\\builds\\buildkite-windows-cpu-autoscaling-group-i-0b3782d1791676daf-1\\xgboost\\xgboost-ci-windows\\src\\learner.cc:742: \n",
      "Parameters: { \"criterion\" } are not used.\n",
      "\n",
      "  warnings.warn(smsg, UserWarning)\n",
      "c:\\Users\\loren\\anaconda3\\envs\\TensorFlow\\lib\\site-packages\\xgboost\\core.py:160: UserWarning: [10:53:31] WARNING: C:\\buildkite-agent\\builds\\buildkite-windows-cpu-autoscaling-group-i-0b3782d1791676daf-1\\xgboost\\xgboost-ci-windows\\src\\learner.cc:742: \n",
      "Parameters: { \"criterion\" } are not used.\n",
      "\n",
      "  warnings.warn(smsg, UserWarning)\n"
     ]
    },
    {
     "name": "stdout",
     "output_type": "stream",
     "text": [
      "#####################\n",
      "booster  gbtree\n",
      "n_estimators  50\n",
      "eta  0.9\n",
      "max_depth  20\n",
      "lambda  5.0\n",
      "criterion  gini\n",
      "max_leaves  5\n",
      "0.9351184346035015\n"
     ]
    },
    {
     "name": "stderr",
     "output_type": "stream",
     "text": [
      "c:\\Users\\loren\\anaconda3\\envs\\TensorFlow\\lib\\site-packages\\xgboost\\core.py:160: UserWarning: [10:53:31] WARNING: C:\\buildkite-agent\\builds\\buildkite-windows-cpu-autoscaling-group-i-0b3782d1791676daf-1\\xgboost\\xgboost-ci-windows\\src\\learner.cc:742: \n",
      "Parameters: { \"criterion\" } are not used.\n",
      "\n",
      "  warnings.warn(smsg, UserWarning)\n",
      "c:\\Users\\loren\\anaconda3\\envs\\TensorFlow\\lib\\site-packages\\xgboost\\core.py:160: UserWarning: [10:53:32] WARNING: C:\\buildkite-agent\\builds\\buildkite-windows-cpu-autoscaling-group-i-0b3782d1791676daf-1\\xgboost\\xgboost-ci-windows\\src\\learner.cc:742: \n",
      "Parameters: { \"criterion\" } are not used.\n",
      "\n",
      "  warnings.warn(smsg, UserWarning)\n",
      "c:\\Users\\loren\\anaconda3\\envs\\TensorFlow\\lib\\site-packages\\xgboost\\core.py:160: UserWarning: [10:53:32] WARNING: C:\\buildkite-agent\\builds\\buildkite-windows-cpu-autoscaling-group-i-0b3782d1791676daf-1\\xgboost\\xgboost-ci-windows\\src\\learner.cc:742: \n",
      "Parameters: { \"criterion\" } are not used.\n",
      "\n",
      "  warnings.warn(smsg, UserWarning)\n"
     ]
    },
    {
     "name": "stdout",
     "output_type": "stream",
     "text": [
      "#####################\n",
      "booster  gbtree\n",
      "n_estimators  50\n",
      "eta  0.9\n",
      "max_depth  20\n",
      "lambda  5.0\n",
      "criterion  entropy\n",
      "max_leaves  0\n",
      "0.9443872296601442\n",
      "#####################\n",
      "booster  gbtree\n",
      "n_estimators  50\n",
      "eta  0.9\n",
      "max_depth  20\n",
      "lambda  5.0\n",
      "criterion  entropy\n",
      "max_leaves  1\n",
      "0.3388259526261586\n",
      "#####################\n",
      "booster  gbtree\n",
      "n_estimators  50\n",
      "eta  0.9\n",
      "max_depth  20\n",
      "lambda  5.0\n",
      "criterion  entropy\n",
      "max_leaves  5\n",
      "0.9351184346035015\n"
     ]
    },
    {
     "name": "stderr",
     "output_type": "stream",
     "text": [
      "c:\\Users\\loren\\anaconda3\\envs\\TensorFlow\\lib\\site-packages\\xgboost\\core.py:160: UserWarning: [10:53:32] WARNING: C:\\buildkite-agent\\builds\\buildkite-windows-cpu-autoscaling-group-i-0b3782d1791676daf-1\\xgboost\\xgboost-ci-windows\\src\\learner.cc:742: \n",
      "Parameters: { \"criterion\" } are not used.\n",
      "\n",
      "  warnings.warn(smsg, UserWarning)\n"
     ]
    },
    {
     "name": "stdout",
     "output_type": "stream",
     "text": [
      "#####################\n",
      "booster  gbtree\n",
      "n_estimators  50\n",
      "eta  0.9\n",
      "max_depth  30\n",
      "lambda  0.0\n",
      "criterion  gini\n",
      "max_leaves  0\n",
      "0.9392378990731205\n",
      "#####################\n",
      "booster  gbtree\n",
      "n_estimators  50\n",
      "eta  0.9\n",
      "max_depth  30\n",
      "lambda  0.0\n",
      "criterion  gini\n",
      "max_leaves  1\n",
      "0.3388259526261586\n"
     ]
    },
    {
     "name": "stderr",
     "output_type": "stream",
     "text": [
      "c:\\Users\\loren\\anaconda3\\envs\\TensorFlow\\lib\\site-packages\\xgboost\\core.py:160: UserWarning: [10:53:33] WARNING: C:\\buildkite-agent\\builds\\buildkite-windows-cpu-autoscaling-group-i-0b3782d1791676daf-1\\xgboost\\xgboost-ci-windows\\src\\learner.cc:742: \n",
      "Parameters: { \"criterion\" } are not used.\n",
      "\n",
      "  warnings.warn(smsg, UserWarning)\n",
      "c:\\Users\\loren\\anaconda3\\envs\\TensorFlow\\lib\\site-packages\\xgboost\\core.py:160: UserWarning: [10:53:33] WARNING: C:\\buildkite-agent\\builds\\buildkite-windows-cpu-autoscaling-group-i-0b3782d1791676daf-1\\xgboost\\xgboost-ci-windows\\src\\learner.cc:742: \n",
      "Parameters: { \"criterion\" } are not used.\n",
      "\n",
      "  warnings.warn(smsg, UserWarning)\n"
     ]
    },
    {
     "name": "stdout",
     "output_type": "stream",
     "text": [
      "#####################\n",
      "booster  gbtree\n",
      "n_estimators  50\n",
      "eta  0.9\n",
      "max_depth  30\n",
      "lambda  0.0\n",
      "criterion  gini\n",
      "max_leaves  5\n",
      "0.9335736354273945\n"
     ]
    },
    {
     "name": "stderr",
     "output_type": "stream",
     "text": [
      "c:\\Users\\loren\\anaconda3\\envs\\TensorFlow\\lib\\site-packages\\xgboost\\core.py:160: UserWarning: [10:53:33] WARNING: C:\\buildkite-agent\\builds\\buildkite-windows-cpu-autoscaling-group-i-0b3782d1791676daf-1\\xgboost\\xgboost-ci-windows\\src\\learner.cc:742: \n",
      "Parameters: { \"criterion\" } are not used.\n",
      "\n",
      "  warnings.warn(smsg, UserWarning)\n"
     ]
    },
    {
     "name": "stdout",
     "output_type": "stream",
     "text": [
      "#####################\n",
      "booster  gbtree\n",
      "n_estimators  50\n",
      "eta  0.9\n",
      "max_depth  30\n",
      "lambda  0.0\n",
      "criterion  entropy\n",
      "max_leaves  0\n",
      "0.9392378990731205\n",
      "#####################\n",
      "booster  gbtree\n",
      "n_estimators  50\n",
      "eta  0.9\n",
      "max_depth  30\n",
      "lambda  0.0\n",
      "criterion  entropy\n",
      "max_leaves  1\n",
      "0.3388259526261586\n"
     ]
    },
    {
     "name": "stderr",
     "output_type": "stream",
     "text": [
      "c:\\Users\\loren\\anaconda3\\envs\\TensorFlow\\lib\\site-packages\\xgboost\\core.py:160: UserWarning: [10:53:34] WARNING: C:\\buildkite-agent\\builds\\buildkite-windows-cpu-autoscaling-group-i-0b3782d1791676daf-1\\xgboost\\xgboost-ci-windows\\src\\learner.cc:742: \n",
      "Parameters: { \"criterion\" } are not used.\n",
      "\n",
      "  warnings.warn(smsg, UserWarning)\n",
      "c:\\Users\\loren\\anaconda3\\envs\\TensorFlow\\lib\\site-packages\\xgboost\\core.py:160: UserWarning: [10:53:34] WARNING: C:\\buildkite-agent\\builds\\buildkite-windows-cpu-autoscaling-group-i-0b3782d1791676daf-1\\xgboost\\xgboost-ci-windows\\src\\learner.cc:742: \n",
      "Parameters: { \"criterion\" } are not used.\n",
      "\n",
      "  warnings.warn(smsg, UserWarning)\n"
     ]
    },
    {
     "name": "stdout",
     "output_type": "stream",
     "text": [
      "#####################\n",
      "booster  gbtree\n",
      "n_estimators  50\n",
      "eta  0.9\n",
      "max_depth  30\n",
      "lambda  0.0\n",
      "criterion  entropy\n",
      "max_leaves  5\n",
      "0.9335736354273945\n"
     ]
    },
    {
     "name": "stderr",
     "output_type": "stream",
     "text": [
      "c:\\Users\\loren\\anaconda3\\envs\\TensorFlow\\lib\\site-packages\\xgboost\\core.py:160: UserWarning: [10:53:35] WARNING: C:\\buildkite-agent\\builds\\buildkite-windows-cpu-autoscaling-group-i-0b3782d1791676daf-1\\xgboost\\xgboost-ci-windows\\src\\learner.cc:742: \n",
      "Parameters: { \"criterion\" } are not used.\n",
      "\n",
      "  warnings.warn(smsg, UserWarning)\n"
     ]
    },
    {
     "name": "stdout",
     "output_type": "stream",
     "text": [
      "#####################\n",
      "booster  gbtree\n",
      "n_estimators  50\n",
      "eta  0.9\n",
      "max_depth  30\n",
      "lambda  1.0\n",
      "criterion  gini\n",
      "max_leaves  0\n",
      "0.9407826982492276\n",
      "#####################\n",
      "booster  gbtree\n",
      "n_estimators  50\n",
      "eta  0.9\n",
      "max_depth  30\n",
      "lambda  1.0\n",
      "criterion  gini\n",
      "max_leaves  1\n",
      "0.3388259526261586\n"
     ]
    },
    {
     "name": "stderr",
     "output_type": "stream",
     "text": [
      "c:\\Users\\loren\\anaconda3\\envs\\TensorFlow\\lib\\site-packages\\xgboost\\core.py:160: UserWarning: [10:53:35] WARNING: C:\\buildkite-agent\\builds\\buildkite-windows-cpu-autoscaling-group-i-0b3782d1791676daf-1\\xgboost\\xgboost-ci-windows\\src\\learner.cc:742: \n",
      "Parameters: { \"criterion\" } are not used.\n",
      "\n",
      "  warnings.warn(smsg, UserWarning)\n",
      "c:\\Users\\loren\\anaconda3\\envs\\TensorFlow\\lib\\site-packages\\xgboost\\core.py:160: UserWarning: [10:53:35] WARNING: C:\\buildkite-agent\\builds\\buildkite-windows-cpu-autoscaling-group-i-0b3782d1791676daf-1\\xgboost\\xgboost-ci-windows\\src\\learner.cc:742: \n",
      "Parameters: { \"criterion\" } are not used.\n",
      "\n",
      "  warnings.warn(smsg, UserWarning)\n"
     ]
    },
    {
     "name": "stdout",
     "output_type": "stream",
     "text": [
      "#####################\n",
      "booster  gbtree\n",
      "n_estimators  50\n",
      "eta  0.9\n",
      "max_depth  30\n",
      "lambda  1.0\n",
      "criterion  gini\n",
      "max_leaves  5\n",
      "0.9351184346035015\n"
     ]
    },
    {
     "name": "stderr",
     "output_type": "stream",
     "text": [
      "c:\\Users\\loren\\anaconda3\\envs\\TensorFlow\\lib\\site-packages\\xgboost\\core.py:160: UserWarning: [10:53:35] WARNING: C:\\buildkite-agent\\builds\\buildkite-windows-cpu-autoscaling-group-i-0b3782d1791676daf-1\\xgboost\\xgboost-ci-windows\\src\\learner.cc:742: \n",
      "Parameters: { \"criterion\" } are not used.\n",
      "\n",
      "  warnings.warn(smsg, UserWarning)\n"
     ]
    },
    {
     "name": "stdout",
     "output_type": "stream",
     "text": [
      "#####################\n",
      "booster  gbtree\n",
      "n_estimators  50\n",
      "eta  0.9\n",
      "max_depth  30\n",
      "lambda  1.0\n",
      "criterion  entropy\n",
      "max_leaves  0\n",
      "0.9407826982492276\n",
      "#####################\n",
      "booster  gbtree\n",
      "n_estimators  50\n",
      "eta  0.9\n",
      "max_depth  30\n",
      "lambda  1.0\n",
      "criterion  entropy\n",
      "max_leaves  1\n",
      "0.3388259526261586\n"
     ]
    },
    {
     "name": "stderr",
     "output_type": "stream",
     "text": [
      "c:\\Users\\loren\\anaconda3\\envs\\TensorFlow\\lib\\site-packages\\xgboost\\core.py:160: UserWarning: [10:53:36] WARNING: C:\\buildkite-agent\\builds\\buildkite-windows-cpu-autoscaling-group-i-0b3782d1791676daf-1\\xgboost\\xgboost-ci-windows\\src\\learner.cc:742: \n",
      "Parameters: { \"criterion\" } are not used.\n",
      "\n",
      "  warnings.warn(smsg, UserWarning)\n",
      "c:\\Users\\loren\\anaconda3\\envs\\TensorFlow\\lib\\site-packages\\xgboost\\core.py:160: UserWarning: [10:53:36] WARNING: C:\\buildkite-agent\\builds\\buildkite-windows-cpu-autoscaling-group-i-0b3782d1791676daf-1\\xgboost\\xgboost-ci-windows\\src\\learner.cc:742: \n",
      "Parameters: { \"criterion\" } are not used.\n",
      "\n",
      "  warnings.warn(smsg, UserWarning)\n"
     ]
    },
    {
     "name": "stdout",
     "output_type": "stream",
     "text": [
      "#####################\n",
      "booster  gbtree\n",
      "n_estimators  50\n",
      "eta  0.9\n",
      "max_depth  30\n",
      "lambda  1.0\n",
      "criterion  entropy\n",
      "max_leaves  5\n",
      "0.9351184346035015\n"
     ]
    },
    {
     "name": "stderr",
     "output_type": "stream",
     "text": [
      "c:\\Users\\loren\\anaconda3\\envs\\TensorFlow\\lib\\site-packages\\xgboost\\core.py:160: UserWarning: [10:53:36] WARNING: C:\\buildkite-agent\\builds\\buildkite-windows-cpu-autoscaling-group-i-0b3782d1791676daf-1\\xgboost\\xgboost-ci-windows\\src\\learner.cc:742: \n",
      "Parameters: { \"criterion\" } are not used.\n",
      "\n",
      "  warnings.warn(smsg, UserWarning)\n"
     ]
    },
    {
     "name": "stdout",
     "output_type": "stream",
     "text": [
      "#####################\n",
      "booster  gbtree\n",
      "n_estimators  50\n",
      "eta  0.9\n",
      "max_depth  30\n",
      "lambda  5.0\n",
      "criterion  gini\n",
      "max_leaves  0\n",
      "0.9443872296601442\n",
      "#####################\n",
      "booster  gbtree\n",
      "n_estimators  50\n",
      "eta  0.9\n",
      "max_depth  30\n",
      "lambda  5.0\n",
      "criterion  gini\n",
      "max_leaves  1\n",
      "0.3388259526261586\n"
     ]
    },
    {
     "name": "stderr",
     "output_type": "stream",
     "text": [
      "c:\\Users\\loren\\anaconda3\\envs\\TensorFlow\\lib\\site-packages\\xgboost\\core.py:160: UserWarning: [10:53:37] WARNING: C:\\buildkite-agent\\builds\\buildkite-windows-cpu-autoscaling-group-i-0b3782d1791676daf-1\\xgboost\\xgboost-ci-windows\\src\\learner.cc:742: \n",
      "Parameters: { \"criterion\" } are not used.\n",
      "\n",
      "  warnings.warn(smsg, UserWarning)\n",
      "c:\\Users\\loren\\anaconda3\\envs\\TensorFlow\\lib\\site-packages\\xgboost\\core.py:160: UserWarning: [10:53:37] WARNING: C:\\buildkite-agent\\builds\\buildkite-windows-cpu-autoscaling-group-i-0b3782d1791676daf-1\\xgboost\\xgboost-ci-windows\\src\\learner.cc:742: \n",
      "Parameters: { \"criterion\" } are not used.\n",
      "\n",
      "  warnings.warn(smsg, UserWarning)\n"
     ]
    },
    {
     "name": "stdout",
     "output_type": "stream",
     "text": [
      "#####################\n",
      "booster  gbtree\n",
      "n_estimators  50\n",
      "eta  0.9\n",
      "max_depth  30\n",
      "lambda  5.0\n",
      "criterion  gini\n",
      "max_leaves  5\n",
      "0.9351184346035015\n"
     ]
    },
    {
     "name": "stderr",
     "output_type": "stream",
     "text": [
      "c:\\Users\\loren\\anaconda3\\envs\\TensorFlow\\lib\\site-packages\\xgboost\\core.py:160: UserWarning: [10:53:37] WARNING: C:\\buildkite-agent\\builds\\buildkite-windows-cpu-autoscaling-group-i-0b3782d1791676daf-1\\xgboost\\xgboost-ci-windows\\src\\learner.cc:742: \n",
      "Parameters: { \"criterion\" } are not used.\n",
      "\n",
      "  warnings.warn(smsg, UserWarning)\n"
     ]
    },
    {
     "name": "stdout",
     "output_type": "stream",
     "text": [
      "#####################\n",
      "booster  gbtree\n",
      "n_estimators  50\n",
      "eta  0.9\n",
      "max_depth  30\n",
      "lambda  5.0\n",
      "criterion  entropy\n",
      "max_leaves  0\n",
      "0.9443872296601442\n",
      "#####################\n",
      "booster  gbtree\n",
      "n_estimators  50\n",
      "eta  0.9\n",
      "max_depth  30\n",
      "lambda  5.0\n",
      "criterion  entropy\n",
      "max_leaves  1\n",
      "0.3388259526261586\n"
     ]
    },
    {
     "name": "stderr",
     "output_type": "stream",
     "text": [
      "c:\\Users\\loren\\anaconda3\\envs\\TensorFlow\\lib\\site-packages\\xgboost\\core.py:160: UserWarning: [10:53:38] WARNING: C:\\buildkite-agent\\builds\\buildkite-windows-cpu-autoscaling-group-i-0b3782d1791676daf-1\\xgboost\\xgboost-ci-windows\\src\\learner.cc:742: \n",
      "Parameters: { \"criterion\" } are not used.\n",
      "\n",
      "  warnings.warn(smsg, UserWarning)\n",
      "c:\\Users\\loren\\anaconda3\\envs\\TensorFlow\\lib\\site-packages\\xgboost\\core.py:160: UserWarning: [10:53:38] WARNING: C:\\buildkite-agent\\builds\\buildkite-windows-cpu-autoscaling-group-i-0b3782d1791676daf-1\\xgboost\\xgboost-ci-windows\\src\\learner.cc:742: \n",
      "Parameters: { \"criterion\" } are not used.\n",
      "\n",
      "  warnings.warn(smsg, UserWarning)\n"
     ]
    },
    {
     "name": "stdout",
     "output_type": "stream",
     "text": [
      "#####################\n",
      "booster  gbtree\n",
      "n_estimators  50\n",
      "eta  0.9\n",
      "max_depth  30\n",
      "lambda  5.0\n",
      "criterion  entropy\n",
      "max_leaves  5\n",
      "0.9351184346035015\n"
     ]
    },
    {
     "name": "stderr",
     "output_type": "stream",
     "text": [
      "c:\\Users\\loren\\anaconda3\\envs\\TensorFlow\\lib\\site-packages\\xgboost\\core.py:160: UserWarning: [10:53:38] WARNING: C:\\buildkite-agent\\builds\\buildkite-windows-cpu-autoscaling-group-i-0b3782d1791676daf-1\\xgboost\\xgboost-ci-windows\\src\\learner.cc:742: \n",
      "Parameters: { \"criterion\" } are not used.\n",
      "\n",
      "  warnings.warn(smsg, UserWarning)\n"
     ]
    },
    {
     "name": "stdout",
     "output_type": "stream",
     "text": [
      "#####################\n",
      "booster  gbtree\n",
      "n_estimators  100\n",
      "eta  0.1\n",
      "max_depth  5\n",
      "lambda  0.0\n",
      "criterion  gini\n",
      "max_leaves  0\n",
      "0.9361483007209063\n",
      "#####################\n",
      "booster  gbtree\n",
      "n_estimators  100\n",
      "eta  0.1\n",
      "max_depth  5\n",
      "lambda  0.0\n",
      "criterion  gini\n",
      "max_leaves  1\n",
      "0.3388259526261586\n"
     ]
    },
    {
     "name": "stderr",
     "output_type": "stream",
     "text": [
      "c:\\Users\\loren\\anaconda3\\envs\\TensorFlow\\lib\\site-packages\\xgboost\\core.py:160: UserWarning: [10:53:39] WARNING: C:\\buildkite-agent\\builds\\buildkite-windows-cpu-autoscaling-group-i-0b3782d1791676daf-1\\xgboost\\xgboost-ci-windows\\src\\learner.cc:742: \n",
      "Parameters: { \"criterion\" } are not used.\n",
      "\n",
      "  warnings.warn(smsg, UserWarning)\n",
      "c:\\Users\\loren\\anaconda3\\envs\\TensorFlow\\lib\\site-packages\\xgboost\\core.py:160: UserWarning: [10:53:39] WARNING: C:\\buildkite-agent\\builds\\buildkite-windows-cpu-autoscaling-group-i-0b3782d1791676daf-1\\xgboost\\xgboost-ci-windows\\src\\learner.cc:742: \n",
      "Parameters: { \"criterion\" } are not used.\n",
      "\n",
      "  warnings.warn(smsg, UserWarning)\n"
     ]
    },
    {
     "name": "stdout",
     "output_type": "stream",
     "text": [
      "#####################\n",
      "booster  gbtree\n",
      "n_estimators  100\n",
      "eta  0.1\n",
      "max_depth  5\n",
      "lambda  0.0\n",
      "criterion  gini\n",
      "max_leaves  5\n",
      "0.8892893923789907\n"
     ]
    },
    {
     "name": "stderr",
     "output_type": "stream",
     "text": [
      "c:\\Users\\loren\\anaconda3\\envs\\TensorFlow\\lib\\site-packages\\xgboost\\core.py:160: UserWarning: [10:53:39] WARNING: C:\\buildkite-agent\\builds\\buildkite-windows-cpu-autoscaling-group-i-0b3782d1791676daf-1\\xgboost\\xgboost-ci-windows\\src\\learner.cc:742: \n",
      "Parameters: { \"criterion\" } are not used.\n",
      "\n",
      "  warnings.warn(smsg, UserWarning)\n"
     ]
    },
    {
     "name": "stdout",
     "output_type": "stream",
     "text": [
      "#####################\n",
      "booster  gbtree\n",
      "n_estimators  100\n",
      "eta  0.1\n",
      "max_depth  5\n",
      "lambda  0.0\n",
      "criterion  entropy\n",
      "max_leaves  0\n",
      "0.9361483007209063\n",
      "#####################\n",
      "booster  gbtree\n",
      "n_estimators  100\n",
      "eta  0.1\n",
      "max_depth  5\n",
      "lambda  0.0\n",
      "criterion  entropy\n",
      "max_leaves  1\n",
      "0.3388259526261586\n"
     ]
    },
    {
     "name": "stderr",
     "output_type": "stream",
     "text": [
      "c:\\Users\\loren\\anaconda3\\envs\\TensorFlow\\lib\\site-packages\\xgboost\\core.py:160: UserWarning: [10:53:40] WARNING: C:\\buildkite-agent\\builds\\buildkite-windows-cpu-autoscaling-group-i-0b3782d1791676daf-1\\xgboost\\xgboost-ci-windows\\src\\learner.cc:742: \n",
      "Parameters: { \"criterion\" } are not used.\n",
      "\n",
      "  warnings.warn(smsg, UserWarning)\n",
      "c:\\Users\\loren\\anaconda3\\envs\\TensorFlow\\lib\\site-packages\\xgboost\\core.py:160: UserWarning: [10:53:40] WARNING: C:\\buildkite-agent\\builds\\buildkite-windows-cpu-autoscaling-group-i-0b3782d1791676daf-1\\xgboost\\xgboost-ci-windows\\src\\learner.cc:742: \n",
      "Parameters: { \"criterion\" } are not used.\n",
      "\n",
      "  warnings.warn(smsg, UserWarning)\n"
     ]
    },
    {
     "name": "stdout",
     "output_type": "stream",
     "text": [
      "#####################\n",
      "booster  gbtree\n",
      "n_estimators  100\n",
      "eta  0.1\n",
      "max_depth  5\n",
      "lambda  0.0\n",
      "criterion  entropy\n",
      "max_leaves  5\n",
      "0.8892893923789907\n"
     ]
    },
    {
     "name": "stderr",
     "output_type": "stream",
     "text": [
      "c:\\Users\\loren\\anaconda3\\envs\\TensorFlow\\lib\\site-packages\\xgboost\\core.py:160: UserWarning: [10:53:41] WARNING: C:\\buildkite-agent\\builds\\buildkite-windows-cpu-autoscaling-group-i-0b3782d1791676daf-1\\xgboost\\xgboost-ci-windows\\src\\learner.cc:742: \n",
      "Parameters: { \"criterion\" } are not used.\n",
      "\n",
      "  warnings.warn(smsg, UserWarning)\n"
     ]
    },
    {
     "name": "stdout",
     "output_type": "stream",
     "text": [
      "#####################\n",
      "booster  gbtree\n",
      "n_estimators  100\n",
      "eta  0.1\n",
      "max_depth  5\n",
      "lambda  1.0\n",
      "criterion  gini\n",
      "max_leaves  0\n",
      "0.933058702368692\n",
      "#####################\n",
      "booster  gbtree\n",
      "n_estimators  100\n",
      "eta  0.1\n",
      "max_depth  5\n",
      "lambda  1.0\n",
      "criterion  gini\n",
      "max_leaves  1\n",
      "0.3388259526261586\n"
     ]
    },
    {
     "name": "stderr",
     "output_type": "stream",
     "text": [
      "c:\\Users\\loren\\anaconda3\\envs\\TensorFlow\\lib\\site-packages\\xgboost\\core.py:160: UserWarning: [10:53:41] WARNING: C:\\buildkite-agent\\builds\\buildkite-windows-cpu-autoscaling-group-i-0b3782d1791676daf-1\\xgboost\\xgboost-ci-windows\\src\\learner.cc:742: \n",
      "Parameters: { \"criterion\" } are not used.\n",
      "\n",
      "  warnings.warn(smsg, UserWarning)\n",
      "c:\\Users\\loren\\anaconda3\\envs\\TensorFlow\\lib\\site-packages\\xgboost\\core.py:160: UserWarning: [10:53:42] WARNING: C:\\buildkite-agent\\builds\\buildkite-windows-cpu-autoscaling-group-i-0b3782d1791676daf-1\\xgboost\\xgboost-ci-windows\\src\\learner.cc:742: \n",
      "Parameters: { \"criterion\" } are not used.\n",
      "\n",
      "  warnings.warn(smsg, UserWarning)\n"
     ]
    },
    {
     "name": "stdout",
     "output_type": "stream",
     "text": [
      "#####################\n",
      "booster  gbtree\n",
      "n_estimators  100\n",
      "eta  0.1\n",
      "max_depth  5\n",
      "lambda  1.0\n",
      "criterion  gini\n",
      "max_leaves  5\n",
      "0.892378990731205\n"
     ]
    },
    {
     "name": "stderr",
     "output_type": "stream",
     "text": [
      "c:\\Users\\loren\\anaconda3\\envs\\TensorFlow\\lib\\site-packages\\xgboost\\core.py:160: UserWarning: [10:53:42] WARNING: C:\\buildkite-agent\\builds\\buildkite-windows-cpu-autoscaling-group-i-0b3782d1791676daf-1\\xgboost\\xgboost-ci-windows\\src\\learner.cc:742: \n",
      "Parameters: { \"criterion\" } are not used.\n",
      "\n",
      "  warnings.warn(smsg, UserWarning)\n"
     ]
    },
    {
     "name": "stdout",
     "output_type": "stream",
     "text": [
      "#####################\n",
      "booster  gbtree\n",
      "n_estimators  100\n",
      "eta  0.1\n",
      "max_depth  5\n",
      "lambda  1.0\n",
      "criterion  entropy\n",
      "max_leaves  0\n",
      "0.933058702368692\n",
      "#####################\n",
      "booster  gbtree\n",
      "n_estimators  100\n",
      "eta  0.1\n",
      "max_depth  5\n",
      "lambda  1.0\n",
      "criterion  entropy\n",
      "max_leaves  1\n",
      "0.3388259526261586\n"
     ]
    },
    {
     "name": "stderr",
     "output_type": "stream",
     "text": [
      "c:\\Users\\loren\\anaconda3\\envs\\TensorFlow\\lib\\site-packages\\xgboost\\core.py:160: UserWarning: [10:53:43] WARNING: C:\\buildkite-agent\\builds\\buildkite-windows-cpu-autoscaling-group-i-0b3782d1791676daf-1\\xgboost\\xgboost-ci-windows\\src\\learner.cc:742: \n",
      "Parameters: { \"criterion\" } are not used.\n",
      "\n",
      "  warnings.warn(smsg, UserWarning)\n",
      "c:\\Users\\loren\\anaconda3\\envs\\TensorFlow\\lib\\site-packages\\xgboost\\core.py:160: UserWarning: [10:53:43] WARNING: C:\\buildkite-agent\\builds\\buildkite-windows-cpu-autoscaling-group-i-0b3782d1791676daf-1\\xgboost\\xgboost-ci-windows\\src\\learner.cc:742: \n",
      "Parameters: { \"criterion\" } are not used.\n",
      "\n",
      "  warnings.warn(smsg, UserWarning)\n"
     ]
    },
    {
     "name": "stdout",
     "output_type": "stream",
     "text": [
      "#####################\n",
      "booster  gbtree\n",
      "n_estimators  100\n",
      "eta  0.1\n",
      "max_depth  5\n",
      "lambda  1.0\n",
      "criterion  entropy\n",
      "max_leaves  5\n",
      "0.892378990731205\n"
     ]
    },
    {
     "name": "stderr",
     "output_type": "stream",
     "text": [
      "c:\\Users\\loren\\anaconda3\\envs\\TensorFlow\\lib\\site-packages\\xgboost\\core.py:160: UserWarning: [10:53:43] WARNING: C:\\buildkite-agent\\builds\\buildkite-windows-cpu-autoscaling-group-i-0b3782d1791676daf-1\\xgboost\\xgboost-ci-windows\\src\\learner.cc:742: \n",
      "Parameters: { \"criterion\" } are not used.\n",
      "\n",
      "  warnings.warn(smsg, UserWarning)\n"
     ]
    },
    {
     "name": "stdout",
     "output_type": "stream",
     "text": [
      "#####################\n",
      "booster  gbtree\n",
      "n_estimators  100\n",
      "eta  0.1\n",
      "max_depth  5\n",
      "lambda  5.0\n",
      "criterion  gini\n",
      "max_leaves  0\n",
      "0.9325437693099897\n",
      "#####################\n",
      "booster  gbtree\n",
      "n_estimators  100\n",
      "eta  0.1\n",
      "max_depth  5\n",
      "lambda  5.0\n",
      "criterion  gini\n",
      "max_leaves  1\n",
      "0.3388259526261586\n"
     ]
    },
    {
     "name": "stderr",
     "output_type": "stream",
     "text": [
      "c:\\Users\\loren\\anaconda3\\envs\\TensorFlow\\lib\\site-packages\\xgboost\\core.py:160: UserWarning: [10:53:44] WARNING: C:\\buildkite-agent\\builds\\buildkite-windows-cpu-autoscaling-group-i-0b3782d1791676daf-1\\xgboost\\xgboost-ci-windows\\src\\learner.cc:742: \n",
      "Parameters: { \"criterion\" } are not used.\n",
      "\n",
      "  warnings.warn(smsg, UserWarning)\n",
      "c:\\Users\\loren\\anaconda3\\envs\\TensorFlow\\lib\\site-packages\\xgboost\\core.py:160: UserWarning: [10:53:44] WARNING: C:\\buildkite-agent\\builds\\buildkite-windows-cpu-autoscaling-group-i-0b3782d1791676daf-1\\xgboost\\xgboost-ci-windows\\src\\learner.cc:742: \n",
      "Parameters: { \"criterion\" } are not used.\n",
      "\n",
      "  warnings.warn(smsg, UserWarning)\n"
     ]
    },
    {
     "name": "stdout",
     "output_type": "stream",
     "text": [
      "#####################\n",
      "booster  gbtree\n",
      "n_estimators  100\n",
      "eta  0.1\n",
      "max_depth  5\n",
      "lambda  5.0\n",
      "criterion  gini\n",
      "max_leaves  5\n",
      "0.8856848609680742\n"
     ]
    },
    {
     "name": "stderr",
     "output_type": "stream",
     "text": [
      "c:\\Users\\loren\\anaconda3\\envs\\TensorFlow\\lib\\site-packages\\xgboost\\core.py:160: UserWarning: [10:53:44] WARNING: C:\\buildkite-agent\\builds\\buildkite-windows-cpu-autoscaling-group-i-0b3782d1791676daf-1\\xgboost\\xgboost-ci-windows\\src\\learner.cc:742: \n",
      "Parameters: { \"criterion\" } are not used.\n",
      "\n",
      "  warnings.warn(smsg, UserWarning)\n"
     ]
    },
    {
     "name": "stdout",
     "output_type": "stream",
     "text": [
      "#####################\n",
      "booster  gbtree\n",
      "n_estimators  100\n",
      "eta  0.1\n",
      "max_depth  5\n",
      "lambda  5.0\n",
      "criterion  entropy\n",
      "max_leaves  0\n",
      "0.9325437693099897\n",
      "#####################\n",
      "booster  gbtree\n",
      "n_estimators  100\n",
      "eta  0.1\n",
      "max_depth  5\n",
      "lambda  5.0\n",
      "criterion  entropy\n",
      "max_leaves  1\n",
      "0.3388259526261586\n"
     ]
    },
    {
     "name": "stderr",
     "output_type": "stream",
     "text": [
      "c:\\Users\\loren\\anaconda3\\envs\\TensorFlow\\lib\\site-packages\\xgboost\\core.py:160: UserWarning: [10:53:45] WARNING: C:\\buildkite-agent\\builds\\buildkite-windows-cpu-autoscaling-group-i-0b3782d1791676daf-1\\xgboost\\xgboost-ci-windows\\src\\learner.cc:742: \n",
      "Parameters: { \"criterion\" } are not used.\n",
      "\n",
      "  warnings.warn(smsg, UserWarning)\n",
      "c:\\Users\\loren\\anaconda3\\envs\\TensorFlow\\lib\\site-packages\\xgboost\\core.py:160: UserWarning: [10:53:45] WARNING: C:\\buildkite-agent\\builds\\buildkite-windows-cpu-autoscaling-group-i-0b3782d1791676daf-1\\xgboost\\xgboost-ci-windows\\src\\learner.cc:742: \n",
      "Parameters: { \"criterion\" } are not used.\n",
      "\n",
      "  warnings.warn(smsg, UserWarning)\n"
     ]
    },
    {
     "name": "stdout",
     "output_type": "stream",
     "text": [
      "#####################\n",
      "booster  gbtree\n",
      "n_estimators  100\n",
      "eta  0.1\n",
      "max_depth  5\n",
      "lambda  5.0\n",
      "criterion  entropy\n",
      "max_leaves  5\n",
      "0.8856848609680742\n"
     ]
    },
    {
     "name": "stderr",
     "output_type": "stream",
     "text": [
      "c:\\Users\\loren\\anaconda3\\envs\\TensorFlow\\lib\\site-packages\\xgboost\\core.py:160: UserWarning: [10:53:46] WARNING: C:\\buildkite-agent\\builds\\buildkite-windows-cpu-autoscaling-group-i-0b3782d1791676daf-1\\xgboost\\xgboost-ci-windows\\src\\learner.cc:742: \n",
      "Parameters: { \"criterion\" } are not used.\n",
      "\n",
      "  warnings.warn(smsg, UserWarning)\n"
     ]
    },
    {
     "name": "stdout",
     "output_type": "stream",
     "text": [
      "#####################\n",
      "booster  gbtree\n",
      "n_estimators  100\n",
      "eta  0.1\n",
      "max_depth  10\n",
      "lambda  0.0\n",
      "criterion  gini\n",
      "max_leaves  0\n",
      "0.942842430484037\n",
      "#####################\n",
      "booster  gbtree\n",
      "n_estimators  100\n",
      "eta  0.1\n",
      "max_depth  10\n",
      "lambda  0.0\n",
      "criterion  gini\n",
      "max_leaves  1\n",
      "0.3388259526261586\n"
     ]
    },
    {
     "name": "stderr",
     "output_type": "stream",
     "text": [
      "c:\\Users\\loren\\anaconda3\\envs\\TensorFlow\\lib\\site-packages\\xgboost\\core.py:160: UserWarning: [10:53:48] WARNING: C:\\buildkite-agent\\builds\\buildkite-windows-cpu-autoscaling-group-i-0b3782d1791676daf-1\\xgboost\\xgboost-ci-windows\\src\\learner.cc:742: \n",
      "Parameters: { \"criterion\" } are not used.\n",
      "\n",
      "  warnings.warn(smsg, UserWarning)\n",
      "c:\\Users\\loren\\anaconda3\\envs\\TensorFlow\\lib\\site-packages\\xgboost\\core.py:160: UserWarning: [10:53:48] WARNING: C:\\buildkite-agent\\builds\\buildkite-windows-cpu-autoscaling-group-i-0b3782d1791676daf-1\\xgboost\\xgboost-ci-windows\\src\\learner.cc:742: \n",
      "Parameters: { \"criterion\" } are not used.\n",
      "\n",
      "  warnings.warn(smsg, UserWarning)\n"
     ]
    },
    {
     "name": "stdout",
     "output_type": "stream",
     "text": [
      "#####################\n",
      "booster  gbtree\n",
      "n_estimators  100\n",
      "eta  0.1\n",
      "max_depth  10\n",
      "lambda  0.0\n",
      "criterion  gini\n",
      "max_leaves  5\n",
      "0.8892893923789907\n"
     ]
    },
    {
     "name": "stderr",
     "output_type": "stream",
     "text": [
      "c:\\Users\\loren\\anaconda3\\envs\\TensorFlow\\lib\\site-packages\\xgboost\\core.py:160: UserWarning: [10:53:48] WARNING: C:\\buildkite-agent\\builds\\buildkite-windows-cpu-autoscaling-group-i-0b3782d1791676daf-1\\xgboost\\xgboost-ci-windows\\src\\learner.cc:742: \n",
      "Parameters: { \"criterion\" } are not used.\n",
      "\n",
      "  warnings.warn(smsg, UserWarning)\n"
     ]
    },
    {
     "name": "stdout",
     "output_type": "stream",
     "text": [
      "#####################\n",
      "booster  gbtree\n",
      "n_estimators  100\n",
      "eta  0.1\n",
      "max_depth  10\n",
      "lambda  0.0\n",
      "criterion  entropy\n",
      "max_leaves  0\n",
      "0.942842430484037\n",
      "#####################\n",
      "booster  gbtree\n",
      "n_estimators  100\n",
      "eta  0.1\n",
      "max_depth  10\n",
      "lambda  0.0\n",
      "criterion  entropy\n",
      "max_leaves  1\n",
      "0.3388259526261586\n"
     ]
    },
    {
     "name": "stderr",
     "output_type": "stream",
     "text": [
      "c:\\Users\\loren\\anaconda3\\envs\\TensorFlow\\lib\\site-packages\\xgboost\\core.py:160: UserWarning: [10:53:51] WARNING: C:\\buildkite-agent\\builds\\buildkite-windows-cpu-autoscaling-group-i-0b3782d1791676daf-1\\xgboost\\xgboost-ci-windows\\src\\learner.cc:742: \n",
      "Parameters: { \"criterion\" } are not used.\n",
      "\n",
      "  warnings.warn(smsg, UserWarning)\n",
      "c:\\Users\\loren\\anaconda3\\envs\\TensorFlow\\lib\\site-packages\\xgboost\\core.py:160: UserWarning: [10:53:51] WARNING: C:\\buildkite-agent\\builds\\buildkite-windows-cpu-autoscaling-group-i-0b3782d1791676daf-1\\xgboost\\xgboost-ci-windows\\src\\learner.cc:742: \n",
      "Parameters: { \"criterion\" } are not used.\n",
      "\n",
      "  warnings.warn(smsg, UserWarning)\n"
     ]
    },
    {
     "name": "stdout",
     "output_type": "stream",
     "text": [
      "#####################\n",
      "booster  gbtree\n",
      "n_estimators  100\n",
      "eta  0.1\n",
      "max_depth  10\n",
      "lambda  0.0\n",
      "criterion  entropy\n",
      "max_leaves  5\n",
      "0.8892893923789907\n"
     ]
    },
    {
     "name": "stderr",
     "output_type": "stream",
     "text": [
      "c:\\Users\\loren\\anaconda3\\envs\\TensorFlow\\lib\\site-packages\\xgboost\\core.py:160: UserWarning: [10:53:51] WARNING: C:\\buildkite-agent\\builds\\buildkite-windows-cpu-autoscaling-group-i-0b3782d1791676daf-1\\xgboost\\xgboost-ci-windows\\src\\learner.cc:742: \n",
      "Parameters: { \"criterion\" } are not used.\n",
      "\n",
      "  warnings.warn(smsg, UserWarning)\n"
     ]
    },
    {
     "name": "stdout",
     "output_type": "stream",
     "text": [
      "#####################\n",
      "booster  gbtree\n",
      "n_estimators  100\n",
      "eta  0.1\n",
      "max_depth  10\n",
      "lambda  1.0\n",
      "criterion  gini\n",
      "max_leaves  0\n",
      "0.9402677651905252\n",
      "#####################\n",
      "booster  gbtree\n",
      "n_estimators  100\n",
      "eta  0.1\n",
      "max_depth  10\n",
      "lambda  1.0\n",
      "criterion  gini\n",
      "max_leaves  1\n",
      "0.3388259526261586\n"
     ]
    },
    {
     "name": "stderr",
     "output_type": "stream",
     "text": [
      "c:\\Users\\loren\\anaconda3\\envs\\TensorFlow\\lib\\site-packages\\xgboost\\core.py:160: UserWarning: [10:53:53] WARNING: C:\\buildkite-agent\\builds\\buildkite-windows-cpu-autoscaling-group-i-0b3782d1791676daf-1\\xgboost\\xgboost-ci-windows\\src\\learner.cc:742: \n",
      "Parameters: { \"criterion\" } are not used.\n",
      "\n",
      "  warnings.warn(smsg, UserWarning)\n",
      "c:\\Users\\loren\\anaconda3\\envs\\TensorFlow\\lib\\site-packages\\xgboost\\core.py:160: UserWarning: [10:53:53] WARNING: C:\\buildkite-agent\\builds\\buildkite-windows-cpu-autoscaling-group-i-0b3782d1791676daf-1\\xgboost\\xgboost-ci-windows\\src\\learner.cc:742: \n",
      "Parameters: { \"criterion\" } are not used.\n",
      "\n",
      "  warnings.warn(smsg, UserWarning)\n"
     ]
    },
    {
     "name": "stdout",
     "output_type": "stream",
     "text": [
      "#####################\n",
      "booster  gbtree\n",
      "n_estimators  100\n",
      "eta  0.1\n",
      "max_depth  10\n",
      "lambda  1.0\n",
      "criterion  gini\n",
      "max_leaves  5\n",
      "0.892378990731205\n"
     ]
    },
    {
     "name": "stderr",
     "output_type": "stream",
     "text": [
      "c:\\Users\\loren\\anaconda3\\envs\\TensorFlow\\lib\\site-packages\\xgboost\\core.py:160: UserWarning: [10:53:54] WARNING: C:\\buildkite-agent\\builds\\buildkite-windows-cpu-autoscaling-group-i-0b3782d1791676daf-1\\xgboost\\xgboost-ci-windows\\src\\learner.cc:742: \n",
      "Parameters: { \"criterion\" } are not used.\n",
      "\n",
      "  warnings.warn(smsg, UserWarning)\n"
     ]
    },
    {
     "name": "stdout",
     "output_type": "stream",
     "text": [
      "#####################\n",
      "booster  gbtree\n",
      "n_estimators  100\n",
      "eta  0.1\n",
      "max_depth  10\n",
      "lambda  1.0\n",
      "criterion  entropy\n",
      "max_leaves  0\n",
      "0.9402677651905252\n"
     ]
    },
    {
     "name": "stderr",
     "output_type": "stream",
     "text": [
      "c:\\Users\\loren\\anaconda3\\envs\\TensorFlow\\lib\\site-packages\\xgboost\\core.py:160: UserWarning: [10:53:55] WARNING: C:\\buildkite-agent\\builds\\buildkite-windows-cpu-autoscaling-group-i-0b3782d1791676daf-1\\xgboost\\xgboost-ci-windows\\src\\learner.cc:742: \n",
      "Parameters: { \"criterion\" } are not used.\n",
      "\n",
      "  warnings.warn(smsg, UserWarning)\n"
     ]
    },
    {
     "name": "stdout",
     "output_type": "stream",
     "text": [
      "#####################\n",
      "booster  gbtree\n",
      "n_estimators  100\n",
      "eta  0.1\n",
      "max_depth  10\n",
      "lambda  1.0\n",
      "criterion  entropy\n",
      "max_leaves  1\n",
      "0.3388259526261586\n"
     ]
    },
    {
     "name": "stderr",
     "output_type": "stream",
     "text": [
      "c:\\Users\\loren\\anaconda3\\envs\\TensorFlow\\lib\\site-packages\\xgboost\\core.py:160: UserWarning: [10:53:55] WARNING: C:\\buildkite-agent\\builds\\buildkite-windows-cpu-autoscaling-group-i-0b3782d1791676daf-1\\xgboost\\xgboost-ci-windows\\src\\learner.cc:742: \n",
      "Parameters: { \"criterion\" } are not used.\n",
      "\n",
      "  warnings.warn(smsg, UserWarning)\n"
     ]
    },
    {
     "name": "stdout",
     "output_type": "stream",
     "text": [
      "#####################\n",
      "booster  gbtree\n",
      "n_estimators  100\n",
      "eta  0.1\n",
      "max_depth  10\n",
      "lambda  1.0\n",
      "criterion  entropy\n",
      "max_leaves  5\n",
      "0.892378990731205\n"
     ]
    },
    {
     "name": "stderr",
     "output_type": "stream",
     "text": [
      "c:\\Users\\loren\\anaconda3\\envs\\TensorFlow\\lib\\site-packages\\xgboost\\core.py:160: UserWarning: [10:53:56] WARNING: C:\\buildkite-agent\\builds\\buildkite-windows-cpu-autoscaling-group-i-0b3782d1791676daf-1\\xgboost\\xgboost-ci-windows\\src\\learner.cc:742: \n",
      "Parameters: { \"criterion\" } are not used.\n",
      "\n",
      "  warnings.warn(smsg, UserWarning)\n"
     ]
    },
    {
     "name": "stdout",
     "output_type": "stream",
     "text": [
      "#####################\n",
      "booster  gbtree\n",
      "n_estimators  100\n",
      "eta  0.1\n",
      "max_depth  10\n",
      "lambda  5.0\n",
      "criterion  gini\n",
      "max_leaves  0\n",
      "0.9423274974253347\n",
      "#####################\n",
      "booster  gbtree\n",
      "n_estimators  100\n",
      "eta  0.1\n",
      "max_depth  10\n",
      "lambda  5.0\n",
      "criterion  gini\n",
      "max_leaves  1\n",
      "0.3388259526261586\n"
     ]
    },
    {
     "name": "stderr",
     "output_type": "stream",
     "text": [
      "c:\\Users\\loren\\anaconda3\\envs\\TensorFlow\\lib\\site-packages\\xgboost\\core.py:160: UserWarning: [10:53:58] WARNING: C:\\buildkite-agent\\builds\\buildkite-windows-cpu-autoscaling-group-i-0b3782d1791676daf-1\\xgboost\\xgboost-ci-windows\\src\\learner.cc:742: \n",
      "Parameters: { \"criterion\" } are not used.\n",
      "\n",
      "  warnings.warn(smsg, UserWarning)\n",
      "c:\\Users\\loren\\anaconda3\\envs\\TensorFlow\\lib\\site-packages\\xgboost\\core.py:160: UserWarning: [10:53:58] WARNING: C:\\buildkite-agent\\builds\\buildkite-windows-cpu-autoscaling-group-i-0b3782d1791676daf-1\\xgboost\\xgboost-ci-windows\\src\\learner.cc:742: \n",
      "Parameters: { \"criterion\" } are not used.\n",
      "\n",
      "  warnings.warn(smsg, UserWarning)\n"
     ]
    },
    {
     "name": "stdout",
     "output_type": "stream",
     "text": [
      "#####################\n",
      "booster  gbtree\n",
      "n_estimators  100\n",
      "eta  0.1\n",
      "max_depth  10\n",
      "lambda  5.0\n",
      "criterion  gini\n",
      "max_leaves  5\n",
      "0.8856848609680742\n"
     ]
    },
    {
     "name": "stderr",
     "output_type": "stream",
     "text": [
      "c:\\Users\\loren\\anaconda3\\envs\\TensorFlow\\lib\\site-packages\\xgboost\\core.py:160: UserWarning: [10:53:58] WARNING: C:\\buildkite-agent\\builds\\buildkite-windows-cpu-autoscaling-group-i-0b3782d1791676daf-1\\xgboost\\xgboost-ci-windows\\src\\learner.cc:742: \n",
      "Parameters: { \"criterion\" } are not used.\n",
      "\n",
      "  warnings.warn(smsg, UserWarning)\n"
     ]
    },
    {
     "name": "stdout",
     "output_type": "stream",
     "text": [
      "#####################\n",
      "booster  gbtree\n",
      "n_estimators  100\n",
      "eta  0.1\n",
      "max_depth  10\n",
      "lambda  5.0\n",
      "criterion  entropy\n",
      "max_leaves  0\n",
      "0.9423274974253347\n",
      "#####################\n",
      "booster  gbtree\n",
      "n_estimators  100\n",
      "eta  0.1\n",
      "max_depth  10\n",
      "lambda  5.0\n",
      "criterion  entropy\n",
      "max_leaves  1\n",
      "0.3388259526261586\n"
     ]
    },
    {
     "name": "stderr",
     "output_type": "stream",
     "text": [
      "c:\\Users\\loren\\anaconda3\\envs\\TensorFlow\\lib\\site-packages\\xgboost\\core.py:160: UserWarning: [10:54:00] WARNING: C:\\buildkite-agent\\builds\\buildkite-windows-cpu-autoscaling-group-i-0b3782d1791676daf-1\\xgboost\\xgboost-ci-windows\\src\\learner.cc:742: \n",
      "Parameters: { \"criterion\" } are not used.\n",
      "\n",
      "  warnings.warn(smsg, UserWarning)\n",
      "c:\\Users\\loren\\anaconda3\\envs\\TensorFlow\\lib\\site-packages\\xgboost\\core.py:160: UserWarning: [10:54:00] WARNING: C:\\buildkite-agent\\builds\\buildkite-windows-cpu-autoscaling-group-i-0b3782d1791676daf-1\\xgboost\\xgboost-ci-windows\\src\\learner.cc:742: \n",
      "Parameters: { \"criterion\" } are not used.\n",
      "\n",
      "  warnings.warn(smsg, UserWarning)\n"
     ]
    },
    {
     "name": "stdout",
     "output_type": "stream",
     "text": [
      "#####################\n",
      "booster  gbtree\n",
      "n_estimators  100\n",
      "eta  0.1\n",
      "max_depth  10\n",
      "lambda  5.0\n",
      "criterion  entropy\n",
      "max_leaves  5\n",
      "0.8856848609680742\n"
     ]
    },
    {
     "name": "stderr",
     "output_type": "stream",
     "text": [
      "c:\\Users\\loren\\anaconda3\\envs\\TensorFlow\\lib\\site-packages\\xgboost\\core.py:160: UserWarning: [10:54:00] WARNING: C:\\buildkite-agent\\builds\\buildkite-windows-cpu-autoscaling-group-i-0b3782d1791676daf-1\\xgboost\\xgboost-ci-windows\\src\\learner.cc:742: \n",
      "Parameters: { \"criterion\" } are not used.\n",
      "\n",
      "  warnings.warn(smsg, UserWarning)\n"
     ]
    },
    {
     "name": "stdout",
     "output_type": "stream",
     "text": [
      "#####################\n",
      "booster  gbtree\n",
      "n_estimators  100\n",
      "eta  0.1\n",
      "max_depth  20\n",
      "lambda  0.0\n",
      "criterion  gini\n",
      "max_leaves  0\n",
      "0.942842430484037\n",
      "#####################\n",
      "booster  gbtree\n",
      "n_estimators  100\n",
      "eta  0.1\n",
      "max_depth  20\n",
      "lambda  0.0\n",
      "criterion  gini\n",
      "max_leaves  1\n",
      "0.3388259526261586\n"
     ]
    },
    {
     "name": "stderr",
     "output_type": "stream",
     "text": [
      "c:\\Users\\loren\\anaconda3\\envs\\TensorFlow\\lib\\site-packages\\xgboost\\core.py:160: UserWarning: [10:54:04] WARNING: C:\\buildkite-agent\\builds\\buildkite-windows-cpu-autoscaling-group-i-0b3782d1791676daf-1\\xgboost\\xgboost-ci-windows\\src\\learner.cc:742: \n",
      "Parameters: { \"criterion\" } are not used.\n",
      "\n",
      "  warnings.warn(smsg, UserWarning)\n",
      "c:\\Users\\loren\\anaconda3\\envs\\TensorFlow\\lib\\site-packages\\xgboost\\core.py:160: UserWarning: [10:54:05] WARNING: C:\\buildkite-agent\\builds\\buildkite-windows-cpu-autoscaling-group-i-0b3782d1791676daf-1\\xgboost\\xgboost-ci-windows\\src\\learner.cc:742: \n",
      "Parameters: { \"criterion\" } are not used.\n",
      "\n",
      "  warnings.warn(smsg, UserWarning)\n"
     ]
    },
    {
     "name": "stdout",
     "output_type": "stream",
     "text": [
      "#####################\n",
      "booster  gbtree\n",
      "n_estimators  100\n",
      "eta  0.1\n",
      "max_depth  20\n",
      "lambda  0.0\n",
      "criterion  gini\n",
      "max_leaves  5\n",
      "0.8892893923789907\n"
     ]
    },
    {
     "name": "stderr",
     "output_type": "stream",
     "text": [
      "c:\\Users\\loren\\anaconda3\\envs\\TensorFlow\\lib\\site-packages\\xgboost\\core.py:160: UserWarning: [10:54:05] WARNING: C:\\buildkite-agent\\builds\\buildkite-windows-cpu-autoscaling-group-i-0b3782d1791676daf-1\\xgboost\\xgboost-ci-windows\\src\\learner.cc:742: \n",
      "Parameters: { \"criterion\" } are not used.\n",
      "\n",
      "  warnings.warn(smsg, UserWarning)\n"
     ]
    },
    {
     "name": "stdout",
     "output_type": "stream",
     "text": [
      "#####################\n",
      "booster  gbtree\n",
      "n_estimators  100\n",
      "eta  0.1\n",
      "max_depth  20\n",
      "lambda  0.0\n",
      "criterion  entropy\n",
      "max_leaves  0\n",
      "0.942842430484037\n",
      "#####################\n",
      "booster  gbtree\n",
      "n_estimators  100\n",
      "eta  0.1\n",
      "max_depth  20\n",
      "lambda  0.0\n",
      "criterion  entropy\n",
      "max_leaves  1\n",
      "0.3388259526261586\n"
     ]
    },
    {
     "name": "stderr",
     "output_type": "stream",
     "text": [
      "c:\\Users\\loren\\anaconda3\\envs\\TensorFlow\\lib\\site-packages\\xgboost\\core.py:160: UserWarning: [10:54:09] WARNING: C:\\buildkite-agent\\builds\\buildkite-windows-cpu-autoscaling-group-i-0b3782d1791676daf-1\\xgboost\\xgboost-ci-windows\\src\\learner.cc:742: \n",
      "Parameters: { \"criterion\" } are not used.\n",
      "\n",
      "  warnings.warn(smsg, UserWarning)\n",
      "c:\\Users\\loren\\anaconda3\\envs\\TensorFlow\\lib\\site-packages\\xgboost\\core.py:160: UserWarning: [10:54:09] WARNING: C:\\buildkite-agent\\builds\\buildkite-windows-cpu-autoscaling-group-i-0b3782d1791676daf-1\\xgboost\\xgboost-ci-windows\\src\\learner.cc:742: \n",
      "Parameters: { \"criterion\" } are not used.\n",
      "\n",
      "  warnings.warn(smsg, UserWarning)\n"
     ]
    },
    {
     "name": "stdout",
     "output_type": "stream",
     "text": [
      "#####################\n",
      "booster  gbtree\n",
      "n_estimators  100\n",
      "eta  0.1\n",
      "max_depth  20\n",
      "lambda  0.0\n",
      "criterion  entropy\n",
      "max_leaves  5\n",
      "0.8892893923789907\n"
     ]
    },
    {
     "name": "stderr",
     "output_type": "stream",
     "text": [
      "c:\\Users\\loren\\anaconda3\\envs\\TensorFlow\\lib\\site-packages\\xgboost\\core.py:160: UserWarning: [10:54:10] WARNING: C:\\buildkite-agent\\builds\\buildkite-windows-cpu-autoscaling-group-i-0b3782d1791676daf-1\\xgboost\\xgboost-ci-windows\\src\\learner.cc:742: \n",
      "Parameters: { \"criterion\" } are not used.\n",
      "\n",
      "  warnings.warn(smsg, UserWarning)\n"
     ]
    },
    {
     "name": "stdout",
     "output_type": "stream",
     "text": [
      "#####################\n",
      "booster  gbtree\n",
      "n_estimators  100\n",
      "eta  0.1\n",
      "max_depth  20\n",
      "lambda  1.0\n",
      "criterion  gini\n",
      "max_leaves  0\n",
      "0.94129763130793\n",
      "#####################\n",
      "booster  gbtree\n",
      "n_estimators  100\n",
      "eta  0.1\n",
      "max_depth  20\n",
      "lambda  1.0\n",
      "criterion  gini\n",
      "max_leaves  1\n",
      "0.3388259526261586\n"
     ]
    },
    {
     "name": "stderr",
     "output_type": "stream",
     "text": [
      "c:\\Users\\loren\\anaconda3\\envs\\TensorFlow\\lib\\site-packages\\xgboost\\core.py:160: UserWarning: [10:54:12] WARNING: C:\\buildkite-agent\\builds\\buildkite-windows-cpu-autoscaling-group-i-0b3782d1791676daf-1\\xgboost\\xgboost-ci-windows\\src\\learner.cc:742: \n",
      "Parameters: { \"criterion\" } are not used.\n",
      "\n",
      "  warnings.warn(smsg, UserWarning)\n",
      "c:\\Users\\loren\\anaconda3\\envs\\TensorFlow\\lib\\site-packages\\xgboost\\core.py:160: UserWarning: [10:54:12] WARNING: C:\\buildkite-agent\\builds\\buildkite-windows-cpu-autoscaling-group-i-0b3782d1791676daf-1\\xgboost\\xgboost-ci-windows\\src\\learner.cc:742: \n",
      "Parameters: { \"criterion\" } are not used.\n",
      "\n",
      "  warnings.warn(smsg, UserWarning)\n"
     ]
    },
    {
     "name": "stdout",
     "output_type": "stream",
     "text": [
      "#####################\n",
      "booster  gbtree\n",
      "n_estimators  100\n",
      "eta  0.1\n",
      "max_depth  20\n",
      "lambda  1.0\n",
      "criterion  gini\n",
      "max_leaves  5\n",
      "0.892378990731205\n"
     ]
    },
    {
     "name": "stderr",
     "output_type": "stream",
     "text": [
      "c:\\Users\\loren\\anaconda3\\envs\\TensorFlow\\lib\\site-packages\\xgboost\\core.py:160: UserWarning: [10:54:12] WARNING: C:\\buildkite-agent\\builds\\buildkite-windows-cpu-autoscaling-group-i-0b3782d1791676daf-1\\xgboost\\xgboost-ci-windows\\src\\learner.cc:742: \n",
      "Parameters: { \"criterion\" } are not used.\n",
      "\n",
      "  warnings.warn(smsg, UserWarning)\n"
     ]
    },
    {
     "name": "stdout",
     "output_type": "stream",
     "text": [
      "#####################\n",
      "booster  gbtree\n",
      "n_estimators  100\n",
      "eta  0.1\n",
      "max_depth  20\n",
      "lambda  1.0\n",
      "criterion  entropy\n",
      "max_leaves  0\n",
      "0.94129763130793\n",
      "#####################\n",
      "booster  gbtree\n",
      "n_estimators  100\n",
      "eta  0.1\n",
      "max_depth  20\n",
      "lambda  1.0\n",
      "criterion  entropy\n",
      "max_leaves  1\n",
      "0.3388259526261586\n"
     ]
    },
    {
     "name": "stderr",
     "output_type": "stream",
     "text": [
      "c:\\Users\\loren\\anaconda3\\envs\\TensorFlow\\lib\\site-packages\\xgboost\\core.py:160: UserWarning: [10:54:15] WARNING: C:\\buildkite-agent\\builds\\buildkite-windows-cpu-autoscaling-group-i-0b3782d1791676daf-1\\xgboost\\xgboost-ci-windows\\src\\learner.cc:742: \n",
      "Parameters: { \"criterion\" } are not used.\n",
      "\n",
      "  warnings.warn(smsg, UserWarning)\n",
      "c:\\Users\\loren\\anaconda3\\envs\\TensorFlow\\lib\\site-packages\\xgboost\\core.py:160: UserWarning: [10:54:15] WARNING: C:\\buildkite-agent\\builds\\buildkite-windows-cpu-autoscaling-group-i-0b3782d1791676daf-1\\xgboost\\xgboost-ci-windows\\src\\learner.cc:742: \n",
      "Parameters: { \"criterion\" } are not used.\n",
      "\n",
      "  warnings.warn(smsg, UserWarning)\n"
     ]
    },
    {
     "name": "stdout",
     "output_type": "stream",
     "text": [
      "#####################\n",
      "booster  gbtree\n",
      "n_estimators  100\n",
      "eta  0.1\n",
      "max_depth  20\n",
      "lambda  1.0\n",
      "criterion  entropy\n",
      "max_leaves  5\n",
      "0.892378990731205\n"
     ]
    },
    {
     "name": "stderr",
     "output_type": "stream",
     "text": [
      "c:\\Users\\loren\\anaconda3\\envs\\TensorFlow\\lib\\site-packages\\xgboost\\core.py:160: UserWarning: [10:54:15] WARNING: C:\\buildkite-agent\\builds\\buildkite-windows-cpu-autoscaling-group-i-0b3782d1791676daf-1\\xgboost\\xgboost-ci-windows\\src\\learner.cc:742: \n",
      "Parameters: { \"criterion\" } are not used.\n",
      "\n",
      "  warnings.warn(smsg, UserWarning)\n"
     ]
    },
    {
     "name": "stdout",
     "output_type": "stream",
     "text": [
      "#####################\n",
      "booster  gbtree\n",
      "n_estimators  100\n",
      "eta  0.1\n",
      "max_depth  20\n",
      "lambda  5.0\n",
      "criterion  gini\n",
      "max_leaves  0\n",
      "0.9387229660144182\n",
      "#####################\n",
      "booster  gbtree\n",
      "n_estimators  100\n",
      "eta  0.1\n",
      "max_depth  20\n",
      "lambda  5.0\n",
      "criterion  gini\n",
      "max_leaves  1\n",
      "0.3388259526261586\n"
     ]
    },
    {
     "name": "stderr",
     "output_type": "stream",
     "text": [
      "c:\\Users\\loren\\anaconda3\\envs\\TensorFlow\\lib\\site-packages\\xgboost\\core.py:160: UserWarning: [10:54:18] WARNING: C:\\buildkite-agent\\builds\\buildkite-windows-cpu-autoscaling-group-i-0b3782d1791676daf-1\\xgboost\\xgboost-ci-windows\\src\\learner.cc:742: \n",
      "Parameters: { \"criterion\" } are not used.\n",
      "\n",
      "  warnings.warn(smsg, UserWarning)\n",
      "c:\\Users\\loren\\anaconda3\\envs\\TensorFlow\\lib\\site-packages\\xgboost\\core.py:160: UserWarning: [10:54:18] WARNING: C:\\buildkite-agent\\builds\\buildkite-windows-cpu-autoscaling-group-i-0b3782d1791676daf-1\\xgboost\\xgboost-ci-windows\\src\\learner.cc:742: \n",
      "Parameters: { \"criterion\" } are not used.\n",
      "\n",
      "  warnings.warn(smsg, UserWarning)\n"
     ]
    },
    {
     "name": "stdout",
     "output_type": "stream",
     "text": [
      "#####################\n",
      "booster  gbtree\n",
      "n_estimators  100\n",
      "eta  0.1\n",
      "max_depth  20\n",
      "lambda  5.0\n",
      "criterion  gini\n",
      "max_leaves  5\n",
      "0.8856848609680742\n"
     ]
    },
    {
     "name": "stderr",
     "output_type": "stream",
     "text": [
      "c:\\Users\\loren\\anaconda3\\envs\\TensorFlow\\lib\\site-packages\\xgboost\\core.py:160: UserWarning: [10:54:18] WARNING: C:\\buildkite-agent\\builds\\buildkite-windows-cpu-autoscaling-group-i-0b3782d1791676daf-1\\xgboost\\xgboost-ci-windows\\src\\learner.cc:742: \n",
      "Parameters: { \"criterion\" } are not used.\n",
      "\n",
      "  warnings.warn(smsg, UserWarning)\n"
     ]
    },
    {
     "name": "stdout",
     "output_type": "stream",
     "text": [
      "#####################\n",
      "booster  gbtree\n",
      "n_estimators  100\n",
      "eta  0.1\n",
      "max_depth  20\n",
      "lambda  5.0\n",
      "criterion  entropy\n",
      "max_leaves  0\n",
      "0.9387229660144182\n",
      "#####################\n",
      "booster  gbtree\n",
      "n_estimators  100\n",
      "eta  0.1\n",
      "max_depth  20\n",
      "lambda  5.0\n",
      "criterion  entropy\n",
      "max_leaves  1\n",
      "0.3388259526261586\n"
     ]
    },
    {
     "name": "stderr",
     "output_type": "stream",
     "text": [
      "c:\\Users\\loren\\anaconda3\\envs\\TensorFlow\\lib\\site-packages\\xgboost\\core.py:160: UserWarning: [10:54:20] WARNING: C:\\buildkite-agent\\builds\\buildkite-windows-cpu-autoscaling-group-i-0b3782d1791676daf-1\\xgboost\\xgboost-ci-windows\\src\\learner.cc:742: \n",
      "Parameters: { \"criterion\" } are not used.\n",
      "\n",
      "  warnings.warn(smsg, UserWarning)\n",
      "c:\\Users\\loren\\anaconda3\\envs\\TensorFlow\\lib\\site-packages\\xgboost\\core.py:160: UserWarning: [10:54:20] WARNING: C:\\buildkite-agent\\builds\\buildkite-windows-cpu-autoscaling-group-i-0b3782d1791676daf-1\\xgboost\\xgboost-ci-windows\\src\\learner.cc:742: \n",
      "Parameters: { \"criterion\" } are not used.\n",
      "\n",
      "  warnings.warn(smsg, UserWarning)\n"
     ]
    },
    {
     "name": "stdout",
     "output_type": "stream",
     "text": [
      "#####################\n",
      "booster  gbtree\n",
      "n_estimators  100\n",
      "eta  0.1\n",
      "max_depth  20\n",
      "lambda  5.0\n",
      "criterion  entropy\n",
      "max_leaves  5\n",
      "0.8856848609680742\n"
     ]
    },
    {
     "name": "stderr",
     "output_type": "stream",
     "text": [
      "c:\\Users\\loren\\anaconda3\\envs\\TensorFlow\\lib\\site-packages\\xgboost\\core.py:160: UserWarning: [10:54:21] WARNING: C:\\buildkite-agent\\builds\\buildkite-windows-cpu-autoscaling-group-i-0b3782d1791676daf-1\\xgboost\\xgboost-ci-windows\\src\\learner.cc:742: \n",
      "Parameters: { \"criterion\" } are not used.\n",
      "\n",
      "  warnings.warn(smsg, UserWarning)\n"
     ]
    },
    {
     "name": "stdout",
     "output_type": "stream",
     "text": [
      "#####################\n",
      "booster  gbtree\n",
      "n_estimators  100\n",
      "eta  0.1\n",
      "max_depth  30\n",
      "lambda  0.0\n",
      "criterion  gini\n",
      "max_leaves  0\n",
      "0.9402677651905252\n",
      "#####################\n",
      "booster  gbtree\n",
      "n_estimators  100\n",
      "eta  0.1\n",
      "max_depth  30\n",
      "lambda  0.0\n",
      "criterion  gini\n",
      "max_leaves  1\n",
      "0.3388259526261586\n"
     ]
    },
    {
     "name": "stderr",
     "output_type": "stream",
     "text": [
      "c:\\Users\\loren\\anaconda3\\envs\\TensorFlow\\lib\\site-packages\\xgboost\\core.py:160: UserWarning: [10:54:26] WARNING: C:\\buildkite-agent\\builds\\buildkite-windows-cpu-autoscaling-group-i-0b3782d1791676daf-1\\xgboost\\xgboost-ci-windows\\src\\learner.cc:742: \n",
      "Parameters: { \"criterion\" } are not used.\n",
      "\n",
      "  warnings.warn(smsg, UserWarning)\n",
      "c:\\Users\\loren\\anaconda3\\envs\\TensorFlow\\lib\\site-packages\\xgboost\\core.py:160: UserWarning: [10:54:26] WARNING: C:\\buildkite-agent\\builds\\buildkite-windows-cpu-autoscaling-group-i-0b3782d1791676daf-1\\xgboost\\xgboost-ci-windows\\src\\learner.cc:742: \n",
      "Parameters: { \"criterion\" } are not used.\n",
      "\n",
      "  warnings.warn(smsg, UserWarning)\n"
     ]
    },
    {
     "name": "stdout",
     "output_type": "stream",
     "text": [
      "#####################\n",
      "booster  gbtree\n",
      "n_estimators  100\n",
      "eta  0.1\n",
      "max_depth  30\n",
      "lambda  0.0\n",
      "criterion  gini\n",
      "max_leaves  5\n",
      "0.8892893923789907\n"
     ]
    },
    {
     "name": "stderr",
     "output_type": "stream",
     "text": [
      "c:\\Users\\loren\\anaconda3\\envs\\TensorFlow\\lib\\site-packages\\xgboost\\core.py:160: UserWarning: [10:54:26] WARNING: C:\\buildkite-agent\\builds\\buildkite-windows-cpu-autoscaling-group-i-0b3782d1791676daf-1\\xgboost\\xgboost-ci-windows\\src\\learner.cc:742: \n",
      "Parameters: { \"criterion\" } are not used.\n",
      "\n",
      "  warnings.warn(smsg, UserWarning)\n"
     ]
    },
    {
     "name": "stdout",
     "output_type": "stream",
     "text": [
      "#####################\n",
      "booster  gbtree\n",
      "n_estimators  100\n",
      "eta  0.1\n",
      "max_depth  30\n",
      "lambda  0.0\n",
      "criterion  entropy\n",
      "max_leaves  0\n",
      "0.9402677651905252\n",
      "#####################\n",
      "booster  gbtree\n",
      "n_estimators  100\n",
      "eta  0.1\n",
      "max_depth  30\n",
      "lambda  0.0\n",
      "criterion  entropy\n",
      "max_leaves  1\n",
      "0.3388259526261586\n"
     ]
    },
    {
     "name": "stderr",
     "output_type": "stream",
     "text": [
      "c:\\Users\\loren\\anaconda3\\envs\\TensorFlow\\lib\\site-packages\\xgboost\\core.py:160: UserWarning: [10:54:31] WARNING: C:\\buildkite-agent\\builds\\buildkite-windows-cpu-autoscaling-group-i-0b3782d1791676daf-1\\xgboost\\xgboost-ci-windows\\src\\learner.cc:742: \n",
      "Parameters: { \"criterion\" } are not used.\n",
      "\n",
      "  warnings.warn(smsg, UserWarning)\n",
      "c:\\Users\\loren\\anaconda3\\envs\\TensorFlow\\lib\\site-packages\\xgboost\\core.py:160: UserWarning: [10:54:31] WARNING: C:\\buildkite-agent\\builds\\buildkite-windows-cpu-autoscaling-group-i-0b3782d1791676daf-1\\xgboost\\xgboost-ci-windows\\src\\learner.cc:742: \n",
      "Parameters: { \"criterion\" } are not used.\n",
      "\n",
      "  warnings.warn(smsg, UserWarning)\n"
     ]
    },
    {
     "name": "stdout",
     "output_type": "stream",
     "text": [
      "#####################\n",
      "booster  gbtree\n",
      "n_estimators  100\n",
      "eta  0.1\n",
      "max_depth  30\n",
      "lambda  0.0\n",
      "criterion  entropy\n",
      "max_leaves  5\n",
      "0.8892893923789907\n"
     ]
    },
    {
     "name": "stderr",
     "output_type": "stream",
     "text": [
      "c:\\Users\\loren\\anaconda3\\envs\\TensorFlow\\lib\\site-packages\\xgboost\\core.py:160: UserWarning: [10:54:32] WARNING: C:\\buildkite-agent\\builds\\buildkite-windows-cpu-autoscaling-group-i-0b3782d1791676daf-1\\xgboost\\xgboost-ci-windows\\src\\learner.cc:742: \n",
      "Parameters: { \"criterion\" } are not used.\n",
      "\n",
      "  warnings.warn(smsg, UserWarning)\n"
     ]
    },
    {
     "name": "stdout",
     "output_type": "stream",
     "text": [
      "#####################\n",
      "booster  gbtree\n",
      "n_estimators  100\n",
      "eta  0.1\n",
      "max_depth  30\n",
      "lambda  1.0\n",
      "criterion  gini\n",
      "max_leaves  0\n",
      "0.9392378990731205\n",
      "#####################\n",
      "booster  gbtree\n",
      "n_estimators  100\n",
      "eta  0.1\n",
      "max_depth  30\n",
      "lambda  1.0\n",
      "criterion  gini\n",
      "max_leaves  1\n",
      "0.3388259526261586\n"
     ]
    },
    {
     "name": "stderr",
     "output_type": "stream",
     "text": [
      "c:\\Users\\loren\\anaconda3\\envs\\TensorFlow\\lib\\site-packages\\xgboost\\core.py:160: UserWarning: [10:54:34] WARNING: C:\\buildkite-agent\\builds\\buildkite-windows-cpu-autoscaling-group-i-0b3782d1791676daf-1\\xgboost\\xgboost-ci-windows\\src\\learner.cc:742: \n",
      "Parameters: { \"criterion\" } are not used.\n",
      "\n",
      "  warnings.warn(smsg, UserWarning)\n",
      "c:\\Users\\loren\\anaconda3\\envs\\TensorFlow\\lib\\site-packages\\xgboost\\core.py:160: UserWarning: [10:54:34] WARNING: C:\\buildkite-agent\\builds\\buildkite-windows-cpu-autoscaling-group-i-0b3782d1791676daf-1\\xgboost\\xgboost-ci-windows\\src\\learner.cc:742: \n",
      "Parameters: { \"criterion\" } are not used.\n",
      "\n",
      "  warnings.warn(smsg, UserWarning)\n"
     ]
    },
    {
     "name": "stdout",
     "output_type": "stream",
     "text": [
      "#####################\n",
      "booster  gbtree\n",
      "n_estimators  100\n",
      "eta  0.1\n",
      "max_depth  30\n",
      "lambda  1.0\n",
      "criterion  gini\n",
      "max_leaves  5\n",
      "0.892378990731205\n"
     ]
    },
    {
     "name": "stderr",
     "output_type": "stream",
     "text": [
      "c:\\Users\\loren\\anaconda3\\envs\\TensorFlow\\lib\\site-packages\\xgboost\\core.py:160: UserWarning: [10:54:35] WARNING: C:\\buildkite-agent\\builds\\buildkite-windows-cpu-autoscaling-group-i-0b3782d1791676daf-1\\xgboost\\xgboost-ci-windows\\src\\learner.cc:742: \n",
      "Parameters: { \"criterion\" } are not used.\n",
      "\n",
      "  warnings.warn(smsg, UserWarning)\n"
     ]
    },
    {
     "name": "stdout",
     "output_type": "stream",
     "text": [
      "#####################\n",
      "booster  gbtree\n",
      "n_estimators  100\n",
      "eta  0.1\n",
      "max_depth  30\n",
      "lambda  1.0\n",
      "criterion  entropy\n",
      "max_leaves  0\n",
      "0.9392378990731205\n",
      "#####################\n",
      "booster  gbtree\n",
      "n_estimators  100\n",
      "eta  0.1\n",
      "max_depth  30\n",
      "lambda  1.0\n",
      "criterion  entropy\n",
      "max_leaves  1\n",
      "0.3388259526261586\n"
     ]
    },
    {
     "name": "stderr",
     "output_type": "stream",
     "text": [
      "c:\\Users\\loren\\anaconda3\\envs\\TensorFlow\\lib\\site-packages\\xgboost\\core.py:160: UserWarning: [10:54:37] WARNING: C:\\buildkite-agent\\builds\\buildkite-windows-cpu-autoscaling-group-i-0b3782d1791676daf-1\\xgboost\\xgboost-ci-windows\\src\\learner.cc:742: \n",
      "Parameters: { \"criterion\" } are not used.\n",
      "\n",
      "  warnings.warn(smsg, UserWarning)\n",
      "c:\\Users\\loren\\anaconda3\\envs\\TensorFlow\\lib\\site-packages\\xgboost\\core.py:160: UserWarning: [10:54:37] WARNING: C:\\buildkite-agent\\builds\\buildkite-windows-cpu-autoscaling-group-i-0b3782d1791676daf-1\\xgboost\\xgboost-ci-windows\\src\\learner.cc:742: \n",
      "Parameters: { \"criterion\" } are not used.\n",
      "\n",
      "  warnings.warn(smsg, UserWarning)\n"
     ]
    },
    {
     "name": "stdout",
     "output_type": "stream",
     "text": [
      "#####################\n",
      "booster  gbtree\n",
      "n_estimators  100\n",
      "eta  0.1\n",
      "max_depth  30\n",
      "lambda  1.0\n",
      "criterion  entropy\n",
      "max_leaves  5\n",
      "0.892378990731205\n"
     ]
    },
    {
     "name": "stderr",
     "output_type": "stream",
     "text": [
      "c:\\Users\\loren\\anaconda3\\envs\\TensorFlow\\lib\\site-packages\\xgboost\\core.py:160: UserWarning: [10:54:38] WARNING: C:\\buildkite-agent\\builds\\buildkite-windows-cpu-autoscaling-group-i-0b3782d1791676daf-1\\xgboost\\xgboost-ci-windows\\src\\learner.cc:742: \n",
      "Parameters: { \"criterion\" } are not used.\n",
      "\n",
      "  warnings.warn(smsg, UserWarning)\n"
     ]
    },
    {
     "name": "stdout",
     "output_type": "stream",
     "text": [
      "#####################\n",
      "booster  gbtree\n",
      "n_estimators  100\n",
      "eta  0.1\n",
      "max_depth  30\n",
      "lambda  5.0\n",
      "criterion  gini\n",
      "max_leaves  0\n",
      "0.9407826982492276\n",
      "#####################\n",
      "booster  gbtree\n",
      "n_estimators  100\n",
      "eta  0.1\n",
      "max_depth  30\n",
      "lambda  5.0\n",
      "criterion  gini\n",
      "max_leaves  1\n",
      "0.3388259526261586\n"
     ]
    },
    {
     "name": "stderr",
     "output_type": "stream",
     "text": [
      "c:\\Users\\loren\\anaconda3\\envs\\TensorFlow\\lib\\site-packages\\xgboost\\core.py:160: UserWarning: [10:54:40] WARNING: C:\\buildkite-agent\\builds\\buildkite-windows-cpu-autoscaling-group-i-0b3782d1791676daf-1\\xgboost\\xgboost-ci-windows\\src\\learner.cc:742: \n",
      "Parameters: { \"criterion\" } are not used.\n",
      "\n",
      "  warnings.warn(smsg, UserWarning)\n",
      "c:\\Users\\loren\\anaconda3\\envs\\TensorFlow\\lib\\site-packages\\xgboost\\core.py:160: UserWarning: [10:54:40] WARNING: C:\\buildkite-agent\\builds\\buildkite-windows-cpu-autoscaling-group-i-0b3782d1791676daf-1\\xgboost\\xgboost-ci-windows\\src\\learner.cc:742: \n",
      "Parameters: { \"criterion\" } are not used.\n",
      "\n",
      "  warnings.warn(smsg, UserWarning)\n"
     ]
    },
    {
     "name": "stdout",
     "output_type": "stream",
     "text": [
      "#####################\n",
      "booster  gbtree\n",
      "n_estimators  100\n",
      "eta  0.1\n",
      "max_depth  30\n",
      "lambda  5.0\n",
      "criterion  gini\n",
      "max_leaves  5\n",
      "0.8856848609680742\n"
     ]
    },
    {
     "name": "stderr",
     "output_type": "stream",
     "text": [
      "c:\\Users\\loren\\anaconda3\\envs\\TensorFlow\\lib\\site-packages\\xgboost\\core.py:160: UserWarning: [10:54:40] WARNING: C:\\buildkite-agent\\builds\\buildkite-windows-cpu-autoscaling-group-i-0b3782d1791676daf-1\\xgboost\\xgboost-ci-windows\\src\\learner.cc:742: \n",
      "Parameters: { \"criterion\" } are not used.\n",
      "\n",
      "  warnings.warn(smsg, UserWarning)\n"
     ]
    },
    {
     "name": "stdout",
     "output_type": "stream",
     "text": [
      "#####################\n",
      "booster  gbtree\n",
      "n_estimators  100\n",
      "eta  0.1\n",
      "max_depth  30\n",
      "lambda  5.0\n",
      "criterion  entropy\n",
      "max_leaves  0\n",
      "0.9407826982492276\n",
      "#####################\n",
      "booster  gbtree\n",
      "n_estimators  100\n",
      "eta  0.1\n",
      "max_depth  30\n",
      "lambda  5.0\n",
      "criterion  entropy\n",
      "max_leaves  1\n",
      "0.3388259526261586\n"
     ]
    },
    {
     "name": "stderr",
     "output_type": "stream",
     "text": [
      "c:\\Users\\loren\\anaconda3\\envs\\TensorFlow\\lib\\site-packages\\xgboost\\core.py:160: UserWarning: [10:54:43] WARNING: C:\\buildkite-agent\\builds\\buildkite-windows-cpu-autoscaling-group-i-0b3782d1791676daf-1\\xgboost\\xgboost-ci-windows\\src\\learner.cc:742: \n",
      "Parameters: { \"criterion\" } are not used.\n",
      "\n",
      "  warnings.warn(smsg, UserWarning)\n",
      "c:\\Users\\loren\\anaconda3\\envs\\TensorFlow\\lib\\site-packages\\xgboost\\core.py:160: UserWarning: [10:54:43] WARNING: C:\\buildkite-agent\\builds\\buildkite-windows-cpu-autoscaling-group-i-0b3782d1791676daf-1\\xgboost\\xgboost-ci-windows\\src\\learner.cc:742: \n",
      "Parameters: { \"criterion\" } are not used.\n",
      "\n",
      "  warnings.warn(smsg, UserWarning)\n"
     ]
    },
    {
     "name": "stdout",
     "output_type": "stream",
     "text": [
      "#####################\n",
      "booster  gbtree\n",
      "n_estimators  100\n",
      "eta  0.1\n",
      "max_depth  30\n",
      "lambda  5.0\n",
      "criterion  entropy\n",
      "max_leaves  5\n",
      "0.8856848609680742\n"
     ]
    },
    {
     "name": "stderr",
     "output_type": "stream",
     "text": [
      "c:\\Users\\loren\\anaconda3\\envs\\TensorFlow\\lib\\site-packages\\xgboost\\core.py:160: UserWarning: [10:54:43] WARNING: C:\\buildkite-agent\\builds\\buildkite-windows-cpu-autoscaling-group-i-0b3782d1791676daf-1\\xgboost\\xgboost-ci-windows\\src\\learner.cc:742: \n",
      "Parameters: { \"criterion\" } are not used.\n",
      "\n",
      "  warnings.warn(smsg, UserWarning)\n"
     ]
    },
    {
     "name": "stdout",
     "output_type": "stream",
     "text": [
      "#####################\n",
      "booster  gbtree\n",
      "n_estimators  100\n",
      "eta  0.3\n",
      "max_depth  5\n",
      "lambda  0.0\n",
      "criterion  gini\n",
      "max_leaves  0\n",
      "0.9423274974253347\n",
      "#####################\n",
      "booster  gbtree\n",
      "n_estimators  100\n",
      "eta  0.3\n",
      "max_depth  5\n",
      "lambda  0.0\n",
      "criterion  gini\n",
      "max_leaves  1\n",
      "0.3388259526261586\n"
     ]
    },
    {
     "name": "stderr",
     "output_type": "stream",
     "text": [
      "c:\\Users\\loren\\anaconda3\\envs\\TensorFlow\\lib\\site-packages\\xgboost\\core.py:160: UserWarning: [10:54:44] WARNING: C:\\buildkite-agent\\builds\\buildkite-windows-cpu-autoscaling-group-i-0b3782d1791676daf-1\\xgboost\\xgboost-ci-windows\\src\\learner.cc:742: \n",
      "Parameters: { \"criterion\" } are not used.\n",
      "\n",
      "  warnings.warn(smsg, UserWarning)\n",
      "c:\\Users\\loren\\anaconda3\\envs\\TensorFlow\\lib\\site-packages\\xgboost\\core.py:160: UserWarning: [10:54:44] WARNING: C:\\buildkite-agent\\builds\\buildkite-windows-cpu-autoscaling-group-i-0b3782d1791676daf-1\\xgboost\\xgboost-ci-windows\\src\\learner.cc:742: \n",
      "Parameters: { \"criterion\" } are not used.\n",
      "\n",
      "  warnings.warn(smsg, UserWarning)\n"
     ]
    },
    {
     "name": "stdout",
     "output_type": "stream",
     "text": [
      "#####################\n",
      "booster  gbtree\n",
      "n_estimators  100\n",
      "eta  0.3\n",
      "max_depth  5\n",
      "lambda  0.0\n",
      "criterion  gini\n",
      "max_leaves  5\n",
      "0.9320288362512873\n"
     ]
    },
    {
     "name": "stderr",
     "output_type": "stream",
     "text": [
      "c:\\Users\\loren\\anaconda3\\envs\\TensorFlow\\lib\\site-packages\\xgboost\\core.py:160: UserWarning: [10:54:45] WARNING: C:\\buildkite-agent\\builds\\buildkite-windows-cpu-autoscaling-group-i-0b3782d1791676daf-1\\xgboost\\xgboost-ci-windows\\src\\learner.cc:742: \n",
      "Parameters: { \"criterion\" } are not used.\n",
      "\n",
      "  warnings.warn(smsg, UserWarning)\n"
     ]
    },
    {
     "name": "stdout",
     "output_type": "stream",
     "text": [
      "#####################\n",
      "booster  gbtree\n",
      "n_estimators  100\n",
      "eta  0.3\n",
      "max_depth  5\n",
      "lambda  0.0\n",
      "criterion  entropy\n",
      "max_leaves  0\n",
      "0.9423274974253347\n"
     ]
    },
    {
     "name": "stderr",
     "output_type": "stream",
     "text": [
      "c:\\Users\\loren\\anaconda3\\envs\\TensorFlow\\lib\\site-packages\\xgboost\\core.py:160: UserWarning: [10:54:45] WARNING: C:\\buildkite-agent\\builds\\buildkite-windows-cpu-autoscaling-group-i-0b3782d1791676daf-1\\xgboost\\xgboost-ci-windows\\src\\learner.cc:742: \n",
      "Parameters: { \"criterion\" } are not used.\n",
      "\n",
      "  warnings.warn(smsg, UserWarning)\n"
     ]
    },
    {
     "name": "stdout",
     "output_type": "stream",
     "text": [
      "#####################\n",
      "booster  gbtree\n",
      "n_estimators  100\n",
      "eta  0.3\n",
      "max_depth  5\n",
      "lambda  0.0\n",
      "criterion  entropy\n",
      "max_leaves  1\n",
      "0.3388259526261586\n"
     ]
    },
    {
     "name": "stderr",
     "output_type": "stream",
     "text": [
      "c:\\Users\\loren\\anaconda3\\envs\\TensorFlow\\lib\\site-packages\\xgboost\\core.py:160: UserWarning: [10:54:45] WARNING: C:\\buildkite-agent\\builds\\buildkite-windows-cpu-autoscaling-group-i-0b3782d1791676daf-1\\xgboost\\xgboost-ci-windows\\src\\learner.cc:742: \n",
      "Parameters: { \"criterion\" } are not used.\n",
      "\n",
      "  warnings.warn(smsg, UserWarning)\n"
     ]
    },
    {
     "name": "stdout",
     "output_type": "stream",
     "text": [
      "#####################\n",
      "booster  gbtree\n",
      "n_estimators  100\n",
      "eta  0.3\n",
      "max_depth  5\n",
      "lambda  0.0\n",
      "criterion  entropy\n",
      "max_leaves  5\n",
      "0.9320288362512873\n"
     ]
    },
    {
     "name": "stderr",
     "output_type": "stream",
     "text": [
      "c:\\Users\\loren\\anaconda3\\envs\\TensorFlow\\lib\\site-packages\\xgboost\\core.py:160: UserWarning: [10:54:46] WARNING: C:\\buildkite-agent\\builds\\buildkite-windows-cpu-autoscaling-group-i-0b3782d1791676daf-1\\xgboost\\xgboost-ci-windows\\src\\learner.cc:742: \n",
      "Parameters: { \"criterion\" } are not used.\n",
      "\n",
      "  warnings.warn(smsg, UserWarning)\n"
     ]
    },
    {
     "name": "stdout",
     "output_type": "stream",
     "text": [
      "#####################\n",
      "booster  gbtree\n",
      "n_estimators  100\n",
      "eta  0.3\n",
      "max_depth  5\n",
      "lambda  1.0\n",
      "criterion  gini\n",
      "max_leaves  0\n",
      "0.9397528321318228\n",
      "#####################\n",
      "booster  gbtree\n",
      "n_estimators  100\n",
      "eta  0.3\n",
      "max_depth  5\n",
      "lambda  1.0\n",
      "criterion  gini\n",
      "max_leaves  1\n",
      "0.3388259526261586\n"
     ]
    },
    {
     "name": "stderr",
     "output_type": "stream",
     "text": [
      "c:\\Users\\loren\\anaconda3\\envs\\TensorFlow\\lib\\site-packages\\xgboost\\core.py:160: UserWarning: [10:54:47] WARNING: C:\\buildkite-agent\\builds\\buildkite-windows-cpu-autoscaling-group-i-0b3782d1791676daf-1\\xgboost\\xgboost-ci-windows\\src\\learner.cc:742: \n",
      "Parameters: { \"criterion\" } are not used.\n",
      "\n",
      "  warnings.warn(smsg, UserWarning)\n",
      "c:\\Users\\loren\\anaconda3\\envs\\TensorFlow\\lib\\site-packages\\xgboost\\core.py:160: UserWarning: [10:54:47] WARNING: C:\\buildkite-agent\\builds\\buildkite-windows-cpu-autoscaling-group-i-0b3782d1791676daf-1\\xgboost\\xgboost-ci-windows\\src\\learner.cc:742: \n",
      "Parameters: { \"criterion\" } are not used.\n",
      "\n",
      "  warnings.warn(smsg, UserWarning)\n"
     ]
    },
    {
     "name": "stdout",
     "output_type": "stream",
     "text": [
      "#####################\n",
      "booster  gbtree\n",
      "n_estimators  100\n",
      "eta  0.3\n",
      "max_depth  5\n",
      "lambda  1.0\n",
      "criterion  gini\n",
      "max_leaves  5\n",
      "0.9325437693099897\n"
     ]
    },
    {
     "name": "stderr",
     "output_type": "stream",
     "text": [
      "c:\\Users\\loren\\anaconda3\\envs\\TensorFlow\\lib\\site-packages\\xgboost\\core.py:160: UserWarning: [10:54:47] WARNING: C:\\buildkite-agent\\builds\\buildkite-windows-cpu-autoscaling-group-i-0b3782d1791676daf-1\\xgboost\\xgboost-ci-windows\\src\\learner.cc:742: \n",
      "Parameters: { \"criterion\" } are not used.\n",
      "\n",
      "  warnings.warn(smsg, UserWarning)\n"
     ]
    },
    {
     "name": "stdout",
     "output_type": "stream",
     "text": [
      "#####################\n",
      "booster  gbtree\n",
      "n_estimators  100\n",
      "eta  0.3\n",
      "max_depth  5\n",
      "lambda  1.0\n",
      "criterion  entropy\n",
      "max_leaves  0\n",
      "0.9397528321318228\n",
      "#####################\n",
      "booster  gbtree\n",
      "n_estimators  100\n",
      "eta  0.3\n",
      "max_depth  5\n",
      "lambda  1.0\n",
      "criterion  entropy\n",
      "max_leaves  1\n",
      "0.3388259526261586\n"
     ]
    },
    {
     "name": "stderr",
     "output_type": "stream",
     "text": [
      "c:\\Users\\loren\\anaconda3\\envs\\TensorFlow\\lib\\site-packages\\xgboost\\core.py:160: UserWarning: [10:54:48] WARNING: C:\\buildkite-agent\\builds\\buildkite-windows-cpu-autoscaling-group-i-0b3782d1791676daf-1\\xgboost\\xgboost-ci-windows\\src\\learner.cc:742: \n",
      "Parameters: { \"criterion\" } are not used.\n",
      "\n",
      "  warnings.warn(smsg, UserWarning)\n",
      "c:\\Users\\loren\\anaconda3\\envs\\TensorFlow\\lib\\site-packages\\xgboost\\core.py:160: UserWarning: [10:54:48] WARNING: C:\\buildkite-agent\\builds\\buildkite-windows-cpu-autoscaling-group-i-0b3782d1791676daf-1\\xgboost\\xgboost-ci-windows\\src\\learner.cc:742: \n",
      "Parameters: { \"criterion\" } are not used.\n",
      "\n",
      "  warnings.warn(smsg, UserWarning)\n"
     ]
    },
    {
     "name": "stdout",
     "output_type": "stream",
     "text": [
      "#####################\n",
      "booster  gbtree\n",
      "n_estimators  100\n",
      "eta  0.3\n",
      "max_depth  5\n",
      "lambda  1.0\n",
      "criterion  entropy\n",
      "max_leaves  5\n",
      "0.9325437693099897\n"
     ]
    },
    {
     "name": "stderr",
     "output_type": "stream",
     "text": [
      "c:\\Users\\loren\\anaconda3\\envs\\TensorFlow\\lib\\site-packages\\xgboost\\core.py:160: UserWarning: [10:54:48] WARNING: C:\\buildkite-agent\\builds\\buildkite-windows-cpu-autoscaling-group-i-0b3782d1791676daf-1\\xgboost\\xgboost-ci-windows\\src\\learner.cc:742: \n",
      "Parameters: { \"criterion\" } are not used.\n",
      "\n",
      "  warnings.warn(smsg, UserWarning)\n"
     ]
    },
    {
     "name": "stdout",
     "output_type": "stream",
     "text": [
      "#####################\n",
      "booster  gbtree\n",
      "n_estimators  100\n",
      "eta  0.3\n",
      "max_depth  5\n",
      "lambda  5.0\n",
      "criterion  gini\n",
      "max_leaves  0\n",
      "0.94129763130793\n",
      "#####################\n",
      "booster  gbtree\n",
      "n_estimators  100\n",
      "eta  0.3\n",
      "max_depth  5\n",
      "lambda  5.0\n",
      "criterion  gini\n",
      "max_leaves  1\n",
      "0.3388259526261586\n"
     ]
    },
    {
     "name": "stderr",
     "output_type": "stream",
     "text": [
      "c:\\Users\\loren\\anaconda3\\envs\\TensorFlow\\lib\\site-packages\\xgboost\\core.py:160: UserWarning: [10:54:49] WARNING: C:\\buildkite-agent\\builds\\buildkite-windows-cpu-autoscaling-group-i-0b3782d1791676daf-1\\xgboost\\xgboost-ci-windows\\src\\learner.cc:742: \n",
      "Parameters: { \"criterion\" } are not used.\n",
      "\n",
      "  warnings.warn(smsg, UserWarning)\n",
      "c:\\Users\\loren\\anaconda3\\envs\\TensorFlow\\lib\\site-packages\\xgboost\\core.py:160: UserWarning: [10:54:49] WARNING: C:\\buildkite-agent\\builds\\buildkite-windows-cpu-autoscaling-group-i-0b3782d1791676daf-1\\xgboost\\xgboost-ci-windows\\src\\learner.cc:742: \n",
      "Parameters: { \"criterion\" } are not used.\n",
      "\n",
      "  warnings.warn(smsg, UserWarning)\n"
     ]
    },
    {
     "name": "stdout",
     "output_type": "stream",
     "text": [
      "#####################\n",
      "booster  gbtree\n",
      "n_estimators  100\n",
      "eta  0.3\n",
      "max_depth  5\n",
      "lambda  5.0\n",
      "criterion  gini\n",
      "max_leaves  5\n",
      "0.9351184346035015\n"
     ]
    },
    {
     "name": "stderr",
     "output_type": "stream",
     "text": [
      "c:\\Users\\loren\\anaconda3\\envs\\TensorFlow\\lib\\site-packages\\xgboost\\core.py:160: UserWarning: [10:54:50] WARNING: C:\\buildkite-agent\\builds\\buildkite-windows-cpu-autoscaling-group-i-0b3782d1791676daf-1\\xgboost\\xgboost-ci-windows\\src\\learner.cc:742: \n",
      "Parameters: { \"criterion\" } are not used.\n",
      "\n",
      "  warnings.warn(smsg, UserWarning)\n"
     ]
    },
    {
     "name": "stdout",
     "output_type": "stream",
     "text": [
      "#####################\n",
      "booster  gbtree\n",
      "n_estimators  100\n",
      "eta  0.3\n",
      "max_depth  5\n",
      "lambda  5.0\n",
      "criterion  entropy\n",
      "max_leaves  0\n",
      "0.94129763130793\n",
      "#####################\n",
      "booster  gbtree\n",
      "n_estimators  100\n",
      "eta  0.3\n",
      "max_depth  5\n",
      "lambda  5.0\n",
      "criterion  entropy\n",
      "max_leaves  1\n",
      "0.3388259526261586\n"
     ]
    },
    {
     "name": "stderr",
     "output_type": "stream",
     "text": [
      "c:\\Users\\loren\\anaconda3\\envs\\TensorFlow\\lib\\site-packages\\xgboost\\core.py:160: UserWarning: [10:54:50] WARNING: C:\\buildkite-agent\\builds\\buildkite-windows-cpu-autoscaling-group-i-0b3782d1791676daf-1\\xgboost\\xgboost-ci-windows\\src\\learner.cc:742: \n",
      "Parameters: { \"criterion\" } are not used.\n",
      "\n",
      "  warnings.warn(smsg, UserWarning)\n",
      "c:\\Users\\loren\\anaconda3\\envs\\TensorFlow\\lib\\site-packages\\xgboost\\core.py:160: UserWarning: [10:54:50] WARNING: C:\\buildkite-agent\\builds\\buildkite-windows-cpu-autoscaling-group-i-0b3782d1791676daf-1\\xgboost\\xgboost-ci-windows\\src\\learner.cc:742: \n",
      "Parameters: { \"criterion\" } are not used.\n",
      "\n",
      "  warnings.warn(smsg, UserWarning)\n"
     ]
    },
    {
     "name": "stdout",
     "output_type": "stream",
     "text": [
      "#####################\n",
      "booster  gbtree\n",
      "n_estimators  100\n",
      "eta  0.3\n",
      "max_depth  5\n",
      "lambda  5.0\n",
      "criterion  entropy\n",
      "max_leaves  5\n",
      "0.9351184346035015\n"
     ]
    },
    {
     "name": "stderr",
     "output_type": "stream",
     "text": [
      "c:\\Users\\loren\\anaconda3\\envs\\TensorFlow\\lib\\site-packages\\xgboost\\core.py:160: UserWarning: [10:54:51] WARNING: C:\\buildkite-agent\\builds\\buildkite-windows-cpu-autoscaling-group-i-0b3782d1791676daf-1\\xgboost\\xgboost-ci-windows\\src\\learner.cc:742: \n",
      "Parameters: { \"criterion\" } are not used.\n",
      "\n",
      "  warnings.warn(smsg, UserWarning)\n"
     ]
    },
    {
     "name": "stdout",
     "output_type": "stream",
     "text": [
      "#####################\n",
      "booster  gbtree\n",
      "n_estimators  100\n",
      "eta  0.3\n",
      "max_depth  10\n",
      "lambda  0.0\n",
      "criterion  gini\n",
      "max_leaves  0\n",
      "0.942842430484037\n",
      "#####################\n",
      "booster  gbtree\n",
      "n_estimators  100\n",
      "eta  0.3\n",
      "max_depth  10\n",
      "lambda  0.0\n",
      "criterion  gini\n",
      "max_leaves  1\n",
      "0.3388259526261586\n"
     ]
    },
    {
     "name": "stderr",
     "output_type": "stream",
     "text": [
      "c:\\Users\\loren\\anaconda3\\envs\\TensorFlow\\lib\\site-packages\\xgboost\\core.py:160: UserWarning: [10:54:52] WARNING: C:\\buildkite-agent\\builds\\buildkite-windows-cpu-autoscaling-group-i-0b3782d1791676daf-1\\xgboost\\xgboost-ci-windows\\src\\learner.cc:742: \n",
      "Parameters: { \"criterion\" } are not used.\n",
      "\n",
      "  warnings.warn(smsg, UserWarning)\n",
      "c:\\Users\\loren\\anaconda3\\envs\\TensorFlow\\lib\\site-packages\\xgboost\\core.py:160: UserWarning: [10:54:52] WARNING: C:\\buildkite-agent\\builds\\buildkite-windows-cpu-autoscaling-group-i-0b3782d1791676daf-1\\xgboost\\xgboost-ci-windows\\src\\learner.cc:742: \n",
      "Parameters: { \"criterion\" } are not used.\n",
      "\n",
      "  warnings.warn(smsg, UserWarning)\n"
     ]
    },
    {
     "name": "stdout",
     "output_type": "stream",
     "text": [
      "#####################\n",
      "booster  gbtree\n",
      "n_estimators  100\n",
      "eta  0.3\n",
      "max_depth  10\n",
      "lambda  0.0\n",
      "criterion  gini\n",
      "max_leaves  5\n",
      "0.9320288362512873\n"
     ]
    },
    {
     "name": "stderr",
     "output_type": "stream",
     "text": [
      "c:\\Users\\loren\\anaconda3\\envs\\TensorFlow\\lib\\site-packages\\xgboost\\core.py:160: UserWarning: [10:54:53] WARNING: C:\\buildkite-agent\\builds\\buildkite-windows-cpu-autoscaling-group-i-0b3782d1791676daf-1\\xgboost\\xgboost-ci-windows\\src\\learner.cc:742: \n",
      "Parameters: { \"criterion\" } are not used.\n",
      "\n",
      "  warnings.warn(smsg, UserWarning)\n"
     ]
    },
    {
     "name": "stdout",
     "output_type": "stream",
     "text": [
      "#####################\n",
      "booster  gbtree\n",
      "n_estimators  100\n",
      "eta  0.3\n",
      "max_depth  10\n",
      "lambda  0.0\n",
      "criterion  entropy\n",
      "max_leaves  0\n",
      "0.942842430484037\n",
      "#####################\n",
      "booster  gbtree\n",
      "n_estimators  100\n",
      "eta  0.3\n",
      "max_depth  10\n",
      "lambda  0.0\n",
      "criterion  entropy\n",
      "max_leaves  1\n",
      "0.3388259526261586\n"
     ]
    },
    {
     "name": "stderr",
     "output_type": "stream",
     "text": [
      "c:\\Users\\loren\\anaconda3\\envs\\TensorFlow\\lib\\site-packages\\xgboost\\core.py:160: UserWarning: [10:54:54] WARNING: C:\\buildkite-agent\\builds\\buildkite-windows-cpu-autoscaling-group-i-0b3782d1791676daf-1\\xgboost\\xgboost-ci-windows\\src\\learner.cc:742: \n",
      "Parameters: { \"criterion\" } are not used.\n",
      "\n",
      "  warnings.warn(smsg, UserWarning)\n",
      "c:\\Users\\loren\\anaconda3\\envs\\TensorFlow\\lib\\site-packages\\xgboost\\core.py:160: UserWarning: [10:54:54] WARNING: C:\\buildkite-agent\\builds\\buildkite-windows-cpu-autoscaling-group-i-0b3782d1791676daf-1\\xgboost\\xgboost-ci-windows\\src\\learner.cc:742: \n",
      "Parameters: { \"criterion\" } are not used.\n",
      "\n",
      "  warnings.warn(smsg, UserWarning)\n"
     ]
    },
    {
     "name": "stdout",
     "output_type": "stream",
     "text": [
      "#####################\n",
      "booster  gbtree\n",
      "n_estimators  100\n",
      "eta  0.3\n",
      "max_depth  10\n",
      "lambda  0.0\n",
      "criterion  entropy\n",
      "max_leaves  5\n",
      "0.9320288362512873\n"
     ]
    },
    {
     "name": "stderr",
     "output_type": "stream",
     "text": [
      "c:\\Users\\loren\\anaconda3\\envs\\TensorFlow\\lib\\site-packages\\xgboost\\core.py:160: UserWarning: [10:54:55] WARNING: C:\\buildkite-agent\\builds\\buildkite-windows-cpu-autoscaling-group-i-0b3782d1791676daf-1\\xgboost\\xgboost-ci-windows\\src\\learner.cc:742: \n",
      "Parameters: { \"criterion\" } are not used.\n",
      "\n",
      "  warnings.warn(smsg, UserWarning)\n"
     ]
    },
    {
     "name": "stdout",
     "output_type": "stream",
     "text": [
      "#####################\n",
      "booster  gbtree\n",
      "n_estimators  100\n",
      "eta  0.3\n",
      "max_depth  10\n",
      "lambda  1.0\n",
      "criterion  gini\n",
      "max_leaves  0\n",
      "0.945417095777549\n",
      "#####################\n",
      "booster  gbtree\n",
      "n_estimators  100\n",
      "eta  0.3\n",
      "max_depth  10\n",
      "lambda  1.0\n",
      "criterion  gini\n",
      "max_leaves  1\n",
      "0.3388259526261586\n"
     ]
    },
    {
     "name": "stderr",
     "output_type": "stream",
     "text": [
      "c:\\Users\\loren\\anaconda3\\envs\\TensorFlow\\lib\\site-packages\\xgboost\\core.py:160: UserWarning: [10:54:56] WARNING: C:\\buildkite-agent\\builds\\buildkite-windows-cpu-autoscaling-group-i-0b3782d1791676daf-1\\xgboost\\xgboost-ci-windows\\src\\learner.cc:742: \n",
      "Parameters: { \"criterion\" } are not used.\n",
      "\n",
      "  warnings.warn(smsg, UserWarning)\n",
      "c:\\Users\\loren\\anaconda3\\envs\\TensorFlow\\lib\\site-packages\\xgboost\\core.py:160: UserWarning: [10:54:56] WARNING: C:\\buildkite-agent\\builds\\buildkite-windows-cpu-autoscaling-group-i-0b3782d1791676daf-1\\xgboost\\xgboost-ci-windows\\src\\learner.cc:742: \n",
      "Parameters: { \"criterion\" } are not used.\n",
      "\n",
      "  warnings.warn(smsg, UserWarning)\n"
     ]
    },
    {
     "name": "stdout",
     "output_type": "stream",
     "text": [
      "#####################\n",
      "booster  gbtree\n",
      "n_estimators  100\n",
      "eta  0.3\n",
      "max_depth  10\n",
      "lambda  1.0\n",
      "criterion  gini\n",
      "max_leaves  5\n",
      "0.9325437693099897\n"
     ]
    },
    {
     "name": "stderr",
     "output_type": "stream",
     "text": [
      "c:\\Users\\loren\\anaconda3\\envs\\TensorFlow\\lib\\site-packages\\xgboost\\core.py:160: UserWarning: [10:54:56] WARNING: C:\\buildkite-agent\\builds\\buildkite-windows-cpu-autoscaling-group-i-0b3782d1791676daf-1\\xgboost\\xgboost-ci-windows\\src\\learner.cc:742: \n",
      "Parameters: { \"criterion\" } are not used.\n",
      "\n",
      "  warnings.warn(smsg, UserWarning)\n"
     ]
    },
    {
     "name": "stdout",
     "output_type": "stream",
     "text": [
      "#####################\n",
      "booster  gbtree\n",
      "n_estimators  100\n",
      "eta  0.3\n",
      "max_depth  10\n",
      "lambda  1.0\n",
      "criterion  entropy\n",
      "max_leaves  0\n",
      "0.945417095777549\n",
      "#####################\n",
      "booster  gbtree\n",
      "n_estimators  100\n",
      "eta  0.3\n",
      "max_depth  10\n",
      "lambda  1.0\n",
      "criterion  entropy\n",
      "max_leaves  1\n",
      "0.3388259526261586\n"
     ]
    },
    {
     "name": "stderr",
     "output_type": "stream",
     "text": [
      "c:\\Users\\loren\\anaconda3\\envs\\TensorFlow\\lib\\site-packages\\xgboost\\core.py:160: UserWarning: [10:54:57] WARNING: C:\\buildkite-agent\\builds\\buildkite-windows-cpu-autoscaling-group-i-0b3782d1791676daf-1\\xgboost\\xgboost-ci-windows\\src\\learner.cc:742: \n",
      "Parameters: { \"criterion\" } are not used.\n",
      "\n",
      "  warnings.warn(smsg, UserWarning)\n",
      "c:\\Users\\loren\\anaconda3\\envs\\TensorFlow\\lib\\site-packages\\xgboost\\core.py:160: UserWarning: [10:54:57] WARNING: C:\\buildkite-agent\\builds\\buildkite-windows-cpu-autoscaling-group-i-0b3782d1791676daf-1\\xgboost\\xgboost-ci-windows\\src\\learner.cc:742: \n",
      "Parameters: { \"criterion\" } are not used.\n",
      "\n",
      "  warnings.warn(smsg, UserWarning)\n"
     ]
    },
    {
     "name": "stdout",
     "output_type": "stream",
     "text": [
      "#####################\n",
      "booster  gbtree\n",
      "n_estimators  100\n",
      "eta  0.3\n",
      "max_depth  10\n",
      "lambda  1.0\n",
      "criterion  entropy\n",
      "max_leaves  5\n",
      "0.9325437693099897\n"
     ]
    },
    {
     "name": "stderr",
     "output_type": "stream",
     "text": [
      "c:\\Users\\loren\\anaconda3\\envs\\TensorFlow\\lib\\site-packages\\xgboost\\core.py:160: UserWarning: [10:54:58] WARNING: C:\\buildkite-agent\\builds\\buildkite-windows-cpu-autoscaling-group-i-0b3782d1791676daf-1\\xgboost\\xgboost-ci-windows\\src\\learner.cc:742: \n",
      "Parameters: { \"criterion\" } are not used.\n",
      "\n",
      "  warnings.warn(smsg, UserWarning)\n"
     ]
    },
    {
     "name": "stdout",
     "output_type": "stream",
     "text": [
      "#####################\n",
      "booster  gbtree\n",
      "n_estimators  100\n",
      "eta  0.3\n",
      "max_depth  10\n",
      "lambda  5.0\n",
      "criterion  gini\n",
      "max_leaves  0\n",
      "0.9449021627188465\n",
      "#####################\n",
      "booster  gbtree\n",
      "n_estimators  100\n",
      "eta  0.3\n",
      "max_depth  10\n",
      "lambda  5.0\n",
      "criterion  gini\n",
      "max_leaves  1\n",
      "0.3388259526261586\n"
     ]
    },
    {
     "name": "stderr",
     "output_type": "stream",
     "text": [
      "c:\\Users\\loren\\anaconda3\\envs\\TensorFlow\\lib\\site-packages\\xgboost\\core.py:160: UserWarning: [10:54:59] WARNING: C:\\buildkite-agent\\builds\\buildkite-windows-cpu-autoscaling-group-i-0b3782d1791676daf-1\\xgboost\\xgboost-ci-windows\\src\\learner.cc:742: \n",
      "Parameters: { \"criterion\" } are not used.\n",
      "\n",
      "  warnings.warn(smsg, UserWarning)\n",
      "c:\\Users\\loren\\anaconda3\\envs\\TensorFlow\\lib\\site-packages\\xgboost\\core.py:160: UserWarning: [10:54:59] WARNING: C:\\buildkite-agent\\builds\\buildkite-windows-cpu-autoscaling-group-i-0b3782d1791676daf-1\\xgboost\\xgboost-ci-windows\\src\\learner.cc:742: \n",
      "Parameters: { \"criterion\" } are not used.\n",
      "\n",
      "  warnings.warn(smsg, UserWarning)\n"
     ]
    },
    {
     "name": "stdout",
     "output_type": "stream",
     "text": [
      "#####################\n",
      "booster  gbtree\n",
      "n_estimators  100\n",
      "eta  0.3\n",
      "max_depth  10\n",
      "lambda  5.0\n",
      "criterion  gini\n",
      "max_leaves  5\n",
      "0.9351184346035015\n"
     ]
    },
    {
     "name": "stderr",
     "output_type": "stream",
     "text": [
      "c:\\Users\\loren\\anaconda3\\envs\\TensorFlow\\lib\\site-packages\\xgboost\\core.py:160: UserWarning: [10:55:00] WARNING: C:\\buildkite-agent\\builds\\buildkite-windows-cpu-autoscaling-group-i-0b3782d1791676daf-1\\xgboost\\xgboost-ci-windows\\src\\learner.cc:742: \n",
      "Parameters: { \"criterion\" } are not used.\n",
      "\n",
      "  warnings.warn(smsg, UserWarning)\n"
     ]
    },
    {
     "name": "stdout",
     "output_type": "stream",
     "text": [
      "#####################\n",
      "booster  gbtree\n",
      "n_estimators  100\n",
      "eta  0.3\n",
      "max_depth  10\n",
      "lambda  5.0\n",
      "criterion  entropy\n",
      "max_leaves  0\n",
      "0.9449021627188465\n"
     ]
    },
    {
     "name": "stderr",
     "output_type": "stream",
     "text": [
      "c:\\Users\\loren\\anaconda3\\envs\\TensorFlow\\lib\\site-packages\\xgboost\\core.py:160: UserWarning: [10:55:01] WARNING: C:\\buildkite-agent\\builds\\buildkite-windows-cpu-autoscaling-group-i-0b3782d1791676daf-1\\xgboost\\xgboost-ci-windows\\src\\learner.cc:742: \n",
      "Parameters: { \"criterion\" } are not used.\n",
      "\n",
      "  warnings.warn(smsg, UserWarning)\n"
     ]
    },
    {
     "name": "stdout",
     "output_type": "stream",
     "text": [
      "#####################\n",
      "booster  gbtree\n",
      "n_estimators  100\n",
      "eta  0.3\n",
      "max_depth  10\n",
      "lambda  5.0\n",
      "criterion  entropy\n",
      "max_leaves  1\n",
      "0.3388259526261586\n"
     ]
    },
    {
     "name": "stderr",
     "output_type": "stream",
     "text": [
      "c:\\Users\\loren\\anaconda3\\envs\\TensorFlow\\lib\\site-packages\\xgboost\\core.py:160: UserWarning: [10:55:01] WARNING: C:\\buildkite-agent\\builds\\buildkite-windows-cpu-autoscaling-group-i-0b3782d1791676daf-1\\xgboost\\xgboost-ci-windows\\src\\learner.cc:742: \n",
      "Parameters: { \"criterion\" } are not used.\n",
      "\n",
      "  warnings.warn(smsg, UserWarning)\n"
     ]
    },
    {
     "name": "stdout",
     "output_type": "stream",
     "text": [
      "#####################\n",
      "booster  gbtree\n",
      "n_estimators  100\n",
      "eta  0.3\n",
      "max_depth  10\n",
      "lambda  5.0\n",
      "criterion  entropy\n",
      "max_leaves  5\n",
      "0.9351184346035015\n"
     ]
    },
    {
     "name": "stderr",
     "output_type": "stream",
     "text": [
      "c:\\Users\\loren\\anaconda3\\envs\\TensorFlow\\lib\\site-packages\\xgboost\\core.py:160: UserWarning: [10:55:02] WARNING: C:\\buildkite-agent\\builds\\buildkite-windows-cpu-autoscaling-group-i-0b3782d1791676daf-1\\xgboost\\xgboost-ci-windows\\src\\learner.cc:742: \n",
      "Parameters: { \"criterion\" } are not used.\n",
      "\n",
      "  warnings.warn(smsg, UserWarning)\n"
     ]
    },
    {
     "name": "stdout",
     "output_type": "stream",
     "text": [
      "#####################\n",
      "booster  gbtree\n",
      "n_estimators  100\n",
      "eta  0.3\n",
      "max_depth  20\n",
      "lambda  0.0\n",
      "criterion  gini\n",
      "max_leaves  0\n",
      "0.9438722966014418\n",
      "#####################\n",
      "booster  gbtree\n",
      "n_estimators  100\n",
      "eta  0.3\n",
      "max_depth  20\n",
      "lambda  0.0\n",
      "criterion  gini\n",
      "max_leaves  1\n",
      "0.3388259526261586\n"
     ]
    },
    {
     "name": "stderr",
     "output_type": "stream",
     "text": [
      "c:\\Users\\loren\\anaconda3\\envs\\TensorFlow\\lib\\site-packages\\xgboost\\core.py:160: UserWarning: [10:55:04] WARNING: C:\\buildkite-agent\\builds\\buildkite-windows-cpu-autoscaling-group-i-0b3782d1791676daf-1\\xgboost\\xgboost-ci-windows\\src\\learner.cc:742: \n",
      "Parameters: { \"criterion\" } are not used.\n",
      "\n",
      "  warnings.warn(smsg, UserWarning)\n",
      "c:\\Users\\loren\\anaconda3\\envs\\TensorFlow\\lib\\site-packages\\xgboost\\core.py:160: UserWarning: [10:55:04] WARNING: C:\\buildkite-agent\\builds\\buildkite-windows-cpu-autoscaling-group-i-0b3782d1791676daf-1\\xgboost\\xgboost-ci-windows\\src\\learner.cc:742: \n",
      "Parameters: { \"criterion\" } are not used.\n",
      "\n",
      "  warnings.warn(smsg, UserWarning)\n"
     ]
    },
    {
     "name": "stdout",
     "output_type": "stream",
     "text": [
      "#####################\n",
      "booster  gbtree\n",
      "n_estimators  100\n",
      "eta  0.3\n",
      "max_depth  20\n",
      "lambda  0.0\n",
      "criterion  gini\n",
      "max_leaves  5\n",
      "0.9320288362512873\n"
     ]
    },
    {
     "name": "stderr",
     "output_type": "stream",
     "text": [
      "c:\\Users\\loren\\anaconda3\\envs\\TensorFlow\\lib\\site-packages\\xgboost\\core.py:160: UserWarning: [10:55:04] WARNING: C:\\buildkite-agent\\builds\\buildkite-windows-cpu-autoscaling-group-i-0b3782d1791676daf-1\\xgboost\\xgboost-ci-windows\\src\\learner.cc:742: \n",
      "Parameters: { \"criterion\" } are not used.\n",
      "\n",
      "  warnings.warn(smsg, UserWarning)\n"
     ]
    },
    {
     "name": "stdout",
     "output_type": "stream",
     "text": [
      "#####################\n",
      "booster  gbtree\n",
      "n_estimators  100\n",
      "eta  0.3\n",
      "max_depth  20\n",
      "lambda  0.0\n",
      "criterion  entropy\n",
      "max_leaves  0\n",
      "0.9438722966014418\n",
      "#####################\n",
      "booster  gbtree\n",
      "n_estimators  100\n",
      "eta  0.3\n",
      "max_depth  20\n",
      "lambda  0.0\n",
      "criterion  entropy\n",
      "max_leaves  1\n",
      "0.3388259526261586\n"
     ]
    },
    {
     "name": "stderr",
     "output_type": "stream",
     "text": [
      "c:\\Users\\loren\\anaconda3\\envs\\TensorFlow\\lib\\site-packages\\xgboost\\core.py:160: UserWarning: [10:55:07] WARNING: C:\\buildkite-agent\\builds\\buildkite-windows-cpu-autoscaling-group-i-0b3782d1791676daf-1\\xgboost\\xgboost-ci-windows\\src\\learner.cc:742: \n",
      "Parameters: { \"criterion\" } are not used.\n",
      "\n",
      "  warnings.warn(smsg, UserWarning)\n",
      "c:\\Users\\loren\\anaconda3\\envs\\TensorFlow\\lib\\site-packages\\xgboost\\core.py:160: UserWarning: [10:55:07] WARNING: C:\\buildkite-agent\\builds\\buildkite-windows-cpu-autoscaling-group-i-0b3782d1791676daf-1\\xgboost\\xgboost-ci-windows\\src\\learner.cc:742: \n",
      "Parameters: { \"criterion\" } are not used.\n",
      "\n",
      "  warnings.warn(smsg, UserWarning)\n"
     ]
    },
    {
     "name": "stdout",
     "output_type": "stream",
     "text": [
      "#####################\n",
      "booster  gbtree\n",
      "n_estimators  100\n",
      "eta  0.3\n",
      "max_depth  20\n",
      "lambda  0.0\n",
      "criterion  entropy\n",
      "max_leaves  5\n",
      "0.9320288362512873\n"
     ]
    },
    {
     "name": "stderr",
     "output_type": "stream",
     "text": [
      "c:\\Users\\loren\\anaconda3\\envs\\TensorFlow\\lib\\site-packages\\xgboost\\core.py:160: UserWarning: [10:55:07] WARNING: C:\\buildkite-agent\\builds\\buildkite-windows-cpu-autoscaling-group-i-0b3782d1791676daf-1\\xgboost\\xgboost-ci-windows\\src\\learner.cc:742: \n",
      "Parameters: { \"criterion\" } are not used.\n",
      "\n",
      "  warnings.warn(smsg, UserWarning)\n"
     ]
    },
    {
     "name": "stdout",
     "output_type": "stream",
     "text": [
      "#####################\n",
      "booster  gbtree\n",
      "n_estimators  100\n",
      "eta  0.3\n",
      "max_depth  20\n",
      "lambda  1.0\n",
      "criterion  gini\n",
      "max_leaves  0\n",
      "0.9423274974253347\n",
      "#####################\n",
      "booster  gbtree\n",
      "n_estimators  100\n",
      "eta  0.3\n",
      "max_depth  20\n",
      "lambda  1.0\n",
      "criterion  gini\n",
      "max_leaves  1\n",
      "0.3388259526261586\n"
     ]
    },
    {
     "name": "stderr",
     "output_type": "stream",
     "text": [
      "c:\\Users\\loren\\anaconda3\\envs\\TensorFlow\\lib\\site-packages\\xgboost\\core.py:160: UserWarning: [10:55:08] WARNING: C:\\buildkite-agent\\builds\\buildkite-windows-cpu-autoscaling-group-i-0b3782d1791676daf-1\\xgboost\\xgboost-ci-windows\\src\\learner.cc:742: \n",
      "Parameters: { \"criterion\" } are not used.\n",
      "\n",
      "  warnings.warn(smsg, UserWarning)\n",
      "c:\\Users\\loren\\anaconda3\\envs\\TensorFlow\\lib\\site-packages\\xgboost\\core.py:160: UserWarning: [10:55:08] WARNING: C:\\buildkite-agent\\builds\\buildkite-windows-cpu-autoscaling-group-i-0b3782d1791676daf-1\\xgboost\\xgboost-ci-windows\\src\\learner.cc:742: \n",
      "Parameters: { \"criterion\" } are not used.\n",
      "\n",
      "  warnings.warn(smsg, UserWarning)\n"
     ]
    },
    {
     "name": "stdout",
     "output_type": "stream",
     "text": [
      "#####################\n",
      "booster  gbtree\n",
      "n_estimators  100\n",
      "eta  0.3\n",
      "max_depth  20\n",
      "lambda  1.0\n",
      "criterion  gini\n",
      "max_leaves  5\n",
      "0.9325437693099897\n"
     ]
    },
    {
     "name": "stderr",
     "output_type": "stream",
     "text": [
      "c:\\Users\\loren\\anaconda3\\envs\\TensorFlow\\lib\\site-packages\\xgboost\\core.py:160: UserWarning: [10:55:09] WARNING: C:\\buildkite-agent\\builds\\buildkite-windows-cpu-autoscaling-group-i-0b3782d1791676daf-1\\xgboost\\xgboost-ci-windows\\src\\learner.cc:742: \n",
      "Parameters: { \"criterion\" } are not used.\n",
      "\n",
      "  warnings.warn(smsg, UserWarning)\n"
     ]
    },
    {
     "name": "stdout",
     "output_type": "stream",
     "text": [
      "#####################\n",
      "booster  gbtree\n",
      "n_estimators  100\n",
      "eta  0.3\n",
      "max_depth  20\n",
      "lambda  1.0\n",
      "criterion  entropy\n",
      "max_leaves  0\n",
      "0.9423274974253347\n",
      "#####################\n",
      "booster  gbtree\n",
      "n_estimators  100\n",
      "eta  0.3\n",
      "max_depth  20\n",
      "lambda  1.0\n",
      "criterion  entropy\n",
      "max_leaves  1\n",
      "0.3388259526261586\n"
     ]
    },
    {
     "name": "stderr",
     "output_type": "stream",
     "text": [
      "c:\\Users\\loren\\anaconda3\\envs\\TensorFlow\\lib\\site-packages\\xgboost\\core.py:160: UserWarning: [10:55:10] WARNING: C:\\buildkite-agent\\builds\\buildkite-windows-cpu-autoscaling-group-i-0b3782d1791676daf-1\\xgboost\\xgboost-ci-windows\\src\\learner.cc:742: \n",
      "Parameters: { \"criterion\" } are not used.\n",
      "\n",
      "  warnings.warn(smsg, UserWarning)\n",
      "c:\\Users\\loren\\anaconda3\\envs\\TensorFlow\\lib\\site-packages\\xgboost\\core.py:160: UserWarning: [10:55:10] WARNING: C:\\buildkite-agent\\builds\\buildkite-windows-cpu-autoscaling-group-i-0b3782d1791676daf-1\\xgboost\\xgboost-ci-windows\\src\\learner.cc:742: \n",
      "Parameters: { \"criterion\" } are not used.\n",
      "\n",
      "  warnings.warn(smsg, UserWarning)\n"
     ]
    },
    {
     "name": "stdout",
     "output_type": "stream",
     "text": [
      "#####################\n",
      "booster  gbtree\n",
      "n_estimators  100\n",
      "eta  0.3\n",
      "max_depth  20\n",
      "lambda  1.0\n",
      "criterion  entropy\n",
      "max_leaves  5\n",
      "0.9325437693099897\n"
     ]
    },
    {
     "name": "stderr",
     "output_type": "stream",
     "text": [
      "c:\\Users\\loren\\anaconda3\\envs\\TensorFlow\\lib\\site-packages\\xgboost\\core.py:160: UserWarning: [10:55:11] WARNING: C:\\buildkite-agent\\builds\\buildkite-windows-cpu-autoscaling-group-i-0b3782d1791676daf-1\\xgboost\\xgboost-ci-windows\\src\\learner.cc:742: \n",
      "Parameters: { \"criterion\" } are not used.\n",
      "\n",
      "  warnings.warn(smsg, UserWarning)\n"
     ]
    },
    {
     "name": "stdout",
     "output_type": "stream",
     "text": [
      "#####################\n",
      "booster  gbtree\n",
      "n_estimators  100\n",
      "eta  0.3\n",
      "max_depth  20\n",
      "lambda  5.0\n",
      "criterion  gini\n",
      "max_leaves  0\n",
      "0.942842430484037\n"
     ]
    },
    {
     "name": "stderr",
     "output_type": "stream",
     "text": [
      "c:\\Users\\loren\\anaconda3\\envs\\TensorFlow\\lib\\site-packages\\xgboost\\core.py:160: UserWarning: [10:55:12] WARNING: C:\\buildkite-agent\\builds\\buildkite-windows-cpu-autoscaling-group-i-0b3782d1791676daf-1\\xgboost\\xgboost-ci-windows\\src\\learner.cc:742: \n",
      "Parameters: { \"criterion\" } are not used.\n",
      "\n",
      "  warnings.warn(smsg, UserWarning)\n"
     ]
    },
    {
     "name": "stdout",
     "output_type": "stream",
     "text": [
      "#####################\n",
      "booster  gbtree\n",
      "n_estimators  100\n",
      "eta  0.3\n",
      "max_depth  20\n",
      "lambda  5.0\n",
      "criterion  gini\n",
      "max_leaves  1\n",
      "0.3388259526261586\n"
     ]
    },
    {
     "name": "stderr",
     "output_type": "stream",
     "text": [
      "c:\\Users\\loren\\anaconda3\\envs\\TensorFlow\\lib\\site-packages\\xgboost\\core.py:160: UserWarning: [10:55:13] WARNING: C:\\buildkite-agent\\builds\\buildkite-windows-cpu-autoscaling-group-i-0b3782d1791676daf-1\\xgboost\\xgboost-ci-windows\\src\\learner.cc:742: \n",
      "Parameters: { \"criterion\" } are not used.\n",
      "\n",
      "  warnings.warn(smsg, UserWarning)\n"
     ]
    },
    {
     "name": "stdout",
     "output_type": "stream",
     "text": [
      "#####################\n",
      "booster  gbtree\n",
      "n_estimators  100\n",
      "eta  0.3\n",
      "max_depth  20\n",
      "lambda  5.0\n",
      "criterion  gini\n",
      "max_leaves  5\n",
      "0.9351184346035015\n"
     ]
    },
    {
     "name": "stderr",
     "output_type": "stream",
     "text": [
      "c:\\Users\\loren\\anaconda3\\envs\\TensorFlow\\lib\\site-packages\\xgboost\\core.py:160: UserWarning: [10:55:13] WARNING: C:\\buildkite-agent\\builds\\buildkite-windows-cpu-autoscaling-group-i-0b3782d1791676daf-1\\xgboost\\xgboost-ci-windows\\src\\learner.cc:742: \n",
      "Parameters: { \"criterion\" } are not used.\n",
      "\n",
      "  warnings.warn(smsg, UserWarning)\n"
     ]
    },
    {
     "name": "stdout",
     "output_type": "stream",
     "text": [
      "#####################\n",
      "booster  gbtree\n",
      "n_estimators  100\n",
      "eta  0.3\n",
      "max_depth  20\n",
      "lambda  5.0\n",
      "criterion  entropy\n",
      "max_leaves  0\n",
      "0.942842430484037\n"
     ]
    },
    {
     "name": "stderr",
     "output_type": "stream",
     "text": [
      "c:\\Users\\loren\\anaconda3\\envs\\TensorFlow\\lib\\site-packages\\xgboost\\core.py:160: UserWarning: [10:55:15] WARNING: C:\\buildkite-agent\\builds\\buildkite-windows-cpu-autoscaling-group-i-0b3782d1791676daf-1\\xgboost\\xgboost-ci-windows\\src\\learner.cc:742: \n",
      "Parameters: { \"criterion\" } are not used.\n",
      "\n",
      "  warnings.warn(smsg, UserWarning)\n"
     ]
    },
    {
     "name": "stdout",
     "output_type": "stream",
     "text": [
      "#####################\n",
      "booster  gbtree\n",
      "n_estimators  100\n",
      "eta  0.3\n",
      "max_depth  20\n",
      "lambda  5.0\n",
      "criterion  entropy\n",
      "max_leaves  1\n",
      "0.3388259526261586\n"
     ]
    },
    {
     "name": "stderr",
     "output_type": "stream",
     "text": [
      "c:\\Users\\loren\\anaconda3\\envs\\TensorFlow\\lib\\site-packages\\xgboost\\core.py:160: UserWarning: [10:55:15] WARNING: C:\\buildkite-agent\\builds\\buildkite-windows-cpu-autoscaling-group-i-0b3782d1791676daf-1\\xgboost\\xgboost-ci-windows\\src\\learner.cc:742: \n",
      "Parameters: { \"criterion\" } are not used.\n",
      "\n",
      "  warnings.warn(smsg, UserWarning)\n"
     ]
    },
    {
     "name": "stdout",
     "output_type": "stream",
     "text": [
      "#####################\n",
      "booster  gbtree\n",
      "n_estimators  100\n",
      "eta  0.3\n",
      "max_depth  20\n",
      "lambda  5.0\n",
      "criterion  entropy\n",
      "max_leaves  5\n",
      "0.9351184346035015\n"
     ]
    },
    {
     "name": "stderr",
     "output_type": "stream",
     "text": [
      "c:\\Users\\loren\\anaconda3\\envs\\TensorFlow\\lib\\site-packages\\xgboost\\core.py:160: UserWarning: [10:55:15] WARNING: C:\\buildkite-agent\\builds\\buildkite-windows-cpu-autoscaling-group-i-0b3782d1791676daf-1\\xgboost\\xgboost-ci-windows\\src\\learner.cc:742: \n",
      "Parameters: { \"criterion\" } are not used.\n",
      "\n",
      "  warnings.warn(smsg, UserWarning)\n"
     ]
    },
    {
     "name": "stdout",
     "output_type": "stream",
     "text": [
      "#####################\n",
      "booster  gbtree\n",
      "n_estimators  100\n",
      "eta  0.3\n",
      "max_depth  30\n",
      "lambda  0.0\n",
      "criterion  gini\n",
      "max_leaves  0\n",
      "0.942842430484037\n",
      "#####################\n",
      "booster  gbtree\n",
      "n_estimators  100\n",
      "eta  0.3\n",
      "max_depth  30\n",
      "lambda  0.0\n",
      "criterion  gini\n",
      "max_leaves  1\n",
      "0.3388259526261586\n"
     ]
    },
    {
     "name": "stderr",
     "output_type": "stream",
     "text": [
      "c:\\Users\\loren\\anaconda3\\envs\\TensorFlow\\lib\\site-packages\\xgboost\\core.py:160: UserWarning: [10:55:18] WARNING: C:\\buildkite-agent\\builds\\buildkite-windows-cpu-autoscaling-group-i-0b3782d1791676daf-1\\xgboost\\xgboost-ci-windows\\src\\learner.cc:742: \n",
      "Parameters: { \"criterion\" } are not used.\n",
      "\n",
      "  warnings.warn(smsg, UserWarning)\n",
      "c:\\Users\\loren\\anaconda3\\envs\\TensorFlow\\lib\\site-packages\\xgboost\\core.py:160: UserWarning: [10:55:18] WARNING: C:\\buildkite-agent\\builds\\buildkite-windows-cpu-autoscaling-group-i-0b3782d1791676daf-1\\xgboost\\xgboost-ci-windows\\src\\learner.cc:742: \n",
      "Parameters: { \"criterion\" } are not used.\n",
      "\n",
      "  warnings.warn(smsg, UserWarning)\n"
     ]
    },
    {
     "name": "stdout",
     "output_type": "stream",
     "text": [
      "#####################\n",
      "booster  gbtree\n",
      "n_estimators  100\n",
      "eta  0.3\n",
      "max_depth  30\n",
      "lambda  0.0\n",
      "criterion  gini\n",
      "max_leaves  5\n",
      "0.9320288362512873\n"
     ]
    },
    {
     "name": "stderr",
     "output_type": "stream",
     "text": [
      "c:\\Users\\loren\\anaconda3\\envs\\TensorFlow\\lib\\site-packages\\xgboost\\core.py:160: UserWarning: [10:55:19] WARNING: C:\\buildkite-agent\\builds\\buildkite-windows-cpu-autoscaling-group-i-0b3782d1791676daf-1\\xgboost\\xgboost-ci-windows\\src\\learner.cc:742: \n",
      "Parameters: { \"criterion\" } are not used.\n",
      "\n",
      "  warnings.warn(smsg, UserWarning)\n"
     ]
    },
    {
     "name": "stdout",
     "output_type": "stream",
     "text": [
      "#####################\n",
      "booster  gbtree\n",
      "n_estimators  100\n",
      "eta  0.3\n",
      "max_depth  30\n",
      "lambda  0.0\n",
      "criterion  entropy\n",
      "max_leaves  0\n",
      "0.942842430484037\n",
      "#####################\n",
      "booster  gbtree\n",
      "n_estimators  100\n",
      "eta  0.3\n",
      "max_depth  30\n",
      "lambda  0.0\n",
      "criterion  entropy\n",
      "max_leaves  1\n",
      "0.3388259526261586\n"
     ]
    },
    {
     "name": "stderr",
     "output_type": "stream",
     "text": [
      "c:\\Users\\loren\\anaconda3\\envs\\TensorFlow\\lib\\site-packages\\xgboost\\core.py:160: UserWarning: [10:55:21] WARNING: C:\\buildkite-agent\\builds\\buildkite-windows-cpu-autoscaling-group-i-0b3782d1791676daf-1\\xgboost\\xgboost-ci-windows\\src\\learner.cc:742: \n",
      "Parameters: { \"criterion\" } are not used.\n",
      "\n",
      "  warnings.warn(smsg, UserWarning)\n",
      "c:\\Users\\loren\\anaconda3\\envs\\TensorFlow\\lib\\site-packages\\xgboost\\core.py:160: UserWarning: [10:55:22] WARNING: C:\\buildkite-agent\\builds\\buildkite-windows-cpu-autoscaling-group-i-0b3782d1791676daf-1\\xgboost\\xgboost-ci-windows\\src\\learner.cc:742: \n",
      "Parameters: { \"criterion\" } are not used.\n",
      "\n",
      "  warnings.warn(smsg, UserWarning)\n"
     ]
    },
    {
     "name": "stdout",
     "output_type": "stream",
     "text": [
      "#####################\n",
      "booster  gbtree\n",
      "n_estimators  100\n",
      "eta  0.3\n",
      "max_depth  30\n",
      "lambda  0.0\n",
      "criterion  entropy\n",
      "max_leaves  5\n",
      "0.9320288362512873\n"
     ]
    },
    {
     "name": "stderr",
     "output_type": "stream",
     "text": [
      "c:\\Users\\loren\\anaconda3\\envs\\TensorFlow\\lib\\site-packages\\xgboost\\core.py:160: UserWarning: [10:55:22] WARNING: C:\\buildkite-agent\\builds\\buildkite-windows-cpu-autoscaling-group-i-0b3782d1791676daf-1\\xgboost\\xgboost-ci-windows\\src\\learner.cc:742: \n",
      "Parameters: { \"criterion\" } are not used.\n",
      "\n",
      "  warnings.warn(smsg, UserWarning)\n"
     ]
    },
    {
     "name": "stdout",
     "output_type": "stream",
     "text": [
      "#####################\n",
      "booster  gbtree\n",
      "n_estimators  100\n",
      "eta  0.3\n",
      "max_depth  30\n",
      "lambda  1.0\n",
      "criterion  gini\n",
      "max_leaves  0\n",
      "0.945417095777549\n",
      "#####################\n",
      "booster  gbtree\n",
      "n_estimators  100\n",
      "eta  0.3\n",
      "max_depth  30\n",
      "lambda  1.0\n",
      "criterion  gini\n",
      "max_leaves  1\n",
      "0.3388259526261586\n"
     ]
    },
    {
     "name": "stderr",
     "output_type": "stream",
     "text": [
      "c:\\Users\\loren\\anaconda3\\envs\\TensorFlow\\lib\\site-packages\\xgboost\\core.py:160: UserWarning: [10:55:23] WARNING: C:\\buildkite-agent\\builds\\buildkite-windows-cpu-autoscaling-group-i-0b3782d1791676daf-1\\xgboost\\xgboost-ci-windows\\src\\learner.cc:742: \n",
      "Parameters: { \"criterion\" } are not used.\n",
      "\n",
      "  warnings.warn(smsg, UserWarning)\n",
      "c:\\Users\\loren\\anaconda3\\envs\\TensorFlow\\lib\\site-packages\\xgboost\\core.py:160: UserWarning: [10:55:23] WARNING: C:\\buildkite-agent\\builds\\buildkite-windows-cpu-autoscaling-group-i-0b3782d1791676daf-1\\xgboost\\xgboost-ci-windows\\src\\learner.cc:742: \n",
      "Parameters: { \"criterion\" } are not used.\n",
      "\n",
      "  warnings.warn(smsg, UserWarning)\n"
     ]
    },
    {
     "name": "stdout",
     "output_type": "stream",
     "text": [
      "#####################\n",
      "booster  gbtree\n",
      "n_estimators  100\n",
      "eta  0.3\n",
      "max_depth  30\n",
      "lambda  1.0\n",
      "criterion  gini\n",
      "max_leaves  5\n",
      "0.9325437693099897\n"
     ]
    },
    {
     "name": "stderr",
     "output_type": "stream",
     "text": [
      "c:\\Users\\loren\\anaconda3\\envs\\TensorFlow\\lib\\site-packages\\xgboost\\core.py:160: UserWarning: [10:55:24] WARNING: C:\\buildkite-agent\\builds\\buildkite-windows-cpu-autoscaling-group-i-0b3782d1791676daf-1\\xgboost\\xgboost-ci-windows\\src\\learner.cc:742: \n",
      "Parameters: { \"criterion\" } are not used.\n",
      "\n",
      "  warnings.warn(smsg, UserWarning)\n"
     ]
    },
    {
     "name": "stdout",
     "output_type": "stream",
     "text": [
      "#####################\n",
      "booster  gbtree\n",
      "n_estimators  100\n",
      "eta  0.3\n",
      "max_depth  30\n",
      "lambda  1.0\n",
      "criterion  entropy\n",
      "max_leaves  0\n",
      "0.945417095777549\n"
     ]
    },
    {
     "name": "stderr",
     "output_type": "stream",
     "text": [
      "c:\\Users\\loren\\anaconda3\\envs\\TensorFlow\\lib\\site-packages\\xgboost\\core.py:160: UserWarning: [10:55:25] WARNING: C:\\buildkite-agent\\builds\\buildkite-windows-cpu-autoscaling-group-i-0b3782d1791676daf-1\\xgboost\\xgboost-ci-windows\\src\\learner.cc:742: \n",
      "Parameters: { \"criterion\" } are not used.\n",
      "\n",
      "  warnings.warn(smsg, UserWarning)\n"
     ]
    },
    {
     "name": "stdout",
     "output_type": "stream",
     "text": [
      "#####################\n",
      "booster  gbtree\n",
      "n_estimators  100\n",
      "eta  0.3\n",
      "max_depth  30\n",
      "lambda  1.0\n",
      "criterion  entropy\n",
      "max_leaves  1\n",
      "0.3388259526261586\n"
     ]
    },
    {
     "name": "stderr",
     "output_type": "stream",
     "text": [
      "c:\\Users\\loren\\anaconda3\\envs\\TensorFlow\\lib\\site-packages\\xgboost\\core.py:160: UserWarning: [10:55:25] WARNING: C:\\buildkite-agent\\builds\\buildkite-windows-cpu-autoscaling-group-i-0b3782d1791676daf-1\\xgboost\\xgboost-ci-windows\\src\\learner.cc:742: \n",
      "Parameters: { \"criterion\" } are not used.\n",
      "\n",
      "  warnings.warn(smsg, UserWarning)\n"
     ]
    },
    {
     "name": "stdout",
     "output_type": "stream",
     "text": [
      "#####################\n",
      "booster  gbtree\n",
      "n_estimators  100\n",
      "eta  0.3\n",
      "max_depth  30\n",
      "lambda  1.0\n",
      "criterion  entropy\n",
      "max_leaves  5\n",
      "0.9325437693099897\n"
     ]
    },
    {
     "name": "stderr",
     "output_type": "stream",
     "text": [
      "c:\\Users\\loren\\anaconda3\\envs\\TensorFlow\\lib\\site-packages\\xgboost\\core.py:160: UserWarning: [10:55:26] WARNING: C:\\buildkite-agent\\builds\\buildkite-windows-cpu-autoscaling-group-i-0b3782d1791676daf-1\\xgboost\\xgboost-ci-windows\\src\\learner.cc:742: \n",
      "Parameters: { \"criterion\" } are not used.\n",
      "\n",
      "  warnings.warn(smsg, UserWarning)\n"
     ]
    },
    {
     "name": "stdout",
     "output_type": "stream",
     "text": [
      "#####################\n",
      "booster  gbtree\n",
      "n_estimators  100\n",
      "eta  0.3\n",
      "max_depth  30\n",
      "lambda  5.0\n",
      "criterion  gini\n",
      "max_leaves  0\n",
      "0.942842430484037\n"
     ]
    },
    {
     "name": "stderr",
     "output_type": "stream",
     "text": [
      "c:\\Users\\loren\\anaconda3\\envs\\TensorFlow\\lib\\site-packages\\xgboost\\core.py:160: UserWarning: [10:55:27] WARNING: C:\\buildkite-agent\\builds\\buildkite-windows-cpu-autoscaling-group-i-0b3782d1791676daf-1\\xgboost\\xgboost-ci-windows\\src\\learner.cc:742: \n",
      "Parameters: { \"criterion\" } are not used.\n",
      "\n",
      "  warnings.warn(smsg, UserWarning)\n"
     ]
    },
    {
     "name": "stdout",
     "output_type": "stream",
     "text": [
      "#####################\n",
      "booster  gbtree\n",
      "n_estimators  100\n",
      "eta  0.3\n",
      "max_depth  30\n",
      "lambda  5.0\n",
      "criterion  gini\n",
      "max_leaves  1\n",
      "0.3388259526261586\n"
     ]
    },
    {
     "name": "stderr",
     "output_type": "stream",
     "text": [
      "c:\\Users\\loren\\anaconda3\\envs\\TensorFlow\\lib\\site-packages\\xgboost\\core.py:160: UserWarning: [10:55:27] WARNING: C:\\buildkite-agent\\builds\\buildkite-windows-cpu-autoscaling-group-i-0b3782d1791676daf-1\\xgboost\\xgboost-ci-windows\\src\\learner.cc:742: \n",
      "Parameters: { \"criterion\" } are not used.\n",
      "\n",
      "  warnings.warn(smsg, UserWarning)\n"
     ]
    },
    {
     "name": "stdout",
     "output_type": "stream",
     "text": [
      "#####################\n",
      "booster  gbtree\n",
      "n_estimators  100\n",
      "eta  0.3\n",
      "max_depth  30\n",
      "lambda  5.0\n",
      "criterion  gini\n",
      "max_leaves  5\n",
      "0.9351184346035015\n"
     ]
    },
    {
     "name": "stderr",
     "output_type": "stream",
     "text": [
      "c:\\Users\\loren\\anaconda3\\envs\\TensorFlow\\lib\\site-packages\\xgboost\\core.py:160: UserWarning: [10:55:28] WARNING: C:\\buildkite-agent\\builds\\buildkite-windows-cpu-autoscaling-group-i-0b3782d1791676daf-1\\xgboost\\xgboost-ci-windows\\src\\learner.cc:742: \n",
      "Parameters: { \"criterion\" } are not used.\n",
      "\n",
      "  warnings.warn(smsg, UserWarning)\n"
     ]
    },
    {
     "name": "stdout",
     "output_type": "stream",
     "text": [
      "#####################\n",
      "booster  gbtree\n",
      "n_estimators  100\n",
      "eta  0.3\n",
      "max_depth  30\n",
      "lambda  5.0\n",
      "criterion  entropy\n",
      "max_leaves  0\n",
      "0.942842430484037\n",
      "#####################\n",
      "booster  gbtree\n",
      "n_estimators  100\n",
      "eta  0.3\n",
      "max_depth  30\n",
      "lambda  5.0\n",
      "criterion  entropy\n",
      "max_leaves  1\n",
      "0.3388259526261586\n"
     ]
    },
    {
     "name": "stderr",
     "output_type": "stream",
     "text": [
      "c:\\Users\\loren\\anaconda3\\envs\\TensorFlow\\lib\\site-packages\\xgboost\\core.py:160: UserWarning: [10:55:30] WARNING: C:\\buildkite-agent\\builds\\buildkite-windows-cpu-autoscaling-group-i-0b3782d1791676daf-1\\xgboost\\xgboost-ci-windows\\src\\learner.cc:742: \n",
      "Parameters: { \"criterion\" } are not used.\n",
      "\n",
      "  warnings.warn(smsg, UserWarning)\n",
      "c:\\Users\\loren\\anaconda3\\envs\\TensorFlow\\lib\\site-packages\\xgboost\\core.py:160: UserWarning: [10:55:30] WARNING: C:\\buildkite-agent\\builds\\buildkite-windows-cpu-autoscaling-group-i-0b3782d1791676daf-1\\xgboost\\xgboost-ci-windows\\src\\learner.cc:742: \n",
      "Parameters: { \"criterion\" } are not used.\n",
      "\n",
      "  warnings.warn(smsg, UserWarning)\n"
     ]
    },
    {
     "name": "stdout",
     "output_type": "stream",
     "text": [
      "#####################\n",
      "booster  gbtree\n",
      "n_estimators  100\n",
      "eta  0.3\n",
      "max_depth  30\n",
      "lambda  5.0\n",
      "criterion  entropy\n",
      "max_leaves  5\n",
      "0.9351184346035015\n"
     ]
    },
    {
     "name": "stderr",
     "output_type": "stream",
     "text": [
      "c:\\Users\\loren\\anaconda3\\envs\\TensorFlow\\lib\\site-packages\\xgboost\\core.py:160: UserWarning: [10:55:31] WARNING: C:\\buildkite-agent\\builds\\buildkite-windows-cpu-autoscaling-group-i-0b3782d1791676daf-1\\xgboost\\xgboost-ci-windows\\src\\learner.cc:742: \n",
      "Parameters: { \"criterion\" } are not used.\n",
      "\n",
      "  warnings.warn(smsg, UserWarning)\n"
     ]
    },
    {
     "name": "stdout",
     "output_type": "stream",
     "text": [
      "#####################\n",
      "booster  gbtree\n",
      "n_estimators  100\n",
      "eta  0.7\n",
      "max_depth  5\n",
      "lambda  0.0\n",
      "criterion  gini\n",
      "max_leaves  0\n",
      "0.9459320288362513\n"
     ]
    },
    {
     "name": "stderr",
     "output_type": "stream",
     "text": [
      "c:\\Users\\loren\\anaconda3\\envs\\TensorFlow\\lib\\site-packages\\xgboost\\core.py:160: UserWarning: [10:55:31] WARNING: C:\\buildkite-agent\\builds\\buildkite-windows-cpu-autoscaling-group-i-0b3782d1791676daf-1\\xgboost\\xgboost-ci-windows\\src\\learner.cc:742: \n",
      "Parameters: { \"criterion\" } are not used.\n",
      "\n",
      "  warnings.warn(smsg, UserWarning)\n"
     ]
    },
    {
     "name": "stdout",
     "output_type": "stream",
     "text": [
      "#####################\n",
      "booster  gbtree\n",
      "n_estimators  100\n",
      "eta  0.7\n",
      "max_depth  5\n",
      "lambda  0.0\n",
      "criterion  gini\n",
      "max_leaves  1\n",
      "0.3388259526261586\n"
     ]
    },
    {
     "name": "stderr",
     "output_type": "stream",
     "text": [
      "c:\\Users\\loren\\anaconda3\\envs\\TensorFlow\\lib\\site-packages\\xgboost\\core.py:160: UserWarning: [10:55:32] WARNING: C:\\buildkite-agent\\builds\\buildkite-windows-cpu-autoscaling-group-i-0b3782d1791676daf-1\\xgboost\\xgboost-ci-windows\\src\\learner.cc:742: \n",
      "Parameters: { \"criterion\" } are not used.\n",
      "\n",
      "  warnings.warn(smsg, UserWarning)\n"
     ]
    },
    {
     "name": "stdout",
     "output_type": "stream",
     "text": [
      "#####################\n",
      "booster  gbtree\n",
      "n_estimators  100\n",
      "eta  0.7\n",
      "max_depth  5\n",
      "lambda  0.0\n",
      "criterion  gini\n",
      "max_leaves  5\n",
      "0.94129763130793\n"
     ]
    },
    {
     "name": "stderr",
     "output_type": "stream",
     "text": [
      "c:\\Users\\loren\\anaconda3\\envs\\TensorFlow\\lib\\site-packages\\xgboost\\core.py:160: UserWarning: [10:55:32] WARNING: C:\\buildkite-agent\\builds\\buildkite-windows-cpu-autoscaling-group-i-0b3782d1791676daf-1\\xgboost\\xgboost-ci-windows\\src\\learner.cc:742: \n",
      "Parameters: { \"criterion\" } are not used.\n",
      "\n",
      "  warnings.warn(smsg, UserWarning)\n"
     ]
    },
    {
     "name": "stdout",
     "output_type": "stream",
     "text": [
      "#####################\n",
      "booster  gbtree\n",
      "n_estimators  100\n",
      "eta  0.7\n",
      "max_depth  5\n",
      "lambda  0.0\n",
      "criterion  entropy\n",
      "max_leaves  0\n",
      "0.9459320288362513\n",
      "#####################\n",
      "booster  gbtree\n",
      "n_estimators  100\n",
      "eta  0.7\n",
      "max_depth  5\n",
      "lambda  0.0\n",
      "criterion  entropy\n",
      "max_leaves  1\n",
      "0.3388259526261586\n"
     ]
    },
    {
     "name": "stderr",
     "output_type": "stream",
     "text": [
      "c:\\Users\\loren\\anaconda3\\envs\\TensorFlow\\lib\\site-packages\\xgboost\\core.py:160: UserWarning: [10:55:33] WARNING: C:\\buildkite-agent\\builds\\buildkite-windows-cpu-autoscaling-group-i-0b3782d1791676daf-1\\xgboost\\xgboost-ci-windows\\src\\learner.cc:742: \n",
      "Parameters: { \"criterion\" } are not used.\n",
      "\n",
      "  warnings.warn(smsg, UserWarning)\n",
      "c:\\Users\\loren\\anaconda3\\envs\\TensorFlow\\lib\\site-packages\\xgboost\\core.py:160: UserWarning: [10:55:33] WARNING: C:\\buildkite-agent\\builds\\buildkite-windows-cpu-autoscaling-group-i-0b3782d1791676daf-1\\xgboost\\xgboost-ci-windows\\src\\learner.cc:742: \n",
      "Parameters: { \"criterion\" } are not used.\n",
      "\n",
      "  warnings.warn(smsg, UserWarning)\n"
     ]
    },
    {
     "name": "stdout",
     "output_type": "stream",
     "text": [
      "#####################\n",
      "booster  gbtree\n",
      "n_estimators  100\n",
      "eta  0.7\n",
      "max_depth  5\n",
      "lambda  0.0\n",
      "criterion  entropy\n",
      "max_leaves  5\n",
      "0.94129763130793\n"
     ]
    },
    {
     "name": "stderr",
     "output_type": "stream",
     "text": [
      "c:\\Users\\loren\\anaconda3\\envs\\TensorFlow\\lib\\site-packages\\xgboost\\core.py:160: UserWarning: [10:55:33] WARNING: C:\\buildkite-agent\\builds\\buildkite-windows-cpu-autoscaling-group-i-0b3782d1791676daf-1\\xgboost\\xgboost-ci-windows\\src\\learner.cc:742: \n",
      "Parameters: { \"criterion\" } are not used.\n",
      "\n",
      "  warnings.warn(smsg, UserWarning)\n"
     ]
    },
    {
     "name": "stdout",
     "output_type": "stream",
     "text": [
      "#####################\n",
      "booster  gbtree\n",
      "n_estimators  100\n",
      "eta  0.7\n",
      "max_depth  5\n",
      "lambda  1.0\n",
      "criterion  gini\n",
      "max_leaves  0\n",
      "0.9464469618949537\n",
      "#####################\n",
      "booster  gbtree\n",
      "n_estimators  100\n",
      "eta  0.7\n",
      "max_depth  5\n",
      "lambda  1.0\n",
      "criterion  gini\n",
      "max_leaves  1\n",
      "0.3388259526261586\n"
     ]
    },
    {
     "name": "stderr",
     "output_type": "stream",
     "text": [
      "c:\\Users\\loren\\anaconda3\\envs\\TensorFlow\\lib\\site-packages\\xgboost\\core.py:160: UserWarning: [10:55:34] WARNING: C:\\buildkite-agent\\builds\\buildkite-windows-cpu-autoscaling-group-i-0b3782d1791676daf-1\\xgboost\\xgboost-ci-windows\\src\\learner.cc:742: \n",
      "Parameters: { \"criterion\" } are not used.\n",
      "\n",
      "  warnings.warn(smsg, UserWarning)\n",
      "c:\\Users\\loren\\anaconda3\\envs\\TensorFlow\\lib\\site-packages\\xgboost\\core.py:160: UserWarning: [10:55:34] WARNING: C:\\buildkite-agent\\builds\\buildkite-windows-cpu-autoscaling-group-i-0b3782d1791676daf-1\\xgboost\\xgboost-ci-windows\\src\\learner.cc:742: \n",
      "Parameters: { \"criterion\" } are not used.\n",
      "\n",
      "  warnings.warn(smsg, UserWarning)\n"
     ]
    },
    {
     "name": "stdout",
     "output_type": "stream",
     "text": [
      "#####################\n",
      "booster  gbtree\n",
      "n_estimators  100\n",
      "eta  0.7\n",
      "max_depth  5\n",
      "lambda  1.0\n",
      "criterion  gini\n",
      "max_leaves  5\n",
      "0.942842430484037\n"
     ]
    },
    {
     "name": "stderr",
     "output_type": "stream",
     "text": [
      "c:\\Users\\loren\\anaconda3\\envs\\TensorFlow\\lib\\site-packages\\xgboost\\core.py:160: UserWarning: [10:55:34] WARNING: C:\\buildkite-agent\\builds\\buildkite-windows-cpu-autoscaling-group-i-0b3782d1791676daf-1\\xgboost\\xgboost-ci-windows\\src\\learner.cc:742: \n",
      "Parameters: { \"criterion\" } are not used.\n",
      "\n",
      "  warnings.warn(smsg, UserWarning)\n"
     ]
    },
    {
     "name": "stdout",
     "output_type": "stream",
     "text": [
      "#####################\n",
      "booster  gbtree\n",
      "n_estimators  100\n",
      "eta  0.7\n",
      "max_depth  5\n",
      "lambda  1.0\n",
      "criterion  entropy\n",
      "max_leaves  0\n",
      "0.9464469618949537\n",
      "#####################\n",
      "booster  gbtree\n",
      "n_estimators  100\n",
      "eta  0.7\n",
      "max_depth  5\n",
      "lambda  1.0\n",
      "criterion  entropy\n",
      "max_leaves  1\n",
      "0.3388259526261586\n"
     ]
    },
    {
     "name": "stderr",
     "output_type": "stream",
     "text": [
      "c:\\Users\\loren\\anaconda3\\envs\\TensorFlow\\lib\\site-packages\\xgboost\\core.py:160: UserWarning: [10:55:35] WARNING: C:\\buildkite-agent\\builds\\buildkite-windows-cpu-autoscaling-group-i-0b3782d1791676daf-1\\xgboost\\xgboost-ci-windows\\src\\learner.cc:742: \n",
      "Parameters: { \"criterion\" } are not used.\n",
      "\n",
      "  warnings.warn(smsg, UserWarning)\n",
      "c:\\Users\\loren\\anaconda3\\envs\\TensorFlow\\lib\\site-packages\\xgboost\\core.py:160: UserWarning: [10:55:35] WARNING: C:\\buildkite-agent\\builds\\buildkite-windows-cpu-autoscaling-group-i-0b3782d1791676daf-1\\xgboost\\xgboost-ci-windows\\src\\learner.cc:742: \n",
      "Parameters: { \"criterion\" } are not used.\n",
      "\n",
      "  warnings.warn(smsg, UserWarning)\n"
     ]
    },
    {
     "name": "stdout",
     "output_type": "stream",
     "text": [
      "#####################\n",
      "booster  gbtree\n",
      "n_estimators  100\n",
      "eta  0.7\n",
      "max_depth  5\n",
      "lambda  1.0\n",
      "criterion  entropy\n",
      "max_leaves  5\n",
      "0.942842430484037\n"
     ]
    },
    {
     "name": "stderr",
     "output_type": "stream",
     "text": [
      "c:\\Users\\loren\\anaconda3\\envs\\TensorFlow\\lib\\site-packages\\xgboost\\core.py:160: UserWarning: [10:55:35] WARNING: C:\\buildkite-agent\\builds\\buildkite-windows-cpu-autoscaling-group-i-0b3782d1791676daf-1\\xgboost\\xgboost-ci-windows\\src\\learner.cc:742: \n",
      "Parameters: { \"criterion\" } are not used.\n",
      "\n",
      "  warnings.warn(smsg, UserWarning)\n"
     ]
    },
    {
     "name": "stdout",
     "output_type": "stream",
     "text": [
      "#####################\n",
      "booster  gbtree\n",
      "n_estimators  100\n",
      "eta  0.7\n",
      "max_depth  5\n",
      "lambda  5.0\n",
      "criterion  gini\n",
      "max_leaves  0\n",
      "0.9438722966014418\n",
      "#####################\n",
      "booster  gbtree\n",
      "n_estimators  100\n",
      "eta  0.7\n",
      "max_depth  5\n",
      "lambda  5.0\n",
      "criterion  gini\n",
      "max_leaves  1\n",
      "0.3388259526261586\n"
     ]
    },
    {
     "name": "stderr",
     "output_type": "stream",
     "text": [
      "c:\\Users\\loren\\anaconda3\\envs\\TensorFlow\\lib\\site-packages\\xgboost\\core.py:160: UserWarning: [10:55:36] WARNING: C:\\buildkite-agent\\builds\\buildkite-windows-cpu-autoscaling-group-i-0b3782d1791676daf-1\\xgboost\\xgboost-ci-windows\\src\\learner.cc:742: \n",
      "Parameters: { \"criterion\" } are not used.\n",
      "\n",
      "  warnings.warn(smsg, UserWarning)\n",
      "c:\\Users\\loren\\anaconda3\\envs\\TensorFlow\\lib\\site-packages\\xgboost\\core.py:160: UserWarning: [10:55:36] WARNING: C:\\buildkite-agent\\builds\\buildkite-windows-cpu-autoscaling-group-i-0b3782d1791676daf-1\\xgboost\\xgboost-ci-windows\\src\\learner.cc:742: \n",
      "Parameters: { \"criterion\" } are not used.\n",
      "\n",
      "  warnings.warn(smsg, UserWarning)\n"
     ]
    },
    {
     "name": "stdout",
     "output_type": "stream",
     "text": [
      "#####################\n",
      "booster  gbtree\n",
      "n_estimators  100\n",
      "eta  0.7\n",
      "max_depth  5\n",
      "lambda  5.0\n",
      "criterion  gini\n",
      "max_leaves  5\n",
      "0.9392378990731205\n"
     ]
    },
    {
     "name": "stderr",
     "output_type": "stream",
     "text": [
      "c:\\Users\\loren\\anaconda3\\envs\\TensorFlow\\lib\\site-packages\\xgboost\\core.py:160: UserWarning: [10:55:36] WARNING: C:\\buildkite-agent\\builds\\buildkite-windows-cpu-autoscaling-group-i-0b3782d1791676daf-1\\xgboost\\xgboost-ci-windows\\src\\learner.cc:742: \n",
      "Parameters: { \"criterion\" } are not used.\n",
      "\n",
      "  warnings.warn(smsg, UserWarning)\n"
     ]
    },
    {
     "name": "stdout",
     "output_type": "stream",
     "text": [
      "#####################\n",
      "booster  gbtree\n",
      "n_estimators  100\n",
      "eta  0.7\n",
      "max_depth  5\n",
      "lambda  5.0\n",
      "criterion  entropy\n",
      "max_leaves  0\n",
      "0.9438722966014418\n",
      "#####################\n",
      "booster  gbtree\n",
      "n_estimators  100\n",
      "eta  0.7\n",
      "max_depth  5\n",
      "lambda  5.0\n",
      "criterion  entropy\n",
      "max_leaves  1\n",
      "0.3388259526261586\n"
     ]
    },
    {
     "name": "stderr",
     "output_type": "stream",
     "text": [
      "c:\\Users\\loren\\anaconda3\\envs\\TensorFlow\\lib\\site-packages\\xgboost\\core.py:160: UserWarning: [10:55:37] WARNING: C:\\buildkite-agent\\builds\\buildkite-windows-cpu-autoscaling-group-i-0b3782d1791676daf-1\\xgboost\\xgboost-ci-windows\\src\\learner.cc:742: \n",
      "Parameters: { \"criterion\" } are not used.\n",
      "\n",
      "  warnings.warn(smsg, UserWarning)\n",
      "c:\\Users\\loren\\anaconda3\\envs\\TensorFlow\\lib\\site-packages\\xgboost\\core.py:160: UserWarning: [10:55:37] WARNING: C:\\buildkite-agent\\builds\\buildkite-windows-cpu-autoscaling-group-i-0b3782d1791676daf-1\\xgboost\\xgboost-ci-windows\\src\\learner.cc:742: \n",
      "Parameters: { \"criterion\" } are not used.\n",
      "\n",
      "  warnings.warn(smsg, UserWarning)\n"
     ]
    },
    {
     "name": "stdout",
     "output_type": "stream",
     "text": [
      "#####################\n",
      "booster  gbtree\n",
      "n_estimators  100\n",
      "eta  0.7\n",
      "max_depth  5\n",
      "lambda  5.0\n",
      "criterion  entropy\n",
      "max_leaves  5\n",
      "0.9392378990731205\n"
     ]
    },
    {
     "name": "stderr",
     "output_type": "stream",
     "text": [
      "c:\\Users\\loren\\anaconda3\\envs\\TensorFlow\\lib\\site-packages\\xgboost\\core.py:160: UserWarning: [10:55:37] WARNING: C:\\buildkite-agent\\builds\\buildkite-windows-cpu-autoscaling-group-i-0b3782d1791676daf-1\\xgboost\\xgboost-ci-windows\\src\\learner.cc:742: \n",
      "Parameters: { \"criterion\" } are not used.\n",
      "\n",
      "  warnings.warn(smsg, UserWarning)\n"
     ]
    },
    {
     "name": "stdout",
     "output_type": "stream",
     "text": [
      "#####################\n",
      "booster  gbtree\n",
      "n_estimators  100\n",
      "eta  0.7\n",
      "max_depth  10\n",
      "lambda  0.0\n",
      "criterion  gini\n",
      "max_leaves  0\n",
      "0.942842430484037\n",
      "#####################\n",
      "booster  gbtree\n",
      "n_estimators  100\n",
      "eta  0.7\n",
      "max_depth  10\n",
      "lambda  0.0\n",
      "criterion  gini\n",
      "max_leaves  1\n",
      "0.3388259526261586\n"
     ]
    },
    {
     "name": "stderr",
     "output_type": "stream",
     "text": [
      "c:\\Users\\loren\\anaconda3\\envs\\TensorFlow\\lib\\site-packages\\xgboost\\core.py:160: UserWarning: [10:55:38] WARNING: C:\\buildkite-agent\\builds\\buildkite-windows-cpu-autoscaling-group-i-0b3782d1791676daf-1\\xgboost\\xgboost-ci-windows\\src\\learner.cc:742: \n",
      "Parameters: { \"criterion\" } are not used.\n",
      "\n",
      "  warnings.warn(smsg, UserWarning)\n",
      "c:\\Users\\loren\\anaconda3\\envs\\TensorFlow\\lib\\site-packages\\xgboost\\core.py:160: UserWarning: [10:55:38] WARNING: C:\\buildkite-agent\\builds\\buildkite-windows-cpu-autoscaling-group-i-0b3782d1791676daf-1\\xgboost\\xgboost-ci-windows\\src\\learner.cc:742: \n",
      "Parameters: { \"criterion\" } are not used.\n",
      "\n",
      "  warnings.warn(smsg, UserWarning)\n"
     ]
    },
    {
     "name": "stdout",
     "output_type": "stream",
     "text": [
      "#####################\n",
      "booster  gbtree\n",
      "n_estimators  100\n",
      "eta  0.7\n",
      "max_depth  10\n",
      "lambda  0.0\n",
      "criterion  gini\n",
      "max_leaves  5\n",
      "0.94129763130793\n"
     ]
    },
    {
     "name": "stderr",
     "output_type": "stream",
     "text": [
      "c:\\Users\\loren\\anaconda3\\envs\\TensorFlow\\lib\\site-packages\\xgboost\\core.py:160: UserWarning: [10:55:39] WARNING: C:\\buildkite-agent\\builds\\buildkite-windows-cpu-autoscaling-group-i-0b3782d1791676daf-1\\xgboost\\xgboost-ci-windows\\src\\learner.cc:742: \n",
      "Parameters: { \"criterion\" } are not used.\n",
      "\n",
      "  warnings.warn(smsg, UserWarning)\n"
     ]
    },
    {
     "name": "stdout",
     "output_type": "stream",
     "text": [
      "#####################\n",
      "booster  gbtree\n",
      "n_estimators  100\n",
      "eta  0.7\n",
      "max_depth  10\n",
      "lambda  0.0\n",
      "criterion  entropy\n",
      "max_leaves  0\n",
      "0.942842430484037\n"
     ]
    },
    {
     "name": "stderr",
     "output_type": "stream",
     "text": [
      "c:\\Users\\loren\\anaconda3\\envs\\TensorFlow\\lib\\site-packages\\xgboost\\core.py:160: UserWarning: [10:55:40] WARNING: C:\\buildkite-agent\\builds\\buildkite-windows-cpu-autoscaling-group-i-0b3782d1791676daf-1\\xgboost\\xgboost-ci-windows\\src\\learner.cc:742: \n",
      "Parameters: { \"criterion\" } are not used.\n",
      "\n",
      "  warnings.warn(smsg, UserWarning)\n"
     ]
    },
    {
     "name": "stdout",
     "output_type": "stream",
     "text": [
      "#####################\n",
      "booster  gbtree\n",
      "n_estimators  100\n",
      "eta  0.7\n",
      "max_depth  10\n",
      "lambda  0.0\n",
      "criterion  entropy\n",
      "max_leaves  1\n",
      "0.3388259526261586\n"
     ]
    },
    {
     "name": "stderr",
     "output_type": "stream",
     "text": [
      "c:\\Users\\loren\\anaconda3\\envs\\TensorFlow\\lib\\site-packages\\xgboost\\core.py:160: UserWarning: [10:55:40] WARNING: C:\\buildkite-agent\\builds\\buildkite-windows-cpu-autoscaling-group-i-0b3782d1791676daf-1\\xgboost\\xgboost-ci-windows\\src\\learner.cc:742: \n",
      "Parameters: { \"criterion\" } are not used.\n",
      "\n",
      "  warnings.warn(smsg, UserWarning)\n"
     ]
    },
    {
     "name": "stdout",
     "output_type": "stream",
     "text": [
      "#####################\n",
      "booster  gbtree\n",
      "n_estimators  100\n",
      "eta  0.7\n",
      "max_depth  10\n",
      "lambda  0.0\n",
      "criterion  entropy\n",
      "max_leaves  5\n",
      "0.94129763130793\n"
     ]
    },
    {
     "name": "stderr",
     "output_type": "stream",
     "text": [
      "c:\\Users\\loren\\anaconda3\\envs\\TensorFlow\\lib\\site-packages\\xgboost\\core.py:160: UserWarning: [10:55:41] WARNING: C:\\buildkite-agent\\builds\\buildkite-windows-cpu-autoscaling-group-i-0b3782d1791676daf-1\\xgboost\\xgboost-ci-windows\\src\\learner.cc:742: \n",
      "Parameters: { \"criterion\" } are not used.\n",
      "\n",
      "  warnings.warn(smsg, UserWarning)\n"
     ]
    },
    {
     "name": "stdout",
     "output_type": "stream",
     "text": [
      "#####################\n",
      "booster  gbtree\n",
      "n_estimators  100\n",
      "eta  0.7\n",
      "max_depth  10\n",
      "lambda  1.0\n",
      "criterion  gini\n",
      "max_leaves  0\n",
      "0.946961894953656\n",
      "#####################\n",
      "booster  gbtree\n",
      "n_estimators  100\n",
      "eta  0.7\n",
      "max_depth  10\n",
      "lambda  1.0\n",
      "criterion  gini\n",
      "max_leaves  1\n",
      "0.3388259526261586\n"
     ]
    },
    {
     "name": "stderr",
     "output_type": "stream",
     "text": [
      "c:\\Users\\loren\\anaconda3\\envs\\TensorFlow\\lib\\site-packages\\xgboost\\core.py:160: UserWarning: [10:55:42] WARNING: C:\\buildkite-agent\\builds\\buildkite-windows-cpu-autoscaling-group-i-0b3782d1791676daf-1\\xgboost\\xgboost-ci-windows\\src\\learner.cc:742: \n",
      "Parameters: { \"criterion\" } are not used.\n",
      "\n",
      "  warnings.warn(smsg, UserWarning)\n",
      "c:\\Users\\loren\\anaconda3\\envs\\TensorFlow\\lib\\site-packages\\xgboost\\core.py:160: UserWarning: [10:55:42] WARNING: C:\\buildkite-agent\\builds\\buildkite-windows-cpu-autoscaling-group-i-0b3782d1791676daf-1\\xgboost\\xgboost-ci-windows\\src\\learner.cc:742: \n",
      "Parameters: { \"criterion\" } are not used.\n",
      "\n",
      "  warnings.warn(smsg, UserWarning)\n"
     ]
    },
    {
     "name": "stdout",
     "output_type": "stream",
     "text": [
      "#####################\n",
      "booster  gbtree\n",
      "n_estimators  100\n",
      "eta  0.7\n",
      "max_depth  10\n",
      "lambda  1.0\n",
      "criterion  gini\n",
      "max_leaves  5\n",
      "0.942842430484037\n"
     ]
    },
    {
     "name": "stderr",
     "output_type": "stream",
     "text": [
      "c:\\Users\\loren\\anaconda3\\envs\\TensorFlow\\lib\\site-packages\\xgboost\\core.py:160: UserWarning: [10:55:42] WARNING: C:\\buildkite-agent\\builds\\buildkite-windows-cpu-autoscaling-group-i-0b3782d1791676daf-1\\xgboost\\xgboost-ci-windows\\src\\learner.cc:742: \n",
      "Parameters: { \"criterion\" } are not used.\n",
      "\n",
      "  warnings.warn(smsg, UserWarning)\n"
     ]
    },
    {
     "name": "stdout",
     "output_type": "stream",
     "text": [
      "#####################\n",
      "booster  gbtree\n",
      "n_estimators  100\n",
      "eta  0.7\n",
      "max_depth  10\n",
      "lambda  1.0\n",
      "criterion  entropy\n",
      "max_leaves  0\n",
      "0.946961894953656\n"
     ]
    },
    {
     "name": "stderr",
     "output_type": "stream",
     "text": [
      "c:\\Users\\loren\\anaconda3\\envs\\TensorFlow\\lib\\site-packages\\xgboost\\core.py:160: UserWarning: [10:55:43] WARNING: C:\\buildkite-agent\\builds\\buildkite-windows-cpu-autoscaling-group-i-0b3782d1791676daf-1\\xgboost\\xgboost-ci-windows\\src\\learner.cc:742: \n",
      "Parameters: { \"criterion\" } are not used.\n",
      "\n",
      "  warnings.warn(smsg, UserWarning)\n"
     ]
    },
    {
     "name": "stdout",
     "output_type": "stream",
     "text": [
      "#####################\n",
      "booster  gbtree\n",
      "n_estimators  100\n",
      "eta  0.7\n",
      "max_depth  10\n",
      "lambda  1.0\n",
      "criterion  entropy\n",
      "max_leaves  1\n",
      "0.3388259526261586\n"
     ]
    },
    {
     "name": "stderr",
     "output_type": "stream",
     "text": [
      "c:\\Users\\loren\\anaconda3\\envs\\TensorFlow\\lib\\site-packages\\xgboost\\core.py:160: UserWarning: [10:55:43] WARNING: C:\\buildkite-agent\\builds\\buildkite-windows-cpu-autoscaling-group-i-0b3782d1791676daf-1\\xgboost\\xgboost-ci-windows\\src\\learner.cc:742: \n",
      "Parameters: { \"criterion\" } are not used.\n",
      "\n",
      "  warnings.warn(smsg, UserWarning)\n"
     ]
    },
    {
     "name": "stdout",
     "output_type": "stream",
     "text": [
      "#####################\n",
      "booster  gbtree\n",
      "n_estimators  100\n",
      "eta  0.7\n",
      "max_depth  10\n",
      "lambda  1.0\n",
      "criterion  entropy\n",
      "max_leaves  5\n",
      "0.942842430484037\n"
     ]
    },
    {
     "name": "stderr",
     "output_type": "stream",
     "text": [
      "c:\\Users\\loren\\anaconda3\\envs\\TensorFlow\\lib\\site-packages\\xgboost\\core.py:160: UserWarning: [10:55:44] WARNING: C:\\buildkite-agent\\builds\\buildkite-windows-cpu-autoscaling-group-i-0b3782d1791676daf-1\\xgboost\\xgboost-ci-windows\\src\\learner.cc:742: \n",
      "Parameters: { \"criterion\" } are not used.\n",
      "\n",
      "  warnings.warn(smsg, UserWarning)\n"
     ]
    },
    {
     "name": "stdout",
     "output_type": "stream",
     "text": [
      "#####################\n",
      "booster  gbtree\n",
      "n_estimators  100\n",
      "eta  0.7\n",
      "max_depth  10\n",
      "lambda  5.0\n",
      "criterion  gini\n",
      "max_leaves  0\n",
      "0.946961894953656\n",
      "#####################\n",
      "booster  gbtree\n",
      "n_estimators  100\n",
      "eta  0.7\n",
      "max_depth  10\n",
      "lambda  5.0\n",
      "criterion  gini\n",
      "max_leaves  1\n",
      "0.3388259526261586\n"
     ]
    },
    {
     "name": "stderr",
     "output_type": "stream",
     "text": [
      "c:\\Users\\loren\\anaconda3\\envs\\TensorFlow\\lib\\site-packages\\xgboost\\core.py:160: UserWarning: [10:55:44] WARNING: C:\\buildkite-agent\\builds\\buildkite-windows-cpu-autoscaling-group-i-0b3782d1791676daf-1\\xgboost\\xgboost-ci-windows\\src\\learner.cc:742: \n",
      "Parameters: { \"criterion\" } are not used.\n",
      "\n",
      "  warnings.warn(smsg, UserWarning)\n",
      "c:\\Users\\loren\\anaconda3\\envs\\TensorFlow\\lib\\site-packages\\xgboost\\core.py:160: UserWarning: [10:55:44] WARNING: C:\\buildkite-agent\\builds\\buildkite-windows-cpu-autoscaling-group-i-0b3782d1791676daf-1\\xgboost\\xgboost-ci-windows\\src\\learner.cc:742: \n",
      "Parameters: { \"criterion\" } are not used.\n",
      "\n",
      "  warnings.warn(smsg, UserWarning)\n"
     ]
    },
    {
     "name": "stdout",
     "output_type": "stream",
     "text": [
      "#####################\n",
      "booster  gbtree\n",
      "n_estimators  100\n",
      "eta  0.7\n",
      "max_depth  10\n",
      "lambda  5.0\n",
      "criterion  gini\n",
      "max_leaves  5\n",
      "0.9392378990731205\n"
     ]
    },
    {
     "name": "stderr",
     "output_type": "stream",
     "text": [
      "c:\\Users\\loren\\anaconda3\\envs\\TensorFlow\\lib\\site-packages\\xgboost\\core.py:160: UserWarning: [10:55:45] WARNING: C:\\buildkite-agent\\builds\\buildkite-windows-cpu-autoscaling-group-i-0b3782d1791676daf-1\\xgboost\\xgboost-ci-windows\\src\\learner.cc:742: \n",
      "Parameters: { \"criterion\" } are not used.\n",
      "\n",
      "  warnings.warn(smsg, UserWarning)\n"
     ]
    },
    {
     "name": "stdout",
     "output_type": "stream",
     "text": [
      "#####################\n",
      "booster  gbtree\n",
      "n_estimators  100\n",
      "eta  0.7\n",
      "max_depth  10\n",
      "lambda  5.0\n",
      "criterion  entropy\n",
      "max_leaves  0\n",
      "0.946961894953656\n",
      "#####################\n",
      "booster  gbtree\n",
      "n_estimators  100\n",
      "eta  0.7\n",
      "max_depth  10\n",
      "lambda  5.0\n",
      "criterion  entropy\n",
      "max_leaves  1\n",
      "0.3388259526261586\n"
     ]
    },
    {
     "name": "stderr",
     "output_type": "stream",
     "text": [
      "c:\\Users\\loren\\anaconda3\\envs\\TensorFlow\\lib\\site-packages\\xgboost\\core.py:160: UserWarning: [10:55:46] WARNING: C:\\buildkite-agent\\builds\\buildkite-windows-cpu-autoscaling-group-i-0b3782d1791676daf-1\\xgboost\\xgboost-ci-windows\\src\\learner.cc:742: \n",
      "Parameters: { \"criterion\" } are not used.\n",
      "\n",
      "  warnings.warn(smsg, UserWarning)\n",
      "c:\\Users\\loren\\anaconda3\\envs\\TensorFlow\\lib\\site-packages\\xgboost\\core.py:160: UserWarning: [10:55:46] WARNING: C:\\buildkite-agent\\builds\\buildkite-windows-cpu-autoscaling-group-i-0b3782d1791676daf-1\\xgboost\\xgboost-ci-windows\\src\\learner.cc:742: \n",
      "Parameters: { \"criterion\" } are not used.\n",
      "\n",
      "  warnings.warn(smsg, UserWarning)\n"
     ]
    },
    {
     "name": "stdout",
     "output_type": "stream",
     "text": [
      "#####################\n",
      "booster  gbtree\n",
      "n_estimators  100\n",
      "eta  0.7\n",
      "max_depth  10\n",
      "lambda  5.0\n",
      "criterion  entropy\n",
      "max_leaves  5\n",
      "0.9392378990731205\n"
     ]
    },
    {
     "name": "stderr",
     "output_type": "stream",
     "text": [
      "c:\\Users\\loren\\anaconda3\\envs\\TensorFlow\\lib\\site-packages\\xgboost\\core.py:160: UserWarning: [10:55:47] WARNING: C:\\buildkite-agent\\builds\\buildkite-windows-cpu-autoscaling-group-i-0b3782d1791676daf-1\\xgboost\\xgboost-ci-windows\\src\\learner.cc:742: \n",
      "Parameters: { \"criterion\" } are not used.\n",
      "\n",
      "  warnings.warn(smsg, UserWarning)\n"
     ]
    },
    {
     "name": "stdout",
     "output_type": "stream",
     "text": [
      "#####################\n",
      "booster  gbtree\n",
      "n_estimators  100\n",
      "eta  0.7\n",
      "max_depth  20\n",
      "lambda  0.0\n",
      "criterion  gini\n",
      "max_leaves  0\n",
      "0.9387229660144182\n",
      "#####################\n",
      "booster  gbtree\n",
      "n_estimators  100\n",
      "eta  0.7\n",
      "max_depth  20\n",
      "lambda  0.0\n",
      "criterion  gini\n",
      "max_leaves  1\n",
      "0.3388259526261586\n"
     ]
    },
    {
     "name": "stderr",
     "output_type": "stream",
     "text": [
      "c:\\Users\\loren\\anaconda3\\envs\\TensorFlow\\lib\\site-packages\\xgboost\\core.py:160: UserWarning: [10:55:48] WARNING: C:\\buildkite-agent\\builds\\buildkite-windows-cpu-autoscaling-group-i-0b3782d1791676daf-1\\xgboost\\xgboost-ci-windows\\src\\learner.cc:742: \n",
      "Parameters: { \"criterion\" } are not used.\n",
      "\n",
      "  warnings.warn(smsg, UserWarning)\n",
      "c:\\Users\\loren\\anaconda3\\envs\\TensorFlow\\lib\\site-packages\\xgboost\\core.py:160: UserWarning: [10:55:48] WARNING: C:\\buildkite-agent\\builds\\buildkite-windows-cpu-autoscaling-group-i-0b3782d1791676daf-1\\xgboost\\xgboost-ci-windows\\src\\learner.cc:742: \n",
      "Parameters: { \"criterion\" } are not used.\n",
      "\n",
      "  warnings.warn(smsg, UserWarning)\n"
     ]
    },
    {
     "name": "stdout",
     "output_type": "stream",
     "text": [
      "#####################\n",
      "booster  gbtree\n",
      "n_estimators  100\n",
      "eta  0.7\n",
      "max_depth  20\n",
      "lambda  0.0\n",
      "criterion  gini\n",
      "max_leaves  5\n",
      "0.94129763130793\n"
     ]
    },
    {
     "name": "stderr",
     "output_type": "stream",
     "text": [
      "c:\\Users\\loren\\anaconda3\\envs\\TensorFlow\\lib\\site-packages\\xgboost\\core.py:160: UserWarning: [10:55:48] WARNING: C:\\buildkite-agent\\builds\\buildkite-windows-cpu-autoscaling-group-i-0b3782d1791676daf-1\\xgboost\\xgboost-ci-windows\\src\\learner.cc:742: \n",
      "Parameters: { \"criterion\" } are not used.\n",
      "\n",
      "  warnings.warn(smsg, UserWarning)\n"
     ]
    },
    {
     "name": "stdout",
     "output_type": "stream",
     "text": [
      "#####################\n",
      "booster  gbtree\n",
      "n_estimators  100\n",
      "eta  0.7\n",
      "max_depth  20\n",
      "lambda  0.0\n",
      "criterion  entropy\n",
      "max_leaves  0\n",
      "0.9387229660144182\n",
      "#####################\n",
      "booster  gbtree\n",
      "n_estimators  100\n",
      "eta  0.7\n",
      "max_depth  20\n",
      "lambda  0.0\n",
      "criterion  entropy\n",
      "max_leaves  1\n",
      "0.3388259526261586\n"
     ]
    },
    {
     "name": "stderr",
     "output_type": "stream",
     "text": [
      "c:\\Users\\loren\\anaconda3\\envs\\TensorFlow\\lib\\site-packages\\xgboost\\core.py:160: UserWarning: [10:55:49] WARNING: C:\\buildkite-agent\\builds\\buildkite-windows-cpu-autoscaling-group-i-0b3782d1791676daf-1\\xgboost\\xgboost-ci-windows\\src\\learner.cc:742: \n",
      "Parameters: { \"criterion\" } are not used.\n",
      "\n",
      "  warnings.warn(smsg, UserWarning)\n",
      "c:\\Users\\loren\\anaconda3\\envs\\TensorFlow\\lib\\site-packages\\xgboost\\core.py:160: UserWarning: [10:55:49] WARNING: C:\\buildkite-agent\\builds\\buildkite-windows-cpu-autoscaling-group-i-0b3782d1791676daf-1\\xgboost\\xgboost-ci-windows\\src\\learner.cc:742: \n",
      "Parameters: { \"criterion\" } are not used.\n",
      "\n",
      "  warnings.warn(smsg, UserWarning)\n"
     ]
    },
    {
     "name": "stdout",
     "output_type": "stream",
     "text": [
      "#####################\n",
      "booster  gbtree\n",
      "n_estimators  100\n",
      "eta  0.7\n",
      "max_depth  20\n",
      "lambda  0.0\n",
      "criterion  entropy\n",
      "max_leaves  5\n",
      "0.94129763130793\n"
     ]
    },
    {
     "name": "stderr",
     "output_type": "stream",
     "text": [
      "c:\\Users\\loren\\anaconda3\\envs\\TensorFlow\\lib\\site-packages\\xgboost\\core.py:160: UserWarning: [10:55:50] WARNING: C:\\buildkite-agent\\builds\\buildkite-windows-cpu-autoscaling-group-i-0b3782d1791676daf-1\\xgboost\\xgboost-ci-windows\\src\\learner.cc:742: \n",
      "Parameters: { \"criterion\" } are not used.\n",
      "\n",
      "  warnings.warn(smsg, UserWarning)\n"
     ]
    },
    {
     "name": "stdout",
     "output_type": "stream",
     "text": [
      "#####################\n",
      "booster  gbtree\n",
      "n_estimators  100\n",
      "eta  0.7\n",
      "max_depth  20\n",
      "lambda  1.0\n",
      "criterion  gini\n",
      "max_leaves  0\n",
      "0.9438722966014418\n",
      "#####################\n",
      "booster  gbtree\n",
      "n_estimators  100\n",
      "eta  0.7\n",
      "max_depth  20\n",
      "lambda  1.0\n",
      "criterion  gini\n",
      "max_leaves  1\n",
      "0.3388259526261586\n"
     ]
    },
    {
     "name": "stderr",
     "output_type": "stream",
     "text": [
      "c:\\Users\\loren\\anaconda3\\envs\\TensorFlow\\lib\\site-packages\\xgboost\\core.py:160: UserWarning: [10:55:50] WARNING: C:\\buildkite-agent\\builds\\buildkite-windows-cpu-autoscaling-group-i-0b3782d1791676daf-1\\xgboost\\xgboost-ci-windows\\src\\learner.cc:742: \n",
      "Parameters: { \"criterion\" } are not used.\n",
      "\n",
      "  warnings.warn(smsg, UserWarning)\n",
      "c:\\Users\\loren\\anaconda3\\envs\\TensorFlow\\lib\\site-packages\\xgboost\\core.py:160: UserWarning: [10:55:51] WARNING: C:\\buildkite-agent\\builds\\buildkite-windows-cpu-autoscaling-group-i-0b3782d1791676daf-1\\xgboost\\xgboost-ci-windows\\src\\learner.cc:742: \n",
      "Parameters: { \"criterion\" } are not used.\n",
      "\n",
      "  warnings.warn(smsg, UserWarning)\n"
     ]
    },
    {
     "name": "stdout",
     "output_type": "stream",
     "text": [
      "#####################\n",
      "booster  gbtree\n",
      "n_estimators  100\n",
      "eta  0.7\n",
      "max_depth  20\n",
      "lambda  1.0\n",
      "criterion  gini\n",
      "max_leaves  5\n",
      "0.942842430484037\n"
     ]
    },
    {
     "name": "stderr",
     "output_type": "stream",
     "text": [
      "c:\\Users\\loren\\anaconda3\\envs\\TensorFlow\\lib\\site-packages\\xgboost\\core.py:160: UserWarning: [10:55:51] WARNING: C:\\buildkite-agent\\builds\\buildkite-windows-cpu-autoscaling-group-i-0b3782d1791676daf-1\\xgboost\\xgboost-ci-windows\\src\\learner.cc:742: \n",
      "Parameters: { \"criterion\" } are not used.\n",
      "\n",
      "  warnings.warn(smsg, UserWarning)\n"
     ]
    },
    {
     "name": "stdout",
     "output_type": "stream",
     "text": [
      "#####################\n",
      "booster  gbtree\n",
      "n_estimators  100\n",
      "eta  0.7\n",
      "max_depth  20\n",
      "lambda  1.0\n",
      "criterion  entropy\n",
      "max_leaves  0\n",
      "0.9438722966014418\n",
      "#####################\n",
      "booster  gbtree\n",
      "n_estimators  100\n",
      "eta  0.7\n",
      "max_depth  20\n",
      "lambda  1.0\n",
      "criterion  entropy\n",
      "max_leaves  1\n",
      "0.3388259526261586\n"
     ]
    },
    {
     "name": "stderr",
     "output_type": "stream",
     "text": [
      "c:\\Users\\loren\\anaconda3\\envs\\TensorFlow\\lib\\site-packages\\xgboost\\core.py:160: UserWarning: [10:55:52] WARNING: C:\\buildkite-agent\\builds\\buildkite-windows-cpu-autoscaling-group-i-0b3782d1791676daf-1\\xgboost\\xgboost-ci-windows\\src\\learner.cc:742: \n",
      "Parameters: { \"criterion\" } are not used.\n",
      "\n",
      "  warnings.warn(smsg, UserWarning)\n",
      "c:\\Users\\loren\\anaconda3\\envs\\TensorFlow\\lib\\site-packages\\xgboost\\core.py:160: UserWarning: [10:55:52] WARNING: C:\\buildkite-agent\\builds\\buildkite-windows-cpu-autoscaling-group-i-0b3782d1791676daf-1\\xgboost\\xgboost-ci-windows\\src\\learner.cc:742: \n",
      "Parameters: { \"criterion\" } are not used.\n",
      "\n",
      "  warnings.warn(smsg, UserWarning)\n"
     ]
    },
    {
     "name": "stdout",
     "output_type": "stream",
     "text": [
      "#####################\n",
      "booster  gbtree\n",
      "n_estimators  100\n",
      "eta  0.7\n",
      "max_depth  20\n",
      "lambda  1.0\n",
      "criterion  entropy\n",
      "max_leaves  5\n",
      "0.942842430484037\n"
     ]
    },
    {
     "name": "stderr",
     "output_type": "stream",
     "text": [
      "c:\\Users\\loren\\anaconda3\\envs\\TensorFlow\\lib\\site-packages\\xgboost\\core.py:160: UserWarning: [10:55:52] WARNING: C:\\buildkite-agent\\builds\\buildkite-windows-cpu-autoscaling-group-i-0b3782d1791676daf-1\\xgboost\\xgboost-ci-windows\\src\\learner.cc:742: \n",
      "Parameters: { \"criterion\" } are not used.\n",
      "\n",
      "  warnings.warn(smsg, UserWarning)\n"
     ]
    },
    {
     "name": "stdout",
     "output_type": "stream",
     "text": [
      "#####################\n",
      "booster  gbtree\n",
      "n_estimators  100\n",
      "eta  0.7\n",
      "max_depth  20\n",
      "lambda  5.0\n",
      "criterion  gini\n",
      "max_leaves  0\n",
      "0.94129763130793\n"
     ]
    },
    {
     "name": "stderr",
     "output_type": "stream",
     "text": [
      "c:\\Users\\loren\\anaconda3\\envs\\TensorFlow\\lib\\site-packages\\xgboost\\core.py:160: UserWarning: [10:55:53] WARNING: C:\\buildkite-agent\\builds\\buildkite-windows-cpu-autoscaling-group-i-0b3782d1791676daf-1\\xgboost\\xgboost-ci-windows\\src\\learner.cc:742: \n",
      "Parameters: { \"criterion\" } are not used.\n",
      "\n",
      "  warnings.warn(smsg, UserWarning)\n"
     ]
    },
    {
     "name": "stdout",
     "output_type": "stream",
     "text": [
      "#####################\n",
      "booster  gbtree\n",
      "n_estimators  100\n",
      "eta  0.7\n",
      "max_depth  20\n",
      "lambda  5.0\n",
      "criterion  gini\n",
      "max_leaves  1\n",
      "0.3388259526261586\n"
     ]
    },
    {
     "name": "stderr",
     "output_type": "stream",
     "text": [
      "c:\\Users\\loren\\anaconda3\\envs\\TensorFlow\\lib\\site-packages\\xgboost\\core.py:160: UserWarning: [10:55:53] WARNING: C:\\buildkite-agent\\builds\\buildkite-windows-cpu-autoscaling-group-i-0b3782d1791676daf-1\\xgboost\\xgboost-ci-windows\\src\\learner.cc:742: \n",
      "Parameters: { \"criterion\" } are not used.\n",
      "\n",
      "  warnings.warn(smsg, UserWarning)\n"
     ]
    },
    {
     "name": "stdout",
     "output_type": "stream",
     "text": [
      "#####################\n",
      "booster  gbtree\n",
      "n_estimators  100\n",
      "eta  0.7\n",
      "max_depth  20\n",
      "lambda  5.0\n",
      "criterion  gini\n",
      "max_leaves  5\n",
      "0.9392378990731205\n"
     ]
    },
    {
     "name": "stderr",
     "output_type": "stream",
     "text": [
      "c:\\Users\\loren\\anaconda3\\envs\\TensorFlow\\lib\\site-packages\\xgboost\\core.py:160: UserWarning: [10:55:54] WARNING: C:\\buildkite-agent\\builds\\buildkite-windows-cpu-autoscaling-group-i-0b3782d1791676daf-1\\xgboost\\xgboost-ci-windows\\src\\learner.cc:742: \n",
      "Parameters: { \"criterion\" } are not used.\n",
      "\n",
      "  warnings.warn(smsg, UserWarning)\n"
     ]
    },
    {
     "name": "stdout",
     "output_type": "stream",
     "text": [
      "#####################\n",
      "booster  gbtree\n",
      "n_estimators  100\n",
      "eta  0.7\n",
      "max_depth  20\n",
      "lambda  5.0\n",
      "criterion  entropy\n",
      "max_leaves  0\n",
      "0.94129763130793\n"
     ]
    },
    {
     "name": "stderr",
     "output_type": "stream",
     "text": [
      "c:\\Users\\loren\\anaconda3\\envs\\TensorFlow\\lib\\site-packages\\xgboost\\core.py:160: UserWarning: [10:55:55] WARNING: C:\\buildkite-agent\\builds\\buildkite-windows-cpu-autoscaling-group-i-0b3782d1791676daf-1\\xgboost\\xgboost-ci-windows\\src\\learner.cc:742: \n",
      "Parameters: { \"criterion\" } are not used.\n",
      "\n",
      "  warnings.warn(smsg, UserWarning)\n"
     ]
    },
    {
     "name": "stdout",
     "output_type": "stream",
     "text": [
      "#####################\n",
      "booster  gbtree\n",
      "n_estimators  100\n",
      "eta  0.7\n",
      "max_depth  20\n",
      "lambda  5.0\n",
      "criterion  entropy\n",
      "max_leaves  1\n",
      "0.3388259526261586\n"
     ]
    },
    {
     "name": "stderr",
     "output_type": "stream",
     "text": [
      "c:\\Users\\loren\\anaconda3\\envs\\TensorFlow\\lib\\site-packages\\xgboost\\core.py:160: UserWarning: [10:55:55] WARNING: C:\\buildkite-agent\\builds\\buildkite-windows-cpu-autoscaling-group-i-0b3782d1791676daf-1\\xgboost\\xgboost-ci-windows\\src\\learner.cc:742: \n",
      "Parameters: { \"criterion\" } are not used.\n",
      "\n",
      "  warnings.warn(smsg, UserWarning)\n"
     ]
    },
    {
     "name": "stdout",
     "output_type": "stream",
     "text": [
      "#####################\n",
      "booster  gbtree\n",
      "n_estimators  100\n",
      "eta  0.7\n",
      "max_depth  20\n",
      "lambda  5.0\n",
      "criterion  entropy\n",
      "max_leaves  5\n",
      "0.9392378990731205\n"
     ]
    },
    {
     "name": "stderr",
     "output_type": "stream",
     "text": [
      "c:\\Users\\loren\\anaconda3\\envs\\TensorFlow\\lib\\site-packages\\xgboost\\core.py:160: UserWarning: [10:55:56] WARNING: C:\\buildkite-agent\\builds\\buildkite-windows-cpu-autoscaling-group-i-0b3782d1791676daf-1\\xgboost\\xgboost-ci-windows\\src\\learner.cc:742: \n",
      "Parameters: { \"criterion\" } are not used.\n",
      "\n",
      "  warnings.warn(smsg, UserWarning)\n"
     ]
    },
    {
     "name": "stdout",
     "output_type": "stream",
     "text": [
      "#####################\n",
      "booster  gbtree\n",
      "n_estimators  100\n",
      "eta  0.7\n",
      "max_depth  30\n",
      "lambda  0.0\n",
      "criterion  gini\n",
      "max_leaves  0\n",
      "0.9376930998970134\n"
     ]
    },
    {
     "name": "stderr",
     "output_type": "stream",
     "text": [
      "c:\\Users\\loren\\anaconda3\\envs\\TensorFlow\\lib\\site-packages\\xgboost\\core.py:160: UserWarning: [10:55:57] WARNING: C:\\buildkite-agent\\builds\\buildkite-windows-cpu-autoscaling-group-i-0b3782d1791676daf-1\\xgboost\\xgboost-ci-windows\\src\\learner.cc:742: \n",
      "Parameters: { \"criterion\" } are not used.\n",
      "\n",
      "  warnings.warn(smsg, UserWarning)\n"
     ]
    },
    {
     "name": "stdout",
     "output_type": "stream",
     "text": [
      "#####################\n",
      "booster  gbtree\n",
      "n_estimators  100\n",
      "eta  0.7\n",
      "max_depth  30\n",
      "lambda  0.0\n",
      "criterion  gini\n",
      "max_leaves  1\n",
      "0.3388259526261586\n"
     ]
    },
    {
     "name": "stderr",
     "output_type": "stream",
     "text": [
      "c:\\Users\\loren\\anaconda3\\envs\\TensorFlow\\lib\\site-packages\\xgboost\\core.py:160: UserWarning: [10:55:57] WARNING: C:\\buildkite-agent\\builds\\buildkite-windows-cpu-autoscaling-group-i-0b3782d1791676daf-1\\xgboost\\xgboost-ci-windows\\src\\learner.cc:742: \n",
      "Parameters: { \"criterion\" } are not used.\n",
      "\n",
      "  warnings.warn(smsg, UserWarning)\n"
     ]
    },
    {
     "name": "stdout",
     "output_type": "stream",
     "text": [
      "#####################\n",
      "booster  gbtree\n",
      "n_estimators  100\n",
      "eta  0.7\n",
      "max_depth  30\n",
      "lambda  0.0\n",
      "criterion  gini\n",
      "max_leaves  5\n",
      "0.94129763130793\n"
     ]
    },
    {
     "name": "stderr",
     "output_type": "stream",
     "text": [
      "c:\\Users\\loren\\anaconda3\\envs\\TensorFlow\\lib\\site-packages\\xgboost\\core.py:160: UserWarning: [10:55:58] WARNING: C:\\buildkite-agent\\builds\\buildkite-windows-cpu-autoscaling-group-i-0b3782d1791676daf-1\\xgboost\\xgboost-ci-windows\\src\\learner.cc:742: \n",
      "Parameters: { \"criterion\" } are not used.\n",
      "\n",
      "  warnings.warn(smsg, UserWarning)\n"
     ]
    },
    {
     "name": "stdout",
     "output_type": "stream",
     "text": [
      "#####################\n",
      "booster  gbtree\n",
      "n_estimators  100\n",
      "eta  0.7\n",
      "max_depth  30\n",
      "lambda  0.0\n",
      "criterion  entropy\n",
      "max_leaves  0\n",
      "0.9376930998970134\n"
     ]
    },
    {
     "name": "stderr",
     "output_type": "stream",
     "text": [
      "c:\\Users\\loren\\anaconda3\\envs\\TensorFlow\\lib\\site-packages\\xgboost\\core.py:160: UserWarning: [10:56:00] WARNING: C:\\buildkite-agent\\builds\\buildkite-windows-cpu-autoscaling-group-i-0b3782d1791676daf-1\\xgboost\\xgboost-ci-windows\\src\\learner.cc:742: \n",
      "Parameters: { \"criterion\" } are not used.\n",
      "\n",
      "  warnings.warn(smsg, UserWarning)\n"
     ]
    },
    {
     "name": "stdout",
     "output_type": "stream",
     "text": [
      "#####################\n",
      "booster  gbtree\n",
      "n_estimators  100\n",
      "eta  0.7\n",
      "max_depth  30\n",
      "lambda  0.0\n",
      "criterion  entropy\n",
      "max_leaves  1\n",
      "0.3388259526261586\n"
     ]
    },
    {
     "name": "stderr",
     "output_type": "stream",
     "text": [
      "c:\\Users\\loren\\anaconda3\\envs\\TensorFlow\\lib\\site-packages\\xgboost\\core.py:160: UserWarning: [10:56:00] WARNING: C:\\buildkite-agent\\builds\\buildkite-windows-cpu-autoscaling-group-i-0b3782d1791676daf-1\\xgboost\\xgboost-ci-windows\\src\\learner.cc:742: \n",
      "Parameters: { \"criterion\" } are not used.\n",
      "\n",
      "  warnings.warn(smsg, UserWarning)\n"
     ]
    },
    {
     "name": "stdout",
     "output_type": "stream",
     "text": [
      "#####################\n",
      "booster  gbtree\n",
      "n_estimators  100\n",
      "eta  0.7\n",
      "max_depth  30\n",
      "lambda  0.0\n",
      "criterion  entropy\n",
      "max_leaves  5\n",
      "0.94129763130793\n"
     ]
    },
    {
     "name": "stderr",
     "output_type": "stream",
     "text": [
      "c:\\Users\\loren\\anaconda3\\envs\\TensorFlow\\lib\\site-packages\\xgboost\\core.py:160: UserWarning: [10:56:00] WARNING: C:\\buildkite-agent\\builds\\buildkite-windows-cpu-autoscaling-group-i-0b3782d1791676daf-1\\xgboost\\xgboost-ci-windows\\src\\learner.cc:742: \n",
      "Parameters: { \"criterion\" } are not used.\n",
      "\n",
      "  warnings.warn(smsg, UserWarning)\n"
     ]
    },
    {
     "name": "stdout",
     "output_type": "stream",
     "text": [
      "#####################\n",
      "booster  gbtree\n",
      "n_estimators  100\n",
      "eta  0.7\n",
      "max_depth  30\n",
      "lambda  1.0\n",
      "criterion  gini\n",
      "max_leaves  0\n",
      "0.9438722966014418\n",
      "#####################\n",
      "booster  gbtree\n",
      "n_estimators  100\n",
      "eta  0.7\n",
      "max_depth  30\n",
      "lambda  1.0\n",
      "criterion  gini\n",
      "max_leaves  1\n",
      "0.3388259526261586\n"
     ]
    },
    {
     "name": "stderr",
     "output_type": "stream",
     "text": [
      "c:\\Users\\loren\\anaconda3\\envs\\TensorFlow\\lib\\site-packages\\xgboost\\core.py:160: UserWarning: [10:56:01] WARNING: C:\\buildkite-agent\\builds\\buildkite-windows-cpu-autoscaling-group-i-0b3782d1791676daf-1\\xgboost\\xgboost-ci-windows\\src\\learner.cc:742: \n",
      "Parameters: { \"criterion\" } are not used.\n",
      "\n",
      "  warnings.warn(smsg, UserWarning)\n",
      "c:\\Users\\loren\\anaconda3\\envs\\TensorFlow\\lib\\site-packages\\xgboost\\core.py:160: UserWarning: [10:56:01] WARNING: C:\\buildkite-agent\\builds\\buildkite-windows-cpu-autoscaling-group-i-0b3782d1791676daf-1\\xgboost\\xgboost-ci-windows\\src\\learner.cc:742: \n",
      "Parameters: { \"criterion\" } are not used.\n",
      "\n",
      "  warnings.warn(smsg, UserWarning)\n"
     ]
    },
    {
     "name": "stdout",
     "output_type": "stream",
     "text": [
      "#####################\n",
      "booster  gbtree\n",
      "n_estimators  100\n",
      "eta  0.7\n",
      "max_depth  30\n",
      "lambda  1.0\n",
      "criterion  gini\n",
      "max_leaves  5\n",
      "0.942842430484037\n"
     ]
    },
    {
     "name": "stderr",
     "output_type": "stream",
     "text": [
      "c:\\Users\\loren\\anaconda3\\envs\\TensorFlow\\lib\\site-packages\\xgboost\\core.py:160: UserWarning: [10:56:01] WARNING: C:\\buildkite-agent\\builds\\buildkite-windows-cpu-autoscaling-group-i-0b3782d1791676daf-1\\xgboost\\xgboost-ci-windows\\src\\learner.cc:742: \n",
      "Parameters: { \"criterion\" } are not used.\n",
      "\n",
      "  warnings.warn(smsg, UserWarning)\n"
     ]
    },
    {
     "name": "stdout",
     "output_type": "stream",
     "text": [
      "#####################\n",
      "booster  gbtree\n",
      "n_estimators  100\n",
      "eta  0.7\n",
      "max_depth  30\n",
      "lambda  1.0\n",
      "criterion  entropy\n",
      "max_leaves  0\n",
      "0.9438722966014418\n",
      "#####################\n",
      "booster  gbtree\n",
      "n_estimators  100\n",
      "eta  0.7\n",
      "max_depth  30\n",
      "lambda  1.0\n",
      "criterion  entropy\n",
      "max_leaves  1\n",
      "0.3388259526261586\n"
     ]
    },
    {
     "name": "stderr",
     "output_type": "stream",
     "text": [
      "c:\\Users\\loren\\anaconda3\\envs\\TensorFlow\\lib\\site-packages\\xgboost\\core.py:160: UserWarning: [10:56:02] WARNING: C:\\buildkite-agent\\builds\\buildkite-windows-cpu-autoscaling-group-i-0b3782d1791676daf-1\\xgboost\\xgboost-ci-windows\\src\\learner.cc:742: \n",
      "Parameters: { \"criterion\" } are not used.\n",
      "\n",
      "  warnings.warn(smsg, UserWarning)\n",
      "c:\\Users\\loren\\anaconda3\\envs\\TensorFlow\\lib\\site-packages\\xgboost\\core.py:160: UserWarning: [10:56:02] WARNING: C:\\buildkite-agent\\builds\\buildkite-windows-cpu-autoscaling-group-i-0b3782d1791676daf-1\\xgboost\\xgboost-ci-windows\\src\\learner.cc:742: \n",
      "Parameters: { \"criterion\" } are not used.\n",
      "\n",
      "  warnings.warn(smsg, UserWarning)\n"
     ]
    },
    {
     "name": "stdout",
     "output_type": "stream",
     "text": [
      "#####################\n",
      "booster  gbtree\n",
      "n_estimators  100\n",
      "eta  0.7\n",
      "max_depth  30\n",
      "lambda  1.0\n",
      "criterion  entropy\n",
      "max_leaves  5\n",
      "0.942842430484037\n"
     ]
    },
    {
     "name": "stderr",
     "output_type": "stream",
     "text": [
      "c:\\Users\\loren\\anaconda3\\envs\\TensorFlow\\lib\\site-packages\\xgboost\\core.py:160: UserWarning: [10:56:03] WARNING: C:\\buildkite-agent\\builds\\buildkite-windows-cpu-autoscaling-group-i-0b3782d1791676daf-1\\xgboost\\xgboost-ci-windows\\src\\learner.cc:742: \n",
      "Parameters: { \"criterion\" } are not used.\n",
      "\n",
      "  warnings.warn(smsg, UserWarning)\n"
     ]
    },
    {
     "name": "stdout",
     "output_type": "stream",
     "text": [
      "#####################\n",
      "booster  gbtree\n",
      "n_estimators  100\n",
      "eta  0.7\n",
      "max_depth  30\n",
      "lambda  5.0\n",
      "criterion  gini\n",
      "max_leaves  0\n",
      "0.94129763130793\n"
     ]
    },
    {
     "name": "stderr",
     "output_type": "stream",
     "text": [
      "c:\\Users\\loren\\anaconda3\\envs\\TensorFlow\\lib\\site-packages\\xgboost\\core.py:160: UserWarning: [10:56:04] WARNING: C:\\buildkite-agent\\builds\\buildkite-windows-cpu-autoscaling-group-i-0b3782d1791676daf-1\\xgboost\\xgboost-ci-windows\\src\\learner.cc:742: \n",
      "Parameters: { \"criterion\" } are not used.\n",
      "\n",
      "  warnings.warn(smsg, UserWarning)\n"
     ]
    },
    {
     "name": "stdout",
     "output_type": "stream",
     "text": [
      "#####################\n",
      "booster  gbtree\n",
      "n_estimators  100\n",
      "eta  0.7\n",
      "max_depth  30\n",
      "lambda  5.0\n",
      "criterion  gini\n",
      "max_leaves  1\n",
      "0.3388259526261586\n"
     ]
    },
    {
     "name": "stderr",
     "output_type": "stream",
     "text": [
      "c:\\Users\\loren\\anaconda3\\envs\\TensorFlow\\lib\\site-packages\\xgboost\\core.py:160: UserWarning: [10:56:04] WARNING: C:\\buildkite-agent\\builds\\buildkite-windows-cpu-autoscaling-group-i-0b3782d1791676daf-1\\xgboost\\xgboost-ci-windows\\src\\learner.cc:742: \n",
      "Parameters: { \"criterion\" } are not used.\n",
      "\n",
      "  warnings.warn(smsg, UserWarning)\n"
     ]
    },
    {
     "name": "stdout",
     "output_type": "stream",
     "text": [
      "#####################\n",
      "booster  gbtree\n",
      "n_estimators  100\n",
      "eta  0.7\n",
      "max_depth  30\n",
      "lambda  5.0\n",
      "criterion  gini\n",
      "max_leaves  5\n",
      "0.9392378990731205\n"
     ]
    },
    {
     "name": "stderr",
     "output_type": "stream",
     "text": [
      "c:\\Users\\loren\\anaconda3\\envs\\TensorFlow\\lib\\site-packages\\xgboost\\core.py:160: UserWarning: [10:56:04] WARNING: C:\\buildkite-agent\\builds\\buildkite-windows-cpu-autoscaling-group-i-0b3782d1791676daf-1\\xgboost\\xgboost-ci-windows\\src\\learner.cc:742: \n",
      "Parameters: { \"criterion\" } are not used.\n",
      "\n",
      "  warnings.warn(smsg, UserWarning)\n"
     ]
    },
    {
     "name": "stdout",
     "output_type": "stream",
     "text": [
      "#####################\n",
      "booster  gbtree\n",
      "n_estimators  100\n",
      "eta  0.7\n",
      "max_depth  30\n",
      "lambda  5.0\n",
      "criterion  entropy\n",
      "max_leaves  0\n",
      "0.94129763130793\n",
      "#####################\n",
      "booster  gbtree\n",
      "n_estimators  100\n",
      "eta  0.7\n",
      "max_depth  30\n",
      "lambda  5.0\n",
      "criterion  entropy\n",
      "max_leaves  1\n",
      "0.3388259526261586\n"
     ]
    },
    {
     "name": "stderr",
     "output_type": "stream",
     "text": [
      "c:\\Users\\loren\\anaconda3\\envs\\TensorFlow\\lib\\site-packages\\xgboost\\core.py:160: UserWarning: [10:56:05] WARNING: C:\\buildkite-agent\\builds\\buildkite-windows-cpu-autoscaling-group-i-0b3782d1791676daf-1\\xgboost\\xgboost-ci-windows\\src\\learner.cc:742: \n",
      "Parameters: { \"criterion\" } are not used.\n",
      "\n",
      "  warnings.warn(smsg, UserWarning)\n",
      "c:\\Users\\loren\\anaconda3\\envs\\TensorFlow\\lib\\site-packages\\xgboost\\core.py:160: UserWarning: [10:56:05] WARNING: C:\\buildkite-agent\\builds\\buildkite-windows-cpu-autoscaling-group-i-0b3782d1791676daf-1\\xgboost\\xgboost-ci-windows\\src\\learner.cc:742: \n",
      "Parameters: { \"criterion\" } are not used.\n",
      "\n",
      "  warnings.warn(smsg, UserWarning)\n"
     ]
    },
    {
     "name": "stdout",
     "output_type": "stream",
     "text": [
      "#####################\n",
      "booster  gbtree\n",
      "n_estimators  100\n",
      "eta  0.7\n",
      "max_depth  30\n",
      "lambda  5.0\n",
      "criterion  entropy\n",
      "max_leaves  5\n",
      "0.9392378990731205\n"
     ]
    },
    {
     "name": "stderr",
     "output_type": "stream",
     "text": [
      "c:\\Users\\loren\\anaconda3\\envs\\TensorFlow\\lib\\site-packages\\xgboost\\core.py:160: UserWarning: [10:56:06] WARNING: C:\\buildkite-agent\\builds\\buildkite-windows-cpu-autoscaling-group-i-0b3782d1791676daf-1\\xgboost\\xgboost-ci-windows\\src\\learner.cc:742: \n",
      "Parameters: { \"criterion\" } are not used.\n",
      "\n",
      "  warnings.warn(smsg, UserWarning)\n"
     ]
    },
    {
     "name": "stdout",
     "output_type": "stream",
     "text": [
      "#####################\n",
      "booster  gbtree\n",
      "n_estimators  100\n",
      "eta  0.9\n",
      "max_depth  5\n",
      "lambda  0.0\n",
      "criterion  gini\n",
      "max_leaves  0\n",
      "0.9433573635427395\n",
      "#####################\n",
      "booster  gbtree\n",
      "n_estimators  100\n",
      "eta  0.9\n",
      "max_depth  5\n",
      "lambda  0.0\n",
      "criterion  gini\n",
      "max_leaves  1\n",
      "0.3388259526261586\n"
     ]
    },
    {
     "name": "stderr",
     "output_type": "stream",
     "text": [
      "c:\\Users\\loren\\anaconda3\\envs\\TensorFlow\\lib\\site-packages\\xgboost\\core.py:160: UserWarning: [10:56:06] WARNING: C:\\buildkite-agent\\builds\\buildkite-windows-cpu-autoscaling-group-i-0b3782d1791676daf-1\\xgboost\\xgboost-ci-windows\\src\\learner.cc:742: \n",
      "Parameters: { \"criterion\" } are not used.\n",
      "\n",
      "  warnings.warn(smsg, UserWarning)\n",
      "c:\\Users\\loren\\anaconda3\\envs\\TensorFlow\\lib\\site-packages\\xgboost\\core.py:160: UserWarning: [10:56:06] WARNING: C:\\buildkite-agent\\builds\\buildkite-windows-cpu-autoscaling-group-i-0b3782d1791676daf-1\\xgboost\\xgboost-ci-windows\\src\\learner.cc:742: \n",
      "Parameters: { \"criterion\" } are not used.\n",
      "\n",
      "  warnings.warn(smsg, UserWarning)\n"
     ]
    },
    {
     "name": "stdout",
     "output_type": "stream",
     "text": [
      "#####################\n",
      "booster  gbtree\n",
      "n_estimators  100\n",
      "eta  0.9\n",
      "max_depth  5\n",
      "lambda  0.0\n",
      "criterion  gini\n",
      "max_leaves  5\n",
      "0.9397528321318228\n"
     ]
    },
    {
     "name": "stderr",
     "output_type": "stream",
     "text": [
      "c:\\Users\\loren\\anaconda3\\envs\\TensorFlow\\lib\\site-packages\\xgboost\\core.py:160: UserWarning: [10:56:08] WARNING: C:\\buildkite-agent\\builds\\buildkite-windows-cpu-autoscaling-group-i-0b3782d1791676daf-1\\xgboost\\xgboost-ci-windows\\src\\learner.cc:742: \n",
      "Parameters: { \"criterion\" } are not used.\n",
      "\n",
      "  warnings.warn(smsg, UserWarning)\n"
     ]
    },
    {
     "name": "stdout",
     "output_type": "stream",
     "text": [
      "#####################\n",
      "booster  gbtree\n",
      "n_estimators  100\n",
      "eta  0.9\n",
      "max_depth  5\n",
      "lambda  0.0\n",
      "criterion  entropy\n",
      "max_leaves  0\n",
      "0.9433573635427395\n"
     ]
    },
    {
     "name": "stderr",
     "output_type": "stream",
     "text": [
      "c:\\Users\\loren\\anaconda3\\envs\\TensorFlow\\lib\\site-packages\\xgboost\\core.py:160: UserWarning: [10:56:10] WARNING: C:\\buildkite-agent\\builds\\buildkite-windows-cpu-autoscaling-group-i-0b3782d1791676daf-1\\xgboost\\xgboost-ci-windows\\src\\learner.cc:742: \n",
      "Parameters: { \"criterion\" } are not used.\n",
      "\n",
      "  warnings.warn(smsg, UserWarning)\n"
     ]
    },
    {
     "name": "stdout",
     "output_type": "stream",
     "text": [
      "#####################\n",
      "booster  gbtree\n",
      "n_estimators  100\n",
      "eta  0.9\n",
      "max_depth  5\n",
      "lambda  0.0\n",
      "criterion  entropy\n",
      "max_leaves  1\n",
      "0.3388259526261586\n"
     ]
    },
    {
     "name": "stderr",
     "output_type": "stream",
     "text": [
      "c:\\Users\\loren\\anaconda3\\envs\\TensorFlow\\lib\\site-packages\\xgboost\\core.py:160: UserWarning: [10:56:11] WARNING: C:\\buildkite-agent\\builds\\buildkite-windows-cpu-autoscaling-group-i-0b3782d1791676daf-1\\xgboost\\xgboost-ci-windows\\src\\learner.cc:742: \n",
      "Parameters: { \"criterion\" } are not used.\n",
      "\n",
      "  warnings.warn(smsg, UserWarning)\n"
     ]
    },
    {
     "name": "stdout",
     "output_type": "stream",
     "text": [
      "#####################\n",
      "booster  gbtree\n",
      "n_estimators  100\n",
      "eta  0.9\n",
      "max_depth  5\n",
      "lambda  0.0\n",
      "criterion  entropy\n",
      "max_leaves  5\n",
      "0.9397528321318228\n"
     ]
    },
    {
     "name": "stderr",
     "output_type": "stream",
     "text": [
      "c:\\Users\\loren\\anaconda3\\envs\\TensorFlow\\lib\\site-packages\\xgboost\\core.py:160: UserWarning: [10:56:11] WARNING: C:\\buildkite-agent\\builds\\buildkite-windows-cpu-autoscaling-group-i-0b3782d1791676daf-1\\xgboost\\xgboost-ci-windows\\src\\learner.cc:742: \n",
      "Parameters: { \"criterion\" } are not used.\n",
      "\n",
      "  warnings.warn(smsg, UserWarning)\n"
     ]
    },
    {
     "name": "stdout",
     "output_type": "stream",
     "text": [
      "#####################\n",
      "booster  gbtree\n",
      "n_estimators  100\n",
      "eta  0.9\n",
      "max_depth  5\n",
      "lambda  1.0\n",
      "criterion  gini\n",
      "max_leaves  0\n",
      "0.9387229660144182\n"
     ]
    },
    {
     "name": "stderr",
     "output_type": "stream",
     "text": [
      "c:\\Users\\loren\\anaconda3\\envs\\TensorFlow\\lib\\site-packages\\xgboost\\core.py:160: UserWarning: [10:56:13] WARNING: C:\\buildkite-agent\\builds\\buildkite-windows-cpu-autoscaling-group-i-0b3782d1791676daf-1\\xgboost\\xgboost-ci-windows\\src\\learner.cc:742: \n",
      "Parameters: { \"criterion\" } are not used.\n",
      "\n",
      "  warnings.warn(smsg, UserWarning)\n"
     ]
    },
    {
     "name": "stdout",
     "output_type": "stream",
     "text": [
      "#####################\n",
      "booster  gbtree\n",
      "n_estimators  100\n",
      "eta  0.9\n",
      "max_depth  5\n",
      "lambda  1.0\n",
      "criterion  gini\n",
      "max_leaves  1\n",
      "0.3388259526261586\n"
     ]
    },
    {
     "name": "stderr",
     "output_type": "stream",
     "text": [
      "c:\\Users\\loren\\anaconda3\\envs\\TensorFlow\\lib\\site-packages\\xgboost\\core.py:160: UserWarning: [10:56:13] WARNING: C:\\buildkite-agent\\builds\\buildkite-windows-cpu-autoscaling-group-i-0b3782d1791676daf-1\\xgboost\\xgboost-ci-windows\\src\\learner.cc:742: \n",
      "Parameters: { \"criterion\" } are not used.\n",
      "\n",
      "  warnings.warn(smsg, UserWarning)\n"
     ]
    },
    {
     "name": "stdout",
     "output_type": "stream",
     "text": [
      "#####################\n",
      "booster  gbtree\n",
      "n_estimators  100\n",
      "eta  0.9\n",
      "max_depth  5\n",
      "lambda  1.0\n",
      "criterion  gini\n",
      "max_leaves  5\n",
      "0.9407826982492276\n"
     ]
    },
    {
     "name": "stderr",
     "output_type": "stream",
     "text": [
      "c:\\Users\\loren\\anaconda3\\envs\\TensorFlow\\lib\\site-packages\\xgboost\\core.py:160: UserWarning: [10:56:13] WARNING: C:\\buildkite-agent\\builds\\buildkite-windows-cpu-autoscaling-group-i-0b3782d1791676daf-1\\xgboost\\xgboost-ci-windows\\src\\learner.cc:742: \n",
      "Parameters: { \"criterion\" } are not used.\n",
      "\n",
      "  warnings.warn(smsg, UserWarning)\n"
     ]
    },
    {
     "name": "stdout",
     "output_type": "stream",
     "text": [
      "#####################\n",
      "booster  gbtree\n",
      "n_estimators  100\n",
      "eta  0.9\n",
      "max_depth  5\n",
      "lambda  1.0\n",
      "criterion  entropy\n",
      "max_leaves  0\n",
      "0.9387229660144182\n"
     ]
    },
    {
     "name": "stderr",
     "output_type": "stream",
     "text": [
      "c:\\Users\\loren\\anaconda3\\envs\\TensorFlow\\lib\\site-packages\\xgboost\\core.py:160: UserWarning: [10:56:14] WARNING: C:\\buildkite-agent\\builds\\buildkite-windows-cpu-autoscaling-group-i-0b3782d1791676daf-1\\xgboost\\xgboost-ci-windows\\src\\learner.cc:742: \n",
      "Parameters: { \"criterion\" } are not used.\n",
      "\n",
      "  warnings.warn(smsg, UserWarning)\n"
     ]
    },
    {
     "name": "stdout",
     "output_type": "stream",
     "text": [
      "#####################\n",
      "booster  gbtree\n",
      "n_estimators  100\n",
      "eta  0.9\n",
      "max_depth  5\n",
      "lambda  1.0\n",
      "criterion  entropy\n",
      "max_leaves  1\n",
      "0.3388259526261586\n"
     ]
    },
    {
     "name": "stderr",
     "output_type": "stream",
     "text": [
      "c:\\Users\\loren\\anaconda3\\envs\\TensorFlow\\lib\\site-packages\\xgboost\\core.py:160: UserWarning: [10:56:14] WARNING: C:\\buildkite-agent\\builds\\buildkite-windows-cpu-autoscaling-group-i-0b3782d1791676daf-1\\xgboost\\xgboost-ci-windows\\src\\learner.cc:742: \n",
      "Parameters: { \"criterion\" } are not used.\n",
      "\n",
      "  warnings.warn(smsg, UserWarning)\n"
     ]
    },
    {
     "name": "stdout",
     "output_type": "stream",
     "text": [
      "#####################\n",
      "booster  gbtree\n",
      "n_estimators  100\n",
      "eta  0.9\n",
      "max_depth  5\n",
      "lambda  1.0\n",
      "criterion  entropy\n",
      "max_leaves  5\n",
      "0.9407826982492276\n"
     ]
    },
    {
     "name": "stderr",
     "output_type": "stream",
     "text": [
      "c:\\Users\\loren\\anaconda3\\envs\\TensorFlow\\lib\\site-packages\\xgboost\\core.py:160: UserWarning: [10:56:15] WARNING: C:\\buildkite-agent\\builds\\buildkite-windows-cpu-autoscaling-group-i-0b3782d1791676daf-1\\xgboost\\xgboost-ci-windows\\src\\learner.cc:742: \n",
      "Parameters: { \"criterion\" } are not used.\n",
      "\n",
      "  warnings.warn(smsg, UserWarning)\n"
     ]
    },
    {
     "name": "stdout",
     "output_type": "stream",
     "text": [
      "#####################\n",
      "booster  gbtree\n",
      "n_estimators  100\n",
      "eta  0.9\n",
      "max_depth  5\n",
      "lambda  5.0\n",
      "criterion  gini\n",
      "max_leaves  0\n",
      "0.946961894953656\n"
     ]
    },
    {
     "name": "stderr",
     "output_type": "stream",
     "text": [
      "c:\\Users\\loren\\anaconda3\\envs\\TensorFlow\\lib\\site-packages\\xgboost\\core.py:160: UserWarning: [10:56:15] WARNING: C:\\buildkite-agent\\builds\\buildkite-windows-cpu-autoscaling-group-i-0b3782d1791676daf-1\\xgboost\\xgboost-ci-windows\\src\\learner.cc:742: \n",
      "Parameters: { \"criterion\" } are not used.\n",
      "\n",
      "  warnings.warn(smsg, UserWarning)\n"
     ]
    },
    {
     "name": "stdout",
     "output_type": "stream",
     "text": [
      "#####################\n",
      "booster  gbtree\n",
      "n_estimators  100\n",
      "eta  0.9\n",
      "max_depth  5\n",
      "lambda  5.0\n",
      "criterion  gini\n",
      "max_leaves  1\n",
      "0.3388259526261586\n"
     ]
    },
    {
     "name": "stderr",
     "output_type": "stream",
     "text": [
      "c:\\Users\\loren\\anaconda3\\envs\\TensorFlow\\lib\\site-packages\\xgboost\\core.py:160: UserWarning: [10:56:16] WARNING: C:\\buildkite-agent\\builds\\buildkite-windows-cpu-autoscaling-group-i-0b3782d1791676daf-1\\xgboost\\xgboost-ci-windows\\src\\learner.cc:742: \n",
      "Parameters: { \"criterion\" } are not used.\n",
      "\n",
      "  warnings.warn(smsg, UserWarning)\n"
     ]
    },
    {
     "name": "stdout",
     "output_type": "stream",
     "text": [
      "#####################\n",
      "booster  gbtree\n",
      "n_estimators  100\n",
      "eta  0.9\n",
      "max_depth  5\n",
      "lambda  5.0\n",
      "criterion  gini\n",
      "max_leaves  5\n",
      "0.9418125643666323\n"
     ]
    },
    {
     "name": "stderr",
     "output_type": "stream",
     "text": [
      "c:\\Users\\loren\\anaconda3\\envs\\TensorFlow\\lib\\site-packages\\xgboost\\core.py:160: UserWarning: [10:56:16] WARNING: C:\\buildkite-agent\\builds\\buildkite-windows-cpu-autoscaling-group-i-0b3782d1791676daf-1\\xgboost\\xgboost-ci-windows\\src\\learner.cc:742: \n",
      "Parameters: { \"criterion\" } are not used.\n",
      "\n",
      "  warnings.warn(smsg, UserWarning)\n"
     ]
    },
    {
     "name": "stdout",
     "output_type": "stream",
     "text": [
      "#####################\n",
      "booster  gbtree\n",
      "n_estimators  100\n",
      "eta  0.9\n",
      "max_depth  5\n",
      "lambda  5.0\n",
      "criterion  entropy\n",
      "max_leaves  0\n",
      "0.946961894953656\n",
      "#####################\n",
      "booster  gbtree\n",
      "n_estimators  100\n",
      "eta  0.9\n",
      "max_depth  5\n",
      "lambda  5.0\n",
      "criterion  entropy\n",
      "max_leaves  1\n",
      "0.3388259526261586\n"
     ]
    },
    {
     "name": "stderr",
     "output_type": "stream",
     "text": [
      "c:\\Users\\loren\\anaconda3\\envs\\TensorFlow\\lib\\site-packages\\xgboost\\core.py:160: UserWarning: [10:56:17] WARNING: C:\\buildkite-agent\\builds\\buildkite-windows-cpu-autoscaling-group-i-0b3782d1791676daf-1\\xgboost\\xgboost-ci-windows\\src\\learner.cc:742: \n",
      "Parameters: { \"criterion\" } are not used.\n",
      "\n",
      "  warnings.warn(smsg, UserWarning)\n",
      "c:\\Users\\loren\\anaconda3\\envs\\TensorFlow\\lib\\site-packages\\xgboost\\core.py:160: UserWarning: [10:56:17] WARNING: C:\\buildkite-agent\\builds\\buildkite-windows-cpu-autoscaling-group-i-0b3782d1791676daf-1\\xgboost\\xgboost-ci-windows\\src\\learner.cc:742: \n",
      "Parameters: { \"criterion\" } are not used.\n",
      "\n",
      "  warnings.warn(smsg, UserWarning)\n"
     ]
    },
    {
     "name": "stdout",
     "output_type": "stream",
     "text": [
      "#####################\n",
      "booster  gbtree\n",
      "n_estimators  100\n",
      "eta  0.9\n",
      "max_depth  5\n",
      "lambda  5.0\n",
      "criterion  entropy\n",
      "max_leaves  5\n",
      "0.9418125643666323\n"
     ]
    },
    {
     "name": "stderr",
     "output_type": "stream",
     "text": [
      "c:\\Users\\loren\\anaconda3\\envs\\TensorFlow\\lib\\site-packages\\xgboost\\core.py:160: UserWarning: [10:56:17] WARNING: C:\\buildkite-agent\\builds\\buildkite-windows-cpu-autoscaling-group-i-0b3782d1791676daf-1\\xgboost\\xgboost-ci-windows\\src\\learner.cc:742: \n",
      "Parameters: { \"criterion\" } are not used.\n",
      "\n",
      "  warnings.warn(smsg, UserWarning)\n"
     ]
    },
    {
     "name": "stdout",
     "output_type": "stream",
     "text": [
      "#####################\n",
      "booster  gbtree\n",
      "n_estimators  100\n",
      "eta  0.9\n",
      "max_depth  10\n",
      "lambda  0.0\n",
      "criterion  gini\n",
      "max_leaves  0\n",
      "0.9423274974253347\n",
      "#####################\n",
      "booster  gbtree\n",
      "n_estimators  100\n",
      "eta  0.9\n",
      "max_depth  10\n",
      "lambda  0.0\n",
      "criterion  gini\n",
      "max_leaves  1\n",
      "0.3388259526261586\n"
     ]
    },
    {
     "name": "stderr",
     "output_type": "stream",
     "text": [
      "c:\\Users\\loren\\anaconda3\\envs\\TensorFlow\\lib\\site-packages\\xgboost\\core.py:160: UserWarning: [10:56:18] WARNING: C:\\buildkite-agent\\builds\\buildkite-windows-cpu-autoscaling-group-i-0b3782d1791676daf-1\\xgboost\\xgboost-ci-windows\\src\\learner.cc:742: \n",
      "Parameters: { \"criterion\" } are not used.\n",
      "\n",
      "  warnings.warn(smsg, UserWarning)\n",
      "c:\\Users\\loren\\anaconda3\\envs\\TensorFlow\\lib\\site-packages\\xgboost\\core.py:160: UserWarning: [10:56:18] WARNING: C:\\buildkite-agent\\builds\\buildkite-windows-cpu-autoscaling-group-i-0b3782d1791676daf-1\\xgboost\\xgboost-ci-windows\\src\\learner.cc:742: \n",
      "Parameters: { \"criterion\" } are not used.\n",
      "\n",
      "  warnings.warn(smsg, UserWarning)\n"
     ]
    },
    {
     "name": "stdout",
     "output_type": "stream",
     "text": [
      "#####################\n",
      "booster  gbtree\n",
      "n_estimators  100\n",
      "eta  0.9\n",
      "max_depth  10\n",
      "lambda  0.0\n",
      "criterion  gini\n",
      "max_leaves  5\n",
      "0.9397528321318228\n"
     ]
    },
    {
     "name": "stderr",
     "output_type": "stream",
     "text": [
      "c:\\Users\\loren\\anaconda3\\envs\\TensorFlow\\lib\\site-packages\\xgboost\\core.py:160: UserWarning: [10:56:18] WARNING: C:\\buildkite-agent\\builds\\buildkite-windows-cpu-autoscaling-group-i-0b3782d1791676daf-1\\xgboost\\xgboost-ci-windows\\src\\learner.cc:742: \n",
      "Parameters: { \"criterion\" } are not used.\n",
      "\n",
      "  warnings.warn(smsg, UserWarning)\n"
     ]
    },
    {
     "name": "stdout",
     "output_type": "stream",
     "text": [
      "#####################\n",
      "booster  gbtree\n",
      "n_estimators  100\n",
      "eta  0.9\n",
      "max_depth  10\n",
      "lambda  0.0\n",
      "criterion  entropy\n",
      "max_leaves  0\n",
      "0.9423274974253347\n"
     ]
    },
    {
     "name": "stderr",
     "output_type": "stream",
     "text": [
      "c:\\Users\\loren\\anaconda3\\envs\\TensorFlow\\lib\\site-packages\\xgboost\\core.py:160: UserWarning: [10:56:19] WARNING: C:\\buildkite-agent\\builds\\buildkite-windows-cpu-autoscaling-group-i-0b3782d1791676daf-1\\xgboost\\xgboost-ci-windows\\src\\learner.cc:742: \n",
      "Parameters: { \"criterion\" } are not used.\n",
      "\n",
      "  warnings.warn(smsg, UserWarning)\n"
     ]
    },
    {
     "name": "stdout",
     "output_type": "stream",
     "text": [
      "#####################\n",
      "booster  gbtree\n",
      "n_estimators  100\n",
      "eta  0.9\n",
      "max_depth  10\n",
      "lambda  0.0\n",
      "criterion  entropy\n",
      "max_leaves  1\n",
      "0.3388259526261586\n"
     ]
    },
    {
     "name": "stderr",
     "output_type": "stream",
     "text": [
      "c:\\Users\\loren\\anaconda3\\envs\\TensorFlow\\lib\\site-packages\\xgboost\\core.py:160: UserWarning: [10:56:19] WARNING: C:\\buildkite-agent\\builds\\buildkite-windows-cpu-autoscaling-group-i-0b3782d1791676daf-1\\xgboost\\xgboost-ci-windows\\src\\learner.cc:742: \n",
      "Parameters: { \"criterion\" } are not used.\n",
      "\n",
      "  warnings.warn(smsg, UserWarning)\n"
     ]
    },
    {
     "name": "stdout",
     "output_type": "stream",
     "text": [
      "#####################\n",
      "booster  gbtree\n",
      "n_estimators  100\n",
      "eta  0.9\n",
      "max_depth  10\n",
      "lambda  0.0\n",
      "criterion  entropy\n",
      "max_leaves  5\n",
      "0.9397528321318228\n"
     ]
    },
    {
     "name": "stderr",
     "output_type": "stream",
     "text": [
      "c:\\Users\\loren\\anaconda3\\envs\\TensorFlow\\lib\\site-packages\\xgboost\\core.py:160: UserWarning: [10:56:20] WARNING: C:\\buildkite-agent\\builds\\buildkite-windows-cpu-autoscaling-group-i-0b3782d1791676daf-1\\xgboost\\xgboost-ci-windows\\src\\learner.cc:742: \n",
      "Parameters: { \"criterion\" } are not used.\n",
      "\n",
      "  warnings.warn(smsg, UserWarning)\n"
     ]
    },
    {
     "name": "stdout",
     "output_type": "stream",
     "text": [
      "#####################\n",
      "booster  gbtree\n",
      "n_estimators  100\n",
      "eta  0.9\n",
      "max_depth  10\n",
      "lambda  1.0\n",
      "criterion  gini\n",
      "max_leaves  0\n",
      "0.9402677651905252\n",
      "#####################\n",
      "booster  gbtree\n",
      "n_estimators  100\n",
      "eta  0.9\n",
      "max_depth  10\n",
      "lambda  1.0\n",
      "criterion  gini\n",
      "max_leaves  1\n",
      "0.3388259526261586\n"
     ]
    },
    {
     "name": "stderr",
     "output_type": "stream",
     "text": [
      "c:\\Users\\loren\\anaconda3\\envs\\TensorFlow\\lib\\site-packages\\xgboost\\core.py:160: UserWarning: [10:56:20] WARNING: C:\\buildkite-agent\\builds\\buildkite-windows-cpu-autoscaling-group-i-0b3782d1791676daf-1\\xgboost\\xgboost-ci-windows\\src\\learner.cc:742: \n",
      "Parameters: { \"criterion\" } are not used.\n",
      "\n",
      "  warnings.warn(smsg, UserWarning)\n",
      "c:\\Users\\loren\\anaconda3\\envs\\TensorFlow\\lib\\site-packages\\xgboost\\core.py:160: UserWarning: [10:56:20] WARNING: C:\\buildkite-agent\\builds\\buildkite-windows-cpu-autoscaling-group-i-0b3782d1791676daf-1\\xgboost\\xgboost-ci-windows\\src\\learner.cc:742: \n",
      "Parameters: { \"criterion\" } are not used.\n",
      "\n",
      "  warnings.warn(smsg, UserWarning)\n"
     ]
    },
    {
     "name": "stdout",
     "output_type": "stream",
     "text": [
      "#####################\n",
      "booster  gbtree\n",
      "n_estimators  100\n",
      "eta  0.9\n",
      "max_depth  10\n",
      "lambda  1.0\n",
      "criterion  gini\n",
      "max_leaves  5\n",
      "0.9407826982492276\n"
     ]
    },
    {
     "name": "stderr",
     "output_type": "stream",
     "text": [
      "c:\\Users\\loren\\anaconda3\\envs\\TensorFlow\\lib\\site-packages\\xgboost\\core.py:160: UserWarning: [10:56:21] WARNING: C:\\buildkite-agent\\builds\\buildkite-windows-cpu-autoscaling-group-i-0b3782d1791676daf-1\\xgboost\\xgboost-ci-windows\\src\\learner.cc:742: \n",
      "Parameters: { \"criterion\" } are not used.\n",
      "\n",
      "  warnings.warn(smsg, UserWarning)\n"
     ]
    },
    {
     "name": "stdout",
     "output_type": "stream",
     "text": [
      "#####################\n",
      "booster  gbtree\n",
      "n_estimators  100\n",
      "eta  0.9\n",
      "max_depth  10\n",
      "lambda  1.0\n",
      "criterion  entropy\n",
      "max_leaves  0\n",
      "0.9402677651905252\n"
     ]
    },
    {
     "name": "stderr",
     "output_type": "stream",
     "text": [
      "c:\\Users\\loren\\anaconda3\\envs\\TensorFlow\\lib\\site-packages\\xgboost\\core.py:160: UserWarning: [10:56:22] WARNING: C:\\buildkite-agent\\builds\\buildkite-windows-cpu-autoscaling-group-i-0b3782d1791676daf-1\\xgboost\\xgboost-ci-windows\\src\\learner.cc:742: \n",
      "Parameters: { \"criterion\" } are not used.\n",
      "\n",
      "  warnings.warn(smsg, UserWarning)\n"
     ]
    },
    {
     "name": "stdout",
     "output_type": "stream",
     "text": [
      "#####################\n",
      "booster  gbtree\n",
      "n_estimators  100\n",
      "eta  0.9\n",
      "max_depth  10\n",
      "lambda  1.0\n",
      "criterion  entropy\n",
      "max_leaves  1\n",
      "0.3388259526261586\n"
     ]
    },
    {
     "name": "stderr",
     "output_type": "stream",
     "text": [
      "c:\\Users\\loren\\anaconda3\\envs\\TensorFlow\\lib\\site-packages\\xgboost\\core.py:160: UserWarning: [10:56:22] WARNING: C:\\buildkite-agent\\builds\\buildkite-windows-cpu-autoscaling-group-i-0b3782d1791676daf-1\\xgboost\\xgboost-ci-windows\\src\\learner.cc:742: \n",
      "Parameters: { \"criterion\" } are not used.\n",
      "\n",
      "  warnings.warn(smsg, UserWarning)\n"
     ]
    },
    {
     "name": "stdout",
     "output_type": "stream",
     "text": [
      "#####################\n",
      "booster  gbtree\n",
      "n_estimators  100\n",
      "eta  0.9\n",
      "max_depth  10\n",
      "lambda  1.0\n",
      "criterion  entropy\n",
      "max_leaves  5\n",
      "0.9407826982492276\n"
     ]
    },
    {
     "name": "stderr",
     "output_type": "stream",
     "text": [
      "c:\\Users\\loren\\anaconda3\\envs\\TensorFlow\\lib\\site-packages\\xgboost\\core.py:160: UserWarning: [10:56:23] WARNING: C:\\buildkite-agent\\builds\\buildkite-windows-cpu-autoscaling-group-i-0b3782d1791676daf-1\\xgboost\\xgboost-ci-windows\\src\\learner.cc:742: \n",
      "Parameters: { \"criterion\" } are not used.\n",
      "\n",
      "  warnings.warn(smsg, UserWarning)\n"
     ]
    },
    {
     "name": "stdout",
     "output_type": "stream",
     "text": [
      "#####################\n",
      "booster  gbtree\n",
      "n_estimators  100\n",
      "eta  0.9\n",
      "max_depth  10\n",
      "lambda  5.0\n",
      "criterion  gini\n",
      "max_leaves  0\n",
      "0.9449021627188465\n",
      "#####################\n",
      "booster  gbtree\n",
      "n_estimators  100\n",
      "eta  0.9\n",
      "max_depth  10\n",
      "lambda  5.0\n",
      "criterion  gini\n",
      "max_leaves  1\n",
      "0.3388259526261586\n"
     ]
    },
    {
     "name": "stderr",
     "output_type": "stream",
     "text": [
      "c:\\Users\\loren\\anaconda3\\envs\\TensorFlow\\lib\\site-packages\\xgboost\\core.py:160: UserWarning: [10:56:24] WARNING: C:\\buildkite-agent\\builds\\buildkite-windows-cpu-autoscaling-group-i-0b3782d1791676daf-1\\xgboost\\xgboost-ci-windows\\src\\learner.cc:742: \n",
      "Parameters: { \"criterion\" } are not used.\n",
      "\n",
      "  warnings.warn(smsg, UserWarning)\n",
      "c:\\Users\\loren\\anaconda3\\envs\\TensorFlow\\lib\\site-packages\\xgboost\\core.py:160: UserWarning: [10:56:24] WARNING: C:\\buildkite-agent\\builds\\buildkite-windows-cpu-autoscaling-group-i-0b3782d1791676daf-1\\xgboost\\xgboost-ci-windows\\src\\learner.cc:742: \n",
      "Parameters: { \"criterion\" } are not used.\n",
      "\n",
      "  warnings.warn(smsg, UserWarning)\n"
     ]
    },
    {
     "name": "stdout",
     "output_type": "stream",
     "text": [
      "#####################\n",
      "booster  gbtree\n",
      "n_estimators  100\n",
      "eta  0.9\n",
      "max_depth  10\n",
      "lambda  5.0\n",
      "criterion  gini\n",
      "max_leaves  5\n",
      "0.9418125643666323\n"
     ]
    },
    {
     "name": "stderr",
     "output_type": "stream",
     "text": [
      "c:\\Users\\loren\\anaconda3\\envs\\TensorFlow\\lib\\site-packages\\xgboost\\core.py:160: UserWarning: [10:56:24] WARNING: C:\\buildkite-agent\\builds\\buildkite-windows-cpu-autoscaling-group-i-0b3782d1791676daf-1\\xgboost\\xgboost-ci-windows\\src\\learner.cc:742: \n",
      "Parameters: { \"criterion\" } are not used.\n",
      "\n",
      "  warnings.warn(smsg, UserWarning)\n"
     ]
    },
    {
     "name": "stdout",
     "output_type": "stream",
     "text": [
      "#####################\n",
      "booster  gbtree\n",
      "n_estimators  100\n",
      "eta  0.9\n",
      "max_depth  10\n",
      "lambda  5.0\n",
      "criterion  entropy\n",
      "max_leaves  0\n",
      "0.9449021627188465\n"
     ]
    },
    {
     "name": "stderr",
     "output_type": "stream",
     "text": [
      "c:\\Users\\loren\\anaconda3\\envs\\TensorFlow\\lib\\site-packages\\xgboost\\core.py:160: UserWarning: [10:56:25] WARNING: C:\\buildkite-agent\\builds\\buildkite-windows-cpu-autoscaling-group-i-0b3782d1791676daf-1\\xgboost\\xgboost-ci-windows\\src\\learner.cc:742: \n",
      "Parameters: { \"criterion\" } are not used.\n",
      "\n",
      "  warnings.warn(smsg, UserWarning)\n"
     ]
    },
    {
     "name": "stdout",
     "output_type": "stream",
     "text": [
      "#####################\n",
      "booster  gbtree\n",
      "n_estimators  100\n",
      "eta  0.9\n",
      "max_depth  10\n",
      "lambda  5.0\n",
      "criterion  entropy\n",
      "max_leaves  1\n",
      "0.3388259526261586\n"
     ]
    },
    {
     "name": "stderr",
     "output_type": "stream",
     "text": [
      "c:\\Users\\loren\\anaconda3\\envs\\TensorFlow\\lib\\site-packages\\xgboost\\core.py:160: UserWarning: [10:56:25] WARNING: C:\\buildkite-agent\\builds\\buildkite-windows-cpu-autoscaling-group-i-0b3782d1791676daf-1\\xgboost\\xgboost-ci-windows\\src\\learner.cc:742: \n",
      "Parameters: { \"criterion\" } are not used.\n",
      "\n",
      "  warnings.warn(smsg, UserWarning)\n"
     ]
    },
    {
     "name": "stdout",
     "output_type": "stream",
     "text": [
      "#####################\n",
      "booster  gbtree\n",
      "n_estimators  100\n",
      "eta  0.9\n",
      "max_depth  10\n",
      "lambda  5.0\n",
      "criterion  entropy\n",
      "max_leaves  5\n",
      "0.9418125643666323\n"
     ]
    },
    {
     "name": "stderr",
     "output_type": "stream",
     "text": [
      "c:\\Users\\loren\\anaconda3\\envs\\TensorFlow\\lib\\site-packages\\xgboost\\core.py:160: UserWarning: [10:56:26] WARNING: C:\\buildkite-agent\\builds\\buildkite-windows-cpu-autoscaling-group-i-0b3782d1791676daf-1\\xgboost\\xgboost-ci-windows\\src\\learner.cc:742: \n",
      "Parameters: { \"criterion\" } are not used.\n",
      "\n",
      "  warnings.warn(smsg, UserWarning)\n"
     ]
    },
    {
     "name": "stdout",
     "output_type": "stream",
     "text": [
      "#####################\n",
      "booster  gbtree\n",
      "n_estimators  100\n",
      "eta  0.9\n",
      "max_depth  20\n",
      "lambda  0.0\n",
      "criterion  gini\n",
      "max_leaves  0\n",
      "0.9366632337796087\n",
      "#####################\n",
      "booster  gbtree\n",
      "n_estimators  100\n",
      "eta  0.9\n",
      "max_depth  20\n",
      "lambda  0.0\n",
      "criterion  gini\n",
      "max_leaves  1\n",
      "0.3388259526261586\n"
     ]
    },
    {
     "name": "stderr",
     "output_type": "stream",
     "text": [
      "c:\\Users\\loren\\anaconda3\\envs\\TensorFlow\\lib\\site-packages\\xgboost\\core.py:160: UserWarning: [10:56:27] WARNING: C:\\buildkite-agent\\builds\\buildkite-windows-cpu-autoscaling-group-i-0b3782d1791676daf-1\\xgboost\\xgboost-ci-windows\\src\\learner.cc:742: \n",
      "Parameters: { \"criterion\" } are not used.\n",
      "\n",
      "  warnings.warn(smsg, UserWarning)\n",
      "c:\\Users\\loren\\anaconda3\\envs\\TensorFlow\\lib\\site-packages\\xgboost\\core.py:160: UserWarning: [10:56:27] WARNING: C:\\buildkite-agent\\builds\\buildkite-windows-cpu-autoscaling-group-i-0b3782d1791676daf-1\\xgboost\\xgboost-ci-windows\\src\\learner.cc:742: \n",
      "Parameters: { \"criterion\" } are not used.\n",
      "\n",
      "  warnings.warn(smsg, UserWarning)\n"
     ]
    },
    {
     "name": "stdout",
     "output_type": "stream",
     "text": [
      "#####################\n",
      "booster  gbtree\n",
      "n_estimators  100\n",
      "eta  0.9\n",
      "max_depth  20\n",
      "lambda  0.0\n",
      "criterion  gini\n",
      "max_leaves  5\n",
      "0.9397528321318228\n"
     ]
    },
    {
     "name": "stderr",
     "output_type": "stream",
     "text": [
      "c:\\Users\\loren\\anaconda3\\envs\\TensorFlow\\lib\\site-packages\\xgboost\\core.py:160: UserWarning: [10:56:28] WARNING: C:\\buildkite-agent\\builds\\buildkite-windows-cpu-autoscaling-group-i-0b3782d1791676daf-1\\xgboost\\xgboost-ci-windows\\src\\learner.cc:742: \n",
      "Parameters: { \"criterion\" } are not used.\n",
      "\n",
      "  warnings.warn(smsg, UserWarning)\n"
     ]
    },
    {
     "name": "stdout",
     "output_type": "stream",
     "text": [
      "#####################\n",
      "booster  gbtree\n",
      "n_estimators  100\n",
      "eta  0.9\n",
      "max_depth  20\n",
      "lambda  0.0\n",
      "criterion  entropy\n",
      "max_leaves  0\n",
      "0.9366632337796087\n",
      "#####################\n",
      "booster  gbtree\n",
      "n_estimators  100\n",
      "eta  0.9\n",
      "max_depth  20\n",
      "lambda  0.0\n",
      "criterion  entropy\n",
      "max_leaves  1\n",
      "0.3388259526261586\n"
     ]
    },
    {
     "name": "stderr",
     "output_type": "stream",
     "text": [
      "c:\\Users\\loren\\anaconda3\\envs\\TensorFlow\\lib\\site-packages\\xgboost\\core.py:160: UserWarning: [10:56:28] WARNING: C:\\buildkite-agent\\builds\\buildkite-windows-cpu-autoscaling-group-i-0b3782d1791676daf-1\\xgboost\\xgboost-ci-windows\\src\\learner.cc:742: \n",
      "Parameters: { \"criterion\" } are not used.\n",
      "\n",
      "  warnings.warn(smsg, UserWarning)\n",
      "c:\\Users\\loren\\anaconda3\\envs\\TensorFlow\\lib\\site-packages\\xgboost\\core.py:160: UserWarning: [10:56:29] WARNING: C:\\buildkite-agent\\builds\\buildkite-windows-cpu-autoscaling-group-i-0b3782d1791676daf-1\\xgboost\\xgboost-ci-windows\\src\\learner.cc:742: \n",
      "Parameters: { \"criterion\" } are not used.\n",
      "\n",
      "  warnings.warn(smsg, UserWarning)\n"
     ]
    },
    {
     "name": "stdout",
     "output_type": "stream",
     "text": [
      "#####################\n",
      "booster  gbtree\n",
      "n_estimators  100\n",
      "eta  0.9\n",
      "max_depth  20\n",
      "lambda  0.0\n",
      "criterion  entropy\n",
      "max_leaves  5\n",
      "0.9397528321318228\n"
     ]
    },
    {
     "name": "stderr",
     "output_type": "stream",
     "text": [
      "c:\\Users\\loren\\anaconda3\\envs\\TensorFlow\\lib\\site-packages\\xgboost\\core.py:160: UserWarning: [10:56:29] WARNING: C:\\buildkite-agent\\builds\\buildkite-windows-cpu-autoscaling-group-i-0b3782d1791676daf-1\\xgboost\\xgboost-ci-windows\\src\\learner.cc:742: \n",
      "Parameters: { \"criterion\" } are not used.\n",
      "\n",
      "  warnings.warn(smsg, UserWarning)\n"
     ]
    },
    {
     "name": "stdout",
     "output_type": "stream",
     "text": [
      "#####################\n",
      "booster  gbtree\n",
      "n_estimators  100\n",
      "eta  0.9\n",
      "max_depth  20\n",
      "lambda  1.0\n",
      "criterion  gini\n",
      "max_leaves  0\n",
      "0.9397528321318228\n"
     ]
    },
    {
     "name": "stderr",
     "output_type": "stream",
     "text": [
      "c:\\Users\\loren\\anaconda3\\envs\\TensorFlow\\lib\\site-packages\\xgboost\\core.py:160: UserWarning: [10:56:30] WARNING: C:\\buildkite-agent\\builds\\buildkite-windows-cpu-autoscaling-group-i-0b3782d1791676daf-1\\xgboost\\xgboost-ci-windows\\src\\learner.cc:742: \n",
      "Parameters: { \"criterion\" } are not used.\n",
      "\n",
      "  warnings.warn(smsg, UserWarning)\n"
     ]
    },
    {
     "name": "stdout",
     "output_type": "stream",
     "text": [
      "#####################\n",
      "booster  gbtree\n",
      "n_estimators  100\n",
      "eta  0.9\n",
      "max_depth  20\n",
      "lambda  1.0\n",
      "criterion  gini\n",
      "max_leaves  1\n",
      "0.3388259526261586\n"
     ]
    },
    {
     "name": "stderr",
     "output_type": "stream",
     "text": [
      "c:\\Users\\loren\\anaconda3\\envs\\TensorFlow\\lib\\site-packages\\xgboost\\core.py:160: UserWarning: [10:56:31] WARNING: C:\\buildkite-agent\\builds\\buildkite-windows-cpu-autoscaling-group-i-0b3782d1791676daf-1\\xgboost\\xgboost-ci-windows\\src\\learner.cc:742: \n",
      "Parameters: { \"criterion\" } are not used.\n",
      "\n",
      "  warnings.warn(smsg, UserWarning)\n"
     ]
    },
    {
     "name": "stdout",
     "output_type": "stream",
     "text": [
      "#####################\n",
      "booster  gbtree\n",
      "n_estimators  100\n",
      "eta  0.9\n",
      "max_depth  20\n",
      "lambda  1.0\n",
      "criterion  gini\n",
      "max_leaves  5\n",
      "0.9407826982492276\n"
     ]
    },
    {
     "name": "stderr",
     "output_type": "stream",
     "text": [
      "c:\\Users\\loren\\anaconda3\\envs\\TensorFlow\\lib\\site-packages\\xgboost\\core.py:160: UserWarning: [10:56:32] WARNING: C:\\buildkite-agent\\builds\\buildkite-windows-cpu-autoscaling-group-i-0b3782d1791676daf-1\\xgboost\\xgboost-ci-windows\\src\\learner.cc:742: \n",
      "Parameters: { \"criterion\" } are not used.\n",
      "\n",
      "  warnings.warn(smsg, UserWarning)\n"
     ]
    },
    {
     "name": "stdout",
     "output_type": "stream",
     "text": [
      "#####################\n",
      "booster  gbtree\n",
      "n_estimators  100\n",
      "eta  0.9\n",
      "max_depth  20\n",
      "lambda  1.0\n",
      "criterion  entropy\n",
      "max_leaves  0\n",
      "0.9397528321318228\n"
     ]
    },
    {
     "name": "stderr",
     "output_type": "stream",
     "text": [
      "c:\\Users\\loren\\anaconda3\\envs\\TensorFlow\\lib\\site-packages\\xgboost\\core.py:160: UserWarning: [10:56:34] WARNING: C:\\buildkite-agent\\builds\\buildkite-windows-cpu-autoscaling-group-i-0b3782d1791676daf-1\\xgboost\\xgboost-ci-windows\\src\\learner.cc:742: \n",
      "Parameters: { \"criterion\" } are not used.\n",
      "\n",
      "  warnings.warn(smsg, UserWarning)\n"
     ]
    },
    {
     "name": "stdout",
     "output_type": "stream",
     "text": [
      "#####################\n",
      "booster  gbtree\n",
      "n_estimators  100\n",
      "eta  0.9\n",
      "max_depth  20\n",
      "lambda  1.0\n",
      "criterion  entropy\n",
      "max_leaves  1\n",
      "0.3388259526261586\n"
     ]
    },
    {
     "name": "stderr",
     "output_type": "stream",
     "text": [
      "c:\\Users\\loren\\anaconda3\\envs\\TensorFlow\\lib\\site-packages\\xgboost\\core.py:160: UserWarning: [10:56:35] WARNING: C:\\buildkite-agent\\builds\\buildkite-windows-cpu-autoscaling-group-i-0b3782d1791676daf-1\\xgboost\\xgboost-ci-windows\\src\\learner.cc:742: \n",
      "Parameters: { \"criterion\" } are not used.\n",
      "\n",
      "  warnings.warn(smsg, UserWarning)\n"
     ]
    },
    {
     "name": "stdout",
     "output_type": "stream",
     "text": [
      "#####################\n",
      "booster  gbtree\n",
      "n_estimators  100\n",
      "eta  0.9\n",
      "max_depth  20\n",
      "lambda  1.0\n",
      "criterion  entropy\n",
      "max_leaves  5\n",
      "0.9407826982492276\n"
     ]
    },
    {
     "name": "stderr",
     "output_type": "stream",
     "text": [
      "c:\\Users\\loren\\anaconda3\\envs\\TensorFlow\\lib\\site-packages\\xgboost\\core.py:160: UserWarning: [10:56:36] WARNING: C:\\buildkite-agent\\builds\\buildkite-windows-cpu-autoscaling-group-i-0b3782d1791676daf-1\\xgboost\\xgboost-ci-windows\\src\\learner.cc:742: \n",
      "Parameters: { \"criterion\" } are not used.\n",
      "\n",
      "  warnings.warn(smsg, UserWarning)\n"
     ]
    },
    {
     "name": "stdout",
     "output_type": "stream",
     "text": [
      "#####################\n",
      "booster  gbtree\n",
      "n_estimators  100\n",
      "eta  0.9\n",
      "max_depth  20\n",
      "lambda  5.0\n",
      "criterion  gini\n",
      "max_leaves  0\n",
      "0.9443872296601442\n"
     ]
    },
    {
     "name": "stderr",
     "output_type": "stream",
     "text": [
      "c:\\Users\\loren\\anaconda3\\envs\\TensorFlow\\lib\\site-packages\\xgboost\\core.py:160: UserWarning: [10:56:38] WARNING: C:\\buildkite-agent\\builds\\buildkite-windows-cpu-autoscaling-group-i-0b3782d1791676daf-1\\xgboost\\xgboost-ci-windows\\src\\learner.cc:742: \n",
      "Parameters: { \"criterion\" } are not used.\n",
      "\n",
      "  warnings.warn(smsg, UserWarning)\n"
     ]
    },
    {
     "name": "stdout",
     "output_type": "stream",
     "text": [
      "#####################\n",
      "booster  gbtree\n",
      "n_estimators  100\n",
      "eta  0.9\n",
      "max_depth  20\n",
      "lambda  5.0\n",
      "criterion  gini\n",
      "max_leaves  1\n",
      "0.3388259526261586\n"
     ]
    },
    {
     "name": "stderr",
     "output_type": "stream",
     "text": [
      "c:\\Users\\loren\\anaconda3\\envs\\TensorFlow\\lib\\site-packages\\xgboost\\core.py:160: UserWarning: [10:56:38] WARNING: C:\\buildkite-agent\\builds\\buildkite-windows-cpu-autoscaling-group-i-0b3782d1791676daf-1\\xgboost\\xgboost-ci-windows\\src\\learner.cc:742: \n",
      "Parameters: { \"criterion\" } are not used.\n",
      "\n",
      "  warnings.warn(smsg, UserWarning)\n"
     ]
    },
    {
     "name": "stdout",
     "output_type": "stream",
     "text": [
      "#####################\n",
      "booster  gbtree\n",
      "n_estimators  100\n",
      "eta  0.9\n",
      "max_depth  20\n",
      "lambda  5.0\n",
      "criterion  gini\n",
      "max_leaves  5\n",
      "0.9418125643666323\n"
     ]
    },
    {
     "name": "stderr",
     "output_type": "stream",
     "text": [
      "c:\\Users\\loren\\anaconda3\\envs\\TensorFlow\\lib\\site-packages\\xgboost\\core.py:160: UserWarning: [10:56:39] WARNING: C:\\buildkite-agent\\builds\\buildkite-windows-cpu-autoscaling-group-i-0b3782d1791676daf-1\\xgboost\\xgboost-ci-windows\\src\\learner.cc:742: \n",
      "Parameters: { \"criterion\" } are not used.\n",
      "\n",
      "  warnings.warn(smsg, UserWarning)\n"
     ]
    },
    {
     "name": "stdout",
     "output_type": "stream",
     "text": [
      "#####################\n",
      "booster  gbtree\n",
      "n_estimators  100\n",
      "eta  0.9\n",
      "max_depth  20\n",
      "lambda  5.0\n",
      "criterion  entropy\n",
      "max_leaves  0\n",
      "0.9443872296601442\n"
     ]
    },
    {
     "name": "stderr",
     "output_type": "stream",
     "text": [
      "c:\\Users\\loren\\anaconda3\\envs\\TensorFlow\\lib\\site-packages\\xgboost\\core.py:160: UserWarning: [10:56:40] WARNING: C:\\buildkite-agent\\builds\\buildkite-windows-cpu-autoscaling-group-i-0b3782d1791676daf-1\\xgboost\\xgboost-ci-windows\\src\\learner.cc:742: \n",
      "Parameters: { \"criterion\" } are not used.\n",
      "\n",
      "  warnings.warn(smsg, UserWarning)\n"
     ]
    },
    {
     "name": "stdout",
     "output_type": "stream",
     "text": [
      "#####################\n",
      "booster  gbtree\n",
      "n_estimators  100\n",
      "eta  0.9\n",
      "max_depth  20\n",
      "lambda  5.0\n",
      "criterion  entropy\n",
      "max_leaves  1\n",
      "0.3388259526261586\n"
     ]
    },
    {
     "name": "stderr",
     "output_type": "stream",
     "text": [
      "c:\\Users\\loren\\anaconda3\\envs\\TensorFlow\\lib\\site-packages\\xgboost\\core.py:160: UserWarning: [10:56:40] WARNING: C:\\buildkite-agent\\builds\\buildkite-windows-cpu-autoscaling-group-i-0b3782d1791676daf-1\\xgboost\\xgboost-ci-windows\\src\\learner.cc:742: \n",
      "Parameters: { \"criterion\" } are not used.\n",
      "\n",
      "  warnings.warn(smsg, UserWarning)\n"
     ]
    },
    {
     "name": "stdout",
     "output_type": "stream",
     "text": [
      "#####################\n",
      "booster  gbtree\n",
      "n_estimators  100\n",
      "eta  0.9\n",
      "max_depth  20\n",
      "lambda  5.0\n",
      "criterion  entropy\n",
      "max_leaves  5\n",
      "0.9418125643666323\n"
     ]
    },
    {
     "name": "stderr",
     "output_type": "stream",
     "text": [
      "c:\\Users\\loren\\anaconda3\\envs\\TensorFlow\\lib\\site-packages\\xgboost\\core.py:160: UserWarning: [10:56:41] WARNING: C:\\buildkite-agent\\builds\\buildkite-windows-cpu-autoscaling-group-i-0b3782d1791676daf-1\\xgboost\\xgboost-ci-windows\\src\\learner.cc:742: \n",
      "Parameters: { \"criterion\" } are not used.\n",
      "\n",
      "  warnings.warn(smsg, UserWarning)\n"
     ]
    },
    {
     "name": "stdout",
     "output_type": "stream",
     "text": [
      "#####################\n",
      "booster  gbtree\n",
      "n_estimators  100\n",
      "eta  0.9\n",
      "max_depth  30\n",
      "lambda  0.0\n",
      "criterion  gini\n",
      "max_leaves  0\n",
      "0.94129763130793\n"
     ]
    },
    {
     "name": "stderr",
     "output_type": "stream",
     "text": [
      "c:\\Users\\loren\\anaconda3\\envs\\TensorFlow\\lib\\site-packages\\xgboost\\core.py:160: UserWarning: [10:56:42] WARNING: C:\\buildkite-agent\\builds\\buildkite-windows-cpu-autoscaling-group-i-0b3782d1791676daf-1\\xgboost\\xgboost-ci-windows\\src\\learner.cc:742: \n",
      "Parameters: { \"criterion\" } are not used.\n",
      "\n",
      "  warnings.warn(smsg, UserWarning)\n"
     ]
    },
    {
     "name": "stdout",
     "output_type": "stream",
     "text": [
      "#####################\n",
      "booster  gbtree\n",
      "n_estimators  100\n",
      "eta  0.9\n",
      "max_depth  30\n",
      "lambda  0.0\n",
      "criterion  gini\n",
      "max_leaves  1\n",
      "0.3388259526261586\n"
     ]
    },
    {
     "name": "stderr",
     "output_type": "stream",
     "text": [
      "c:\\Users\\loren\\anaconda3\\envs\\TensorFlow\\lib\\site-packages\\xgboost\\core.py:160: UserWarning: [10:56:43] WARNING: C:\\buildkite-agent\\builds\\buildkite-windows-cpu-autoscaling-group-i-0b3782d1791676daf-1\\xgboost\\xgboost-ci-windows\\src\\learner.cc:742: \n",
      "Parameters: { \"criterion\" } are not used.\n",
      "\n",
      "  warnings.warn(smsg, UserWarning)\n"
     ]
    },
    {
     "name": "stdout",
     "output_type": "stream",
     "text": [
      "#####################\n",
      "booster  gbtree\n",
      "n_estimators  100\n",
      "eta  0.9\n",
      "max_depth  30\n",
      "lambda  0.0\n",
      "criterion  gini\n",
      "max_leaves  5\n",
      "0.9397528321318228\n"
     ]
    },
    {
     "name": "stderr",
     "output_type": "stream",
     "text": [
      "c:\\Users\\loren\\anaconda3\\envs\\TensorFlow\\lib\\site-packages\\xgboost\\core.py:160: UserWarning: [10:56:44] WARNING: C:\\buildkite-agent\\builds\\buildkite-windows-cpu-autoscaling-group-i-0b3782d1791676daf-1\\xgboost\\xgboost-ci-windows\\src\\learner.cc:742: \n",
      "Parameters: { \"criterion\" } are not used.\n",
      "\n",
      "  warnings.warn(smsg, UserWarning)\n"
     ]
    },
    {
     "name": "stdout",
     "output_type": "stream",
     "text": [
      "#####################\n",
      "booster  gbtree\n",
      "n_estimators  100\n",
      "eta  0.9\n",
      "max_depth  30\n",
      "lambda  0.0\n",
      "criterion  entropy\n",
      "max_leaves  0\n",
      "0.94129763130793\n"
     ]
    },
    {
     "name": "stderr",
     "output_type": "stream",
     "text": [
      "c:\\Users\\loren\\anaconda3\\envs\\TensorFlow\\lib\\site-packages\\xgboost\\core.py:160: UserWarning: [10:56:46] WARNING: C:\\buildkite-agent\\builds\\buildkite-windows-cpu-autoscaling-group-i-0b3782d1791676daf-1\\xgboost\\xgboost-ci-windows\\src\\learner.cc:742: \n",
      "Parameters: { \"criterion\" } are not used.\n",
      "\n",
      "  warnings.warn(smsg, UserWarning)\n"
     ]
    },
    {
     "name": "stdout",
     "output_type": "stream",
     "text": [
      "#####################\n",
      "booster  gbtree\n",
      "n_estimators  100\n",
      "eta  0.9\n",
      "max_depth  30\n",
      "lambda  0.0\n",
      "criterion  entropy\n",
      "max_leaves  1\n",
      "0.3388259526261586\n"
     ]
    },
    {
     "name": "stderr",
     "output_type": "stream",
     "text": [
      "c:\\Users\\loren\\anaconda3\\envs\\TensorFlow\\lib\\site-packages\\xgboost\\core.py:160: UserWarning: [10:56:46] WARNING: C:\\buildkite-agent\\builds\\buildkite-windows-cpu-autoscaling-group-i-0b3782d1791676daf-1\\xgboost\\xgboost-ci-windows\\src\\learner.cc:742: \n",
      "Parameters: { \"criterion\" } are not used.\n",
      "\n",
      "  warnings.warn(smsg, UserWarning)\n"
     ]
    },
    {
     "name": "stdout",
     "output_type": "stream",
     "text": [
      "#####################\n",
      "booster  gbtree\n",
      "n_estimators  100\n",
      "eta  0.9\n",
      "max_depth  30\n",
      "lambda  0.0\n",
      "criterion  entropy\n",
      "max_leaves  5\n",
      "0.9397528321318228\n"
     ]
    },
    {
     "name": "stderr",
     "output_type": "stream",
     "text": [
      "c:\\Users\\loren\\anaconda3\\envs\\TensorFlow\\lib\\site-packages\\xgboost\\core.py:160: UserWarning: [10:56:47] WARNING: C:\\buildkite-agent\\builds\\buildkite-windows-cpu-autoscaling-group-i-0b3782d1791676daf-1\\xgboost\\xgboost-ci-windows\\src\\learner.cc:742: \n",
      "Parameters: { \"criterion\" } are not used.\n",
      "\n",
      "  warnings.warn(smsg, UserWarning)\n"
     ]
    },
    {
     "name": "stdout",
     "output_type": "stream",
     "text": [
      "#####################\n",
      "booster  gbtree\n",
      "n_estimators  100\n",
      "eta  0.9\n",
      "max_depth  30\n",
      "lambda  1.0\n",
      "criterion  gini\n",
      "max_leaves  0\n",
      "0.9397528321318228\n"
     ]
    },
    {
     "name": "stderr",
     "output_type": "stream",
     "text": [
      "c:\\Users\\loren\\anaconda3\\envs\\TensorFlow\\lib\\site-packages\\xgboost\\core.py:160: UserWarning: [10:56:48] WARNING: C:\\buildkite-agent\\builds\\buildkite-windows-cpu-autoscaling-group-i-0b3782d1791676daf-1\\xgboost\\xgboost-ci-windows\\src\\learner.cc:742: \n",
      "Parameters: { \"criterion\" } are not used.\n",
      "\n",
      "  warnings.warn(smsg, UserWarning)\n"
     ]
    },
    {
     "name": "stdout",
     "output_type": "stream",
     "text": [
      "#####################\n",
      "booster  gbtree\n",
      "n_estimators  100\n",
      "eta  0.9\n",
      "max_depth  30\n",
      "lambda  1.0\n",
      "criterion  gini\n",
      "max_leaves  1\n",
      "0.3388259526261586\n"
     ]
    },
    {
     "name": "stderr",
     "output_type": "stream",
     "text": [
      "c:\\Users\\loren\\anaconda3\\envs\\TensorFlow\\lib\\site-packages\\xgboost\\core.py:160: UserWarning: [10:56:48] WARNING: C:\\buildkite-agent\\builds\\buildkite-windows-cpu-autoscaling-group-i-0b3782d1791676daf-1\\xgboost\\xgboost-ci-windows\\src\\learner.cc:742: \n",
      "Parameters: { \"criterion\" } are not used.\n",
      "\n",
      "  warnings.warn(smsg, UserWarning)\n"
     ]
    },
    {
     "name": "stdout",
     "output_type": "stream",
     "text": [
      "#####################\n",
      "booster  gbtree\n",
      "n_estimators  100\n",
      "eta  0.9\n",
      "max_depth  30\n",
      "lambda  1.0\n",
      "criterion  gini\n",
      "max_leaves  5\n",
      "0.9407826982492276\n"
     ]
    },
    {
     "name": "stderr",
     "output_type": "stream",
     "text": [
      "c:\\Users\\loren\\anaconda3\\envs\\TensorFlow\\lib\\site-packages\\xgboost\\core.py:160: UserWarning: [10:56:49] WARNING: C:\\buildkite-agent\\builds\\buildkite-windows-cpu-autoscaling-group-i-0b3782d1791676daf-1\\xgboost\\xgboost-ci-windows\\src\\learner.cc:742: \n",
      "Parameters: { \"criterion\" } are not used.\n",
      "\n",
      "  warnings.warn(smsg, UserWarning)\n"
     ]
    },
    {
     "name": "stdout",
     "output_type": "stream",
     "text": [
      "#####################\n",
      "booster  gbtree\n",
      "n_estimators  100\n",
      "eta  0.9\n",
      "max_depth  30\n",
      "lambda  1.0\n",
      "criterion  entropy\n",
      "max_leaves  0\n",
      "0.9397528321318228\n",
      "#####################\n",
      "booster  gbtree\n",
      "n_estimators  100\n",
      "eta  0.9\n",
      "max_depth  30\n",
      "lambda  1.0\n",
      "criterion  entropy\n",
      "max_leaves  1\n",
      "0.3388259526261586\n"
     ]
    },
    {
     "name": "stderr",
     "output_type": "stream",
     "text": [
      "c:\\Users\\loren\\anaconda3\\envs\\TensorFlow\\lib\\site-packages\\xgboost\\core.py:160: UserWarning: [10:56:49] WARNING: C:\\buildkite-agent\\builds\\buildkite-windows-cpu-autoscaling-group-i-0b3782d1791676daf-1\\xgboost\\xgboost-ci-windows\\src\\learner.cc:742: \n",
      "Parameters: { \"criterion\" } are not used.\n",
      "\n",
      "  warnings.warn(smsg, UserWarning)\n",
      "c:\\Users\\loren\\anaconda3\\envs\\TensorFlow\\lib\\site-packages\\xgboost\\core.py:160: UserWarning: [10:56:49] WARNING: C:\\buildkite-agent\\builds\\buildkite-windows-cpu-autoscaling-group-i-0b3782d1791676daf-1\\xgboost\\xgboost-ci-windows\\src\\learner.cc:742: \n",
      "Parameters: { \"criterion\" } are not used.\n",
      "\n",
      "  warnings.warn(smsg, UserWarning)\n"
     ]
    },
    {
     "name": "stdout",
     "output_type": "stream",
     "text": [
      "#####################\n",
      "booster  gbtree\n",
      "n_estimators  100\n",
      "eta  0.9\n",
      "max_depth  30\n",
      "lambda  1.0\n",
      "criterion  entropy\n",
      "max_leaves  5\n",
      "0.9407826982492276\n"
     ]
    },
    {
     "name": "stderr",
     "output_type": "stream",
     "text": [
      "c:\\Users\\loren\\anaconda3\\envs\\TensorFlow\\lib\\site-packages\\xgboost\\core.py:160: UserWarning: [10:56:50] WARNING: C:\\buildkite-agent\\builds\\buildkite-windows-cpu-autoscaling-group-i-0b3782d1791676daf-1\\xgboost\\xgboost-ci-windows\\src\\learner.cc:742: \n",
      "Parameters: { \"criterion\" } are not used.\n",
      "\n",
      "  warnings.warn(smsg, UserWarning)\n"
     ]
    },
    {
     "name": "stdout",
     "output_type": "stream",
     "text": [
      "#####################\n",
      "booster  gbtree\n",
      "n_estimators  100\n",
      "eta  0.9\n",
      "max_depth  30\n",
      "lambda  5.0\n",
      "criterion  gini\n",
      "max_leaves  0\n",
      "0.9443872296601442\n",
      "#####################\n",
      "booster  gbtree\n",
      "n_estimators  100\n",
      "eta  0.9\n",
      "max_depth  30\n",
      "lambda  5.0\n",
      "criterion  gini\n",
      "max_leaves  1\n",
      "0.3388259526261586\n"
     ]
    },
    {
     "name": "stderr",
     "output_type": "stream",
     "text": [
      "c:\\Users\\loren\\anaconda3\\envs\\TensorFlow\\lib\\site-packages\\xgboost\\core.py:160: UserWarning: [10:56:51] WARNING: C:\\buildkite-agent\\builds\\buildkite-windows-cpu-autoscaling-group-i-0b3782d1791676daf-1\\xgboost\\xgboost-ci-windows\\src\\learner.cc:742: \n",
      "Parameters: { \"criterion\" } are not used.\n",
      "\n",
      "  warnings.warn(smsg, UserWarning)\n",
      "c:\\Users\\loren\\anaconda3\\envs\\TensorFlow\\lib\\site-packages\\xgboost\\core.py:160: UserWarning: [10:56:51] WARNING: C:\\buildkite-agent\\builds\\buildkite-windows-cpu-autoscaling-group-i-0b3782d1791676daf-1\\xgboost\\xgboost-ci-windows\\src\\learner.cc:742: \n",
      "Parameters: { \"criterion\" } are not used.\n",
      "\n",
      "  warnings.warn(smsg, UserWarning)\n"
     ]
    },
    {
     "name": "stdout",
     "output_type": "stream",
     "text": [
      "#####################\n",
      "booster  gbtree\n",
      "n_estimators  100\n",
      "eta  0.9\n",
      "max_depth  30\n",
      "lambda  5.0\n",
      "criterion  gini\n",
      "max_leaves  5\n",
      "0.9418125643666323\n"
     ]
    },
    {
     "name": "stderr",
     "output_type": "stream",
     "text": [
      "c:\\Users\\loren\\anaconda3\\envs\\TensorFlow\\lib\\site-packages\\xgboost\\core.py:160: UserWarning: [10:56:51] WARNING: C:\\buildkite-agent\\builds\\buildkite-windows-cpu-autoscaling-group-i-0b3782d1791676daf-1\\xgboost\\xgboost-ci-windows\\src\\learner.cc:742: \n",
      "Parameters: { \"criterion\" } are not used.\n",
      "\n",
      "  warnings.warn(smsg, UserWarning)\n"
     ]
    },
    {
     "name": "stdout",
     "output_type": "stream",
     "text": [
      "#####################\n",
      "booster  gbtree\n",
      "n_estimators  100\n",
      "eta  0.9\n",
      "max_depth  30\n",
      "lambda  5.0\n",
      "criterion  entropy\n",
      "max_leaves  0\n",
      "0.9443872296601442\n",
      "#####################\n",
      "booster  gbtree\n",
      "n_estimators  100\n",
      "eta  0.9\n",
      "max_depth  30\n",
      "lambda  5.0\n",
      "criterion  entropy\n",
      "max_leaves  1\n",
      "0.3388259526261586\n"
     ]
    },
    {
     "name": "stderr",
     "output_type": "stream",
     "text": [
      "c:\\Users\\loren\\anaconda3\\envs\\TensorFlow\\lib\\site-packages\\xgboost\\core.py:160: UserWarning: [10:56:52] WARNING: C:\\buildkite-agent\\builds\\buildkite-windows-cpu-autoscaling-group-i-0b3782d1791676daf-1\\xgboost\\xgboost-ci-windows\\src\\learner.cc:742: \n",
      "Parameters: { \"criterion\" } are not used.\n",
      "\n",
      "  warnings.warn(smsg, UserWarning)\n",
      "c:\\Users\\loren\\anaconda3\\envs\\TensorFlow\\lib\\site-packages\\xgboost\\core.py:160: UserWarning: [10:56:53] WARNING: C:\\buildkite-agent\\builds\\buildkite-windows-cpu-autoscaling-group-i-0b3782d1791676daf-1\\xgboost\\xgboost-ci-windows\\src\\learner.cc:742: \n",
      "Parameters: { \"criterion\" } are not used.\n",
      "\n",
      "  warnings.warn(smsg, UserWarning)\n"
     ]
    },
    {
     "name": "stdout",
     "output_type": "stream",
     "text": [
      "#####################\n",
      "booster  gbtree\n",
      "n_estimators  100\n",
      "eta  0.9\n",
      "max_depth  30\n",
      "lambda  5.0\n",
      "criterion  entropy\n",
      "max_leaves  5\n",
      "0.9418125643666323\n"
     ]
    },
    {
     "name": "stderr",
     "output_type": "stream",
     "text": [
      "c:\\Users\\loren\\anaconda3\\envs\\TensorFlow\\lib\\site-packages\\xgboost\\core.py:160: UserWarning: [10:56:53] WARNING: C:\\buildkite-agent\\builds\\buildkite-windows-cpu-autoscaling-group-i-0b3782d1791676daf-1\\xgboost\\xgboost-ci-windows\\src\\learner.cc:742: \n",
      "Parameters: { \"criterion\" } are not used.\n",
      "\n",
      "  warnings.warn(smsg, UserWarning)\n"
     ]
    },
    {
     "name": "stdout",
     "output_type": "stream",
     "text": [
      "#####################\n",
      "booster  gbtree\n",
      "n_estimators  150\n",
      "eta  0.1\n",
      "max_depth  5\n",
      "lambda  0.0\n",
      "criterion  gini\n",
      "max_leaves  0\n",
      "0.9423274974253347\n"
     ]
    },
    {
     "name": "stderr",
     "output_type": "stream",
     "text": [
      "c:\\Users\\loren\\anaconda3\\envs\\TensorFlow\\lib\\site-packages\\xgboost\\core.py:160: UserWarning: [10:56:55] WARNING: C:\\buildkite-agent\\builds\\buildkite-windows-cpu-autoscaling-group-i-0b3782d1791676daf-1\\xgboost\\xgboost-ci-windows\\src\\learner.cc:742: \n",
      "Parameters: { \"criterion\" } are not used.\n",
      "\n",
      "  warnings.warn(smsg, UserWarning)\n"
     ]
    },
    {
     "name": "stdout",
     "output_type": "stream",
     "text": [
      "#####################\n",
      "booster  gbtree\n",
      "n_estimators  150\n",
      "eta  0.1\n",
      "max_depth  5\n",
      "lambda  0.0\n",
      "criterion  gini\n",
      "max_leaves  1\n",
      "0.3388259526261586\n"
     ]
    },
    {
     "name": "stderr",
     "output_type": "stream",
     "text": [
      "c:\\Users\\loren\\anaconda3\\envs\\TensorFlow\\lib\\site-packages\\xgboost\\core.py:160: UserWarning: [10:56:55] WARNING: C:\\buildkite-agent\\builds\\buildkite-windows-cpu-autoscaling-group-i-0b3782d1791676daf-1\\xgboost\\xgboost-ci-windows\\src\\learner.cc:742: \n",
      "Parameters: { \"criterion\" } are not used.\n",
      "\n",
      "  warnings.warn(smsg, UserWarning)\n"
     ]
    },
    {
     "name": "stdout",
     "output_type": "stream",
     "text": [
      "#####################\n",
      "booster  gbtree\n",
      "n_estimators  150\n",
      "eta  0.1\n",
      "max_depth  5\n",
      "lambda  0.0\n",
      "criterion  gini\n",
      "max_leaves  5\n",
      "0.9093717816683831\n"
     ]
    },
    {
     "name": "stderr",
     "output_type": "stream",
     "text": [
      "c:\\Users\\loren\\anaconda3\\envs\\TensorFlow\\lib\\site-packages\\xgboost\\core.py:160: UserWarning: [10:56:56] WARNING: C:\\buildkite-agent\\builds\\buildkite-windows-cpu-autoscaling-group-i-0b3782d1791676daf-1\\xgboost\\xgboost-ci-windows\\src\\learner.cc:742: \n",
      "Parameters: { \"criterion\" } are not used.\n",
      "\n",
      "  warnings.warn(smsg, UserWarning)\n"
     ]
    },
    {
     "name": "stdout",
     "output_type": "stream",
     "text": [
      "#####################\n",
      "booster  gbtree\n",
      "n_estimators  150\n",
      "eta  0.1\n",
      "max_depth  5\n",
      "lambda  0.0\n",
      "criterion  entropy\n",
      "max_leaves  0\n",
      "0.9423274974253347\n"
     ]
    },
    {
     "name": "stderr",
     "output_type": "stream",
     "text": [
      "c:\\Users\\loren\\anaconda3\\envs\\TensorFlow\\lib\\site-packages\\xgboost\\core.py:160: UserWarning: [10:56:58] WARNING: C:\\buildkite-agent\\builds\\buildkite-windows-cpu-autoscaling-group-i-0b3782d1791676daf-1\\xgboost\\xgboost-ci-windows\\src\\learner.cc:742: \n",
      "Parameters: { \"criterion\" } are not used.\n",
      "\n",
      "  warnings.warn(smsg, UserWarning)\n"
     ]
    },
    {
     "name": "stdout",
     "output_type": "stream",
     "text": [
      "#####################\n",
      "booster  gbtree\n",
      "n_estimators  150\n",
      "eta  0.1\n",
      "max_depth  5\n",
      "lambda  0.0\n",
      "criterion  entropy\n",
      "max_leaves  1\n",
      "0.3388259526261586\n"
     ]
    },
    {
     "name": "stderr",
     "output_type": "stream",
     "text": [
      "c:\\Users\\loren\\anaconda3\\envs\\TensorFlow\\lib\\site-packages\\xgboost\\core.py:160: UserWarning: [10:56:58] WARNING: C:\\buildkite-agent\\builds\\buildkite-windows-cpu-autoscaling-group-i-0b3782d1791676daf-1\\xgboost\\xgboost-ci-windows\\src\\learner.cc:742: \n",
      "Parameters: { \"criterion\" } are not used.\n",
      "\n",
      "  warnings.warn(smsg, UserWarning)\n"
     ]
    },
    {
     "name": "stdout",
     "output_type": "stream",
     "text": [
      "#####################\n",
      "booster  gbtree\n",
      "n_estimators  150\n",
      "eta  0.1\n",
      "max_depth  5\n",
      "lambda  0.0\n",
      "criterion  entropy\n",
      "max_leaves  5\n",
      "0.9093717816683831\n"
     ]
    },
    {
     "name": "stderr",
     "output_type": "stream",
     "text": [
      "c:\\Users\\loren\\anaconda3\\envs\\TensorFlow\\lib\\site-packages\\xgboost\\core.py:160: UserWarning: [10:56:59] WARNING: C:\\buildkite-agent\\builds\\buildkite-windows-cpu-autoscaling-group-i-0b3782d1791676daf-1\\xgboost\\xgboost-ci-windows\\src\\learner.cc:742: \n",
      "Parameters: { \"criterion\" } are not used.\n",
      "\n",
      "  warnings.warn(smsg, UserWarning)\n"
     ]
    },
    {
     "name": "stdout",
     "output_type": "stream",
     "text": [
      "#####################\n",
      "booster  gbtree\n",
      "n_estimators  150\n",
      "eta  0.1\n",
      "max_depth  5\n",
      "lambda  1.0\n",
      "criterion  gini\n",
      "max_leaves  0\n",
      "0.9397528321318228\n"
     ]
    },
    {
     "name": "stderr",
     "output_type": "stream",
     "text": [
      "c:\\Users\\loren\\anaconda3\\envs\\TensorFlow\\lib\\site-packages\\xgboost\\core.py:160: UserWarning: [10:57:00] WARNING: C:\\buildkite-agent\\builds\\buildkite-windows-cpu-autoscaling-group-i-0b3782d1791676daf-1\\xgboost\\xgboost-ci-windows\\src\\learner.cc:742: \n",
      "Parameters: { \"criterion\" } are not used.\n",
      "\n",
      "  warnings.warn(smsg, UserWarning)\n"
     ]
    },
    {
     "name": "stdout",
     "output_type": "stream",
     "text": [
      "#####################\n",
      "booster  gbtree\n",
      "n_estimators  150\n",
      "eta  0.1\n",
      "max_depth  5\n",
      "lambda  1.0\n",
      "criterion  gini\n",
      "max_leaves  1\n",
      "0.3388259526261586\n"
     ]
    },
    {
     "name": "stderr",
     "output_type": "stream",
     "text": [
      "c:\\Users\\loren\\anaconda3\\envs\\TensorFlow\\lib\\site-packages\\xgboost\\core.py:160: UserWarning: [10:57:00] WARNING: C:\\buildkite-agent\\builds\\buildkite-windows-cpu-autoscaling-group-i-0b3782d1791676daf-1\\xgboost\\xgboost-ci-windows\\src\\learner.cc:742: \n",
      "Parameters: { \"criterion\" } are not used.\n",
      "\n",
      "  warnings.warn(smsg, UserWarning)\n"
     ]
    },
    {
     "name": "stdout",
     "output_type": "stream",
     "text": [
      "#####################\n",
      "booster  gbtree\n",
      "n_estimators  150\n",
      "eta  0.1\n",
      "max_depth  5\n",
      "lambda  1.0\n",
      "criterion  gini\n",
      "max_leaves  5\n",
      "0.9140061791967045\n"
     ]
    },
    {
     "name": "stderr",
     "output_type": "stream",
     "text": [
      "c:\\Users\\loren\\anaconda3\\envs\\TensorFlow\\lib\\site-packages\\xgboost\\core.py:160: UserWarning: [10:57:00] WARNING: C:\\buildkite-agent\\builds\\buildkite-windows-cpu-autoscaling-group-i-0b3782d1791676daf-1\\xgboost\\xgboost-ci-windows\\src\\learner.cc:742: \n",
      "Parameters: { \"criterion\" } are not used.\n",
      "\n",
      "  warnings.warn(smsg, UserWarning)\n"
     ]
    },
    {
     "name": "stdout",
     "output_type": "stream",
     "text": [
      "#####################\n",
      "booster  gbtree\n",
      "n_estimators  150\n",
      "eta  0.1\n",
      "max_depth  5\n",
      "lambda  1.0\n",
      "criterion  entropy\n",
      "max_leaves  0\n",
      "0.9397528321318228\n"
     ]
    },
    {
     "name": "stderr",
     "output_type": "stream",
     "text": [
      "c:\\Users\\loren\\anaconda3\\envs\\TensorFlow\\lib\\site-packages\\xgboost\\core.py:160: UserWarning: [10:57:01] WARNING: C:\\buildkite-agent\\builds\\buildkite-windows-cpu-autoscaling-group-i-0b3782d1791676daf-1\\xgboost\\xgboost-ci-windows\\src\\learner.cc:742: \n",
      "Parameters: { \"criterion\" } are not used.\n",
      "\n",
      "  warnings.warn(smsg, UserWarning)\n"
     ]
    },
    {
     "name": "stdout",
     "output_type": "stream",
     "text": [
      "#####################\n",
      "booster  gbtree\n",
      "n_estimators  150\n",
      "eta  0.1\n",
      "max_depth  5\n",
      "lambda  1.0\n",
      "criterion  entropy\n",
      "max_leaves  1\n",
      "0.3388259526261586\n"
     ]
    },
    {
     "name": "stderr",
     "output_type": "stream",
     "text": [
      "c:\\Users\\loren\\anaconda3\\envs\\TensorFlow\\lib\\site-packages\\xgboost\\core.py:160: UserWarning: [10:57:01] WARNING: C:\\buildkite-agent\\builds\\buildkite-windows-cpu-autoscaling-group-i-0b3782d1791676daf-1\\xgboost\\xgboost-ci-windows\\src\\learner.cc:742: \n",
      "Parameters: { \"criterion\" } are not used.\n",
      "\n",
      "  warnings.warn(smsg, UserWarning)\n"
     ]
    },
    {
     "name": "stdout",
     "output_type": "stream",
     "text": [
      "#####################\n",
      "booster  gbtree\n",
      "n_estimators  150\n",
      "eta  0.1\n",
      "max_depth  5\n",
      "lambda  1.0\n",
      "criterion  entropy\n",
      "max_leaves  5\n",
      "0.9140061791967045\n"
     ]
    },
    {
     "name": "stderr",
     "output_type": "stream",
     "text": [
      "c:\\Users\\loren\\anaconda3\\envs\\TensorFlow\\lib\\site-packages\\xgboost\\core.py:160: UserWarning: [10:57:02] WARNING: C:\\buildkite-agent\\builds\\buildkite-windows-cpu-autoscaling-group-i-0b3782d1791676daf-1\\xgboost\\xgboost-ci-windows\\src\\learner.cc:742: \n",
      "Parameters: { \"criterion\" } are not used.\n",
      "\n",
      "  warnings.warn(smsg, UserWarning)\n"
     ]
    },
    {
     "name": "stdout",
     "output_type": "stream",
     "text": [
      "#####################\n",
      "booster  gbtree\n",
      "n_estimators  150\n",
      "eta  0.1\n",
      "max_depth  5\n",
      "lambda  5.0\n",
      "criterion  gini\n",
      "max_leaves  0\n",
      "0.9387229660144182\n"
     ]
    },
    {
     "name": "stderr",
     "output_type": "stream",
     "text": [
      "c:\\Users\\loren\\anaconda3\\envs\\TensorFlow\\lib\\site-packages\\xgboost\\core.py:160: UserWarning: [10:57:03] WARNING: C:\\buildkite-agent\\builds\\buildkite-windows-cpu-autoscaling-group-i-0b3782d1791676daf-1\\xgboost\\xgboost-ci-windows\\src\\learner.cc:742: \n",
      "Parameters: { \"criterion\" } are not used.\n",
      "\n",
      "  warnings.warn(smsg, UserWarning)\n"
     ]
    },
    {
     "name": "stdout",
     "output_type": "stream",
     "text": [
      "#####################\n",
      "booster  gbtree\n",
      "n_estimators  150\n",
      "eta  0.1\n",
      "max_depth  5\n",
      "lambda  5.0\n",
      "criterion  gini\n",
      "max_leaves  1\n",
      "0.3388259526261586\n"
     ]
    },
    {
     "name": "stderr",
     "output_type": "stream",
     "text": [
      "c:\\Users\\loren\\anaconda3\\envs\\TensorFlow\\lib\\site-packages\\xgboost\\core.py:160: UserWarning: [10:57:03] WARNING: C:\\buildkite-agent\\builds\\buildkite-windows-cpu-autoscaling-group-i-0b3782d1791676daf-1\\xgboost\\xgboost-ci-windows\\src\\learner.cc:742: \n",
      "Parameters: { \"criterion\" } are not used.\n",
      "\n",
      "  warnings.warn(smsg, UserWarning)\n"
     ]
    },
    {
     "name": "stdout",
     "output_type": "stream",
     "text": [
      "#####################\n",
      "booster  gbtree\n",
      "n_estimators  150\n",
      "eta  0.1\n",
      "max_depth  5\n",
      "lambda  5.0\n",
      "criterion  gini\n",
      "max_leaves  5\n",
      "0.9073120494335737\n"
     ]
    },
    {
     "name": "stderr",
     "output_type": "stream",
     "text": [
      "c:\\Users\\loren\\anaconda3\\envs\\TensorFlow\\lib\\site-packages\\xgboost\\core.py:160: UserWarning: [10:57:04] WARNING: C:\\buildkite-agent\\builds\\buildkite-windows-cpu-autoscaling-group-i-0b3782d1791676daf-1\\xgboost\\xgboost-ci-windows\\src\\learner.cc:742: \n",
      "Parameters: { \"criterion\" } are not used.\n",
      "\n",
      "  warnings.warn(smsg, UserWarning)\n"
     ]
    },
    {
     "name": "stdout",
     "output_type": "stream",
     "text": [
      "#####################\n",
      "booster  gbtree\n",
      "n_estimators  150\n",
      "eta  0.1\n",
      "max_depth  5\n",
      "lambda  5.0\n",
      "criterion  entropy\n",
      "max_leaves  0\n",
      "0.9387229660144182\n"
     ]
    },
    {
     "name": "stderr",
     "output_type": "stream",
     "text": [
      "c:\\Users\\loren\\anaconda3\\envs\\TensorFlow\\lib\\site-packages\\xgboost\\core.py:160: UserWarning: [10:57:04] WARNING: C:\\buildkite-agent\\builds\\buildkite-windows-cpu-autoscaling-group-i-0b3782d1791676daf-1\\xgboost\\xgboost-ci-windows\\src\\learner.cc:742: \n",
      "Parameters: { \"criterion\" } are not used.\n",
      "\n",
      "  warnings.warn(smsg, UserWarning)\n"
     ]
    },
    {
     "name": "stdout",
     "output_type": "stream",
     "text": [
      "#####################\n",
      "booster  gbtree\n",
      "n_estimators  150\n",
      "eta  0.1\n",
      "max_depth  5\n",
      "lambda  5.0\n",
      "criterion  entropy\n",
      "max_leaves  1\n",
      "0.3388259526261586\n"
     ]
    },
    {
     "name": "stderr",
     "output_type": "stream",
     "text": [
      "c:\\Users\\loren\\anaconda3\\envs\\TensorFlow\\lib\\site-packages\\xgboost\\core.py:160: UserWarning: [10:57:05] WARNING: C:\\buildkite-agent\\builds\\buildkite-windows-cpu-autoscaling-group-i-0b3782d1791676daf-1\\xgboost\\xgboost-ci-windows\\src\\learner.cc:742: \n",
      "Parameters: { \"criterion\" } are not used.\n",
      "\n",
      "  warnings.warn(smsg, UserWarning)\n"
     ]
    },
    {
     "name": "stdout",
     "output_type": "stream",
     "text": [
      "#####################\n",
      "booster  gbtree\n",
      "n_estimators  150\n",
      "eta  0.1\n",
      "max_depth  5\n",
      "lambda  5.0\n",
      "criterion  entropy\n",
      "max_leaves  5\n",
      "0.9073120494335737\n"
     ]
    },
    {
     "name": "stderr",
     "output_type": "stream",
     "text": [
      "c:\\Users\\loren\\anaconda3\\envs\\TensorFlow\\lib\\site-packages\\xgboost\\core.py:160: UserWarning: [10:57:05] WARNING: C:\\buildkite-agent\\builds\\buildkite-windows-cpu-autoscaling-group-i-0b3782d1791676daf-1\\xgboost\\xgboost-ci-windows\\src\\learner.cc:742: \n",
      "Parameters: { \"criterion\" } are not used.\n",
      "\n",
      "  warnings.warn(smsg, UserWarning)\n"
     ]
    },
    {
     "name": "stdout",
     "output_type": "stream",
     "text": [
      "#####################\n",
      "booster  gbtree\n",
      "n_estimators  150\n",
      "eta  0.1\n",
      "max_depth  10\n",
      "lambda  0.0\n",
      "criterion  gini\n",
      "max_leaves  0\n",
      "0.942842430484037\n"
     ]
    },
    {
     "name": "stderr",
     "output_type": "stream",
     "text": [
      "c:\\Users\\loren\\anaconda3\\envs\\TensorFlow\\lib\\site-packages\\xgboost\\core.py:160: UserWarning: [10:57:07] WARNING: C:\\buildkite-agent\\builds\\buildkite-windows-cpu-autoscaling-group-i-0b3782d1791676daf-1\\xgboost\\xgboost-ci-windows\\src\\learner.cc:742: \n",
      "Parameters: { \"criterion\" } are not used.\n",
      "\n",
      "  warnings.warn(smsg, UserWarning)\n"
     ]
    },
    {
     "name": "stdout",
     "output_type": "stream",
     "text": [
      "#####################\n",
      "booster  gbtree\n",
      "n_estimators  150\n",
      "eta  0.1\n",
      "max_depth  10\n",
      "lambda  0.0\n",
      "criterion  gini\n",
      "max_leaves  1\n",
      "0.3388259526261586\n"
     ]
    },
    {
     "name": "stderr",
     "output_type": "stream",
     "text": [
      "c:\\Users\\loren\\anaconda3\\envs\\TensorFlow\\lib\\site-packages\\xgboost\\core.py:160: UserWarning: [10:57:08] WARNING: C:\\buildkite-agent\\builds\\buildkite-windows-cpu-autoscaling-group-i-0b3782d1791676daf-1\\xgboost\\xgboost-ci-windows\\src\\learner.cc:742: \n",
      "Parameters: { \"criterion\" } are not used.\n",
      "\n",
      "  warnings.warn(smsg, UserWarning)\n"
     ]
    },
    {
     "name": "stdout",
     "output_type": "stream",
     "text": [
      "#####################\n",
      "booster  gbtree\n",
      "n_estimators  150\n",
      "eta  0.1\n",
      "max_depth  10\n",
      "lambda  0.0\n",
      "criterion  gini\n",
      "max_leaves  5\n",
      "0.9093717816683831\n"
     ]
    },
    {
     "name": "stderr",
     "output_type": "stream",
     "text": [
      "c:\\Users\\loren\\anaconda3\\envs\\TensorFlow\\lib\\site-packages\\xgboost\\core.py:160: UserWarning: [10:57:08] WARNING: C:\\buildkite-agent\\builds\\buildkite-windows-cpu-autoscaling-group-i-0b3782d1791676daf-1\\xgboost\\xgboost-ci-windows\\src\\learner.cc:742: \n",
      "Parameters: { \"criterion\" } are not used.\n",
      "\n",
      "  warnings.warn(smsg, UserWarning)\n"
     ]
    },
    {
     "name": "stdout",
     "output_type": "stream",
     "text": [
      "#####################\n",
      "booster  gbtree\n",
      "n_estimators  150\n",
      "eta  0.1\n",
      "max_depth  10\n",
      "lambda  0.0\n",
      "criterion  entropy\n",
      "max_leaves  0\n",
      "0.942842430484037\n"
     ]
    },
    {
     "name": "stderr",
     "output_type": "stream",
     "text": [
      "c:\\Users\\loren\\anaconda3\\envs\\TensorFlow\\lib\\site-packages\\xgboost\\core.py:160: UserWarning: [10:57:11] WARNING: C:\\buildkite-agent\\builds\\buildkite-windows-cpu-autoscaling-group-i-0b3782d1791676daf-1\\xgboost\\xgboost-ci-windows\\src\\learner.cc:742: \n",
      "Parameters: { \"criterion\" } are not used.\n",
      "\n",
      "  warnings.warn(smsg, UserWarning)\n"
     ]
    },
    {
     "name": "stdout",
     "output_type": "stream",
     "text": [
      "#####################\n",
      "booster  gbtree\n",
      "n_estimators  150\n",
      "eta  0.1\n",
      "max_depth  10\n",
      "lambda  0.0\n",
      "criterion  entropy\n",
      "max_leaves  1\n",
      "0.3388259526261586\n"
     ]
    },
    {
     "name": "stderr",
     "output_type": "stream",
     "text": [
      "c:\\Users\\loren\\anaconda3\\envs\\TensorFlow\\lib\\site-packages\\xgboost\\core.py:160: UserWarning: [10:57:11] WARNING: C:\\buildkite-agent\\builds\\buildkite-windows-cpu-autoscaling-group-i-0b3782d1791676daf-1\\xgboost\\xgboost-ci-windows\\src\\learner.cc:742: \n",
      "Parameters: { \"criterion\" } are not used.\n",
      "\n",
      "  warnings.warn(smsg, UserWarning)\n"
     ]
    },
    {
     "name": "stdout",
     "output_type": "stream",
     "text": [
      "#####################\n",
      "booster  gbtree\n",
      "n_estimators  150\n",
      "eta  0.1\n",
      "max_depth  10\n",
      "lambda  0.0\n",
      "criterion  entropy\n",
      "max_leaves  5\n",
      "0.9093717816683831\n"
     ]
    },
    {
     "name": "stderr",
     "output_type": "stream",
     "text": [
      "c:\\Users\\loren\\anaconda3\\envs\\TensorFlow\\lib\\site-packages\\xgboost\\core.py:160: UserWarning: [10:57:12] WARNING: C:\\buildkite-agent\\builds\\buildkite-windows-cpu-autoscaling-group-i-0b3782d1791676daf-1\\xgboost\\xgboost-ci-windows\\src\\learner.cc:742: \n",
      "Parameters: { \"criterion\" } are not used.\n",
      "\n",
      "  warnings.warn(smsg, UserWarning)\n"
     ]
    },
    {
     "name": "stdout",
     "output_type": "stream",
     "text": [
      "#####################\n",
      "booster  gbtree\n",
      "n_estimators  150\n",
      "eta  0.1\n",
      "max_depth  10\n",
      "lambda  1.0\n",
      "criterion  gini\n",
      "max_leaves  0\n",
      "0.9438722966014418\n"
     ]
    },
    {
     "name": "stderr",
     "output_type": "stream",
     "text": [
      "c:\\Users\\loren\\anaconda3\\envs\\TensorFlow\\lib\\site-packages\\xgboost\\core.py:160: UserWarning: [10:57:15] WARNING: C:\\buildkite-agent\\builds\\buildkite-windows-cpu-autoscaling-group-i-0b3782d1791676daf-1\\xgboost\\xgboost-ci-windows\\src\\learner.cc:742: \n",
      "Parameters: { \"criterion\" } are not used.\n",
      "\n",
      "  warnings.warn(smsg, UserWarning)\n"
     ]
    },
    {
     "name": "stdout",
     "output_type": "stream",
     "text": [
      "#####################\n",
      "booster  gbtree\n",
      "n_estimators  150\n",
      "eta  0.1\n",
      "max_depth  10\n",
      "lambda  1.0\n",
      "criterion  gini\n",
      "max_leaves  1\n",
      "0.3388259526261586\n"
     ]
    },
    {
     "name": "stderr",
     "output_type": "stream",
     "text": [
      "c:\\Users\\loren\\anaconda3\\envs\\TensorFlow\\lib\\site-packages\\xgboost\\core.py:160: UserWarning: [10:57:15] WARNING: C:\\buildkite-agent\\builds\\buildkite-windows-cpu-autoscaling-group-i-0b3782d1791676daf-1\\xgboost\\xgboost-ci-windows\\src\\learner.cc:742: \n",
      "Parameters: { \"criterion\" } are not used.\n",
      "\n",
      "  warnings.warn(smsg, UserWarning)\n"
     ]
    },
    {
     "name": "stdout",
     "output_type": "stream",
     "text": [
      "#####################\n",
      "booster  gbtree\n",
      "n_estimators  150\n",
      "eta  0.1\n",
      "max_depth  10\n",
      "lambda  1.0\n",
      "criterion  gini\n",
      "max_leaves  5\n",
      "0.9140061791967045\n"
     ]
    },
    {
     "name": "stderr",
     "output_type": "stream",
     "text": [
      "c:\\Users\\loren\\anaconda3\\envs\\TensorFlow\\lib\\site-packages\\xgboost\\core.py:160: UserWarning: [10:57:16] WARNING: C:\\buildkite-agent\\builds\\buildkite-windows-cpu-autoscaling-group-i-0b3782d1791676daf-1\\xgboost\\xgboost-ci-windows\\src\\learner.cc:742: \n",
      "Parameters: { \"criterion\" } are not used.\n",
      "\n",
      "  warnings.warn(smsg, UserWarning)\n"
     ]
    },
    {
     "name": "stdout",
     "output_type": "stream",
     "text": [
      "#####################\n",
      "booster  gbtree\n",
      "n_estimators  150\n",
      "eta  0.1\n",
      "max_depth  10\n",
      "lambda  1.0\n",
      "criterion  entropy\n",
      "max_leaves  0\n",
      "0.9438722966014418\n"
     ]
    },
    {
     "name": "stderr",
     "output_type": "stream",
     "text": [
      "c:\\Users\\loren\\anaconda3\\envs\\TensorFlow\\lib\\site-packages\\xgboost\\core.py:160: UserWarning: [10:57:20] WARNING: C:\\buildkite-agent\\builds\\buildkite-windows-cpu-autoscaling-group-i-0b3782d1791676daf-1\\xgboost\\xgboost-ci-windows\\src\\learner.cc:742: \n",
      "Parameters: { \"criterion\" } are not used.\n",
      "\n",
      "  warnings.warn(smsg, UserWarning)\n"
     ]
    },
    {
     "name": "stdout",
     "output_type": "stream",
     "text": [
      "#####################\n",
      "booster  gbtree\n",
      "n_estimators  150\n",
      "eta  0.1\n",
      "max_depth  10\n",
      "lambda  1.0\n",
      "criterion  entropy\n",
      "max_leaves  1\n",
      "0.3388259526261586\n"
     ]
    },
    {
     "name": "stderr",
     "output_type": "stream",
     "text": [
      "c:\\Users\\loren\\anaconda3\\envs\\TensorFlow\\lib\\site-packages\\xgboost\\core.py:160: UserWarning: [10:57:21] WARNING: C:\\buildkite-agent\\builds\\buildkite-windows-cpu-autoscaling-group-i-0b3782d1791676daf-1\\xgboost\\xgboost-ci-windows\\src\\learner.cc:742: \n",
      "Parameters: { \"criterion\" } are not used.\n",
      "\n",
      "  warnings.warn(smsg, UserWarning)\n"
     ]
    },
    {
     "name": "stdout",
     "output_type": "stream",
     "text": [
      "#####################\n",
      "booster  gbtree\n",
      "n_estimators  150\n",
      "eta  0.1\n",
      "max_depth  10\n",
      "lambda  1.0\n",
      "criterion  entropy\n",
      "max_leaves  5\n",
      "0.9140061791967045\n"
     ]
    },
    {
     "name": "stderr",
     "output_type": "stream",
     "text": [
      "c:\\Users\\loren\\anaconda3\\envs\\TensorFlow\\lib\\site-packages\\xgboost\\core.py:160: UserWarning: [10:57:21] WARNING: C:\\buildkite-agent\\builds\\buildkite-windows-cpu-autoscaling-group-i-0b3782d1791676daf-1\\xgboost\\xgboost-ci-windows\\src\\learner.cc:742: \n",
      "Parameters: { \"criterion\" } are not used.\n",
      "\n",
      "  warnings.warn(smsg, UserWarning)\n"
     ]
    },
    {
     "name": "stdout",
     "output_type": "stream",
     "text": [
      "#####################\n",
      "booster  gbtree\n",
      "n_estimators  150\n",
      "eta  0.1\n",
      "max_depth  10\n",
      "lambda  5.0\n",
      "criterion  gini\n",
      "max_leaves  0\n",
      "0.9423274974253347\n"
     ]
    },
    {
     "name": "stderr",
     "output_type": "stream",
     "text": [
      "c:\\Users\\loren\\anaconda3\\envs\\TensorFlow\\lib\\site-packages\\xgboost\\core.py:160: UserWarning: [10:57:23] WARNING: C:\\buildkite-agent\\builds\\buildkite-windows-cpu-autoscaling-group-i-0b3782d1791676daf-1\\xgboost\\xgboost-ci-windows\\src\\learner.cc:742: \n",
      "Parameters: { \"criterion\" } are not used.\n",
      "\n",
      "  warnings.warn(smsg, UserWarning)\n"
     ]
    },
    {
     "name": "stdout",
     "output_type": "stream",
     "text": [
      "#####################\n",
      "booster  gbtree\n",
      "n_estimators  150\n",
      "eta  0.1\n",
      "max_depth  10\n",
      "lambda  5.0\n",
      "criterion  gini\n",
      "max_leaves  1\n",
      "0.3388259526261586\n"
     ]
    },
    {
     "name": "stderr",
     "output_type": "stream",
     "text": [
      "c:\\Users\\loren\\anaconda3\\envs\\TensorFlow\\lib\\site-packages\\xgboost\\core.py:160: UserWarning: [10:57:24] WARNING: C:\\buildkite-agent\\builds\\buildkite-windows-cpu-autoscaling-group-i-0b3782d1791676daf-1\\xgboost\\xgboost-ci-windows\\src\\learner.cc:742: \n",
      "Parameters: { \"criterion\" } are not used.\n",
      "\n",
      "  warnings.warn(smsg, UserWarning)\n"
     ]
    },
    {
     "name": "stdout",
     "output_type": "stream",
     "text": [
      "#####################\n",
      "booster  gbtree\n",
      "n_estimators  150\n",
      "eta  0.1\n",
      "max_depth  10\n",
      "lambda  5.0\n",
      "criterion  gini\n",
      "max_leaves  5\n",
      "0.9073120494335737\n"
     ]
    },
    {
     "name": "stderr",
     "output_type": "stream",
     "text": [
      "c:\\Users\\loren\\anaconda3\\envs\\TensorFlow\\lib\\site-packages\\xgboost\\core.py:160: UserWarning: [10:57:24] WARNING: C:\\buildkite-agent\\builds\\buildkite-windows-cpu-autoscaling-group-i-0b3782d1791676daf-1\\xgboost\\xgboost-ci-windows\\src\\learner.cc:742: \n",
      "Parameters: { \"criterion\" } are not used.\n",
      "\n",
      "  warnings.warn(smsg, UserWarning)\n"
     ]
    },
    {
     "name": "stdout",
     "output_type": "stream",
     "text": [
      "#####################\n",
      "booster  gbtree\n",
      "n_estimators  150\n",
      "eta  0.1\n",
      "max_depth  10\n",
      "lambda  5.0\n",
      "criterion  entropy\n",
      "max_leaves  0\n",
      "0.9423274974253347\n"
     ]
    },
    {
     "name": "stderr",
     "output_type": "stream",
     "text": [
      "c:\\Users\\loren\\anaconda3\\envs\\TensorFlow\\lib\\site-packages\\xgboost\\core.py:160: UserWarning: [10:57:27] WARNING: C:\\buildkite-agent\\builds\\buildkite-windows-cpu-autoscaling-group-i-0b3782d1791676daf-1\\xgboost\\xgboost-ci-windows\\src\\learner.cc:742: \n",
      "Parameters: { \"criterion\" } are not used.\n",
      "\n",
      "  warnings.warn(smsg, UserWarning)\n"
     ]
    },
    {
     "name": "stdout",
     "output_type": "stream",
     "text": [
      "#####################\n",
      "booster  gbtree\n",
      "n_estimators  150\n",
      "eta  0.1\n",
      "max_depth  10\n",
      "lambda  5.0\n",
      "criterion  entropy\n",
      "max_leaves  1\n",
      "0.3388259526261586\n"
     ]
    },
    {
     "name": "stderr",
     "output_type": "stream",
     "text": [
      "c:\\Users\\loren\\anaconda3\\envs\\TensorFlow\\lib\\site-packages\\xgboost\\core.py:160: UserWarning: [10:57:27] WARNING: C:\\buildkite-agent\\builds\\buildkite-windows-cpu-autoscaling-group-i-0b3782d1791676daf-1\\xgboost\\xgboost-ci-windows\\src\\learner.cc:742: \n",
      "Parameters: { \"criterion\" } are not used.\n",
      "\n",
      "  warnings.warn(smsg, UserWarning)\n"
     ]
    },
    {
     "name": "stdout",
     "output_type": "stream",
     "text": [
      "#####################\n",
      "booster  gbtree\n",
      "n_estimators  150\n",
      "eta  0.1\n",
      "max_depth  10\n",
      "lambda  5.0\n",
      "criterion  entropy\n",
      "max_leaves  5\n",
      "0.9073120494335737\n"
     ]
    },
    {
     "name": "stderr",
     "output_type": "stream",
     "text": [
      "c:\\Users\\loren\\anaconda3\\envs\\TensorFlow\\lib\\site-packages\\xgboost\\core.py:160: UserWarning: [10:57:28] WARNING: C:\\buildkite-agent\\builds\\buildkite-windows-cpu-autoscaling-group-i-0b3782d1791676daf-1\\xgboost\\xgboost-ci-windows\\src\\learner.cc:742: \n",
      "Parameters: { \"criterion\" } are not used.\n",
      "\n",
      "  warnings.warn(smsg, UserWarning)\n"
     ]
    },
    {
     "name": "stdout",
     "output_type": "stream",
     "text": [
      "#####################\n",
      "booster  gbtree\n",
      "n_estimators  150\n",
      "eta  0.1\n",
      "max_depth  20\n",
      "lambda  0.0\n",
      "criterion  gini\n",
      "max_leaves  0\n",
      "0.94129763130793\n"
     ]
    },
    {
     "name": "stderr",
     "output_type": "stream",
     "text": [
      "c:\\Users\\loren\\anaconda3\\envs\\TensorFlow\\lib\\site-packages\\xgboost\\core.py:160: UserWarning: [10:57:32] WARNING: C:\\buildkite-agent\\builds\\buildkite-windows-cpu-autoscaling-group-i-0b3782d1791676daf-1\\xgboost\\xgboost-ci-windows\\src\\learner.cc:742: \n",
      "Parameters: { \"criterion\" } are not used.\n",
      "\n",
      "  warnings.warn(smsg, UserWarning)\n"
     ]
    },
    {
     "name": "stdout",
     "output_type": "stream",
     "text": [
      "#####################\n",
      "booster  gbtree\n",
      "n_estimators  150\n",
      "eta  0.1\n",
      "max_depth  20\n",
      "lambda  0.0\n",
      "criterion  gini\n",
      "max_leaves  1\n",
      "0.3388259526261586\n"
     ]
    },
    {
     "name": "stderr",
     "output_type": "stream",
     "text": [
      "c:\\Users\\loren\\anaconda3\\envs\\TensorFlow\\lib\\site-packages\\xgboost\\core.py:160: UserWarning: [10:57:33] WARNING: C:\\buildkite-agent\\builds\\buildkite-windows-cpu-autoscaling-group-i-0b3782d1791676daf-1\\xgboost\\xgboost-ci-windows\\src\\learner.cc:742: \n",
      "Parameters: { \"criterion\" } are not used.\n",
      "\n",
      "  warnings.warn(smsg, UserWarning)\n"
     ]
    },
    {
     "name": "stdout",
     "output_type": "stream",
     "text": [
      "#####################\n",
      "booster  gbtree\n",
      "n_estimators  150\n",
      "eta  0.1\n",
      "max_depth  20\n",
      "lambda  0.0\n",
      "criterion  gini\n",
      "max_leaves  5\n",
      "0.9093717816683831\n"
     ]
    },
    {
     "name": "stderr",
     "output_type": "stream",
     "text": [
      "c:\\Users\\loren\\anaconda3\\envs\\TensorFlow\\lib\\site-packages\\xgboost\\core.py:160: UserWarning: [10:57:33] WARNING: C:\\buildkite-agent\\builds\\buildkite-windows-cpu-autoscaling-group-i-0b3782d1791676daf-1\\xgboost\\xgboost-ci-windows\\src\\learner.cc:742: \n",
      "Parameters: { \"criterion\" } are not used.\n",
      "\n",
      "  warnings.warn(smsg, UserWarning)\n"
     ]
    },
    {
     "name": "stdout",
     "output_type": "stream",
     "text": [
      "#####################\n",
      "booster  gbtree\n",
      "n_estimators  150\n",
      "eta  0.1\n",
      "max_depth  20\n",
      "lambda  0.0\n",
      "criterion  entropy\n",
      "max_leaves  0\n",
      "0.94129763130793\n"
     ]
    },
    {
     "name": "stderr",
     "output_type": "stream",
     "text": [
      "c:\\Users\\loren\\anaconda3\\envs\\TensorFlow\\lib\\site-packages\\xgboost\\core.py:160: UserWarning: [10:57:37] WARNING: C:\\buildkite-agent\\builds\\buildkite-windows-cpu-autoscaling-group-i-0b3782d1791676daf-1\\xgboost\\xgboost-ci-windows\\src\\learner.cc:742: \n",
      "Parameters: { \"criterion\" } are not used.\n",
      "\n",
      "  warnings.warn(smsg, UserWarning)\n"
     ]
    },
    {
     "name": "stdout",
     "output_type": "stream",
     "text": [
      "#####################\n",
      "booster  gbtree\n",
      "n_estimators  150\n",
      "eta  0.1\n",
      "max_depth  20\n",
      "lambda  0.0\n",
      "criterion  entropy\n",
      "max_leaves  1\n",
      "0.3388259526261586\n"
     ]
    },
    {
     "name": "stderr",
     "output_type": "stream",
     "text": [
      "c:\\Users\\loren\\anaconda3\\envs\\TensorFlow\\lib\\site-packages\\xgboost\\core.py:160: UserWarning: [10:57:38] WARNING: C:\\buildkite-agent\\builds\\buildkite-windows-cpu-autoscaling-group-i-0b3782d1791676daf-1\\xgboost\\xgboost-ci-windows\\src\\learner.cc:742: \n",
      "Parameters: { \"criterion\" } are not used.\n",
      "\n",
      "  warnings.warn(smsg, UserWarning)\n"
     ]
    },
    {
     "name": "stdout",
     "output_type": "stream",
     "text": [
      "#####################\n",
      "booster  gbtree\n",
      "n_estimators  150\n",
      "eta  0.1\n",
      "max_depth  20\n",
      "lambda  0.0\n",
      "criterion  entropy\n",
      "max_leaves  5\n",
      "0.9093717816683831\n"
     ]
    },
    {
     "name": "stderr",
     "output_type": "stream",
     "text": [
      "c:\\Users\\loren\\anaconda3\\envs\\TensorFlow\\lib\\site-packages\\xgboost\\core.py:160: UserWarning: [10:57:38] WARNING: C:\\buildkite-agent\\builds\\buildkite-windows-cpu-autoscaling-group-i-0b3782d1791676daf-1\\xgboost\\xgboost-ci-windows\\src\\learner.cc:742: \n",
      "Parameters: { \"criterion\" } are not used.\n",
      "\n",
      "  warnings.warn(smsg, UserWarning)\n"
     ]
    },
    {
     "name": "stdout",
     "output_type": "stream",
     "text": [
      "#####################\n",
      "booster  gbtree\n",
      "n_estimators  150\n",
      "eta  0.1\n",
      "max_depth  20\n",
      "lambda  1.0\n",
      "criterion  gini\n",
      "max_leaves  0\n",
      "0.9423274974253347\n"
     ]
    },
    {
     "name": "stderr",
     "output_type": "stream",
     "text": [
      "c:\\Users\\loren\\anaconda3\\envs\\TensorFlow\\lib\\site-packages\\xgboost\\core.py:160: UserWarning: [10:57:41] WARNING: C:\\buildkite-agent\\builds\\buildkite-windows-cpu-autoscaling-group-i-0b3782d1791676daf-1\\xgboost\\xgboost-ci-windows\\src\\learner.cc:742: \n",
      "Parameters: { \"criterion\" } are not used.\n",
      "\n",
      "  warnings.warn(smsg, UserWarning)\n"
     ]
    },
    {
     "name": "stdout",
     "output_type": "stream",
     "text": [
      "#####################\n",
      "booster  gbtree\n",
      "n_estimators  150\n",
      "eta  0.1\n",
      "max_depth  20\n",
      "lambda  1.0\n",
      "criterion  gini\n",
      "max_leaves  1\n",
      "0.3388259526261586\n"
     ]
    },
    {
     "name": "stderr",
     "output_type": "stream",
     "text": [
      "c:\\Users\\loren\\anaconda3\\envs\\TensorFlow\\lib\\site-packages\\xgboost\\core.py:160: UserWarning: [10:57:41] WARNING: C:\\buildkite-agent\\builds\\buildkite-windows-cpu-autoscaling-group-i-0b3782d1791676daf-1\\xgboost\\xgboost-ci-windows\\src\\learner.cc:742: \n",
      "Parameters: { \"criterion\" } are not used.\n",
      "\n",
      "  warnings.warn(smsg, UserWarning)\n"
     ]
    },
    {
     "name": "stdout",
     "output_type": "stream",
     "text": [
      "#####################\n",
      "booster  gbtree\n",
      "n_estimators  150\n",
      "eta  0.1\n",
      "max_depth  20\n",
      "lambda  1.0\n",
      "criterion  gini\n",
      "max_leaves  5\n",
      "0.9140061791967045\n"
     ]
    },
    {
     "name": "stderr",
     "output_type": "stream",
     "text": [
      "c:\\Users\\loren\\anaconda3\\envs\\TensorFlow\\lib\\site-packages\\xgboost\\core.py:160: UserWarning: [10:57:42] WARNING: C:\\buildkite-agent\\builds\\buildkite-windows-cpu-autoscaling-group-i-0b3782d1791676daf-1\\xgboost\\xgboost-ci-windows\\src\\learner.cc:742: \n",
      "Parameters: { \"criterion\" } are not used.\n",
      "\n",
      "  warnings.warn(smsg, UserWarning)\n"
     ]
    },
    {
     "name": "stdout",
     "output_type": "stream",
     "text": [
      "#####################\n",
      "booster  gbtree\n",
      "n_estimators  150\n",
      "eta  0.1\n",
      "max_depth  20\n",
      "lambda  1.0\n",
      "criterion  entropy\n",
      "max_leaves  0\n",
      "0.9423274974253347\n"
     ]
    },
    {
     "name": "stderr",
     "output_type": "stream",
     "text": [
      "c:\\Users\\loren\\anaconda3\\envs\\TensorFlow\\lib\\site-packages\\xgboost\\core.py:160: UserWarning: [10:57:45] WARNING: C:\\buildkite-agent\\builds\\buildkite-windows-cpu-autoscaling-group-i-0b3782d1791676daf-1\\xgboost\\xgboost-ci-windows\\src\\learner.cc:742: \n",
      "Parameters: { \"criterion\" } are not used.\n",
      "\n",
      "  warnings.warn(smsg, UserWarning)\n"
     ]
    },
    {
     "name": "stdout",
     "output_type": "stream",
     "text": [
      "#####################\n",
      "booster  gbtree\n",
      "n_estimators  150\n",
      "eta  0.1\n",
      "max_depth  20\n",
      "lambda  1.0\n",
      "criterion  entropy\n",
      "max_leaves  1\n",
      "0.3388259526261586\n"
     ]
    },
    {
     "name": "stderr",
     "output_type": "stream",
     "text": [
      "c:\\Users\\loren\\anaconda3\\envs\\TensorFlow\\lib\\site-packages\\xgboost\\core.py:160: UserWarning: [10:57:45] WARNING: C:\\buildkite-agent\\builds\\buildkite-windows-cpu-autoscaling-group-i-0b3782d1791676daf-1\\xgboost\\xgboost-ci-windows\\src\\learner.cc:742: \n",
      "Parameters: { \"criterion\" } are not used.\n",
      "\n",
      "  warnings.warn(smsg, UserWarning)\n"
     ]
    },
    {
     "name": "stdout",
     "output_type": "stream",
     "text": [
      "#####################\n",
      "booster  gbtree\n",
      "n_estimators  150\n",
      "eta  0.1\n",
      "max_depth  20\n",
      "lambda  1.0\n",
      "criterion  entropy\n",
      "max_leaves  5\n",
      "0.9140061791967045\n"
     ]
    },
    {
     "name": "stderr",
     "output_type": "stream",
     "text": [
      "c:\\Users\\loren\\anaconda3\\envs\\TensorFlow\\lib\\site-packages\\xgboost\\core.py:160: UserWarning: [10:57:46] WARNING: C:\\buildkite-agent\\builds\\buildkite-windows-cpu-autoscaling-group-i-0b3782d1791676daf-1\\xgboost\\xgboost-ci-windows\\src\\learner.cc:742: \n",
      "Parameters: { \"criterion\" } are not used.\n",
      "\n",
      "  warnings.warn(smsg, UserWarning)\n"
     ]
    },
    {
     "name": "stdout",
     "output_type": "stream",
     "text": [
      "#####################\n",
      "booster  gbtree\n",
      "n_estimators  150\n",
      "eta  0.1\n",
      "max_depth  20\n",
      "lambda  5.0\n",
      "criterion  gini\n",
      "max_leaves  0\n",
      "0.9402677651905252\n"
     ]
    },
    {
     "name": "stderr",
     "output_type": "stream",
     "text": [
      "c:\\Users\\loren\\anaconda3\\envs\\TensorFlow\\lib\\site-packages\\xgboost\\core.py:160: UserWarning: [10:57:49] WARNING: C:\\buildkite-agent\\builds\\buildkite-windows-cpu-autoscaling-group-i-0b3782d1791676daf-1\\xgboost\\xgboost-ci-windows\\src\\learner.cc:742: \n",
      "Parameters: { \"criterion\" } are not used.\n",
      "\n",
      "  warnings.warn(smsg, UserWarning)\n"
     ]
    },
    {
     "name": "stdout",
     "output_type": "stream",
     "text": [
      "#####################\n",
      "booster  gbtree\n",
      "n_estimators  150\n",
      "eta  0.1\n",
      "max_depth  20\n",
      "lambda  5.0\n",
      "criterion  gini\n",
      "max_leaves  1\n",
      "0.3388259526261586\n"
     ]
    },
    {
     "name": "stderr",
     "output_type": "stream",
     "text": [
      "c:\\Users\\loren\\anaconda3\\envs\\TensorFlow\\lib\\site-packages\\xgboost\\core.py:160: UserWarning: [10:57:49] WARNING: C:\\buildkite-agent\\builds\\buildkite-windows-cpu-autoscaling-group-i-0b3782d1791676daf-1\\xgboost\\xgboost-ci-windows\\src\\learner.cc:742: \n",
      "Parameters: { \"criterion\" } are not used.\n",
      "\n",
      "  warnings.warn(smsg, UserWarning)\n"
     ]
    },
    {
     "name": "stdout",
     "output_type": "stream",
     "text": [
      "#####################\n",
      "booster  gbtree\n",
      "n_estimators  150\n",
      "eta  0.1\n",
      "max_depth  20\n",
      "lambda  5.0\n",
      "criterion  gini\n",
      "max_leaves  5\n",
      "0.9073120494335737\n"
     ]
    },
    {
     "name": "stderr",
     "output_type": "stream",
     "text": [
      "c:\\Users\\loren\\anaconda3\\envs\\TensorFlow\\lib\\site-packages\\xgboost\\core.py:160: UserWarning: [10:57:50] WARNING: C:\\buildkite-agent\\builds\\buildkite-windows-cpu-autoscaling-group-i-0b3782d1791676daf-1\\xgboost\\xgboost-ci-windows\\src\\learner.cc:742: \n",
      "Parameters: { \"criterion\" } are not used.\n",
      "\n",
      "  warnings.warn(smsg, UserWarning)\n"
     ]
    },
    {
     "name": "stdout",
     "output_type": "stream",
     "text": [
      "#####################\n",
      "booster  gbtree\n",
      "n_estimators  150\n",
      "eta  0.1\n",
      "max_depth  20\n",
      "lambda  5.0\n",
      "criterion  entropy\n",
      "max_leaves  0\n",
      "0.9402677651905252\n"
     ]
    },
    {
     "name": "stderr",
     "output_type": "stream",
     "text": [
      "c:\\Users\\loren\\anaconda3\\envs\\TensorFlow\\lib\\site-packages\\xgboost\\core.py:160: UserWarning: [10:57:53] WARNING: C:\\buildkite-agent\\builds\\buildkite-windows-cpu-autoscaling-group-i-0b3782d1791676daf-1\\xgboost\\xgboost-ci-windows\\src\\learner.cc:742: \n",
      "Parameters: { \"criterion\" } are not used.\n",
      "\n",
      "  warnings.warn(smsg, UserWarning)\n"
     ]
    },
    {
     "name": "stdout",
     "output_type": "stream",
     "text": [
      "#####################\n",
      "booster  gbtree\n",
      "n_estimators  150\n",
      "eta  0.1\n",
      "max_depth  20\n",
      "lambda  5.0\n",
      "criterion  entropy\n",
      "max_leaves  1\n",
      "0.3388259526261586\n"
     ]
    },
    {
     "name": "stderr",
     "output_type": "stream",
     "text": [
      "c:\\Users\\loren\\anaconda3\\envs\\TensorFlow\\lib\\site-packages\\xgboost\\core.py:160: UserWarning: [10:57:53] WARNING: C:\\buildkite-agent\\builds\\buildkite-windows-cpu-autoscaling-group-i-0b3782d1791676daf-1\\xgboost\\xgboost-ci-windows\\src\\learner.cc:742: \n",
      "Parameters: { \"criterion\" } are not used.\n",
      "\n",
      "  warnings.warn(smsg, UserWarning)\n"
     ]
    },
    {
     "name": "stdout",
     "output_type": "stream",
     "text": [
      "#####################\n",
      "booster  gbtree\n",
      "n_estimators  150\n",
      "eta  0.1\n",
      "max_depth  20\n",
      "lambda  5.0\n",
      "criterion  entropy\n",
      "max_leaves  5\n",
      "0.9073120494335737\n"
     ]
    },
    {
     "name": "stderr",
     "output_type": "stream",
     "text": [
      "c:\\Users\\loren\\anaconda3\\envs\\TensorFlow\\lib\\site-packages\\xgboost\\core.py:160: UserWarning: [10:57:54] WARNING: C:\\buildkite-agent\\builds\\buildkite-windows-cpu-autoscaling-group-i-0b3782d1791676daf-1\\xgboost\\xgboost-ci-windows\\src\\learner.cc:742: \n",
      "Parameters: { \"criterion\" } are not used.\n",
      "\n",
      "  warnings.warn(smsg, UserWarning)\n"
     ]
    },
    {
     "name": "stdout",
     "output_type": "stream",
     "text": [
      "#####################\n",
      "booster  gbtree\n",
      "n_estimators  150\n",
      "eta  0.1\n",
      "max_depth  30\n",
      "lambda  0.0\n",
      "criterion  gini\n",
      "max_leaves  0\n",
      "0.9418125643666323\n"
     ]
    },
    {
     "name": "stderr",
     "output_type": "stream",
     "text": [
      "c:\\Users\\loren\\anaconda3\\envs\\TensorFlow\\lib\\site-packages\\xgboost\\core.py:160: UserWarning: [10:57:59] WARNING: C:\\buildkite-agent\\builds\\buildkite-windows-cpu-autoscaling-group-i-0b3782d1791676daf-1\\xgboost\\xgboost-ci-windows\\src\\learner.cc:742: \n",
      "Parameters: { \"criterion\" } are not used.\n",
      "\n",
      "  warnings.warn(smsg, UserWarning)\n"
     ]
    },
    {
     "name": "stdout",
     "output_type": "stream",
     "text": [
      "#####################\n",
      "booster  gbtree\n",
      "n_estimators  150\n",
      "eta  0.1\n",
      "max_depth  30\n",
      "lambda  0.0\n",
      "criterion  gini\n",
      "max_leaves  1\n",
      "0.3388259526261586\n"
     ]
    },
    {
     "name": "stderr",
     "output_type": "stream",
     "text": [
      "c:\\Users\\loren\\anaconda3\\envs\\TensorFlow\\lib\\site-packages\\xgboost\\core.py:160: UserWarning: [10:57:59] WARNING: C:\\buildkite-agent\\builds\\buildkite-windows-cpu-autoscaling-group-i-0b3782d1791676daf-1\\xgboost\\xgboost-ci-windows\\src\\learner.cc:742: \n",
      "Parameters: { \"criterion\" } are not used.\n",
      "\n",
      "  warnings.warn(smsg, UserWarning)\n"
     ]
    },
    {
     "name": "stdout",
     "output_type": "stream",
     "text": [
      "#####################\n",
      "booster  gbtree\n",
      "n_estimators  150\n",
      "eta  0.1\n",
      "max_depth  30\n",
      "lambda  0.0\n",
      "criterion  gini\n",
      "max_leaves  5\n",
      "0.9093717816683831\n"
     ]
    },
    {
     "name": "stderr",
     "output_type": "stream",
     "text": [
      "c:\\Users\\loren\\anaconda3\\envs\\TensorFlow\\lib\\site-packages\\xgboost\\core.py:160: UserWarning: [10:58:00] WARNING: C:\\buildkite-agent\\builds\\buildkite-windows-cpu-autoscaling-group-i-0b3782d1791676daf-1\\xgboost\\xgboost-ci-windows\\src\\learner.cc:742: \n",
      "Parameters: { \"criterion\" } are not used.\n",
      "\n",
      "  warnings.warn(smsg, UserWarning)\n"
     ]
    },
    {
     "name": "stdout",
     "output_type": "stream",
     "text": [
      "#####################\n",
      "booster  gbtree\n",
      "n_estimators  150\n",
      "eta  0.1\n",
      "max_depth  30\n",
      "lambda  0.0\n",
      "criterion  entropy\n",
      "max_leaves  0\n",
      "0.9418125643666323\n"
     ]
    },
    {
     "name": "stderr",
     "output_type": "stream",
     "text": [
      "c:\\Users\\loren\\anaconda3\\envs\\TensorFlow\\lib\\site-packages\\xgboost\\core.py:160: UserWarning: [10:58:05] WARNING: C:\\buildkite-agent\\builds\\buildkite-windows-cpu-autoscaling-group-i-0b3782d1791676daf-1\\xgboost\\xgboost-ci-windows\\src\\learner.cc:742: \n",
      "Parameters: { \"criterion\" } are not used.\n",
      "\n",
      "  warnings.warn(smsg, UserWarning)\n"
     ]
    },
    {
     "name": "stdout",
     "output_type": "stream",
     "text": [
      "#####################\n",
      "booster  gbtree\n",
      "n_estimators  150\n",
      "eta  0.1\n",
      "max_depth  30\n",
      "lambda  0.0\n",
      "criterion  entropy\n",
      "max_leaves  1\n",
      "0.3388259526261586\n"
     ]
    },
    {
     "name": "stderr",
     "output_type": "stream",
     "text": [
      "c:\\Users\\loren\\anaconda3\\envs\\TensorFlow\\lib\\site-packages\\xgboost\\core.py:160: UserWarning: [10:58:06] WARNING: C:\\buildkite-agent\\builds\\buildkite-windows-cpu-autoscaling-group-i-0b3782d1791676daf-1\\xgboost\\xgboost-ci-windows\\src\\learner.cc:742: \n",
      "Parameters: { \"criterion\" } are not used.\n",
      "\n",
      "  warnings.warn(smsg, UserWarning)\n"
     ]
    },
    {
     "name": "stdout",
     "output_type": "stream",
     "text": [
      "#####################\n",
      "booster  gbtree\n",
      "n_estimators  150\n",
      "eta  0.1\n",
      "max_depth  30\n",
      "lambda  0.0\n",
      "criterion  entropy\n",
      "max_leaves  5\n",
      "0.9093717816683831\n"
     ]
    },
    {
     "name": "stderr",
     "output_type": "stream",
     "text": [
      "c:\\Users\\loren\\anaconda3\\envs\\TensorFlow\\lib\\site-packages\\xgboost\\core.py:160: UserWarning: [10:58:06] WARNING: C:\\buildkite-agent\\builds\\buildkite-windows-cpu-autoscaling-group-i-0b3782d1791676daf-1\\xgboost\\xgboost-ci-windows\\src\\learner.cc:742: \n",
      "Parameters: { \"criterion\" } are not used.\n",
      "\n",
      "  warnings.warn(smsg, UserWarning)\n"
     ]
    },
    {
     "name": "stdout",
     "output_type": "stream",
     "text": [
      "#####################\n",
      "booster  gbtree\n",
      "n_estimators  150\n",
      "eta  0.1\n",
      "max_depth  30\n",
      "lambda  1.0\n",
      "criterion  gini\n",
      "max_leaves  0\n",
      "0.9407826982492276\n"
     ]
    },
    {
     "name": "stderr",
     "output_type": "stream",
     "text": [
      "c:\\Users\\loren\\anaconda3\\envs\\TensorFlow\\lib\\site-packages\\xgboost\\core.py:160: UserWarning: [10:58:09] WARNING: C:\\buildkite-agent\\builds\\buildkite-windows-cpu-autoscaling-group-i-0b3782d1791676daf-1\\xgboost\\xgboost-ci-windows\\src\\learner.cc:742: \n",
      "Parameters: { \"criterion\" } are not used.\n",
      "\n",
      "  warnings.warn(smsg, UserWarning)\n"
     ]
    },
    {
     "name": "stdout",
     "output_type": "stream",
     "text": [
      "#####################\n",
      "booster  gbtree\n",
      "n_estimators  150\n",
      "eta  0.1\n",
      "max_depth  30\n",
      "lambda  1.0\n",
      "criterion  gini\n",
      "max_leaves  1\n",
      "0.3388259526261586\n"
     ]
    },
    {
     "name": "stderr",
     "output_type": "stream",
     "text": [
      "c:\\Users\\loren\\anaconda3\\envs\\TensorFlow\\lib\\site-packages\\xgboost\\core.py:160: UserWarning: [10:58:10] WARNING: C:\\buildkite-agent\\builds\\buildkite-windows-cpu-autoscaling-group-i-0b3782d1791676daf-1\\xgboost\\xgboost-ci-windows\\src\\learner.cc:742: \n",
      "Parameters: { \"criterion\" } are not used.\n",
      "\n",
      "  warnings.warn(smsg, UserWarning)\n"
     ]
    },
    {
     "name": "stdout",
     "output_type": "stream",
     "text": [
      "#####################\n",
      "booster  gbtree\n",
      "n_estimators  150\n",
      "eta  0.1\n",
      "max_depth  30\n",
      "lambda  1.0\n",
      "criterion  gini\n",
      "max_leaves  5\n",
      "0.9140061791967045\n"
     ]
    },
    {
     "name": "stderr",
     "output_type": "stream",
     "text": [
      "c:\\Users\\loren\\anaconda3\\envs\\TensorFlow\\lib\\site-packages\\xgboost\\core.py:160: UserWarning: [10:58:10] WARNING: C:\\buildkite-agent\\builds\\buildkite-windows-cpu-autoscaling-group-i-0b3782d1791676daf-1\\xgboost\\xgboost-ci-windows\\src\\learner.cc:742: \n",
      "Parameters: { \"criterion\" } are not used.\n",
      "\n",
      "  warnings.warn(smsg, UserWarning)\n"
     ]
    },
    {
     "name": "stdout",
     "output_type": "stream",
     "text": [
      "#####################\n",
      "booster  gbtree\n",
      "n_estimators  150\n",
      "eta  0.1\n",
      "max_depth  30\n",
      "lambda  1.0\n",
      "criterion  entropy\n",
      "max_leaves  0\n",
      "0.9407826982492276\n"
     ]
    },
    {
     "name": "stderr",
     "output_type": "stream",
     "text": [
      "c:\\Users\\loren\\anaconda3\\envs\\TensorFlow\\lib\\site-packages\\xgboost\\core.py:160: UserWarning: [10:58:13] WARNING: C:\\buildkite-agent\\builds\\buildkite-windows-cpu-autoscaling-group-i-0b3782d1791676daf-1\\xgboost\\xgboost-ci-windows\\src\\learner.cc:742: \n",
      "Parameters: { \"criterion\" } are not used.\n",
      "\n",
      "  warnings.warn(smsg, UserWarning)\n"
     ]
    },
    {
     "name": "stdout",
     "output_type": "stream",
     "text": [
      "#####################\n",
      "booster  gbtree\n",
      "n_estimators  150\n",
      "eta  0.1\n",
      "max_depth  30\n",
      "lambda  1.0\n",
      "criterion  entropy\n",
      "max_leaves  1\n",
      "0.3388259526261586\n"
     ]
    },
    {
     "name": "stderr",
     "output_type": "stream",
     "text": [
      "c:\\Users\\loren\\anaconda3\\envs\\TensorFlow\\lib\\site-packages\\xgboost\\core.py:160: UserWarning: [10:58:13] WARNING: C:\\buildkite-agent\\builds\\buildkite-windows-cpu-autoscaling-group-i-0b3782d1791676daf-1\\xgboost\\xgboost-ci-windows\\src\\learner.cc:742: \n",
      "Parameters: { \"criterion\" } are not used.\n",
      "\n",
      "  warnings.warn(smsg, UserWarning)\n"
     ]
    },
    {
     "name": "stdout",
     "output_type": "stream",
     "text": [
      "#####################\n",
      "booster  gbtree\n",
      "n_estimators  150\n",
      "eta  0.1\n",
      "max_depth  30\n",
      "lambda  1.0\n",
      "criterion  entropy\n",
      "max_leaves  5\n",
      "0.9140061791967045\n"
     ]
    },
    {
     "name": "stderr",
     "output_type": "stream",
     "text": [
      "c:\\Users\\loren\\anaconda3\\envs\\TensorFlow\\lib\\site-packages\\xgboost\\core.py:160: UserWarning: [10:58:14] WARNING: C:\\buildkite-agent\\builds\\buildkite-windows-cpu-autoscaling-group-i-0b3782d1791676daf-1\\xgboost\\xgboost-ci-windows\\src\\learner.cc:742: \n",
      "Parameters: { \"criterion\" } are not used.\n",
      "\n",
      "  warnings.warn(smsg, UserWarning)\n"
     ]
    },
    {
     "name": "stdout",
     "output_type": "stream",
     "text": [
      "#####################\n",
      "booster  gbtree\n",
      "n_estimators  150\n",
      "eta  0.1\n",
      "max_depth  30\n",
      "lambda  5.0\n",
      "criterion  gini\n",
      "max_leaves  0\n",
      "0.942842430484037\n"
     ]
    },
    {
     "name": "stderr",
     "output_type": "stream",
     "text": [
      "c:\\Users\\loren\\anaconda3\\envs\\TensorFlow\\lib\\site-packages\\xgboost\\core.py:160: UserWarning: [10:58:18] WARNING: C:\\buildkite-agent\\builds\\buildkite-windows-cpu-autoscaling-group-i-0b3782d1791676daf-1\\xgboost\\xgboost-ci-windows\\src\\learner.cc:742: \n",
      "Parameters: { \"criterion\" } are not used.\n",
      "\n",
      "  warnings.warn(smsg, UserWarning)\n"
     ]
    },
    {
     "name": "stdout",
     "output_type": "stream",
     "text": [
      "#####################\n",
      "booster  gbtree\n",
      "n_estimators  150\n",
      "eta  0.1\n",
      "max_depth  30\n",
      "lambda  5.0\n",
      "criterion  gini\n",
      "max_leaves  1\n",
      "0.3388259526261586\n"
     ]
    },
    {
     "name": "stderr",
     "output_type": "stream",
     "text": [
      "c:\\Users\\loren\\anaconda3\\envs\\TensorFlow\\lib\\site-packages\\xgboost\\core.py:160: UserWarning: [10:58:18] WARNING: C:\\buildkite-agent\\builds\\buildkite-windows-cpu-autoscaling-group-i-0b3782d1791676daf-1\\xgboost\\xgboost-ci-windows\\src\\learner.cc:742: \n",
      "Parameters: { \"criterion\" } are not used.\n",
      "\n",
      "  warnings.warn(smsg, UserWarning)\n"
     ]
    },
    {
     "name": "stdout",
     "output_type": "stream",
     "text": [
      "#####################\n",
      "booster  gbtree\n",
      "n_estimators  150\n",
      "eta  0.1\n",
      "max_depth  30\n",
      "lambda  5.0\n",
      "criterion  gini\n",
      "max_leaves  5\n",
      "0.9073120494335737\n"
     ]
    },
    {
     "name": "stderr",
     "output_type": "stream",
     "text": [
      "c:\\Users\\loren\\anaconda3\\envs\\TensorFlow\\lib\\site-packages\\xgboost\\core.py:160: UserWarning: [10:58:19] WARNING: C:\\buildkite-agent\\builds\\buildkite-windows-cpu-autoscaling-group-i-0b3782d1791676daf-1\\xgboost\\xgboost-ci-windows\\src\\learner.cc:742: \n",
      "Parameters: { \"criterion\" } are not used.\n",
      "\n",
      "  warnings.warn(smsg, UserWarning)\n"
     ]
    },
    {
     "name": "stdout",
     "output_type": "stream",
     "text": [
      "#####################\n",
      "booster  gbtree\n",
      "n_estimators  150\n",
      "eta  0.1\n",
      "max_depth  30\n",
      "lambda  5.0\n",
      "criterion  entropy\n",
      "max_leaves  0\n",
      "0.942842430484037\n"
     ]
    },
    {
     "name": "stderr",
     "output_type": "stream",
     "text": [
      "c:\\Users\\loren\\anaconda3\\envs\\TensorFlow\\lib\\site-packages\\xgboost\\core.py:160: UserWarning: [10:58:22] WARNING: C:\\buildkite-agent\\builds\\buildkite-windows-cpu-autoscaling-group-i-0b3782d1791676daf-1\\xgboost\\xgboost-ci-windows\\src\\learner.cc:742: \n",
      "Parameters: { \"criterion\" } are not used.\n",
      "\n",
      "  warnings.warn(smsg, UserWarning)\n"
     ]
    },
    {
     "name": "stdout",
     "output_type": "stream",
     "text": [
      "#####################\n",
      "booster  gbtree\n",
      "n_estimators  150\n",
      "eta  0.1\n",
      "max_depth  30\n",
      "lambda  5.0\n",
      "criterion  entropy\n",
      "max_leaves  1\n",
      "0.3388259526261586\n"
     ]
    },
    {
     "name": "stderr",
     "output_type": "stream",
     "text": [
      "c:\\Users\\loren\\anaconda3\\envs\\TensorFlow\\lib\\site-packages\\xgboost\\core.py:160: UserWarning: [10:58:22] WARNING: C:\\buildkite-agent\\builds\\buildkite-windows-cpu-autoscaling-group-i-0b3782d1791676daf-1\\xgboost\\xgboost-ci-windows\\src\\learner.cc:742: \n",
      "Parameters: { \"criterion\" } are not used.\n",
      "\n",
      "  warnings.warn(smsg, UserWarning)\n"
     ]
    },
    {
     "name": "stdout",
     "output_type": "stream",
     "text": [
      "#####################\n",
      "booster  gbtree\n",
      "n_estimators  150\n",
      "eta  0.1\n",
      "max_depth  30\n",
      "lambda  5.0\n",
      "criterion  entropy\n",
      "max_leaves  5\n",
      "0.9073120494335737\n"
     ]
    },
    {
     "name": "stderr",
     "output_type": "stream",
     "text": [
      "c:\\Users\\loren\\anaconda3\\envs\\TensorFlow\\lib\\site-packages\\xgboost\\core.py:160: UserWarning: [10:58:23] WARNING: C:\\buildkite-agent\\builds\\buildkite-windows-cpu-autoscaling-group-i-0b3782d1791676daf-1\\xgboost\\xgboost-ci-windows\\src\\learner.cc:742: \n",
      "Parameters: { \"criterion\" } are not used.\n",
      "\n",
      "  warnings.warn(smsg, UserWarning)\n"
     ]
    },
    {
     "name": "stdout",
     "output_type": "stream",
     "text": [
      "#####################\n",
      "booster  gbtree\n",
      "n_estimators  150\n",
      "eta  0.3\n",
      "max_depth  5\n",
      "lambda  0.0\n",
      "criterion  gini\n",
      "max_leaves  0\n",
      "0.9449021627188465\n"
     ]
    },
    {
     "name": "stderr",
     "output_type": "stream",
     "text": [
      "c:\\Users\\loren\\anaconda3\\envs\\TensorFlow\\lib\\site-packages\\xgboost\\core.py:160: UserWarning: [10:58:24] WARNING: C:\\buildkite-agent\\builds\\buildkite-windows-cpu-autoscaling-group-i-0b3782d1791676daf-1\\xgboost\\xgboost-ci-windows\\src\\learner.cc:742: \n",
      "Parameters: { \"criterion\" } are not used.\n",
      "\n",
      "  warnings.warn(smsg, UserWarning)\n"
     ]
    },
    {
     "name": "stdout",
     "output_type": "stream",
     "text": [
      "#####################\n",
      "booster  gbtree\n",
      "n_estimators  150\n",
      "eta  0.3\n",
      "max_depth  5\n",
      "lambda  0.0\n",
      "criterion  gini\n",
      "max_leaves  1\n",
      "0.3388259526261586\n"
     ]
    },
    {
     "name": "stderr",
     "output_type": "stream",
     "text": [
      "c:\\Users\\loren\\anaconda3\\envs\\TensorFlow\\lib\\site-packages\\xgboost\\core.py:160: UserWarning: [10:58:24] WARNING: C:\\buildkite-agent\\builds\\buildkite-windows-cpu-autoscaling-group-i-0b3782d1791676daf-1\\xgboost\\xgboost-ci-windows\\src\\learner.cc:742: \n",
      "Parameters: { \"criterion\" } are not used.\n",
      "\n",
      "  warnings.warn(smsg, UserWarning)\n"
     ]
    },
    {
     "name": "stdout",
     "output_type": "stream",
     "text": [
      "#####################\n",
      "booster  gbtree\n",
      "n_estimators  150\n",
      "eta  0.3\n",
      "max_depth  5\n",
      "lambda  0.0\n",
      "criterion  gini\n",
      "max_leaves  5\n",
      "0.9397528321318228\n"
     ]
    },
    {
     "name": "stderr",
     "output_type": "stream",
     "text": [
      "c:\\Users\\loren\\anaconda3\\envs\\TensorFlow\\lib\\site-packages\\xgboost\\core.py:160: UserWarning: [10:58:25] WARNING: C:\\buildkite-agent\\builds\\buildkite-windows-cpu-autoscaling-group-i-0b3782d1791676daf-1\\xgboost\\xgboost-ci-windows\\src\\learner.cc:742: \n",
      "Parameters: { \"criterion\" } are not used.\n",
      "\n",
      "  warnings.warn(smsg, UserWarning)\n"
     ]
    },
    {
     "name": "stdout",
     "output_type": "stream",
     "text": [
      "#####################\n",
      "booster  gbtree\n",
      "n_estimators  150\n",
      "eta  0.3\n",
      "max_depth  5\n",
      "lambda  0.0\n",
      "criterion  entropy\n",
      "max_leaves  0\n",
      "0.9449021627188465\n"
     ]
    },
    {
     "name": "stderr",
     "output_type": "stream",
     "text": [
      "c:\\Users\\loren\\anaconda3\\envs\\TensorFlow\\lib\\site-packages\\xgboost\\core.py:160: UserWarning: [10:58:27] WARNING: C:\\buildkite-agent\\builds\\buildkite-windows-cpu-autoscaling-group-i-0b3782d1791676daf-1\\xgboost\\xgboost-ci-windows\\src\\learner.cc:742: \n",
      "Parameters: { \"criterion\" } are not used.\n",
      "\n",
      "  warnings.warn(smsg, UserWarning)\n"
     ]
    },
    {
     "name": "stdout",
     "output_type": "stream",
     "text": [
      "#####################\n",
      "booster  gbtree\n",
      "n_estimators  150\n",
      "eta  0.3\n",
      "max_depth  5\n",
      "lambda  0.0\n",
      "criterion  entropy\n",
      "max_leaves  1\n",
      "0.3388259526261586\n"
     ]
    },
    {
     "name": "stderr",
     "output_type": "stream",
     "text": [
      "c:\\Users\\loren\\anaconda3\\envs\\TensorFlow\\lib\\site-packages\\xgboost\\core.py:160: UserWarning: [10:58:27] WARNING: C:\\buildkite-agent\\builds\\buildkite-windows-cpu-autoscaling-group-i-0b3782d1791676daf-1\\xgboost\\xgboost-ci-windows\\src\\learner.cc:742: \n",
      "Parameters: { \"criterion\" } are not used.\n",
      "\n",
      "  warnings.warn(smsg, UserWarning)\n"
     ]
    },
    {
     "name": "stdout",
     "output_type": "stream",
     "text": [
      "#####################\n",
      "booster  gbtree\n",
      "n_estimators  150\n",
      "eta  0.3\n",
      "max_depth  5\n",
      "lambda  0.0\n",
      "criterion  entropy\n",
      "max_leaves  5\n",
      "0.9397528321318228\n"
     ]
    },
    {
     "name": "stderr",
     "output_type": "stream",
     "text": [
      "c:\\Users\\loren\\anaconda3\\envs\\TensorFlow\\lib\\site-packages\\xgboost\\core.py:160: UserWarning: [10:58:28] WARNING: C:\\buildkite-agent\\builds\\buildkite-windows-cpu-autoscaling-group-i-0b3782d1791676daf-1\\xgboost\\xgboost-ci-windows\\src\\learner.cc:742: \n",
      "Parameters: { \"criterion\" } are not used.\n",
      "\n",
      "  warnings.warn(smsg, UserWarning)\n"
     ]
    },
    {
     "name": "stdout",
     "output_type": "stream",
     "text": [
      "#####################\n",
      "booster  gbtree\n",
      "n_estimators  150\n",
      "eta  0.3\n",
      "max_depth  5\n",
      "lambda  1.0\n",
      "criterion  gini\n",
      "max_leaves  0\n",
      "0.9418125643666323\n"
     ]
    },
    {
     "name": "stderr",
     "output_type": "stream",
     "text": [
      "c:\\Users\\loren\\anaconda3\\envs\\TensorFlow\\lib\\site-packages\\xgboost\\core.py:160: UserWarning: [10:58:29] WARNING: C:\\buildkite-agent\\builds\\buildkite-windows-cpu-autoscaling-group-i-0b3782d1791676daf-1\\xgboost\\xgboost-ci-windows\\src\\learner.cc:742: \n",
      "Parameters: { \"criterion\" } are not used.\n",
      "\n",
      "  warnings.warn(smsg, UserWarning)\n"
     ]
    },
    {
     "name": "stdout",
     "output_type": "stream",
     "text": [
      "#####################\n",
      "booster  gbtree\n",
      "n_estimators  150\n",
      "eta  0.3\n",
      "max_depth  5\n",
      "lambda  1.0\n",
      "criterion  gini\n",
      "max_leaves  1\n",
      "0.3388259526261586\n"
     ]
    },
    {
     "name": "stderr",
     "output_type": "stream",
     "text": [
      "c:\\Users\\loren\\anaconda3\\envs\\TensorFlow\\lib\\site-packages\\xgboost\\core.py:160: UserWarning: [10:58:29] WARNING: C:\\buildkite-agent\\builds\\buildkite-windows-cpu-autoscaling-group-i-0b3782d1791676daf-1\\xgboost\\xgboost-ci-windows\\src\\learner.cc:742: \n",
      "Parameters: { \"criterion\" } are not used.\n",
      "\n",
      "  warnings.warn(smsg, UserWarning)\n"
     ]
    },
    {
     "name": "stdout",
     "output_type": "stream",
     "text": [
      "#####################\n",
      "booster  gbtree\n",
      "n_estimators  150\n",
      "eta  0.3\n",
      "max_depth  5\n",
      "lambda  1.0\n",
      "criterion  gini\n",
      "max_leaves  5\n",
      "0.9376930998970134\n"
     ]
    },
    {
     "name": "stderr",
     "output_type": "stream",
     "text": [
      "c:\\Users\\loren\\anaconda3\\envs\\TensorFlow\\lib\\site-packages\\xgboost\\core.py:160: UserWarning: [10:58:29] WARNING: C:\\buildkite-agent\\builds\\buildkite-windows-cpu-autoscaling-group-i-0b3782d1791676daf-1\\xgboost\\xgboost-ci-windows\\src\\learner.cc:742: \n",
      "Parameters: { \"criterion\" } are not used.\n",
      "\n",
      "  warnings.warn(smsg, UserWarning)\n"
     ]
    },
    {
     "name": "stdout",
     "output_type": "stream",
     "text": [
      "#####################\n",
      "booster  gbtree\n",
      "n_estimators  150\n",
      "eta  0.3\n",
      "max_depth  5\n",
      "lambda  1.0\n",
      "criterion  entropy\n",
      "max_leaves  0\n",
      "0.9418125643666323\n"
     ]
    },
    {
     "name": "stderr",
     "output_type": "stream",
     "text": [
      "c:\\Users\\loren\\anaconda3\\envs\\TensorFlow\\lib\\site-packages\\xgboost\\core.py:160: UserWarning: [10:58:30] WARNING: C:\\buildkite-agent\\builds\\buildkite-windows-cpu-autoscaling-group-i-0b3782d1791676daf-1\\xgboost\\xgboost-ci-windows\\src\\learner.cc:742: \n",
      "Parameters: { \"criterion\" } are not used.\n",
      "\n",
      "  warnings.warn(smsg, UserWarning)\n"
     ]
    },
    {
     "name": "stdout",
     "output_type": "stream",
     "text": [
      "#####################\n",
      "booster  gbtree\n",
      "n_estimators  150\n",
      "eta  0.3\n",
      "max_depth  5\n",
      "lambda  1.0\n",
      "criterion  entropy\n",
      "max_leaves  1\n",
      "0.3388259526261586\n"
     ]
    },
    {
     "name": "stderr",
     "output_type": "stream",
     "text": [
      "c:\\Users\\loren\\anaconda3\\envs\\TensorFlow\\lib\\site-packages\\xgboost\\core.py:160: UserWarning: [10:58:30] WARNING: C:\\buildkite-agent\\builds\\buildkite-windows-cpu-autoscaling-group-i-0b3782d1791676daf-1\\xgboost\\xgboost-ci-windows\\src\\learner.cc:742: \n",
      "Parameters: { \"criterion\" } are not used.\n",
      "\n",
      "  warnings.warn(smsg, UserWarning)\n"
     ]
    },
    {
     "name": "stdout",
     "output_type": "stream",
     "text": [
      "#####################\n",
      "booster  gbtree\n",
      "n_estimators  150\n",
      "eta  0.3\n",
      "max_depth  5\n",
      "lambda  1.0\n",
      "criterion  entropy\n",
      "max_leaves  5\n",
      "0.9376930998970134\n"
     ]
    },
    {
     "name": "stderr",
     "output_type": "stream",
     "text": [
      "c:\\Users\\loren\\anaconda3\\envs\\TensorFlow\\lib\\site-packages\\xgboost\\core.py:160: UserWarning: [10:58:31] WARNING: C:\\buildkite-agent\\builds\\buildkite-windows-cpu-autoscaling-group-i-0b3782d1791676daf-1\\xgboost\\xgboost-ci-windows\\src\\learner.cc:742: \n",
      "Parameters: { \"criterion\" } are not used.\n",
      "\n",
      "  warnings.warn(smsg, UserWarning)\n"
     ]
    },
    {
     "name": "stdout",
     "output_type": "stream",
     "text": [
      "#####################\n",
      "booster  gbtree\n",
      "n_estimators  150\n",
      "eta  0.3\n",
      "max_depth  5\n",
      "lambda  5.0\n",
      "criterion  gini\n",
      "max_leaves  0\n",
      "0.9397528321318228\n"
     ]
    },
    {
     "name": "stderr",
     "output_type": "stream",
     "text": [
      "c:\\Users\\loren\\anaconda3\\envs\\TensorFlow\\lib\\site-packages\\xgboost\\core.py:160: UserWarning: [10:58:32] WARNING: C:\\buildkite-agent\\builds\\buildkite-windows-cpu-autoscaling-group-i-0b3782d1791676daf-1\\xgboost\\xgboost-ci-windows\\src\\learner.cc:742: \n",
      "Parameters: { \"criterion\" } are not used.\n",
      "\n",
      "  warnings.warn(smsg, UserWarning)\n"
     ]
    },
    {
     "name": "stdout",
     "output_type": "stream",
     "text": [
      "#####################\n",
      "booster  gbtree\n",
      "n_estimators  150\n",
      "eta  0.3\n",
      "max_depth  5\n",
      "lambda  5.0\n",
      "criterion  gini\n",
      "max_leaves  1\n",
      "0.3388259526261586\n"
     ]
    },
    {
     "name": "stderr",
     "output_type": "stream",
     "text": [
      "c:\\Users\\loren\\anaconda3\\envs\\TensorFlow\\lib\\site-packages\\xgboost\\core.py:160: UserWarning: [10:58:32] WARNING: C:\\buildkite-agent\\builds\\buildkite-windows-cpu-autoscaling-group-i-0b3782d1791676daf-1\\xgboost\\xgboost-ci-windows\\src\\learner.cc:742: \n",
      "Parameters: { \"criterion\" } are not used.\n",
      "\n",
      "  warnings.warn(smsg, UserWarning)\n"
     ]
    },
    {
     "name": "stdout",
     "output_type": "stream",
     "text": [
      "#####################\n",
      "booster  gbtree\n",
      "n_estimators  150\n",
      "eta  0.3\n",
      "max_depth  5\n",
      "lambda  5.0\n",
      "criterion  gini\n",
      "max_leaves  5\n",
      "0.9407826982492276\n"
     ]
    },
    {
     "name": "stderr",
     "output_type": "stream",
     "text": [
      "c:\\Users\\loren\\anaconda3\\envs\\TensorFlow\\lib\\site-packages\\xgboost\\core.py:160: UserWarning: [10:58:33] WARNING: C:\\buildkite-agent\\builds\\buildkite-windows-cpu-autoscaling-group-i-0b3782d1791676daf-1\\xgboost\\xgboost-ci-windows\\src\\learner.cc:742: \n",
      "Parameters: { \"criterion\" } are not used.\n",
      "\n",
      "  warnings.warn(smsg, UserWarning)\n"
     ]
    },
    {
     "name": "stdout",
     "output_type": "stream",
     "text": [
      "#####################\n",
      "booster  gbtree\n",
      "n_estimators  150\n",
      "eta  0.3\n",
      "max_depth  5\n",
      "lambda  5.0\n",
      "criterion  entropy\n",
      "max_leaves  0\n",
      "0.9397528321318228\n"
     ]
    },
    {
     "name": "stderr",
     "output_type": "stream",
     "text": [
      "c:\\Users\\loren\\anaconda3\\envs\\TensorFlow\\lib\\site-packages\\xgboost\\core.py:160: UserWarning: [10:58:34] WARNING: C:\\buildkite-agent\\builds\\buildkite-windows-cpu-autoscaling-group-i-0b3782d1791676daf-1\\xgboost\\xgboost-ci-windows\\src\\learner.cc:742: \n",
      "Parameters: { \"criterion\" } are not used.\n",
      "\n",
      "  warnings.warn(smsg, UserWarning)\n"
     ]
    },
    {
     "name": "stdout",
     "output_type": "stream",
     "text": [
      "#####################\n",
      "booster  gbtree\n",
      "n_estimators  150\n",
      "eta  0.3\n",
      "max_depth  5\n",
      "lambda  5.0\n",
      "criterion  entropy\n",
      "max_leaves  1\n",
      "0.3388259526261586\n"
     ]
    },
    {
     "name": "stderr",
     "output_type": "stream",
     "text": [
      "c:\\Users\\loren\\anaconda3\\envs\\TensorFlow\\lib\\site-packages\\xgboost\\core.py:160: UserWarning: [10:58:34] WARNING: C:\\buildkite-agent\\builds\\buildkite-windows-cpu-autoscaling-group-i-0b3782d1791676daf-1\\xgboost\\xgboost-ci-windows\\src\\learner.cc:742: \n",
      "Parameters: { \"criterion\" } are not used.\n",
      "\n",
      "  warnings.warn(smsg, UserWarning)\n"
     ]
    },
    {
     "name": "stdout",
     "output_type": "stream",
     "text": [
      "#####################\n",
      "booster  gbtree\n",
      "n_estimators  150\n",
      "eta  0.3\n",
      "max_depth  5\n",
      "lambda  5.0\n",
      "criterion  entropy\n",
      "max_leaves  5\n",
      "0.9407826982492276\n"
     ]
    },
    {
     "name": "stderr",
     "output_type": "stream",
     "text": [
      "c:\\Users\\loren\\anaconda3\\envs\\TensorFlow\\lib\\site-packages\\xgboost\\core.py:160: UserWarning: [10:58:34] WARNING: C:\\buildkite-agent\\builds\\buildkite-windows-cpu-autoscaling-group-i-0b3782d1791676daf-1\\xgboost\\xgboost-ci-windows\\src\\learner.cc:742: \n",
      "Parameters: { \"criterion\" } are not used.\n",
      "\n",
      "  warnings.warn(smsg, UserWarning)\n"
     ]
    },
    {
     "name": "stdout",
     "output_type": "stream",
     "text": [
      "#####################\n",
      "booster  gbtree\n",
      "n_estimators  150\n",
      "eta  0.3\n",
      "max_depth  10\n",
      "lambda  0.0\n",
      "criterion  gini\n",
      "max_leaves  0\n",
      "0.942842430484037\n"
     ]
    },
    {
     "name": "stderr",
     "output_type": "stream",
     "text": [
      "c:\\Users\\loren\\anaconda3\\envs\\TensorFlow\\lib\\site-packages\\xgboost\\core.py:160: UserWarning: [10:58:35] WARNING: C:\\buildkite-agent\\builds\\buildkite-windows-cpu-autoscaling-group-i-0b3782d1791676daf-1\\xgboost\\xgboost-ci-windows\\src\\learner.cc:742: \n",
      "Parameters: { \"criterion\" } are not used.\n",
      "\n",
      "  warnings.warn(smsg, UserWarning)\n"
     ]
    },
    {
     "name": "stdout",
     "output_type": "stream",
     "text": [
      "#####################\n",
      "booster  gbtree\n",
      "n_estimators  150\n",
      "eta  0.3\n",
      "max_depth  10\n",
      "lambda  0.0\n",
      "criterion  gini\n",
      "max_leaves  1\n",
      "0.3388259526261586\n"
     ]
    },
    {
     "name": "stderr",
     "output_type": "stream",
     "text": [
      "c:\\Users\\loren\\anaconda3\\envs\\TensorFlow\\lib\\site-packages\\xgboost\\core.py:160: UserWarning: [10:58:36] WARNING: C:\\buildkite-agent\\builds\\buildkite-windows-cpu-autoscaling-group-i-0b3782d1791676daf-1\\xgboost\\xgboost-ci-windows\\src\\learner.cc:742: \n",
      "Parameters: { \"criterion\" } are not used.\n",
      "\n",
      "  warnings.warn(smsg, UserWarning)\n"
     ]
    },
    {
     "name": "stdout",
     "output_type": "stream",
     "text": [
      "#####################\n",
      "booster  gbtree\n",
      "n_estimators  150\n",
      "eta  0.3\n",
      "max_depth  10\n",
      "lambda  0.0\n",
      "criterion  gini\n",
      "max_leaves  5\n",
      "0.9397528321318228\n"
     ]
    },
    {
     "name": "stderr",
     "output_type": "stream",
     "text": [
      "c:\\Users\\loren\\anaconda3\\envs\\TensorFlow\\lib\\site-packages\\xgboost\\core.py:160: UserWarning: [10:58:36] WARNING: C:\\buildkite-agent\\builds\\buildkite-windows-cpu-autoscaling-group-i-0b3782d1791676daf-1\\xgboost\\xgboost-ci-windows\\src\\learner.cc:742: \n",
      "Parameters: { \"criterion\" } are not used.\n",
      "\n",
      "  warnings.warn(smsg, UserWarning)\n"
     ]
    },
    {
     "name": "stdout",
     "output_type": "stream",
     "text": [
      "#####################\n",
      "booster  gbtree\n",
      "n_estimators  150\n",
      "eta  0.3\n",
      "max_depth  10\n",
      "lambda  0.0\n",
      "criterion  entropy\n",
      "max_leaves  0\n",
      "0.942842430484037\n"
     ]
    },
    {
     "name": "stderr",
     "output_type": "stream",
     "text": [
      "c:\\Users\\loren\\anaconda3\\envs\\TensorFlow\\lib\\site-packages\\xgboost\\core.py:160: UserWarning: [10:58:38] WARNING: C:\\buildkite-agent\\builds\\buildkite-windows-cpu-autoscaling-group-i-0b3782d1791676daf-1\\xgboost\\xgboost-ci-windows\\src\\learner.cc:742: \n",
      "Parameters: { \"criterion\" } are not used.\n",
      "\n",
      "  warnings.warn(smsg, UserWarning)\n"
     ]
    },
    {
     "name": "stdout",
     "output_type": "stream",
     "text": [
      "#####################\n",
      "booster  gbtree\n",
      "n_estimators  150\n",
      "eta  0.3\n",
      "max_depth  10\n",
      "lambda  0.0\n",
      "criterion  entropy\n",
      "max_leaves  1\n",
      "0.3388259526261586\n"
     ]
    },
    {
     "name": "stderr",
     "output_type": "stream",
     "text": [
      "c:\\Users\\loren\\anaconda3\\envs\\TensorFlow\\lib\\site-packages\\xgboost\\core.py:160: UserWarning: [10:58:38] WARNING: C:\\buildkite-agent\\builds\\buildkite-windows-cpu-autoscaling-group-i-0b3782d1791676daf-1\\xgboost\\xgboost-ci-windows\\src\\learner.cc:742: \n",
      "Parameters: { \"criterion\" } are not used.\n",
      "\n",
      "  warnings.warn(smsg, UserWarning)\n"
     ]
    },
    {
     "name": "stdout",
     "output_type": "stream",
     "text": [
      "#####################\n",
      "booster  gbtree\n",
      "n_estimators  150\n",
      "eta  0.3\n",
      "max_depth  10\n",
      "lambda  0.0\n",
      "criterion  entropy\n",
      "max_leaves  5\n",
      "0.9397528321318228\n"
     ]
    },
    {
     "name": "stderr",
     "output_type": "stream",
     "text": [
      "c:\\Users\\loren\\anaconda3\\envs\\TensorFlow\\lib\\site-packages\\xgboost\\core.py:160: UserWarning: [10:58:39] WARNING: C:\\buildkite-agent\\builds\\buildkite-windows-cpu-autoscaling-group-i-0b3782d1791676daf-1\\xgboost\\xgboost-ci-windows\\src\\learner.cc:742: \n",
      "Parameters: { \"criterion\" } are not used.\n",
      "\n",
      "  warnings.warn(smsg, UserWarning)\n"
     ]
    },
    {
     "name": "stdout",
     "output_type": "stream",
     "text": [
      "#####################\n",
      "booster  gbtree\n",
      "n_estimators  150\n",
      "eta  0.3\n",
      "max_depth  10\n",
      "lambda  1.0\n",
      "criterion  gini\n",
      "max_leaves  0\n",
      "0.945417095777549\n"
     ]
    },
    {
     "name": "stderr",
     "output_type": "stream",
     "text": [
      "c:\\Users\\loren\\anaconda3\\envs\\TensorFlow\\lib\\site-packages\\xgboost\\core.py:160: UserWarning: [10:58:40] WARNING: C:\\buildkite-agent\\builds\\buildkite-windows-cpu-autoscaling-group-i-0b3782d1791676daf-1\\xgboost\\xgboost-ci-windows\\src\\learner.cc:742: \n",
      "Parameters: { \"criterion\" } are not used.\n",
      "\n",
      "  warnings.warn(smsg, UserWarning)\n"
     ]
    },
    {
     "name": "stdout",
     "output_type": "stream",
     "text": [
      "#####################\n",
      "booster  gbtree\n",
      "n_estimators  150\n",
      "eta  0.3\n",
      "max_depth  10\n",
      "lambda  1.0\n",
      "criterion  gini\n",
      "max_leaves  1\n",
      "0.3388259526261586\n"
     ]
    },
    {
     "name": "stderr",
     "output_type": "stream",
     "text": [
      "c:\\Users\\loren\\anaconda3\\envs\\TensorFlow\\lib\\site-packages\\xgboost\\core.py:160: UserWarning: [10:58:40] WARNING: C:\\buildkite-agent\\builds\\buildkite-windows-cpu-autoscaling-group-i-0b3782d1791676daf-1\\xgboost\\xgboost-ci-windows\\src\\learner.cc:742: \n",
      "Parameters: { \"criterion\" } are not used.\n",
      "\n",
      "  warnings.warn(smsg, UserWarning)\n"
     ]
    },
    {
     "name": "stdout",
     "output_type": "stream",
     "text": [
      "#####################\n",
      "booster  gbtree\n",
      "n_estimators  150\n",
      "eta  0.3\n",
      "max_depth  10\n",
      "lambda  1.0\n",
      "criterion  gini\n",
      "max_leaves  5\n",
      "0.9376930998970134\n"
     ]
    },
    {
     "name": "stderr",
     "output_type": "stream",
     "text": [
      "c:\\Users\\loren\\anaconda3\\envs\\TensorFlow\\lib\\site-packages\\xgboost\\core.py:160: UserWarning: [10:58:41] WARNING: C:\\buildkite-agent\\builds\\buildkite-windows-cpu-autoscaling-group-i-0b3782d1791676daf-1\\xgboost\\xgboost-ci-windows\\src\\learner.cc:742: \n",
      "Parameters: { \"criterion\" } are not used.\n",
      "\n",
      "  warnings.warn(smsg, UserWarning)\n"
     ]
    },
    {
     "name": "stdout",
     "output_type": "stream",
     "text": [
      "#####################\n",
      "booster  gbtree\n",
      "n_estimators  150\n",
      "eta  0.3\n",
      "max_depth  10\n",
      "lambda  1.0\n",
      "criterion  entropy\n",
      "max_leaves  0\n",
      "0.945417095777549\n"
     ]
    },
    {
     "name": "stderr",
     "output_type": "stream",
     "text": [
      "c:\\Users\\loren\\anaconda3\\envs\\TensorFlow\\lib\\site-packages\\xgboost\\core.py:160: UserWarning: [10:58:42] WARNING: C:\\buildkite-agent\\builds\\buildkite-windows-cpu-autoscaling-group-i-0b3782d1791676daf-1\\xgboost\\xgboost-ci-windows\\src\\learner.cc:742: \n",
      "Parameters: { \"criterion\" } are not used.\n",
      "\n",
      "  warnings.warn(smsg, UserWarning)\n"
     ]
    },
    {
     "name": "stdout",
     "output_type": "stream",
     "text": [
      "#####################\n",
      "booster  gbtree\n",
      "n_estimators  150\n",
      "eta  0.3\n",
      "max_depth  10\n",
      "lambda  1.0\n",
      "criterion  entropy\n",
      "max_leaves  1\n",
      "0.3388259526261586\n"
     ]
    },
    {
     "name": "stderr",
     "output_type": "stream",
     "text": [
      "c:\\Users\\loren\\anaconda3\\envs\\TensorFlow\\lib\\site-packages\\xgboost\\core.py:160: UserWarning: [10:58:42] WARNING: C:\\buildkite-agent\\builds\\buildkite-windows-cpu-autoscaling-group-i-0b3782d1791676daf-1\\xgboost\\xgboost-ci-windows\\src\\learner.cc:742: \n",
      "Parameters: { \"criterion\" } are not used.\n",
      "\n",
      "  warnings.warn(smsg, UserWarning)\n"
     ]
    },
    {
     "name": "stdout",
     "output_type": "stream",
     "text": [
      "#####################\n",
      "booster  gbtree\n",
      "n_estimators  150\n",
      "eta  0.3\n",
      "max_depth  10\n",
      "lambda  1.0\n",
      "criterion  entropy\n",
      "max_leaves  5\n",
      "0.9376930998970134\n"
     ]
    },
    {
     "name": "stderr",
     "output_type": "stream",
     "text": [
      "c:\\Users\\loren\\anaconda3\\envs\\TensorFlow\\lib\\site-packages\\xgboost\\core.py:160: UserWarning: [10:58:43] WARNING: C:\\buildkite-agent\\builds\\buildkite-windows-cpu-autoscaling-group-i-0b3782d1791676daf-1\\xgboost\\xgboost-ci-windows\\src\\learner.cc:742: \n",
      "Parameters: { \"criterion\" } are not used.\n",
      "\n",
      "  warnings.warn(smsg, UserWarning)\n"
     ]
    },
    {
     "name": "stdout",
     "output_type": "stream",
     "text": [
      "#####################\n",
      "booster  gbtree\n",
      "n_estimators  150\n",
      "eta  0.3\n",
      "max_depth  10\n",
      "lambda  5.0\n",
      "criterion  gini\n",
      "max_leaves  0\n",
      "0.9438722966014418\n"
     ]
    },
    {
     "name": "stderr",
     "output_type": "stream",
     "text": [
      "c:\\Users\\loren\\anaconda3\\envs\\TensorFlow\\lib\\site-packages\\xgboost\\core.py:160: UserWarning: [10:58:45] WARNING: C:\\buildkite-agent\\builds\\buildkite-windows-cpu-autoscaling-group-i-0b3782d1791676daf-1\\xgboost\\xgboost-ci-windows\\src\\learner.cc:742: \n",
      "Parameters: { \"criterion\" } are not used.\n",
      "\n",
      "  warnings.warn(smsg, UserWarning)\n"
     ]
    },
    {
     "name": "stdout",
     "output_type": "stream",
     "text": [
      "#####################\n",
      "booster  gbtree\n",
      "n_estimators  150\n",
      "eta  0.3\n",
      "max_depth  10\n",
      "lambda  5.0\n",
      "criterion  gini\n",
      "max_leaves  1\n",
      "0.3388259526261586\n"
     ]
    },
    {
     "name": "stderr",
     "output_type": "stream",
     "text": [
      "c:\\Users\\loren\\anaconda3\\envs\\TensorFlow\\lib\\site-packages\\xgboost\\core.py:160: UserWarning: [10:58:45] WARNING: C:\\buildkite-agent\\builds\\buildkite-windows-cpu-autoscaling-group-i-0b3782d1791676daf-1\\xgboost\\xgboost-ci-windows\\src\\learner.cc:742: \n",
      "Parameters: { \"criterion\" } are not used.\n",
      "\n",
      "  warnings.warn(smsg, UserWarning)\n"
     ]
    },
    {
     "name": "stdout",
     "output_type": "stream",
     "text": [
      "#####################\n",
      "booster  gbtree\n",
      "n_estimators  150\n",
      "eta  0.3\n",
      "max_depth  10\n",
      "lambda  5.0\n",
      "criterion  gini\n",
      "max_leaves  5\n",
      "0.9407826982492276\n"
     ]
    },
    {
     "name": "stderr",
     "output_type": "stream",
     "text": [
      "c:\\Users\\loren\\anaconda3\\envs\\TensorFlow\\lib\\site-packages\\xgboost\\core.py:160: UserWarning: [10:58:45] WARNING: C:\\buildkite-agent\\builds\\buildkite-windows-cpu-autoscaling-group-i-0b3782d1791676daf-1\\xgboost\\xgboost-ci-windows\\src\\learner.cc:742: \n",
      "Parameters: { \"criterion\" } are not used.\n",
      "\n",
      "  warnings.warn(smsg, UserWarning)\n"
     ]
    },
    {
     "name": "stdout",
     "output_type": "stream",
     "text": [
      "#####################\n",
      "booster  gbtree\n",
      "n_estimators  150\n",
      "eta  0.3\n",
      "max_depth  10\n",
      "lambda  5.0\n",
      "criterion  entropy\n",
      "max_leaves  0\n",
      "0.9438722966014418\n"
     ]
    },
    {
     "name": "stderr",
     "output_type": "stream",
     "text": [
      "c:\\Users\\loren\\anaconda3\\envs\\TensorFlow\\lib\\site-packages\\xgboost\\core.py:160: UserWarning: [10:58:47] WARNING: C:\\buildkite-agent\\builds\\buildkite-windows-cpu-autoscaling-group-i-0b3782d1791676daf-1\\xgboost\\xgboost-ci-windows\\src\\learner.cc:742: \n",
      "Parameters: { \"criterion\" } are not used.\n",
      "\n",
      "  warnings.warn(smsg, UserWarning)\n"
     ]
    },
    {
     "name": "stdout",
     "output_type": "stream",
     "text": [
      "#####################\n",
      "booster  gbtree\n",
      "n_estimators  150\n",
      "eta  0.3\n",
      "max_depth  10\n",
      "lambda  5.0\n",
      "criterion  entropy\n",
      "max_leaves  1\n",
      "0.3388259526261586\n"
     ]
    },
    {
     "name": "stderr",
     "output_type": "stream",
     "text": [
      "c:\\Users\\loren\\anaconda3\\envs\\TensorFlow\\lib\\site-packages\\xgboost\\core.py:160: UserWarning: [10:58:47] WARNING: C:\\buildkite-agent\\builds\\buildkite-windows-cpu-autoscaling-group-i-0b3782d1791676daf-1\\xgboost\\xgboost-ci-windows\\src\\learner.cc:742: \n",
      "Parameters: { \"criterion\" } are not used.\n",
      "\n",
      "  warnings.warn(smsg, UserWarning)\n"
     ]
    },
    {
     "name": "stdout",
     "output_type": "stream",
     "text": [
      "#####################\n",
      "booster  gbtree\n",
      "n_estimators  150\n",
      "eta  0.3\n",
      "max_depth  10\n",
      "lambda  5.0\n",
      "criterion  entropy\n",
      "max_leaves  5\n",
      "0.9407826982492276\n"
     ]
    },
    {
     "name": "stderr",
     "output_type": "stream",
     "text": [
      "c:\\Users\\loren\\anaconda3\\envs\\TensorFlow\\lib\\site-packages\\xgboost\\core.py:160: UserWarning: [10:58:48] WARNING: C:\\buildkite-agent\\builds\\buildkite-windows-cpu-autoscaling-group-i-0b3782d1791676daf-1\\xgboost\\xgboost-ci-windows\\src\\learner.cc:742: \n",
      "Parameters: { \"criterion\" } are not used.\n",
      "\n",
      "  warnings.warn(smsg, UserWarning)\n"
     ]
    },
    {
     "name": "stdout",
     "output_type": "stream",
     "text": [
      "#####################\n",
      "booster  gbtree\n",
      "n_estimators  150\n",
      "eta  0.3\n",
      "max_depth  20\n",
      "lambda  0.0\n",
      "criterion  gini\n",
      "max_leaves  0\n",
      "0.9443872296601442\n"
     ]
    },
    {
     "name": "stderr",
     "output_type": "stream",
     "text": [
      "c:\\Users\\loren\\anaconda3\\envs\\TensorFlow\\lib\\site-packages\\xgboost\\core.py:160: UserWarning: [10:58:50] WARNING: C:\\buildkite-agent\\builds\\buildkite-windows-cpu-autoscaling-group-i-0b3782d1791676daf-1\\xgboost\\xgboost-ci-windows\\src\\learner.cc:742: \n",
      "Parameters: { \"criterion\" } are not used.\n",
      "\n",
      "  warnings.warn(smsg, UserWarning)\n"
     ]
    },
    {
     "name": "stdout",
     "output_type": "stream",
     "text": [
      "#####################\n",
      "booster  gbtree\n",
      "n_estimators  150\n",
      "eta  0.3\n",
      "max_depth  20\n",
      "lambda  0.0\n",
      "criterion  gini\n",
      "max_leaves  1\n",
      "0.3388259526261586\n"
     ]
    },
    {
     "name": "stderr",
     "output_type": "stream",
     "text": [
      "c:\\Users\\loren\\anaconda3\\envs\\TensorFlow\\lib\\site-packages\\xgboost\\core.py:160: UserWarning: [10:58:50] WARNING: C:\\buildkite-agent\\builds\\buildkite-windows-cpu-autoscaling-group-i-0b3782d1791676daf-1\\xgboost\\xgboost-ci-windows\\src\\learner.cc:742: \n",
      "Parameters: { \"criterion\" } are not used.\n",
      "\n",
      "  warnings.warn(smsg, UserWarning)\n"
     ]
    },
    {
     "name": "stdout",
     "output_type": "stream",
     "text": [
      "#####################\n",
      "booster  gbtree\n",
      "n_estimators  150\n",
      "eta  0.3\n",
      "max_depth  20\n",
      "lambda  0.0\n",
      "criterion  gini\n",
      "max_leaves  5\n",
      "0.9397528321318228\n"
     ]
    },
    {
     "name": "stderr",
     "output_type": "stream",
     "text": [
      "c:\\Users\\loren\\anaconda3\\envs\\TensorFlow\\lib\\site-packages\\xgboost\\core.py:160: UserWarning: [10:58:51] WARNING: C:\\buildkite-agent\\builds\\buildkite-windows-cpu-autoscaling-group-i-0b3782d1791676daf-1\\xgboost\\xgboost-ci-windows\\src\\learner.cc:742: \n",
      "Parameters: { \"criterion\" } are not used.\n",
      "\n",
      "  warnings.warn(smsg, UserWarning)\n"
     ]
    },
    {
     "name": "stdout",
     "output_type": "stream",
     "text": [
      "#####################\n",
      "booster  gbtree\n",
      "n_estimators  150\n",
      "eta  0.3\n",
      "max_depth  20\n",
      "lambda  0.0\n",
      "criterion  entropy\n",
      "max_leaves  0\n",
      "0.9443872296601442\n"
     ]
    },
    {
     "name": "stderr",
     "output_type": "stream",
     "text": [
      "c:\\Users\\loren\\anaconda3\\envs\\TensorFlow\\lib\\site-packages\\xgboost\\core.py:160: UserWarning: [10:58:54] WARNING: C:\\buildkite-agent\\builds\\buildkite-windows-cpu-autoscaling-group-i-0b3782d1791676daf-1\\xgboost\\xgboost-ci-windows\\src\\learner.cc:742: \n",
      "Parameters: { \"criterion\" } are not used.\n",
      "\n",
      "  warnings.warn(smsg, UserWarning)\n"
     ]
    },
    {
     "name": "stdout",
     "output_type": "stream",
     "text": [
      "#####################\n",
      "booster  gbtree\n",
      "n_estimators  150\n",
      "eta  0.3\n",
      "max_depth  20\n",
      "lambda  0.0\n",
      "criterion  entropy\n",
      "max_leaves  1\n",
      "0.3388259526261586\n"
     ]
    },
    {
     "name": "stderr",
     "output_type": "stream",
     "text": [
      "c:\\Users\\loren\\anaconda3\\envs\\TensorFlow\\lib\\site-packages\\xgboost\\core.py:160: UserWarning: [10:58:54] WARNING: C:\\buildkite-agent\\builds\\buildkite-windows-cpu-autoscaling-group-i-0b3782d1791676daf-1\\xgboost\\xgboost-ci-windows\\src\\learner.cc:742: \n",
      "Parameters: { \"criterion\" } are not used.\n",
      "\n",
      "  warnings.warn(smsg, UserWarning)\n"
     ]
    },
    {
     "name": "stdout",
     "output_type": "stream",
     "text": [
      "#####################\n",
      "booster  gbtree\n",
      "n_estimators  150\n",
      "eta  0.3\n",
      "max_depth  20\n",
      "lambda  0.0\n",
      "criterion  entropy\n",
      "max_leaves  5\n",
      "0.9397528321318228\n"
     ]
    },
    {
     "name": "stderr",
     "output_type": "stream",
     "text": [
      "c:\\Users\\loren\\anaconda3\\envs\\TensorFlow\\lib\\site-packages\\xgboost\\core.py:160: UserWarning: [10:58:55] WARNING: C:\\buildkite-agent\\builds\\buildkite-windows-cpu-autoscaling-group-i-0b3782d1791676daf-1\\xgboost\\xgboost-ci-windows\\src\\learner.cc:742: \n",
      "Parameters: { \"criterion\" } are not used.\n",
      "\n",
      "  warnings.warn(smsg, UserWarning)\n"
     ]
    },
    {
     "name": "stdout",
     "output_type": "stream",
     "text": [
      "#####################\n",
      "booster  gbtree\n",
      "n_estimators  150\n",
      "eta  0.3\n",
      "max_depth  20\n",
      "lambda  1.0\n",
      "criterion  gini\n",
      "max_leaves  0\n",
      "0.942842430484037\n"
     ]
    },
    {
     "name": "stderr",
     "output_type": "stream",
     "text": [
      "c:\\Users\\loren\\anaconda3\\envs\\TensorFlow\\lib\\site-packages\\xgboost\\core.py:160: UserWarning: [10:58:57] WARNING: C:\\buildkite-agent\\builds\\buildkite-windows-cpu-autoscaling-group-i-0b3782d1791676daf-1\\xgboost\\xgboost-ci-windows\\src\\learner.cc:742: \n",
      "Parameters: { \"criterion\" } are not used.\n",
      "\n",
      "  warnings.warn(smsg, UserWarning)\n"
     ]
    },
    {
     "name": "stdout",
     "output_type": "stream",
     "text": [
      "#####################\n",
      "booster  gbtree\n",
      "n_estimators  150\n",
      "eta  0.3\n",
      "max_depth  20\n",
      "lambda  1.0\n",
      "criterion  gini\n",
      "max_leaves  1\n",
      "0.3388259526261586\n"
     ]
    },
    {
     "name": "stderr",
     "output_type": "stream",
     "text": [
      "c:\\Users\\loren\\anaconda3\\envs\\TensorFlow\\lib\\site-packages\\xgboost\\core.py:160: UserWarning: [10:58:57] WARNING: C:\\buildkite-agent\\builds\\buildkite-windows-cpu-autoscaling-group-i-0b3782d1791676daf-1\\xgboost\\xgboost-ci-windows\\src\\learner.cc:742: \n",
      "Parameters: { \"criterion\" } are not used.\n",
      "\n",
      "  warnings.warn(smsg, UserWarning)\n"
     ]
    },
    {
     "name": "stdout",
     "output_type": "stream",
     "text": [
      "#####################\n",
      "booster  gbtree\n",
      "n_estimators  150\n",
      "eta  0.3\n",
      "max_depth  20\n",
      "lambda  1.0\n",
      "criterion  gini\n",
      "max_leaves  5\n",
      "0.9376930998970134\n"
     ]
    },
    {
     "name": "stderr",
     "output_type": "stream",
     "text": [
      "c:\\Users\\loren\\anaconda3\\envs\\TensorFlow\\lib\\site-packages\\xgboost\\core.py:160: UserWarning: [10:58:57] WARNING: C:\\buildkite-agent\\builds\\buildkite-windows-cpu-autoscaling-group-i-0b3782d1791676daf-1\\xgboost\\xgboost-ci-windows\\src\\learner.cc:742: \n",
      "Parameters: { \"criterion\" } are not used.\n",
      "\n",
      "  warnings.warn(smsg, UserWarning)\n"
     ]
    },
    {
     "name": "stdout",
     "output_type": "stream",
     "text": [
      "#####################\n",
      "booster  gbtree\n",
      "n_estimators  150\n",
      "eta  0.3\n",
      "max_depth  20\n",
      "lambda  1.0\n",
      "criterion  entropy\n",
      "max_leaves  0\n",
      "0.942842430484037\n"
     ]
    },
    {
     "name": "stderr",
     "output_type": "stream",
     "text": [
      "c:\\Users\\loren\\anaconda3\\envs\\TensorFlow\\lib\\site-packages\\xgboost\\core.py:160: UserWarning: [10:58:59] WARNING: C:\\buildkite-agent\\builds\\buildkite-windows-cpu-autoscaling-group-i-0b3782d1791676daf-1\\xgboost\\xgboost-ci-windows\\src\\learner.cc:742: \n",
      "Parameters: { \"criterion\" } are not used.\n",
      "\n",
      "  warnings.warn(smsg, UserWarning)\n"
     ]
    },
    {
     "name": "stdout",
     "output_type": "stream",
     "text": [
      "#####################\n",
      "booster  gbtree\n",
      "n_estimators  150\n",
      "eta  0.3\n",
      "max_depth  20\n",
      "lambda  1.0\n",
      "criterion  entropy\n",
      "max_leaves  1\n",
      "0.3388259526261586\n"
     ]
    },
    {
     "name": "stderr",
     "output_type": "stream",
     "text": [
      "c:\\Users\\loren\\anaconda3\\envs\\TensorFlow\\lib\\site-packages\\xgboost\\core.py:160: UserWarning: [10:58:59] WARNING: C:\\buildkite-agent\\builds\\buildkite-windows-cpu-autoscaling-group-i-0b3782d1791676daf-1\\xgboost\\xgboost-ci-windows\\src\\learner.cc:742: \n",
      "Parameters: { \"criterion\" } are not used.\n",
      "\n",
      "  warnings.warn(smsg, UserWarning)\n"
     ]
    },
    {
     "name": "stdout",
     "output_type": "stream",
     "text": [
      "#####################\n",
      "booster  gbtree\n",
      "n_estimators  150\n",
      "eta  0.3\n",
      "max_depth  20\n",
      "lambda  1.0\n",
      "criterion  entropy\n",
      "max_leaves  5\n",
      "0.9376930998970134\n"
     ]
    },
    {
     "name": "stderr",
     "output_type": "stream",
     "text": [
      "c:\\Users\\loren\\anaconda3\\envs\\TensorFlow\\lib\\site-packages\\xgboost\\core.py:160: UserWarning: [10:59:00] WARNING: C:\\buildkite-agent\\builds\\buildkite-windows-cpu-autoscaling-group-i-0b3782d1791676daf-1\\xgboost\\xgboost-ci-windows\\src\\learner.cc:742: \n",
      "Parameters: { \"criterion\" } are not used.\n",
      "\n",
      "  warnings.warn(smsg, UserWarning)\n"
     ]
    },
    {
     "name": "stdout",
     "output_type": "stream",
     "text": [
      "#####################\n",
      "booster  gbtree\n",
      "n_estimators  150\n",
      "eta  0.3\n",
      "max_depth  20\n",
      "lambda  5.0\n",
      "criterion  gini\n",
      "max_leaves  0\n",
      "0.9443872296601442\n"
     ]
    },
    {
     "name": "stderr",
     "output_type": "stream",
     "text": [
      "c:\\Users\\loren\\anaconda3\\envs\\TensorFlow\\lib\\site-packages\\xgboost\\core.py:160: UserWarning: [10:59:02] WARNING: C:\\buildkite-agent\\builds\\buildkite-windows-cpu-autoscaling-group-i-0b3782d1791676daf-1\\xgboost\\xgboost-ci-windows\\src\\learner.cc:742: \n",
      "Parameters: { \"criterion\" } are not used.\n",
      "\n",
      "  warnings.warn(smsg, UserWarning)\n"
     ]
    },
    {
     "name": "stdout",
     "output_type": "stream",
     "text": [
      "#####################\n",
      "booster  gbtree\n",
      "n_estimators  150\n",
      "eta  0.3\n",
      "max_depth  20\n",
      "lambda  5.0\n",
      "criterion  gini\n",
      "max_leaves  1\n",
      "0.3388259526261586\n"
     ]
    },
    {
     "name": "stderr",
     "output_type": "stream",
     "text": [
      "c:\\Users\\loren\\anaconda3\\envs\\TensorFlow\\lib\\site-packages\\xgboost\\core.py:160: UserWarning: [10:59:02] WARNING: C:\\buildkite-agent\\builds\\buildkite-windows-cpu-autoscaling-group-i-0b3782d1791676daf-1\\xgboost\\xgboost-ci-windows\\src\\learner.cc:742: \n",
      "Parameters: { \"criterion\" } are not used.\n",
      "\n",
      "  warnings.warn(smsg, UserWarning)\n"
     ]
    },
    {
     "name": "stdout",
     "output_type": "stream",
     "text": [
      "#####################\n",
      "booster  gbtree\n",
      "n_estimators  150\n",
      "eta  0.3\n",
      "max_depth  20\n",
      "lambda  5.0\n",
      "criterion  gini\n",
      "max_leaves  5\n",
      "0.9407826982492276\n"
     ]
    },
    {
     "name": "stderr",
     "output_type": "stream",
     "text": [
      "c:\\Users\\loren\\anaconda3\\envs\\TensorFlow\\lib\\site-packages\\xgboost\\core.py:160: UserWarning: [10:59:03] WARNING: C:\\buildkite-agent\\builds\\buildkite-windows-cpu-autoscaling-group-i-0b3782d1791676daf-1\\xgboost\\xgboost-ci-windows\\src\\learner.cc:742: \n",
      "Parameters: { \"criterion\" } are not used.\n",
      "\n",
      "  warnings.warn(smsg, UserWarning)\n"
     ]
    },
    {
     "name": "stdout",
     "output_type": "stream",
     "text": [
      "#####################\n",
      "booster  gbtree\n",
      "n_estimators  150\n",
      "eta  0.3\n",
      "max_depth  20\n",
      "lambda  5.0\n",
      "criterion  entropy\n",
      "max_leaves  0\n",
      "0.9443872296601442\n"
     ]
    },
    {
     "name": "stderr",
     "output_type": "stream",
     "text": [
      "c:\\Users\\loren\\anaconda3\\envs\\TensorFlow\\lib\\site-packages\\xgboost\\core.py:160: UserWarning: [10:59:05] WARNING: C:\\buildkite-agent\\builds\\buildkite-windows-cpu-autoscaling-group-i-0b3782d1791676daf-1\\xgboost\\xgboost-ci-windows\\src\\learner.cc:742: \n",
      "Parameters: { \"criterion\" } are not used.\n",
      "\n",
      "  warnings.warn(smsg, UserWarning)\n"
     ]
    },
    {
     "name": "stdout",
     "output_type": "stream",
     "text": [
      "#####################\n",
      "booster  gbtree\n",
      "n_estimators  150\n",
      "eta  0.3\n",
      "max_depth  20\n",
      "lambda  5.0\n",
      "criterion  entropy\n",
      "max_leaves  1\n",
      "0.3388259526261586\n"
     ]
    },
    {
     "name": "stderr",
     "output_type": "stream",
     "text": [
      "c:\\Users\\loren\\anaconda3\\envs\\TensorFlow\\lib\\site-packages\\xgboost\\core.py:160: UserWarning: [10:59:05] WARNING: C:\\buildkite-agent\\builds\\buildkite-windows-cpu-autoscaling-group-i-0b3782d1791676daf-1\\xgboost\\xgboost-ci-windows\\src\\learner.cc:742: \n",
      "Parameters: { \"criterion\" } are not used.\n",
      "\n",
      "  warnings.warn(smsg, UserWarning)\n"
     ]
    },
    {
     "name": "stdout",
     "output_type": "stream",
     "text": [
      "#####################\n",
      "booster  gbtree\n",
      "n_estimators  150\n",
      "eta  0.3\n",
      "max_depth  20\n",
      "lambda  5.0\n",
      "criterion  entropy\n",
      "max_leaves  5\n",
      "0.9407826982492276\n"
     ]
    },
    {
     "name": "stderr",
     "output_type": "stream",
     "text": [
      "c:\\Users\\loren\\anaconda3\\envs\\TensorFlow\\lib\\site-packages\\xgboost\\core.py:160: UserWarning: [10:59:06] WARNING: C:\\buildkite-agent\\builds\\buildkite-windows-cpu-autoscaling-group-i-0b3782d1791676daf-1\\xgboost\\xgboost-ci-windows\\src\\learner.cc:742: \n",
      "Parameters: { \"criterion\" } are not used.\n",
      "\n",
      "  warnings.warn(smsg, UserWarning)\n"
     ]
    },
    {
     "name": "stdout",
     "output_type": "stream",
     "text": [
      "#####################\n",
      "booster  gbtree\n",
      "n_estimators  150\n",
      "eta  0.3\n",
      "max_depth  30\n",
      "lambda  0.0\n",
      "criterion  gini\n",
      "max_leaves  0\n",
      "0.9433573635427395\n",
      "#####################\n",
      "booster  gbtree\n",
      "n_estimators  150\n",
      "eta  0.3\n",
      "max_depth  30\n",
      "lambda  0.0\n",
      "criterion  gini\n",
      "max_leaves  1\n",
      "0.3388259526261586\n"
     ]
    },
    {
     "name": "stderr",
     "output_type": "stream",
     "text": [
      "c:\\Users\\loren\\anaconda3\\envs\\TensorFlow\\lib\\site-packages\\xgboost\\core.py:160: UserWarning: [10:59:08] WARNING: C:\\buildkite-agent\\builds\\buildkite-windows-cpu-autoscaling-group-i-0b3782d1791676daf-1\\xgboost\\xgboost-ci-windows\\src\\learner.cc:742: \n",
      "Parameters: { \"criterion\" } are not used.\n",
      "\n",
      "  warnings.warn(smsg, UserWarning)\n",
      "c:\\Users\\loren\\anaconda3\\envs\\TensorFlow\\lib\\site-packages\\xgboost\\core.py:160: UserWarning: [10:59:09] WARNING: C:\\buildkite-agent\\builds\\buildkite-windows-cpu-autoscaling-group-i-0b3782d1791676daf-1\\xgboost\\xgboost-ci-windows\\src\\learner.cc:742: \n",
      "Parameters: { \"criterion\" } are not used.\n",
      "\n",
      "  warnings.warn(smsg, UserWarning)\n"
     ]
    },
    {
     "name": "stdout",
     "output_type": "stream",
     "text": [
      "#####################\n",
      "booster  gbtree\n",
      "n_estimators  150\n",
      "eta  0.3\n",
      "max_depth  30\n",
      "lambda  0.0\n",
      "criterion  gini\n",
      "max_leaves  5\n",
      "0.9397528321318228\n"
     ]
    },
    {
     "name": "stderr",
     "output_type": "stream",
     "text": [
      "c:\\Users\\loren\\anaconda3\\envs\\TensorFlow\\lib\\site-packages\\xgboost\\core.py:160: UserWarning: [10:59:09] WARNING: C:\\buildkite-agent\\builds\\buildkite-windows-cpu-autoscaling-group-i-0b3782d1791676daf-1\\xgboost\\xgboost-ci-windows\\src\\learner.cc:742: \n",
      "Parameters: { \"criterion\" } are not used.\n",
      "\n",
      "  warnings.warn(smsg, UserWarning)\n"
     ]
    },
    {
     "name": "stdout",
     "output_type": "stream",
     "text": [
      "#####################\n",
      "booster  gbtree\n",
      "n_estimators  150\n",
      "eta  0.3\n",
      "max_depth  30\n",
      "lambda  0.0\n",
      "criterion  entropy\n",
      "max_leaves  0\n",
      "0.9433573635427395\n"
     ]
    },
    {
     "name": "stderr",
     "output_type": "stream",
     "text": [
      "c:\\Users\\loren\\anaconda3\\envs\\TensorFlow\\lib\\site-packages\\xgboost\\core.py:160: UserWarning: [10:59:12] WARNING: C:\\buildkite-agent\\builds\\buildkite-windows-cpu-autoscaling-group-i-0b3782d1791676daf-1\\xgboost\\xgboost-ci-windows\\src\\learner.cc:742: \n",
      "Parameters: { \"criterion\" } are not used.\n",
      "\n",
      "  warnings.warn(smsg, UserWarning)\n"
     ]
    },
    {
     "name": "stdout",
     "output_type": "stream",
     "text": [
      "#####################\n",
      "booster  gbtree\n",
      "n_estimators  150\n",
      "eta  0.3\n",
      "max_depth  30\n",
      "lambda  0.0\n",
      "criterion  entropy\n",
      "max_leaves  1\n",
      "0.3388259526261586\n"
     ]
    },
    {
     "name": "stderr",
     "output_type": "stream",
     "text": [
      "c:\\Users\\loren\\anaconda3\\envs\\TensorFlow\\lib\\site-packages\\xgboost\\core.py:160: UserWarning: [10:59:12] WARNING: C:\\buildkite-agent\\builds\\buildkite-windows-cpu-autoscaling-group-i-0b3782d1791676daf-1\\xgboost\\xgboost-ci-windows\\src\\learner.cc:742: \n",
      "Parameters: { \"criterion\" } are not used.\n",
      "\n",
      "  warnings.warn(smsg, UserWarning)\n"
     ]
    },
    {
     "name": "stdout",
     "output_type": "stream",
     "text": [
      "#####################\n",
      "booster  gbtree\n",
      "n_estimators  150\n",
      "eta  0.3\n",
      "max_depth  30\n",
      "lambda  0.0\n",
      "criterion  entropy\n",
      "max_leaves  5\n",
      "0.9397528321318228\n"
     ]
    },
    {
     "name": "stderr",
     "output_type": "stream",
     "text": [
      "c:\\Users\\loren\\anaconda3\\envs\\TensorFlow\\lib\\site-packages\\xgboost\\core.py:160: UserWarning: [10:59:13] WARNING: C:\\buildkite-agent\\builds\\buildkite-windows-cpu-autoscaling-group-i-0b3782d1791676daf-1\\xgboost\\xgboost-ci-windows\\src\\learner.cc:742: \n",
      "Parameters: { \"criterion\" } are not used.\n",
      "\n",
      "  warnings.warn(smsg, UserWarning)\n"
     ]
    },
    {
     "name": "stdout",
     "output_type": "stream",
     "text": [
      "#####################\n",
      "booster  gbtree\n",
      "n_estimators  150\n",
      "eta  0.3\n",
      "max_depth  30\n",
      "lambda  1.0\n",
      "criterion  gini\n",
      "max_leaves  0\n",
      "0.9459320288362513\n"
     ]
    },
    {
     "name": "stderr",
     "output_type": "stream",
     "text": [
      "c:\\Users\\loren\\anaconda3\\envs\\TensorFlow\\lib\\site-packages\\xgboost\\core.py:160: UserWarning: [10:59:14] WARNING: C:\\buildkite-agent\\builds\\buildkite-windows-cpu-autoscaling-group-i-0b3782d1791676daf-1\\xgboost\\xgboost-ci-windows\\src\\learner.cc:742: \n",
      "Parameters: { \"criterion\" } are not used.\n",
      "\n",
      "  warnings.warn(smsg, UserWarning)\n"
     ]
    },
    {
     "name": "stdout",
     "output_type": "stream",
     "text": [
      "#####################\n",
      "booster  gbtree\n",
      "n_estimators  150\n",
      "eta  0.3\n",
      "max_depth  30\n",
      "lambda  1.0\n",
      "criterion  gini\n",
      "max_leaves  1\n",
      "0.3388259526261586\n"
     ]
    },
    {
     "name": "stderr",
     "output_type": "stream",
     "text": [
      "c:\\Users\\loren\\anaconda3\\envs\\TensorFlow\\lib\\site-packages\\xgboost\\core.py:160: UserWarning: [10:59:14] WARNING: C:\\buildkite-agent\\builds\\buildkite-windows-cpu-autoscaling-group-i-0b3782d1791676daf-1\\xgboost\\xgboost-ci-windows\\src\\learner.cc:742: \n",
      "Parameters: { \"criterion\" } are not used.\n",
      "\n",
      "  warnings.warn(smsg, UserWarning)\n"
     ]
    },
    {
     "name": "stdout",
     "output_type": "stream",
     "text": [
      "#####################\n",
      "booster  gbtree\n",
      "n_estimators  150\n",
      "eta  0.3\n",
      "max_depth  30\n",
      "lambda  1.0\n",
      "criterion  gini\n",
      "max_leaves  5\n",
      "0.9376930998970134\n"
     ]
    },
    {
     "name": "stderr",
     "output_type": "stream",
     "text": [
      "c:\\Users\\loren\\anaconda3\\envs\\TensorFlow\\lib\\site-packages\\xgboost\\core.py:160: UserWarning: [10:59:15] WARNING: C:\\buildkite-agent\\builds\\buildkite-windows-cpu-autoscaling-group-i-0b3782d1791676daf-1\\xgboost\\xgboost-ci-windows\\src\\learner.cc:742: \n",
      "Parameters: { \"criterion\" } are not used.\n",
      "\n",
      "  warnings.warn(smsg, UserWarning)\n"
     ]
    },
    {
     "name": "stdout",
     "output_type": "stream",
     "text": [
      "#####################\n",
      "booster  gbtree\n",
      "n_estimators  150\n",
      "eta  0.3\n",
      "max_depth  30\n",
      "lambda  1.0\n",
      "criterion  entropy\n",
      "max_leaves  0\n",
      "0.9459320288362513\n"
     ]
    },
    {
     "name": "stderr",
     "output_type": "stream",
     "text": [
      "c:\\Users\\loren\\anaconda3\\envs\\TensorFlow\\lib\\site-packages\\xgboost\\core.py:160: UserWarning: [10:59:16] WARNING: C:\\buildkite-agent\\builds\\buildkite-windows-cpu-autoscaling-group-i-0b3782d1791676daf-1\\xgboost\\xgboost-ci-windows\\src\\learner.cc:742: \n",
      "Parameters: { \"criterion\" } are not used.\n",
      "\n",
      "  warnings.warn(smsg, UserWarning)\n"
     ]
    },
    {
     "name": "stdout",
     "output_type": "stream",
     "text": [
      "#####################\n",
      "booster  gbtree\n",
      "n_estimators  150\n",
      "eta  0.3\n",
      "max_depth  30\n",
      "lambda  1.0\n",
      "criterion  entropy\n",
      "max_leaves  1\n",
      "0.3388259526261586\n"
     ]
    },
    {
     "name": "stderr",
     "output_type": "stream",
     "text": [
      "c:\\Users\\loren\\anaconda3\\envs\\TensorFlow\\lib\\site-packages\\xgboost\\core.py:160: UserWarning: [10:59:16] WARNING: C:\\buildkite-agent\\builds\\buildkite-windows-cpu-autoscaling-group-i-0b3782d1791676daf-1\\xgboost\\xgboost-ci-windows\\src\\learner.cc:742: \n",
      "Parameters: { \"criterion\" } are not used.\n",
      "\n",
      "  warnings.warn(smsg, UserWarning)\n"
     ]
    },
    {
     "name": "stdout",
     "output_type": "stream",
     "text": [
      "#####################\n",
      "booster  gbtree\n",
      "n_estimators  150\n",
      "eta  0.3\n",
      "max_depth  30\n",
      "lambda  1.0\n",
      "criterion  entropy\n",
      "max_leaves  5\n",
      "0.9376930998970134\n"
     ]
    },
    {
     "name": "stderr",
     "output_type": "stream",
     "text": [
      "c:\\Users\\loren\\anaconda3\\envs\\TensorFlow\\lib\\site-packages\\xgboost\\core.py:160: UserWarning: [10:59:17] WARNING: C:\\buildkite-agent\\builds\\buildkite-windows-cpu-autoscaling-group-i-0b3782d1791676daf-1\\xgboost\\xgboost-ci-windows\\src\\learner.cc:742: \n",
      "Parameters: { \"criterion\" } are not used.\n",
      "\n",
      "  warnings.warn(smsg, UserWarning)\n"
     ]
    },
    {
     "name": "stdout",
     "output_type": "stream",
     "text": [
      "#####################\n",
      "booster  gbtree\n",
      "n_estimators  150\n",
      "eta  0.3\n",
      "max_depth  30\n",
      "lambda  5.0\n",
      "criterion  gini\n",
      "max_leaves  0\n",
      "0.9443872296601442\n"
     ]
    },
    {
     "name": "stderr",
     "output_type": "stream",
     "text": [
      "c:\\Users\\loren\\anaconda3\\envs\\TensorFlow\\lib\\site-packages\\xgboost\\core.py:160: UserWarning: [10:59:18] WARNING: C:\\buildkite-agent\\builds\\buildkite-windows-cpu-autoscaling-group-i-0b3782d1791676daf-1\\xgboost\\xgboost-ci-windows\\src\\learner.cc:742: \n",
      "Parameters: { \"criterion\" } are not used.\n",
      "\n",
      "  warnings.warn(smsg, UserWarning)\n"
     ]
    },
    {
     "name": "stdout",
     "output_type": "stream",
     "text": [
      "#####################\n",
      "booster  gbtree\n",
      "n_estimators  150\n",
      "eta  0.3\n",
      "max_depth  30\n",
      "lambda  5.0\n",
      "criterion  gini\n",
      "max_leaves  1\n",
      "0.3388259526261586\n"
     ]
    },
    {
     "name": "stderr",
     "output_type": "stream",
     "text": [
      "c:\\Users\\loren\\anaconda3\\envs\\TensorFlow\\lib\\site-packages\\xgboost\\core.py:160: UserWarning: [10:59:19] WARNING: C:\\buildkite-agent\\builds\\buildkite-windows-cpu-autoscaling-group-i-0b3782d1791676daf-1\\xgboost\\xgboost-ci-windows\\src\\learner.cc:742: \n",
      "Parameters: { \"criterion\" } are not used.\n",
      "\n",
      "  warnings.warn(smsg, UserWarning)\n"
     ]
    },
    {
     "name": "stdout",
     "output_type": "stream",
     "text": [
      "#####################\n",
      "booster  gbtree\n",
      "n_estimators  150\n",
      "eta  0.3\n",
      "max_depth  30\n",
      "lambda  5.0\n",
      "criterion  gini\n",
      "max_leaves  5\n",
      "0.9407826982492276\n"
     ]
    },
    {
     "name": "stderr",
     "output_type": "stream",
     "text": [
      "c:\\Users\\loren\\anaconda3\\envs\\TensorFlow\\lib\\site-packages\\xgboost\\core.py:160: UserWarning: [10:59:19] WARNING: C:\\buildkite-agent\\builds\\buildkite-windows-cpu-autoscaling-group-i-0b3782d1791676daf-1\\xgboost\\xgboost-ci-windows\\src\\learner.cc:742: \n",
      "Parameters: { \"criterion\" } are not used.\n",
      "\n",
      "  warnings.warn(smsg, UserWarning)\n"
     ]
    },
    {
     "name": "stdout",
     "output_type": "stream",
     "text": [
      "#####################\n",
      "booster  gbtree\n",
      "n_estimators  150\n",
      "eta  0.3\n",
      "max_depth  30\n",
      "lambda  5.0\n",
      "criterion  entropy\n",
      "max_leaves  0\n",
      "0.9443872296601442\n"
     ]
    },
    {
     "name": "stderr",
     "output_type": "stream",
     "text": [
      "c:\\Users\\loren\\anaconda3\\envs\\TensorFlow\\lib\\site-packages\\xgboost\\core.py:160: UserWarning: [10:59:21] WARNING: C:\\buildkite-agent\\builds\\buildkite-windows-cpu-autoscaling-group-i-0b3782d1791676daf-1\\xgboost\\xgboost-ci-windows\\src\\learner.cc:742: \n",
      "Parameters: { \"criterion\" } are not used.\n",
      "\n",
      "  warnings.warn(smsg, UserWarning)\n"
     ]
    },
    {
     "name": "stdout",
     "output_type": "stream",
     "text": [
      "#####################\n",
      "booster  gbtree\n",
      "n_estimators  150\n",
      "eta  0.3\n",
      "max_depth  30\n",
      "lambda  5.0\n",
      "criterion  entropy\n",
      "max_leaves  1\n",
      "0.3388259526261586\n"
     ]
    },
    {
     "name": "stderr",
     "output_type": "stream",
     "text": [
      "c:\\Users\\loren\\anaconda3\\envs\\TensorFlow\\lib\\site-packages\\xgboost\\core.py:160: UserWarning: [10:59:21] WARNING: C:\\buildkite-agent\\builds\\buildkite-windows-cpu-autoscaling-group-i-0b3782d1791676daf-1\\xgboost\\xgboost-ci-windows\\src\\learner.cc:742: \n",
      "Parameters: { \"criterion\" } are not used.\n",
      "\n",
      "  warnings.warn(smsg, UserWarning)\n"
     ]
    },
    {
     "name": "stdout",
     "output_type": "stream",
     "text": [
      "#####################\n",
      "booster  gbtree\n",
      "n_estimators  150\n",
      "eta  0.3\n",
      "max_depth  30\n",
      "lambda  5.0\n",
      "criterion  entropy\n",
      "max_leaves  5\n",
      "0.9407826982492276\n"
     ]
    },
    {
     "name": "stderr",
     "output_type": "stream",
     "text": [
      "c:\\Users\\loren\\anaconda3\\envs\\TensorFlow\\lib\\site-packages\\xgboost\\core.py:160: UserWarning: [10:59:21] WARNING: C:\\buildkite-agent\\builds\\buildkite-windows-cpu-autoscaling-group-i-0b3782d1791676daf-1\\xgboost\\xgboost-ci-windows\\src\\learner.cc:742: \n",
      "Parameters: { \"criterion\" } are not used.\n",
      "\n",
      "  warnings.warn(smsg, UserWarning)\n"
     ]
    },
    {
     "name": "stdout",
     "output_type": "stream",
     "text": [
      "#####################\n",
      "booster  gbtree\n",
      "n_estimators  150\n",
      "eta  0.7\n",
      "max_depth  5\n",
      "lambda  0.0\n",
      "criterion  gini\n",
      "max_leaves  0\n",
      "0.9423274974253347\n"
     ]
    },
    {
     "name": "stderr",
     "output_type": "stream",
     "text": [
      "c:\\Users\\loren\\anaconda3\\envs\\TensorFlow\\lib\\site-packages\\xgboost\\core.py:160: UserWarning: [10:59:22] WARNING: C:\\buildkite-agent\\builds\\buildkite-windows-cpu-autoscaling-group-i-0b3782d1791676daf-1\\xgboost\\xgboost-ci-windows\\src\\learner.cc:742: \n",
      "Parameters: { \"criterion\" } are not used.\n",
      "\n",
      "  warnings.warn(smsg, UserWarning)\n"
     ]
    },
    {
     "name": "stdout",
     "output_type": "stream",
     "text": [
      "#####################\n",
      "booster  gbtree\n",
      "n_estimators  150\n",
      "eta  0.7\n",
      "max_depth  5\n",
      "lambda  0.0\n",
      "criterion  gini\n",
      "max_leaves  1\n",
      "0.3388259526261586\n"
     ]
    },
    {
     "name": "stderr",
     "output_type": "stream",
     "text": [
      "c:\\Users\\loren\\anaconda3\\envs\\TensorFlow\\lib\\site-packages\\xgboost\\core.py:160: UserWarning: [10:59:22] WARNING: C:\\buildkite-agent\\builds\\buildkite-windows-cpu-autoscaling-group-i-0b3782d1791676daf-1\\xgboost\\xgboost-ci-windows\\src\\learner.cc:742: \n",
      "Parameters: { \"criterion\" } are not used.\n",
      "\n",
      "  warnings.warn(smsg, UserWarning)\n"
     ]
    },
    {
     "name": "stdout",
     "output_type": "stream",
     "text": [
      "#####################\n",
      "booster  gbtree\n",
      "n_estimators  150\n",
      "eta  0.7\n",
      "max_depth  5\n",
      "lambda  0.0\n",
      "criterion  gini\n",
      "max_leaves  5\n",
      "0.9407826982492276\n"
     ]
    },
    {
     "name": "stderr",
     "output_type": "stream",
     "text": [
      "c:\\Users\\loren\\anaconda3\\envs\\TensorFlow\\lib\\site-packages\\xgboost\\core.py:160: UserWarning: [10:59:23] WARNING: C:\\buildkite-agent\\builds\\buildkite-windows-cpu-autoscaling-group-i-0b3782d1791676daf-1\\xgboost\\xgboost-ci-windows\\src\\learner.cc:742: \n",
      "Parameters: { \"criterion\" } are not used.\n",
      "\n",
      "  warnings.warn(smsg, UserWarning)\n"
     ]
    },
    {
     "name": "stdout",
     "output_type": "stream",
     "text": [
      "#####################\n",
      "booster  gbtree\n",
      "n_estimators  150\n",
      "eta  0.7\n",
      "max_depth  5\n",
      "lambda  0.0\n",
      "criterion  entropy\n",
      "max_leaves  0\n",
      "0.9423274974253347\n"
     ]
    },
    {
     "name": "stderr",
     "output_type": "stream",
     "text": [
      "c:\\Users\\loren\\anaconda3\\envs\\TensorFlow\\lib\\site-packages\\xgboost\\core.py:160: UserWarning: [10:59:23] WARNING: C:\\buildkite-agent\\builds\\buildkite-windows-cpu-autoscaling-group-i-0b3782d1791676daf-1\\xgboost\\xgboost-ci-windows\\src\\learner.cc:742: \n",
      "Parameters: { \"criterion\" } are not used.\n",
      "\n",
      "  warnings.warn(smsg, UserWarning)\n"
     ]
    },
    {
     "name": "stdout",
     "output_type": "stream",
     "text": [
      "#####################\n",
      "booster  gbtree\n",
      "n_estimators  150\n",
      "eta  0.7\n",
      "max_depth  5\n",
      "lambda  0.0\n",
      "criterion  entropy\n",
      "max_leaves  1\n",
      "0.3388259526261586\n"
     ]
    },
    {
     "name": "stderr",
     "output_type": "stream",
     "text": [
      "c:\\Users\\loren\\anaconda3\\envs\\TensorFlow\\lib\\site-packages\\xgboost\\core.py:160: UserWarning: [10:59:24] WARNING: C:\\buildkite-agent\\builds\\buildkite-windows-cpu-autoscaling-group-i-0b3782d1791676daf-1\\xgboost\\xgboost-ci-windows\\src\\learner.cc:742: \n",
      "Parameters: { \"criterion\" } are not used.\n",
      "\n",
      "  warnings.warn(smsg, UserWarning)\n"
     ]
    },
    {
     "name": "stdout",
     "output_type": "stream",
     "text": [
      "#####################\n",
      "booster  gbtree\n",
      "n_estimators  150\n",
      "eta  0.7\n",
      "max_depth  5\n",
      "lambda  0.0\n",
      "criterion  entropy\n",
      "max_leaves  5\n",
      "0.9407826982492276\n"
     ]
    },
    {
     "name": "stderr",
     "output_type": "stream",
     "text": [
      "c:\\Users\\loren\\anaconda3\\envs\\TensorFlow\\lib\\site-packages\\xgboost\\core.py:160: UserWarning: [10:59:24] WARNING: C:\\buildkite-agent\\builds\\buildkite-windows-cpu-autoscaling-group-i-0b3782d1791676daf-1\\xgboost\\xgboost-ci-windows\\src\\learner.cc:742: \n",
      "Parameters: { \"criterion\" } are not used.\n",
      "\n",
      "  warnings.warn(smsg, UserWarning)\n"
     ]
    },
    {
     "name": "stdout",
     "output_type": "stream",
     "text": [
      "#####################\n",
      "booster  gbtree\n",
      "n_estimators  150\n",
      "eta  0.7\n",
      "max_depth  5\n",
      "lambda  1.0\n",
      "criterion  gini\n",
      "max_leaves  0\n",
      "0.946961894953656\n"
     ]
    },
    {
     "name": "stderr",
     "output_type": "stream",
     "text": [
      "c:\\Users\\loren\\anaconda3\\envs\\TensorFlow\\lib\\site-packages\\xgboost\\core.py:160: UserWarning: [10:59:25] WARNING: C:\\buildkite-agent\\builds\\buildkite-windows-cpu-autoscaling-group-i-0b3782d1791676daf-1\\xgboost\\xgboost-ci-windows\\src\\learner.cc:742: \n",
      "Parameters: { \"criterion\" } are not used.\n",
      "\n",
      "  warnings.warn(smsg, UserWarning)\n"
     ]
    },
    {
     "name": "stdout",
     "output_type": "stream",
     "text": [
      "#####################\n",
      "booster  gbtree\n",
      "n_estimators  150\n",
      "eta  0.7\n",
      "max_depth  5\n",
      "lambda  1.0\n",
      "criterion  gini\n",
      "max_leaves  1\n",
      "0.3388259526261586\n"
     ]
    },
    {
     "name": "stderr",
     "output_type": "stream",
     "text": [
      "c:\\Users\\loren\\anaconda3\\envs\\TensorFlow\\lib\\site-packages\\xgboost\\core.py:160: UserWarning: [10:59:25] WARNING: C:\\buildkite-agent\\builds\\buildkite-windows-cpu-autoscaling-group-i-0b3782d1791676daf-1\\xgboost\\xgboost-ci-windows\\src\\learner.cc:742: \n",
      "Parameters: { \"criterion\" } are not used.\n",
      "\n",
      "  warnings.warn(smsg, UserWarning)\n"
     ]
    },
    {
     "name": "stdout",
     "output_type": "stream",
     "text": [
      "#####################\n",
      "booster  gbtree\n",
      "n_estimators  150\n",
      "eta  0.7\n",
      "max_depth  5\n",
      "lambda  1.0\n",
      "criterion  gini\n",
      "max_leaves  5\n",
      "0.9407826982492276\n"
     ]
    },
    {
     "name": "stderr",
     "output_type": "stream",
     "text": [
      "c:\\Users\\loren\\anaconda3\\envs\\TensorFlow\\lib\\site-packages\\xgboost\\core.py:160: UserWarning: [10:59:26] WARNING: C:\\buildkite-agent\\builds\\buildkite-windows-cpu-autoscaling-group-i-0b3782d1791676daf-1\\xgboost\\xgboost-ci-windows\\src\\learner.cc:742: \n",
      "Parameters: { \"criterion\" } are not used.\n",
      "\n",
      "  warnings.warn(smsg, UserWarning)\n"
     ]
    },
    {
     "name": "stdout",
     "output_type": "stream",
     "text": [
      "#####################\n",
      "booster  gbtree\n",
      "n_estimators  150\n",
      "eta  0.7\n",
      "max_depth  5\n",
      "lambda  1.0\n",
      "criterion  entropy\n",
      "max_leaves  0\n",
      "0.946961894953656\n"
     ]
    },
    {
     "name": "stderr",
     "output_type": "stream",
     "text": [
      "c:\\Users\\loren\\anaconda3\\envs\\TensorFlow\\lib\\site-packages\\xgboost\\core.py:160: UserWarning: [10:59:26] WARNING: C:\\buildkite-agent\\builds\\buildkite-windows-cpu-autoscaling-group-i-0b3782d1791676daf-1\\xgboost\\xgboost-ci-windows\\src\\learner.cc:742: \n",
      "Parameters: { \"criterion\" } are not used.\n",
      "\n",
      "  warnings.warn(smsg, UserWarning)\n"
     ]
    },
    {
     "name": "stdout",
     "output_type": "stream",
     "text": [
      "#####################\n",
      "booster  gbtree\n",
      "n_estimators  150\n",
      "eta  0.7\n",
      "max_depth  5\n",
      "lambda  1.0\n",
      "criterion  entropy\n",
      "max_leaves  1\n",
      "0.3388259526261586\n"
     ]
    },
    {
     "name": "stderr",
     "output_type": "stream",
     "text": [
      "c:\\Users\\loren\\anaconda3\\envs\\TensorFlow\\lib\\site-packages\\xgboost\\core.py:160: UserWarning: [10:59:27] WARNING: C:\\buildkite-agent\\builds\\buildkite-windows-cpu-autoscaling-group-i-0b3782d1791676daf-1\\xgboost\\xgboost-ci-windows\\src\\learner.cc:742: \n",
      "Parameters: { \"criterion\" } are not used.\n",
      "\n",
      "  warnings.warn(smsg, UserWarning)\n"
     ]
    },
    {
     "name": "stdout",
     "output_type": "stream",
     "text": [
      "#####################\n",
      "booster  gbtree\n",
      "n_estimators  150\n",
      "eta  0.7\n",
      "max_depth  5\n",
      "lambda  1.0\n",
      "criterion  entropy\n",
      "max_leaves  5\n",
      "0.9407826982492276\n"
     ]
    },
    {
     "name": "stderr",
     "output_type": "stream",
     "text": [
      "c:\\Users\\loren\\anaconda3\\envs\\TensorFlow\\lib\\site-packages\\xgboost\\core.py:160: UserWarning: [10:59:27] WARNING: C:\\buildkite-agent\\builds\\buildkite-windows-cpu-autoscaling-group-i-0b3782d1791676daf-1\\xgboost\\xgboost-ci-windows\\src\\learner.cc:742: \n",
      "Parameters: { \"criterion\" } are not used.\n",
      "\n",
      "  warnings.warn(smsg, UserWarning)\n"
     ]
    },
    {
     "name": "stdout",
     "output_type": "stream",
     "text": [
      "#####################\n",
      "booster  gbtree\n",
      "n_estimators  150\n",
      "eta  0.7\n",
      "max_depth  5\n",
      "lambda  5.0\n",
      "criterion  gini\n",
      "max_leaves  0\n",
      "0.9449021627188465\n"
     ]
    },
    {
     "name": "stderr",
     "output_type": "stream",
     "text": [
      "c:\\Users\\loren\\anaconda3\\envs\\TensorFlow\\lib\\site-packages\\xgboost\\core.py:160: UserWarning: [10:59:28] WARNING: C:\\buildkite-agent\\builds\\buildkite-windows-cpu-autoscaling-group-i-0b3782d1791676daf-1\\xgboost\\xgboost-ci-windows\\src\\learner.cc:742: \n",
      "Parameters: { \"criterion\" } are not used.\n",
      "\n",
      "  warnings.warn(smsg, UserWarning)\n"
     ]
    },
    {
     "name": "stdout",
     "output_type": "stream",
     "text": [
      "#####################\n",
      "booster  gbtree\n",
      "n_estimators  150\n",
      "eta  0.7\n",
      "max_depth  5\n",
      "lambda  5.0\n",
      "criterion  gini\n",
      "max_leaves  1\n",
      "0.3388259526261586\n"
     ]
    },
    {
     "name": "stderr",
     "output_type": "stream",
     "text": [
      "c:\\Users\\loren\\anaconda3\\envs\\TensorFlow\\lib\\site-packages\\xgboost\\core.py:160: UserWarning: [10:59:28] WARNING: C:\\buildkite-agent\\builds\\buildkite-windows-cpu-autoscaling-group-i-0b3782d1791676daf-1\\xgboost\\xgboost-ci-windows\\src\\learner.cc:742: \n",
      "Parameters: { \"criterion\" } are not used.\n",
      "\n",
      "  warnings.warn(smsg, UserWarning)\n"
     ]
    },
    {
     "name": "stdout",
     "output_type": "stream",
     "text": [
      "#####################\n",
      "booster  gbtree\n",
      "n_estimators  150\n",
      "eta  0.7\n",
      "max_depth  5\n",
      "lambda  5.0\n",
      "criterion  gini\n",
      "max_leaves  5\n",
      "0.9397528321318228\n"
     ]
    },
    {
     "name": "stderr",
     "output_type": "stream",
     "text": [
      "c:\\Users\\loren\\anaconda3\\envs\\TensorFlow\\lib\\site-packages\\xgboost\\core.py:160: UserWarning: [10:59:29] WARNING: C:\\buildkite-agent\\builds\\buildkite-windows-cpu-autoscaling-group-i-0b3782d1791676daf-1\\xgboost\\xgboost-ci-windows\\src\\learner.cc:742: \n",
      "Parameters: { \"criterion\" } are not used.\n",
      "\n",
      "  warnings.warn(smsg, UserWarning)\n"
     ]
    },
    {
     "name": "stdout",
     "output_type": "stream",
     "text": [
      "#####################\n",
      "booster  gbtree\n",
      "n_estimators  150\n",
      "eta  0.7\n",
      "max_depth  5\n",
      "lambda  5.0\n",
      "criterion  entropy\n",
      "max_leaves  0\n",
      "0.9449021627188465\n"
     ]
    },
    {
     "name": "stderr",
     "output_type": "stream",
     "text": [
      "c:\\Users\\loren\\anaconda3\\envs\\TensorFlow\\lib\\site-packages\\xgboost\\core.py:160: UserWarning: [10:59:30] WARNING: C:\\buildkite-agent\\builds\\buildkite-windows-cpu-autoscaling-group-i-0b3782d1791676daf-1\\xgboost\\xgboost-ci-windows\\src\\learner.cc:742: \n",
      "Parameters: { \"criterion\" } are not used.\n",
      "\n",
      "  warnings.warn(smsg, UserWarning)\n"
     ]
    },
    {
     "name": "stdout",
     "output_type": "stream",
     "text": [
      "#####################\n",
      "booster  gbtree\n",
      "n_estimators  150\n",
      "eta  0.7\n",
      "max_depth  5\n",
      "lambda  5.0\n",
      "criterion  entropy\n",
      "max_leaves  1\n",
      "0.3388259526261586\n"
     ]
    },
    {
     "name": "stderr",
     "output_type": "stream",
     "text": [
      "c:\\Users\\loren\\anaconda3\\envs\\TensorFlow\\lib\\site-packages\\xgboost\\core.py:160: UserWarning: [10:59:30] WARNING: C:\\buildkite-agent\\builds\\buildkite-windows-cpu-autoscaling-group-i-0b3782d1791676daf-1\\xgboost\\xgboost-ci-windows\\src\\learner.cc:742: \n",
      "Parameters: { \"criterion\" } are not used.\n",
      "\n",
      "  warnings.warn(smsg, UserWarning)\n"
     ]
    },
    {
     "name": "stdout",
     "output_type": "stream",
     "text": [
      "#####################\n",
      "booster  gbtree\n",
      "n_estimators  150\n",
      "eta  0.7\n",
      "max_depth  5\n",
      "lambda  5.0\n",
      "criterion  entropy\n",
      "max_leaves  5\n",
      "0.9397528321318228\n"
     ]
    },
    {
     "name": "stderr",
     "output_type": "stream",
     "text": [
      "c:\\Users\\loren\\anaconda3\\envs\\TensorFlow\\lib\\site-packages\\xgboost\\core.py:160: UserWarning: [10:59:31] WARNING: C:\\buildkite-agent\\builds\\buildkite-windows-cpu-autoscaling-group-i-0b3782d1791676daf-1\\xgboost\\xgboost-ci-windows\\src\\learner.cc:742: \n",
      "Parameters: { \"criterion\" } are not used.\n",
      "\n",
      "  warnings.warn(smsg, UserWarning)\n"
     ]
    },
    {
     "name": "stdout",
     "output_type": "stream",
     "text": [
      "#####################\n",
      "booster  gbtree\n",
      "n_estimators  150\n",
      "eta  0.7\n",
      "max_depth  10\n",
      "lambda  0.0\n",
      "criterion  gini\n",
      "max_leaves  0\n",
      "0.94129763130793\n"
     ]
    },
    {
     "name": "stderr",
     "output_type": "stream",
     "text": [
      "c:\\Users\\loren\\anaconda3\\envs\\TensorFlow\\lib\\site-packages\\xgboost\\core.py:160: UserWarning: [10:59:31] WARNING: C:\\buildkite-agent\\builds\\buildkite-windows-cpu-autoscaling-group-i-0b3782d1791676daf-1\\xgboost\\xgboost-ci-windows\\src\\learner.cc:742: \n",
      "Parameters: { \"criterion\" } are not used.\n",
      "\n",
      "  warnings.warn(smsg, UserWarning)\n"
     ]
    },
    {
     "name": "stdout",
     "output_type": "stream",
     "text": [
      "#####################\n",
      "booster  gbtree\n",
      "n_estimators  150\n",
      "eta  0.7\n",
      "max_depth  10\n",
      "lambda  0.0\n",
      "criterion  gini\n",
      "max_leaves  1\n",
      "0.3388259526261586\n"
     ]
    },
    {
     "name": "stderr",
     "output_type": "stream",
     "text": [
      "c:\\Users\\loren\\anaconda3\\envs\\TensorFlow\\lib\\site-packages\\xgboost\\core.py:160: UserWarning: [10:59:32] WARNING: C:\\buildkite-agent\\builds\\buildkite-windows-cpu-autoscaling-group-i-0b3782d1791676daf-1\\xgboost\\xgboost-ci-windows\\src\\learner.cc:742: \n",
      "Parameters: { \"criterion\" } are not used.\n",
      "\n",
      "  warnings.warn(smsg, UserWarning)\n"
     ]
    },
    {
     "name": "stdout",
     "output_type": "stream",
     "text": [
      "#####################\n",
      "booster  gbtree\n",
      "n_estimators  150\n",
      "eta  0.7\n",
      "max_depth  10\n",
      "lambda  0.0\n",
      "criterion  gini\n",
      "max_leaves  5\n",
      "0.9407826982492276\n"
     ]
    },
    {
     "name": "stderr",
     "output_type": "stream",
     "text": [
      "c:\\Users\\loren\\anaconda3\\envs\\TensorFlow\\lib\\site-packages\\xgboost\\core.py:160: UserWarning: [10:59:32] WARNING: C:\\buildkite-agent\\builds\\buildkite-windows-cpu-autoscaling-group-i-0b3782d1791676daf-1\\xgboost\\xgboost-ci-windows\\src\\learner.cc:742: \n",
      "Parameters: { \"criterion\" } are not used.\n",
      "\n",
      "  warnings.warn(smsg, UserWarning)\n"
     ]
    },
    {
     "name": "stdout",
     "output_type": "stream",
     "text": [
      "#####################\n",
      "booster  gbtree\n",
      "n_estimators  150\n",
      "eta  0.7\n",
      "max_depth  10\n",
      "lambda  0.0\n",
      "criterion  entropy\n",
      "max_leaves  0\n",
      "0.94129763130793\n"
     ]
    },
    {
     "name": "stderr",
     "output_type": "stream",
     "text": [
      "c:\\Users\\loren\\anaconda3\\envs\\TensorFlow\\lib\\site-packages\\xgboost\\core.py:160: UserWarning: [10:59:33] WARNING: C:\\buildkite-agent\\builds\\buildkite-windows-cpu-autoscaling-group-i-0b3782d1791676daf-1\\xgboost\\xgboost-ci-windows\\src\\learner.cc:742: \n",
      "Parameters: { \"criterion\" } are not used.\n",
      "\n",
      "  warnings.warn(smsg, UserWarning)\n"
     ]
    },
    {
     "name": "stdout",
     "output_type": "stream",
     "text": [
      "#####################\n",
      "booster  gbtree\n",
      "n_estimators  150\n",
      "eta  0.7\n",
      "max_depth  10\n",
      "lambda  0.0\n",
      "criterion  entropy\n",
      "max_leaves  1\n",
      "0.3388259526261586\n"
     ]
    },
    {
     "name": "stderr",
     "output_type": "stream",
     "text": [
      "c:\\Users\\loren\\anaconda3\\envs\\TensorFlow\\lib\\site-packages\\xgboost\\core.py:160: UserWarning: [10:59:33] WARNING: C:\\buildkite-agent\\builds\\buildkite-windows-cpu-autoscaling-group-i-0b3782d1791676daf-1\\xgboost\\xgboost-ci-windows\\src\\learner.cc:742: \n",
      "Parameters: { \"criterion\" } are not used.\n",
      "\n",
      "  warnings.warn(smsg, UserWarning)\n"
     ]
    },
    {
     "name": "stdout",
     "output_type": "stream",
     "text": [
      "#####################\n",
      "booster  gbtree\n",
      "n_estimators  150\n",
      "eta  0.7\n",
      "max_depth  10\n",
      "lambda  0.0\n",
      "criterion  entropy\n",
      "max_leaves  5\n",
      "0.9407826982492276\n"
     ]
    },
    {
     "name": "stderr",
     "output_type": "stream",
     "text": [
      "c:\\Users\\loren\\anaconda3\\envs\\TensorFlow\\lib\\site-packages\\xgboost\\core.py:160: UserWarning: [10:59:34] WARNING: C:\\buildkite-agent\\builds\\buildkite-windows-cpu-autoscaling-group-i-0b3782d1791676daf-1\\xgboost\\xgboost-ci-windows\\src\\learner.cc:742: \n",
      "Parameters: { \"criterion\" } are not used.\n",
      "\n",
      "  warnings.warn(smsg, UserWarning)\n"
     ]
    },
    {
     "name": "stdout",
     "output_type": "stream",
     "text": [
      "#####################\n",
      "booster  gbtree\n",
      "n_estimators  150\n",
      "eta  0.7\n",
      "max_depth  10\n",
      "lambda  1.0\n",
      "criterion  gini\n",
      "max_leaves  0\n",
      "0.945417095777549\n"
     ]
    },
    {
     "name": "stderr",
     "output_type": "stream",
     "text": [
      "c:\\Users\\loren\\anaconda3\\envs\\TensorFlow\\lib\\site-packages\\xgboost\\core.py:160: UserWarning: [10:59:35] WARNING: C:\\buildkite-agent\\builds\\buildkite-windows-cpu-autoscaling-group-i-0b3782d1791676daf-1\\xgboost\\xgboost-ci-windows\\src\\learner.cc:742: \n",
      "Parameters: { \"criterion\" } are not used.\n",
      "\n",
      "  warnings.warn(smsg, UserWarning)\n"
     ]
    },
    {
     "name": "stdout",
     "output_type": "stream",
     "text": [
      "#####################\n",
      "booster  gbtree\n",
      "n_estimators  150\n",
      "eta  0.7\n",
      "max_depth  10\n",
      "lambda  1.0\n",
      "criterion  gini\n",
      "max_leaves  1\n",
      "0.3388259526261586\n"
     ]
    },
    {
     "name": "stderr",
     "output_type": "stream",
     "text": [
      "c:\\Users\\loren\\anaconda3\\envs\\TensorFlow\\lib\\site-packages\\xgboost\\core.py:160: UserWarning: [10:59:35] WARNING: C:\\buildkite-agent\\builds\\buildkite-windows-cpu-autoscaling-group-i-0b3782d1791676daf-1\\xgboost\\xgboost-ci-windows\\src\\learner.cc:742: \n",
      "Parameters: { \"criterion\" } are not used.\n",
      "\n",
      "  warnings.warn(smsg, UserWarning)\n"
     ]
    },
    {
     "name": "stdout",
     "output_type": "stream",
     "text": [
      "#####################\n",
      "booster  gbtree\n",
      "n_estimators  150\n",
      "eta  0.7\n",
      "max_depth  10\n",
      "lambda  1.0\n",
      "criterion  gini\n",
      "max_leaves  5\n",
      "0.9407826982492276\n"
     ]
    },
    {
     "name": "stderr",
     "output_type": "stream",
     "text": [
      "c:\\Users\\loren\\anaconda3\\envs\\TensorFlow\\lib\\site-packages\\xgboost\\core.py:160: UserWarning: [10:59:35] WARNING: C:\\buildkite-agent\\builds\\buildkite-windows-cpu-autoscaling-group-i-0b3782d1791676daf-1\\xgboost\\xgboost-ci-windows\\src\\learner.cc:742: \n",
      "Parameters: { \"criterion\" } are not used.\n",
      "\n",
      "  warnings.warn(smsg, UserWarning)\n"
     ]
    },
    {
     "name": "stdout",
     "output_type": "stream",
     "text": [
      "#####################\n",
      "booster  gbtree\n",
      "n_estimators  150\n",
      "eta  0.7\n",
      "max_depth  10\n",
      "lambda  1.0\n",
      "criterion  entropy\n",
      "max_leaves  0\n",
      "0.945417095777549\n"
     ]
    },
    {
     "name": "stderr",
     "output_type": "stream",
     "text": [
      "c:\\Users\\loren\\anaconda3\\envs\\TensorFlow\\lib\\site-packages\\xgboost\\core.py:160: UserWarning: [10:59:36] WARNING: C:\\buildkite-agent\\builds\\buildkite-windows-cpu-autoscaling-group-i-0b3782d1791676daf-1\\xgboost\\xgboost-ci-windows\\src\\learner.cc:742: \n",
      "Parameters: { \"criterion\" } are not used.\n",
      "\n",
      "  warnings.warn(smsg, UserWarning)\n"
     ]
    },
    {
     "name": "stdout",
     "output_type": "stream",
     "text": [
      "#####################\n",
      "booster  gbtree\n",
      "n_estimators  150\n",
      "eta  0.7\n",
      "max_depth  10\n",
      "lambda  1.0\n",
      "criterion  entropy\n",
      "max_leaves  1\n",
      "0.3388259526261586\n"
     ]
    },
    {
     "name": "stderr",
     "output_type": "stream",
     "text": [
      "c:\\Users\\loren\\anaconda3\\envs\\TensorFlow\\lib\\site-packages\\xgboost\\core.py:160: UserWarning: [10:59:37] WARNING: C:\\buildkite-agent\\builds\\buildkite-windows-cpu-autoscaling-group-i-0b3782d1791676daf-1\\xgboost\\xgboost-ci-windows\\src\\learner.cc:742: \n",
      "Parameters: { \"criterion\" } are not used.\n",
      "\n",
      "  warnings.warn(smsg, UserWarning)\n"
     ]
    },
    {
     "name": "stdout",
     "output_type": "stream",
     "text": [
      "#####################\n",
      "booster  gbtree\n",
      "n_estimators  150\n",
      "eta  0.7\n",
      "max_depth  10\n",
      "lambda  1.0\n",
      "criterion  entropy\n",
      "max_leaves  5\n",
      "0.9407826982492276\n"
     ]
    },
    {
     "name": "stderr",
     "output_type": "stream",
     "text": [
      "c:\\Users\\loren\\anaconda3\\envs\\TensorFlow\\lib\\site-packages\\xgboost\\core.py:160: UserWarning: [10:59:37] WARNING: C:\\buildkite-agent\\builds\\buildkite-windows-cpu-autoscaling-group-i-0b3782d1791676daf-1\\xgboost\\xgboost-ci-windows\\src\\learner.cc:742: \n",
      "Parameters: { \"criterion\" } are not used.\n",
      "\n",
      "  warnings.warn(smsg, UserWarning)\n"
     ]
    },
    {
     "name": "stdout",
     "output_type": "stream",
     "text": [
      "#####################\n",
      "booster  gbtree\n",
      "n_estimators  150\n",
      "eta  0.7\n",
      "max_depth  10\n",
      "lambda  5.0\n",
      "criterion  gini\n",
      "max_leaves  0\n",
      "0.946961894953656\n"
     ]
    },
    {
     "name": "stderr",
     "output_type": "stream",
     "text": [
      "c:\\Users\\loren\\anaconda3\\envs\\TensorFlow\\lib\\site-packages\\xgboost\\core.py:160: UserWarning: [10:59:38] WARNING: C:\\buildkite-agent\\builds\\buildkite-windows-cpu-autoscaling-group-i-0b3782d1791676daf-1\\xgboost\\xgboost-ci-windows\\src\\learner.cc:742: \n",
      "Parameters: { \"criterion\" } are not used.\n",
      "\n",
      "  warnings.warn(smsg, UserWarning)\n"
     ]
    },
    {
     "name": "stdout",
     "output_type": "stream",
     "text": [
      "#####################\n",
      "booster  gbtree\n",
      "n_estimators  150\n",
      "eta  0.7\n",
      "max_depth  10\n",
      "lambda  5.0\n",
      "criterion  gini\n",
      "max_leaves  1\n",
      "0.3388259526261586\n"
     ]
    },
    {
     "name": "stderr",
     "output_type": "stream",
     "text": [
      "c:\\Users\\loren\\anaconda3\\envs\\TensorFlow\\lib\\site-packages\\xgboost\\core.py:160: UserWarning: [10:59:39] WARNING: C:\\buildkite-agent\\builds\\buildkite-windows-cpu-autoscaling-group-i-0b3782d1791676daf-1\\xgboost\\xgboost-ci-windows\\src\\learner.cc:742: \n",
      "Parameters: { \"criterion\" } are not used.\n",
      "\n",
      "  warnings.warn(smsg, UserWarning)\n"
     ]
    },
    {
     "name": "stdout",
     "output_type": "stream",
     "text": [
      "#####################\n",
      "booster  gbtree\n",
      "n_estimators  150\n",
      "eta  0.7\n",
      "max_depth  10\n",
      "lambda  5.0\n",
      "criterion  gini\n",
      "max_leaves  5\n",
      "0.9397528321318228\n"
     ]
    },
    {
     "name": "stderr",
     "output_type": "stream",
     "text": [
      "c:\\Users\\loren\\anaconda3\\envs\\TensorFlow\\lib\\site-packages\\xgboost\\core.py:160: UserWarning: [10:59:39] WARNING: C:\\buildkite-agent\\builds\\buildkite-windows-cpu-autoscaling-group-i-0b3782d1791676daf-1\\xgboost\\xgboost-ci-windows\\src\\learner.cc:742: \n",
      "Parameters: { \"criterion\" } are not used.\n",
      "\n",
      "  warnings.warn(smsg, UserWarning)\n"
     ]
    },
    {
     "name": "stdout",
     "output_type": "stream",
     "text": [
      "#####################\n",
      "booster  gbtree\n",
      "n_estimators  150\n",
      "eta  0.7\n",
      "max_depth  10\n",
      "lambda  5.0\n",
      "criterion  entropy\n",
      "max_leaves  0\n",
      "0.946961894953656\n"
     ]
    },
    {
     "name": "stderr",
     "output_type": "stream",
     "text": [
      "c:\\Users\\loren\\anaconda3\\envs\\TensorFlow\\lib\\site-packages\\xgboost\\core.py:160: UserWarning: [10:59:41] WARNING: C:\\buildkite-agent\\builds\\buildkite-windows-cpu-autoscaling-group-i-0b3782d1791676daf-1\\xgboost\\xgboost-ci-windows\\src\\learner.cc:742: \n",
      "Parameters: { \"criterion\" } are not used.\n",
      "\n",
      "  warnings.warn(smsg, UserWarning)\n"
     ]
    },
    {
     "name": "stdout",
     "output_type": "stream",
     "text": [
      "#####################\n",
      "booster  gbtree\n",
      "n_estimators  150\n",
      "eta  0.7\n",
      "max_depth  10\n",
      "lambda  5.0\n",
      "criterion  entropy\n",
      "max_leaves  1\n",
      "0.3388259526261586\n"
     ]
    },
    {
     "name": "stderr",
     "output_type": "stream",
     "text": [
      "c:\\Users\\loren\\anaconda3\\envs\\TensorFlow\\lib\\site-packages\\xgboost\\core.py:160: UserWarning: [10:59:41] WARNING: C:\\buildkite-agent\\builds\\buildkite-windows-cpu-autoscaling-group-i-0b3782d1791676daf-1\\xgboost\\xgboost-ci-windows\\src\\learner.cc:742: \n",
      "Parameters: { \"criterion\" } are not used.\n",
      "\n",
      "  warnings.warn(smsg, UserWarning)\n"
     ]
    },
    {
     "name": "stdout",
     "output_type": "stream",
     "text": [
      "#####################\n",
      "booster  gbtree\n",
      "n_estimators  150\n",
      "eta  0.7\n",
      "max_depth  10\n",
      "lambda  5.0\n",
      "criterion  entropy\n",
      "max_leaves  5\n",
      "0.9397528321318228\n"
     ]
    },
    {
     "name": "stderr",
     "output_type": "stream",
     "text": [
      "c:\\Users\\loren\\anaconda3\\envs\\TensorFlow\\lib\\site-packages\\xgboost\\core.py:160: UserWarning: [10:59:42] WARNING: C:\\buildkite-agent\\builds\\buildkite-windows-cpu-autoscaling-group-i-0b3782d1791676daf-1\\xgboost\\xgboost-ci-windows\\src\\learner.cc:742: \n",
      "Parameters: { \"criterion\" } are not used.\n",
      "\n",
      "  warnings.warn(smsg, UserWarning)\n"
     ]
    },
    {
     "name": "stdout",
     "output_type": "stream",
     "text": [
      "#####################\n",
      "booster  gbtree\n",
      "n_estimators  150\n",
      "eta  0.7\n",
      "max_depth  20\n",
      "lambda  0.0\n",
      "criterion  gini\n",
      "max_leaves  0\n",
      "0.9387229660144182\n"
     ]
    },
    {
     "name": "stderr",
     "output_type": "stream",
     "text": [
      "c:\\Users\\loren\\anaconda3\\envs\\TensorFlow\\lib\\site-packages\\xgboost\\core.py:160: UserWarning: [10:59:43] WARNING: C:\\buildkite-agent\\builds\\buildkite-windows-cpu-autoscaling-group-i-0b3782d1791676daf-1\\xgboost\\xgboost-ci-windows\\src\\learner.cc:742: \n",
      "Parameters: { \"criterion\" } are not used.\n",
      "\n",
      "  warnings.warn(smsg, UserWarning)\n"
     ]
    },
    {
     "name": "stdout",
     "output_type": "stream",
     "text": [
      "#####################\n",
      "booster  gbtree\n",
      "n_estimators  150\n",
      "eta  0.7\n",
      "max_depth  20\n",
      "lambda  0.0\n",
      "criterion  gini\n",
      "max_leaves  1\n",
      "0.3388259526261586\n"
     ]
    },
    {
     "name": "stderr",
     "output_type": "stream",
     "text": [
      "c:\\Users\\loren\\anaconda3\\envs\\TensorFlow\\lib\\site-packages\\xgboost\\core.py:160: UserWarning: [10:59:43] WARNING: C:\\buildkite-agent\\builds\\buildkite-windows-cpu-autoscaling-group-i-0b3782d1791676daf-1\\xgboost\\xgboost-ci-windows\\src\\learner.cc:742: \n",
      "Parameters: { \"criterion\" } are not used.\n",
      "\n",
      "  warnings.warn(smsg, UserWarning)\n"
     ]
    },
    {
     "name": "stdout",
     "output_type": "stream",
     "text": [
      "#####################\n",
      "booster  gbtree\n",
      "n_estimators  150\n",
      "eta  0.7\n",
      "max_depth  20\n",
      "lambda  0.0\n",
      "criterion  gini\n",
      "max_leaves  5\n",
      "0.9407826982492276\n"
     ]
    },
    {
     "name": "stderr",
     "output_type": "stream",
     "text": [
      "c:\\Users\\loren\\anaconda3\\envs\\TensorFlow\\lib\\site-packages\\xgboost\\core.py:160: UserWarning: [10:59:44] WARNING: C:\\buildkite-agent\\builds\\buildkite-windows-cpu-autoscaling-group-i-0b3782d1791676daf-1\\xgboost\\xgboost-ci-windows\\src\\learner.cc:742: \n",
      "Parameters: { \"criterion\" } are not used.\n",
      "\n",
      "  warnings.warn(smsg, UserWarning)\n"
     ]
    },
    {
     "name": "stdout",
     "output_type": "stream",
     "text": [
      "#####################\n",
      "booster  gbtree\n",
      "n_estimators  150\n",
      "eta  0.7\n",
      "max_depth  20\n",
      "lambda  0.0\n",
      "criterion  entropy\n",
      "max_leaves  0\n",
      "0.9387229660144182\n"
     ]
    },
    {
     "name": "stderr",
     "output_type": "stream",
     "text": [
      "c:\\Users\\loren\\anaconda3\\envs\\TensorFlow\\lib\\site-packages\\xgboost\\core.py:160: UserWarning: [10:59:45] WARNING: C:\\buildkite-agent\\builds\\buildkite-windows-cpu-autoscaling-group-i-0b3782d1791676daf-1\\xgboost\\xgboost-ci-windows\\src\\learner.cc:742: \n",
      "Parameters: { \"criterion\" } are not used.\n",
      "\n",
      "  warnings.warn(smsg, UserWarning)\n"
     ]
    },
    {
     "name": "stdout",
     "output_type": "stream",
     "text": [
      "#####################\n",
      "booster  gbtree\n",
      "n_estimators  150\n",
      "eta  0.7\n",
      "max_depth  20\n",
      "lambda  0.0\n",
      "criterion  entropy\n",
      "max_leaves  1\n",
      "0.3388259526261586\n"
     ]
    },
    {
     "name": "stderr",
     "output_type": "stream",
     "text": [
      "c:\\Users\\loren\\anaconda3\\envs\\TensorFlow\\lib\\site-packages\\xgboost\\core.py:160: UserWarning: [10:59:45] WARNING: C:\\buildkite-agent\\builds\\buildkite-windows-cpu-autoscaling-group-i-0b3782d1791676daf-1\\xgboost\\xgboost-ci-windows\\src\\learner.cc:742: \n",
      "Parameters: { \"criterion\" } are not used.\n",
      "\n",
      "  warnings.warn(smsg, UserWarning)\n"
     ]
    },
    {
     "name": "stdout",
     "output_type": "stream",
     "text": [
      "#####################\n",
      "booster  gbtree\n",
      "n_estimators  150\n",
      "eta  0.7\n",
      "max_depth  20\n",
      "lambda  0.0\n",
      "criterion  entropy\n",
      "max_leaves  5\n",
      "0.9407826982492276\n"
     ]
    },
    {
     "name": "stderr",
     "output_type": "stream",
     "text": [
      "c:\\Users\\loren\\anaconda3\\envs\\TensorFlow\\lib\\site-packages\\xgboost\\core.py:160: UserWarning: [10:59:46] WARNING: C:\\buildkite-agent\\builds\\buildkite-windows-cpu-autoscaling-group-i-0b3782d1791676daf-1\\xgboost\\xgboost-ci-windows\\src\\learner.cc:742: \n",
      "Parameters: { \"criterion\" } are not used.\n",
      "\n",
      "  warnings.warn(smsg, UserWarning)\n"
     ]
    },
    {
     "name": "stdout",
     "output_type": "stream",
     "text": [
      "#####################\n",
      "booster  gbtree\n",
      "n_estimators  150\n",
      "eta  0.7\n",
      "max_depth  20\n",
      "lambda  1.0\n",
      "criterion  gini\n",
      "max_leaves  0\n",
      "0.9449021627188465\n",
      "#####################\n",
      "booster  gbtree\n",
      "n_estimators  150\n",
      "eta  0.7\n",
      "max_depth  20\n",
      "lambda  1.0\n",
      "criterion  gini\n",
      "max_leaves  1\n",
      "0.3388259526261586\n"
     ]
    },
    {
     "name": "stderr",
     "output_type": "stream",
     "text": [
      "c:\\Users\\loren\\anaconda3\\envs\\TensorFlow\\lib\\site-packages\\xgboost\\core.py:160: UserWarning: [10:59:47] WARNING: C:\\buildkite-agent\\builds\\buildkite-windows-cpu-autoscaling-group-i-0b3782d1791676daf-1\\xgboost\\xgboost-ci-windows\\src\\learner.cc:742: \n",
      "Parameters: { \"criterion\" } are not used.\n",
      "\n",
      "  warnings.warn(smsg, UserWarning)\n",
      "c:\\Users\\loren\\anaconda3\\envs\\TensorFlow\\lib\\site-packages\\xgboost\\core.py:160: UserWarning: [10:59:47] WARNING: C:\\buildkite-agent\\builds\\buildkite-windows-cpu-autoscaling-group-i-0b3782d1791676daf-1\\xgboost\\xgboost-ci-windows\\src\\learner.cc:742: \n",
      "Parameters: { \"criterion\" } are not used.\n",
      "\n",
      "  warnings.warn(smsg, UserWarning)\n"
     ]
    },
    {
     "name": "stdout",
     "output_type": "stream",
     "text": [
      "#####################\n",
      "booster  gbtree\n",
      "n_estimators  150\n",
      "eta  0.7\n",
      "max_depth  20\n",
      "lambda  1.0\n",
      "criterion  gini\n",
      "max_leaves  5\n",
      "0.9407826982492276\n"
     ]
    },
    {
     "name": "stderr",
     "output_type": "stream",
     "text": [
      "c:\\Users\\loren\\anaconda3\\envs\\TensorFlow\\lib\\site-packages\\xgboost\\core.py:160: UserWarning: [10:59:47] WARNING: C:\\buildkite-agent\\builds\\buildkite-windows-cpu-autoscaling-group-i-0b3782d1791676daf-1\\xgboost\\xgboost-ci-windows\\src\\learner.cc:742: \n",
      "Parameters: { \"criterion\" } are not used.\n",
      "\n",
      "  warnings.warn(smsg, UserWarning)\n"
     ]
    },
    {
     "name": "stdout",
     "output_type": "stream",
     "text": [
      "#####################\n",
      "booster  gbtree\n",
      "n_estimators  150\n",
      "eta  0.7\n",
      "max_depth  20\n",
      "lambda  1.0\n",
      "criterion  entropy\n",
      "max_leaves  0\n",
      "0.9449021627188465\n"
     ]
    },
    {
     "name": "stderr",
     "output_type": "stream",
     "text": [
      "c:\\Users\\loren\\anaconda3\\envs\\TensorFlow\\lib\\site-packages\\xgboost\\core.py:160: UserWarning: [10:59:48] WARNING: C:\\buildkite-agent\\builds\\buildkite-windows-cpu-autoscaling-group-i-0b3782d1791676daf-1\\xgboost\\xgboost-ci-windows\\src\\learner.cc:742: \n",
      "Parameters: { \"criterion\" } are not used.\n",
      "\n",
      "  warnings.warn(smsg, UserWarning)\n"
     ]
    },
    {
     "name": "stdout",
     "output_type": "stream",
     "text": [
      "#####################\n",
      "booster  gbtree\n",
      "n_estimators  150\n",
      "eta  0.7\n",
      "max_depth  20\n",
      "lambda  1.0\n",
      "criterion  entropy\n",
      "max_leaves  1\n",
      "0.3388259526261586\n"
     ]
    },
    {
     "name": "stderr",
     "output_type": "stream",
     "text": [
      "c:\\Users\\loren\\anaconda3\\envs\\TensorFlow\\lib\\site-packages\\xgboost\\core.py:160: UserWarning: [10:59:48] WARNING: C:\\buildkite-agent\\builds\\buildkite-windows-cpu-autoscaling-group-i-0b3782d1791676daf-1\\xgboost\\xgboost-ci-windows\\src\\learner.cc:742: \n",
      "Parameters: { \"criterion\" } are not used.\n",
      "\n",
      "  warnings.warn(smsg, UserWarning)\n"
     ]
    },
    {
     "name": "stdout",
     "output_type": "stream",
     "text": [
      "#####################\n",
      "booster  gbtree\n",
      "n_estimators  150\n",
      "eta  0.7\n",
      "max_depth  20\n",
      "lambda  1.0\n",
      "criterion  entropy\n",
      "max_leaves  5\n",
      "0.9407826982492276\n"
     ]
    },
    {
     "name": "stderr",
     "output_type": "stream",
     "text": [
      "c:\\Users\\loren\\anaconda3\\envs\\TensorFlow\\lib\\site-packages\\xgboost\\core.py:160: UserWarning: [10:59:49] WARNING: C:\\buildkite-agent\\builds\\buildkite-windows-cpu-autoscaling-group-i-0b3782d1791676daf-1\\xgboost\\xgboost-ci-windows\\src\\learner.cc:742: \n",
      "Parameters: { \"criterion\" } are not used.\n",
      "\n",
      "  warnings.warn(smsg, UserWarning)\n"
     ]
    },
    {
     "name": "stdout",
     "output_type": "stream",
     "text": [
      "#####################\n",
      "booster  gbtree\n",
      "n_estimators  150\n",
      "eta  0.7\n",
      "max_depth  20\n",
      "lambda  5.0\n",
      "criterion  gini\n",
      "max_leaves  0\n",
      "0.9418125643666323\n"
     ]
    },
    {
     "name": "stderr",
     "output_type": "stream",
     "text": [
      "c:\\Users\\loren\\anaconda3\\envs\\TensorFlow\\lib\\site-packages\\xgboost\\core.py:160: UserWarning: [10:59:50] WARNING: C:\\buildkite-agent\\builds\\buildkite-windows-cpu-autoscaling-group-i-0b3782d1791676daf-1\\xgboost\\xgboost-ci-windows\\src\\learner.cc:742: \n",
      "Parameters: { \"criterion\" } are not used.\n",
      "\n",
      "  warnings.warn(smsg, UserWarning)\n"
     ]
    },
    {
     "name": "stdout",
     "output_type": "stream",
     "text": [
      "#####################\n",
      "booster  gbtree\n",
      "n_estimators  150\n",
      "eta  0.7\n",
      "max_depth  20\n",
      "lambda  5.0\n",
      "criterion  gini\n",
      "max_leaves  1\n",
      "0.3388259526261586\n"
     ]
    },
    {
     "name": "stderr",
     "output_type": "stream",
     "text": [
      "c:\\Users\\loren\\anaconda3\\envs\\TensorFlow\\lib\\site-packages\\xgboost\\core.py:160: UserWarning: [10:59:50] WARNING: C:\\buildkite-agent\\builds\\buildkite-windows-cpu-autoscaling-group-i-0b3782d1791676daf-1\\xgboost\\xgboost-ci-windows\\src\\learner.cc:742: \n",
      "Parameters: { \"criterion\" } are not used.\n",
      "\n",
      "  warnings.warn(smsg, UserWarning)\n"
     ]
    },
    {
     "name": "stdout",
     "output_type": "stream",
     "text": [
      "#####################\n",
      "booster  gbtree\n",
      "n_estimators  150\n",
      "eta  0.7\n",
      "max_depth  20\n",
      "lambda  5.0\n",
      "criterion  gini\n",
      "max_leaves  5\n",
      "0.9397528321318228\n"
     ]
    },
    {
     "name": "stderr",
     "output_type": "stream",
     "text": [
      "c:\\Users\\loren\\anaconda3\\envs\\TensorFlow\\lib\\site-packages\\xgboost\\core.py:160: UserWarning: [10:59:51] WARNING: C:\\buildkite-agent\\builds\\buildkite-windows-cpu-autoscaling-group-i-0b3782d1791676daf-1\\xgboost\\xgboost-ci-windows\\src\\learner.cc:742: \n",
      "Parameters: { \"criterion\" } are not used.\n",
      "\n",
      "  warnings.warn(smsg, UserWarning)\n"
     ]
    },
    {
     "name": "stdout",
     "output_type": "stream",
     "text": [
      "#####################\n",
      "booster  gbtree\n",
      "n_estimators  150\n",
      "eta  0.7\n",
      "max_depth  20\n",
      "lambda  5.0\n",
      "criterion  entropy\n",
      "max_leaves  0\n",
      "0.9418125643666323\n"
     ]
    },
    {
     "name": "stderr",
     "output_type": "stream",
     "text": [
      "c:\\Users\\loren\\anaconda3\\envs\\TensorFlow\\lib\\site-packages\\xgboost\\core.py:160: UserWarning: [10:59:52] WARNING: C:\\buildkite-agent\\builds\\buildkite-windows-cpu-autoscaling-group-i-0b3782d1791676daf-1\\xgboost\\xgboost-ci-windows\\src\\learner.cc:742: \n",
      "Parameters: { \"criterion\" } are not used.\n",
      "\n",
      "  warnings.warn(smsg, UserWarning)\n"
     ]
    },
    {
     "name": "stdout",
     "output_type": "stream",
     "text": [
      "#####################\n",
      "booster  gbtree\n",
      "n_estimators  150\n",
      "eta  0.7\n",
      "max_depth  20\n",
      "lambda  5.0\n",
      "criterion  entropy\n",
      "max_leaves  1\n",
      "0.3388259526261586\n"
     ]
    },
    {
     "name": "stderr",
     "output_type": "stream",
     "text": [
      "c:\\Users\\loren\\anaconda3\\envs\\TensorFlow\\lib\\site-packages\\xgboost\\core.py:160: UserWarning: [10:59:52] WARNING: C:\\buildkite-agent\\builds\\buildkite-windows-cpu-autoscaling-group-i-0b3782d1791676daf-1\\xgboost\\xgboost-ci-windows\\src\\learner.cc:742: \n",
      "Parameters: { \"criterion\" } are not used.\n",
      "\n",
      "  warnings.warn(smsg, UserWarning)\n"
     ]
    },
    {
     "name": "stdout",
     "output_type": "stream",
     "text": [
      "#####################\n",
      "booster  gbtree\n",
      "n_estimators  150\n",
      "eta  0.7\n",
      "max_depth  20\n",
      "lambda  5.0\n",
      "criterion  entropy\n",
      "max_leaves  5\n",
      "0.9397528321318228\n"
     ]
    },
    {
     "name": "stderr",
     "output_type": "stream",
     "text": [
      "c:\\Users\\loren\\anaconda3\\envs\\TensorFlow\\lib\\site-packages\\xgboost\\core.py:160: UserWarning: [10:59:53] WARNING: C:\\buildkite-agent\\builds\\buildkite-windows-cpu-autoscaling-group-i-0b3782d1791676daf-1\\xgboost\\xgboost-ci-windows\\src\\learner.cc:742: \n",
      "Parameters: { \"criterion\" } are not used.\n",
      "\n",
      "  warnings.warn(smsg, UserWarning)\n"
     ]
    },
    {
     "name": "stdout",
     "output_type": "stream",
     "text": [
      "#####################\n",
      "booster  gbtree\n",
      "n_estimators  150\n",
      "eta  0.7\n",
      "max_depth  30\n",
      "lambda  0.0\n",
      "criterion  gini\n",
      "max_leaves  0\n",
      "0.937178166838311\n"
     ]
    },
    {
     "name": "stderr",
     "output_type": "stream",
     "text": [
      "c:\\Users\\loren\\anaconda3\\envs\\TensorFlow\\lib\\site-packages\\xgboost\\core.py:160: UserWarning: [10:59:54] WARNING: C:\\buildkite-agent\\builds\\buildkite-windows-cpu-autoscaling-group-i-0b3782d1791676daf-1\\xgboost\\xgboost-ci-windows\\src\\learner.cc:742: \n",
      "Parameters: { \"criterion\" } are not used.\n",
      "\n",
      "  warnings.warn(smsg, UserWarning)\n"
     ]
    },
    {
     "name": "stdout",
     "output_type": "stream",
     "text": [
      "#####################\n",
      "booster  gbtree\n",
      "n_estimators  150\n",
      "eta  0.7\n",
      "max_depth  30\n",
      "lambda  0.0\n",
      "criterion  gini\n",
      "max_leaves  1\n",
      "0.3388259526261586\n"
     ]
    },
    {
     "name": "stderr",
     "output_type": "stream",
     "text": [
      "c:\\Users\\loren\\anaconda3\\envs\\TensorFlow\\lib\\site-packages\\xgboost\\core.py:160: UserWarning: [10:59:55] WARNING: C:\\buildkite-agent\\builds\\buildkite-windows-cpu-autoscaling-group-i-0b3782d1791676daf-1\\xgboost\\xgboost-ci-windows\\src\\learner.cc:742: \n",
      "Parameters: { \"criterion\" } are not used.\n",
      "\n",
      "  warnings.warn(smsg, UserWarning)\n"
     ]
    },
    {
     "name": "stdout",
     "output_type": "stream",
     "text": [
      "#####################\n",
      "booster  gbtree\n",
      "n_estimators  150\n",
      "eta  0.7\n",
      "max_depth  30\n",
      "lambda  0.0\n",
      "criterion  gini\n",
      "max_leaves  5\n",
      "0.9407826982492276\n"
     ]
    },
    {
     "name": "stderr",
     "output_type": "stream",
     "text": [
      "c:\\Users\\loren\\anaconda3\\envs\\TensorFlow\\lib\\site-packages\\xgboost\\core.py:160: UserWarning: [10:59:55] WARNING: C:\\buildkite-agent\\builds\\buildkite-windows-cpu-autoscaling-group-i-0b3782d1791676daf-1\\xgboost\\xgboost-ci-windows\\src\\learner.cc:742: \n",
      "Parameters: { \"criterion\" } are not used.\n",
      "\n",
      "  warnings.warn(smsg, UserWarning)\n"
     ]
    },
    {
     "name": "stdout",
     "output_type": "stream",
     "text": [
      "#####################\n",
      "booster  gbtree\n",
      "n_estimators  150\n",
      "eta  0.7\n",
      "max_depth  30\n",
      "lambda  0.0\n",
      "criterion  entropy\n",
      "max_leaves  0\n",
      "0.937178166838311\n"
     ]
    },
    {
     "name": "stderr",
     "output_type": "stream",
     "text": [
      "c:\\Users\\loren\\anaconda3\\envs\\TensorFlow\\lib\\site-packages\\xgboost\\core.py:160: UserWarning: [10:59:57] WARNING: C:\\buildkite-agent\\builds\\buildkite-windows-cpu-autoscaling-group-i-0b3782d1791676daf-1\\xgboost\\xgboost-ci-windows\\src\\learner.cc:742: \n",
      "Parameters: { \"criterion\" } are not used.\n",
      "\n",
      "  warnings.warn(smsg, UserWarning)\n"
     ]
    },
    {
     "name": "stdout",
     "output_type": "stream",
     "text": [
      "#####################\n",
      "booster  gbtree\n",
      "n_estimators  150\n",
      "eta  0.7\n",
      "max_depth  30\n",
      "lambda  0.0\n",
      "criterion  entropy\n",
      "max_leaves  1\n",
      "0.3388259526261586\n"
     ]
    },
    {
     "name": "stderr",
     "output_type": "stream",
     "text": [
      "c:\\Users\\loren\\anaconda3\\envs\\TensorFlow\\lib\\site-packages\\xgboost\\core.py:160: UserWarning: [10:59:57] WARNING: C:\\buildkite-agent\\builds\\buildkite-windows-cpu-autoscaling-group-i-0b3782d1791676daf-1\\xgboost\\xgboost-ci-windows\\src\\learner.cc:742: \n",
      "Parameters: { \"criterion\" } are not used.\n",
      "\n",
      "  warnings.warn(smsg, UserWarning)\n"
     ]
    },
    {
     "name": "stdout",
     "output_type": "stream",
     "text": [
      "#####################\n",
      "booster  gbtree\n",
      "n_estimators  150\n",
      "eta  0.7\n",
      "max_depth  30\n",
      "lambda  0.0\n",
      "criterion  entropy\n",
      "max_leaves  5\n",
      "0.9407826982492276\n"
     ]
    },
    {
     "name": "stderr",
     "output_type": "stream",
     "text": [
      "c:\\Users\\loren\\anaconda3\\envs\\TensorFlow\\lib\\site-packages\\xgboost\\core.py:160: UserWarning: [10:59:58] WARNING: C:\\buildkite-agent\\builds\\buildkite-windows-cpu-autoscaling-group-i-0b3782d1791676daf-1\\xgboost\\xgboost-ci-windows\\src\\learner.cc:742: \n",
      "Parameters: { \"criterion\" } are not used.\n",
      "\n",
      "  warnings.warn(smsg, UserWarning)\n"
     ]
    },
    {
     "name": "stdout",
     "output_type": "stream",
     "text": [
      "#####################\n",
      "booster  gbtree\n",
      "n_estimators  150\n",
      "eta  0.7\n",
      "max_depth  30\n",
      "lambda  1.0\n",
      "criterion  gini\n",
      "max_leaves  0\n",
      "0.9449021627188465\n"
     ]
    },
    {
     "name": "stderr",
     "output_type": "stream",
     "text": [
      "c:\\Users\\loren\\anaconda3\\envs\\TensorFlow\\lib\\site-packages\\xgboost\\core.py:160: UserWarning: [11:00:00] WARNING: C:\\buildkite-agent\\builds\\buildkite-windows-cpu-autoscaling-group-i-0b3782d1791676daf-1\\xgboost\\xgboost-ci-windows\\src\\learner.cc:742: \n",
      "Parameters: { \"criterion\" } are not used.\n",
      "\n",
      "  warnings.warn(smsg, UserWarning)\n"
     ]
    },
    {
     "name": "stdout",
     "output_type": "stream",
     "text": [
      "#####################\n",
      "booster  gbtree\n",
      "n_estimators  150\n",
      "eta  0.7\n",
      "max_depth  30\n",
      "lambda  1.0\n",
      "criterion  gini\n",
      "max_leaves  1\n",
      "0.3388259526261586\n"
     ]
    },
    {
     "name": "stderr",
     "output_type": "stream",
     "text": [
      "c:\\Users\\loren\\anaconda3\\envs\\TensorFlow\\lib\\site-packages\\xgboost\\core.py:160: UserWarning: [11:00:00] WARNING: C:\\buildkite-agent\\builds\\buildkite-windows-cpu-autoscaling-group-i-0b3782d1791676daf-1\\xgboost\\xgboost-ci-windows\\src\\learner.cc:742: \n",
      "Parameters: { \"criterion\" } are not used.\n",
      "\n",
      "  warnings.warn(smsg, UserWarning)\n"
     ]
    },
    {
     "name": "stdout",
     "output_type": "stream",
     "text": [
      "#####################\n",
      "booster  gbtree\n",
      "n_estimators  150\n",
      "eta  0.7\n",
      "max_depth  30\n",
      "lambda  1.0\n",
      "criterion  gini\n",
      "max_leaves  5\n",
      "0.9407826982492276\n"
     ]
    },
    {
     "name": "stderr",
     "output_type": "stream",
     "text": [
      "c:\\Users\\loren\\anaconda3\\envs\\TensorFlow\\lib\\site-packages\\xgboost\\core.py:160: UserWarning: [11:00:01] WARNING: C:\\buildkite-agent\\builds\\buildkite-windows-cpu-autoscaling-group-i-0b3782d1791676daf-1\\xgboost\\xgboost-ci-windows\\src\\learner.cc:742: \n",
      "Parameters: { \"criterion\" } are not used.\n",
      "\n",
      "  warnings.warn(smsg, UserWarning)\n"
     ]
    },
    {
     "name": "stdout",
     "output_type": "stream",
     "text": [
      "#####################\n",
      "booster  gbtree\n",
      "n_estimators  150\n",
      "eta  0.7\n",
      "max_depth  30\n",
      "lambda  1.0\n",
      "criterion  entropy\n",
      "max_leaves  0\n",
      "0.9449021627188465\n"
     ]
    },
    {
     "name": "stderr",
     "output_type": "stream",
     "text": [
      "c:\\Users\\loren\\anaconda3\\envs\\TensorFlow\\lib\\site-packages\\xgboost\\core.py:160: UserWarning: [11:00:02] WARNING: C:\\buildkite-agent\\builds\\buildkite-windows-cpu-autoscaling-group-i-0b3782d1791676daf-1\\xgboost\\xgboost-ci-windows\\src\\learner.cc:742: \n",
      "Parameters: { \"criterion\" } are not used.\n",
      "\n",
      "  warnings.warn(smsg, UserWarning)\n"
     ]
    },
    {
     "name": "stdout",
     "output_type": "stream",
     "text": [
      "#####################\n",
      "booster  gbtree\n",
      "n_estimators  150\n",
      "eta  0.7\n",
      "max_depth  30\n",
      "lambda  1.0\n",
      "criterion  entropy\n",
      "max_leaves  1\n",
      "0.3388259526261586\n"
     ]
    },
    {
     "name": "stderr",
     "output_type": "stream",
     "text": [
      "c:\\Users\\loren\\anaconda3\\envs\\TensorFlow\\lib\\site-packages\\xgboost\\core.py:160: UserWarning: [11:00:03] WARNING: C:\\buildkite-agent\\builds\\buildkite-windows-cpu-autoscaling-group-i-0b3782d1791676daf-1\\xgboost\\xgboost-ci-windows\\src\\learner.cc:742: \n",
      "Parameters: { \"criterion\" } are not used.\n",
      "\n",
      "  warnings.warn(smsg, UserWarning)\n"
     ]
    },
    {
     "name": "stdout",
     "output_type": "stream",
     "text": [
      "#####################\n",
      "booster  gbtree\n",
      "n_estimators  150\n",
      "eta  0.7\n",
      "max_depth  30\n",
      "lambda  1.0\n",
      "criterion  entropy\n",
      "max_leaves  5\n",
      "0.9407826982492276\n"
     ]
    },
    {
     "name": "stderr",
     "output_type": "stream",
     "text": [
      "c:\\Users\\loren\\anaconda3\\envs\\TensorFlow\\lib\\site-packages\\xgboost\\core.py:160: UserWarning: [11:00:04] WARNING: C:\\buildkite-agent\\builds\\buildkite-windows-cpu-autoscaling-group-i-0b3782d1791676daf-1\\xgboost\\xgboost-ci-windows\\src\\learner.cc:742: \n",
      "Parameters: { \"criterion\" } are not used.\n",
      "\n",
      "  warnings.warn(smsg, UserWarning)\n"
     ]
    },
    {
     "name": "stdout",
     "output_type": "stream",
     "text": [
      "#####################\n",
      "booster  gbtree\n",
      "n_estimators  150\n",
      "eta  0.7\n",
      "max_depth  30\n",
      "lambda  5.0\n",
      "criterion  gini\n",
      "max_leaves  0\n",
      "0.9418125643666323\n"
     ]
    },
    {
     "name": "stderr",
     "output_type": "stream",
     "text": [
      "c:\\Users\\loren\\anaconda3\\envs\\TensorFlow\\lib\\site-packages\\xgboost\\core.py:160: UserWarning: [11:00:05] WARNING: C:\\buildkite-agent\\builds\\buildkite-windows-cpu-autoscaling-group-i-0b3782d1791676daf-1\\xgboost\\xgboost-ci-windows\\src\\learner.cc:742: \n",
      "Parameters: { \"criterion\" } are not used.\n",
      "\n",
      "  warnings.warn(smsg, UserWarning)\n"
     ]
    },
    {
     "name": "stdout",
     "output_type": "stream",
     "text": [
      "#####################\n",
      "booster  gbtree\n",
      "n_estimators  150\n",
      "eta  0.7\n",
      "max_depth  30\n",
      "lambda  5.0\n",
      "criterion  gini\n",
      "max_leaves  1\n",
      "0.3388259526261586\n"
     ]
    },
    {
     "name": "stderr",
     "output_type": "stream",
     "text": [
      "c:\\Users\\loren\\anaconda3\\envs\\TensorFlow\\lib\\site-packages\\xgboost\\core.py:160: UserWarning: [11:00:06] WARNING: C:\\buildkite-agent\\builds\\buildkite-windows-cpu-autoscaling-group-i-0b3782d1791676daf-1\\xgboost\\xgboost-ci-windows\\src\\learner.cc:742: \n",
      "Parameters: { \"criterion\" } are not used.\n",
      "\n",
      "  warnings.warn(smsg, UserWarning)\n"
     ]
    },
    {
     "name": "stdout",
     "output_type": "stream",
     "text": [
      "#####################\n",
      "booster  gbtree\n",
      "n_estimators  150\n",
      "eta  0.7\n",
      "max_depth  30\n",
      "lambda  5.0\n",
      "criterion  gini\n",
      "max_leaves  5\n",
      "0.9397528321318228\n"
     ]
    },
    {
     "name": "stderr",
     "output_type": "stream",
     "text": [
      "c:\\Users\\loren\\anaconda3\\envs\\TensorFlow\\lib\\site-packages\\xgboost\\core.py:160: UserWarning: [11:00:06] WARNING: C:\\buildkite-agent\\builds\\buildkite-windows-cpu-autoscaling-group-i-0b3782d1791676daf-1\\xgboost\\xgboost-ci-windows\\src\\learner.cc:742: \n",
      "Parameters: { \"criterion\" } are not used.\n",
      "\n",
      "  warnings.warn(smsg, UserWarning)\n"
     ]
    },
    {
     "name": "stdout",
     "output_type": "stream",
     "text": [
      "#####################\n",
      "booster  gbtree\n",
      "n_estimators  150\n",
      "eta  0.7\n",
      "max_depth  30\n",
      "lambda  5.0\n",
      "criterion  entropy\n",
      "max_leaves  0\n",
      "0.9418125643666323\n"
     ]
    },
    {
     "name": "stderr",
     "output_type": "stream",
     "text": [
      "c:\\Users\\loren\\anaconda3\\envs\\TensorFlow\\lib\\site-packages\\xgboost\\core.py:160: UserWarning: [11:00:07] WARNING: C:\\buildkite-agent\\builds\\buildkite-windows-cpu-autoscaling-group-i-0b3782d1791676daf-1\\xgboost\\xgboost-ci-windows\\src\\learner.cc:742: \n",
      "Parameters: { \"criterion\" } are not used.\n",
      "\n",
      "  warnings.warn(smsg, UserWarning)\n"
     ]
    },
    {
     "name": "stdout",
     "output_type": "stream",
     "text": [
      "#####################\n",
      "booster  gbtree\n",
      "n_estimators  150\n",
      "eta  0.7\n",
      "max_depth  30\n",
      "lambda  5.0\n",
      "criterion  entropy\n",
      "max_leaves  1\n",
      "0.3388259526261586\n"
     ]
    },
    {
     "name": "stderr",
     "output_type": "stream",
     "text": [
      "c:\\Users\\loren\\anaconda3\\envs\\TensorFlow\\lib\\site-packages\\xgboost\\core.py:160: UserWarning: [11:00:08] WARNING: C:\\buildkite-agent\\builds\\buildkite-windows-cpu-autoscaling-group-i-0b3782d1791676daf-1\\xgboost\\xgboost-ci-windows\\src\\learner.cc:742: \n",
      "Parameters: { \"criterion\" } are not used.\n",
      "\n",
      "  warnings.warn(smsg, UserWarning)\n"
     ]
    },
    {
     "name": "stdout",
     "output_type": "stream",
     "text": [
      "#####################\n",
      "booster  gbtree\n",
      "n_estimators  150\n",
      "eta  0.7\n",
      "max_depth  30\n",
      "lambda  5.0\n",
      "criterion  entropy\n",
      "max_leaves  5\n",
      "0.9397528321318228\n"
     ]
    },
    {
     "name": "stderr",
     "output_type": "stream",
     "text": [
      "c:\\Users\\loren\\anaconda3\\envs\\TensorFlow\\lib\\site-packages\\xgboost\\core.py:160: UserWarning: [11:00:09] WARNING: C:\\buildkite-agent\\builds\\buildkite-windows-cpu-autoscaling-group-i-0b3782d1791676daf-1\\xgboost\\xgboost-ci-windows\\src\\learner.cc:742: \n",
      "Parameters: { \"criterion\" } are not used.\n",
      "\n",
      "  warnings.warn(smsg, UserWarning)\n"
     ]
    },
    {
     "name": "stdout",
     "output_type": "stream",
     "text": [
      "#####################\n",
      "booster  gbtree\n",
      "n_estimators  150\n",
      "eta  0.9\n",
      "max_depth  5\n",
      "lambda  0.0\n",
      "criterion  gini\n",
      "max_leaves  0\n",
      "0.9433573635427395\n"
     ]
    },
    {
     "name": "stderr",
     "output_type": "stream",
     "text": [
      "c:\\Users\\loren\\anaconda3\\envs\\TensorFlow\\lib\\site-packages\\xgboost\\core.py:160: UserWarning: [11:00:09] WARNING: C:\\buildkite-agent\\builds\\buildkite-windows-cpu-autoscaling-group-i-0b3782d1791676daf-1\\xgboost\\xgboost-ci-windows\\src\\learner.cc:742: \n",
      "Parameters: { \"criterion\" } are not used.\n",
      "\n",
      "  warnings.warn(smsg, UserWarning)\n"
     ]
    },
    {
     "name": "stdout",
     "output_type": "stream",
     "text": [
      "#####################\n",
      "booster  gbtree\n",
      "n_estimators  150\n",
      "eta  0.9\n",
      "max_depth  5\n",
      "lambda  0.0\n",
      "criterion  gini\n",
      "max_leaves  1\n",
      "0.3388259526261586\n"
     ]
    },
    {
     "name": "stderr",
     "output_type": "stream",
     "text": [
      "c:\\Users\\loren\\anaconda3\\envs\\TensorFlow\\lib\\site-packages\\xgboost\\core.py:160: UserWarning: [11:00:10] WARNING: C:\\buildkite-agent\\builds\\buildkite-windows-cpu-autoscaling-group-i-0b3782d1791676daf-1\\xgboost\\xgboost-ci-windows\\src\\learner.cc:742: \n",
      "Parameters: { \"criterion\" } are not used.\n",
      "\n",
      "  warnings.warn(smsg, UserWarning)\n"
     ]
    },
    {
     "name": "stdout",
     "output_type": "stream",
     "text": [
      "#####################\n",
      "booster  gbtree\n",
      "n_estimators  150\n",
      "eta  0.9\n",
      "max_depth  5\n",
      "lambda  0.0\n",
      "criterion  gini\n",
      "max_leaves  5\n",
      "0.9459320288362513\n"
     ]
    },
    {
     "name": "stderr",
     "output_type": "stream",
     "text": [
      "c:\\Users\\loren\\anaconda3\\envs\\TensorFlow\\lib\\site-packages\\xgboost\\core.py:160: UserWarning: [11:00:11] WARNING: C:\\buildkite-agent\\builds\\buildkite-windows-cpu-autoscaling-group-i-0b3782d1791676daf-1\\xgboost\\xgboost-ci-windows\\src\\learner.cc:742: \n",
      "Parameters: { \"criterion\" } are not used.\n",
      "\n",
      "  warnings.warn(smsg, UserWarning)\n"
     ]
    },
    {
     "name": "stdout",
     "output_type": "stream",
     "text": [
      "#####################\n",
      "booster  gbtree\n",
      "n_estimators  150\n",
      "eta  0.9\n",
      "max_depth  5\n",
      "lambda  0.0\n",
      "criterion  entropy\n",
      "max_leaves  0\n",
      "0.9433573635427395\n"
     ]
    },
    {
     "name": "stderr",
     "output_type": "stream",
     "text": [
      "c:\\Users\\loren\\anaconda3\\envs\\TensorFlow\\lib\\site-packages\\xgboost\\core.py:160: UserWarning: [11:00:11] WARNING: C:\\buildkite-agent\\builds\\buildkite-windows-cpu-autoscaling-group-i-0b3782d1791676daf-1\\xgboost\\xgboost-ci-windows\\src\\learner.cc:742: \n",
      "Parameters: { \"criterion\" } are not used.\n",
      "\n",
      "  warnings.warn(smsg, UserWarning)\n"
     ]
    },
    {
     "name": "stdout",
     "output_type": "stream",
     "text": [
      "#####################\n",
      "booster  gbtree\n",
      "n_estimators  150\n",
      "eta  0.9\n",
      "max_depth  5\n",
      "lambda  0.0\n",
      "criterion  entropy\n",
      "max_leaves  1\n",
      "0.3388259526261586\n"
     ]
    },
    {
     "name": "stderr",
     "output_type": "stream",
     "text": [
      "c:\\Users\\loren\\anaconda3\\envs\\TensorFlow\\lib\\site-packages\\xgboost\\core.py:160: UserWarning: [11:00:12] WARNING: C:\\buildkite-agent\\builds\\buildkite-windows-cpu-autoscaling-group-i-0b3782d1791676daf-1\\xgboost\\xgboost-ci-windows\\src\\learner.cc:742: \n",
      "Parameters: { \"criterion\" } are not used.\n",
      "\n",
      "  warnings.warn(smsg, UserWarning)\n"
     ]
    },
    {
     "name": "stdout",
     "output_type": "stream",
     "text": [
      "#####################\n",
      "booster  gbtree\n",
      "n_estimators  150\n",
      "eta  0.9\n",
      "max_depth  5\n",
      "lambda  0.0\n",
      "criterion  entropy\n",
      "max_leaves  5\n",
      "0.9459320288362513\n"
     ]
    },
    {
     "name": "stderr",
     "output_type": "stream",
     "text": [
      "c:\\Users\\loren\\anaconda3\\envs\\TensorFlow\\lib\\site-packages\\xgboost\\core.py:160: UserWarning: [11:00:13] WARNING: C:\\buildkite-agent\\builds\\buildkite-windows-cpu-autoscaling-group-i-0b3782d1791676daf-1\\xgboost\\xgboost-ci-windows\\src\\learner.cc:742: \n",
      "Parameters: { \"criterion\" } are not used.\n",
      "\n",
      "  warnings.warn(smsg, UserWarning)\n"
     ]
    },
    {
     "name": "stdout",
     "output_type": "stream",
     "text": [
      "#####################\n",
      "booster  gbtree\n",
      "n_estimators  150\n",
      "eta  0.9\n",
      "max_depth  5\n",
      "lambda  1.0\n",
      "criterion  gini\n",
      "max_leaves  0\n",
      "0.9407826982492276\n"
     ]
    },
    {
     "name": "stderr",
     "output_type": "stream",
     "text": [
      "c:\\Users\\loren\\anaconda3\\envs\\TensorFlow\\lib\\site-packages\\xgboost\\core.py:160: UserWarning: [11:00:14] WARNING: C:\\buildkite-agent\\builds\\buildkite-windows-cpu-autoscaling-group-i-0b3782d1791676daf-1\\xgboost\\xgboost-ci-windows\\src\\learner.cc:742: \n",
      "Parameters: { \"criterion\" } are not used.\n",
      "\n",
      "  warnings.warn(smsg, UserWarning)\n"
     ]
    },
    {
     "name": "stdout",
     "output_type": "stream",
     "text": [
      "#####################\n",
      "booster  gbtree\n",
      "n_estimators  150\n",
      "eta  0.9\n",
      "max_depth  5\n",
      "lambda  1.0\n",
      "criterion  gini\n",
      "max_leaves  1\n",
      "0.3388259526261586\n"
     ]
    },
    {
     "name": "stderr",
     "output_type": "stream",
     "text": [
      "c:\\Users\\loren\\anaconda3\\envs\\TensorFlow\\lib\\site-packages\\xgboost\\core.py:160: UserWarning: [11:00:14] WARNING: C:\\buildkite-agent\\builds\\buildkite-windows-cpu-autoscaling-group-i-0b3782d1791676daf-1\\xgboost\\xgboost-ci-windows\\src\\learner.cc:742: \n",
      "Parameters: { \"criterion\" } are not used.\n",
      "\n",
      "  warnings.warn(smsg, UserWarning)\n"
     ]
    },
    {
     "name": "stdout",
     "output_type": "stream",
     "text": [
      "#####################\n",
      "booster  gbtree\n",
      "n_estimators  150\n",
      "eta  0.9\n",
      "max_depth  5\n",
      "lambda  1.0\n",
      "criterion  gini\n",
      "max_leaves  5\n",
      "0.9418125643666323\n"
     ]
    },
    {
     "name": "stderr",
     "output_type": "stream",
     "text": [
      "c:\\Users\\loren\\anaconda3\\envs\\TensorFlow\\lib\\site-packages\\xgboost\\core.py:160: UserWarning: [11:00:15] WARNING: C:\\buildkite-agent\\builds\\buildkite-windows-cpu-autoscaling-group-i-0b3782d1791676daf-1\\xgboost\\xgboost-ci-windows\\src\\learner.cc:742: \n",
      "Parameters: { \"criterion\" } are not used.\n",
      "\n",
      "  warnings.warn(smsg, UserWarning)\n"
     ]
    },
    {
     "name": "stdout",
     "output_type": "stream",
     "text": [
      "#####################\n",
      "booster  gbtree\n",
      "n_estimators  150\n",
      "eta  0.9\n",
      "max_depth  5\n",
      "lambda  1.0\n",
      "criterion  entropy\n",
      "max_leaves  0\n",
      "0.9407826982492276\n"
     ]
    },
    {
     "name": "stderr",
     "output_type": "stream",
     "text": [
      "c:\\Users\\loren\\anaconda3\\envs\\TensorFlow\\lib\\site-packages\\xgboost\\core.py:160: UserWarning: [11:00:16] WARNING: C:\\buildkite-agent\\builds\\buildkite-windows-cpu-autoscaling-group-i-0b3782d1791676daf-1\\xgboost\\xgboost-ci-windows\\src\\learner.cc:742: \n",
      "Parameters: { \"criterion\" } are not used.\n",
      "\n",
      "  warnings.warn(smsg, UserWarning)\n"
     ]
    },
    {
     "name": "stdout",
     "output_type": "stream",
     "text": [
      "#####################\n",
      "booster  gbtree\n",
      "n_estimators  150\n",
      "eta  0.9\n",
      "max_depth  5\n",
      "lambda  1.0\n",
      "criterion  entropy\n",
      "max_leaves  1\n",
      "0.3388259526261586\n"
     ]
    },
    {
     "name": "stderr",
     "output_type": "stream",
     "text": [
      "c:\\Users\\loren\\anaconda3\\envs\\TensorFlow\\lib\\site-packages\\xgboost\\core.py:160: UserWarning: [11:00:16] WARNING: C:\\buildkite-agent\\builds\\buildkite-windows-cpu-autoscaling-group-i-0b3782d1791676daf-1\\xgboost\\xgboost-ci-windows\\src\\learner.cc:742: \n",
      "Parameters: { \"criterion\" } are not used.\n",
      "\n",
      "  warnings.warn(smsg, UserWarning)\n"
     ]
    },
    {
     "name": "stdout",
     "output_type": "stream",
     "text": [
      "#####################\n",
      "booster  gbtree\n",
      "n_estimators  150\n",
      "eta  0.9\n",
      "max_depth  5\n",
      "lambda  1.0\n",
      "criterion  entropy\n",
      "max_leaves  5\n",
      "0.9418125643666323\n"
     ]
    },
    {
     "name": "stderr",
     "output_type": "stream",
     "text": [
      "c:\\Users\\loren\\anaconda3\\envs\\TensorFlow\\lib\\site-packages\\xgboost\\core.py:160: UserWarning: [11:00:17] WARNING: C:\\buildkite-agent\\builds\\buildkite-windows-cpu-autoscaling-group-i-0b3782d1791676daf-1\\xgboost\\xgboost-ci-windows\\src\\learner.cc:742: \n",
      "Parameters: { \"criterion\" } are not used.\n",
      "\n",
      "  warnings.warn(smsg, UserWarning)\n"
     ]
    },
    {
     "name": "stdout",
     "output_type": "stream",
     "text": [
      "#####################\n",
      "booster  gbtree\n",
      "n_estimators  150\n",
      "eta  0.9\n",
      "max_depth  5\n",
      "lambda  5.0\n",
      "criterion  gini\n",
      "max_leaves  0\n",
      "0.946961894953656\n"
     ]
    },
    {
     "name": "stderr",
     "output_type": "stream",
     "text": [
      "c:\\Users\\loren\\anaconda3\\envs\\TensorFlow\\lib\\site-packages\\xgboost\\core.py:160: UserWarning: [11:00:18] WARNING: C:\\buildkite-agent\\builds\\buildkite-windows-cpu-autoscaling-group-i-0b3782d1791676daf-1\\xgboost\\xgboost-ci-windows\\src\\learner.cc:742: \n",
      "Parameters: { \"criterion\" } are not used.\n",
      "\n",
      "  warnings.warn(smsg, UserWarning)\n"
     ]
    },
    {
     "name": "stdout",
     "output_type": "stream",
     "text": [
      "#####################\n",
      "booster  gbtree\n",
      "n_estimators  150\n",
      "eta  0.9\n",
      "max_depth  5\n",
      "lambda  5.0\n",
      "criterion  gini\n",
      "max_leaves  1\n",
      "0.3388259526261586\n"
     ]
    },
    {
     "name": "stderr",
     "output_type": "stream",
     "text": [
      "c:\\Users\\loren\\anaconda3\\envs\\TensorFlow\\lib\\site-packages\\xgboost\\core.py:160: UserWarning: [11:00:18] WARNING: C:\\buildkite-agent\\builds\\buildkite-windows-cpu-autoscaling-group-i-0b3782d1791676daf-1\\xgboost\\xgboost-ci-windows\\src\\learner.cc:742: \n",
      "Parameters: { \"criterion\" } are not used.\n",
      "\n",
      "  warnings.warn(smsg, UserWarning)\n"
     ]
    },
    {
     "name": "stdout",
     "output_type": "stream",
     "text": [
      "#####################\n",
      "booster  gbtree\n",
      "n_estimators  150\n",
      "eta  0.9\n",
      "max_depth  5\n",
      "lambda  5.0\n",
      "criterion  gini\n",
      "max_leaves  5\n",
      "0.9407826982492276\n"
     ]
    },
    {
     "name": "stderr",
     "output_type": "stream",
     "text": [
      "c:\\Users\\loren\\anaconda3\\envs\\TensorFlow\\lib\\site-packages\\xgboost\\core.py:160: UserWarning: [11:00:20] WARNING: C:\\buildkite-agent\\builds\\buildkite-windows-cpu-autoscaling-group-i-0b3782d1791676daf-1\\xgboost\\xgboost-ci-windows\\src\\learner.cc:742: \n",
      "Parameters: { \"criterion\" } are not used.\n",
      "\n",
      "  warnings.warn(smsg, UserWarning)\n"
     ]
    },
    {
     "name": "stdout",
     "output_type": "stream",
     "text": [
      "#####################\n",
      "booster  gbtree\n",
      "n_estimators  150\n",
      "eta  0.9\n",
      "max_depth  5\n",
      "lambda  5.0\n",
      "criterion  entropy\n",
      "max_leaves  0\n",
      "0.946961894953656\n"
     ]
    },
    {
     "name": "stderr",
     "output_type": "stream",
     "text": [
      "c:\\Users\\loren\\anaconda3\\envs\\TensorFlow\\lib\\site-packages\\xgboost\\core.py:160: UserWarning: [11:00:21] WARNING: C:\\buildkite-agent\\builds\\buildkite-windows-cpu-autoscaling-group-i-0b3782d1791676daf-1\\xgboost\\xgboost-ci-windows\\src\\learner.cc:742: \n",
      "Parameters: { \"criterion\" } are not used.\n",
      "\n",
      "  warnings.warn(smsg, UserWarning)\n"
     ]
    },
    {
     "name": "stdout",
     "output_type": "stream",
     "text": [
      "#####################\n",
      "booster  gbtree\n",
      "n_estimators  150\n",
      "eta  0.9\n",
      "max_depth  5\n",
      "lambda  5.0\n",
      "criterion  entropy\n",
      "max_leaves  1\n",
      "0.3388259526261586\n"
     ]
    },
    {
     "name": "stderr",
     "output_type": "stream",
     "text": [
      "c:\\Users\\loren\\anaconda3\\envs\\TensorFlow\\lib\\site-packages\\xgboost\\core.py:160: UserWarning: [11:00:22] WARNING: C:\\buildkite-agent\\builds\\buildkite-windows-cpu-autoscaling-group-i-0b3782d1791676daf-1\\xgboost\\xgboost-ci-windows\\src\\learner.cc:742: \n",
      "Parameters: { \"criterion\" } are not used.\n",
      "\n",
      "  warnings.warn(smsg, UserWarning)\n"
     ]
    },
    {
     "name": "stdout",
     "output_type": "stream",
     "text": [
      "#####################\n",
      "booster  gbtree\n",
      "n_estimators  150\n",
      "eta  0.9\n",
      "max_depth  5\n",
      "lambda  5.0\n",
      "criterion  entropy\n",
      "max_leaves  5\n",
      "0.9407826982492276\n"
     ]
    },
    {
     "name": "stderr",
     "output_type": "stream",
     "text": [
      "c:\\Users\\loren\\anaconda3\\envs\\TensorFlow\\lib\\site-packages\\xgboost\\core.py:160: UserWarning: [11:00:22] WARNING: C:\\buildkite-agent\\builds\\buildkite-windows-cpu-autoscaling-group-i-0b3782d1791676daf-1\\xgboost\\xgboost-ci-windows\\src\\learner.cc:742: \n",
      "Parameters: { \"criterion\" } are not used.\n",
      "\n",
      "  warnings.warn(smsg, UserWarning)\n"
     ]
    },
    {
     "name": "stdout",
     "output_type": "stream",
     "text": [
      "#####################\n",
      "booster  gbtree\n",
      "n_estimators  150\n",
      "eta  0.9\n",
      "max_depth  10\n",
      "lambda  0.0\n",
      "criterion  gini\n",
      "max_leaves  0\n",
      "0.94129763130793\n"
     ]
    },
    {
     "name": "stderr",
     "output_type": "stream",
     "text": [
      "c:\\Users\\loren\\anaconda3\\envs\\TensorFlow\\lib\\site-packages\\xgboost\\core.py:160: UserWarning: [11:00:23] WARNING: C:\\buildkite-agent\\builds\\buildkite-windows-cpu-autoscaling-group-i-0b3782d1791676daf-1\\xgboost\\xgboost-ci-windows\\src\\learner.cc:742: \n",
      "Parameters: { \"criterion\" } are not used.\n",
      "\n",
      "  warnings.warn(smsg, UserWarning)\n"
     ]
    },
    {
     "name": "stdout",
     "output_type": "stream",
     "text": [
      "#####################\n",
      "booster  gbtree\n",
      "n_estimators  150\n",
      "eta  0.9\n",
      "max_depth  10\n",
      "lambda  0.0\n",
      "criterion  gini\n",
      "max_leaves  1\n",
      "0.3388259526261586\n"
     ]
    },
    {
     "name": "stderr",
     "output_type": "stream",
     "text": [
      "c:\\Users\\loren\\anaconda3\\envs\\TensorFlow\\lib\\site-packages\\xgboost\\core.py:160: UserWarning: [11:00:23] WARNING: C:\\buildkite-agent\\builds\\buildkite-windows-cpu-autoscaling-group-i-0b3782d1791676daf-1\\xgboost\\xgboost-ci-windows\\src\\learner.cc:742: \n",
      "Parameters: { \"criterion\" } are not used.\n",
      "\n",
      "  warnings.warn(smsg, UserWarning)\n"
     ]
    },
    {
     "name": "stdout",
     "output_type": "stream",
     "text": [
      "#####################\n",
      "booster  gbtree\n",
      "n_estimators  150\n",
      "eta  0.9\n",
      "max_depth  10\n",
      "lambda  0.0\n",
      "criterion  gini\n",
      "max_leaves  5\n",
      "0.9459320288362513\n"
     ]
    },
    {
     "name": "stderr",
     "output_type": "stream",
     "text": [
      "c:\\Users\\loren\\anaconda3\\envs\\TensorFlow\\lib\\site-packages\\xgboost\\core.py:160: UserWarning: [11:00:24] WARNING: C:\\buildkite-agent\\builds\\buildkite-windows-cpu-autoscaling-group-i-0b3782d1791676daf-1\\xgboost\\xgboost-ci-windows\\src\\learner.cc:742: \n",
      "Parameters: { \"criterion\" } are not used.\n",
      "\n",
      "  warnings.warn(smsg, UserWarning)\n"
     ]
    },
    {
     "name": "stdout",
     "output_type": "stream",
     "text": [
      "#####################\n",
      "booster  gbtree\n",
      "n_estimators  150\n",
      "eta  0.9\n",
      "max_depth  10\n",
      "lambda  0.0\n",
      "criterion  entropy\n",
      "max_leaves  0\n",
      "0.94129763130793\n"
     ]
    },
    {
     "name": "stderr",
     "output_type": "stream",
     "text": [
      "c:\\Users\\loren\\anaconda3\\envs\\TensorFlow\\lib\\site-packages\\xgboost\\core.py:160: UserWarning: [11:00:24] WARNING: C:\\buildkite-agent\\builds\\buildkite-windows-cpu-autoscaling-group-i-0b3782d1791676daf-1\\xgboost\\xgboost-ci-windows\\src\\learner.cc:742: \n",
      "Parameters: { \"criterion\" } are not used.\n",
      "\n",
      "  warnings.warn(smsg, UserWarning)\n"
     ]
    },
    {
     "name": "stdout",
     "output_type": "stream",
     "text": [
      "#####################\n",
      "booster  gbtree\n",
      "n_estimators  150\n",
      "eta  0.9\n",
      "max_depth  10\n",
      "lambda  0.0\n",
      "criterion  entropy\n",
      "max_leaves  1\n",
      "0.3388259526261586\n"
     ]
    },
    {
     "name": "stderr",
     "output_type": "stream",
     "text": [
      "c:\\Users\\loren\\anaconda3\\envs\\TensorFlow\\lib\\site-packages\\xgboost\\core.py:160: UserWarning: [11:00:25] WARNING: C:\\buildkite-agent\\builds\\buildkite-windows-cpu-autoscaling-group-i-0b3782d1791676daf-1\\xgboost\\xgboost-ci-windows\\src\\learner.cc:742: \n",
      "Parameters: { \"criterion\" } are not used.\n",
      "\n",
      "  warnings.warn(smsg, UserWarning)\n"
     ]
    },
    {
     "name": "stdout",
     "output_type": "stream",
     "text": [
      "#####################\n",
      "booster  gbtree\n",
      "n_estimators  150\n",
      "eta  0.9\n",
      "max_depth  10\n",
      "lambda  0.0\n",
      "criterion  entropy\n",
      "max_leaves  5\n",
      "0.9459320288362513\n"
     ]
    },
    {
     "name": "stderr",
     "output_type": "stream",
     "text": [
      "c:\\Users\\loren\\anaconda3\\envs\\TensorFlow\\lib\\site-packages\\xgboost\\core.py:160: UserWarning: [11:00:25] WARNING: C:\\buildkite-agent\\builds\\buildkite-windows-cpu-autoscaling-group-i-0b3782d1791676daf-1\\xgboost\\xgboost-ci-windows\\src\\learner.cc:742: \n",
      "Parameters: { \"criterion\" } are not used.\n",
      "\n",
      "  warnings.warn(smsg, UserWarning)\n"
     ]
    },
    {
     "name": "stdout",
     "output_type": "stream",
     "text": [
      "#####################\n",
      "booster  gbtree\n",
      "n_estimators  150\n",
      "eta  0.9\n",
      "max_depth  10\n",
      "lambda  1.0\n",
      "criterion  gini\n",
      "max_leaves  0\n",
      "0.9407826982492276\n"
     ]
    },
    {
     "name": "stderr",
     "output_type": "stream",
     "text": [
      "c:\\Users\\loren\\anaconda3\\envs\\TensorFlow\\lib\\site-packages\\xgboost\\core.py:160: UserWarning: [11:00:26] WARNING: C:\\buildkite-agent\\builds\\buildkite-windows-cpu-autoscaling-group-i-0b3782d1791676daf-1\\xgboost\\xgboost-ci-windows\\src\\learner.cc:742: \n",
      "Parameters: { \"criterion\" } are not used.\n",
      "\n",
      "  warnings.warn(smsg, UserWarning)\n"
     ]
    },
    {
     "name": "stdout",
     "output_type": "stream",
     "text": [
      "#####################\n",
      "booster  gbtree\n",
      "n_estimators  150\n",
      "eta  0.9\n",
      "max_depth  10\n",
      "lambda  1.0\n",
      "criterion  gini\n",
      "max_leaves  1\n",
      "0.3388259526261586\n"
     ]
    },
    {
     "name": "stderr",
     "output_type": "stream",
     "text": [
      "c:\\Users\\loren\\anaconda3\\envs\\TensorFlow\\lib\\site-packages\\xgboost\\core.py:160: UserWarning: [11:00:26] WARNING: C:\\buildkite-agent\\builds\\buildkite-windows-cpu-autoscaling-group-i-0b3782d1791676daf-1\\xgboost\\xgboost-ci-windows\\src\\learner.cc:742: \n",
      "Parameters: { \"criterion\" } are not used.\n",
      "\n",
      "  warnings.warn(smsg, UserWarning)\n"
     ]
    },
    {
     "name": "stdout",
     "output_type": "stream",
     "text": [
      "#####################\n",
      "booster  gbtree\n",
      "n_estimators  150\n",
      "eta  0.9\n",
      "max_depth  10\n",
      "lambda  1.0\n",
      "criterion  gini\n",
      "max_leaves  5\n",
      "0.9418125643666323\n"
     ]
    },
    {
     "name": "stderr",
     "output_type": "stream",
     "text": [
      "c:\\Users\\loren\\anaconda3\\envs\\TensorFlow\\lib\\site-packages\\xgboost\\core.py:160: UserWarning: [11:00:27] WARNING: C:\\buildkite-agent\\builds\\buildkite-windows-cpu-autoscaling-group-i-0b3782d1791676daf-1\\xgboost\\xgboost-ci-windows\\src\\learner.cc:742: \n",
      "Parameters: { \"criterion\" } are not used.\n",
      "\n",
      "  warnings.warn(smsg, UserWarning)\n"
     ]
    },
    {
     "name": "stdout",
     "output_type": "stream",
     "text": [
      "#####################\n",
      "booster  gbtree\n",
      "n_estimators  150\n",
      "eta  0.9\n",
      "max_depth  10\n",
      "lambda  1.0\n",
      "criterion  entropy\n",
      "max_leaves  0\n",
      "0.9407826982492276\n"
     ]
    },
    {
     "name": "stderr",
     "output_type": "stream",
     "text": [
      "c:\\Users\\loren\\anaconda3\\envs\\TensorFlow\\lib\\site-packages\\xgboost\\core.py:160: UserWarning: [11:00:28] WARNING: C:\\buildkite-agent\\builds\\buildkite-windows-cpu-autoscaling-group-i-0b3782d1791676daf-1\\xgboost\\xgboost-ci-windows\\src\\learner.cc:742: \n",
      "Parameters: { \"criterion\" } are not used.\n",
      "\n",
      "  warnings.warn(smsg, UserWarning)\n"
     ]
    },
    {
     "name": "stdout",
     "output_type": "stream",
     "text": [
      "#####################\n",
      "booster  gbtree\n",
      "n_estimators  150\n",
      "eta  0.9\n",
      "max_depth  10\n",
      "lambda  1.0\n",
      "criterion  entropy\n",
      "max_leaves  1\n",
      "0.3388259526261586\n"
     ]
    },
    {
     "name": "stderr",
     "output_type": "stream",
     "text": [
      "c:\\Users\\loren\\anaconda3\\envs\\TensorFlow\\lib\\site-packages\\xgboost\\core.py:160: UserWarning: [11:00:28] WARNING: C:\\buildkite-agent\\builds\\buildkite-windows-cpu-autoscaling-group-i-0b3782d1791676daf-1\\xgboost\\xgboost-ci-windows\\src\\learner.cc:742: \n",
      "Parameters: { \"criterion\" } are not used.\n",
      "\n",
      "  warnings.warn(smsg, UserWarning)\n"
     ]
    },
    {
     "name": "stdout",
     "output_type": "stream",
     "text": [
      "#####################\n",
      "booster  gbtree\n",
      "n_estimators  150\n",
      "eta  0.9\n",
      "max_depth  10\n",
      "lambda  1.0\n",
      "criterion  entropy\n",
      "max_leaves  5\n",
      "0.9418125643666323\n"
     ]
    },
    {
     "name": "stderr",
     "output_type": "stream",
     "text": [
      "c:\\Users\\loren\\anaconda3\\envs\\TensorFlow\\lib\\site-packages\\xgboost\\core.py:160: UserWarning: [11:00:29] WARNING: C:\\buildkite-agent\\builds\\buildkite-windows-cpu-autoscaling-group-i-0b3782d1791676daf-1\\xgboost\\xgboost-ci-windows\\src\\learner.cc:742: \n",
      "Parameters: { \"criterion\" } are not used.\n",
      "\n",
      "  warnings.warn(smsg, UserWarning)\n"
     ]
    },
    {
     "name": "stdout",
     "output_type": "stream",
     "text": [
      "#####################\n",
      "booster  gbtree\n",
      "n_estimators  150\n",
      "eta  0.9\n",
      "max_depth  10\n",
      "lambda  5.0\n",
      "criterion  gini\n",
      "max_leaves  0\n",
      "0.9443872296601442\n"
     ]
    },
    {
     "name": "stderr",
     "output_type": "stream",
     "text": [
      "c:\\Users\\loren\\anaconda3\\envs\\TensorFlow\\lib\\site-packages\\xgboost\\core.py:160: UserWarning: [11:00:30] WARNING: C:\\buildkite-agent\\builds\\buildkite-windows-cpu-autoscaling-group-i-0b3782d1791676daf-1\\xgboost\\xgboost-ci-windows\\src\\learner.cc:742: \n",
      "Parameters: { \"criterion\" } are not used.\n",
      "\n",
      "  warnings.warn(smsg, UserWarning)\n"
     ]
    },
    {
     "name": "stdout",
     "output_type": "stream",
     "text": [
      "#####################\n",
      "booster  gbtree\n",
      "n_estimators  150\n",
      "eta  0.9\n",
      "max_depth  10\n",
      "lambda  5.0\n",
      "criterion  gini\n",
      "max_leaves  1\n",
      "0.3388259526261586\n"
     ]
    },
    {
     "name": "stderr",
     "output_type": "stream",
     "text": [
      "c:\\Users\\loren\\anaconda3\\envs\\TensorFlow\\lib\\site-packages\\xgboost\\core.py:160: UserWarning: [11:00:30] WARNING: C:\\buildkite-agent\\builds\\buildkite-windows-cpu-autoscaling-group-i-0b3782d1791676daf-1\\xgboost\\xgboost-ci-windows\\src\\learner.cc:742: \n",
      "Parameters: { \"criterion\" } are not used.\n",
      "\n",
      "  warnings.warn(smsg, UserWarning)\n"
     ]
    },
    {
     "name": "stdout",
     "output_type": "stream",
     "text": [
      "#####################\n",
      "booster  gbtree\n",
      "n_estimators  150\n",
      "eta  0.9\n",
      "max_depth  10\n",
      "lambda  5.0\n",
      "criterion  gini\n",
      "max_leaves  5\n",
      "0.9407826982492276\n"
     ]
    },
    {
     "name": "stderr",
     "output_type": "stream",
     "text": [
      "c:\\Users\\loren\\anaconda3\\envs\\TensorFlow\\lib\\site-packages\\xgboost\\core.py:160: UserWarning: [11:00:31] WARNING: C:\\buildkite-agent\\builds\\buildkite-windows-cpu-autoscaling-group-i-0b3782d1791676daf-1\\xgboost\\xgboost-ci-windows\\src\\learner.cc:742: \n",
      "Parameters: { \"criterion\" } are not used.\n",
      "\n",
      "  warnings.warn(smsg, UserWarning)\n"
     ]
    },
    {
     "name": "stdout",
     "output_type": "stream",
     "text": [
      "#####################\n",
      "booster  gbtree\n",
      "n_estimators  150\n",
      "eta  0.9\n",
      "max_depth  10\n",
      "lambda  5.0\n",
      "criterion  entropy\n",
      "max_leaves  0\n",
      "0.9443872296601442\n"
     ]
    },
    {
     "name": "stderr",
     "output_type": "stream",
     "text": [
      "c:\\Users\\loren\\anaconda3\\envs\\TensorFlow\\lib\\site-packages\\xgboost\\core.py:160: UserWarning: [11:00:32] WARNING: C:\\buildkite-agent\\builds\\buildkite-windows-cpu-autoscaling-group-i-0b3782d1791676daf-1\\xgboost\\xgboost-ci-windows\\src\\learner.cc:742: \n",
      "Parameters: { \"criterion\" } are not used.\n",
      "\n",
      "  warnings.warn(smsg, UserWarning)\n"
     ]
    },
    {
     "name": "stdout",
     "output_type": "stream",
     "text": [
      "#####################\n",
      "booster  gbtree\n",
      "n_estimators  150\n",
      "eta  0.9\n",
      "max_depth  10\n",
      "lambda  5.0\n",
      "criterion  entropy\n",
      "max_leaves  1\n",
      "0.3388259526261586\n"
     ]
    },
    {
     "name": "stderr",
     "output_type": "stream",
     "text": [
      "c:\\Users\\loren\\anaconda3\\envs\\TensorFlow\\lib\\site-packages\\xgboost\\core.py:160: UserWarning: [11:00:32] WARNING: C:\\buildkite-agent\\builds\\buildkite-windows-cpu-autoscaling-group-i-0b3782d1791676daf-1\\xgboost\\xgboost-ci-windows\\src\\learner.cc:742: \n",
      "Parameters: { \"criterion\" } are not used.\n",
      "\n",
      "  warnings.warn(smsg, UserWarning)\n"
     ]
    },
    {
     "name": "stdout",
     "output_type": "stream",
     "text": [
      "#####################\n",
      "booster  gbtree\n",
      "n_estimators  150\n",
      "eta  0.9\n",
      "max_depth  10\n",
      "lambda  5.0\n",
      "criterion  entropy\n",
      "max_leaves  5\n",
      "0.9407826982492276\n"
     ]
    },
    {
     "name": "stderr",
     "output_type": "stream",
     "text": [
      "c:\\Users\\loren\\anaconda3\\envs\\TensorFlow\\lib\\site-packages\\xgboost\\core.py:160: UserWarning: [11:00:33] WARNING: C:\\buildkite-agent\\builds\\buildkite-windows-cpu-autoscaling-group-i-0b3782d1791676daf-1\\xgboost\\xgboost-ci-windows\\src\\learner.cc:742: \n",
      "Parameters: { \"criterion\" } are not used.\n",
      "\n",
      "  warnings.warn(smsg, UserWarning)\n"
     ]
    },
    {
     "name": "stdout",
     "output_type": "stream",
     "text": [
      "#####################\n",
      "booster  gbtree\n",
      "n_estimators  150\n",
      "eta  0.9\n",
      "max_depth  20\n",
      "lambda  0.0\n",
      "criterion  gini\n",
      "max_leaves  0\n",
      "0.937178166838311\n"
     ]
    },
    {
     "name": "stderr",
     "output_type": "stream",
     "text": [
      "c:\\Users\\loren\\anaconda3\\envs\\TensorFlow\\lib\\site-packages\\xgboost\\core.py:160: UserWarning: [11:00:34] WARNING: C:\\buildkite-agent\\builds\\buildkite-windows-cpu-autoscaling-group-i-0b3782d1791676daf-1\\xgboost\\xgboost-ci-windows\\src\\learner.cc:742: \n",
      "Parameters: { \"criterion\" } are not used.\n",
      "\n",
      "  warnings.warn(smsg, UserWarning)\n"
     ]
    },
    {
     "name": "stdout",
     "output_type": "stream",
     "text": [
      "#####################\n",
      "booster  gbtree\n",
      "n_estimators  150\n",
      "eta  0.9\n",
      "max_depth  20\n",
      "lambda  0.0\n",
      "criterion  gini\n",
      "max_leaves  1\n",
      "0.3388259526261586\n"
     ]
    },
    {
     "name": "stderr",
     "output_type": "stream",
     "text": [
      "c:\\Users\\loren\\anaconda3\\envs\\TensorFlow\\lib\\site-packages\\xgboost\\core.py:160: UserWarning: [11:00:34] WARNING: C:\\buildkite-agent\\builds\\buildkite-windows-cpu-autoscaling-group-i-0b3782d1791676daf-1\\xgboost\\xgboost-ci-windows\\src\\learner.cc:742: \n",
      "Parameters: { \"criterion\" } are not used.\n",
      "\n",
      "  warnings.warn(smsg, UserWarning)\n"
     ]
    },
    {
     "name": "stdout",
     "output_type": "stream",
     "text": [
      "#####################\n",
      "booster  gbtree\n",
      "n_estimators  150\n",
      "eta  0.9\n",
      "max_depth  20\n",
      "lambda  0.0\n",
      "criterion  gini\n",
      "max_leaves  5\n",
      "0.9459320288362513\n"
     ]
    },
    {
     "name": "stderr",
     "output_type": "stream",
     "text": [
      "c:\\Users\\loren\\anaconda3\\envs\\TensorFlow\\lib\\site-packages\\xgboost\\core.py:160: UserWarning: [11:00:34] WARNING: C:\\buildkite-agent\\builds\\buildkite-windows-cpu-autoscaling-group-i-0b3782d1791676daf-1\\xgboost\\xgboost-ci-windows\\src\\learner.cc:742: \n",
      "Parameters: { \"criterion\" } are not used.\n",
      "\n",
      "  warnings.warn(smsg, UserWarning)\n"
     ]
    },
    {
     "name": "stdout",
     "output_type": "stream",
     "text": [
      "#####################\n",
      "booster  gbtree\n",
      "n_estimators  150\n",
      "eta  0.9\n",
      "max_depth  20\n",
      "lambda  0.0\n",
      "criterion  entropy\n",
      "max_leaves  0\n",
      "0.937178166838311\n",
      "#####################\n",
      "booster  gbtree\n",
      "n_estimators  150\n",
      "eta  0.9\n",
      "max_depth  20\n",
      "lambda  0.0\n",
      "criterion  entropy\n",
      "max_leaves  1\n",
      "0.3388259526261586\n"
     ]
    },
    {
     "name": "stderr",
     "output_type": "stream",
     "text": [
      "c:\\Users\\loren\\anaconda3\\envs\\TensorFlow\\lib\\site-packages\\xgboost\\core.py:160: UserWarning: [11:00:35] WARNING: C:\\buildkite-agent\\builds\\buildkite-windows-cpu-autoscaling-group-i-0b3782d1791676daf-1\\xgboost\\xgboost-ci-windows\\src\\learner.cc:742: \n",
      "Parameters: { \"criterion\" } are not used.\n",
      "\n",
      "  warnings.warn(smsg, UserWarning)\n",
      "c:\\Users\\loren\\anaconda3\\envs\\TensorFlow\\lib\\site-packages\\xgboost\\core.py:160: UserWarning: [11:00:36] WARNING: C:\\buildkite-agent\\builds\\buildkite-windows-cpu-autoscaling-group-i-0b3782d1791676daf-1\\xgboost\\xgboost-ci-windows\\src\\learner.cc:742: \n",
      "Parameters: { \"criterion\" } are not used.\n",
      "\n",
      "  warnings.warn(smsg, UserWarning)\n"
     ]
    },
    {
     "name": "stdout",
     "output_type": "stream",
     "text": [
      "#####################\n",
      "booster  gbtree\n",
      "n_estimators  150\n",
      "eta  0.9\n",
      "max_depth  20\n",
      "lambda  0.0\n",
      "criterion  entropy\n",
      "max_leaves  5\n",
      "0.9459320288362513\n"
     ]
    },
    {
     "name": "stderr",
     "output_type": "stream",
     "text": [
      "c:\\Users\\loren\\anaconda3\\envs\\TensorFlow\\lib\\site-packages\\xgboost\\core.py:160: UserWarning: [11:00:36] WARNING: C:\\buildkite-agent\\builds\\buildkite-windows-cpu-autoscaling-group-i-0b3782d1791676daf-1\\xgboost\\xgboost-ci-windows\\src\\learner.cc:742: \n",
      "Parameters: { \"criterion\" } are not used.\n",
      "\n",
      "  warnings.warn(smsg, UserWarning)\n"
     ]
    },
    {
     "name": "stdout",
     "output_type": "stream",
     "text": [
      "#####################\n",
      "booster  gbtree\n",
      "n_estimators  150\n",
      "eta  0.9\n",
      "max_depth  20\n",
      "lambda  1.0\n",
      "criterion  gini\n",
      "max_leaves  0\n",
      "0.9402677651905252\n"
     ]
    },
    {
     "name": "stderr",
     "output_type": "stream",
     "text": [
      "c:\\Users\\loren\\anaconda3\\envs\\TensorFlow\\lib\\site-packages\\xgboost\\core.py:160: UserWarning: [11:00:37] WARNING: C:\\buildkite-agent\\builds\\buildkite-windows-cpu-autoscaling-group-i-0b3782d1791676daf-1\\xgboost\\xgboost-ci-windows\\src\\learner.cc:742: \n",
      "Parameters: { \"criterion\" } are not used.\n",
      "\n",
      "  warnings.warn(smsg, UserWarning)\n"
     ]
    },
    {
     "name": "stdout",
     "output_type": "stream",
     "text": [
      "#####################\n",
      "booster  gbtree\n",
      "n_estimators  150\n",
      "eta  0.9\n",
      "max_depth  20\n",
      "lambda  1.0\n",
      "criterion  gini\n",
      "max_leaves  1\n",
      "0.3388259526261586\n"
     ]
    },
    {
     "name": "stderr",
     "output_type": "stream",
     "text": [
      "c:\\Users\\loren\\anaconda3\\envs\\TensorFlow\\lib\\site-packages\\xgboost\\core.py:160: UserWarning: [11:00:37] WARNING: C:\\buildkite-agent\\builds\\buildkite-windows-cpu-autoscaling-group-i-0b3782d1791676daf-1\\xgboost\\xgboost-ci-windows\\src\\learner.cc:742: \n",
      "Parameters: { \"criterion\" } are not used.\n",
      "\n",
      "  warnings.warn(smsg, UserWarning)\n"
     ]
    },
    {
     "name": "stdout",
     "output_type": "stream",
     "text": [
      "#####################\n",
      "booster  gbtree\n",
      "n_estimators  150\n",
      "eta  0.9\n",
      "max_depth  20\n",
      "lambda  1.0\n",
      "criterion  gini\n",
      "max_leaves  5\n",
      "0.9418125643666323\n"
     ]
    },
    {
     "name": "stderr",
     "output_type": "stream",
     "text": [
      "c:\\Users\\loren\\anaconda3\\envs\\TensorFlow\\lib\\site-packages\\xgboost\\core.py:160: UserWarning: [11:00:38] WARNING: C:\\buildkite-agent\\builds\\buildkite-windows-cpu-autoscaling-group-i-0b3782d1791676daf-1\\xgboost\\xgboost-ci-windows\\src\\learner.cc:742: \n",
      "Parameters: { \"criterion\" } are not used.\n",
      "\n",
      "  warnings.warn(smsg, UserWarning)\n"
     ]
    },
    {
     "name": "stdout",
     "output_type": "stream",
     "text": [
      "#####################\n",
      "booster  gbtree\n",
      "n_estimators  150\n",
      "eta  0.9\n",
      "max_depth  20\n",
      "lambda  1.0\n",
      "criterion  entropy\n",
      "max_leaves  0\n",
      "0.9402677651905252\n"
     ]
    },
    {
     "name": "stderr",
     "output_type": "stream",
     "text": [
      "c:\\Users\\loren\\anaconda3\\envs\\TensorFlow\\lib\\site-packages\\xgboost\\core.py:160: UserWarning: [11:00:39] WARNING: C:\\buildkite-agent\\builds\\buildkite-windows-cpu-autoscaling-group-i-0b3782d1791676daf-1\\xgboost\\xgboost-ci-windows\\src\\learner.cc:742: \n",
      "Parameters: { \"criterion\" } are not used.\n",
      "\n",
      "  warnings.warn(smsg, UserWarning)\n"
     ]
    },
    {
     "name": "stdout",
     "output_type": "stream",
     "text": [
      "#####################\n",
      "booster  gbtree\n",
      "n_estimators  150\n",
      "eta  0.9\n",
      "max_depth  20\n",
      "lambda  1.0\n",
      "criterion  entropy\n",
      "max_leaves  1\n",
      "0.3388259526261586\n"
     ]
    },
    {
     "name": "stderr",
     "output_type": "stream",
     "text": [
      "c:\\Users\\loren\\anaconda3\\envs\\TensorFlow\\lib\\site-packages\\xgboost\\core.py:160: UserWarning: [11:00:39] WARNING: C:\\buildkite-agent\\builds\\buildkite-windows-cpu-autoscaling-group-i-0b3782d1791676daf-1\\xgboost\\xgboost-ci-windows\\src\\learner.cc:742: \n",
      "Parameters: { \"criterion\" } are not used.\n",
      "\n",
      "  warnings.warn(smsg, UserWarning)\n"
     ]
    },
    {
     "name": "stdout",
     "output_type": "stream",
     "text": [
      "#####################\n",
      "booster  gbtree\n",
      "n_estimators  150\n",
      "eta  0.9\n",
      "max_depth  20\n",
      "lambda  1.0\n",
      "criterion  entropy\n",
      "max_leaves  5\n",
      "0.9418125643666323\n"
     ]
    },
    {
     "name": "stderr",
     "output_type": "stream",
     "text": [
      "c:\\Users\\loren\\anaconda3\\envs\\TensorFlow\\lib\\site-packages\\xgboost\\core.py:160: UserWarning: [11:00:40] WARNING: C:\\buildkite-agent\\builds\\buildkite-windows-cpu-autoscaling-group-i-0b3782d1791676daf-1\\xgboost\\xgboost-ci-windows\\src\\learner.cc:742: \n",
      "Parameters: { \"criterion\" } are not used.\n",
      "\n",
      "  warnings.warn(smsg, UserWarning)\n"
     ]
    },
    {
     "name": "stdout",
     "output_type": "stream",
     "text": [
      "#####################\n",
      "booster  gbtree\n",
      "n_estimators  150\n",
      "eta  0.9\n",
      "max_depth  20\n",
      "lambda  5.0\n",
      "criterion  gini\n",
      "max_leaves  0\n",
      "0.945417095777549\n"
     ]
    },
    {
     "name": "stderr",
     "output_type": "stream",
     "text": [
      "c:\\Users\\loren\\anaconda3\\envs\\TensorFlow\\lib\\site-packages\\xgboost\\core.py:160: UserWarning: [11:00:41] WARNING: C:\\buildkite-agent\\builds\\buildkite-windows-cpu-autoscaling-group-i-0b3782d1791676daf-1\\xgboost\\xgboost-ci-windows\\src\\learner.cc:742: \n",
      "Parameters: { \"criterion\" } are not used.\n",
      "\n",
      "  warnings.warn(smsg, UserWarning)\n"
     ]
    },
    {
     "name": "stdout",
     "output_type": "stream",
     "text": [
      "#####################\n",
      "booster  gbtree\n",
      "n_estimators  150\n",
      "eta  0.9\n",
      "max_depth  20\n",
      "lambda  5.0\n",
      "criterion  gini\n",
      "max_leaves  1\n",
      "0.3388259526261586\n"
     ]
    },
    {
     "name": "stderr",
     "output_type": "stream",
     "text": [
      "c:\\Users\\loren\\anaconda3\\envs\\TensorFlow\\lib\\site-packages\\xgboost\\core.py:160: UserWarning: [11:00:41] WARNING: C:\\buildkite-agent\\builds\\buildkite-windows-cpu-autoscaling-group-i-0b3782d1791676daf-1\\xgboost\\xgboost-ci-windows\\src\\learner.cc:742: \n",
      "Parameters: { \"criterion\" } are not used.\n",
      "\n",
      "  warnings.warn(smsg, UserWarning)\n"
     ]
    },
    {
     "name": "stdout",
     "output_type": "stream",
     "text": [
      "#####################\n",
      "booster  gbtree\n",
      "n_estimators  150\n",
      "eta  0.9\n",
      "max_depth  20\n",
      "lambda  5.0\n",
      "criterion  gini\n",
      "max_leaves  5\n",
      "0.9407826982492276\n"
     ]
    },
    {
     "name": "stderr",
     "output_type": "stream",
     "text": [
      "c:\\Users\\loren\\anaconda3\\envs\\TensorFlow\\lib\\site-packages\\xgboost\\core.py:160: UserWarning: [11:00:42] WARNING: C:\\buildkite-agent\\builds\\buildkite-windows-cpu-autoscaling-group-i-0b3782d1791676daf-1\\xgboost\\xgboost-ci-windows\\src\\learner.cc:742: \n",
      "Parameters: { \"criterion\" } are not used.\n",
      "\n",
      "  warnings.warn(smsg, UserWarning)\n"
     ]
    },
    {
     "name": "stdout",
     "output_type": "stream",
     "text": [
      "#####################\n",
      "booster  gbtree\n",
      "n_estimators  150\n",
      "eta  0.9\n",
      "max_depth  20\n",
      "lambda  5.0\n",
      "criterion  entropy\n",
      "max_leaves  0\n",
      "0.945417095777549\n",
      "#####################\n",
      "booster  gbtree\n",
      "n_estimators  150\n",
      "eta  0.9\n",
      "max_depth  20\n",
      "lambda  5.0\n",
      "criterion  entropy\n",
      "max_leaves  1\n",
      "0.3388259526261586\n"
     ]
    },
    {
     "name": "stderr",
     "output_type": "stream",
     "text": [
      "c:\\Users\\loren\\anaconda3\\envs\\TensorFlow\\lib\\site-packages\\xgboost\\core.py:160: UserWarning: [11:00:43] WARNING: C:\\buildkite-agent\\builds\\buildkite-windows-cpu-autoscaling-group-i-0b3782d1791676daf-1\\xgboost\\xgboost-ci-windows\\src\\learner.cc:742: \n",
      "Parameters: { \"criterion\" } are not used.\n",
      "\n",
      "  warnings.warn(smsg, UserWarning)\n",
      "c:\\Users\\loren\\anaconda3\\envs\\TensorFlow\\lib\\site-packages\\xgboost\\core.py:160: UserWarning: [11:00:43] WARNING: C:\\buildkite-agent\\builds\\buildkite-windows-cpu-autoscaling-group-i-0b3782d1791676daf-1\\xgboost\\xgboost-ci-windows\\src\\learner.cc:742: \n",
      "Parameters: { \"criterion\" } are not used.\n",
      "\n",
      "  warnings.warn(smsg, UserWarning)\n"
     ]
    },
    {
     "name": "stdout",
     "output_type": "stream",
     "text": [
      "#####################\n",
      "booster  gbtree\n",
      "n_estimators  150\n",
      "eta  0.9\n",
      "max_depth  20\n",
      "lambda  5.0\n",
      "criterion  entropy\n",
      "max_leaves  5\n",
      "0.9407826982492276\n"
     ]
    },
    {
     "name": "stderr",
     "output_type": "stream",
     "text": [
      "c:\\Users\\loren\\anaconda3\\envs\\TensorFlow\\lib\\site-packages\\xgboost\\core.py:160: UserWarning: [11:00:44] WARNING: C:\\buildkite-agent\\builds\\buildkite-windows-cpu-autoscaling-group-i-0b3782d1791676daf-1\\xgboost\\xgboost-ci-windows\\src\\learner.cc:742: \n",
      "Parameters: { \"criterion\" } are not used.\n",
      "\n",
      "  warnings.warn(smsg, UserWarning)\n"
     ]
    },
    {
     "name": "stdout",
     "output_type": "stream",
     "text": [
      "#####################\n",
      "booster  gbtree\n",
      "n_estimators  150\n",
      "eta  0.9\n",
      "max_depth  30\n",
      "lambda  0.0\n",
      "criterion  gini\n",
      "max_leaves  0\n",
      "0.9397528321318228\n"
     ]
    },
    {
     "name": "stderr",
     "output_type": "stream",
     "text": [
      "c:\\Users\\loren\\anaconda3\\envs\\TensorFlow\\lib\\site-packages\\xgboost\\core.py:160: UserWarning: [11:00:45] WARNING: C:\\buildkite-agent\\builds\\buildkite-windows-cpu-autoscaling-group-i-0b3782d1791676daf-1\\xgboost\\xgboost-ci-windows\\src\\learner.cc:742: \n",
      "Parameters: { \"criterion\" } are not used.\n",
      "\n",
      "  warnings.warn(smsg, UserWarning)\n"
     ]
    },
    {
     "name": "stdout",
     "output_type": "stream",
     "text": [
      "#####################\n",
      "booster  gbtree\n",
      "n_estimators  150\n",
      "eta  0.9\n",
      "max_depth  30\n",
      "lambda  0.0\n",
      "criterion  gini\n",
      "max_leaves  1\n",
      "0.3388259526261586\n"
     ]
    },
    {
     "name": "stderr",
     "output_type": "stream",
     "text": [
      "c:\\Users\\loren\\anaconda3\\envs\\TensorFlow\\lib\\site-packages\\xgboost\\core.py:160: UserWarning: [11:00:45] WARNING: C:\\buildkite-agent\\builds\\buildkite-windows-cpu-autoscaling-group-i-0b3782d1791676daf-1\\xgboost\\xgboost-ci-windows\\src\\learner.cc:742: \n",
      "Parameters: { \"criterion\" } are not used.\n",
      "\n",
      "  warnings.warn(smsg, UserWarning)\n"
     ]
    },
    {
     "name": "stdout",
     "output_type": "stream",
     "text": [
      "#####################\n",
      "booster  gbtree\n",
      "n_estimators  150\n",
      "eta  0.9\n",
      "max_depth  30\n",
      "lambda  0.0\n",
      "criterion  gini\n",
      "max_leaves  5\n",
      "0.9459320288362513\n"
     ]
    },
    {
     "name": "stderr",
     "output_type": "stream",
     "text": [
      "c:\\Users\\loren\\anaconda3\\envs\\TensorFlow\\lib\\site-packages\\xgboost\\core.py:160: UserWarning: [11:00:46] WARNING: C:\\buildkite-agent\\builds\\buildkite-windows-cpu-autoscaling-group-i-0b3782d1791676daf-1\\xgboost\\xgboost-ci-windows\\src\\learner.cc:742: \n",
      "Parameters: { \"criterion\" } are not used.\n",
      "\n",
      "  warnings.warn(smsg, UserWarning)\n"
     ]
    },
    {
     "name": "stdout",
     "output_type": "stream",
     "text": [
      "#####################\n",
      "booster  gbtree\n",
      "n_estimators  150\n",
      "eta  0.9\n",
      "max_depth  30\n",
      "lambda  0.0\n",
      "criterion  entropy\n",
      "max_leaves  0\n",
      "0.9397528321318228\n"
     ]
    },
    {
     "name": "stderr",
     "output_type": "stream",
     "text": [
      "c:\\Users\\loren\\anaconda3\\envs\\TensorFlow\\lib\\site-packages\\xgboost\\core.py:160: UserWarning: [11:00:47] WARNING: C:\\buildkite-agent\\builds\\buildkite-windows-cpu-autoscaling-group-i-0b3782d1791676daf-1\\xgboost\\xgboost-ci-windows\\src\\learner.cc:742: \n",
      "Parameters: { \"criterion\" } are not used.\n",
      "\n",
      "  warnings.warn(smsg, UserWarning)\n"
     ]
    },
    {
     "name": "stdout",
     "output_type": "stream",
     "text": [
      "#####################\n",
      "booster  gbtree\n",
      "n_estimators  150\n",
      "eta  0.9\n",
      "max_depth  30\n",
      "lambda  0.0\n",
      "criterion  entropy\n",
      "max_leaves  1\n",
      "0.3388259526261586\n"
     ]
    },
    {
     "name": "stderr",
     "output_type": "stream",
     "text": [
      "c:\\Users\\loren\\anaconda3\\envs\\TensorFlow\\lib\\site-packages\\xgboost\\core.py:160: UserWarning: [11:00:47] WARNING: C:\\buildkite-agent\\builds\\buildkite-windows-cpu-autoscaling-group-i-0b3782d1791676daf-1\\xgboost\\xgboost-ci-windows\\src\\learner.cc:742: \n",
      "Parameters: { \"criterion\" } are not used.\n",
      "\n",
      "  warnings.warn(smsg, UserWarning)\n"
     ]
    },
    {
     "name": "stdout",
     "output_type": "stream",
     "text": [
      "#####################\n",
      "booster  gbtree\n",
      "n_estimators  150\n",
      "eta  0.9\n",
      "max_depth  30\n",
      "lambda  0.0\n",
      "criterion  entropy\n",
      "max_leaves  5\n",
      "0.9459320288362513\n"
     ]
    },
    {
     "name": "stderr",
     "output_type": "stream",
     "text": [
      "c:\\Users\\loren\\anaconda3\\envs\\TensorFlow\\lib\\site-packages\\xgboost\\core.py:160: UserWarning: [11:00:48] WARNING: C:\\buildkite-agent\\builds\\buildkite-windows-cpu-autoscaling-group-i-0b3782d1791676daf-1\\xgboost\\xgboost-ci-windows\\src\\learner.cc:742: \n",
      "Parameters: { \"criterion\" } are not used.\n",
      "\n",
      "  warnings.warn(smsg, UserWarning)\n"
     ]
    },
    {
     "name": "stdout",
     "output_type": "stream",
     "text": [
      "#####################\n",
      "booster  gbtree\n",
      "n_estimators  150\n",
      "eta  0.9\n",
      "max_depth  30\n",
      "lambda  1.0\n",
      "criterion  gini\n",
      "max_leaves  0\n",
      "0.9402677651905252\n"
     ]
    },
    {
     "name": "stderr",
     "output_type": "stream",
     "text": [
      "c:\\Users\\loren\\anaconda3\\envs\\TensorFlow\\lib\\site-packages\\xgboost\\core.py:160: UserWarning: [11:00:49] WARNING: C:\\buildkite-agent\\builds\\buildkite-windows-cpu-autoscaling-group-i-0b3782d1791676daf-1\\xgboost\\xgboost-ci-windows\\src\\learner.cc:742: \n",
      "Parameters: { \"criterion\" } are not used.\n",
      "\n",
      "  warnings.warn(smsg, UserWarning)\n"
     ]
    },
    {
     "name": "stdout",
     "output_type": "stream",
     "text": [
      "#####################\n",
      "booster  gbtree\n",
      "n_estimators  150\n",
      "eta  0.9\n",
      "max_depth  30\n",
      "lambda  1.0\n",
      "criterion  gini\n",
      "max_leaves  1\n",
      "0.3388259526261586\n"
     ]
    },
    {
     "name": "stderr",
     "output_type": "stream",
     "text": [
      "c:\\Users\\loren\\anaconda3\\envs\\TensorFlow\\lib\\site-packages\\xgboost\\core.py:160: UserWarning: [11:00:49] WARNING: C:\\buildkite-agent\\builds\\buildkite-windows-cpu-autoscaling-group-i-0b3782d1791676daf-1\\xgboost\\xgboost-ci-windows\\src\\learner.cc:742: \n",
      "Parameters: { \"criterion\" } are not used.\n",
      "\n",
      "  warnings.warn(smsg, UserWarning)\n"
     ]
    },
    {
     "name": "stdout",
     "output_type": "stream",
     "text": [
      "#####################\n",
      "booster  gbtree\n",
      "n_estimators  150\n",
      "eta  0.9\n",
      "max_depth  30\n",
      "lambda  1.0\n",
      "criterion  gini\n",
      "max_leaves  5\n",
      "0.9418125643666323\n"
     ]
    },
    {
     "name": "stderr",
     "output_type": "stream",
     "text": [
      "c:\\Users\\loren\\anaconda3\\envs\\TensorFlow\\lib\\site-packages\\xgboost\\core.py:160: UserWarning: [11:00:50] WARNING: C:\\buildkite-agent\\builds\\buildkite-windows-cpu-autoscaling-group-i-0b3782d1791676daf-1\\xgboost\\xgboost-ci-windows\\src\\learner.cc:742: \n",
      "Parameters: { \"criterion\" } are not used.\n",
      "\n",
      "  warnings.warn(smsg, UserWarning)\n"
     ]
    },
    {
     "name": "stdout",
     "output_type": "stream",
     "text": [
      "#####################\n",
      "booster  gbtree\n",
      "n_estimators  150\n",
      "eta  0.9\n",
      "max_depth  30\n",
      "lambda  1.0\n",
      "criterion  entropy\n",
      "max_leaves  0\n",
      "0.9402677651905252\n"
     ]
    },
    {
     "name": "stderr",
     "output_type": "stream",
     "text": [
      "c:\\Users\\loren\\anaconda3\\envs\\TensorFlow\\lib\\site-packages\\xgboost\\core.py:160: UserWarning: [11:00:51] WARNING: C:\\buildkite-agent\\builds\\buildkite-windows-cpu-autoscaling-group-i-0b3782d1791676daf-1\\xgboost\\xgboost-ci-windows\\src\\learner.cc:742: \n",
      "Parameters: { \"criterion\" } are not used.\n",
      "\n",
      "  warnings.warn(smsg, UserWarning)\n"
     ]
    },
    {
     "name": "stdout",
     "output_type": "stream",
     "text": [
      "#####################\n",
      "booster  gbtree\n",
      "n_estimators  150\n",
      "eta  0.9\n",
      "max_depth  30\n",
      "lambda  1.0\n",
      "criterion  entropy\n",
      "max_leaves  1\n",
      "0.3388259526261586\n"
     ]
    },
    {
     "name": "stderr",
     "output_type": "stream",
     "text": [
      "c:\\Users\\loren\\anaconda3\\envs\\TensorFlow\\lib\\site-packages\\xgboost\\core.py:160: UserWarning: [11:00:51] WARNING: C:\\buildkite-agent\\builds\\buildkite-windows-cpu-autoscaling-group-i-0b3782d1791676daf-1\\xgboost\\xgboost-ci-windows\\src\\learner.cc:742: \n",
      "Parameters: { \"criterion\" } are not used.\n",
      "\n",
      "  warnings.warn(smsg, UserWarning)\n"
     ]
    },
    {
     "name": "stdout",
     "output_type": "stream",
     "text": [
      "#####################\n",
      "booster  gbtree\n",
      "n_estimators  150\n",
      "eta  0.9\n",
      "max_depth  30\n",
      "lambda  1.0\n",
      "criterion  entropy\n",
      "max_leaves  5\n",
      "0.9418125643666323\n"
     ]
    },
    {
     "name": "stderr",
     "output_type": "stream",
     "text": [
      "c:\\Users\\loren\\anaconda3\\envs\\TensorFlow\\lib\\site-packages\\xgboost\\core.py:160: UserWarning: [11:00:52] WARNING: C:\\buildkite-agent\\builds\\buildkite-windows-cpu-autoscaling-group-i-0b3782d1791676daf-1\\xgboost\\xgboost-ci-windows\\src\\learner.cc:742: \n",
      "Parameters: { \"criterion\" } are not used.\n",
      "\n",
      "  warnings.warn(smsg, UserWarning)\n"
     ]
    },
    {
     "name": "stdout",
     "output_type": "stream",
     "text": [
      "#####################\n",
      "booster  gbtree\n",
      "n_estimators  150\n",
      "eta  0.9\n",
      "max_depth  30\n",
      "lambda  5.0\n",
      "criterion  gini\n",
      "max_leaves  0\n",
      "0.945417095777549\n"
     ]
    },
    {
     "name": "stderr",
     "output_type": "stream",
     "text": [
      "c:\\Users\\loren\\anaconda3\\envs\\TensorFlow\\lib\\site-packages\\xgboost\\core.py:160: UserWarning: [11:00:53] WARNING: C:\\buildkite-agent\\builds\\buildkite-windows-cpu-autoscaling-group-i-0b3782d1791676daf-1\\xgboost\\xgboost-ci-windows\\src\\learner.cc:742: \n",
      "Parameters: { \"criterion\" } are not used.\n",
      "\n",
      "  warnings.warn(smsg, UserWarning)\n"
     ]
    },
    {
     "name": "stdout",
     "output_type": "stream",
     "text": [
      "#####################\n",
      "booster  gbtree\n",
      "n_estimators  150\n",
      "eta  0.9\n",
      "max_depth  30\n",
      "lambda  5.0\n",
      "criterion  gini\n",
      "max_leaves  1\n",
      "0.3388259526261586\n"
     ]
    },
    {
     "name": "stderr",
     "output_type": "stream",
     "text": [
      "c:\\Users\\loren\\anaconda3\\envs\\TensorFlow\\lib\\site-packages\\xgboost\\core.py:160: UserWarning: [11:00:54] WARNING: C:\\buildkite-agent\\builds\\buildkite-windows-cpu-autoscaling-group-i-0b3782d1791676daf-1\\xgboost\\xgboost-ci-windows\\src\\learner.cc:742: \n",
      "Parameters: { \"criterion\" } are not used.\n",
      "\n",
      "  warnings.warn(smsg, UserWarning)\n"
     ]
    },
    {
     "name": "stdout",
     "output_type": "stream",
     "text": [
      "#####################\n",
      "booster  gbtree\n",
      "n_estimators  150\n",
      "eta  0.9\n",
      "max_depth  30\n",
      "lambda  5.0\n",
      "criterion  gini\n",
      "max_leaves  5\n",
      "0.9407826982492276\n"
     ]
    },
    {
     "name": "stderr",
     "output_type": "stream",
     "text": [
      "c:\\Users\\loren\\anaconda3\\envs\\TensorFlow\\lib\\site-packages\\xgboost\\core.py:160: UserWarning: [11:00:54] WARNING: C:\\buildkite-agent\\builds\\buildkite-windows-cpu-autoscaling-group-i-0b3782d1791676daf-1\\xgboost\\xgboost-ci-windows\\src\\learner.cc:742: \n",
      "Parameters: { \"criterion\" } are not used.\n",
      "\n",
      "  warnings.warn(smsg, UserWarning)\n"
     ]
    },
    {
     "name": "stdout",
     "output_type": "stream",
     "text": [
      "#####################\n",
      "booster  gbtree\n",
      "n_estimators  150\n",
      "eta  0.9\n",
      "max_depth  30\n",
      "lambda  5.0\n",
      "criterion  entropy\n",
      "max_leaves  0\n",
      "0.945417095777549\n"
     ]
    },
    {
     "name": "stderr",
     "output_type": "stream",
     "text": [
      "c:\\Users\\loren\\anaconda3\\envs\\TensorFlow\\lib\\site-packages\\xgboost\\core.py:160: UserWarning: [11:00:56] WARNING: C:\\buildkite-agent\\builds\\buildkite-windows-cpu-autoscaling-group-i-0b3782d1791676daf-1\\xgboost\\xgboost-ci-windows\\src\\learner.cc:742: \n",
      "Parameters: { \"criterion\" } are not used.\n",
      "\n",
      "  warnings.warn(smsg, UserWarning)\n"
     ]
    },
    {
     "ename": "KeyboardInterrupt",
     "evalue": "",
     "output_type": "error",
     "traceback": [
      "\u001b[1;31m---------------------------------------------------------------------------\u001b[0m",
      "\u001b[1;31mKeyboardInterrupt\u001b[0m                         Traceback (most recent call last)",
      "\u001b[1;32md:\\PythonDir\\Postdoc\\nico\\ML_tunneling\\read_and_test.ipynb Cell 13\u001b[0m line \u001b[0;36m3\n\u001b[0;32m     <a href='vscode-notebook-cell:/d%3A/PythonDir/Postdoc/nico/ML_tunneling/read_and_test.ipynb#X10sZmlsZQ%3D%3D?line=21'>22</a>\u001b[0m \u001b[39mfor\u001b[39;00m i7 \u001b[39min\u001b[39;00m \u001b[39mrange\u001b[39m(\u001b[39mlen\u001b[39m(max_leaves_list)):\n\u001b[0;32m     <a href='vscode-notebook-cell:/d%3A/PythonDir/Postdoc/nico/ML_tunneling/read_and_test.ipynb#X10sZmlsZQ%3D%3D?line=23'>24</a>\u001b[0m         clf \u001b[39m=\u001b[39m XGBClassifier(booster \u001b[39m=\u001b[39m booster_list[i1], \n\u001b[0;32m     <a href='vscode-notebook-cell:/d%3A/PythonDir/Postdoc/nico/ML_tunneling/read_and_test.ipynb#X10sZmlsZQ%3D%3D?line=24'>25</a>\u001b[0m                             n_estimators \u001b[39m=\u001b[39m n_estimators_list[i2], \n\u001b[0;32m     <a href='vscode-notebook-cell:/d%3A/PythonDir/Postdoc/nico/ML_tunneling/read_and_test.ipynb#X10sZmlsZQ%3D%3D?line=25'>26</a>\u001b[0m                             eta \u001b[39m=\u001b[39m eta_list[i3], \n\u001b[1;32m   (...)\u001b[0m\n\u001b[0;32m     <a href='vscode-notebook-cell:/d%3A/PythonDir/Postdoc/nico/ML_tunneling/read_and_test.ipynb#X10sZmlsZQ%3D%3D?line=29'>30</a>\u001b[0m                             max_leaves \u001b[39m=\u001b[39m max_leaves_list[i7],  \n\u001b[0;32m     <a href='vscode-notebook-cell:/d%3A/PythonDir/Postdoc/nico/ML_tunneling/read_and_test.ipynb#X10sZmlsZQ%3D%3D?line=30'>31</a>\u001b[0m                             random_state \u001b[39m=\u001b[39m \u001b[39m42\u001b[39m)\n\u001b[1;32m---> <a href='vscode-notebook-cell:/d%3A/PythonDir/Postdoc/nico/ML_tunneling/read_and_test.ipynb#X10sZmlsZQ%3D%3D?line=32'>33</a>\u001b[0m         model \u001b[39m=\u001b[39m clf\u001b[39m.\u001b[39;49mfit(X_train, y_train)\n\u001b[0;32m     <a href='vscode-notebook-cell:/d%3A/PythonDir/Postdoc/nico/ML_tunneling/read_and_test.ipynb#X10sZmlsZQ%3D%3D?line=34'>35</a>\u001b[0m         \u001b[39m# Predict the labels for the test set\u001b[39;00m\n\u001b[0;32m     <a href='vscode-notebook-cell:/d%3A/PythonDir/Postdoc/nico/ML_tunneling/read_and_test.ipynb#X10sZmlsZQ%3D%3D?line=35'>36</a>\u001b[0m         y_pred \u001b[39m=\u001b[39m model\u001b[39m.\u001b[39mpredict(X_test)\n",
      "File \u001b[1;32mc:\\Users\\loren\\anaconda3\\envs\\TensorFlow\\lib\\site-packages\\xgboost\\core.py:730\u001b[0m, in \u001b[0;36mrequire_keyword_args.<locals>.throw_if.<locals>.inner_f\u001b[1;34m(*args, **kwargs)\u001b[0m\n\u001b[0;32m    728\u001b[0m \u001b[39mfor\u001b[39;00m k, arg \u001b[39min\u001b[39;00m \u001b[39mzip\u001b[39m(sig\u001b[39m.\u001b[39mparameters, args):\n\u001b[0;32m    729\u001b[0m     kwargs[k] \u001b[39m=\u001b[39m arg\n\u001b[1;32m--> 730\u001b[0m \u001b[39mreturn\u001b[39;00m func(\u001b[39m*\u001b[39m\u001b[39m*\u001b[39mkwargs)\n",
      "File \u001b[1;32mc:\\Users\\loren\\anaconda3\\envs\\TensorFlow\\lib\\site-packages\\xgboost\\sklearn.py:1519\u001b[0m, in \u001b[0;36mXGBClassifier.fit\u001b[1;34m(self, X, y, sample_weight, base_margin, eval_set, eval_metric, early_stopping_rounds, verbose, xgb_model, sample_weight_eval_set, base_margin_eval_set, feature_weights, callbacks)\u001b[0m\n\u001b[0;32m   1491\u001b[0m (\n\u001b[0;32m   1492\u001b[0m     model,\n\u001b[0;32m   1493\u001b[0m     metric,\n\u001b[1;32m   (...)\u001b[0m\n\u001b[0;32m   1498\u001b[0m     xgb_model, eval_metric, params, early_stopping_rounds, callbacks\n\u001b[0;32m   1499\u001b[0m )\n\u001b[0;32m   1500\u001b[0m train_dmatrix, evals \u001b[39m=\u001b[39m _wrap_evaluation_matrices(\n\u001b[0;32m   1501\u001b[0m     missing\u001b[39m=\u001b[39m\u001b[39mself\u001b[39m\u001b[39m.\u001b[39mmissing,\n\u001b[0;32m   1502\u001b[0m     X\u001b[39m=\u001b[39mX,\n\u001b[1;32m   (...)\u001b[0m\n\u001b[0;32m   1516\u001b[0m     feature_types\u001b[39m=\u001b[39m\u001b[39mself\u001b[39m\u001b[39m.\u001b[39mfeature_types,\n\u001b[0;32m   1517\u001b[0m )\n\u001b[1;32m-> 1519\u001b[0m \u001b[39mself\u001b[39m\u001b[39m.\u001b[39m_Booster \u001b[39m=\u001b[39m train(\n\u001b[0;32m   1520\u001b[0m     params,\n\u001b[0;32m   1521\u001b[0m     train_dmatrix,\n\u001b[0;32m   1522\u001b[0m     \u001b[39mself\u001b[39;49m\u001b[39m.\u001b[39;49mget_num_boosting_rounds(),\n\u001b[0;32m   1523\u001b[0m     evals\u001b[39m=\u001b[39;49mevals,\n\u001b[0;32m   1524\u001b[0m     early_stopping_rounds\u001b[39m=\u001b[39;49mearly_stopping_rounds,\n\u001b[0;32m   1525\u001b[0m     evals_result\u001b[39m=\u001b[39;49mevals_result,\n\u001b[0;32m   1526\u001b[0m     obj\u001b[39m=\u001b[39;49mobj,\n\u001b[0;32m   1527\u001b[0m     custom_metric\u001b[39m=\u001b[39;49mmetric,\n\u001b[0;32m   1528\u001b[0m     verbose_eval\u001b[39m=\u001b[39;49mverbose,\n\u001b[0;32m   1529\u001b[0m     xgb_model\u001b[39m=\u001b[39;49mmodel,\n\u001b[0;32m   1530\u001b[0m     callbacks\u001b[39m=\u001b[39;49mcallbacks,\n\u001b[0;32m   1531\u001b[0m )\n\u001b[0;32m   1533\u001b[0m \u001b[39mif\u001b[39;00m \u001b[39mnot\u001b[39;00m \u001b[39mcallable\u001b[39m(\u001b[39mself\u001b[39m\u001b[39m.\u001b[39mobjective):\n\u001b[0;32m   1534\u001b[0m     \u001b[39mself\u001b[39m\u001b[39m.\u001b[39mobjective \u001b[39m=\u001b[39m params[\u001b[39m\"\u001b[39m\u001b[39mobjective\u001b[39m\u001b[39m\"\u001b[39m]\n",
      "File \u001b[1;32mc:\\Users\\loren\\anaconda3\\envs\\TensorFlow\\lib\\site-packages\\xgboost\\core.py:730\u001b[0m, in \u001b[0;36mrequire_keyword_args.<locals>.throw_if.<locals>.inner_f\u001b[1;34m(*args, **kwargs)\u001b[0m\n\u001b[0;32m    728\u001b[0m \u001b[39mfor\u001b[39;00m k, arg \u001b[39min\u001b[39;00m \u001b[39mzip\u001b[39m(sig\u001b[39m.\u001b[39mparameters, args):\n\u001b[0;32m    729\u001b[0m     kwargs[k] \u001b[39m=\u001b[39m arg\n\u001b[1;32m--> 730\u001b[0m \u001b[39mreturn\u001b[39;00m func(\u001b[39m*\u001b[39m\u001b[39m*\u001b[39mkwargs)\n",
      "File \u001b[1;32mc:\\Users\\loren\\anaconda3\\envs\\TensorFlow\\lib\\site-packages\\xgboost\\training.py:181\u001b[0m, in \u001b[0;36mtrain\u001b[1;34m(params, dtrain, num_boost_round, evals, obj, feval, maximize, early_stopping_rounds, evals_result, verbose_eval, xgb_model, callbacks, custom_metric)\u001b[0m\n\u001b[0;32m    179\u001b[0m \u001b[39mif\u001b[39;00m cb_container\u001b[39m.\u001b[39mbefore_iteration(bst, i, dtrain, evals):\n\u001b[0;32m    180\u001b[0m     \u001b[39mbreak\u001b[39;00m\n\u001b[1;32m--> 181\u001b[0m bst\u001b[39m.\u001b[39;49mupdate(dtrain, i, obj)\n\u001b[0;32m    182\u001b[0m \u001b[39mif\u001b[39;00m cb_container\u001b[39m.\u001b[39mafter_iteration(bst, i, dtrain, evals):\n\u001b[0;32m    183\u001b[0m     \u001b[39mbreak\u001b[39;00m\n",
      "File \u001b[1;32mc:\\Users\\loren\\anaconda3\\envs\\TensorFlow\\lib\\site-packages\\xgboost\\core.py:2047\u001b[0m, in \u001b[0;36mBooster.update\u001b[1;34m(self, dtrain, iteration, fobj)\u001b[0m\n\u001b[0;32m   2045\u001b[0m \u001b[39mif\u001b[39;00m \u001b[39mnot\u001b[39;00m \u001b[39misinstance\u001b[39m(dtrain, DMatrix):\n\u001b[0;32m   2046\u001b[0m     \u001b[39mraise\u001b[39;00m \u001b[39mTypeError\u001b[39;00m(\u001b[39mf\u001b[39m\u001b[39m\"\u001b[39m\u001b[39minvalid training matrix: \u001b[39m\u001b[39m{\u001b[39;00m\u001b[39mtype\u001b[39m(dtrain)\u001b[39m.\u001b[39m\u001b[39m__name__\u001b[39m\u001b[39m}\u001b[39;00m\u001b[39m\"\u001b[39m)\n\u001b[1;32m-> 2047\u001b[0m \u001b[39mself\u001b[39;49m\u001b[39m.\u001b[39;49m_assign_dmatrix_features(dtrain)\n\u001b[0;32m   2049\u001b[0m \u001b[39mif\u001b[39;00m fobj \u001b[39mis\u001b[39;00m \u001b[39mNone\u001b[39;00m:\n\u001b[0;32m   2050\u001b[0m     _check_call(\n\u001b[0;32m   2051\u001b[0m         _LIB\u001b[39m.\u001b[39mXGBoosterUpdateOneIter(\n\u001b[0;32m   2052\u001b[0m             \u001b[39mself\u001b[39m\u001b[39m.\u001b[39mhandle, ctypes\u001b[39m.\u001b[39mc_int(iteration), dtrain\u001b[39m.\u001b[39mhandle\n\u001b[0;32m   2053\u001b[0m         )\n\u001b[0;32m   2054\u001b[0m     )\n",
      "File \u001b[1;32mc:\\Users\\loren\\anaconda3\\envs\\TensorFlow\\lib\\site-packages\\xgboost\\core.py:2932\u001b[0m, in \u001b[0;36mBooster._assign_dmatrix_features\u001b[1;34m(self, data)\u001b[0m\n\u001b[0;32m   2930\u001b[0m \u001b[39mif\u001b[39;00m \u001b[39mself\u001b[39m\u001b[39m.\u001b[39mfeature_names \u001b[39mis\u001b[39;00m \u001b[39mNone\u001b[39;00m:\n\u001b[0;32m   2931\u001b[0m     \u001b[39mself\u001b[39m\u001b[39m.\u001b[39mfeature_names \u001b[39m=\u001b[39m fn\n\u001b[1;32m-> 2932\u001b[0m \u001b[39mif\u001b[39;00m \u001b[39mself\u001b[39;49m\u001b[39m.\u001b[39;49mfeature_types \u001b[39mis\u001b[39;00m \u001b[39mNone\u001b[39;00m:\n\u001b[0;32m   2933\u001b[0m     \u001b[39mself\u001b[39m\u001b[39m.\u001b[39mfeature_types \u001b[39m=\u001b[39m ft\n\u001b[0;32m   2935\u001b[0m \u001b[39mself\u001b[39m\u001b[39m.\u001b[39m_validate_features(fn)\n",
      "File \u001b[1;32mc:\\Users\\loren\\anaconda3\\envs\\TensorFlow\\lib\\site-packages\\xgboost\\core.py:1985\u001b[0m, in \u001b[0;36mBooster.feature_types\u001b[1;34m(self)\u001b[0m\n\u001b[0;32m   1979\u001b[0m \u001b[39m@property\u001b[39m\n\u001b[0;32m   1980\u001b[0m \u001b[39mdef\u001b[39;00m \u001b[39mfeature_types\u001b[39m(\u001b[39mself\u001b[39m) \u001b[39m-\u001b[39m\u001b[39m>\u001b[39m Optional[FeatureTypes]:\n\u001b[0;32m   1981\u001b[0m \u001b[39m    \u001b[39m\u001b[39m\"\"\"Feature types for this booster.  Can be directly set by input data or by\u001b[39;00m\n\u001b[0;32m   1982\u001b[0m \u001b[39m    assignment.  See :py:class:`DMatrix` for details.\u001b[39;00m\n\u001b[0;32m   1983\u001b[0m \n\u001b[0;32m   1984\u001b[0m \u001b[39m    \"\"\"\u001b[39;00m\n\u001b[1;32m-> 1985\u001b[0m     \u001b[39mreturn\u001b[39;00m \u001b[39mself\u001b[39;49m\u001b[39m.\u001b[39;49m_get_feature_info(\u001b[39m\"\u001b[39;49m\u001b[39mfeature_type\u001b[39;49m\u001b[39m\"\u001b[39;49m)\n",
      "File \u001b[1;32mc:\\Users\\loren\\anaconda3\\envs\\TensorFlow\\lib\\site-packages\\xgboost\\core.py:1947\u001b[0m, in \u001b[0;36mBooster._get_feature_info\u001b[1;34m(self, field)\u001b[0m\n\u001b[0;32m   1944\u001b[0m \u001b[39mif\u001b[39;00m \u001b[39mnot\u001b[39;00m \u001b[39mhasattr\u001b[39m(\u001b[39mself\u001b[39m, \u001b[39m\"\u001b[39m\u001b[39mhandle\u001b[39m\u001b[39m\"\u001b[39m) \u001b[39mor\u001b[39;00m \u001b[39mself\u001b[39m\u001b[39m.\u001b[39mhandle \u001b[39mis\u001b[39;00m \u001b[39mNone\u001b[39;00m:\n\u001b[0;32m   1945\u001b[0m     \u001b[39mreturn\u001b[39;00m \u001b[39mNone\u001b[39;00m\n\u001b[0;32m   1946\u001b[0m _check_call(\n\u001b[1;32m-> 1947\u001b[0m     _LIB\u001b[39m.\u001b[39;49mXGBoosterGetStrFeatureInfo(\n\u001b[0;32m   1948\u001b[0m         \u001b[39mself\u001b[39;49m\u001b[39m.\u001b[39;49mhandle,\n\u001b[0;32m   1949\u001b[0m         c_str(field),\n\u001b[0;32m   1950\u001b[0m         ctypes\u001b[39m.\u001b[39;49mbyref(length),\n\u001b[0;32m   1951\u001b[0m         ctypes\u001b[39m.\u001b[39;49mbyref(sarr),\n\u001b[0;32m   1952\u001b[0m     )\n\u001b[0;32m   1953\u001b[0m )\n\u001b[0;32m   1954\u001b[0m feature_info \u001b[39m=\u001b[39m from_cstr_to_pystr(sarr, length)\n\u001b[0;32m   1955\u001b[0m \u001b[39mreturn\u001b[39;00m feature_info \u001b[39mif\u001b[39;00m feature_info \u001b[39melse\u001b[39;00m \u001b[39mNone\u001b[39;00m\n",
      "\u001b[1;31mKeyboardInterrupt\u001b[0m: "
     ]
    }
   ],
   "source": [
    "booster_list = [\"gbtree\"]\n",
    "\n",
    "n_estimators_list  = [25, 50, 100, 150]\n",
    "\n",
    "eta_list = [0.1, 0.3, 0.7, 0.9]\n",
    "max_depth_list = [5, 10, 20, 30]\n",
    "\n",
    "lambda_list = [0.0, 1.0, 5.0]\n",
    "criterion_list  = [\"gini\", \"entropy\"]\n",
    "\n",
    "max_leaves_list   = [0, 1, 5]\n",
    "\n",
    "accuracy_vector = -100 + np.zeros((len(booster_list), len(n_estimators_list), len(eta_list), len(max_depth_list), \n",
    "                                   len(lambda_list), len(criterion_list), len(max_leaves_list) ))\n",
    "\n",
    "for i1 in range(len(booster_list)):\n",
    "    for i2 in range(len(n_estimators_list)):\n",
    "        for i3 in range(len(eta_list)):\n",
    "            for i4 in range(len(max_depth_list)):\n",
    "                for i5 in range(len(lambda_list)):\n",
    "                    for i6 in range(len(criterion_list)):\n",
    "                        for i7 in range(len(max_leaves_list)):\n",
    "\n",
    "                                clf = XGBClassifier(booster = booster_list[i1], \n",
    "                                                    n_estimators = n_estimators_list[i2], \n",
    "                                                    eta = eta_list[i3], \n",
    "                                                    max_depth = max_depth_list[i4], \n",
    "                                                    reg_lambda = lambda_list[i5], \n",
    "                                                    criterion = criterion_list[i6], \n",
    "                                                    max_leaves = max_leaves_list[i7],  \n",
    "                                                    random_state = 42)\n",
    "                                \n",
    "                                model = clf.fit(X_train, y_train)\n",
    "\n",
    "                                # Predict the labels for the test set\n",
    "                                y_pred = model.predict(X_test)\n",
    "\n",
    "                                # Calculate accuracy\n",
    "                                accuracy_vector[i1, i2, i3, i4, i5, i6, i7] = accuracy_score(y_test, y_pred)\n",
    "\n",
    "                                print(\"#####################\")\n",
    "                                print(\"booster \", booster_list[i1])\n",
    "                                print(\"n_estimators \", n_estimators_list[i2])\n",
    "                                print(\"eta \", eta_list[i3])\n",
    "                                print(\"max_depth \", max_depth_list[i4])\n",
    "                                print(\"lambda \", lambda_list[i5])\n",
    "                                print(\"criterion \", criterion_list[i6])\n",
    "                                print(\"max_leaves \", max_leaves_list[i7])\n",
    "                                print(accuracy_vector[i1, i2, i3, i4, i5, i6, i7])\n",
    "\n",
    "np.save(\"accuracy_XGB.npy\", accuracy_vector)"
   ]
  },
  {
   "cell_type": "code",
   "execution_count": null,
   "metadata": {},
   "outputs": [],
   "source": [
    "accuracy_vector_XGB = np.load(\"accuracy_XGB.npy\")\n",
    "max_index = np.unravel_index(np.argmax(accuracy_vector_XGB), accuracy_vector_XGB.shape)"
   ]
  },
  {
   "cell_type": "code",
   "execution_count": null,
   "metadata": {},
   "outputs": [
    {
     "name": "stderr",
     "output_type": "stream",
     "text": [
      "c:\\Users\\loren\\anaconda3\\envs\\TensorFlow\\lib\\site-packages\\xgboost\\core.py:160: UserWarning: [10:40:36] WARNING: C:\\buildkite-agent\\builds\\buildkite-windows-cpu-autoscaling-group-i-0b3782d1791676daf-1\\xgboost\\xgboost-ci-windows\\src\\learner.cc:742: \n",
      "Parameters: { \"criterion\" } are not used.\n",
      "\n",
      "  warnings.warn(smsg, UserWarning)\n"
     ]
    },
    {
     "data": {
      "text/plain": [
       "0.933058702368692"
      ]
     },
     "execution_count": 22,
     "metadata": {},
     "output_type": "execute_result"
    }
   ],
   "source": [
    "clf = XGBClassifier(booster = booster_list[max_index[0]], \n",
    "                    n_estimators = n_estimators_list[max_index[1]], \n",
    "                    eta = eta_list[max_index[2]], \n",
    "                    max_depth = max_depth_list[max_index[3]], \n",
    "                    reg_lambda = lambda_list[max_index[4]], \n",
    "                    criterion = criterion_list[max_index[5]], \n",
    "                    max_leaves = max_leaves_list[max_index[6]],  )\n",
    "\n",
    "model = clf.fit(X_train, y_train)\n",
    "\n",
    "# Predict the labels for the test set\n",
    "y_pred = model.predict(X_test)\n",
    "accuracy_score(y_test, y_pred)"
   ]
  },
  {
   "cell_type": "markdown",
   "metadata": {},
   "source": [
    "# ExtraTreesClassifier\t"
   ]
  },
  {
   "cell_type": "code",
   "execution_count": null,
   "metadata": {},
   "outputs": [],
   "source": [
    "from sklearn.ensemble import ExtraTreesClassifier"
   ]
  },
  {
   "cell_type": "code",
   "execution_count": null,
   "metadata": {},
   "outputs": [],
   "source": [
    "n_estimators_list  = [25, 50, 100, 150]\n",
    "\n",
    "min_samples_split_list = [1, 2, 5]\n",
    "max_depth_list = [5, 10, 20, 30]\n",
    "\n",
    "min_samples_leaf_list = [1, 2, 5]\n",
    "criterion_list  = [\"gini\", \"entropy\"]\n",
    "\n",
    "\n",
    "accuracy_vector_extra_tree = -100 + np.zeros((len(n_estimators_list), len(min_samples_split_list), len(max_depth_list), \n",
    "                                              len(min_samples_leaf_list), len(criterion_list) ))\n",
    "\n",
    "for i1 in range(len(n_estimators_list)):\n",
    "    for i2 in range(len(min_samples_split_list)):\n",
    "        for i3 in range(len(max_depth_list)):\n",
    "            for i4 in range(len(min_samples_leaf_list)):\n",
    "                for i5 in range(len(criterion_list)):\n",
    "\n",
    "                                clf = ExtraTreesClassifier( n_estimators = n_estimators_list[i1], \n",
    "                                                            min_samples_split = min_samples_split_list[i2], \n",
    "                                                            max_depth = max_depth_list[i3], \n",
    "                                                            min_samples_leaf = min_samples_leaf_list[i4], \n",
    "                                                            criterion = criterion_list[i5],  \n",
    "                                                            random_state = 42)\n",
    "                                \n",
    "                                model = clf.fit(X_train, y_train)\n",
    "\n",
    "                                # Predict the labels for the test set\n",
    "                                y_pred = model.predict(X_test)\n",
    "\n",
    "                                # Calculate accuracy\n",
    "                                accuracy_vector_extra_tree[i1, i2, i3, i4, i5] = accuracy_score(y_test, y_pred)\n",
    "\n",
    "                                print(\"#####################\")\n",
    "                                print(\"n_estimators\", n_estimators_list[i1])\n",
    "                                print(\"min_samples_split\", min_samples_split_list[i2])\n",
    "                                print(\"max_depth\", max_depth_list[i3])\n",
    "                                print(\"min_samples_leaf\", min_samples_leaf_list[i4])\n",
    "                                print(\"criterion\", criterion_list[i5])\n",
    "                                print(accuracy_vector_extra_tree[i1, i2, i3, i4, i5])\n",
    "\n",
    "np.save(\"accuracy_ExtraTree.npy\", accuracy_vector_extra_tree)"
   ]
  },
  {
   "cell_type": "code",
   "execution_count": null,
   "metadata": {},
   "outputs": [],
   "source": [
    "accuracy_vector_ExtraTree = np.load(\"accuracy_ExtraTree.npy\")\n",
    "max_index = np.unravel_index(np.argmax(accuracy_vector_ExtraTree), accuracy_vector_ExtraTree.shape)"
   ]
  },
  {
   "cell_type": "code",
   "execution_count": null,
   "metadata": {},
   "outputs": [
    {
     "data": {
      "text/plain": [
       "0.9433573635427395"
      ]
     },
     "execution_count": 26,
     "metadata": {},
     "output_type": "execute_result"
    }
   ],
   "source": [
    "clf = ExtraTreesClassifier( n_estimators = n_estimators_list[max_index[0]], \n",
    "                            min_samples_split = min_samples_split_list[max_index[1]], \n",
    "                            max_depth = max_depth_list[max_index[2]], \n",
    "                            min_samples_leaf = min_samples_leaf_list[max_index[3]], \n",
    "                            criterion = criterion_list[max_index[4]],  )\n",
    "\n",
    "model = clf.fit(X_train, y_train)\n",
    "\n",
    "# Predict the labels for the test set\n",
    "y_pred = model.predict(X_test)\n",
    "\n",
    "# Calculate accuracy\n",
    "accuracy_score(y_test, y_pred)"
   ]
  },
  {
   "cell_type": "code",
   "execution_count": null,
   "metadata": {},
   "outputs": [],
   "source": []
  },
  {
   "cell_type": "code",
   "execution_count": null,
   "metadata": {},
   "outputs": [],
   "source": []
  }
 ],
 "metadata": {
  "kernelspec": {
   "display_name": "TensorFlow",
   "language": "python",
   "name": "python3"
  },
  "language_info": {
   "codemirror_mode": {
    "name": "ipython",
    "version": 3
   },
   "file_extension": ".py",
   "mimetype": "text/x-python",
   "name": "python",
   "nbconvert_exporter": "python",
   "pygments_lexer": "ipython3",
   "version": "3.9.18"
  },
  "orig_nbformat": 4
 },
 "nbformat": 4,
 "nbformat_minor": 2
}
